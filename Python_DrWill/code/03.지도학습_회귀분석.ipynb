{
 "cells": [
  {
   "cell_type": "code",
   "execution_count": 2,
   "id": "63adc94c",
   "metadata": {},
   "outputs": [],
   "source": [
    "import matplotlib.pyplot as plt\n",
    "import numpy as np\n",
    "import pandas as pd\n",
    "from sklearn.linear_model import LinearRegression"
   ]
  },
  {
   "cell_type": "code",
   "execution_count": 4,
   "id": "8ae0ef41",
   "metadata": {},
   "outputs": [],
   "source": [
    "X = [8.70153760, 3.90825773, 1.89362433, 3.28730045, 7.39333004, 2.98984649, 2.25757240, 9.84450732, 9.94589513, 5.48321616]\n",
    "Y = [5.64413093, 3.75876583, 3.87233310, 4.40990425, 6.43845020, 4.02827829, 2.26105955, 7.15768995, 6.29097441, 5.19692852]\n"
   ]
  },
  {
   "cell_type": "code",
   "execution_count": 5,
   "id": "6fbc4a34",
   "metadata": {},
   "outputs": [
    {
     "name": "stdout",
     "output_type": "stream",
     "text": [
      "전 처리한 X 데이터: \n",
      "           X\n",
      "0  8.701538\n",
      "1  3.908258\n",
      "2  1.893624\n",
      "3  3.287300\n",
      "4  7.393330\n",
      "5  2.989846\n",
      "6  2.257572\n",
      "7  9.844507\n",
      "8  9.945895\n",
      "9  5.483216\n",
      "전 처리한 X 데이터 shape: (10, 1)\n",
      "\n",
      "전 처리한 Y 데이터: \n",
      " 0    5.644131\n",
      "1    3.758766\n",
      "2    3.872333\n",
      "3    4.409904\n",
      "4    6.438450\n",
      "5    4.028278\n",
      "6    2.261060\n",
      "7    7.157690\n",
      "8    6.290974\n",
      "9    5.196929\n",
      "dtype: float64\n",
      "전 처리한 Y 데이터 shape: (10,)\n"
     ]
    }
   ],
   "source": [
    "\"\"\"\n",
    "1. X의 형태를 변환하여 train_X에 저장합니다.\n",
    "\"\"\"\n",
    "train_X = pd.DataFrame(X, columns = ['X'])\n",
    "# train_X = None\n",
    "\n",
    "\"\"\"\n",
    "2. Y의 형태를 변환하여 train_Y에 저장합니다.\n",
    "\"\"\"\n",
    "train_Y = pd.Series(Y)\n",
    "# train_Y = None\n",
    "\n",
    "# 변환된 데이터를 출력합니다.\n",
    "print('전 처리한 X 데이터: \\n {}'.format(train_X))\n",
    "print('전 처리한 X 데이터 shape: {}\\n'.format(train_X.shape))\n",
    "\n",
    "print('전 처리한 Y 데이터: \\n {}'.format(train_Y))\n",
    "print('전 처리한 Y 데이터 shape: {}'.format(train_Y.shape))\n"
   ]
  },
  {
   "cell_type": "code",
   "execution_count": 6,
   "id": "2d51f4d9",
   "metadata": {},
   "outputs": [
    {
     "data": {
      "text/plain": [
       "LinearRegression()"
      ]
     },
     "execution_count": 6,
     "metadata": {},
     "output_type": "execute_result"
    }
   ],
   "source": [
    "# 모델 초기화\n",
    "\n",
    "lrmodel = LinearRegression()\n",
    "\n",
    "# train data, test data, train data로 학습\n",
    "\n",
    "lrmodel.fit(train_X,train_Y)"
   ]
  },
  {
   "cell_type": "code",
   "execution_count": 14,
   "id": "a83d118a",
   "metadata": {},
   "outputs": [
    {
     "data": {
      "image/png": "[encoded data removed]",
      "text/plain": [
       "<Figure size 432x288 with 1 Axes>"
      ]
     },
     "metadata": {
      "needs_background": "light"
     },
     "output_type": "display_data"
    }
   ],
   "source": [
    "# 학습한 결과 시각화\n",
    "plt.scatter(X,Y) # 산점도\n",
    "plt.plot([0,10],[lrmodel.intercept_, 10*lrmodel.coef_[0]+lrmodel.intercept_],c='r')\n",
    "plt.xlim(0,10)\n",
    "plt.xlim(0,10)\n",
    "plt.ylim(0,10)\n",
    "plt.title('train result')\n",
    "plt.savefig('traing.png')\n",
    "plt.show()"
   ]
  },
  {
   "cell_type": "code",
   "execution_count": 13,
   "id": "3674f899",
   "metadata": {},
   "outputs": [
    {
     "data": {
      "text/plain": [
       "array([0.43078118])"
      ]
     },
     "execution_count": 13,
     "metadata": {},
     "output_type": "execute_result"
    }
   ],
   "source": [
    "lrmodel.coef_ # 계수"
   ]
  },
  {
   "cell_type": "code",
   "execution_count": 12,
   "id": "a32ab06d",
   "metadata": {},
   "outputs": [
    {
     "data": {
      "text/plain": [
       "0.4307811787648282"
      ]
     },
     "execution_count": 12,
     "metadata": {},
     "output_type": "execute_result"
    }
   ],
   "source": [
    "lrmodel.coef_[0]"
   ]
  },
  {
   "cell_type": "code",
   "execution_count": 8,
   "id": "35721017",
   "metadata": {},
   "outputs": [
    {
     "data": {
      "text/plain": [
       "2.506181170893493"
      ]
     },
     "execution_count": 8,
     "metadata": {},
     "output_type": "execute_result"
    }
   ],
   "source": [
    "lrmodel.intercept_ # beta 값, 상수"
   ]
  },
  {
   "cell_type": "code",
   "execution_count": 15,
   "id": "f70745d9",
   "metadata": {},
   "outputs": [],
   "source": [
    "beta_0 = lrmodel.intercept_ # beta 값, 상수\n",
    "beta_1 = lrmodel.coef_[0]   # 계수값(weight 값)"
   ]
  },
  {
   "cell_type": "code",
   "execution_count": 17,
   "id": "0e2bf064",
   "metadata": {},
   "outputs": [
    {
     "name": "stdout",
     "output_type": "stream",
     "text": [
      "2.506181170893493\n",
      "0.4307811787648282\n"
     ]
    }
   ],
   "source": [
    "print(beta_0)\n",
    "print(beta_1)"
   ]
  },
  {
   "cell_type": "markdown",
   "id": "def58ace",
   "metadata": {},
   "source": [
    "단순선형회귀 예측"
   ]
  },
  {
   "cell_type": "code",
   "execution_count": 18,
   "id": "32090beb",
   "metadata": {},
   "outputs": [],
   "source": [
    "import matplotlib.pyplot as plt\n",
    "import pandas as pd\n",
    "import numpy as np\n",
    "from sklearn.linear_model import LinearRegression"
   ]
  },
  {
   "cell_type": "code",
   "execution_count": 19,
   "id": "e72021a1",
   "metadata": {},
   "outputs": [
    {
     "data": {
      "text/plain": [
       "LinearRegression()"
      ]
     },
     "execution_count": 19,
     "metadata": {},
     "output_type": "execute_result"
    }
   ],
   "source": [
    "X = [8.70153760, 3.90825773, 1.89362433, 3.28730045, 7.39333004, 2.98984649, 2.25757240, 9.84450732, 9.94589513, 5.48321616]\n",
    "Y = [5.64413093, 3.75876583, 3.87233310, 4.40990425, 6.43845020, 4.02827829, 2.26105955, 7.15768995, 6.29097441, 5.19692852]\n",
    "\n",
    "train_X = pd.DataFrame(X, columns=['X'])\n",
    "train_Y = pd.Series(Y)\n",
    "\n",
    "lrmodel = LinearRegression()\n",
    "lrmodel.fit(train_X, train_Y)"
   ]
  },
  {
   "cell_type": "code",
   "execution_count": 22,
   "id": "a219732e",
   "metadata": {},
   "outputs": [
    {
     "name": "stdout",
     "output_type": "stream",
     "text": [
      "train_X 예측값:\n",
      "[6.2546398  4.18978504 3.32191889 3.92228833 5.6910886  3.79415077\n",
      " 3.47870087 6.74700964 6.7906856  4.86824749]\n",
      "\n",
      "실제값:\n",
      "0    5.644131\n",
      "1    3.758766\n",
      "2    3.872333\n",
      "3    4.409904\n",
      "4    6.438450\n",
      "5    4.028278\n",
      "6    2.261060\n",
      "7    7.157690\n",
      "8    6.290974\n",
      "9    5.196929\n",
      "dtype: float64\n",
      "\n"
     ]
    }
   ],
   "source": [
    "# train_X의 예측\n",
    "pred_X = lrmodel.predict(train_X)\n",
    "\n",
    "print('train_X 예측값:')\n",
    "print(pred_X)\n",
    "print()\n",
    "print('실제값:\\n{}\\n'.format(train_Y))"
   ]
  },
  {
   "cell_type": "code",
   "execution_count": null,
   "id": "c412afa5",
   "metadata": {},
   "outputs": [],
   "source": []
  }
 ],
 "metadata": {
  "kernelspec": {
   "display_name": "Python 3 (ipykernel)",
   "language": "python",
   "name": "python3"
  },
  "language_info": {
   "codemirror_mode": {
    "name": "ipython",
    "version": 3
   },
   "file_extension": ".py",
   "mimetype": "text/x-python",
   "name": "python",
   "nbconvert_exporter": "python",
   "pygments_lexer": "ipython3",
   "version": "3.9.7"
  }
 },
 "nbformat": 4,
 "nbformat_minor": 5
}
