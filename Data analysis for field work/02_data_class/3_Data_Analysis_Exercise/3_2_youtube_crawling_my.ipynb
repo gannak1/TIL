{
 "cells": [
  {
   "cell_type": "code",
   "execution_count": 3,
   "id": "73db1314",
   "metadata": {},
   "outputs": [],
   "source": [
    "url = 'https://www.youtube-rank.com/board/bbs/board.php?bo_table=youtube'\n",
    "#['음악/댄스','가수명','구독자수','View  수','동영상수']"
   ]
  },
  {
   "cell_type": "code",
   "execution_count": 4,
   "id": "3fcadcb1",
   "metadata": {},
   "outputs": [],
   "source": [
    "from selenium import webdriver\n",
    "from selenium.webdriver.chrome.service import Service\n",
    "from bs4 import BeautifulSoup\n",
    "\n",
    "driver = webdriver.Chrome(service = Service('../chromedriver_win32/chromedriver.exe'))\n",
    "driver.get(url)\n"
   ]
  },
  {
   "cell_type": "code",
   "execution_count": 5,
   "id": "ab967cde",
   "metadata": {},
   "outputs": [],
   "source": [
    "soup = BeautifulSoup(driver.page_source,'html.parser')"
   ]
  },
  {
   "cell_type": "code",
   "execution_count": 6,
   "id": "08999f84",
   "metadata": {},
   "outputs": [
    {
     "name": "stdout",
     "output_type": "stream",
     "text": [
      "100\n"
     ]
    }
   ],
   "source": [
    "song = soup.select('tbody > tr.aos-init')\n",
    "print(len(song))"
   ]
  },
  {
   "cell_type": "code",
   "execution_count": 5,
   "id": "7f09713f",
   "metadata": {},
   "outputs": [],
   "source": [
    "rank = 1\n",
    "youtube = []\n",
    "for i in song:\n",
    "    view = i.select('td.view_cnt')[0].text # 뷰수\n",
    "    subscribe = i.select('td.subscriber_cnt')[0].text # 구독자수\n",
    "    video = i.select('td.video_cnt')[0].text # 비디오수\n",
    "    sort = i.select('td.subject > h1 > p.category')[0].text.split(' ')[0].strip('\\n') #구분 \n",
    "    name = i.select('td.subject > h1 > a')[0].text.split('\\t')[-8] # 채널명\n",
    "    youtube.append([rank,sort,name,subscribe,view,video])\n",
    "    rank += 1"
   ]
  },
  {
   "cell_type": "code",
   "execution_count": 6,
   "id": "9425ff0a",
   "metadata": {},
   "outputs": [
    {
     "data": {
      "text/plain": [
       "'HYBE LABELS'"
      ]
     },
     "execution_count": 6,
     "metadata": {},
     "output_type": "execute_result"
    }
   ],
   "source": [
    "soup.select('tbody > tr.aos-init > td.view_cnt')[0].text # 뷰수\n",
    "soup.select('tbody > tr.aos-init > td.subscriber_cnt')[0].text # 구독자수\n",
    "soup.select('tbody > tr.aos-init > td.video_cnt')[0].text # 비디오수\n",
    "soup.select('tbody > tr.aos-init > td.subject > h1 > p.category')[99].text.split(' ')[0].strip('\\n') #구분 \n",
    "soup.select('tbody > tr.aos-init > td.subject > h1 > a')[1].text.split('\\t')[-8] # 채널명"
   ]
  },
  {
   "cell_type": "code",
   "execution_count": 10,
   "id": "fe24dc34",
   "metadata": {},
   "outputs": [],
   "source": [
    "import pandas as pd\n",
    "import numpy as np"
   ]
  },
  {
   "cell_type": "code",
   "execution_count": 11,
   "id": "d6ee5e6d",
   "metadata": {},
   "outputs": [],
   "source": [
    "youtube_statistics = pd.DataFrame(youtube, columns = ['랭킹','구분','채널명','구독자수','View  수','동영상수'])"
   ]
  },
  {
   "cell_type": "code",
   "execution_count": 12,
   "id": "338a9a1b",
   "metadata": {},
   "outputs": [],
   "source": [
    "youtube_statistics.to_excel('./youtube_ranking.xlsx',index = False)"
   ]
  },
  {
   "cell_type": "code",
   "execution_count": 13,
   "id": "007f00ab",
   "metadata": {},
   "outputs": [],
   "source": [
    "import time"
   ]
  },
  {
   "cell_type": "code",
   "execution_count": 14,
   "id": "7472a76b",
   "metadata": {},
   "outputs": [],
   "source": [
    "rank = 1\n",
    "youtube = []\n",
    "for j in range(1,11):\n",
    "    url = 'https://www.youtube-rank.com/board/bbs/board.php?bo_table=youtube&page={}'.format(j)\n",
    "    driver.get(url)\n",
    "    soup = BeautifulSoup(driver.page_source,'html.parser')\n",
    "    song = soup.select('tbody > tr.aos-init')\n",
    "    for i in song:\n",
    "        view = i.select('td.view_cnt')[0].text # 뷰수\n",
    "        subscribe = i.select('td.subscriber_cnt')[0].text # 구독자수\n",
    "        video = i.select('td.video_cnt')[0].text # 비디오수\n",
    "        sort = i.select('td.subject > h1 > p.category')[0].text.split(' ')[0].strip('\\n') #구분 \n",
    "        name = i.select('td.subject > h1 > a')[0].text.split('\\t')[-8] # 채널명\n",
    "        youtube.append([rank,sort,name,subscribe,view,video])\n",
    "        rank += 1\n",
    "        time.sleep(2)\n",
    "youtube_statistics = pd.DataFrame(youtube, columns = ['랭킹','구분','채널명','구독자수','View  수','동영상수'])\n",
    "youtube_statistics.to_excel('./youtube_ranking.xlsx',index = False)"
   ]
  },
  {
   "cell_type": "code",
   "execution_count": 13,
   "id": "650222c1",
   "metadata": {},
   "outputs": [],
   "source": [
    "def youtube_ranking_scribe(i,filename):\n",
    "    for i in range(1,i+1):\n",
    "    url = 'https://www.youtube-rank.com/board/bbs/board.php?bo_table=youtube&page={}'.format(i)\n",
    "    driver.get(url)\n",
    "    soup = BeautifulSoup(driver.page_source,'html.parser')\n",
    "    song = soup.select('tbody > tr.aos-init')\n",
    "    for i in song:\n",
    "        view = i.select('td.view_cnt')[0].text # 뷰수\n",
    "        subscribe = i.select('td.subscriber_cnt')[0].text # 구독자수\n",
    "        video = i.select('td.video_cnt')[0].text # 비디오수\n",
    "        sort = i.select('td.subject > h1 > p.category')[0].text.split(' ')[0].strip('\\n') #구분 \n",
    "        name = i.select('td.subject > h1 > a')[0].text.split('\\t')[-8] # 채널명\n",
    "        youtube.append([rank,sort,name,subscribe,view,video])\n",
    "        rank += 1\n",
    "        time.sleep(3) # 실시간일때는 \n",
    "    youtube_statistics = pd.DataFrame(youtube, columns = ['랭킹','구분','채널명','구독자수','View  수','동영상수'])\n",
    "    youtube_statistics.to_excel('./{filename}.xlsx',index = False)\n",
    "    print()"
   ]
  },
  {
   "cell_type": "code",
   "execution_count": 8,
   "id": "d20f65aa",
   "metadata": {},
   "outputs": [],
   "source": [
    "\n",
    "for j in range(1,11):\n",
    "    url = 'https://www.youtube-rank.com/board/bbs/board.php?bo_table=youtube&page={}'.format(j)\n",
    "    driver.get(url)"
   ]
  },
  {
   "cell_type": "code",
   "execution_count": null,
   "id": "640a26d1",
   "metadata": {},
   "outputs": [],
   "source": [
    "print(5)\n",
    "time.sleep(1)\n",
    "print(2)"
   ]
  },
  {
   "cell_type": "code",
   "execution_count": null,
   "id": "3a726e2e",
   "metadata": {},
   "outputs": [],
   "source": [
    "%%time  # 너무 많은 데이터가 들어오면 데이터가 적용되기 전에 코드가 실행되는 경우가 있음"
   ]
  }
 ],
 "metadata": {
  "kernelspec": {
   "display_name": "Python 3 (ipykernel)",
   "language": "python",
   "name": "python3"
  },
  "language_info": {
   "codemirror_mode": {
    "name": "ipython",
    "version": 3
   },
   "file_extension": ".py",
   "mimetype": "text/x-python",
   "name": "python",
   "nbconvert_exporter": "python",
   "pygments_lexer": "ipython3",
   "version": "3.9.7"
  }
 },
 "nbformat": 4,
 "nbformat_minor": 5
}
