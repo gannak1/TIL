{
 "cells": [
  {
   "cell_type": "code",
   "execution_count": 2,
   "id": "4da2e71d",
   "metadata": {},
   "outputs": [],
   "source": [
    "import pandas as pd\n",
    "import numpy as np\n",
    "from selenium import webdriver\n",
    "from selenium.webdriver.chrome.service import Service\n",
    "from bs4 import BeautifulSoup\n",
    "import time\n",
    "driver = webdriver.Chrome(service = Service('../chromedriver_win32/chromedriver.exe'))\n"
   ]
  },
  {
   "cell_type": "code",
   "execution_count": 3,
   "id": "9be9e1be",
   "metadata": {},
   "outputs": [],
   "source": [
    "url = 'https://www.instagram.com/'\n",
    "driver.get(url)"
   ]
  },
  {
   "cell_type": "code",
   "execution_count": 5,
   "id": "7799dfef",
   "metadata": {},
   "outputs": [],
   "source": [
    "def insta_search(word):\n",
    "    url = 'https://www.instagram.com/explore/tags/' + word\n",
    "    return url\n",
    "driver.get(insta_search('제주도맛집'))"
   ]
  },
  {
   "cell_type": "code",
   "execution_count": 9,
   "id": "895fa8db",
   "metadata": {},
   "outputs": [],
   "source": [
    "from selenium.webdriver.common.by import By\n",
    "def select_first(driver):\n",
    "    first = driver.find_element(By.CSS_SELECTOR,'div._9AhH0')\n",
    "    first.click()\n",
    "    time.sleep(3)\n",
    "    \n",
    "select_first(driver)"
   ]
  },
  {
   "cell_type": "code",
   "execution_count": 15,
   "id": "71def1a8",
   "metadata": {},
   "outputs": [],
   "source": [
    "driver.get((insta_search('시츄')))\n",
    "time.sleep(5)\n",
    "select_first(driver)"
   ]
  },
  {
   "cell_type": "code",
   "execution_count": 17,
   "id": "2ef7d7ea",
   "metadata": {},
   "outputs": [],
   "source": [
    "soup = BeautifulSoup(driver.page_source,'html.parser')"
   ]
  },
  {
   "cell_type": "code",
   "execution_count": null,
   "id": "0b340a38",
   "metadata": {},
   "outputs": [],
   "source": [
    "mport unicodedata\n",
    "\n",
    "con"
   ]
  }
 ],
 "metadata": {
  "kernelspec": {
   "display_name": "Python 3 (ipykernel)",
   "language": "python",
   "name": "python3"
  },
  "language_info": {
   "codemirror_mode": {
    "name": "ipython",
    "version": 3
   },
   "file_extension": ".py",
   "mimetype": "text/x-python",
   "name": "python",
   "nbconvert_exporter": "python",
   "pygments_lexer": "ipython3",
   "version": "3.9.7"
  }
 },
 "nbformat": 4,
 "nbformat_minor": 5
}
