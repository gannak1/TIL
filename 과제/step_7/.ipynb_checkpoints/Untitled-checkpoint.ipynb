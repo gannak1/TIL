{
 "cells": [
  {
   "cell_type": "code",
   "execution_count": null,
   "id": "a55362e7",
   "metadata": {},
   "outputs": [],
   "source": [
    "def get_plus(a,b):\n",
    "    return a+b\n",
    "def get_minus(a,b):\n",
    "    return a-b\n",
    "def get_mulitply(a,b):\n",
    "    return a*b\n",
    "def get_division(a,b):\n",
    "    if b!= 0\n",
    "    return a/b\n",
    "    else:\n",
    "        return 'zero division error'"
   ]
  }
 ],
 "metadata": {
  "kernelspec": {
   "display_name": "Python 3 (ipykernel)",
   "language": "python",
   "name": "python3"
  },
  "language_info": {
   "codemirror_mode": {
    "name": "ipython",
    "version": 3
   },
   "file_extension": ".py",
   "mimetype": "text/x-python",
   "name": "python",
   "nbconvert_exporter": "python",
   "pygments_lexer": "ipython3",
   "version": "3.9.7"
  }
 },
 "nbformat": 4,
 "nbformat_minor": 5
}
