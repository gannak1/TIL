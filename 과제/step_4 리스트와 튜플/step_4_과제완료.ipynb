{
 "cells": [
  {
   "cell_type": "markdown",
   "id": "46ca9188",
   "metadata": {},
   "source": [
    "리스트, 튜플 만들기   \\\n",
    "리스트 만들기"
   ]
  },
  {
   "cell_type": "code",
   "execution_count": 1,
   "id": "7e26d3bf",
   "metadata": {},
   "outputs": [
    {
     "data": {
      "text/plain": [
       "[]"
      ]
     },
     "execution_count": 1,
     "metadata": {},
     "output_type": "execute_result"
    }
   ],
   "source": [
    "# []를 사용하여 빈 리스트 만들기\n",
    "l1 = []\n",
    "l1"
   ]
  },
  {
   "cell_type": "code",
   "execution_count": 2,
   "id": "969c9ae6",
   "metadata": {},
   "outputs": [
    {
     "data": {
      "text/plain": [
       "[]"
      ]
     },
     "execution_count": 2,
     "metadata": {},
     "output_type": "execute_result"
    }
   ],
   "source": [
    "# list() 함수를 사용하여 빈 리스트 만들기\n",
    "l2 = list()\n",
    "l2"
   ]
  },
  {
   "cell_type": "code",
   "execution_count": 3,
   "id": "e62be977",
   "metadata": {},
   "outputs": [
    {
     "data": {
      "text/plain": [
       "[1, 3, 5, 7, 9]"
      ]
     },
     "execution_count": 3,
     "metadata": {},
     "output_type": "execute_result"
    }
   ],
   "source": [
    "# []를 사용하여 초기값이 있는 리스트 만들기\n",
    "l3 = [1,3,5,7,9]\n",
    "l3"
   ]
  },
  {
   "cell_type": "code",
   "execution_count": 5,
   "id": "95492e79",
   "metadata": {},
   "outputs": [
    {
     "data": {
      "text/plain": [
       "[1, 6, 11, 16, 21, 26, 31, 36, 41, 46, 51, 56, 61, 66, 71, 76, 81, 86, 91, 96]"
      ]
     },
     "execution_count": 5,
     "metadata": {},
     "output_type": "execute_result"
    }
   ],
   "source": [
    "# list() 함수를 사용하여 초기값이 있는 리스트 만들기(규칙이 있는 정수값의 나열)\n",
    "l4 = list(range(1,100,5))\n",
    "l4"
   ]
  },
  {
   "cell_type": "code",
   "execution_count": 6,
   "id": "d41e94d4",
   "metadata": {},
   "outputs": [
    {
     "data": {
      "text/plain": [
       "()"
      ]
     },
     "execution_count": 6,
     "metadata": {},
     "output_type": "execute_result"
    }
   ],
   "source": [
    "# ( )를 사용하여 빈 튜플 만들기\n",
    "t1 = ()\n",
    "t1"
   ]
  },
  {
   "cell_type": "code",
   "execution_count": 7,
   "id": "e3fe798a",
   "metadata": {},
   "outputs": [
    {
     "data": {
      "text/plain": [
       "()"
      ]
     },
     "execution_count": 7,
     "metadata": {},
     "output_type": "execute_result"
    }
   ],
   "source": [
    "# tuple() 함수를 사용하여 빈 튜플 만들기\n",
    "t2 = tuple()\n",
    "t2"
   ]
  },
  {
   "cell_type": "code",
   "execution_count": 8,
   "id": "91124194",
   "metadata": {},
   "outputs": [
    {
     "data": {
      "text/plain": [
       "(1, 3, 5, 7, 9)"
      ]
     },
     "execution_count": 8,
     "metadata": {},
     "output_type": "execute_result"
    }
   ],
   "source": [
    "# ( )에 초기값 지정하여 튜플 만들기\n",
    "t3 = (1,3,5,7,9)\n",
    "t3"
   ]
  },
  {
   "cell_type": "code",
   "execution_count": 10,
   "id": "28ebed9a",
   "metadata": {},
   "outputs": [
    {
     "data": {
      "text/plain": [
       "(4, 36, 68, 100, 132, 164, 196)"
      ]
     },
     "execution_count": 10,
     "metadata": {},
     "output_type": "execute_result"
    }
   ],
   "source": [
    "# tuple() 함수를 사용하여 초기값이 있는 튜플 만들기(규칙이 있는 정수값의 나열)\n",
    "t4 = tuple(range(4,200,32))\n",
    "t4"
   ]
  },
  {
   "cell_type": "code",
   "execution_count": 11,
   "id": "8e2a99f5",
   "metadata": {},
   "outputs": [
    {
     "data": {
      "text/plain": [
       "(1, 3, 5, 7, 9)"
      ]
     },
     "execution_count": 11,
     "metadata": {},
     "output_type": "execute_result"
    }
   ],
   "source": [
    "# 튜플을 만들 때 괄호()를 생략할 수 있다.\n",
    "t5 = 1,3,5,7,9\n",
    "t5"
   ]
  },
  {
   "cell_type": "code",
   "execution_count": 12,
   "id": "3814859e",
   "metadata": {},
   "outputs": [
    {
     "data": {
      "text/plain": [
       "tuple"
      ]
     },
     "execution_count": 12,
     "metadata": {},
     "output_type": "execute_result"
    }
   ],
   "source": [
    "# 항목이 1개일 때는 ,를 붙인다.\n",
    "t6 = (1,)\n",
    "type(t6)"
   ]
  },
  {
   "cell_type": "code",
   "execution_count": 13,
   "id": "4c6ed960",
   "metadata": {},
   "outputs": [
    {
     "data": {
      "text/plain": [
       "(1,)"
      ]
     },
     "execution_count": 13,
     "metadata": {},
     "output_type": "execute_result"
    }
   ],
   "source": [
    "t7 = 1,\n",
    "t7"
   ]
  },
  {
   "cell_type": "markdown",
   "id": "78901118",
   "metadata": {},
   "source": [
    "## 리스트, 튜플의 자료형\n",
    "- 모든 자료형이 혼합되어 들어갈 수 있다."
   ]
  },
  {
   "cell_type": "code",
   "execution_count": 14,
   "id": "b99725eb",
   "metadata": {},
   "outputs": [
    {
     "data": {
      "text/plain": [
       "['amy', 20, 165.5, ['독서', '코딩']]"
      ]
     },
     "execution_count": 14,
     "metadata": {},
     "output_type": "execute_result"
    }
   ],
   "source": [
    "myinfo = ['amy',20,165.5, ['독서','코딩']]\n",
    "myinfo"
   ]
  },
  {
   "cell_type": "code",
   "execution_count": 15,
   "id": "3c56c055",
   "metadata": {},
   "outputs": [
    {
     "data": {
      "text/plain": [
       "('amy', 20, 165.5, ['독서', '코딩'])"
      ]
     },
     "execution_count": 15,
     "metadata": {},
     "output_type": "execute_result"
    }
   ],
   "source": [
    "myinfo = ('amy',20,165.5, ['독서','코딩'])\n",
    "myinfo"
   ]
  },
  {
   "cell_type": "markdown",
   "id": "8bb1eb9a",
   "metadata": {},
   "source": [
    "## 리스트, 튜플 연결하기"
   ]
  },
  {
   "cell_type": "code",
   "execution_count": 17,
   "id": "26d6a6aa",
   "metadata": {},
   "outputs": [
    {
     "data": {
      "text/plain": [
       "['사과', '딸기', '포도', '포도', '수박']"
      ]
     },
     "execution_count": 17,
     "metadata": {},
     "output_type": "execute_result"
    }
   ],
   "source": [
    "l1 = ['사과','딸기','포도']\n",
    "l2 = ['포도','수박']\n",
    "l1 + l2"
   ]
  },
  {
   "cell_type": "code",
   "execution_count": 18,
   "id": "0402b1dc",
   "metadata": {},
   "outputs": [
    {
     "data": {
      "text/plain": [
       "('빨', '주', '노', '초', '파', '남', '보')"
      ]
     },
     "execution_count": 18,
     "metadata": {},
     "output_type": "execute_result"
    }
   ],
   "source": [
    "t1 = ('빨','주')\n",
    "t2 = ('노','초','파','남','보')\n",
    "t1 + t2"
   ]
  },
  {
   "cell_type": "markdown",
   "id": "f9ff89ba",
   "metadata": {},
   "source": [
    "## 리스트, 튜플 반복하기"
   ]
  },
  {
   "cell_type": "code",
   "execution_count": 19,
   "id": "6ea76674",
   "metadata": {},
   "outputs": [
    {
     "data": {
      "text/plain": [
       "['먹고', '자고', '먹고', '자고', '먹고', '자고']"
      ]
     },
     "execution_count": 19,
     "metadata": {},
     "output_type": "execute_result"
    }
   ],
   "source": [
    "l = ['먹고','자고']\n",
    "l * 3"
   ]
  },
  {
   "cell_type": "code",
   "execution_count": 22,
   "id": "a1eb43fe",
   "metadata": {},
   "outputs": [
    {
     "data": {
      "text/plain": [
       "('놀고', '먹고', '자고', '놀고', '먹고', '자고', '놀고', '먹고', '자고')"
      ]
     },
     "execution_count": 22,
     "metadata": {},
     "output_type": "execute_result"
    }
   ],
   "source": [
    "t = ('놀고','먹고','자고')\n",
    "t * 3"
   ]
  },
  {
   "cell_type": "markdown",
   "id": "e1523f7e",
   "metadata": {},
   "source": [
    "## 리스트, 튜플에 값 존재여부 확인\n",
    "- 멤버연산자 : in, not in"
   ]
  },
  {
   "cell_type": "code",
   "execution_count": 24,
   "id": "5a5aee6e",
   "metadata": {},
   "outputs": [
    {
     "name": "stdout",
     "output_type": "stream",
     "text": [
      "True\n",
      "False\n",
      "False\n",
      "True\n"
     ]
    }
   ],
   "source": [
    "l = [1,2,3,4,5]\n",
    "print(5 in l)\n",
    "print(10 in l)\n",
    "\n",
    "print(5 not in l)\n",
    "print(10 not in l)"
   ]
  },
  {
   "cell_type": "code",
   "execution_count": 25,
   "id": "17bd9447",
   "metadata": {},
   "outputs": [
    {
     "name": "stdout",
     "output_type": "stream",
     "text": [
      "True\n",
      "False\n",
      "False\n",
      "True\n"
     ]
    }
   ],
   "source": [
    "t = (1,2,3,4,5)\n",
    "print(5 in t)\n",
    "print(10 in t)\n",
    "\n",
    "print(5 not in t)\n",
    "print(10 not in t)"
   ]
  },
  {
   "cell_type": "markdown",
   "id": "53996d98",
   "metadata": {},
   "source": [
    "## 리스트, 튜플 항목의 갯수 구하기\n",
    "- len(리스트명)\n",
    "- len(튜플명)"
   ]
  },
  {
   "cell_type": "code",
   "execution_count": 28,
   "id": "ec9107f7",
   "metadata": {},
   "outputs": [
    {
     "data": {
      "text/plain": [
       "14"
      ]
     },
     "execution_count": 28,
     "metadata": {},
     "output_type": "execute_result"
    }
   ],
   "source": [
    "l = [1,3,2,4,3,5,7,8,77.7,88.8,'a','b','c',[10,20,30]]\n",
    "len(l)"
   ]
  },
  {
   "cell_type": "code",
   "execution_count": 29,
   "id": "cf137e01",
   "metadata": {},
   "outputs": [
    {
     "data": {
      "text/plain": [
       "2"
      ]
     },
     "execution_count": 29,
     "metadata": {},
     "output_type": "execute_result"
    }
   ],
   "source": [
    "t = ((1,2),[3,4])\n",
    "len(t)"
   ]
  },
  {
   "cell_type": "markdown",
   "id": "181c021f",
   "metadata": {},
   "source": [
    "## 인덱싱\n",
    "- 인덱스로 리스트, 튜플 항목 추출하기\n",
    "\n",
    "## 리스트 인덱싱\n",
    "- 리스트명[인덱스]"
   ]
  },
  {
   "cell_type": "code",
   "execution_count": 30,
   "id": "271b6f4d",
   "metadata": {},
   "outputs": [],
   "source": [
    "l1 = ['축구','농구','배구','야구','족구','발야구','피구']"
   ]
  },
  {
   "cell_type": "code",
   "execution_count": 31,
   "id": "52e0d34b",
   "metadata": {},
   "outputs": [
    {
     "data": {
      "text/plain": [
       "7"
      ]
     },
     "execution_count": 31,
     "metadata": {},
     "output_type": "execute_result"
    }
   ],
   "source": [
    "# l1 항목수\n",
    "len(l1)"
   ]
  },
  {
   "cell_type": "code",
   "execution_count": 32,
   "id": "e0c179c4",
   "metadata": {},
   "outputs": [
    {
     "name": "stdout",
     "output_type": "stream",
     "text": [
      "축구\n",
      "축구\n"
     ]
    }
   ],
   "source": [
    "# '축구' \n",
    "print(l1[0])\n",
    "print(l1[-7])"
   ]
  },
  {
   "cell_type": "code",
   "execution_count": 33,
   "id": "cbda8e73",
   "metadata": {},
   "outputs": [
    {
     "name": "stdout",
     "output_type": "stream",
     "text": [
      "배구\n",
      "배구\n"
     ]
    }
   ],
   "source": [
    "# '배구' \n",
    "print(l1[2])\n",
    "print(l1[-5])"
   ]
  },
  {
   "cell_type": "code",
   "execution_count": 34,
   "id": "c7a50a18",
   "metadata": {},
   "outputs": [
    {
     "name": "stdout",
     "output_type": "stream",
     "text": [
      "피구\n",
      "피구\n"
     ]
    }
   ],
   "source": [
    "# '피구'\n",
    "print(l1[6])\n",
    "print(l1[-1])"
   ]
  },
  {
   "cell_type": "markdown",
   "id": "2c34fb34",
   "metadata": {},
   "source": [
    "## 튜플 인덱싱\n",
    "- 튜플명[인덱스]"
   ]
  },
  {
   "cell_type": "code",
   "execution_count": 36,
   "id": "45719137",
   "metadata": {},
   "outputs": [],
   "source": [
    "t1 = ('스키','보드','스케이트','스케이트보드','수상스키','웨이크보드')"
   ]
  },
  {
   "cell_type": "code",
   "execution_count": 37,
   "id": "ab6e3473",
   "metadata": {},
   "outputs": [
    {
     "data": {
      "text/plain": [
       "6"
      ]
     },
     "execution_count": 37,
     "metadata": {},
     "output_type": "execute_result"
    }
   ],
   "source": [
    "# t1 항목수\n",
    "len(t1)"
   ]
  },
  {
   "cell_type": "code",
   "execution_count": 38,
   "id": "07b5ba58",
   "metadata": {},
   "outputs": [
    {
     "name": "stdout",
     "output_type": "stream",
     "text": [
      "스키\n",
      "스키\n"
     ]
    }
   ],
   "source": [
    "# '스키'\n",
    "print(t1[0])\n",
    "print(t1[-6])"
   ]
  },
  {
   "cell_type": "code",
   "execution_count": 39,
   "id": "03f303d0",
   "metadata": {},
   "outputs": [
    {
     "name": "stdout",
     "output_type": "stream",
     "text": [
      "웨이크보드\n",
      "웨이크보드\n"
     ]
    }
   ],
   "source": [
    "# '웨이크보드'\n",
    "print(t1[5])\n",
    "print(t1[-1])"
   ]
  },
  {
   "cell_type": "markdown",
   "id": "a06fef93",
   "metadata": {},
   "source": [
    "중첩리스트 인덱싱"
   ]
  },
  {
   "cell_type": "code",
   "execution_count": 40,
   "id": "e94cae81",
   "metadata": {},
   "outputs": [
    {
     "data": {
      "text/plain": [
       "'수박'"
      ]
     },
     "execution_count": 40,
     "metadata": {},
     "output_type": "execute_result"
    }
   ],
   "source": [
    "# 아래 리스트 l에서 '수박' 인덱싱하여 가져오기\n",
    "l2 = ['사과','오렌지','포도',['수박','바나나']]\n",
    "l2[3][0]"
   ]
  },
  {
   "cell_type": "code",
   "execution_count": 42,
   "id": "a9292221",
   "metadata": {},
   "outputs": [
    {
     "data": {
      "text/plain": [
       "'Life'"
      ]
     },
     "execution_count": 42,
     "metadata": {},
     "output_type": "execute_result"
    }
   ],
   "source": [
    "# 아래 튜플 t에서 'Life' 인덱싱하여 가져오기\n",
    "t2 = (1,2,('a','b',('Life','is')))\n",
    "t2[2][2][0]"
   ]
  },
  {
   "cell_type": "markdown",
   "id": "6144b4fa",
   "metadata": {},
   "source": [
    "## 슬라이싱\n",
    "- 리스트명[시작인덱스:끝인덱스:간격]\n",
    "- 튜플명[시작인덱스:끝인덱스:간격]"
   ]
  },
  {
   "cell_type": "code",
   "execution_count": 43,
   "id": "a2acc117",
   "metadata": {},
   "outputs": [],
   "source": [
    "l1 = ['축구','농구','배구','야구','족구','발야구','피구'] "
   ]
  },
  {
   "cell_type": "code",
   "execution_count": 44,
   "id": "348c278d",
   "metadata": {},
   "outputs": [
    {
     "data": {
      "text/plain": [
       "['농구', '배구']"
      ]
     },
     "execution_count": 44,
     "metadata": {},
     "output_type": "execute_result"
    }
   ],
   "source": [
    "# ['농구','배구']\n",
    "l1[1:3]"
   ]
  },
  {
   "cell_type": "code",
   "execution_count": 45,
   "id": "de8eb358",
   "metadata": {},
   "outputs": [
    {
     "name": "stdout",
     "output_type": "stream",
     "text": [
      "['축구', '농구', '배구']\n",
      "['축구', '농구', '배구']\n"
     ]
    }
   ],
   "source": [
    "# ['축구','농구','배구']\n",
    "print(l1[0:3])\n",
    "print(l1[:3])"
   ]
  },
  {
   "cell_type": "code",
   "execution_count": 46,
   "id": "8ca4c356",
   "metadata": {},
   "outputs": [
    {
     "data": {
      "text/plain": [
       "['족구', '발야구']"
      ]
     },
     "execution_count": 46,
     "metadata": {},
     "output_type": "execute_result"
    }
   ],
   "source": [
    "# ['족구','발야구']\n",
    "l1[-3:-1]"
   ]
  },
  {
   "cell_type": "code",
   "execution_count": 47,
   "id": "d68f229c",
   "metadata": {},
   "outputs": [
    {
     "data": {
      "text/plain": [
       "['족구', '발야구', '피구']"
      ]
     },
     "execution_count": 47,
     "metadata": {},
     "output_type": "execute_result"
    }
   ],
   "source": [
    "# ['족구','발야구','피구']\n",
    "l1[-3:]"
   ]
  },
  {
   "cell_type": "code",
   "execution_count": 48,
   "id": "59ceae0e",
   "metadata": {},
   "outputs": [
    {
     "data": {
      "text/plain": [
       "['축구', '농구', '배구', '야구', '족구', '발야구', '피구']"
      ]
     },
     "execution_count": 48,
     "metadata": {},
     "output_type": "execute_result"
    }
   ],
   "source": [
    "# 모든 항목\n",
    "l1[:]"
   ]
  },
  {
   "cell_type": "code",
   "execution_count": 49,
   "id": "c84632c1",
   "metadata": {},
   "outputs": [
    {
     "data": {
      "text/plain": [
       "['피구', '발야구', '족구', '야구', '배구', '농구', '축구']"
      ]
     },
     "execution_count": 49,
     "metadata": {},
     "output_type": "execute_result"
    }
   ],
   "source": [
    "# 모든 항목 역순으로\n",
    "l1[::-1]  # 뒤에서 -1씩 가니깐 "
   ]
  },
  {
   "cell_type": "code",
   "execution_count": 50,
   "id": "26afe825",
   "metadata": {},
   "outputs": [
    {
     "data": {
      "text/plain": [
       "['발야구', '족구', '야구']"
      ]
     },
     "execution_count": 50,
     "metadata": {},
     "output_type": "execute_result"
    }
   ],
   "source": [
    "# ['발야구','족구','야구']\n",
    "l1[-2:-5:-1]"
   ]
  },
  {
   "cell_type": "code",
   "execution_count": 51,
   "id": "881c0163",
   "metadata": {},
   "outputs": [
    {
     "data": {
      "text/plain": [
       "[1, 3, 5, 7, 9, 11, 13, 15, 17, 19]"
      ]
     },
     "execution_count": 51,
     "metadata": {},
     "output_type": "execute_result"
    }
   ],
   "source": [
    "# 아래 리스트 l3에서 홀수만 슬라이싱하기\n",
    "l3 = list(range(1,21))\n",
    "l3[::2]"
   ]
  },
  {
   "cell_type": "markdown",
   "id": "faed09e8",
   "metadata": {},
   "source": [
    "## 항목의 인덱스 찾기\n",
    "- 리스트명.index(항목)\n",
    "- 튜플명.index(항목)"
   ]
  },
  {
   "cell_type": "code",
   "execution_count": 52,
   "id": "e7e148ca",
   "metadata": {},
   "outputs": [],
   "source": [
    "t1 = ('스키','보드','스케이트','스케이트보드','수상스키','웨이크보드')"
   ]
  },
  {
   "cell_type": "code",
   "execution_count": 53,
   "id": "3357a33d",
   "metadata": {},
   "outputs": [
    {
     "data": {
      "text/plain": [
       "2"
      ]
     },
     "execution_count": 53,
     "metadata": {},
     "output_type": "execute_result"
    }
   ],
   "source": [
    "# '스케이트'의 인덱스 찾기\n",
    "t1.index('스케이트')"
   ]
  },
  {
   "cell_type": "code",
   "execution_count": 56,
   "id": "03c825f4",
   "metadata": {},
   "outputs": [
    {
     "ename": "ValueError",
     "evalue": "tuple.index(x): x not in tuple",
     "output_type": "error",
     "traceback": [
      "\u001b[1;31m---------------------------------------------------------------------------\u001b[0m",
      "\u001b[1;31mValueError\u001b[0m                                Traceback (most recent call last)",
      "\u001b[1;32m~\\AppData\\Local\\Temp/ipykernel_22456/344476923.py\u001b[0m in \u001b[0;36m<module>\u001b[1;34m\u001b[0m\n\u001b[0;32m      1\u001b[0m \u001b[1;31m# '오토바이'의 인덱스 찾기\u001b[0m\u001b[1;33m\u001b[0m\u001b[1;33m\u001b[0m\u001b[0m\n\u001b[1;32m----> 2\u001b[1;33m \u001b[0mt1\u001b[0m\u001b[1;33m.\u001b[0m\u001b[0mindex\u001b[0m\u001b[1;33m(\u001b[0m\u001b[1;34m'오토바이'\u001b[0m\u001b[1;33m)\u001b[0m\u001b[1;33m\u001b[0m\u001b[1;33m\u001b[0m\u001b[0m\n\u001b[0m",
      "\u001b[1;31mValueError\u001b[0m: tuple.index(x): x not in tuple"
     ]
    }
   ],
   "source": [
    "# '오토바이'의 인덱스 찾기\n",
    "t1.index('오토바이')"
   ]
  },
  {
   "cell_type": "code",
   "execution_count": 57,
   "id": "b8f983b7",
   "metadata": {},
   "outputs": [
    {
     "name": "stdout",
     "output_type": "stream",
     "text": [
      "존재하지 않음\n"
     ]
    }
   ],
   "source": [
    "if '오토바이' in t1:\n",
    "    print(t1.index('오토바이'))\n",
    "else:\n",
    "    print('존재하지 않음')"
   ]
  },
  {
   "cell_type": "markdown",
   "id": "2aacf732",
   "metadata": {},
   "source": [
    "## 리스트에 항목 추가하기\n",
    "- 리스트 끝에 항목 추가하기\n",
    "- 리스트명.append(항목)"
   ]
  },
  {
   "cell_type": "code",
   "execution_count": 58,
   "id": "63465dd6",
   "metadata": {},
   "outputs": [],
   "source": [
    "todolist = ['양치','물마시기']"
   ]
  },
  {
   "cell_type": "code",
   "execution_count": 59,
   "id": "fa383919",
   "metadata": {},
   "outputs": [],
   "source": [
    "# '아침운동' 항목 추가하기\n",
    "todolist.append('아침운동')"
   ]
  },
  {
   "cell_type": "code",
   "execution_count": 60,
   "id": "59294ce8",
   "metadata": {},
   "outputs": [
    {
     "data": {
      "text/plain": [
       "['양치', '물마시기', '아침운동']"
      ]
     },
     "execution_count": 60,
     "metadata": {},
     "output_type": "execute_result"
    }
   ],
   "source": [
    "todolist"
   ]
  },
  {
   "cell_type": "markdown",
   "id": "d93d76f9",
   "metadata": {},
   "source": [
    "## 리스트 중간에 항목 삽입하기\n",
    "- 리스트명.insert(인덱스, 항목)"
   ]
  },
  {
   "cell_type": "code",
   "execution_count": 62,
   "id": "6fd60ad2",
   "metadata": {},
   "outputs": [],
   "source": [
    "# '아침운동'하기 전에 '아침식사'\n",
    "todolist.insert(2,'아침식사')"
   ]
  },
  {
   "cell_type": "code",
   "execution_count": 63,
   "id": "6a8bb125",
   "metadata": {},
   "outputs": [
    {
     "data": {
      "text/plain": [
       "['양치', '물마시기', '아침식사', '아침식사', '아침운동']"
      ]
     },
     "execution_count": 63,
     "metadata": {},
     "output_type": "execute_result"
    }
   ],
   "source": [
    "todolist"
   ]
  },
  {
   "cell_type": "markdown",
   "id": "816430b2",
   "metadata": {},
   "source": [
    "## 리스트 끝에 여러 항목 추가하기\n",
    "- 리스트명.extend(리스트)"
   ]
  },
  {
   "cell_type": "code",
   "execution_count": 64,
   "id": "8038f225",
   "metadata": {},
   "outputs": [],
   "source": [
    "# '아침운동' 후에 ['샤워','드라이','공부']"
   ]
  },
  {
   "cell_type": "code",
   "execution_count": 65,
   "id": "aa9c6f7e",
   "metadata": {},
   "outputs": [],
   "source": [
    "todolist.extend(['샤워','드라이','공부'])"
   ]
  },
  {
   "cell_type": "code",
   "execution_count": 66,
   "id": "df355d83",
   "metadata": {},
   "outputs": [
    {
     "data": {
      "text/plain": [
       "['양치', '물마시기', '아침식사', '아침식사', '아침운동', '샤워', '드라이', '공부']"
      ]
     },
     "execution_count": 66,
     "metadata": {},
     "output_type": "execute_result"
    }
   ],
   "source": [
    "todolist"
   ]
  },
  {
   "cell_type": "markdown",
   "id": "df27ffb0",
   "metadata": {},
   "source": [
    "## 리스트 항목 수정하기\n",
    "- 하나의 항목 수정하기\n",
    "- 리스트명[인덱스] = 항목"
   ]
  },
  {
   "cell_type": "code",
   "execution_count": 67,
   "id": "04e0ecba",
   "metadata": {},
   "outputs": [],
   "source": [
    "# 아침운동-->산책으로 수정\n",
    "todolist[3]='산책'"
   ]
  },
  {
   "cell_type": "code",
   "execution_count": 68,
   "id": "e3b2e0b5",
   "metadata": {},
   "outputs": [
    {
     "data": {
      "text/plain": [
       "['양치', '물마시기', '아침식사', '산책', '아침운동', '샤워', '드라이', '공부']"
      ]
     },
     "execution_count": 68,
     "metadata": {},
     "output_type": "execute_result"
    }
   ],
   "source": [
    "todolist"
   ]
  },
  {
   "cell_type": "markdown",
   "id": "18ada342",
   "metadata": {},
   "source": [
    "## 여러 항목 수정하기\n",
    "- 리스트명[시작인덱스:끝인덱스] = 리스트- "
   ]
  },
  {
   "cell_type": "code",
   "execution_count": 69,
   "id": "e6519a66",
   "metadata": {},
   "outputs": [],
   "source": [
    "# '아침식사','산책' --> '독서','산책','아침식사'\n",
    "todolist[2:4] = ['독서','산책','아침식사']"
   ]
  },
  {
   "cell_type": "code",
   "execution_count": 70,
   "id": "1ede48d6",
   "metadata": {},
   "outputs": [
    {
     "data": {
      "text/plain": [
       "['양치', '물마시기', '독서', '산책', '아침식사', '아침운동', '샤워', '드라이', '공부']"
      ]
     },
     "execution_count": 70,
     "metadata": {},
     "output_type": "execute_result"
    }
   ],
   "source": [
    "todolist"
   ]
  },
  {
   "cell_type": "markdown",
   "id": "58149f01",
   "metadata": {},
   "source": [
    "## 리스트 항목 삭제하기\n",
    "\n",
    "## 인덱스를 이용하여 항목 삭제\n",
    "\n",
    "- del 리스트명[인덱스]"
   ]
  },
  {
   "cell_type": "code",
   "execution_count": 72,
   "id": "f7494499",
   "metadata": {},
   "outputs": [],
   "source": [
    "# 마지막 인덱스 삭제\n",
    "del todolist[-1]"
   ]
  },
  {
   "cell_type": "code",
   "execution_count": 73,
   "id": "220e5d39",
   "metadata": {},
   "outputs": [
    {
     "data": {
      "text/plain": [
       "['양치', '물마시기', '독서', '산책', '아침식사', '아침운동', '샤워', '드라이']"
      ]
     },
     "execution_count": 73,
     "metadata": {},
     "output_type": "execute_result"
    }
   ],
   "source": [
    "todolist"
   ]
  },
  {
   "cell_type": "markdown",
   "id": "f92bfd69",
   "metadata": {},
   "source": [
    "## 항목값을 이용하여 삭제\n",
    "- 리스트.remove(항목)\n",
    "- 항목이 여러개인 경우 앞의 인덱스만 삭제"
   ]
  },
  {
   "cell_type": "code",
   "execution_count": 75,
   "id": "b01d9d00",
   "metadata": {},
   "outputs": [],
   "source": [
    "# '양치' 삭제\n",
    "todolist.remove('양치')"
   ]
  },
  {
   "cell_type": "code",
   "execution_count": 76,
   "id": "a9060a3a",
   "metadata": {},
   "outputs": [
    {
     "data": {
      "text/plain": [
       "['물마시기', '독서', '산책', '아침식사', '아침운동', '샤워', '드라이']"
      ]
     },
     "execution_count": 76,
     "metadata": {},
     "output_type": "execute_result"
    }
   ],
   "source": [
    "todolist"
   ]
  },
  {
   "cell_type": "markdown",
   "id": "01b7958e",
   "metadata": {},
   "source": [
    "## 마지막 항목을 반환하고 삭제\n",
    "- 리스트.pop()"
   ]
  },
  {
   "cell_type": "code",
   "execution_count": 78,
   "id": "8014ad7d",
   "metadata": {},
   "outputs": [
    {
     "data": {
      "text/plain": [
       "'샤워'"
      ]
     },
     "execution_count": 78,
     "metadata": {},
     "output_type": "execute_result"
    }
   ],
   "source": [
    "a = todolist.pop()\n",
    "a"
   ]
  },
  {
   "cell_type": "code",
   "execution_count": 79,
   "id": "c32de2d7",
   "metadata": {},
   "outputs": [
    {
     "data": {
      "text/plain": [
       "['물마시기', '독서', '산책', '아침식사', '아침운동']"
      ]
     },
     "execution_count": 79,
     "metadata": {},
     "output_type": "execute_result"
    }
   ],
   "source": [
    "todolist"
   ]
  },
  {
   "cell_type": "markdown",
   "id": "6acb3c3f",
   "metadata": {},
   "source": [
    "## 연습문제\n",
    "- 아래 wishlist의 '시계','신발'을 myCart로 이동해봅시다."
   ]
  },
  {
   "cell_type": "code",
   "execution_count": 81,
   "id": "de9d3694",
   "metadata": {},
   "outputs": [
    {
     "ename": "TypeError",
     "evalue": "'list' object cannot be interpreted as an integer",
     "output_type": "error",
     "traceback": [
      "\u001b[1;31m---------------------------------------------------------------------------\u001b[0m",
      "\u001b[1;31mTypeError\u001b[0m                                 Traceback (most recent call last)",
      "\u001b[1;32m~\\AppData\\Local\\Temp/ipykernel_22456/1073651600.py\u001b[0m in \u001b[0;36m<module>\u001b[1;34m\u001b[0m\n\u001b[0;32m      1\u001b[0m \u001b[0mwishlist\u001b[0m \u001b[1;33m=\u001b[0m \u001b[1;33m[\u001b[0m\u001b[1;34m'가방'\u001b[0m\u001b[1;33m,\u001b[0m\u001b[1;34m'시계'\u001b[0m\u001b[1;33m,\u001b[0m\u001b[1;34m'신발'\u001b[0m\u001b[1;33m]\u001b[0m\u001b[1;33m\u001b[0m\u001b[1;33m\u001b[0m\u001b[0m\n\u001b[0;32m      2\u001b[0m \u001b[0mmycart\u001b[0m \u001b[1;33m=\u001b[0m \u001b[1;33m[\u001b[0m\u001b[1;33m]\u001b[0m\u001b[1;33m\u001b[0m\u001b[1;33m\u001b[0m\u001b[0m\n\u001b[1;32m----> 3\u001b[1;33m \u001b[1;32mfor\u001b[0m \u001b[0mi\u001b[0m \u001b[1;32min\u001b[0m \u001b[0mrange\u001b[0m\u001b[1;33m(\u001b[0m\u001b[0mwishlist\u001b[0m\u001b[1;33m)\u001b[0m\u001b[1;33m:\u001b[0m\u001b[1;33m\u001b[0m\u001b[1;33m\u001b[0m\u001b[0m\n\u001b[0m\u001b[0;32m      4\u001b[0m     \u001b[0mmycart\u001b[0m\u001b[1;33m.\u001b[0m\u001b[0minsert\u001b[0m\u001b[1;33m(\u001b[0m\u001b[1;36m0\u001b[0m\u001b[1;33m,\u001b[0m\u001b[0mwishlist\u001b[0m\u001b[1;33m.\u001b[0m\u001b[0mpop\u001b[0m\u001b[1;33m(\u001b[0m\u001b[1;33m)\u001b[0m\u001b[1;33m)\u001b[0m\u001b[1;33m\u001b[0m\u001b[1;33m\u001b[0m\u001b[0m\n\u001b[0;32m      5\u001b[0m \u001b[0mmycart\u001b[0m\u001b[1;33m\u001b[0m\u001b[1;33m\u001b[0m\u001b[0m\n",
      "\u001b[1;31mTypeError\u001b[0m: 'list' object cannot be interpreted as an integer"
     ]
    }
   ],
   "source": [
    "wishlist = ['가방','시계','신발']\n",
    "mycart = []\n",
    "for i in range(wishlist):\n",
    "    mycart.insert(0,wishlist.pop())\n",
    "mycart"
   ]
  },
  {
   "cell_type": "code",
   "execution_count": 85,
   "id": "d5455533",
   "metadata": {},
   "outputs": [
    {
     "data": {
      "text/plain": [
       "['가방', '시계', '신발']"
      ]
     },
     "execution_count": 85,
     "metadata": {},
     "output_type": "execute_result"
    }
   ],
   "source": [
    "wishlist = ['가방','시계','신발']\n",
    "mycart = []\n",
    "for i in range(len(wishlist)):\n",
    "    mycart.insert(0,wishlist.pop())\n",
    "mycart"
   ]
  },
  {
   "cell_type": "markdown",
   "id": "18e69682",
   "metadata": {},
   "source": [
    "## 리스트의 통계값 구하기\n",
    "- 항목수 : len(리스트명)\n",
    "- 합계 : sum(리스트명)\n",
    "- 최소값 : min(리스트명)\n",
    "- 최대값 : max(리스트명)\n",
    "- 항목의 갯수 : 리스트명.count(항목)"
   ]
  },
  {
   "cell_type": "code",
   "execution_count": 86,
   "id": "ce61fc8d",
   "metadata": {},
   "outputs": [
    {
     "name": "stdout",
     "output_type": "stream",
     "text": [
      "항목수: 8\n",
      "합계: 27\n",
      "최소값: 1\n",
      "최대값: 5\n",
      "평균: 3.375\n",
      "항목5의 갯수: 2\n"
     ]
    }
   ],
   "source": [
    "l = [1,2,3,4,5,3,4,5]\n",
    "print('항목수:',len(l))\n",
    "print('합계:',sum(l))\n",
    "print('최소값:',min(l))\n",
    "print('최대값:',max(l))\n",
    "print('평균:',sum(l)/len(l))     # 추천코드 (len()함수: 전체 크기)\n",
    "print('항목5의 갯수:',l.count(5)) # list 내 특정 숫자의 갯수 세기 "
   ]
  },
  {
   "cell_type": "markdown",
   "id": "190e208d",
   "metadata": {},
   "source": [
    "## 리스트 정렬하기\n",
    "- 원본리스트 정렬\n",
    "- 리스트명.sort()\n",
    "- 리스트명.sort(reverse=True) : 내림차순"
   ]
  },
  {
   "cell_type": "code",
   "execution_count": 88,
   "id": "840843eb",
   "metadata": {},
   "outputs": [
    {
     "data": {
      "text/plain": [
       "['닥터윌', '범준', '수지', '수현', '지은', '찬혁']"
      ]
     },
     "execution_count": 88,
     "metadata": {},
     "output_type": "execute_result"
    }
   ],
   "source": [
    "friends = ['닥터윌','수지','지은','찬혁','수현','범준']\n",
    "friends.sort()\n",
    "friends"
   ]
  },
  {
   "cell_type": "code",
   "execution_count": 89,
   "id": "2fbeacc0",
   "metadata": {},
   "outputs": [
    {
     "data": {
      "text/plain": [
       "['찬혁', '지은', '수현', '수지', '범준', '닥터윌']"
      ]
     },
     "execution_count": 89,
     "metadata": {},
     "output_type": "execute_result"
    }
   ],
   "source": [
    "friends.reverse()\n",
    "friends"
   ]
  },
  {
   "cell_type": "markdown",
   "id": "a704c348",
   "metadata": {},
   "source": [
    "## 복사본 만들어서 정렬\n",
    "- sorted(리스트명)\n",
    "- sorted(리스트명, reverse=True) : 내림차순"
   ]
  },
  {
   "cell_type": "code",
   "execution_count": 90,
   "id": "a29be79a",
   "metadata": {},
   "outputs": [
    {
     "data": {
      "text/plain": [
       "['닥터윌', '범준', '수지', '수현', '지은', '찬혁']"
      ]
     },
     "execution_count": 90,
     "metadata": {},
     "output_type": "execute_result"
    }
   ],
   "source": [
    "friends = ['닥터윌','수지','지은','찬혁','수현','범준']\n",
    "sorted_friends = sorted(friends)\n",
    "sorted_friends"
   ]
  },
  {
   "cell_type": "code",
   "execution_count": 91,
   "id": "e9c11d33",
   "metadata": {},
   "outputs": [
    {
     "data": {
      "text/plain": [
       "['닥터윌', '수지', '지은', '찬혁', '수현', '범준']"
      ]
     },
     "execution_count": 91,
     "metadata": {},
     "output_type": "execute_result"
    }
   ],
   "source": [
    "friends"
   ]
  },
  {
   "cell_type": "markdown",
   "id": "151b4127",
   "metadata": {},
   "source": [
    "## 리스트 순서 뒤집기\n",
    "- 리스트명.reverse()"
   ]
  },
  {
   "cell_type": "code",
   "execution_count": 92,
   "id": "0b42236d",
   "metadata": {},
   "outputs": [
    {
     "data": {
      "text/plain": [
       "['범준', '수현', '찬혁', '지은', '수지', '닥터윌']"
      ]
     },
     "execution_count": 92,
     "metadata": {},
     "output_type": "execute_result"
    }
   ],
   "source": [
    "friends = ['닥터윌','수지','지은','찬혁','수현','범준']\n",
    "friends.reverse()\n",
    "friends"
   ]
  },
  {
   "cell_type": "markdown",
   "id": "01c1bc38",
   "metadata": {},
   "source": [
    "## 2차원리스트 다루기\n",
    "- 2차원리스트 만들기 \n",
    "| |0열|1열|2열|\n",
    "|--|--|--|--| \n",
    "|0행|10|20|30| \n",
    "|1행|40|50|60|"
   ]
  },
  {
   "cell_type": "code",
   "execution_count": 93,
   "id": "5e4b1199",
   "metadata": {},
   "outputs": [
    {
     "name": "stdout",
     "output_type": "stream",
     "text": [
      "30\n",
      "60\n"
     ]
    }
   ],
   "source": [
    "# 리스트 만들기\n",
    "l2 = [[10,20,30],[40,50,60]]\n",
    "\n",
    "# 30 추출하기\n",
    "print(l2[0][2])\n",
    "\n",
    "# 1행 2열 추출하기\n",
    "print(l2[1][2])"
   ]
  },
  {
   "cell_type": "markdown",
   "id": "363c5883",
   "metadata": {},
   "source": [
    "-연습   \\\n",
    "파일리스트에서 파일명과 확장자를 분리하여 다음과 같은 형태로 저장하는 리스트를 만들어봅시다. \n",
    "\n",
    "\n",
    "|파일명|확장자|\n",
    "|--|--|\n",
    "|file1|py|\n",
    "|file2|txt|\n",
    "|file3|pptx|"
   ]
  },
  {
   "cell_type": "code",
   "execution_count": 94,
   "id": "c4ae6ee0",
   "metadata": {},
   "outputs": [
    {
     "data": {
      "text/plain": [
       "[['file1', 'py'], ['file2', 'txt'], ['file3', 'pptx']]"
      ]
     },
     "execution_count": 94,
     "metadata": {},
     "output_type": "execute_result"
    }
   ],
   "source": [
    "file_list = ['file1.py','file2.txt','file3.pptx']\n",
    "name_extension = []\n",
    "\n",
    "while file_list != []:\n",
    "    name_extension.insert(0,file_list.pop().split('.'))\n",
    "name_extension"
   ]
  },
  {
   "cell_type": "markdown",
   "id": "9943eca3",
   "metadata": {},
   "source": [
    "## 학생별 총점,평균 구하기\n",
    "- 다음은 학생 별 [국어,영어,수학]점수가 저장된 리스트이다.\n",
    "- score_list = [[96,84,80],[96,86,76],[76,95,83],[89,96,69],[90,76,91]]\n",
    "- 각 학생의 세 과목의 성적의 [총점, 평균]을 구하여 리스트에 담으시오.\n",
    "- (평균은 반올림하여 소수점 1자리까지 표현한다.)"
   ]
  },
  {
   "cell_type": "code",
   "execution_count": 100,
   "id": "8cc48322",
   "metadata": {},
   "outputs": [
    {
     "name": "stdout",
     "output_type": "stream",
     "text": [
      "[86.7, 86.0, 84.7, 84.7, 85.7]\n",
      "[260, 258, 254, 254, 257]\n"
     ]
    }
   ],
   "source": [
    "score_list = [[96,84,80],[96,86,76],[76,95,83],[89,96,69],[90,76,91]]\n",
    "avg = []\n",
    "stu_sum = []\n",
    "for i in score_list:\n",
    "    stu_sum.append(sum(i))\n",
    "    avg.append(round(sum(i)/len(i),1))\n",
    "print(avg)\n",
    "print(stu_sum)"
   ]
  },
  {
   "cell_type": "markdown",
   "id": "c1f56c44",
   "metadata": {},
   "source": [
    "## 과목별 평균 구하기\n",
    "- 다음은 학생 별 [국어,영어,수학]점수가 저장된 리스트이다.\n",
    "- score_list = [[96,84,80],[96,86,76],[76,95,83],[89,96,69],[90,76,91]]\n",
    "- 각 과목의 리스트를 분리하고 과목별 평균을 구해봅시다. 평균은 소수점 1자리까지 출력한다."
   ]
  },
  {
   "cell_type": "code",
   "execution_count": 112,
   "id": "919e7775",
   "metadata": {
    "scrolled": true
   },
   "outputs": [
    {
     "name": "stdout",
     "output_type": "stream",
     "text": [
      "국어: 89.4 영어: 87.4 수학: 79.8\n"
     ]
    }
   ],
   "source": [
    "#            [국어,영어,수학]\n",
    "score_list = [[96,84,80],[96,86,76],[76,95,83],[89,96,69],[90,76,91]]\n",
    "ko_avg = []\n",
    "en_avg = []\n",
    "ma_avg = []\n",
    "\n",
    "for i in score_list:\n",
    "    ko_avg.append(i[0])\n",
    "    en_avg.append(i[1])\n",
    "    ma_avg.append(i[2])\n",
    "print('국어:',\n",
    "round((sum(ko_avg)/len(ko_avg)),1),\n",
    "      '영어:',\n",
    "round((sum(en_avg)/len(en_avg)),1),\n",
    "      '수학:',\n",
    "round((sum(ma_avg)/len(ma_avg)),1))"
   ]
  },
  {
   "cell_type": "markdown",
   "id": "f9661be5",
   "metadata": {},
   "source": [
    "## 랜덤 항목 추출하기\n",
    "- random.choice(리스트명)"
   ]
  },
  {
   "cell_type": "code",
   "execution_count": 113,
   "id": "fc5bbfd4",
   "metadata": {},
   "outputs": [
    {
     "name": "stdout",
     "output_type": "stream",
     "text": [
      "오늘은 뭘먹지?\n"
     ]
    }
   ],
   "source": [
    "menulist = ['한식','일식','중식','양식','분식','이탈리아식']\n",
    "print('오늘은 뭘먹지?')"
   ]
  },
  {
   "cell_type": "code",
   "execution_count": 114,
   "id": "27f3df51",
   "metadata": {},
   "outputs": [
    {
     "data": {
      "text/plain": [
       "'한식'"
      ]
     },
     "execution_count": 114,
     "metadata": {},
     "output_type": "execute_result"
    }
   ],
   "source": [
    "import random\n",
    "random.choice(menulist)"
   ]
  },
  {
   "cell_type": "markdown",
   "id": "93cd243c",
   "metadata": {},
   "source": [
    "- 메뉴를 입력받아 랜덤으로 메뉴를 정하는 프로그램을 작성해봅시다.\n",
    "- 공백('')을 입력할 때까지 메뉴를 입력받습니다."
   ]
  },
  {
   "cell_type": "code",
   "execution_count": 116,
   "id": "ad12589e",
   "metadata": {
    "scrolled": true
   },
   "outputs": [
    {
     "name": "stdout",
     "output_type": "stream",
     "text": [
      "[]\n",
      "메뉴: 아침\n",
      "['아침']\n",
      "메뉴: 점심\n",
      "['아침', '점심']\n",
      "메뉴: \n",
      "오늘의 메뉴는 점심 입니다.\n"
     ]
    }
   ],
   "source": [
    "menulist = []\n",
    "while True:\n",
    "    print(menulist)\n",
    "    a = input('메뉴: ')\n",
    "    if a == '':\n",
    "        break\n",
    "    else:\n",
    "        menulist.append(a)\n",
    "\n",
    "print('오늘의 메뉴는',random.choice(menulist),'입니다.')"
   ]
  }
 ],
 "metadata": {
  "kernelspec": {
   "display_name": "Python 3 (ipykernel)",
   "language": "python",
   "name": "python3"
  },
  "language_info": {
   "codemirror_mode": {
    "name": "ipython",
    "version": 3
   },
   "file_extension": ".py",
   "mimetype": "text/x-python",
   "name": "python",
   "nbconvert_exporter": "python",
   "pygments_lexer": "ipython3",
   "version": "3.9.7"
  }
 },
 "nbformat": 4,
 "nbformat_minor": 5
}
