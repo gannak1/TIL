{
 "cells": [
  {
   "cell_type": "markdown",
   "id": "194a8f41",
   "metadata": {},
   "source": [
    "## 딕셔너리 만들기\n",
    "- 딕셔너리명 = {키1:값1, 키2:값2,...,}\n",
    "- 중괄호 안에 키:값의 쌍으로 된 항목을 콤마(,)로 구분하여 적어준다."
   ]
  },
  {
   "cell_type": "code",
   "execution_count": 1,
   "id": "8435bff5",
   "metadata": {},
   "outputs": [
    {
     "data": {
      "text/plain": [
       "{'김밥': 2000, '떡볶이': 2500, '어묵': 2000, '튀김': 3000}"
      ]
     },
     "execution_count": 1,
     "metadata": {},
     "output_type": "execute_result"
    }
   ],
   "source": [
    "menu = {'김밥':2000, '떡볶이':2500, '어묵':2000, '튀김':3000}\n",
    "menu"
   ]
  },
  {
   "cell_type": "code",
   "execution_count": 2,
   "id": "2e147c68",
   "metadata": {},
   "outputs": [
    {
     "data": {
      "text/plain": [
       "{'김밥': 2000, '떡볶이': 2500, '어묵': 2000, '튀김': 3000}"
      ]
     },
     "execution_count": 2,
     "metadata": {},
     "output_type": "execute_result"
    }
   ],
   "source": [
    "menu = {'김밥':2000, \n",
    "        '떡볶이':2500, \n",
    "        '어묵':2000, \n",
    "        '튀김':3000}\n",
    "menu"
   ]
  },
  {
   "cell_type": "markdown",
   "id": "cab3e361",
   "metadata": {},
   "source": [
    "## dict로 딕셔너리 만들기\n",
    "- 딕셔너리명 = dict(키1=값1, 키2=값2,...,)\n",
    "- 키에 따옴표('')를 쓰지 않는다는 점에 주의한다.\n",
    "- 키에 따옴표('')를 쓰지 않아도 딕셔너리가 생성되면서 자동으로 문자열형으로 지정된다."
   ]
  },
  {
   "cell_type": "code",
   "execution_count": 4,
   "id": "1d7d702d",
   "metadata": {},
   "outputs": [
    {
     "data": {
      "text/plain": [
       "{'김밥': 2000, '떡볶이': 2500, '어묵': 2000, '튀김': 3000}"
      ]
     },
     "execution_count": 4,
     "metadata": {},
     "output_type": "execute_result"
    }
   ],
   "source": [
    "menu1 = dict(김밥=2000, 떡볶이=2500, 어묵=2000, 튀김=3000)\n",
    "menu1"
   ]
  },
  {
   "cell_type": "markdown",
   "id": "8f41ca2c",
   "metadata": {},
   "source": [
    "딕셔너리명 = dict(zip(key리스트, value리스트))"
   ]
  },
  {
   "cell_type": "code",
   "execution_count": 5,
   "id": "0b6911fd",
   "metadata": {},
   "outputs": [
    {
     "data": {
      "text/plain": [
       "{'김밥': 2000, '떡볶이': 2500, '어묵': 2000, '튀김': 3000}"
      ]
     },
     "execution_count": 5,
     "metadata": {},
     "output_type": "execute_result"
    }
   ],
   "source": [
    "key_list = ['김밥','떡볶이','어묵','튀김']\n",
    "value_list = [2000,2500,2000,3000]\n",
    "menu2 = dict(zip(key_list,value_list))\n",
    "menu2"
   ]
  },
  {
   "cell_type": "markdown",
   "id": "c8b9e871",
   "metadata": {},
   "source": [
    "딕셔너리명 = dict([(키1,값1),(키1,값2),...,])"
   ]
  },
  {
   "cell_type": "code",
   "execution_count": 6,
   "id": "dd5c6f84",
   "metadata": {},
   "outputs": [
    {
     "data": {
      "text/plain": [
       "{'김밥': 2000, '떡볶이': 2500, '어묵': 2000, '튀김': 3000}"
      ]
     },
     "execution_count": 6,
     "metadata": {},
     "output_type": "execute_result"
    }
   ],
   "source": [
    "[('김밥',2000),('떡볶이',2500),('어묵',2000),('튀김',3000)]\n",
    "menu3 = dict([('김밥',2000),('떡볶이',2500),('어묵',2000),('튀김',3000)])\n",
    "menu3"
   ]
  },
  {
   "cell_type": "markdown",
   "id": "99584d65",
   "metadata": {},
   "source": [
    "딕셔너리명 = dict({키1:값1,키2:값2,...,})"
   ]
  },
  {
   "cell_type": "code",
   "execution_count": 7,
   "id": "becb61ad",
   "metadata": {},
   "outputs": [
    {
     "name": "stdout",
     "output_type": "stream",
     "text": [
      "{'김밥': 2000, '떡볶이': 2500, '어묵': 2000, '튀김': 3000}\n"
     ]
    }
   ],
   "source": [
    "menu4 = dict({'김밥':2000, '떡볶이':2500, '어묵':2000, '튀김':3000})\n",
    "print(menu4)"
   ]
  },
  {
   "cell_type": "markdown",
   "id": "23229f8d",
   "metadata": {},
   "source": [
    "## 딕셔너리에 사용할 수 있는 자료형\n",
    "- 딕셔너리의 value에는 모든 자료형을 혼합하여 사용할 수 있다."
   ]
  },
  {
   "cell_type": "code",
   "execution_count": 8,
   "id": "81aca287",
   "metadata": {},
   "outputs": [
    {
     "data": {
      "text/plain": [
       "{'name': 'james', '나이': 25, '키': 175.5, '시력': (1.0, 1.0), '취미': ['운동', '독서']}"
      ]
     },
     "execution_count": 8,
     "metadata": {},
     "output_type": "execute_result"
    }
   ],
   "source": [
    "person = {'name':'james', \n",
    "          '나이':25,\n",
    "          '키':175.5,\n",
    "          '시력':(1.0,1.0),\n",
    "          '취미':['운동','독서']}\n",
    "person"
   ]
  },
  {
   "cell_type": "markdown",
   "id": "b3930f88",
   "metadata": {},
   "source": [
    "딕셔너리의 key에는 숫자, 문자열, 부울형, 튜플을 사용할 수 있다."
   ]
  },
  {
   "cell_type": "code",
   "execution_count": 9,
   "id": "74846ff2",
   "metadata": {},
   "outputs": [
    {
     "name": "stdout",
     "output_type": "stream",
     "text": [
      "{100: 'hundred', True: '참', False: '거짓', (1, 3): '학년,반', 7: '번호'}\n"
     ]
    }
   ],
   "source": [
    "number=7\n",
    "\n",
    "dict1 = {\n",
    "    100:'hundred',\n",
    "    True:'참',\n",
    "    False:'거짓',\n",
    "    (1,3):'학년,반',\n",
    "    number:'번호'\n",
    "}\n",
    "print(dict1)"
   ]
  },
  {
   "cell_type": "markdown",
   "id": "466e75f6",
   "metadata": {},
   "source": [
    "## 중복된 key를 사용하여 딕셔너리 만들면?"
   ]
  },
  {
   "cell_type": "code",
   "execution_count": 10,
   "id": "39483ac6",
   "metadata": {},
   "outputs": [
    {
     "data": {
      "text/plain": [
       "{'name': 'james', '나이': 30, '키': 175.5, '시력': (1.0, 1.0), '취미': ['운동', '독서']}"
      ]
     },
     "execution_count": 10,
     "metadata": {},
     "output_type": "execute_result"
    }
   ],
   "source": [
    "person = {'name':'james', \n",
    "          '나이':25,\n",
    "          '나이':30,    \n",
    "          '키':175.5,\n",
    "          '시력':(1.0,1.0),\n",
    "          '취미':['운동','독서']}\n",
    "person"
   ]
  },
  {
   "cell_type": "markdown",
   "id": "a4492da6",
   "metadata": {},
   "source": [
    "## 딕셔너리 값 추출하기\n",
    "### 딕셔너리명[key]"
   ]
  },
  {
   "cell_type": "code",
   "execution_count": 11,
   "id": "33afce60",
   "metadata": {},
   "outputs": [
    {
     "data": {
      "text/plain": [
       "30"
      ]
     },
     "execution_count": 11,
     "metadata": {},
     "output_type": "execute_result"
    }
   ],
   "source": [
    "person['나이']"
   ]
  },
  {
   "cell_type": "markdown",
   "id": "a951bc4d",
   "metadata": {},
   "source": [
    "## 존재하지 않는 key로 추출하면?\n",
    "### KeyError가 발생한다."
   ]
  },
  {
   "cell_type": "code",
   "execution_count": 12,
   "id": "32751213",
   "metadata": {},
   "outputs": [
    {
     "ename": "KeyError",
     "evalue": "'몸무게'",
     "output_type": "error",
     "traceback": [
      "\u001b[1;31m---------------------------------------------------------------------------\u001b[0m",
      "\u001b[1;31mKeyError\u001b[0m                                  Traceback (most recent call last)",
      "\u001b[1;32m~\\AppData\\Local\\Temp/ipykernel_3884/3041137338.py\u001b[0m in \u001b[0;36m<module>\u001b[1;34m\u001b[0m\n\u001b[1;32m----> 1\u001b[1;33m \u001b[0mperson\u001b[0m\u001b[1;33m[\u001b[0m\u001b[1;34m'몸무게'\u001b[0m\u001b[1;33m]\u001b[0m\u001b[1;33m\u001b[0m\u001b[1;33m\u001b[0m\u001b[0m\n\u001b[0m",
      "\u001b[1;31mKeyError\u001b[0m: '몸무게'"
     ]
    }
   ],
   "source": [
    "person['몸무게']"
   ]
  },
  {
   "cell_type": "markdown",
   "id": "7061b2f0",
   "metadata": {},
   "source": [
    "## 딕셔너리에 키 존재여부 확인하기\n",
    "### key in 딕셔너리명"
   ]
  },
  {
   "cell_type": "code",
   "execution_count": 13,
   "id": "943c03d8",
   "metadata": {},
   "outputs": [
    {
     "name": "stdout",
     "output_type": "stream",
     "text": [
      "존재하지 않음\n"
     ]
    }
   ],
   "source": [
    "if '몸무게' in person:\n",
    "    print(person['몸무게'])\n",
    "else:\n",
    "    print('존재하지 않음')"
   ]
  },
  {
   "cell_type": "markdown",
   "id": "7282d7b2",
   "metadata": {},
   "source": [
    "## 딕셔너리명.get(key, msg)\n",
    "- 존재하지 않는 key로 추출 시도해도 오류가 발생하지 않는다.\n",
    "- 존재하지 않는 key로 추출 시도할 경우 출력할 메시지를 설정할 수 있다."
   ]
  },
  {
   "cell_type": "code",
   "execution_count": 14,
   "id": "1fff4d72",
   "metadata": {},
   "outputs": [
    {
     "data": {
      "text/plain": [
       "30"
      ]
     },
     "execution_count": 14,
     "metadata": {},
     "output_type": "execute_result"
    }
   ],
   "source": [
    "person.get('나이')"
   ]
  },
  {
   "cell_type": "code",
   "execution_count": 15,
   "id": "f11cc715",
   "metadata": {},
   "outputs": [],
   "source": [
    "person.get('몸무게')"
   ]
  },
  {
   "cell_type": "code",
   "execution_count": 16,
   "id": "478f6b76",
   "metadata": {},
   "outputs": [
    {
     "data": {
      "text/plain": [
       "'존재하지않음'"
      ]
     },
     "execution_count": 16,
     "metadata": {},
     "output_type": "execute_result"
    }
   ],
   "source": [
    "person.get('몸무게','존재하지않음')"
   ]
  },
  {
   "cell_type": "markdown",
   "id": "ae41ef71",
   "metadata": {},
   "source": [
    "## 딕셔너리 항목 추가/수정\n",
    "### 딕셔너리명[키]=값\n",
    "- 키가 존재하지 않으면 추가, 존재하면 수정된다."
   ]
  },
  {
   "cell_type": "code",
   "execution_count": 18,
   "id": "d406f8c7",
   "metadata": {},
   "outputs": [
    {
     "data": {
      "text/plain": [
       "{'kor': 100, 'eng': 90, 'math': 85, ' music': 95}"
      ]
     },
     "execution_count": 18,
     "metadata": {},
     "output_type": "execute_result"
    }
   ],
   "source": [
    "scores = {'kor':100, 'eng':90, 'math':80}\n",
    "\n",
    "# math점수 85점으로 수정하기\n",
    "scores['math']=85\n",
    "\n",
    "# music점수 95점 추가하기\n",
    "scores[' music']=95\n",
    "\n",
    "scores"
   ]
  },
  {
   "cell_type": "markdown",
   "id": "a8bd68eb",
   "metadata": {},
   "source": [
    "## setdefault로 항목 추가하기\n",
    "- 딕셔너리명.setdefault(키,값)\n",
    "- 이미 들어있는 키의 값은 수정할 수 없다."
   ]
  },
  {
   "cell_type": "code",
   "execution_count": 19,
   "id": "c6177a80",
   "metadata": {},
   "outputs": [
    {
     "data": {
      "text/plain": [
       "{'kor': 100, 'eng': 90, 'math': 80, 'music': None}"
      ]
     },
     "execution_count": 19,
     "metadata": {},
     "output_type": "execute_result"
    }
   ],
   "source": [
    "scores = {'kor':100, 'eng':90, 'math':80}\n",
    "\n",
    "# music점수 넣기(key만 넣고 value를 생략하면? value에 빈값)\n",
    "scores.setdefault('music')\n",
    "\n",
    "scores"
   ]
  },
  {
   "cell_type": "code",
   "execution_count": 20,
   "id": "6b79f502",
   "metadata": {},
   "outputs": [
    {
     "data": {
      "text/plain": [
       "{'kor': 100, 'eng': 90, 'math': 80, 'music': 90}"
      ]
     },
     "execution_count": 20,
     "metadata": {},
     "output_type": "execute_result"
    }
   ],
   "source": [
    "scores = {'kor':100, 'eng':90, 'math':80}\n",
    "\n",
    "# music점수 90점 추가\n",
    "scores.setdefault('music',90)\n",
    "\n",
    "scores"
   ]
  },
  {
   "cell_type": "code",
   "execution_count": 21,
   "id": "2f5d8c3e",
   "metadata": {},
   "outputs": [
    {
     "data": {
      "text/plain": [
       "{'kor': 100, 'eng': 90, 'math': 80, 'music': 95}"
      ]
     },
     "execution_count": 21,
     "metadata": {},
     "output_type": "execute_result"
    }
   ],
   "source": [
    "scores = {'kor': 100, 'eng': 90, 'math': 80, 'music': 95}\n",
    "\n",
    "# music점수 85점으로 수정\n",
    "scores.setdefault('music',85) # 변경되지 않음 \n",
    "\n",
    "scores"
   ]
  },
  {
   "cell_type": "markdown",
   "id": "6069e0d1",
   "metadata": {},
   "source": [
    "## update로 여러 항목 추가/수정하기\n",
    "- 키가 존재하면 수정, 존재하지 않으면 추가된다.\n",
    "- 딕셔너리명.update(키1=값1, 키1=값2,...)\n",
    "- 키에 따옴표를 하지 않지만, 딕셔너리에 들어갈 때는 따옴표가 붙어서 들어간다."
   ]
  },
  {
   "cell_type": "code",
   "execution_count": 22,
   "id": "73036bfb",
   "metadata": {},
   "outputs": [
    {
     "data": {
      "text/plain": [
       "{'kor': 100, 'eng': 90, 'math': 90, 'music': 90}"
      ]
     },
     "execution_count": 22,
     "metadata": {},
     "output_type": "execute_result"
    }
   ],
   "source": [
    "scores = {'kor':100, 'eng':90, 'math':80}\n",
    "\n",
    "# math:90, music:90\n",
    "scores.update(math=90, music=90)\n",
    "\n",
    "scores"
   ]
  },
  {
   "cell_type": "markdown",
   "id": "28e539c4",
   "metadata": {},
   "source": [
    "- 딕셔너리명.update(zip(key리스트, value리스트)"
   ]
  },
  {
   "cell_type": "code",
   "execution_count": 23,
   "id": "a6f966f8",
   "metadata": {},
   "outputs": [
    {
     "data": {
      "text/plain": [
       "{'kor': 100, 'eng': 90, 'math': 90, 'music': 90}"
      ]
     },
     "execution_count": 23,
     "metadata": {},
     "output_type": "execute_result"
    }
   ],
   "source": [
    "scores = {'kor':100, 'eng':90, 'math':80}\n",
    "\n",
    "# math:90, music:90\n",
    "scores.update(zip(['math','music'],[90,90]))\n",
    "\n",
    "scores"
   ]
  },
  {
   "cell_type": "markdown",
   "id": "fdc0d7bb",
   "metadata": {},
   "source": [
    "- 딕셔너리명.update([(키1,값1),(키2,값2),...])"
   ]
  },
  {
   "cell_type": "code",
   "execution_count": 24,
   "id": "0d3ab590",
   "metadata": {},
   "outputs": [
    {
     "data": {
      "text/plain": [
       "{'kor': 100, 'eng': 90, 'math': 90, 'music': 90}"
      ]
     },
     "execution_count": 24,
     "metadata": {},
     "output_type": "execute_result"
    }
   ],
   "source": [
    "scores = {'kor':100, 'eng':90, 'math':80}\n",
    "\n",
    "# math:90, music:90\n",
    "scores.update([('math',90),('music',90)])\n",
    "scores"
   ]
  },
  {
   "cell_type": "markdown",
   "id": "477b94d9",
   "metadata": {},
   "source": [
    "- 딕셔너리명.update({키1:값1,키2:값2,...,})"
   ]
  },
  {
   "cell_type": "code",
   "execution_count": 25,
   "id": "16a22d89",
   "metadata": {},
   "outputs": [
    {
     "data": {
      "text/plain": [
       "{'kor': 100, 'eng': 90, 'math': 90, 'music': 90}"
      ]
     },
     "execution_count": 25,
     "metadata": {},
     "output_type": "execute_result"
    }
   ],
   "source": [
    "scores = {'kor':100, 'eng':90, 'math':80}\n",
    "\n",
    "# math:90, music:90\n",
    "scores.update({'math': 90, 'music': 90})\n",
    "    \n",
    "scores"
   ]
  },
  {
   "cell_type": "markdown",
   "id": "9770c584",
   "metadata": {},
   "source": [
    "## 딕셔너리에서 항목 삭제하기\n",
    "### del 딕셔너리명[키]\n",
    "- 해당 키의 항목 삭제"
   ]
  },
  {
   "cell_type": "code",
   "execution_count": 26,
   "id": "ab50f67a",
   "metadata": {},
   "outputs": [
    {
     "data": {
      "text/plain": [
       "{'eng': 90, 'math': 80}"
      ]
     },
     "execution_count": 26,
     "metadata": {},
     "output_type": "execute_result"
    }
   ],
   "source": [
    "scores = {'kor':100, 'eng':90, 'math':80}\n",
    "\n",
    "# 키가 'kor'인 항목 삭제\n",
    "del scores['kor']\n",
    "\n",
    "scores"
   ]
  },
  {
   "cell_type": "markdown",
   "id": "69142758",
   "metadata": {},
   "source": [
    "## 딕셔너리명.pop(키, 기본값)\n",
    "- 해당 키의 항목(값) 반환하고 삭제"
   ]
  },
  {
   "cell_type": "code",
   "execution_count": 27,
   "id": "a1e9a1e4",
   "metadata": {},
   "outputs": [
    {
     "name": "stdout",
     "output_type": "stream",
     "text": [
      "100\n",
      "{'eng': 90, 'math': 80}\n"
     ]
    }
   ],
   "source": [
    "scores = {'kor':100, 'eng':90, 'math':80}\n",
    "\n",
    "# 키가 'kor'인 항목의 값 받아온 후 삭제\n",
    "kor = scores.pop('kor')\n",
    "\n",
    "print(kor)\n",
    "print(scores)"
   ]
  },
  {
   "cell_type": "markdown",
   "id": "686d6b6e",
   "metadata": {},
   "source": [
    "- 해당 키의 항목 반환하고 삭제(키가 존재하지 않을 때 기본값 반환)"
   ]
  },
  {
   "cell_type": "code",
   "execution_count": 29,
   "id": "07c0ecfd",
   "metadata": {},
   "outputs": [
    {
     "name": "stdout",
     "output_type": "stream",
     "text": [
      "x\n",
      "{'kor': 100, 'eng': 90, 'math': 80}\n"
     ]
    }
   ],
   "source": [
    "scores = {'kor':100, 'eng':90, 'math':80}\n",
    "\n",
    "# 키가 'music'인 항목의 값 받아온 후 삭제(삭제할 키가 존재하지 않는 경우)\n",
    "music = scores.pop('music','x')\n",
    "\n",
    "\n",
    "print(music)\n",
    "print(scores)  # 기본값 반환 "
   ]
  },
  {
   "cell_type": "markdown",
   "id": "6b686e03",
   "metadata": {},
   "source": [
    "## 딕셔너리명.clear()\n",
    "- 딕셔너리의 모든 항목 삭제"
   ]
  },
  {
   "cell_type": "code",
   "execution_count": 30,
   "id": "1d60bb42",
   "metadata": {},
   "outputs": [
    {
     "name": "stdout",
     "output_type": "stream",
     "text": [
      "{}\n"
     ]
    }
   ],
   "source": [
    "scores = {'kor':100, 'eng':90, 'math':80}\n",
    "\n",
    "scores.clear()\n",
    "print(scores)"
   ]
  },
  {
   "cell_type": "markdown",
   "id": "ac9090b4",
   "metadata": {},
   "source": [
    "## 딕셔너리명.keys()\n",
    "- 딕셔너리의 키만 리스트로 가져오기\n",
    "- dict_keys객체로 받아온다. 리스트처럼 사용할 수 있지만 리스트는 아니다."
   ]
  },
  {
   "cell_type": "code",
   "execution_count": 47,
   "id": "f4a9ad20",
   "metadata": {},
   "outputs": [
    {
     "data": {
      "text/plain": [
       "dict_keys(['kor', 'eng', 'math'])"
      ]
     },
     "execution_count": 47,
     "metadata": {},
     "output_type": "execute_result"
    }
   ],
   "source": [
    "scores = {'kor':100, 'eng':90, 'math':80}\n",
    "scores.keys()"
   ]
  },
  {
   "cell_type": "markdown",
   "id": "6152ae76",
   "metadata": {},
   "source": [
    "## 딕셔너리명.values()\n",
    "- 딕셔너리의 value만 리스트로 가져오기\n",
    "- dict_values객체로 받아온다."
   ]
  },
  {
   "cell_type": "code",
   "execution_count": 48,
   "id": "14073b84",
   "metadata": {},
   "outputs": [
    {
     "data": {
      "text/plain": [
       "dict_values([100, 90, 80])"
      ]
     },
     "execution_count": 48,
     "metadata": {},
     "output_type": "execute_result"
    }
   ],
   "source": [
    "scores = {'kor':100, 'eng':90, 'math':80}\n",
    "scores.values()"
   ]
  },
  {
   "cell_type": "markdown",
   "id": "5cc59aa2",
   "metadata": {},
   "source": [
    "## 딕셔너리명.items()\n",
    "- 딕셔너리의 (key,value) 쌍을 리스트로 가져오기\n",
    "- dict_items객체로 받아온다."
   ]
  },
  {
   "cell_type": "code",
   "execution_count": 49,
   "id": "3d2c150e",
   "metadata": {},
   "outputs": [
    {
     "data": {
      "text/plain": [
       "dict_items([('kor', 100), ('eng', 90), ('math', 80)])"
      ]
     },
     "execution_count": 49,
     "metadata": {},
     "output_type": "execute_result"
    }
   ],
   "source": [
    "scores = {'kor':100, 'eng':90, 'math':80}\n",
    "scores.items()"
   ]
  },
  {
   "cell_type": "markdown",
   "id": "b419f567",
   "metadata": {},
   "source": [
    "# for문으로 딕셔너리 출력하기\n",
    "## for문으로 딕셔너리의 키만 출력하기"
   ]
  },
  {
   "cell_type": "code",
   "execution_count": 41,
   "id": "876b1e0a",
   "metadata": {},
   "outputs": [
    {
     "name": "stdout",
     "output_type": "stream",
     "text": [
      "kor\n",
      "eng\n",
      "math\n"
     ]
    }
   ],
   "source": [
    "scores = {'kor':100, 'eng':90, 'math':80}\n",
    "for i in scores.keys():\n",
    "    print(i)"
   ]
  },
  {
   "cell_type": "markdown",
   "id": "141d95a3",
   "metadata": {},
   "source": [
    "## 딕셔너리로 for문 돌리기\n",
    "## for문으로 딕셔너리의 value만 출력하기"
   ]
  },
  {
   "cell_type": "code",
   "execution_count": 40,
   "id": "3b3e7582",
   "metadata": {},
   "outputs": [
    {
     "name": "stdout",
     "output_type": "stream",
     "text": [
      "100\n",
      "90\n",
      "80\n"
     ]
    }
   ],
   "source": [
    "scores = {'kor':100, 'eng':90, 'math':80}\n",
    "for i in scores.values():\n",
    "    print(i)"
   ]
  },
  {
   "cell_type": "markdown",
   "id": "1e14f403",
   "metadata": {},
   "source": [
    "## for문으로 딕셔너리의 key, value 출력하기"
   ]
  },
  {
   "cell_type": "code",
   "execution_count": 50,
   "id": "0a7905fa",
   "metadata": {},
   "outputs": [
    {
     "name": "stdout",
     "output_type": "stream",
     "text": [
      "Key :  ('kor', 100)\n",
      "Key :  ('eng', 90)\n",
      "Key :  ('math', 80)\n"
     ]
    }
   ],
   "source": [
    "scores = {'kor':100, 'eng':90, 'math':80}\n",
    "for i in scores.items():\n",
    "    print('Key : ',i)"
   ]
  },
  {
   "cell_type": "markdown",
   "id": "3fbfe2df",
   "metadata": {},
   "source": [
    "# 딕셔너리 정렬하기"
   ]
  },
  {
   "cell_type": "markdown",
   "id": "b5f18a19",
   "metadata": {},
   "source": [
    "## 키 정렬하기"
   ]
  },
  {
   "cell_type": "code",
   "execution_count": 81,
   "id": "1720ff1c",
   "metadata": {
    "scrolled": true
   },
   "outputs": [
    {
     "name": "stdout",
     "output_type": "stream",
     "text": [
      "{'eng': 90, 'kor': 100, 'math': 80}\n"
     ]
    }
   ],
   "source": [
    "scores = {'kor':100, 'eng':90, 'math':80}\n",
    "a = list(scores.keys())\n",
    "a.sort()\n",
    "for i in a:\n",
    "    scores[i] = scores.pop(i)\n",
    "print(scores)"
   ]
  },
  {
   "cell_type": "markdown",
   "id": "54c6f959",
   "metadata": {},
   "source": [
    "## 값 정렬하기"
   ]
  },
  {
   "cell_type": "code",
   "execution_count": 85,
   "id": "9df634c9",
   "metadata": {},
   "outputs": [
    {
     "data": {
      "text/plain": [
       "{'math': 80, 'eng': 90, 'kor': 100}"
      ]
     },
     "execution_count": 85,
     "metadata": {},
     "output_type": "execute_result"
    }
   ],
   "source": [
    "scores = {'kor':100, 'eng':90, 'math':80}\n",
    "a = list(scores.values())\n",
    "b = list(scores.values())\n",
    "c = list(scores.keys())\n",
    "d = []\n",
    "a.sort()\n",
    "for i in a:\n",
    "    d.append(c[b.index(i)])\n",
    "scores = dict(zip(d,a))\n",
    "scores"
   ]
  },
  {
   "cell_type": "markdown",
   "id": "aa8d72a7",
   "metadata": {},
   "source": [
    "## (키,값) 정렬하기"
   ]
  },
  {
   "cell_type": "code",
   "execution_count": 92,
   "id": "38d65f55",
   "metadata": {},
   "outputs": [
    {
     "data": {
      "text/plain": [
       "{'eng': 90, 'kor': 100, 'math': 80}"
      ]
     },
     "execution_count": 92,
     "metadata": {},
     "output_type": "execute_result"
    }
   ],
   "source": [
    "scores = {'kor':100, 'eng':90, 'math':80}\n",
    "a = list(scores.items())\n",
    "a.sort()\n",
    "scores = dict(a)\n",
    "scores"
   ]
  },
  {
   "cell_type": "markdown",
   "id": "414b38a2",
   "metadata": {},
   "source": [
    "# 영어단어장 만들기\n",
    "\n",
    "엔터를 입력할 때까지 영어단어,뜻을 입력받아 단어장을 만들고, 입력이 끝나면 단어 테스트를 실시하는 프로그램을 만들어봅시다.<br>\n",
    "1) 단어장을 만듭니다.<br>\n",
    "2) 단어테스트를 실시하고 맞은 갯수를 계산합니다.<br>\n",
    "3) 테스트가 끝나면 맞은갯수/전체단어수/점수 형태로 결과를 출력합니다<br>"
   ]
  },
  {
   "cell_type": "markdown",
   "id": "5dafdd77",
   "metadata": {},
   "source": [
    "## 단어장 만들기\n",
    "엔터('')를 입력할 때까지 영어단어,뜻을 입력받아 딕셔너리에 저장"
   ]
  },
  {
   "cell_type": "code",
   "execution_count": 101,
   "id": "f9f2bd47",
   "metadata": {},
   "outputs": [
    {
     "name": "stdout",
     "output_type": "stream",
     "text": [
      "영단어를 입력해주세요 :\n",
      "끝내고 싶다면 \"를 입력해주세요\n",
      "word\n",
      "영단어의 뜻을 입력해주세요 :\n",
      "단어\n",
      "영단어를 입력해주세요 :\n",
      "끝내고 싶다면 \"를 입력해주세요\n",
      "mean\n",
      "영단어의 뜻을 입력해주세요 :\n",
      "뜻\n",
      "영단어를 입력해주세요 :\n",
      "끝내고 싶다면 \"를 입력해주세요\n",
      "\"\n",
      "영단어의 뜻을 입력해주세요 :\n",
      "\n",
      "{'word': '단어', 'mean': '뜻'}\n"
     ]
    }
   ],
   "source": [
    "word,mean = '',''\n",
    "words = {}\n",
    "while word != '\"':\n",
    "    word = input('영단어를 입력해주세요 :\\n끝내고 싶다면 \"를 입력해주세요\\n')\n",
    "    mean = input('영단어의 뜻을 입력해주세요 :\\n')\n",
    "    if word != '\"':\n",
    "        words[word] = mean\n",
    "print(words)"
   ]
  },
  {
   "cell_type": "markdown",
   "id": "a4fde2f8",
   "metadata": {},
   "source": [
    "## 단어테스트\n",
    "단어장의 단어들을 모두 테스트<br>\n",
    "맞은 갯수는 별도로 카운트"
   ]
  },
  {
   "cell_type": "code",
   "execution_count": 123,
   "id": "93dc4fc5",
   "metadata": {
    "scrolled": true
   },
   "outputs": [
    {
     "name": "stdout",
     "output_type": "stream",
     "text": [
      "mean\n",
      "뜻\n",
      "word\n",
      "단어\n",
      "정답 : 2 오답 : 0\n"
     ]
    }
   ],
   "source": [
    "import random\n",
    "Answer = 0\n",
    "Wrong = 0\n",
    "t_list = []\n",
    "test = list(words.keys())\n",
    "\n",
    "while len(t_list) != len(test):\n",
    "    testnum = random.randint(0,len(test)-1)\n",
    "    if testnum not in t_list:\n",
    "        print(test[testnum])\n",
    "        te = input('')\n",
    "        t_list.append(testnum)\n",
    "        if te == words[test[testnum]]:\n",
    "            Answer += 1\n",
    "        if te != words[test[testnum]]:\n",
    "            Wrong += 1\n",
    "print('정답 :',Answer,'오답 :',Wrong)"
   ]
  },
  {
   "cell_type": "markdown",
   "id": "57a7ae54",
   "metadata": {},
   "source": [
    "## 테스트 결과 출력\n",
    "맞은갯수/전체문제수/점수 출력"
   ]
  },
  {
   "cell_type": "code",
   "execution_count": 124,
   "id": "a434af28",
   "metadata": {},
   "outputs": [
    {
     "name": "stdout",
     "output_type": "stream",
     "text": [
      "정답 : 2 전체문제수 : 2 점수 : 100.0\n"
     ]
    }
   ],
   "source": [
    "print('정답 :',Answer,'전체문제수 :', Answer + Wrong, '점수 :',Answer / (Answer + Wrong) * 100)"
   ]
  }
 ],
 "metadata": {
  "kernelspec": {
   "display_name": "Python 3 (ipykernel)",
   "language": "python",
   "name": "python3"
  },
  "language_info": {
   "codemirror_mode": {
    "name": "ipython",
    "version": 3
   },
   "file_extension": ".py",
   "mimetype": "text/x-python",
   "name": "python",
   "nbconvert_exporter": "python",
   "pygments_lexer": "ipython3",
   "version": "3.9.7"
  }
 },
 "nbformat": 4,
 "nbformat_minor": 5
}
