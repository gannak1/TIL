{
 "cells": [
  {
   "cell_type": "markdown",
   "id": "87110d0c",
   "metadata": {},
   "source": [
    "## 딕셔너리 만들기\n",
    "- 딕셔너리명 = {키1:값1, 키2:값2,...,}\n",
    "- 중괄호 안에 키:값의 쌍으로 된 항목을 콤마(,)로 구분하여 적어준다."
   ]
  },
  {
   "cell_type": "code",
   "execution_count": 1,
   "id": "fcf60404",
   "metadata": {},
   "outputs": [
    {
     "data": {
      "text/plain": [
       "{'김밥': 2000, '떡볶이': 2500, '어묵': 2000, '튀김': 3000}"
      ]
     },
     "execution_count": 1,
     "metadata": {},
     "output_type": "execute_result"
    }
   ],
   "source": [
    "menu = {'김밥':2000, '떡볶이':2500, '어묵':2000, '튀김':3000}\n",
    "menu"
   ]
  },
  {
   "cell_type": "code",
   "execution_count": 2,
   "id": "1c52542e",
   "metadata": {},
   "outputs": [
    {
     "data": {
      "text/plain": [
       "{'김밥': 2000, '떡볶이': 2500, '어묵': 2000, '튀김': 3000}"
      ]
     },
     "execution_count": 2,
     "metadata": {},
     "output_type": "execute_result"
    }
   ],
   "source": [
    "menu = {'김밥':2000, \n",
    "        '떡볶이':2500, \n",
    "        '어묵':2000, \n",
    "        '튀김':3000}\n",
    "menu"
   ]
  },
  {
   "cell_type": "markdown",
   "id": "0e989461",
   "metadata": {},
   "source": [
    "## dict로 딕셔너리 만들기\n",
    "- 딕셔너리명 = dict(키1=값1, 키2=값2,...,)\n",
    "- 키에 따옴표('')를 쓰지 않는다는 점에 주의한다.\n",
    "- 키에 따옴표('')를 쓰지 않아도 딕셔너리가 생성되면서 자동으로 문자열형으로 지정된다."
   ]
  },
  {
   "cell_type": "code",
   "execution_count": 4,
   "id": "f7b99b32",
   "metadata": {},
   "outputs": [
    {
     "data": {
      "text/plain": [
       "{'김밥': 2000, '떡볶이': 2500, '어묵': 2000, '튀김': 3000}"
      ]
     },
     "execution_count": 4,
     "metadata": {},
     "output_type": "execute_result"
    }
   ],
   "source": [
    "menu1 = dict(김밥=2000, 떡볶이=2500, 어묵=2000, 튀김=3000)\n",
    "menu1"
   ]
  },
  {
   "cell_type": "markdown",
   "id": "90d31ee4",
   "metadata": {},
   "source": [
    "딕셔너리명 = dict(zip(key리스트, value리스트))"
   ]
  },
  {
   "cell_type": "code",
   "execution_count": 5,
   "id": "aadec465",
   "metadata": {},
   "outputs": [
    {
     "data": {
      "text/plain": [
       "{'김밥': 2000, '떡볶이': 2500, '어묵': 2000, '튀김': 3000}"
      ]
     },
     "execution_count": 5,
     "metadata": {},
     "output_type": "execute_result"
    }
   ],
   "source": [
    "key_list = ['김밥','떡볶이','어묵','튀김']\n",
    "value_list = [2000,2500,2000,3000]\n",
    "menu2 = dict(zip(key_list,value_list))\n",
    "menu2"
   ]
  },
  {
   "cell_type": "markdown",
   "id": "5c70cf73",
   "metadata": {},
   "source": [
    "딕셔너리명 = dict([(키1,값1),(키1,값2),...,])"
   ]
  },
  {
   "cell_type": "code",
   "execution_count": 6,
   "id": "f11a6120",
   "metadata": {},
   "outputs": [
    {
     "data": {
      "text/plain": [
       "{'김밥': 2000, '떡볶이': 2500, '어묵': 2000, '튀김': 3000}"
      ]
     },
     "execution_count": 6,
     "metadata": {},
     "output_type": "execute_result"
    }
   ],
   "source": [
    "[('김밥',2000),('떡볶이',2500),('어묵',2000),('튀김',3000)]\n",
    "menu3 = dict([('김밥',2000),('떡볶이',2500),('어묵',2000),('튀김',3000)])\n",
    "menu3"
   ]
  },
  {
   "cell_type": "markdown",
   "id": "18548c45",
   "metadata": {},
   "source": [
    "딕셔너리명 = dict({키1:값1,키2:값2,...,})"
   ]
  },
  {
   "cell_type": "code",
   "execution_count": 7,
   "id": "79ddb7fd",
   "metadata": {},
   "outputs": [
    {
     "name": "stdout",
     "output_type": "stream",
     "text": [
      "{'김밥': 2000, '떡볶이': 2500, '어묵': 2000, '튀김': 3000}\n"
     ]
    }
   ],
   "source": [
    "menu4 = dict({'김밥':2000, '떡볶이':2500, '어묵':2000, '튀김':3000})\n",
    "print(menu4)"
   ]
  },
  {
   "cell_type": "markdown",
   "id": "0fe0ea3d",
   "metadata": {},
   "source": [
    "## 딕셔너리에 사용할 수 있는 자료형\n",
    "- 딕셔너리의 value에는 모든 자료형을 혼합하여 사용할 수 있다."
   ]
  },
  {
   "cell_type": "code",
   "execution_count": 8,
   "id": "a9f47e63",
   "metadata": {},
   "outputs": [
    {
     "data": {
      "text/plain": [
       "{'name': 'james', '나이': 25, '키': 175.5, '시력': (1.0, 1.0), '취미': ['운동', '독서']}"
      ]
     },
     "execution_count": 8,
     "metadata": {},
     "output_type": "execute_result"
    }
   ],
   "source": [
    "person = {'name':'james', \n",
    "          '나이':25,\n",
    "          '키':175.5,\n",
    "          '시력':(1.0,1.0),\n",
    "          '취미':['운동','독서']}\n",
    "person"
   ]
  },
  {
   "cell_type": "markdown",
   "id": "d22839ed",
   "metadata": {},
   "source": [
    "딕셔너리의 key에는 숫자, 문자열, 부울형, 튜플을 사용할 수 있다."
   ]
  },
  {
   "cell_type": "code",
   "execution_count": 9,
   "id": "33184939",
   "metadata": {},
   "outputs": [
    {
     "name": "stdout",
     "output_type": "stream",
     "text": [
      "{100: 'hundred', True: '참', False: '거짓', (1, 3): '학년,반', 7: '번호'}\n"
     ]
    }
   ],
   "source": [
    "number=7\n",
    "\n",
    "dict1 = {\n",
    "    100:'hundred',\n",
    "    True:'참',\n",
    "    False:'거짓',\n",
    "    (1,3):'학년,반',\n",
    "    number:'번호'\n",
    "}\n",
    "print(dict1)"
   ]
  },
  {
   "cell_type": "markdown",
   "id": "c8aac6be",
   "metadata": {},
   "source": [
    "## 중복된 key를 사용하여 딕셔너리 만들면?"
   ]
  },
  {
   "cell_type": "code",
   "execution_count": 10,
   "id": "3ba357dd",
   "metadata": {},
   "outputs": [
    {
     "data": {
      "text/plain": [
       "{'name': 'james', '나이': 30, '키': 175.5, '시력': (1.0, 1.0), '취미': ['운동', '독서']}"
      ]
     },
     "execution_count": 10,
     "metadata": {},
     "output_type": "execute_result"
    }
   ],
   "source": [
    "person = {'name':'james', \n",
    "          '나이':25,\n",
    "          '나이':30,    \n",
    "          '키':175.5,\n",
    "          '시력':(1.0,1.0),\n",
    "          '취미':['운동','독서']}\n",
    "person"
   ]
  },
  {
   "cell_type": "markdown",
   "id": "6c2b089e",
   "metadata": {},
   "source": [
    "## 딕셔너리 값 추출하기\n",
    "### 딕셔너리명[key]"
   ]
  },
  {
   "cell_type": "code",
   "execution_count": 11,
   "id": "a3bf5a07",
   "metadata": {},
   "outputs": [
    {
     "data": {
      "text/plain": [
       "30"
      ]
     },
     "execution_count": 11,
     "metadata": {},
     "output_type": "execute_result"
    }
   ],
   "source": [
    "person['나이']"
   ]
  },
  {
   "cell_type": "markdown",
   "id": "65dd4f1a",
   "metadata": {},
   "source": [
    "## 존재하지 않는 key로 추출하면?\n",
    "### KeyError가 발생한다."
   ]
  },
  {
   "cell_type": "code",
   "execution_count": 12,
   "id": "267f4607",
   "metadata": {},
   "outputs": [
    {
     "ename": "KeyError",
     "evalue": "'몸무게'",
     "output_type": "error",
     "traceback": [
      "\u001b[1;31m---------------------------------------------------------------------------\u001b[0m",
      "\u001b[1;31mKeyError\u001b[0m                                  Traceback (most recent call last)",
      "\u001b[1;32m~\\AppData\\Local\\Temp/ipykernel_3884/3041137338.py\u001b[0m in \u001b[0;36m<module>\u001b[1;34m\u001b[0m\n\u001b[1;32m----> 1\u001b[1;33m \u001b[0mperson\u001b[0m\u001b[1;33m[\u001b[0m\u001b[1;34m'몸무게'\u001b[0m\u001b[1;33m]\u001b[0m\u001b[1;33m\u001b[0m\u001b[1;33m\u001b[0m\u001b[0m\n\u001b[0m",
      "\u001b[1;31mKeyError\u001b[0m: '몸무게'"
     ]
    }
   ],
   "source": [
    "person['몸무게']"
   ]
  },
  {
   "cell_type": "markdown",
   "id": "646e2e58",
   "metadata": {},
   "source": [
    "## 딕셔너리에 키 존재여부 확인하기\n",
    "### key in 딕셔너리명"
   ]
  },
  {
   "cell_type": "code",
   "execution_count": 13,
   "id": "687b03b8",
   "metadata": {},
   "outputs": [
    {
     "name": "stdout",
     "output_type": "stream",
     "text": [
      "존재하지 않음\n"
     ]
    }
   ],
   "source": [
    "if '몸무게' in person:\n",
    "    print(person['몸무게'])\n",
    "else:\n",
    "    print('존재하지 않음')"
   ]
  },
  {
   "cell_type": "markdown",
   "id": "75e7c051",
   "metadata": {},
   "source": [
    "## 딕셔너리명.get(key, msg)\n",
    "- 존재하지 않는 key로 추출 시도해도 오류가 발생하지 않는다.\n",
    "- 존재하지 않는 key로 추출 시도할 경우 출력할 메시지를 설정할 수 있다."
   ]
  },
  {
   "cell_type": "code",
   "execution_count": 14,
   "id": "e40142b4",
   "metadata": {},
   "outputs": [
    {
     "data": {
      "text/plain": [
       "30"
      ]
     },
     "execution_count": 14,
     "metadata": {},
     "output_type": "execute_result"
    }
   ],
   "source": [
    "person.get('나이')"
   ]
  },
  {
   "cell_type": "code",
   "execution_count": 15,
   "id": "8645540d",
   "metadata": {},
   "outputs": [],
   "source": [
    "person.get('몸무게')"
   ]
  },
  {
   "cell_type": "code",
   "execution_count": 16,
   "id": "f197811f",
   "metadata": {},
   "outputs": [
    {
     "data": {
      "text/plain": [
       "'존재하지않음'"
      ]
     },
     "execution_count": 16,
     "metadata": {},
     "output_type": "execute_result"
    }
   ],
   "source": [
    "person.get('몸무게','존재하지않음')"
   ]
  },
  {
   "cell_type": "markdown",
   "id": "a212b4a0",
   "metadata": {},
   "source": [
    "## 딕셔너리 항목 추가/수정\n",
    "### 딕셔너리명[키]=값\n",
    "- 키가 존재하지 않으면 추가, 존재하면 수정된다."
   ]
  },
  {
   "cell_type": "code",
   "execution_count": 18,
   "id": "b6f63c76",
   "metadata": {},
   "outputs": [
    {
     "data": {
      "text/plain": [
       "{'kor': 100, 'eng': 90, 'math': 85, ' music': 95}"
      ]
     },
     "execution_count": 18,
     "metadata": {},
     "output_type": "execute_result"
    }
   ],
   "source": [
    "scores = {'kor':100, 'eng':90, 'math':80}\n",
    "\n",
    "# math점수 85점으로 수정하기\n",
    "scores['math']=85\n",
    "\n",
    "# music점수 95점 추가하기\n",
    "scores[' music']=95\n",
    "\n",
    "scores"
   ]
  },
  {
   "cell_type": "markdown",
   "id": "c4d7479e",
   "metadata": {},
   "source": [
    "## setdefault로 항목 추가하기\n",
    "- 딕셔너리명.setdefault(키,값)\n",
    "- 이미 들어있는 키의 값은 수정할 수 없다."
   ]
  },
  {
   "cell_type": "code",
   "execution_count": 19,
   "id": "93efcfd9",
   "metadata": {},
   "outputs": [
    {
     "data": {
      "text/plain": [
       "{'kor': 100, 'eng': 90, 'math': 80, 'music': None}"
      ]
     },
     "execution_count": 19,
     "metadata": {},
     "output_type": "execute_result"
    }
   ],
   "source": [
    "scores = {'kor':100, 'eng':90, 'math':80}\n",
    "\n",
    "# music점수 넣기(key만 넣고 value를 생략하면? value에 빈값)\n",
    "scores.setdefault('music')\n",
    "\n",
    "scores"
   ]
  },
  {
   "cell_type": "code",
   "execution_count": 20,
   "id": "365b7b12",
   "metadata": {},
   "outputs": [
    {
     "data": {
      "text/plain": [
       "{'kor': 100, 'eng': 90, 'math': 80, 'music': 90}"
      ]
     },
     "execution_count": 20,
     "metadata": {},
     "output_type": "execute_result"
    }
   ],
   "source": [
    "scores = {'kor':100, 'eng':90, 'math':80}\n",
    "\n",
    "# music점수 90점 추가\n",
    "scores.setdefault('music',90)\n",
    "\n",
    "scores"
   ]
  },
  {
   "cell_type": "code",
   "execution_count": 21,
   "id": "38373a30",
   "metadata": {},
   "outputs": [
    {
     "data": {
      "text/plain": [
       "{'kor': 100, 'eng': 90, 'math': 80, 'music': 95}"
      ]
     },
     "execution_count": 21,
     "metadata": {},
     "output_type": "execute_result"
    }
   ],
   "source": [
    "scores = {'kor': 100, 'eng': 90, 'math': 80, 'music': 95}\n",
    "\n",
    "# music점수 85점으로 수정\n",
    "scores.setdefault('music',85) # 변경되지 않음 \n",
    "\n",
    "scores"
   ]
  },
  {
   "cell_type": "markdown",
   "id": "90791075",
   "metadata": {},
   "source": [
    "## update로 여러 항목 추가/수정하기\n",
    "- 키가 존재하면 수정, 존재하지 않으면 추가된다.\n",
    "- 딕셔너리명.update(키1=값1, 키1=값2,...)\n",
    "- 키에 따옴표를 하지 않지만, 딕셔너리에 들어갈 때는 따옴표가 붙어서 들어간다."
   ]
  },
  {
   "cell_type": "code",
   "execution_count": 22,
   "id": "f9fa9fe2",
   "metadata": {},
   "outputs": [
    {
     "data": {
      "text/plain": [
       "{'kor': 100, 'eng': 90, 'math': 90, 'music': 90}"
      ]
     },
     "execution_count": 22,
     "metadata": {},
     "output_type": "execute_result"
    }
   ],
   "source": [
    "scores = {'kor':100, 'eng':90, 'math':80}\n",
    "\n",
    "# math:90, music:90\n",
    "scores.update(math=90, music=90)\n",
    "\n",
    "scores"
   ]
  },
  {
   "cell_type": "markdown",
   "id": "01723a85",
   "metadata": {},
   "source": [
    "- 딕셔너리명.update(zip(key리스트, value리스트)"
   ]
  },
  {
   "cell_type": "code",
   "execution_count": 23,
   "id": "77e8f9b6",
   "metadata": {},
   "outputs": [
    {
     "data": {
      "text/plain": [
       "{'kor': 100, 'eng': 90, 'math': 90, 'music': 90}"
      ]
     },
     "execution_count": 23,
     "metadata": {},
     "output_type": "execute_result"
    }
   ],
   "source": [
    "scores = {'kor':100, 'eng':90, 'math':80}\n",
    "\n",
    "# math:90, music:90\n",
    "scores.update(zip(['math','music'],[90,90]))\n",
    "\n",
    "scores"
   ]
  },
  {
   "cell_type": "markdown",
   "id": "b1497ad2",
   "metadata": {},
   "source": [
    "- 딕셔너리명.update([(키1,값1),(키2,값2),...])"
   ]
  },
  {
   "cell_type": "code",
   "execution_count": 24,
   "id": "3f1c2fe5",
   "metadata": {},
   "outputs": [
    {
     "data": {
      "text/plain": [
       "{'kor': 100, 'eng': 90, 'math': 90, 'music': 90}"
      ]
     },
     "execution_count": 24,
     "metadata": {},
     "output_type": "execute_result"
    }
   ],
   "source": [
    "scores = {'kor':100, 'eng':90, 'math':80}\n",
    "\n",
    "# math:90, music:90\n",
    "scores.update([('math',90),('music',90)])\n",
    "scores"
   ]
  },
  {
   "cell_type": "markdown",
   "id": "a3c3336c",
   "metadata": {},
   "source": [
    "- 딕셔너리명.update({키1:값1,키2:값2,...,})"
   ]
  },
  {
   "cell_type": "code",
   "execution_count": 25,
   "id": "daac74d4",
   "metadata": {},
   "outputs": [
    {
     "data": {
      "text/plain": [
       "{'kor': 100, 'eng': 90, 'math': 90, 'music': 90}"
      ]
     },
     "execution_count": 25,
     "metadata": {},
     "output_type": "execute_result"
    }
   ],
   "source": [
    "scores = {'kor':100, 'eng':90, 'math':80}\n",
    "\n",
    "# math:90, music:90\n",
    "scores.update({'math': 90, 'music': 90})\n",
    "    \n",
    "scores"
   ]
  },
  {
   "cell_type": "markdown",
   "id": "b83e0c73",
   "metadata": {},
   "source": [
    "## 딕셔너리에서 항목 삭제하기\n",
    "### del 딕셔너리명[키]\n",
    "- 해당 키의 항목 삭제"
   ]
  },
  {
   "cell_type": "code",
   "execution_count": 26,
   "id": "fc3ff6c6",
   "metadata": {},
   "outputs": [
    {
     "data": {
      "text/plain": [
       "{'eng': 90, 'math': 80}"
      ]
     },
     "execution_count": 26,
     "metadata": {},
     "output_type": "execute_result"
    }
   ],
   "source": [
    "scores = {'kor':100, 'eng':90, 'math':80}\n",
    "\n",
    "# 키가 'kor'인 항목 삭제\n",
    "del scores['kor']\n",
    "\n",
    "scores"
   ]
  },
  {
   "cell_type": "markdown",
   "id": "f5ab4f6c",
   "metadata": {},
   "source": [
    "## 딕셔너리명.pop(키, 기본값)\n",
    "- 해당 키의 항목(값) 반환하고 삭제"
   ]
  },
  {
   "cell_type": "code",
   "execution_count": 27,
   "id": "f30ca538",
   "metadata": {},
   "outputs": [
    {
     "name": "stdout",
     "output_type": "stream",
     "text": [
      "100\n",
      "{'eng': 90, 'math': 80}\n"
     ]
    }
   ],
   "source": [
    "scores = {'kor':100, 'eng':90, 'math':80}\n",
    "\n",
    "# 키가 'kor'인 항목의 값 받아온 후 삭제\n",
    "kor = scores.pop('kor')\n",
    "\n",
    "print(kor)\n",
    "print(scores)"
   ]
  },
  {
   "cell_type": "markdown",
   "id": "5ec6c9a5",
   "metadata": {},
   "source": [
    "- 해당 키의 항목 반환하고 삭제(키가 존재하지 않을 때 기본값 반환)"
   ]
  },
  {
   "cell_type": "code",
   "execution_count": 29,
   "id": "8f614747",
   "metadata": {},
   "outputs": [
    {
     "name": "stdout",
     "output_type": "stream",
     "text": [
      "x\n",
      "{'kor': 100, 'eng': 90, 'math': 80}\n"
     ]
    }
   ],
   "source": [
    "scores = {'kor':100, 'eng':90, 'math':80}\n",
    "\n",
    "# 키가 'music'인 항목의 값 받아온 후 삭제(삭제할 키가 존재하지 않는 경우)\n",
    "music = scores.pop('music','x')\n",
    "\n",
    "\n",
    "print(music)\n",
    "print(scores)  # 기본값 반환 "
   ]
  },
  {
   "cell_type": "markdown",
   "id": "708d7b68",
   "metadata": {},
   "source": [
    "ㅁㅁ\n",
    "ㅁ\n",
    "ㅁ\n",
    "ㅁ\n",
    "ㅁ\n",
    "ㅁ\n",
    "ㅁ\n"
   ]
  }
 ],
 "metadata": {
  "kernelspec": {
   "display_name": "Python 3 (ipykernel)",
   "language": "python",
   "name": "python3"
  },
  "language_info": {
   "codemirror_mode": {
    "name": "ipython",
    "version": 3
   },
   "file_extension": ".py",
   "mimetype": "text/x-python",
   "name": "python",
   "nbconvert_exporter": "python",
   "pygments_lexer": "ipython3",
   "version": "3.9.7"
  }
 },
 "nbformat": 4,
 "nbformat_minor": 5
}
