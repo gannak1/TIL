{
 "cells": [
  {
   "cell_type": "markdown",
   "id": "6ec3b720",
   "metadata": {},
   "source": [
    "## 함수 정의하고 호출하기\n",
    "- 자기소개 함수 정의하고 호출하기"
   ]
  },
  {
   "cell_type": "code",
   "execution_count": 1,
   "id": "669fc65c",
   "metadata": {},
   "outputs": [
    {
     "name": "stdout",
     "output_type": "stream",
     "text": [
      "안녕하세요!\n",
      "저의 이름은 파이썬입니다.\n"
     ]
    }
   ],
   "source": [
    "## 자기소개 ##\n",
    "print('안녕하세요!')\n",
    "print('저의 이름은 파이썬입니다.')"
   ]
  },
  {
   "cell_type": "code",
   "execution_count": 2,
   "id": "49bc7509",
   "metadata": {},
   "outputs": [
    {
     "name": "stdout",
     "output_type": "stream",
     "text": [
      "안녕하세요 \n",
      "저의 이름은 정영훈입니다.\n"
     ]
    }
   ],
   "source": [
    "# 함수 정의\n",
    "def self_introduction(name):\n",
    "    try:\n",
    "        print(f'안녕하세요 \\n저의 이름은 {name}입니다.')\n",
    "    except:\n",
    "        print('이름을 확인해주세요')\n",
    "# 함수 호출\n",
    "self_introduction('정영훈')"
   ]
  },
  {
   "cell_type": "markdown",
   "id": "54b12898",
   "metadata": {},
   "source": [
    "* 함수 정의를 먼저 한 후 호출하도록 코드를 순차적으로 작성해야 한다."
   ]
  },
  {
   "cell_type": "code",
   "execution_count": 3,
   "id": "5d447bd7",
   "metadata": {},
   "outputs": [
    {
     "ename": "NameError",
     "evalue": "name 'self_introduction_S' is not defined",
     "output_type": "error",
     "traceback": [
      "\u001b[1;31m---------------------------------------------------------------------------\u001b[0m",
      "\u001b[1;31mNameError\u001b[0m                                 Traceback (most recent call last)",
      "\u001b[1;32m~\\AppData\\Local\\Temp/ipykernel_8780/849625015.py\u001b[0m in \u001b[0;36m<module>\u001b[1;34m\u001b[0m\n\u001b[0;32m      1\u001b[0m \u001b[1;31m# 함수 호출\u001b[0m\u001b[1;33m\u001b[0m\u001b[1;33m\u001b[0m\u001b[0m\n\u001b[1;32m----> 2\u001b[1;33m \u001b[0mself_introduction_S\u001b[0m\u001b[1;33m(\u001b[0m\u001b[1;34m'정영훈'\u001b[0m\u001b[1;33m)\u001b[0m\u001b[1;33m\u001b[0m\u001b[1;33m\u001b[0m\u001b[0m\n\u001b[0m\u001b[0;32m      3\u001b[0m \u001b[1;31m# 함수 정의\u001b[0m\u001b[1;33m\u001b[0m\u001b[1;33m\u001b[0m\u001b[0m\n\u001b[0;32m      4\u001b[0m \u001b[1;32mdef\u001b[0m \u001b[0mself_introduction_S\u001b[0m\u001b[1;33m(\u001b[0m\u001b[0mname\u001b[0m\u001b[1;33m)\u001b[0m\u001b[1;33m:\u001b[0m\u001b[1;33m\u001b[0m\u001b[1;33m\u001b[0m\u001b[0m\n\u001b[0;32m      5\u001b[0m     \u001b[1;32mtry\u001b[0m\u001b[1;33m:\u001b[0m\u001b[1;33m\u001b[0m\u001b[1;33m\u001b[0m\u001b[0m\n",
      "\u001b[1;31mNameError\u001b[0m: name 'self_introduction_S' is not defined"
     ]
    }
   ],
   "source": [
    "# 함수 호출\n",
    "self_introduction_S('정영훈')\n",
    "# 함수 정의 \n",
    "def self_introduction_S(name):\n",
    "    try:\n",
    "        print(f'안녕하세요 \\n저의 이름은 {name}입니다.')\n",
    "    except:\n",
    "        print('이름을 확인해주세요')\n",
    "    \n",
    "# 코드는 위에서부터 아래로 순차적으로 실행된다.\n",
    "# 함수를 호출하는 시점에 함수가 정의되어 있지 않으면 에러 발생"
   ]
  },
  {
   "cell_type": "code",
   "execution_count": 5,
   "id": "5db2fcda",
   "metadata": {},
   "outputs": [
    {
     "name": "stdout",
     "output_type": "stream",
     "text": [
      "안녕하세요!\n",
      "저의 이름은, 정영훈입니다.\n"
     ]
    }
   ],
   "source": [
    "## 자기소개 ##\n",
    "name= '정영훈'\n",
    "print('안녕하세요!')\n",
    "print('저의 이름은, '+name+'입니다.')"
   ]
  },
  {
   "cell_type": "code",
   "execution_count": 6,
   "id": "7c668b52",
   "metadata": {},
   "outputs": [
    {
     "name": "stdout",
     "output_type": "stream",
     "text": [
      "안녕하세요 \n",
      "저의 이름은 정영훈입니다.\n"
     ]
    }
   ],
   "source": [
    "# 함수 정의\n",
    "def self_introduction(name):\n",
    "    try:\n",
    "        print(f'안녕하세요 \\n저의 이름은 {name}입니다.')\n",
    "    except:\n",
    "        print('이름을 확인해주세요')\n",
    "# 함수 호출\n",
    "self_introduction('정영훈')"
   ]
  },
  {
   "cell_type": "markdown",
   "id": "92c5ad0e",
   "metadata": {},
   "source": [
    "* 매개변수 여러개 전달하기"
   ]
  },
  {
   "cell_type": "code",
   "execution_count": 8,
   "id": "38027180",
   "metadata": {},
   "outputs": [
    {
     "name": "stdout",
     "output_type": "stream",
     "text": [
      "안녕하세요!\n",
      "저의 이름은, 정영훈입니다.\n",
      "나이는, 20살입니다.\n"
     ]
    }
   ],
   "source": [
    "## 자기소개 ##\n",
    "name= '정영훈'\n",
    "age = 20\n",
    "print('안녕하세요!')\n",
    "print('저의 이름은, '+name+'입니다.')\n",
    "print('나이는, '+str(age)+'살입니다.')"
   ]
  },
  {
   "cell_type": "code",
   "execution_count": 17,
   "id": "9633e6c2",
   "metadata": {},
   "outputs": [
    {
     "name": "stdout",
     "output_type": "stream",
     "text": [
      "안녕하세요\n",
      "저의 이름은 정영훈입니다.\n",
      "나이는 20살입니다.\n"
     ]
    }
   ],
   "source": [
    "def self_introduction_na(name,age):\n",
    "    print('안녕하세요\\n저의 이름은 '+name+'입니다.\\n나이는 '+str(age)+'살입니다.')\n",
    "self_introduction_na(name,age)"
   ]
  },
  {
   "cell_type": "markdown",
   "id": "fc2a3e12",
   "metadata": {},
   "source": [
    "## 연습문제\n",
    "- 이름과 나이를 입력받아 생일축하 메시지를 출력하는 함수를 만들고 호출하세요.\n",
    "- 생일문구 : ooo님의 oo번째 생일을 축하합니다!!"
   ]
  },
  {
   "cell_type": "code",
   "execution_count": 18,
   "id": "59e7bc57",
   "metadata": {},
   "outputs": [
    {
     "name": "stdout",
     "output_type": "stream",
     "text": [
      "정영훈님의 29번째 생일을 축하합니다!!\n"
     ]
    }
   ],
   "source": [
    "def self_introduction(name,age):\n",
    "    print(f'{name}님의 {age}번째 생일을 축하합니다!!')\n",
    "self_introduction('정영훈',29)"
   ]
  },
  {
   "cell_type": "markdown",
   "id": "b9d8a78f",
   "metadata": {},
   "source": [
    "# 값 1개 반환하기"
   ]
  },
  {
   "cell_type": "code",
   "execution_count": 19,
   "id": "86fb1396",
   "metadata": {},
   "outputs": [
    {
     "name": "stdout",
     "output_type": "stream",
     "text": [
      "3\n",
      "plus: 3\n"
     ]
    }
   ],
   "source": [
    "# 두 수를 매개변수로 받아 더한 후 결과를 리턴하는 함수 만들기\n",
    "def get_plus(n1,n2):\n",
    "    return n1+n2\n",
    "\n",
    "print(get_plus(1,2))\n",
    "\n",
    "plus = get_plus(1,2)\n",
    "print('plus:',plus)"
   ]
  },
  {
   "cell_type": "markdown",
   "id": "2af30e47",
   "metadata": {},
   "source": [
    "## 값 여러개 반환하기\n",
    "- 여러개의 값을 하나의 튜플로 묶어서 반환한다."
   ]
  },
  {
   "cell_type": "code",
   "execution_count": 20,
   "id": "27289c8f",
   "metadata": {},
   "outputs": [
    {
     "name": "stdout",
     "output_type": "stream",
     "text": [
      "3 -1\n"
     ]
    }
   ],
   "source": [
    "# 두 수를 매개변수로 받아 더한값과 뺀 값을 리턴하는 함수 만들기\n",
    "def get_plus_minus(n1,n2):\n",
    "    return n1+n2, n1-n2\n",
    "\n",
    "result = get_plus_minus(1,2)\n",
    "result\n",
    "\n",
    "plus,minus = get_plus_minus(1,2)\n",
    "print(plus,minus)"
   ]
  },
  {
   "cell_type": "markdown",
   "id": "422d7b9b",
   "metadata": {},
   "source": [
    "## 함수에서 빠져나오기\n",
    "- return을 만나면 함수를 빠져나온다.\n",
    "- 반환할 값이 있다면 값을 반환하고 빠져나오고, 없다면 그냥 빠져나온다."
   ]
  },
  {
   "cell_type": "code",
   "execution_count": 21,
   "id": "f936bea4",
   "metadata": {},
   "outputs": [
    {
     "data": {
      "text/plain": [
       "'홀수'"
      ]
     },
     "execution_count": 21,
     "metadata": {},
     "output_type": "execute_result"
    }
   ],
   "source": [
    "# 정수를 입력받아 0, 짝수, 홀수 여부를 리턴하는 함수 만들기\n",
    "def is_odd_even(n):\n",
    "    if n == 0:\n",
    "        result=0\n",
    "    elif n%2==0:\n",
    "        result='짝수'\n",
    "    else:\n",
    "        result='홀수'\n",
    "    \n",
    "    return result\n",
    "\n",
    "is_odd_even(21)"
   ]
  },
  {
   "cell_type": "code",
   "execution_count": 22,
   "id": "db49bbfe",
   "metadata": {},
   "outputs": [
    {
     "data": {
      "text/plain": [
       "'홀수'"
      ]
     },
     "execution_count": 22,
     "metadata": {},
     "output_type": "execute_result"
    }
   ],
   "source": [
    "def is_odd_even(n):\n",
    "    if n == 0:\n",
    "        return 0\n",
    "    if n%2 == 0:\n",
    "        return '짝수'\n",
    "    return '홀수'\n",
    "\n",
    "is_odd_even(23)"
   ]
  },
  {
   "cell_type": "markdown",
   "id": "fc32ebb2",
   "metadata": {},
   "source": [
    "## 연습문제\n",
    "- 소수 여부 판단하기 매개변수로 전달받은 수가 소수인지 아닌지 판별하는 함수를 작성하고 호출하세요.\n",
    "\n",
    "- 소수란 : 1과 자기 자신으로만 나누어 떨어지는 1보다 큰 양의 정수"
   ]
  },
  {
   "cell_type": "code",
   "execution_count": 35,
   "id": "5b2ebe9a",
   "metadata": {},
   "outputs": [
    {
     "name": "stdout",
     "output_type": "stream",
     "text": [
      "7은 소수입니다.\n",
      "10은 소수가 아닙니다.\n",
      "1021은 소수입니다.\n"
     ]
    },
    {
     "data": {
      "text/plain": [
       "(None, None, None)"
      ]
     },
     "execution_count": 35,
     "metadata": {},
     "output_type": "execute_result"
    }
   ],
   "source": [
    "def is_prime(n):\n",
    "    if n == 1:\n",
    "        print('1은 소수가 될 수 없습니다.')\n",
    "        return\n",
    "    \n",
    "    for i in range(2,round(n/2)):\n",
    "        if n % i == 0:\n",
    "            return print(f'{n}은 소수가 아닙니다.')\n",
    "    return print(f'{n}은 소수입니다.')\n",
    "is_prime(7), is_prime(10),is_prime(2 ** 10 - 3)"
   ]
  },
  {
   "cell_type": "markdown",
   "id": "50b08381",
   "metadata": {},
   "source": [
    "## 위치인수\n",
    "- 기본적인 인수 전달방법이다.\n",
    "- 함수에 정의된 매개변수와 순서에 맞게 짝을 맞추어 인수를 전달한다."
   ]
  },
  {
   "cell_type": "code",
   "execution_count": 36,
   "id": "6b7f43b8",
   "metadata": {},
   "outputs": [
    {
     "name": "stdout",
     "output_type": "stream",
     "text": [
      "안녕! 친구 오랜만이야\n"
     ]
    }
   ],
   "source": [
    "def greet(name, msg):\n",
    "    print('안녕!',name,msg)\n",
    "\n",
    "greet('친구','오랜만이야')"
   ]
  },
  {
   "cell_type": "markdown",
   "id": "1523e816",
   "metadata": {},
   "source": [
    "## 디폴트인수\n",
    "- 함수를 정의할 때 매개변수에 디폴트값을 지정하면 디폴트값이 지정된 인수를 생략할 수 있다."
   ]
  },
  {
   "cell_type": "code",
   "execution_count": 37,
   "id": "6324a5e5",
   "metadata": {},
   "outputs": [
    {
     "name": "stdout",
     "output_type": "stream",
     "text": [
      "안녕! 친구 오랜만이야\n",
      "안녕! 친구 반가워\n"
     ]
    }
   ],
   "source": [
    "def greet(name, msg='오랜만이야'):\n",
    "    print('안녕!',name,msg)\n",
    "\n",
    "greet('친구')\n",
    "greet('친구', '반가워')"
   ]
  },
  {
   "cell_type": "markdown",
   "id": "2973b683",
   "metadata": {},
   "source": [
    "- 디폴트 인수는 기본 위치 인수를 다 적은 다음에 적어야 한다."
   ]
  },
  {
   "cell_type": "code",
   "execution_count": 44,
   "id": "60176bfc",
   "metadata": {},
   "outputs": [
    {
     "ename": "SyntaxError",
     "evalue": "non-default argument follows default argument (Temp/ipykernel_8780/450542960.py, line 4)",
     "output_type": "error",
     "traceback": [
      "\u001b[1;36m  File \u001b[1;32m\"C:\\Users\\gi930\\AppData\\Local\\Temp/ipykernel_8780/450542960.py\"\u001b[1;36m, line \u001b[1;32m4\u001b[0m\n\u001b[1;33m    def greet(name='친구', msg):\u001b[0m\n\u001b[1;37m                            ^\u001b[0m\n\u001b[1;31mSyntaxError\u001b[0m\u001b[1;31m:\u001b[0m non-default argument follows default argument\n"
     ]
    }
   ],
   "source": [
    "def greet(msg, name='친구'):\n",
    "    print('안녕!',name,msg)\n",
    "greet('sss')\n",
    "def greet(name='친구', msg):\n",
    "    print('안녕!',name,msg)"
   ]
  },
  {
   "cell_type": "markdown",
   "id": "51c225c5",
   "metadata": {},
   "source": [
    "## 키워드인수\n",
    "- 함수를 호출할 때 인수의 이름을 명시하면, 순서를 바꾸어 전달할 수 있다."
   ]
  },
  {
   "cell_type": "code",
   "execution_count": 47,
   "id": "acb6e75d",
   "metadata": {},
   "outputs": [
    {
     "name": "stdout",
     "output_type": "stream",
     "text": [
      "-20\n",
      "-20\n"
     ]
    }
   ],
   "source": [
    "def get_minus(x,y,z):\n",
    "    return x-y-z\n",
    "\n",
    "print(get_minus(5,10,15))\n",
    "print(get_minus(z=15,y=10,x = 5))"
   ]
  },
  {
   "cell_type": "markdown",
   "id": "e6c145da",
   "metadata": {},
   "source": [
    "## 가변인수\n",
    "- 인수를 하나의 튜플이나 리스트로 전달한다."
   ]
  },
  {
   "cell_type": "code",
   "execution_count": 49,
   "id": "ce2e3269",
   "metadata": {},
   "outputs": [
    {
     "data": {
      "text/plain": [
       "3.0"
      ]
     },
     "execution_count": 49,
     "metadata": {},
     "output_type": "execute_result"
    }
   ],
   "source": [
    "# 가변적인 수를 하나의 리스트/튜플로 받아서 수의 평균을 리턴하는 함수  \n",
    "def average(args):\n",
    "    return sum(args)/len(args)\n",
    "\n",
    "average([1,2,3])\n",
    "average((1,2,3,4,5))"
   ]
  },
  {
   "cell_type": "markdown",
   "id": "414f50e9",
   "metadata": {},
   "source": [
    "- 매개변수에 '*'를 붙이면 여러개의 인수를 하나의 튜플로 받는다.\n",
    "- 인수의 갯수는 가변적이다."
   ]
  },
  {
   "cell_type": "code",
   "execution_count": 53,
   "id": "8cb7dd17",
   "metadata": {},
   "outputs": [
    {
     "data": {
      "text/plain": [
       "5.5"
      ]
     },
     "execution_count": 53,
     "metadata": {},
     "output_type": "execute_result"
    }
   ],
   "source": [
    "def average(*변수):\n",
    "    return sum(변수) / len(변수)\n",
    "average(1,2,3,4,5,6,7,8,9,10)"
   ]
  },
  {
   "cell_type": "markdown",
   "id": "465098b4",
   "metadata": {},
   "source": [
    "print함수의 위치인수, 키워드인수"
   ]
  },
  {
   "cell_type": "code",
   "execution_count": 54,
   "id": "82f885c0",
   "metadata": {},
   "outputs": [
    {
     "name": "stdout",
     "output_type": "stream",
     "text": [
      "Help on built-in function print in module builtins:\n",
      "\n",
      "print(...)\n",
      "    print(value, ..., sep=' ', end='\\n', file=sys.stdout, flush=False)\n",
      "    \n",
      "    Prints the values to a stream, or to sys.stdout by default.\n",
      "    Optional keyword arguments:\n",
      "    file:  a file-like object (stream); defaults to the current sys.stdout.\n",
      "    sep:   string inserted between values, default a space.\n",
      "    end:   string appended after the last value, default a newline.\n",
      "    flush: whether to forcibly flush the stream.\n",
      "\n"
     ]
    }
   ],
   "source": [
    "help(print)"
   ]
  },
  {
   "cell_type": "code",
   "execution_count": 55,
   "id": "b82c2036",
   "metadata": {},
   "outputs": [
    {
     "name": "stdout",
     "output_type": "stream",
     "text": [
      "1@2@3\n",
      "4 5\n"
     ]
    }
   ],
   "source": [
    "print(1,2,3,sep='@')\n",
    "print(4,5)"
   ]
  },
  {
   "cell_type": "markdown",
   "id": "d8ee5eb5",
   "metadata": {},
   "source": [
    "## 전역변수\n",
    "- 함수 밖에서 생성된 변수\n",
    "- 함수 내에서도 사용할 수 있다."
   ]
  },
  {
   "cell_type": "code",
   "execution_count": 56,
   "id": "0e603949",
   "metadata": {},
   "outputs": [
    {
     "name": "stdout",
     "output_type": "stream",
     "text": [
      "hello\n"
     ]
    }
   ],
   "source": [
    "say = 'hello'\n",
    "def helo():\n",
    "    print(say)\n",
    "helo()"
   ]
  },
  {
   "cell_type": "markdown",
   "id": "570a77a8",
   "metadata": {},
   "source": [
    "## 지역변수\n",
    "- 함수 내에서 생성된 변수\n",
    "- 함수 내에서만 사용할 수 있다."
   ]
  },
  {
   "cell_type": "code",
   "execution_count": 57,
   "id": "748c769f",
   "metadata": {},
   "outputs": [
    {
     "name": "stdout",
     "output_type": "stream",
     "text": [
      "goodbye\n"
     ]
    },
    {
     "ename": "NameError",
     "evalue": "name 'say2' is not defined",
     "output_type": "error",
     "traceback": [
      "\u001b[1;31m---------------------------------------------------------------------------\u001b[0m",
      "\u001b[1;31mNameError\u001b[0m                                 Traceback (most recent call last)",
      "\u001b[1;32m~\\AppData\\Local\\Temp/ipykernel_8780/3901530915.py\u001b[0m in \u001b[0;36m<module>\u001b[1;34m\u001b[0m\n\u001b[0;32m      5\u001b[0m \u001b[1;33m\u001b[0m\u001b[0m\n\u001b[0;32m      6\u001b[0m \u001b[0msaygoodbye\u001b[0m\u001b[1;33m(\u001b[0m\u001b[1;33m)\u001b[0m\u001b[1;33m\u001b[0m\u001b[1;33m\u001b[0m\u001b[0m\n\u001b[1;32m----> 7\u001b[1;33m \u001b[0mprint\u001b[0m\u001b[1;33m(\u001b[0m\u001b[0msay2\u001b[0m\u001b[1;33m)\u001b[0m\u001b[1;33m\u001b[0m\u001b[1;33m\u001b[0m\u001b[0m\n\u001b[0m",
      "\u001b[1;31mNameError\u001b[0m: name 'say2' is not defined"
     ]
    }
   ],
   "source": [
    "def saygoodbye():\n",
    "    say2 = 'goodbye' #지역변수\n",
    "    print(say2)\n",
    "\n",
    "\n",
    "saygoodbye()\n",
    "print(say2)"
   ]
  },
  {
   "cell_type": "markdown",
   "id": "dbd479b1",
   "metadata": {},
   "source": [
    "## 함수안에서 전역변수 값 변경하기\n",
    "- 함수 내에서 전역변수 값을 변경하려면 'global' 키워드를 함께 사용하여야 한다.\n",
    "- global을 사용하지 않으면 동일한 이름의 지역변수가 생성되어 사용된다."
   ]
  },
  {
   "cell_type": "code",
   "execution_count": 58,
   "id": "4842b541",
   "metadata": {},
   "outputs": [
    {
     "name": "stdout",
     "output_type": "stream",
     "text": [
      "(12, -8)\n",
      "1\n"
     ]
    }
   ],
   "source": [
    "n1 = 1   # 전역변수\n",
    "n2 = 10\n",
    "\n",
    "def get_plus_minus():\n",
    "    n1 = 2   # 지역변수 \n",
    "    plus = n1+n2\n",
    "    minus = n1-n2\n",
    "    return plus, minus\n",
    "\n",
    "print(get_plus_minus()) # 지역변수에 정의된 값으로 계산\n",
    "print(n1)               # 전역변수 정의된 값 출력 "
   ]
  },
  {
   "cell_type": "code",
   "execution_count": 59,
   "id": "4c84e640",
   "metadata": {},
   "outputs": [
    {
     "name": "stdout",
     "output_type": "stream",
     "text": [
      "(12, -8)\n",
      "2\n"
     ]
    }
   ],
   "source": [
    "n1 = 1\n",
    "n2 = 10\n",
    "\n",
    "def get_plus_minus():\n",
    "    global n1          # 전역 변수 값을 변경, 전역변수로 정의된 값 활용(global)\n",
    "    n1 = 2              # n1의 값이 2로 변경됨\n",
    "    plus = n1+n2\n",
    "    minus = n1-n2\n",
    "    return plus, minus\n",
    "\n",
    "print(get_plus_minus())\n",
    "print(n1)"
   ]
  },
  {
   "cell_type": "markdown",
   "id": "2f8385d9",
   "metadata": {},
   "source": [
    "## 람다표현식\n",
    "- lambda 매개변수1, 매개변수2, ... : 수식\n",
    "- 식 형태로 되어있어서 람다표현식(lambda experssion)이라고 부른다.\n",
    "- 람다표현식은 이름이 없는 익명함수이다."
   ]
  },
  {
   "cell_type": "code",
   "execution_count": 61,
   "id": "be747c90",
   "metadata": {},
   "outputs": [
    {
     "data": {
      "text/plain": [
       "3"
      ]
     },
     "execution_count": 61,
     "metadata": {},
     "output_type": "execute_result"
    }
   ],
   "source": [
    "# 두 수를 매개변수로 받아 더한 결과를 리턴하는 함수\n",
    "def get_plus(n1, n2):\n",
    "    return n1+n2\n",
    "\n",
    "get_plus(1,2)"
   ]
  },
  {
   "cell_type": "code",
   "execution_count": 62,
   "id": "8480bfc7",
   "metadata": {},
   "outputs": [
    {
     "data": {
      "text/plain": [
       "3"
      ]
     },
     "execution_count": 62,
     "metadata": {},
     "output_type": "execute_result"
    }
   ],
   "source": [
    "# 람다표현식으로 만들기\n",
    "lambda n1,n2:n1+n2\n",
    "\n",
    "# 람다표현식 사용하기\n",
    "(lambda n1,n2:n1+n2)(1,2)"
   ]
  },
  {
   "cell_type": "code",
   "execution_count": 63,
   "id": "6307856d",
   "metadata": {},
   "outputs": [
    {
     "name": "stdout",
     "output_type": "stream",
     "text": [
      "3\n",
      "8\n"
     ]
    }
   ],
   "source": [
    "# 람다표현식을 프로그램 내에서 재사용하고 싶다면, 람다표현식을 변수에 담아서 사용한다.\n",
    "lambda_plus = lambda n1,n2:n1+n2\n",
    "\n",
    "# 변수로 람다표현식 담아 호출하기\n",
    "\n",
    "print(lambda_plus(1,2))\n",
    "print(lambda_plus(3,5))"
   ]
  },
  {
   "cell_type": "markdown",
   "id": "6595e72b",
   "metadata": {},
   "source": [
    "## map함수\n",
    "- map은 리스트나 튜플의 각 요소를 지정된 함수로 처리해주는 함수이다.\n",
    "- 원본리스트를 변경하지 않고 새 리스트를 생성한다.\n",
    "- list(map(함수, 리스트))\n",
    "- tuple(map(함수, 튜플))"
   ]
  },
  {
   "cell_type": "code",
   "execution_count": 65,
   "id": "2fa4ae81",
   "metadata": {},
   "outputs": [
    {
     "name": "stdout",
     "output_type": "stream",
     "text": [
      "['1', '2', '3', '4']\n",
      "[1, 2, 3, 4]\n"
     ]
    }
   ],
   "source": [
    "# map함수를 이용하여 리스트 a의 각 요소를 정수화 하여 새로운 리스트로 만들기\n",
    "a = ['1', '2', '3', '4']\n",
    "b = list(map(int,a))\n",
    "\n",
    "print(a)\n",
    "print(b)"
   ]
  },
  {
   "cell_type": "markdown",
   "id": "985f9a5e",
   "metadata": {},
   "source": [
    "## map함수에 람다표현식 사용하기"
   ]
  },
  {
   "cell_type": "code",
   "execution_count": 66,
   "id": "33223423",
   "metadata": {},
   "outputs": [
    {
     "name": "stdout",
     "output_type": "stream",
     "text": [
      "[1, 2, 3, 4, 5]\n",
      "[2, 3, 4, 5, 6]\n"
     ]
    }
   ],
   "source": [
    "# 아래 리스트 l1에 1을 더한 l2 리스트 만들기\n",
    "l1 = [1,2,3,4,5]\n",
    "l2 = list(map((lambda x:x+1),l1))\n",
    "print(l1)\n",
    "print(l2)"
   ]
  },
  {
   "cell_type": "markdown",
   "id": "a4df6874",
   "metadata": {},
   "source": [
    "## 람다표현식에 조건부표현식 사용하기\n",
    "- lambda 매개변수들:식1 if 조건식 else 식2"
   ]
  },
  {
   "cell_type": "code",
   "execution_count": 69,
   "id": "7801e73a",
   "metadata": {
    "scrolled": true
   },
   "outputs": [
    {
     "data": {
      "text/plain": [
       "['1', 2.0, '3', 4.0, '5', 6.0, '7', 8.0, '9', 10.0]"
      ]
     },
     "execution_count": 69,
     "metadata": {},
     "output_type": "execute_result"
    }
   ],
   "source": [
    "# 아래 리스트에서 짝수는 float로 바꾸고, 홀수는 str로 바꾸기\n",
    "l1 = [1,2,3,4,5,6,7,8,9,10]\n",
    "\n",
    "list(map(lambda x:float(x) if x % 2 == 0 else str(x),l1))"
   ]
  }
 ],
 "metadata": {
  "kernelspec": {
   "display_name": "Python 3 (ipykernel)",
   "language": "python",
   "name": "python3"
  },
  "language_info": {
   "codemirror_mode": {
    "name": "ipython",
    "version": 3
   },
   "file_extension": ".py",
   "mimetype": "text/x-python",
   "name": "python",
   "nbconvert_exporter": "python",
   "pygments_lexer": "ipython3",
   "version": "3.9.7"
  }
 },
 "nbformat": 4,
 "nbformat_minor": 5
}
