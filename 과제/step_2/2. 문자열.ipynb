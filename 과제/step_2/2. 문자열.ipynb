{
 "cells": [
  {
   "cell_type": "markdown",
   "id": "95365dd8",
   "metadata": {},
   "source": [
    "# 출력하기\n",
    "# 기본 출력\n",
    "- print(value1, value2, ..., )"
   ]
  },
  {
   "cell_type": "code",
   "execution_count": 1,
   "id": "53cc5fc3",
   "metadata": {},
   "outputs": [
    {
     "name": "stdout",
     "output_type": "stream",
     "text": [
      "hello\n"
     ]
    }
   ],
   "source": [
    "# hello 춝력하기\n",
    "print('hello')"
   ]
  },
  {
   "cell_type": "code",
   "execution_count": 3,
   "id": "1fef3d2d",
   "metadata": {},
   "outputs": [
    {
     "name": "stdout",
     "output_type": "stream",
     "text": [
      "hellopython\n"
     ]
    }
   ],
   "source": [
    "# hello python 출력하기\n",
    "print('hello' 'python')"
   ]
  },
  {
   "cell_type": "code",
   "execution_count": 4,
   "id": "488d0fea",
   "metadata": {},
   "outputs": [
    {
     "name": "stdout",
     "output_type": "stream",
     "text": [
      "1+1=2\n"
     ]
    }
   ],
   "source": [
    "# 계산식 출력하기\n",
    "print('1+1',1+1,sep = '=')"
   ]
  },
  {
   "cell_type": "markdown",
   "id": "d646b156",
   "metadata": {},
   "source": [
    "# 구분자 지정\n",
    "- print(value1,value2,.....sep='구분자')"
   ]
  },
  {
   "cell_type": "code",
   "execution_count": 7,
   "id": "04e851a0",
   "metadata": {},
   "outputs": [
    {
     "name": "stdout",
     "output_type": "stream",
     "text": [
      "hello,python\n"
     ]
    }
   ],
   "source": [
    "# ,로 구분(hello,python)\n",
    "\n",
    "print('hello','python',sep = ',')"
   ]
  },
  {
   "cell_type": "code",
   "execution_count": 8,
   "id": "5a4183bf",
   "metadata": {},
   "outputs": [
    {
     "name": "stdout",
     "output_type": "stream",
     "text": [
      "1+1=2\n"
     ]
    }
   ],
   "source": [
    "# 공백없이 붙여서 출력 (1+1 = 2)\n",
    "print('1+1=',1+1,sep='')"
   ]
  },
  {
   "cell_type": "markdown",
   "id": "345d73d9",
   "metadata": {},
   "source": [
    "# 끝문자 지정\n",
    "- print(value1, value2,....., end = '끝문자')"
   ]
  },
  {
   "cell_type": "code",
   "execution_count": 9,
   "id": "d123e8de",
   "metadata": {},
   "outputs": [
    {
     "name": "stdout",
     "output_type": "stream",
     "text": [
      "안녕하세요, 반갑습니다."
     ]
    }
   ],
   "source": [
    "# 공백으로 끝내기 (안녕하세요, 반갑습니다)\n",
    "print('안녕하세요, 반갑습니다.',end = '')"
   ]
  },
  {
   "cell_type": "code",
   "execution_count": 10,
   "id": "56760b3e",
   "metadata": {},
   "outputs": [
    {
     "name": "stdout",
     "output_type": "stream",
     "text": [
      "안녕하세요!!반갑습니다!!"
     ]
    }
   ],
   "source": [
    "# !!로 끝내기(안녕하세요!!반갑습니다!!)\n",
    "print('안녕하세요', end='!!')\n",
    "print('반갑습니다', end='!!')"
   ]
  },
  {
   "cell_type": "markdown",
   "id": "ef73761b",
   "metadata": {},
   "source": [
    "# 여러 줄 한번에 출력하기\n",
    "- 홑따옴표 세개(''') 혹은 쌍따옴표 세개(\"\"\")로 묶는다."
   ]
  },
  {
   "cell_type": "code",
   "execution_count": 11,
   "id": "1ad2f749",
   "metadata": {},
   "outputs": [
    {
     "name": "stdout",
     "output_type": "stream",
     "text": [
      "자세히 보아야 예쁘다.\n",
      "오래 보아야 사랑스럽다.\n",
      "너도 그렇다.\n"
     ]
    }
   ],
   "source": [
    "print('자세히 보아야 예쁘다.')\n",
    "print('오래 보아야 사랑스럽다.')\n",
    "print('너도 그렇다.')"
   ]
  },
  {
   "cell_type": "code",
   "execution_count": 12,
   "id": "be78d2df",
   "metadata": {},
   "outputs": [
    {
     "name": "stdout",
     "output_type": "stream",
     "text": [
      "\n",
      "자세히 보아야 예쁘다.\n",
      "오래 보아야 사랑스럽다.\n",
      "너도 그렇다.\n",
      "\n"
     ]
    }
   ],
   "source": [
    "print('''\n",
    "자세히 보아야 예쁘다.\n",
    "오래 보아야 사랑스럽다.\n",
    "너도 그렇다.\n",
    "''')"
   ]
  },
  {
   "cell_type": "code",
   "execution_count": 13,
   "id": "f5ddb573",
   "metadata": {},
   "outputs": [
    {
     "name": "stdout",
     "output_type": "stream",
     "text": [
      "\n",
      "자세히 보아야 예쁘다.\n",
      "오래 보아야 사랑스럽다.\n",
      "너도 그렇다.\n",
      "\n"
     ]
    }
   ],
   "source": [
    "print(\"\"\"\n",
    "자세히 보아야 예쁘다.\n",
    "오래 보아야 사랑스럽다.\n",
    "너도 그렇다.\n",
    "\"\"\")"
   ]
  },
  {
   "cell_type": "markdown",
   "id": "d462508f",
   "metadata": {},
   "source": [
    "# 주석달기\n",
    "- 프로그램에 대한 설명을 적을 때, 코드의 실행을 잠시 막아둘 때 주석을 사용한다.\n",
    "- 파이썬에서는 샵('#') 을 주석 기호로 사용한다."
   ]
  },
  {
   "cell_type": "code",
   "execution_count": 14,
   "id": "3840b146",
   "metadata": {},
   "outputs": [
    {
     "name": "stdout",
     "output_type": "stream",
     "text": [
      "1\n",
      "3\n"
     ]
    }
   ],
   "source": [
    "## 주석에 대한 코드입니다 ##\n",
    "print(1) # 주석\n",
    "# print(2)\n",
    "print(3)"
   ]
  },
  {
   "cell_type": "markdown",
   "id": "fb735c1c",
   "metadata": {},
   "source": [
    "# 들여쓰기\n",
    "- 파이썬에서는 들여쓰기 자체가 문법입니다.\n",
    "- 파이썬 들여쓰기 방법은 공백2칸, 공백4칸 등 여러가지 방법이 있지만 보통 공백 4칸을 사용합니다."
   ]
  },
  {
   "cell_type": "code",
   "execution_count": 16,
   "id": "67ae39ef",
   "metadata": {
    "scrolled": true
   },
   "outputs": [
    {
     "ename": "IndentationError",
     "evalue": "unexpected indent (Temp/ipykernel_24204/684044483.py, line 2)",
     "output_type": "error",
     "traceback": [
      "\u001b[1;36m  File \u001b[1;32m\"C:\\Users\\gi930\\AppData\\Local\\Temp/ipykernel_24204/684044483.py\"\u001b[1;36m, line \u001b[1;32m2\u001b[0m\n\u001b[1;33m    print(hello2)\u001b[0m\n\u001b[1;37m    ^\u001b[0m\n\u001b[1;31mIndentationError\u001b[0m\u001b[1;31m:\u001b[0m unexpected indent\n"
     ]
    }
   ],
   "source": [
    "print('hello1')\n",
    " print(hello2)"
   ]
  },
  {
   "cell_type": "markdown",
   "id": "e87a9552",
   "metadata": {},
   "source": [
    "# 오류 해석하기\n",
    "- 파이썬에서는 대소문자를 구분한다."
   ]
  },
  {
   "cell_type": "code",
   "execution_count": 17,
   "id": "c9ea47cf",
   "metadata": {},
   "outputs": [
    {
     "ename": "NameError",
     "evalue": "name 'Print' is not defined",
     "output_type": "error",
     "traceback": [
      "\u001b[1;31m---------------------------------------------------------------------------\u001b[0m",
      "\u001b[1;31mNameError\u001b[0m                                 Traceback (most recent call last)",
      "\u001b[1;32m~\\AppData\\Local\\Temp/ipykernel_24204/2674531823.py\u001b[0m in \u001b[0;36m<module>\u001b[1;34m\u001b[0m\n\u001b[1;32m----> 1\u001b[1;33m \u001b[0mPrint\u001b[0m\u001b[1;33m(\u001b[0m\u001b[1;34m'hello'\u001b[0m\u001b[1;33m)\u001b[0m\u001b[1;33m\u001b[0m\u001b[1;33m\u001b[0m\u001b[0m\n\u001b[0m",
      "\u001b[1;31mNameError\u001b[0m: name 'Print' is not defined"
     ]
    }
   ],
   "source": [
    "Print('hello')"
   ]
  },
  {
   "cell_type": "markdown",
   "id": "ee00cfd2",
   "metadata": {},
   "source": [
    "# 따옴표의 짝이 맞아야 한다."
   ]
  },
  {
   "cell_type": "code",
   "execution_count": 2,
   "id": "03a9858c",
   "metadata": {},
   "outputs": [
    {
     "name": "stdout",
     "output_type": "stream",
     "text": [
      "hello\n"
     ]
    }
   ],
   "source": [
    "print('hello'')"
   ]
  },
  {
   "cell_type": "markdown",
   "id": "1208d268",
   "metadata": {},
   "source": [
    "# 괄호의 짝이 맞아야 한다"
   ]
  },
  {
   "cell_type": "code",
   "execution_count": 19,
   "id": "10ec1db3",
   "metadata": {},
   "outputs": [
    {
     "ename": "SyntaxError",
     "evalue": "unmatched ')' (Temp/ipykernel_24204/1647225470.py, line 1)",
     "output_type": "error",
     "traceback": [
      "\u001b[1;36m  File \u001b[1;32m\"C:\\Users\\gi930\\AppData\\Local\\Temp/ipykernel_24204/1647225470.py\"\u001b[1;36m, line \u001b[1;32m1\u001b[0m\n\u001b[1;33m    print('hello'))\u001b[0m\n\u001b[1;37m                  ^\u001b[0m\n\u001b[1;31mSyntaxError\u001b[0m\u001b[1;31m:\u001b[0m unmatched ')'\n"
     ]
    }
   ],
   "source": [
    "print('hello'))"
   ]
  },
  {
   "cell_type": "markdown",
   "id": "2433958e",
   "metadata": {},
   "source": [
    "변수 만들기   \\\n",
    "변수에 값 할당하기   \\\n",
    "변수명 = 변수값   \\\n",
    "변수에 값이 할당될 때 변수값의 자료형에 따라 변수의 자료형이 결정된다.   \\"
   ]
  },
  {
   "cell_type": "code",
   "execution_count": 3,
   "id": "712df7a3",
   "metadata": {},
   "outputs": [],
   "source": [
    "name = 'james'\n",
    "age = 21\n",
    "height = 176.1\n",
    "ischild = age < 20"
   ]
  },
  {
   "cell_type": "markdown",
   "id": "ebf9033b",
   "metadata": {},
   "source": [
    "변수 값, 자료형 출력하기   \\\n",
    "변수에 접근할 때는 변수명을 사용한다.   \\\n",
    "변수값 출력 : print(변수명)   \\\n",
    "변수자료형 출력 : print(type(변수명))   \\"
   ]
  },
  {
   "cell_type": "code",
   "execution_count": 4,
   "id": "2b3a5fdc",
   "metadata": {},
   "outputs": [
    {
     "name": "stdout",
     "output_type": "stream",
     "text": [
      "james <class 'str'>\n"
     ]
    }
   ],
   "source": [
    "print(name,type(name))"
   ]
  },
  {
   "cell_type": "code",
   "execution_count": 5,
   "id": "044e2a10",
   "metadata": {},
   "outputs": [
    {
     "name": "stdout",
     "output_type": "stream",
     "text": [
      "21 <class 'int'>\n"
     ]
    }
   ],
   "source": [
    "print(age,type(age))"
   ]
  },
  {
   "cell_type": "code",
   "execution_count": 6,
   "id": "23a4f8e5",
   "metadata": {},
   "outputs": [
    {
     "name": "stdout",
     "output_type": "stream",
     "text": [
      "176.1 <class 'float'>\n"
     ]
    }
   ],
   "source": [
    "print(height,type(height))"
   ]
  },
  {
   "cell_type": "code",
   "execution_count": 7,
   "id": "f56f416c",
   "metadata": {},
   "outputs": [
    {
     "name": "stdout",
     "output_type": "stream",
     "text": [
      "False <class 'bool'>\n"
     ]
    }
   ],
   "source": [
    "print(ischild,type(ischild))"
   ]
  },
  {
   "cell_type": "markdown",
   "id": "e4ada655",
   "metadata": {},
   "source": [
    "쌍따옴표나 홑따옴표가 포함되어 있는 문자열 사용하기   \\\n",
    "홑따옴표가 포함되어 있는 문자열 사용하기   \\\n",
    "'낮말'은 새가 듣고 '밤말'은 쥐가 듣는다.   \\"
   ]
  },
  {
   "cell_type": "code",
   "execution_count": 9,
   "id": "c35e16d4",
   "metadata": {},
   "outputs": [
    {
     "name": "stdout",
     "output_type": "stream",
     "text": [
      "'낮말은 새가 듣고 밤말은 쥐가 듣는다'\n"
     ]
    }
   ],
   "source": [
    "a = \"'낮말은 새가 듣고 밤말은 쥐가 듣는다'\"\n",
    "print(a)"
   ]
  },
  {
   "cell_type": "code",
   "execution_count": 10,
   "id": "c2b7e8a4",
   "metadata": {},
   "outputs": [
    {
     "name": "stdout",
     "output_type": "stream",
     "text": [
      "\"시간은 금\"이라는 말이 있다\n"
     ]
    }
   ],
   "source": [
    "b = '\"시간은 금\"이라는 말이 있다'\n",
    "print(b)"
   ]
  },
  {
   "cell_type": "markdown",
   "id": "1be61e4a",
   "metadata": {},
   "source": [
    "키보드로 변수에 값 입력받기   \\\n",
    "input( )   \\\n",
    "input으로 입력받은 값은 무조건 str   \\"
   ]
  },
  {
   "cell_type": "code",
   "execution_count": 12,
   "id": "539479f0",
   "metadata": {},
   "outputs": [
    {
     "data": {
      "text/plain": [
       "int"
      ]
     },
     "execution_count": 12,
     "metadata": {},
     "output_type": "execute_result"
    }
   ],
   "source": [
    "age = int('20')\n",
    "type(age)"
   ]
  },
  {
   "cell_type": "code",
   "execution_count": 14,
   "id": "b3c8aa52",
   "metadata": {},
   "outputs": [
    {
     "data": {
      "text/plain": [
       "str"
      ]
     },
     "execution_count": 14,
     "metadata": {},
     "output_type": "execute_result"
    }
   ],
   "source": [
    "age = str(age)\n",
    "type(age)"
   ]
  },
  {
   "cell_type": "code",
   "execution_count": 18,
   "id": "89d6e2b9",
   "metadata": {},
   "outputs": [
    {
     "name": "stdout",
     "output_type": "stream",
     "text": [
      "나이:50\n",
      "<class 'int'>\n"
     ]
    }
   ],
   "source": [
    "a = int(input('나이:'))\n",
    "print(type(a))"
   ]
  },
  {
   "cell_type": "markdown",
   "id": "58751b87",
   "metadata": {},
   "source": [
    "산술연산"
   ]
  },
  {
   "cell_type": "code",
   "execution_count": 19,
   "id": "ab0fe9eb",
   "metadata": {},
   "outputs": [
    {
     "name": "stdout",
     "output_type": "stream",
     "text": [
      "a+b =  7\n",
      "a-b =  -1\n",
      "a*b =  12\n",
      "a/b =  0.75\n",
      "a%b =  3\n",
      "a**b =  81\n"
     ]
    }
   ],
   "source": [
    "a, b = 3,4\n",
    "\n",
    "print('a+b = ',a+b)\n",
    "print('a-b = ',a-b)\n",
    "print('a*b = ',a*b)\n",
    "print('a/b = ',a/b)\n",
    "print('a%b = ',a%b)\n",
    "print('a**b = ',a**b)"
   ]
  },
  {
   "cell_type": "markdown",
   "id": "d1626f1a",
   "metadata": {},
   "source": [
    "문자열계산"
   ]
  },
  {
   "cell_type": "code",
   "execution_count": 20,
   "id": "657502f7",
   "metadata": {},
   "outputs": [
    {
     "name": "stdout",
     "output_type": "stream",
     "text": [
      "goodmorning\n"
     ]
    }
   ],
   "source": [
    "# 문자열 더하기(문자열 연결하기)\n",
    "a = 'good'\n",
    "b = 'morning'\n",
    "print(a + b)"
   ]
  },
  {
   "cell_type": "code",
   "execution_count": 22,
   "id": "4e377630",
   "metadata": {},
   "outputs": [
    {
     "data": {
      "text/plain": [
       "'hahaha'"
      ]
     },
     "execution_count": 22,
     "metadata": {},
     "output_type": "execute_result"
    }
   ],
   "source": [
    "# 문자열 곱하기\n",
    "s = 'ha'\n",
    "s * 3"
   ]
  },
  {
   "cell_type": "code",
   "execution_count": 26,
   "id": "afc7712b",
   "metadata": {
    "scrolled": true
   },
   "outputs": [
    {
     "name": "stdout",
     "output_type": "stream",
     "text": [
      "영어점수 : 60\n"
     ]
    }
   ],
   "source": [
    "# 문자열과 숫자형 더하기\n",
    "english = 60\n",
    "result  = '영어점수 : ' + str(english)\n",
    "print(result)"
   ]
  },
  {
   "cell_type": "markdown",
   "id": "acbf1121",
   "metadata": {},
   "source": [
    "할당연산자"
   ]
  },
  {
   "cell_type": "code",
   "execution_count": 27,
   "id": "3e608ba5",
   "metadata": {},
   "outputs": [
    {
     "data": {
      "text/plain": [
       "30"
      ]
     },
     "execution_count": 27,
     "metadata": {},
     "output_type": "execute_result"
    }
   ],
   "source": [
    "x = 10\n",
    "x += 20\n",
    "x"
   ]
  },
  {
   "cell_type": "code",
   "execution_count": 28,
   "id": "1bd11e58",
   "metadata": {},
   "outputs": [
    {
     "data": {
      "text/plain": [
       "24"
      ]
     },
     "execution_count": 28,
     "metadata": {},
     "output_type": "execute_result"
    }
   ],
   "source": [
    "x = 3\n",
    "y  = 5\n",
    "x *= x+y\n",
    "x"
   ]
  },
  {
   "cell_type": "markdown",
   "id": "dbc26e36",
   "metadata": {},
   "source": [
    "f스트링으로 출력하기"
   ]
  },
  {
   "cell_type": "code",
   "execution_count": 29,
   "id": "0d679db8",
   "metadata": {},
   "outputs": [
    {
     "name": "stdout",
     "output_type": "stream",
     "text": [
      "이름정영훈\n",
      "정영훈 님 안녕하세요?\n"
     ]
    }
   ],
   "source": [
    "name = input('이름')\n",
    "print(name,'님 안녕하세요?')"
   ]
  },
  {
   "cell_type": "code",
   "execution_count": 30,
   "id": "121de3ae",
   "metadata": {},
   "outputs": [
    {
     "name": "stdout",
     "output_type": "stream",
     "text": [
      "정영훈님 안녕하세요\n"
     ]
    }
   ],
   "source": [
    "print(f'{name}님 안녕하세요')"
   ]
  },
  {
   "cell_type": "code",
   "execution_count": 32,
   "id": "af2af32b",
   "metadata": {},
   "outputs": [
    {
     "name": "stdout",
     "output_type": "stream",
     "text": [
      "나이:50\n",
      "나이는 50 살이군요, 내년이면  51 살이 되시겠네요\n",
      "나이는50살이군요, 내년이면 51살이 되시겠네요\n"
     ]
    }
   ],
   "source": [
    "age = int(input('나이:'))\n",
    "print('나이는',age,'살이군요, 내년이면 ',age + 1,'살이 되시겠네요')\n",
    "print(f'나이는{age}살이군요, 내년이면 {age + 1}살이 되시겠네요')"
   ]
  },
  {
   "cell_type": "code",
   "execution_count": 33,
   "id": "056788d0",
   "metadata": {},
   "outputs": [
    {
     "name": "stdout",
     "output_type": "stream",
     "text": [
      "첫번째 숫자1\n",
      "두번째 숫자2\n",
      "1 + 2 = 3\n"
     ]
    }
   ],
   "source": [
    "a = int(input('첫번째 숫자'))\n",
    "b = int(input('두번째 숫자'))\n",
    "\n",
    "print(a,'+',b,'=',a+b)"
   ]
  },
  {
   "cell_type": "code",
   "execution_count": 37,
   "id": "e422426a",
   "metadata": {},
   "outputs": [
    {
     "name": "stdout",
     "output_type": "stream",
     "text": [
      "1 + 2 = 3\n"
     ]
    }
   ],
   "source": [
    "print(f'{a} + {b} = {a+b}')"
   ]
  },
  {
   "cell_type": "markdown",
   "id": "95fd5adf",
   "metadata": {},
   "source": [
    "연습문제\n",
    " - 화씨 온도를 입력받아 섭씨온도로 변환하는 프로그램을 작성해보세요"
   ]
  },
  {
   "cell_type": "code",
   "execution_count": 39,
   "id": "2e37f017",
   "metadata": {},
   "outputs": [
    {
     "name": "stdout",
     "output_type": "stream",
     "text": [
      "화씨온도50\n",
      "화씨온도 50.0 ----> 섭씨온도 10.0\n"
     ]
    }
   ],
   "source": [
    "# 화씨온도 입력\n",
    "f = float(input('화씨온도'))\n",
    "\n",
    "# 섭씨 온도 계산\n",
    "c  = (f - 32) * 5/9\n",
    "\n",
    "print('화씨온도 {0} ----> 섭씨온도 {1}'.format(f,c))"
   ]
  },
  {
   "cell_type": "markdown",
   "id": "0e179a34",
   "metadata": {},
   "source": [
    "문자열 인덱싱\n",
    "- 양수 인덱스 사용하기"
   ]
  },
  {
   "cell_type": "code",
   "execution_count": 40,
   "id": "eb4f02d2",
   "metadata": {},
   "outputs": [
    {
     "name": "stdout",
     "output_type": "stream",
     "text": [
      "H\n",
      "w\n",
      "d\n"
     ]
    }
   ],
   "source": [
    "a = 'Hello world'\n",
    "\n",
    "print(a[0])\n",
    "\n",
    "print(a[6])\n",
    "\n",
    "print(a[10])\n"
   ]
  },
  {
   "cell_type": "markdown",
   "id": "8ccda7a9",
   "metadata": {},
   "source": [
    "음수 인덱스 사용하기"
   ]
  },
  {
   "cell_type": "code",
   "execution_count": 41,
   "id": "98e48b0b",
   "metadata": {},
   "outputs": [
    {
     "name": "stdout",
     "output_type": "stream",
     "text": [
      "H\n",
      "w\n",
      "d\n"
     ]
    }
   ],
   "source": [
    "a = 'Hello world'\n",
    "\n",
    "print(a[-11])\n",
    "print(a[-5])\n",
    "print(a[-1])"
   ]
  },
  {
   "cell_type": "code",
   "execution_count": 42,
   "id": "866d7def",
   "metadata": {},
   "outputs": [
    {
     "name": "stdout",
     "output_type": "stream",
     "text": [
      "Object `사용` not found.\n"
     ]
    }
   ],
   "source": [
    "범위밖 인덱스를 사용?"
   ]
  },
  {
   "cell_type": "code",
   "execution_count": null,
   "id": "4337dd06",
   "metadata": {},
   "outputs": [],
   "source": [
    "범위밖 인덱스를 사용"
   ]
  },
  {
   "cell_type": "code",
   "execution_count": 43,
   "id": "1c62b9de",
   "metadata": {},
   "outputs": [
    {
     "ename": "IndexError",
     "evalue": "string index out of range",
     "output_type": "error",
     "traceback": [
      "\u001b[1;31m---------------------------------------------------------------------------\u001b[0m",
      "\u001b[1;31mIndexError\u001b[0m                                Traceback (most recent call last)",
      "\u001b[1;32m~\\AppData\\Local\\Temp/ipykernel_10056/1253830251.py\u001b[0m in \u001b[0;36m<module>\u001b[1;34m\u001b[0m\n\u001b[1;32m----> 1\u001b[1;33m \u001b[0ma\u001b[0m\u001b[1;33m[\u001b[0m\u001b[1;36m15\u001b[0m\u001b[1;33m]\u001b[0m\u001b[1;33m\u001b[0m\u001b[1;33m\u001b[0m\u001b[0m\n\u001b[0m",
      "\u001b[1;31mIndexError\u001b[0m: string index out of range"
     ]
    }
   ],
   "source": [
    "a[15]"
   ]
  },
  {
   "cell_type": "code",
   "execution_count": 44,
   "id": "ebdd8f7b",
   "metadata": {},
   "outputs": [
    {
     "ename": "IndexError",
     "evalue": "string index out of range",
     "output_type": "error",
     "traceback": [
      "\u001b[1;31m---------------------------------------------------------------------------\u001b[0m",
      "\u001b[1;31mIndexError\u001b[0m                                Traceback (most recent call last)",
      "\u001b[1;32m~\\AppData\\Local\\Temp/ipykernel_10056/3795637678.py\u001b[0m in \u001b[0;36m<module>\u001b[1;34m\u001b[0m\n\u001b[1;32m----> 1\u001b[1;33m \u001b[0ma\u001b[0m\u001b[1;33m[\u001b[0m\u001b[1;33m-\u001b[0m\u001b[1;36m15\u001b[0m\u001b[1;33m]\u001b[0m\u001b[1;33m\u001b[0m\u001b[1;33m\u001b[0m\u001b[0m\n\u001b[0m",
      "\u001b[1;31mIndexError\u001b[0m: string index out of range"
     ]
    }
   ],
   "source": [
    "a[-15]"
   ]
  },
  {
   "cell_type": "markdown",
   "id": "9e6a36fd",
   "metadata": {},
   "source": [
    "문자열 슬라이싱\n",
    "- 양수 인덱스로 슬라이싱"
   ]
  },
  {
   "cell_type": "code",
   "execution_count": 47,
   "id": "71a1dc14",
   "metadata": {},
   "outputs": [
    {
     "name": "stdout",
     "output_type": "stream",
     "text": [
      "hello\n",
      "world\n"
     ]
    }
   ],
   "source": [
    "a = 'hello world'\n",
    "# hello\n",
    "print(a[0:5])\n",
    "# world\n",
    "print(a[6:11])"
   ]
  },
  {
   "cell_type": "markdown",
   "id": "7333b77a",
   "metadata": {},
   "source": [
    "- 음수 인덱스로 슬라이싱"
   ]
  },
  {
   "cell_type": "code",
   "execution_count": 51,
   "id": "f32fc656",
   "metadata": {},
   "outputs": [
    {
     "name": "stdout",
     "output_type": "stream",
     "text": [
      "hello\n",
      "world\n"
     ]
    }
   ],
   "source": [
    "# hello\n",
    "print(a[-11:-6])\n",
    "\n",
    "# world\n",
    "print(a[-5:])"
   ]
  },
  {
   "cell_type": "markdown",
   "id": "b5b8b721",
   "metadata": {},
   "source": [
    "첫번째와 마지막 인덱스는 생략가능"
   ]
  },
  {
   "cell_type": "code",
   "execution_count": 52,
   "id": "ec73ead4",
   "metadata": {},
   "outputs": [
    {
     "name": "stdout",
     "output_type": "stream",
     "text": [
      "Hello\n",
      "world\n",
      "Hello world\n"
     ]
    }
   ],
   "source": [
    "a = 'Hello world'\n",
    "\n",
    "# hello\n",
    "print(a[:5])\n",
    "#world\n",
    "print(a[6:])\n",
    "\n",
    "#all\n",
    "print(a[:])"
   ]
  },
  {
   "cell_type": "markdown",
   "id": "875ea437",
   "metadata": {},
   "source": [
    "    - 한문자씩 건너뛰어 출력하기   \n",
    ": 간격을 마이너스로 하면 역순으로 출력"
   ]
  },
  {
   "cell_type": "code",
   "execution_count": 53,
   "id": "fa0bc118",
   "metadata": {},
   "outputs": [
    {
     "name": "stdout",
     "output_type": "stream",
     "text": [
      "dlroW olleH\n"
     ]
    }
   ],
   "source": [
    "a = 'Hello World'\n",
    "print(a[::-1])"
   ]
  },
  {
   "cell_type": "markdown",
   "id": "852fee39",
   "metadata": {},
   "source": [
    "문자열 함수   \\\n",
    "문자열 교체하기   \\\n",
    "문자열.replace(찾을문자열, 교체할문자열)   \\"
   ]
  },
  {
   "cell_type": "code",
   "execution_count": 55,
   "id": "10f3aa46",
   "metadata": {},
   "outputs": [
    {
     "name": "stdout",
     "output_type": "stream",
     "text": [
      "나는 딸기우유 좋아. 딸기우유 최고\n"
     ]
    }
   ],
   "source": [
    "a = '나는 초코우유 좋아. 초코우유 최고'\n",
    "\n",
    "# 초코 -> 딸기\n",
    "\n",
    "print(a.replace('초코','딸기'))\n"
   ]
  },
  {
   "cell_type": "markdown",
   "id": "2d53e06a",
   "metadata": {},
   "source": [
    "문자의 위치 찾기\n",
    "- 문자열 find(문자)"
   ]
  },
  {
   "cell_type": "code",
   "execution_count": 63,
   "id": "a6c11031",
   "metadata": {},
   "outputs": [
    {
     "name": "stdout",
     "output_type": "stream",
     "text": [
      "1\n",
      "2\n",
      "3\n"
     ]
    }
   ],
   "source": [
    "a = 'hello, python'\n",
    "\n",
    "# e\n",
    "print(a.find('e'))\n",
    "\n",
    "# l\n",
    "print(a.find('l'))\n",
    "print(a.find('l',3))"
   ]
  },
  {
   "cell_type": "markdown",
   "id": "d347e860",
   "metadata": {},
   "source": [
    "소문자로 변환하기\n",
    "- 문자열.lower()"
   ]
  },
  {
   "cell_type": "code",
   "execution_count": 65,
   "id": "702c1aa1",
   "metadata": {},
   "outputs": [
    {
     "data": {
      "text/plain": [
       "'hello python'"
      ]
     },
     "execution_count": 65,
     "metadata": {},
     "output_type": "execute_result"
    }
   ],
   "source": [
    "a = 'HELLO PYTHON'\n",
    "a.lower()"
   ]
  },
  {
   "cell_type": "markdown",
   "id": "5bcaf02b",
   "metadata": {},
   "source": [
    "대문자로 변환하기\n",
    "- 문자열.upper()"
   ]
  },
  {
   "cell_type": "code",
   "execution_count": 66,
   "id": "494ab12e",
   "metadata": {},
   "outputs": [
    {
     "data": {
      "text/plain": [
       "'HELLO PYTHON'"
      ]
     },
     "execution_count": 66,
     "metadata": {},
     "output_type": "execute_result"
    }
   ],
   "source": [
    "a.lower().upper()"
   ]
  },
  {
   "cell_type": "markdown",
   "id": "5cdb18cc",
   "metadata": {},
   "source": [
    "문자열 나누기\n",
    "* 문자열.split(구분자)"
   ]
  },
  {
   "cell_type": "code",
   "execution_count": 68,
   "id": "eebec903",
   "metadata": {},
   "outputs": [
    {
     "data": {
      "text/plain": [
       "['010', '123', '4567']"
      ]
     },
     "execution_count": 68,
     "metadata": {},
     "output_type": "execute_result"
    }
   ],
   "source": [
    "phone = '010-123-4567'\n",
    "phone.split('-')"
   ]
  },
  {
   "cell_type": "code",
   "execution_count": 69,
   "id": "ebe02c17",
   "metadata": {},
   "outputs": [
    {
     "data": {
      "text/plain": [
       "['gi93008', 'naver.com']"
      ]
     },
     "execution_count": 69,
     "metadata": {},
     "output_type": "execute_result"
    }
   ],
   "source": [
    "email = 'gi93008@naver.com'\n",
    "email.split('@')"
   ]
  },
  {
   "cell_type": "markdown",
   "id": "d6f0d61f",
   "metadata": {},
   "source": [
    "연습문제\n",
    "- 사용자의 영문 이름을 입력받아 성과 이름 순서를 바꾸어서 출력하는 프로그램을 작성하세요.   \\\n",
    "성과 이름은 공백으로 구분합니다."
   ]
  },
  {
   "cell_type": "code",
   "execution_count": 72,
   "id": "22c139c3",
   "metadata": {},
   "outputs": [
    {
     "name": "stdout",
     "output_type": "stream",
     "text": [
      "영문이름(성과 이름은 공백으로 구분하세요):Jeong Yeong Hoon\n",
      "Yeong Hoon Jeong\n"
     ]
    }
   ],
   "source": [
    "# 사용자의 영문이름 입력받기 (성과 이름은 공백으로 구분)\n",
    "full_name = input('영문이름(성과 이름은 공백으로 구분하세요):')\n",
    "\n",
    "index = full_name.find(' ')\n",
    "first = full_name[:index]\n",
    "second = full_name[index+1:]\n",
    "\n",
    "print(second,first)"
   ]
  }
 ],
 "metadata": {
  "kernelspec": {
   "display_name": "Python 3 (ipykernel)",
   "language": "python",
   "name": "python3"
  },
  "language_info": {
   "codemirror_mode": {
    "name": "ipython",
    "version": 3
   },
   "file_extension": ".py",
   "mimetype": "text/x-python",
   "name": "python",
   "nbconvert_exporter": "python",
   "pygments_lexer": "ipython3",
   "version": "3.9.7"
  }
 },
 "nbformat": 4,
 "nbformat_minor": 5
}
