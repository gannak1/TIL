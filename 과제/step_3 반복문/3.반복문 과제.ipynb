{
 "cells": [
  {
   "cell_type": "markdown",
   "id": "5fbd7c28",
   "metadata": {},
   "source": [
    "if구조\n",
    "- 점수를 입력받아, 점수가 60점 이상이면 '합격'을 출력합니다."
   ]
  },
  {
   "cell_type": "code",
   "execution_count": 2,
   "id": "3be677c2",
   "metadata": {},
   "outputs": [
    {
     "name": "stdout",
     "output_type": "stream",
     "text": [
      "점수:50\n",
      "수고하셨습니다.\n"
     ]
    }
   ],
   "source": [
    "score = int(input('점수:'))\n",
    "\n",
    "if score>=60:\n",
    "    print('합격')\n",
    "    print('축하합니다.')\n",
    "print('수고하셨습니다.')"
   ]
  },
  {
   "cell_type": "markdown",
   "id": "06e6642a",
   "metadata": {},
   "source": [
    "if..else..구조\n",
    "- 점수를 입력받아, 점수가 60점 이상이면 '합격'을 출력하고, 아니면 '불합격'을 출력합니다."
   ]
  },
  {
   "cell_type": "code",
   "execution_count": 5,
   "id": "aa07bde6",
   "metadata": {},
   "outputs": [
    {
     "name": "stdout",
     "output_type": "stream",
     "text": [
      "점수:0\n",
      "불합격\n",
      "수고하셨습니다.\n"
     ]
    }
   ],
   "source": [
    "score = int(input('점수:'))\n",
    "if score>=60:\n",
    "    print('합격')\n",
    "else:\n",
    "    print('불합격')\n",
    "print('수고하셨습니다.')"
   ]
  },
  {
   "cell_type": "markdown",
   "id": "de0c743a",
   "metadata": {},
   "source": [
    "if..elif..구조\n",
    "- 점수를 입력받고 점수의 범위에 따라 등급을 출력하는 프로그램을 작성하세요.\n",
    "\n",
    "|등급|A|B|C|D|F|\n",
    "|-|-|-|-|-|-|\n",
    "|점수|90이상|80~89|70~79|60~69|0~59|"
   ]
  },
  {
   "cell_type": "code",
   "execution_count": 7,
   "id": "c55e75ff",
   "metadata": {},
   "outputs": [
    {
     "name": "stdout",
     "output_type": "stream",
     "text": [
      "점수:55\n",
      "grade: F\n"
     ]
    }
   ],
   "source": [
    "score = int(input('점수:'))\n",
    "if score>=90:\n",
    "    grade='A'\n",
    "elif score>=80:\n",
    "    grade='B'\n",
    "elif score>=70:\n",
    "    grade='C'\n",
    "elif score>=60:\n",
    "    grade='D'\n",
    "else:\n",
    "    grade='F'\n",
    "print('grade:',grade)"
   ]
  },
  {
   "cell_type": "code",
   "execution_count": 8,
   "id": "9b1659bf",
   "metadata": {},
   "outputs": [
    {
     "name": "stdout",
     "output_type": "stream",
     "text": [
      "점수:65\n",
      "grade: D\n"
     ]
    }
   ],
   "source": [
    "score = int(input('점수:'))\n",
    "if score>=80:\n",
    "    grade='B'\n",
    "elif score>=90:\n",
    "    grade='A'\n",
    "elif score>=70:\n",
    "    grade='C'\n",
    "elif score>=60:\n",
    "    grade='D'\n",
    "else:\n",
    "    grade='F'\n",
    "print('grade:',grade)"
   ]
  },
  {
   "cell_type": "markdown",
   "id": "e7e12e86",
   "metadata": {},
   "source": [
    "연습문제\n",
    "- 정수를 입력받아 짝수/홀수를 판별하세요."
   ]
  },
  {
   "cell_type": "code",
   "execution_count": 13,
   "id": "f8df53a7",
   "metadata": {},
   "outputs": [
    {
     "name": "stdout",
     "output_type": "stream",
     "text": [
      "정수를 입력해주세요124\n",
      "짝수입니다\n"
     ]
    }
   ],
   "source": [
    "while True:\n",
    "    try:\n",
    "        a = int(input('정수를 입력해주세요'))\n",
    "        if a % 2 == 0:\n",
    "            print('짝수입니다')\n",
    "        else:\n",
    "            print('홀수입니다.')\n",
    "        break\n",
    "    except:\n",
    "        print('다시 정수를 입력해주세요')"
   ]
  },
  {
   "cell_type": "markdown",
   "id": "948789da",
   "metadata": {},
   "source": [
    "for 반복구조"
   ]
  },
  {
   "cell_type": "code",
   "execution_count": 14,
   "id": "c69cb2f0",
   "metadata": {},
   "outputs": [
    {
     "name": "stdout",
     "output_type": "stream",
     "text": [
      "1\n",
      "2\n",
      "3\n",
      "4\n",
      "5\n"
     ]
    }
   ],
   "source": [
    "for i in [1,2,3,4,5]:\n",
    "    print(i)"
   ]
  },
  {
   "cell_type": "code",
   "execution_count": 15,
   "id": "2dcd6885",
   "metadata": {},
   "outputs": [
    {
     "name": "stdout",
     "output_type": "stream",
     "text": [
      "p\n",
      "y\n",
      "t\n",
      "h\n",
      "o\n",
      "n\n"
     ]
    }
   ],
   "source": [
    "for i in 'python':\n",
    "    print(i)"
   ]
  },
  {
   "cell_type": "code",
   "execution_count": 16,
   "id": "872265a7",
   "metadata": {},
   "outputs": [
    {
     "name": "stdout",
     "output_type": "stream",
     "text": [
      "0\n",
      "1\n",
      "2\n",
      "3\n",
      "4\n"
     ]
    }
   ],
   "source": [
    "for i in range(5): #0,1,2,3,4\n",
    "    print(i)"
   ]
  },
  {
   "cell_type": "markdown",
   "id": "a9575829",
   "metadata": {},
   "source": [
    "- 'Hello' 10번 출력하기   \\\n",
    "특정 횟수만큼 반복하려면 range(횟수)의 형태를 사용한다."
   ]
  },
  {
   "cell_type": "code",
   "execution_count": 21,
   "id": "a203e8f8",
   "metadata": {},
   "outputs": [
    {
     "name": "stdout",
     "output_type": "stream",
     "text": [
      "hello\n",
      "hello\n",
      "hello\n",
      "hello\n",
      "hello\n",
      "hello\n",
      "hello\n",
      "hello\n",
      "hello\n",
      "hello\n"
     ]
    }
   ],
   "source": [
    "for i in range(10):\n",
    "    print('hello')"
   ]
  },
  {
   "cell_type": "markdown",
   "id": "7c8f8cf2",
   "metadata": {},
   "source": [
    "중첩반복구조   \\\n",
    "- 내부 for문을 외부 for문의 시퀀스만큼 반복한다.\n",
    "- 내부루프와 외부루프는 동일한 제어변수를 사용해서는 안된다."
   ]
  },
  {
   "cell_type": "code",
   "execution_count": 23,
   "id": "c4db1e49",
   "metadata": {},
   "outputs": [
    {
     "name": "stdout",
     "output_type": "stream",
     "text": [
      "0 0\n",
      "0 1\n",
      "0 2\n",
      "0 3\n",
      "1 0\n",
      "1 1\n",
      "1 2\n",
      "1 3\n",
      "2 0\n",
      "2 1\n",
      "2 2\n",
      "2 3\n"
     ]
    }
   ],
   "source": [
    "for i in range(3):\n",
    "    for j in range(4):\n",
    "        print(i,j)"
   ]
  },
  {
   "cell_type": "markdown",
   "id": "97224ef6",
   "metadata": {},
   "source": [
    "- 2단부터 9단까지 전체 구구단 출력하기\n"
   ]
  },
  {
   "cell_type": "code",
   "execution_count": 27,
   "id": "dea6f48b",
   "metadata": {},
   "outputs": [
    {
     "name": "stdout",
     "output_type": "stream",
     "text": [
      "2*1=2\t2*2=4\t2*3=6\t2*4=8\t2*5=10\t2*6=12\t2*7=14\t2*8=16\t2*9=18\t\n",
      "3*1=3\t3*2=6\t3*3=9\t3*4=12\t3*5=15\t3*6=18\t3*7=21\t3*8=24\t3*9=27\t\n",
      "4*1=4\t4*2=8\t4*3=12\t4*4=16\t4*5=20\t4*6=24\t4*7=28\t4*8=32\t4*9=36\t\n",
      "5*1=5\t5*2=10\t5*3=15\t5*4=20\t5*5=25\t5*6=30\t5*7=35\t5*8=40\t5*9=45\t\n",
      "6*1=6\t6*2=12\t6*3=18\t6*4=24\t6*5=30\t6*6=36\t6*7=42\t6*8=48\t6*9=54\t\n",
      "7*1=7\t7*2=14\t7*3=21\t7*4=28\t7*5=35\t7*6=42\t7*7=49\t7*8=56\t7*9=63\t\n",
      "8*1=8\t8*2=16\t8*3=24\t8*4=32\t8*5=40\t8*6=48\t8*7=56\t8*8=64\t8*9=72\t\n",
      "9*1=9\t9*2=18\t9*3=27\t9*4=36\t9*5=45\t9*6=54\t9*7=63\t9*8=72\t9*9=81\t\n"
     ]
    }
   ],
   "source": [
    "for i in range(2,10):\n",
    "    for j in range(1,10):\n",
    "        print(f'{i}*{j}={i*j}', end='\\t')\n",
    "    print()"
   ]
  },
  {
   "cell_type": "code",
   "execution_count": 29,
   "id": "aecd4d21",
   "metadata": {},
   "outputs": [
    {
     "name": "stdout",
     "output_type": "stream",
     "text": [
      "2*1=2\t3*1=3\t4*1=4\t5*1=5\t6*1=6\t7*1=7\t8*1=8\t9*1=9\t\n",
      "2*2=4\t3*2=6\t4*2=8\t5*2=10\t6*2=12\t7*2=14\t8*2=16\t9*2=18\t\n",
      "2*3=6\t3*3=9\t4*3=12\t5*3=15\t6*3=18\t7*3=21\t8*3=24\t9*3=27\t\n",
      "2*4=8\t3*4=12\t4*4=16\t5*4=20\t6*4=24\t7*4=28\t8*4=32\t9*4=36\t\n",
      "2*5=10\t3*5=15\t4*5=20\t5*5=25\t6*5=30\t7*5=35\t8*5=40\t9*5=45\t\n",
      "2*6=12\t3*6=18\t4*6=24\t5*6=30\t6*6=36\t7*6=42\t8*6=48\t9*6=54\t\n",
      "2*7=14\t3*7=21\t4*7=28\t5*7=35\t6*7=42\t7*7=49\t8*7=56\t9*7=63\t\n",
      "2*8=16\t3*8=24\t4*8=32\t5*8=40\t6*8=48\t7*8=56\t8*8=64\t9*8=72\t\n",
      "2*9=18\t3*9=27\t4*9=36\t5*9=45\t6*9=54\t7*9=63\t8*9=72\t9*9=81\t\n"
     ]
    }
   ],
   "source": [
    "for i in range(1,10):\n",
    "    for j in range(2,10):\n",
    "        print(f'{j}*{i}={j*i}', end='\\t')\n",
    "    print()"
   ]
  },
  {
   "cell_type": "markdown",
   "id": "7cc69cb9",
   "metadata": {},
   "source": [
    "연습문제\n",
    "- 1부터 10까지 정수의 합 구하여 출력하기"
   ]
  },
  {
   "cell_type": "code",
   "execution_count": 31,
   "id": "ad8a6a03",
   "metadata": {},
   "outputs": [
    {
     "name": "stdout",
     "output_type": "stream",
     "text": [
      "55\n"
     ]
    }
   ],
   "source": [
    "a = 0\n",
    "i = 1\n",
    "while i < 11:\n",
    "    a += i\n",
    "    i += 1\n",
    "print(a)"
   ]
  },
  {
   "cell_type": "markdown",
   "id": "8f54b2ac",
   "metadata": {},
   "source": [
    "- 1부터 100까지 홀수의 합 구하여 출력하기"
   ]
  },
  {
   "cell_type": "code",
   "execution_count": 33,
   "id": "71ec2792",
   "metadata": {},
   "outputs": [
    {
     "name": "stdout",
     "output_type": "stream",
     "text": [
      "2500\n"
     ]
    }
   ],
   "source": [
    "a = 0\n",
    "i = 1\n",
    "while i < 101:\n",
    "    a += i\n",
    "    i += 2\n",
    "print(a)"
   ]
  },
  {
   "cell_type": "markdown",
   "id": "e8f15548",
   "metadata": {},
   "source": [
    "for문과 while문   \\\n",
    "1부터 5까지 출력하기   \n",
    "- for문"
   ]
  },
  {
   "cell_type": "code",
   "execution_count": 38,
   "id": "7583532e",
   "metadata": {},
   "outputs": [
    {
     "name": "stdout",
     "output_type": "stream",
     "text": [
      "1\n",
      "2\n",
      "3\n",
      "4\n",
      "5\n"
     ]
    }
   ],
   "source": [
    "for i in range(1,6):\n",
    "    print(i)"
   ]
  },
  {
   "cell_type": "markdown",
   "id": "baab33fa",
   "metadata": {},
   "source": [
    "- while 문"
   ]
  },
  {
   "cell_type": "code",
   "execution_count": null,
   "id": "8090ac8b",
   "metadata": {},
   "outputs": [],
   "source": [
    "n = 1\n",
    "while n<=5:\n",
    "    print(n)\n",
    "# 무한 반복됨"
   ]
  },
  {
   "cell_type": "code",
   "execution_count": 39,
   "id": "0755d6aa",
   "metadata": {},
   "outputs": [
    {
     "name": "stdout",
     "output_type": "stream",
     "text": [
      "1\n",
      "2\n",
      "3\n",
      "4\n",
      "5\n"
     ]
    }
   ],
   "source": [
    "n = 1\n",
    "while n<=5:\n",
    "    print(n)\n",
    "    n+=1\n",
    "    \n",
    "# n <= 5 조건 --> n이 1 씩 증가하면서 5가 되면 정지(정지조건)"
   ]
  },
  {
   "cell_type": "markdown",
   "id": "e99f968f",
   "metadata": {},
   "source": [
    "1부터 10까지 더하기   \\\n",
    "for문"
   ]
  },
  {
   "cell_type": "code",
   "execution_count": 43,
   "id": "81f2ba88",
   "metadata": {},
   "outputs": [
    {
     "name": "stdout",
     "output_type": "stream",
     "text": [
      "55\n"
     ]
    }
   ],
   "source": [
    "total=0\n",
    "for i in range(1,11):\n",
    "    total += i\n",
    "print(total)"
   ]
  },
  {
   "cell_type": "markdown",
   "id": "bc4cea2f",
   "metadata": {},
   "source": [
    "while문"
   ]
  },
  {
   "cell_type": "code",
   "execution_count": 44,
   "id": "8153c2b7",
   "metadata": {},
   "outputs": [
    {
     "name": "stdout",
     "output_type": "stream",
     "text": [
      "55\n"
     ]
    }
   ],
   "source": [
    "n = 1\n",
    "total = 0\n",
    "while n<=10:\n",
    "    total += n\n",
    "    n+=1\n",
    "print(total)"
   ]
  },
  {
   "cell_type": "markdown",
   "id": "0344c8a0",
   "metadata": {},
   "source": [
    "while문만 가능한 경우\n",
    "- 'q'를 입력할 때까지 반복하여 이름 입력받기"
   ]
  },
  {
   "cell_type": "code",
   "execution_count": 46,
   "id": "9668f9e8",
   "metadata": {},
   "outputs": [
    {
     "name": "stdout",
     "output_type": "stream",
     "text": [
      "이름:정영훈\n",
      "이름:정영훈\n",
      "이름:quit\n"
     ]
    }
   ],
   "source": [
    "name = input('이름:')\n",
    "while name != 'quit':   \n",
    "    name = input('이름:')"
   ]
  },
  {
   "cell_type": "markdown",
   "id": "5a912aea",
   "metadata": {},
   "source": [
    "break로 반복문 빠져나오기"
   ]
  },
  {
   "cell_type": "code",
   "execution_count": 47,
   "id": "bc01e744",
   "metadata": {},
   "outputs": [
    {
     "name": "stdout",
     "output_type": "stream",
     "text": [
      "이름:quit\n"
     ]
    }
   ],
   "source": [
    "while True:\n",
    "    name = input('이름:')\n",
    "    if name=='quit':\n",
    "        break  # 정지조건 "
   ]
  },
  {
   "cell_type": "markdown",
   "id": "6f11a1ba",
   "metadata": {},
   "source": [
    "연습문제\n",
    " - 올바른 아이디/비밀번호를 입력할 때까지 아이디와 비밀번호를 입력하는 프로그램 만들기"
   ]
  },
  {
   "cell_type": "code",
   "execution_count": 51,
   "id": "3ab4d336",
   "metadata": {},
   "outputs": [
    {
     "name": "stdout",
     "output_type": "stream",
     "text": [
      "id를 입력해주세요gi\n",
      "pw를 입력해주세요123\n",
      "접속에 성공하셨습니다.\n"
     ]
    }
   ],
   "source": [
    "while True:\n",
    "    ide = input('id를 입력해주세요')\n",
    "    pw = input('pw를 입력해주세요')\n",
    "    if ide == 'gi' and pw == '123':\n",
    "        break\n",
    "print('접속에 성공하셨습니다.')"
   ]
  },
  {
   "cell_type": "markdown",
   "id": "45db3525",
   "metadata": {},
   "source": [
    "확장하기   \\\n",
    "아이디가 잘못되었으면 '아이디를 확인하세요' 출력   \\\n",
    "비밀번호가 잘못되었으면 '비밀번호를 확인하세요' 출력"
   ]
  },
  {
   "cell_type": "code",
   "execution_count": 53,
   "id": "366bbf9d",
   "metadata": {},
   "outputs": [
    {
     "name": "stdout",
     "output_type": "stream",
     "text": [
      "id를 입력해주세요gi\n",
      "pw를 입력해주세요15\n",
      "pw를 확인해주세요\n",
      "id를 입력해주세요123\n",
      "pw를 입력해주세요asd\n",
      "id를 확인해주세요\n",
      "id를 입력해주세요gi\n",
      "pw를 입력해주세요123\n",
      "접속에 성공하셨습니다.\n"
     ]
    }
   ],
   "source": [
    "while True:\n",
    "    ide = input('id를 입력해주세요')\n",
    "    pw = input('pw를 입력해주세요')\n",
    "    if ide != 'gi':\n",
    "        print('id를 확인해주세요')\n",
    "    elif pw != '123':\n",
    "        print('pw를 확인해주세요')\n",
    "    else:\n",
    "        break\n",
    "print('접속에 성공하셨습니다.')"
   ]
  },
  {
   "cell_type": "markdown",
   "id": "d8e0e30a",
   "metadata": {},
   "source": [
    "사용자가 0을 입력할 때까지 숫자을 입력받아 입력받은 숫자들의 합을 구하는 프로그램을 작성하세요"
   ]
  },
  {
   "cell_type": "code",
   "execution_count": 61,
   "id": "9ebac950",
   "metadata": {},
   "outputs": [
    {
     "name": "stdout",
     "output_type": "stream",
     "text": [
      "숫자를 입력해주세요 :5\n",
      "숫자를 입력해주세요 :5\n",
      "숫자를 입력해주세요 :5\n",
      "숫자를 입력해주세요 :5\n",
      "숫자를 입력해주세요 :5\n",
      "숫자를 입력해주세요 :5\n",
      "숫자를 입력해주세요 :50\n",
      "숫자를 입력해주세요 :0\n",
      "80\n"
     ]
    }
   ],
   "source": [
    "a = None\n",
    "i = 0\n",
    "while a != 0:\n",
    "    try:\n",
    "        a = int(input('숫자를 입력해주세요 :'))\n",
    "        i += a\n",
    "    except:\n",
    "        print('숫자가 아닙니다.. 다시 확인해주세요')\n",
    "print(i)"
   ]
  },
  {
   "cell_type": "markdown",
   "id": "4f57650c",
   "metadata": {},
   "source": [
    "up&down 숫자맞추기 게임\n",
    " - 1~100 사이의 정답 숫자를 랜덤으로 하나 정하고, 정답 숫자를 맞출 때까지 숫자를 입력하는 게임이다.   \\\n",
    "내가 입력한 숫자가 정답보다 작으면 'DOWN', 정답보다 크면 'UP'을 출력하고 숫자를 다시 입력받는다.   \\\n",
    "정답을 맞추면 '정답!'이라고 출력하고 게임을 끝낸다."
   ]
  },
  {
   "cell_type": "code",
   "execution_count": 72,
   "id": "29d8ed35",
   "metadata": {},
   "outputs": [
    {
     "name": "stdout",
     "output_type": "stream",
     "text": [
      "숫자를 입력해주세요10\n",
      "UP\n",
      "숫자를 입력해주세요20\n",
      "UP\n",
      "숫자를 입력해주세요50\n",
      "DOWN\n",
      "숫자를 입력해주세요40\n",
      "DOWN\n",
      "숫자를 입력해주세요30\n",
      "DOWN\n",
      "숫자를 입력해주세요25\n",
      "DOWN\n",
      "숫자를 입력해주세요24\n",
      "DOWN\n",
      "숫자를 입력해주세요23\n",
      "DOWN\n",
      "숫자를 입력해주세요22\n"
     ]
    }
   ],
   "source": [
    "import random\n",
    "a = random.randint(1,100)\n",
    "b = None\n",
    "while a != b:\n",
    "    b = int(input('숫자를 입력해주세요'))\n",
    "    while a > b:\n",
    "        print('UP')\n",
    "        break\n",
    "    while a < b:\n",
    "        print('DOWN')\n",
    "        break"
   ]
  },
  {
   "cell_type": "markdown",
   "id": "a3352fe0",
   "metadata": {},
   "source": [
    "- 확장\n",
    "기회는 5번까지만 주어집니다.   \\\n",
    "5회가 넘으면 '횟수초과' 메시지와 함께 정답을 알려줍니다.   \\\n",
    "정답을 맞추면 몇번째에 맞추었는지 출력합니다."
   ]
  },
  {
   "cell_type": "code",
   "execution_count": 75,
   "id": "c0aac837",
   "metadata": {
    "scrolled": true
   },
   "outputs": [
    {
     "name": "stdout",
     "output_type": "stream",
     "text": [
      "숫자를 입력해주세요30\n",
      "DOWN\n",
      "숫자를 입력해주세요15\n",
      "UP\n",
      "숫자를 입력해주세요23\n",
      "UP\n",
      "숫자를 입력해주세요26\n",
      "정답! 3 번만에 맞추셨습니다!\n"
     ]
    }
   ],
   "source": [
    "import random\n",
    "a = random.randint(1,100)\n",
    "b = None\n",
    "i = 0\n",
    "while a != b:\n",
    "    b = int(input('숫자를 입력해주세요'))\n",
    "    while a > b:\n",
    "        print('UP')\n",
    "        break\n",
    "    while a < b:\n",
    "        print('DOWN')\n",
    "        break\n",
    "    while a == b:\n",
    "        print('정답!',i,'번만에 맞추셨습니다!')\n",
    "        break\n",
    "    i += 1\n",
    "    if i == 5:\n",
    "        print('횟수초과!')\n",
    "        print(a)\n",
    "        break"
   ]
  },
  {
   "cell_type": "markdown",
   "id": "b018cbab",
   "metadata": {},
   "source": [
    "사칙연산 프로그램   \\\n",
    "두 수와 사칙연산기호(+,-,*,/)을 입력받아 연산 기호에 따라 연산 결과를 출력하는 프로그램을 작성하세요.   \\\n",
    "사칙연산기호(+,-,*,/)가 아닌 경우 '잘못입력하셨습니다' 출력"
   ]
  },
  {
   "cell_type": "code",
   "execution_count": 78,
   "id": "19e6649d",
   "metadata": {},
   "outputs": [
    {
     "name": "stdout",
     "output_type": "stream",
     "text": [
      "숫자1: 5\n",
      "사칙연산 기호: *\n",
      "숫자2: 5\n",
      "5 * 5 = 25\n"
     ]
    }
   ],
   "source": [
    "a = int(input('숫자1: '))\n",
    "b = input('사칙연산 기호: ')\n",
    "c = int(input('숫자2: '))\n",
    "if b == '+':\n",
    "    print(a,b,c,'=' ,a+c)\n",
    "elif b == '-':\n",
    "    print(a,b,c, '=' ,a-c)\n",
    "elif b == '*':\n",
    "    print(a,b,c ,'=' ,a*c)\n",
    "elif b == '/':\n",
    "    print(a,b,c, '=' ,a/c)\n",
    "else:\n",
    "    print('사칙연산 기호나 숫자를 확인해주세요')"
   ]
  },
  {
   "cell_type": "markdown",
   "id": "60e97747",
   "metadata": {},
   "source": [
    "할인된 금액 계산   \n",
    "- 물건 구매가를 입력받고, 금액에 따른 할인율을 계산하여 구매가, 할인율, 할인금액, 지불금액을 출력하세요.\n",
    "|금액|할인율|\n",
    "|----|------|\n",
    "|1만원이상 5만원미만|5%|\n",
    "|5만원이상 10만원미만|7%|\n",
    "|10만원이상|10%|"
   ]
  },
  {
   "cell_type": "code",
   "execution_count": 84,
   "id": "fd165e89",
   "metadata": {},
   "outputs": [
    {
     "name": "stdout",
     "output_type": "stream",
     "text": [
      "만원단위로 입력해주세요5\n",
      "구매가: 50000.0원\n",
      "할인율: 7%\n",
      "할인금액: 0.35000000000000003원\n",
      "지불금액: 46500.0원\n"
     ]
    }
   ],
   "source": [
    "try:\n",
    "    a = float(input('만원단위로 입력해주세요'))\n",
    "    if a < 1:\n",
    "        print(f'구매가: {a * 10000}원\\n할인율: 0%\\n할인금액: 0원\\n지불금액: {a*10000}원')\n",
    "    elif a >= 1 and a < 5:\n",
    "        print(f'구매가: {a * 10000}원\\n할인율: 5%\\n할인금액: {a * 0.05}원\\n지불금액: {a * 0.95 * 10000}원')\n",
    "    elif a >= 5 and a < 10:\n",
    "        print(f'구매가: {a * 10000}원\\n할인율: 7%\\n할인금액: {a * 0.07}원\\n지불금액: {a * 0.93 * 10000}원')\n",
    "    elif a >= 5 and a < 10:\n",
    "        print(f'구매가: {a * 10000}원\\n할인율: 10%\\n할인금액: {a * 0.1}원\\n지불금액: {a * 0.9 * 10000}원')\n",
    "except:\n",
    "    print('숫자를 입력해주세요')"
   ]
  }
 ],
 "metadata": {
  "kernelspec": {
   "display_name": "Python 3 (ipykernel)",
   "language": "python",
   "name": "python3"
  },
  "language_info": {
   "codemirror_mode": {
    "name": "ipython",
    "version": 3
   },
   "file_extension": ".py",
   "mimetype": "text/x-python",
   "name": "python",
   "nbconvert_exporter": "python",
   "pygments_lexer": "ipython3",
   "version": "3.9.7"
  }
 },
 "nbformat": 4,
 "nbformat_minor": 5
}
