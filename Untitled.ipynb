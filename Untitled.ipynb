{
 "cells": [
  {
   "cell_type": "code",
   "execution_count": 2,
   "id": "4f265318",
   "metadata": {},
   "outputs": [
    {
     "name": "stdout",
     "output_type": "stream",
     "text": [
      "Requirement already satisfied: sympy in c:\\programdata\\anaconda3\\lib\\site-packages (1.9)\n",
      "Requirement already satisfied: mpmath>=0.19 in c:\\programdata\\anaconda3\\lib\\site-packages (from sympy) (1.2.1)\n"
     ]
    }
   ],
   "source": [
    "!pip install sympy"
   ]
  },
  {
   "cell_type": "code",
   "execution_count": 3,
   "id": "295ffb42",
   "metadata": {},
   "outputs": [],
   "source": [
    "from sympy import Symbol, solve"
   ]
  },
  {
   "cell_type": "code",
   "execution_count": 4,
   "id": "ce534b20",
   "metadata": {},
   "outputs": [],
   "source": [
    "x = Symbol('x')"
   ]
  },
  {
   "cell_type": "code",
   "execution_count": 5,
   "id": "10623e34",
   "metadata": {},
   "outputs": [
    {
     "data": {
      "text/latex": [
       "$\\displaystyle x$"
      ],
      "text/plain": [
       "x"
      ]
     },
     "execution_count": 5,
     "metadata": {},
     "output_type": "execute_result"
    }
   ],
   "source": [
    "x"
   ]
  },
  {
   "cell_type": "code",
   "execution_count": 6,
   "id": "c77d1eac",
   "metadata": {},
   "outputs": [
    {
     "data": {
      "text/plain": [
       "[3]"
      ]
     },
     "execution_count": 6,
     "metadata": {},
     "output_type": "execute_result"
    }
   ],
   "source": [
    "equation = 2 * x - 6\n",
    "solve(equation)"
   ]
  },
  {
   "cell_type": "code",
   "execution_count": 10,
   "id": "05702888",
   "metadata": {},
   "outputs": [
    {
     "data": {
      "text/plain": [
       "[6]"
      ]
     },
     "execution_count": 10,
     "metadata": {},
     "output_type": "execute_result"
    }
   ],
   "source": [
    "k = Symbol('k')\n",
    "equation_2 = k -2 - 4\n",
    "solve(equation_2)"
   ]
  },
  {
   "cell_type": "code",
   "execution_count": 14,
   "id": "6ede3cae",
   "metadata": {},
   "outputs": [
    {
     "data": {
      "text/plain": [
       "[1 + log(5)/log(2)]"
      ]
     },
     "execution_count": 14,
     "metadata": {},
     "output_type": "execute_result"
    }
   ],
   "source": [
    "equation_x = pow(2,x) - 10\n",
    "solve(equation_x)"
   ]
  },
  {
   "cell_type": "code",
   "execution_count": 17,
   "id": "81733a87",
   "metadata": {},
   "outputs": [],
   "source": [
    "# 방정식과 부등식\n",
    "\n",
    "x = Symbol('x')\n",
    "y = Symbol('y')"
   ]
  },
  {
   "cell_type": "code",
   "execution_count": 21,
   "id": "8bd85eba",
   "metadata": {},
   "outputs": [],
   "source": [
    "equation_3 = 3 * x + y - 2\n",
    "equation_4 = x-2 * y - 3"
   ]
  },
  {
   "cell_type": "code",
   "execution_count": 22,
   "id": "78555be1",
   "metadata": {},
   "outputs": [
    {
     "data": {
      "text/plain": [
       "[{x: 1, y: -1}]"
      ]
     },
     "execution_count": 22,
     "metadata": {},
     "output_type": "execute_result"
    }
   ],
   "source": [
    "solve((equation_3, equation_4),dict=True)"
   ]
  },
  {
   "cell_type": "code",
   "execution_count": null,
   "id": "1fa102dc",
   "metadata": {},
   "outputs": [],
   "source": []
  }
 ],
 "metadata": {
  "kernelspec": {
   "display_name": "Python 3 (ipykernel)",
   "language": "python",
   "name": "python3"
  },
  "language_info": {
   "codemirror_mode": {
    "name": "ipython",
    "version": 3
   },
   "file_extension": ".py",
   "mimetype": "text/x-python",
   "name": "python",
   "nbconvert_exporter": "python",
   "pygments_lexer": "ipython3",
   "version": "3.9.7"
  }
 },
 "nbformat": 4,
 "nbformat_minor": 5
}
