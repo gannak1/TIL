{
 "cells": [
  {
   "cell_type": "code",
   "execution_count": 1,
   "id": "6e37d8cb",
   "metadata": {
    "executionInfo": {
     "elapsed": 1094,
     "status": "ok",
     "timestamp": 1645436933101,
     "user": {
      "displayName": "남궁정후",
      "photoUrl": "https://lh3.googleusercontent.com/a/default-user=s64",
      "userId": "00760625701380821498"
     },
     "user_tz": -540
    },
    "id": "6e37d8cb"
   },
   "outputs": [],
   "source": [
    "import pandas as pd\n",
    "import numpy as np\n",
    "import seaborn as sns\n",
    "import matplotlib.pyplot as plt\n",
    "from sklearn.preprocessing import LabelEncoder\n",
    "import time\n",
    "from datetime import datetime\n",
    "import itertools\n",
    "import gc\n",
    "import pickle\n",
    "from xgboost import XGBRegressor\n",
    "from xgboost import plot_importance\n",
    "\n",
    "%matplotlib inline"
   ]
  },
  {
   "cell_type": "code",
   "execution_count": 2,
   "id": "7bfb03c3",
   "metadata": {
    "executionInfo": {
     "elapsed": 1691,
     "status": "ok",
     "timestamp": 1645436937049,
     "user": {
      "displayName": "남궁정후",
      "photoUrl": "https://lh3.googleusercontent.com/a/default-user=s64",
      "userId": "00760625701380821498"
     },
     "user_tz": -540
    },
    "id": "7bfb03c3"
   },
   "outputs": [],
   "source": [
    "# 데이터 불러오기\n",
    "\n",
    "sales = pd.read_csv('./data/sales_train.csv')\n",
    "items = pd.read_csv('./data/items.csv')\n",
    "item_categories = pd.read_csv('./data/item_categories.csv')\n",
    "shops = pd.read_csv('./data/shops.csv')\n",
    "test = pd.read_csv('./data/test.csv')"
   ]
  },
  {
   "cell_type": "markdown",
   "id": "81505215",
   "metadata": {
    "id": "81505215"
   },
   "source": [
    "# 1. Preprocessing"
   ]
  },
  {
   "cell_type": "markdown",
   "id": "268801e1",
   "metadata": {
    "id": "268801e1"
   },
   "source": [
    "## 1) sales data "
   ]
  },
  {
   "cell_type": "code",
   "execution_count": 3,
   "id": "0a88725c",
   "metadata": {
    "colab": {
     "base_uri": "https://localhost:8080/",
     "height": 206
    },
    "executionInfo": {
     "elapsed": 273,
     "status": "ok",
     "timestamp": 1645436988382,
     "user": {
      "displayName": "남궁정후",
      "photoUrl": "https://lh3.googleusercontent.com/a/default-user=s64",
      "userId": "00760625701380821498"
     },
     "user_tz": -540
    },
    "id": "0a88725c",
    "outputId": "e64ebd36-d013-433e-de93-62d3af6e1715"
   },
   "outputs": [
    {
     "data": {
      "text/html": [
       "<div>\n",
       "<style scoped>\n",
       "    .dataframe tbody tr th:only-of-type {\n",
       "        vertical-align: middle;\n",
       "    }\n",
       "\n",
       "    .dataframe tbody tr th {\n",
       "        vertical-align: top;\n",
       "    }\n",
       "\n",
       "    .dataframe thead th {\n",
       "        text-align: right;\n",
       "    }\n",
       "</style>\n",
       "<table border=\"1\" class=\"dataframe\">\n",
       "  <thead>\n",
       "    <tr style=\"text-align: right;\">\n",
       "      <th></th>\n",
       "      <th>date</th>\n",
       "      <th>date_block_num</th>\n",
       "      <th>shop_id</th>\n",
       "      <th>item_id</th>\n",
       "      <th>item_price</th>\n",
       "      <th>item_cnt_day</th>\n",
       "    </tr>\n",
       "  </thead>\n",
       "  <tbody>\n",
       "    <tr>\n",
       "      <th>0</th>\n",
       "      <td>02.01.2013</td>\n",
       "      <td>0</td>\n",
       "      <td>59</td>\n",
       "      <td>22154</td>\n",
       "      <td>999.00</td>\n",
       "      <td>1.0</td>\n",
       "    </tr>\n",
       "    <tr>\n",
       "      <th>1</th>\n",
       "      <td>03.01.2013</td>\n",
       "      <td>0</td>\n",
       "      <td>25</td>\n",
       "      <td>2552</td>\n",
       "      <td>899.00</td>\n",
       "      <td>1.0</td>\n",
       "    </tr>\n",
       "    <tr>\n",
       "      <th>2</th>\n",
       "      <td>05.01.2013</td>\n",
       "      <td>0</td>\n",
       "      <td>25</td>\n",
       "      <td>2552</td>\n",
       "      <td>899.00</td>\n",
       "      <td>-1.0</td>\n",
       "    </tr>\n",
       "    <tr>\n",
       "      <th>3</th>\n",
       "      <td>06.01.2013</td>\n",
       "      <td>0</td>\n",
       "      <td>25</td>\n",
       "      <td>2554</td>\n",
       "      <td>1709.05</td>\n",
       "      <td>1.0</td>\n",
       "    </tr>\n",
       "    <tr>\n",
       "      <th>4</th>\n",
       "      <td>15.01.2013</td>\n",
       "      <td>0</td>\n",
       "      <td>25</td>\n",
       "      <td>2555</td>\n",
       "      <td>1099.00</td>\n",
       "      <td>1.0</td>\n",
       "    </tr>\n",
       "  </tbody>\n",
       "</table>\n",
       "</div>"
      ],
      "text/plain": [
       "         date  date_block_num  shop_id  item_id  item_price  item_cnt_day\n",
       "0  02.01.2013               0       59    22154      999.00           1.0\n",
       "1  03.01.2013               0       25     2552      899.00           1.0\n",
       "2  05.01.2013               0       25     2552      899.00          -1.0\n",
       "3  06.01.2013               0       25     2554     1709.05           1.0\n",
       "4  15.01.2013               0       25     2555     1099.00           1.0"
      ]
     },
     "execution_count": 3,
     "metadata": {},
     "output_type": "execute_result"
    }
   ],
   "source": [
    "sales.head()"
   ]
  },
  {
   "cell_type": "code",
   "execution_count": 4,
   "id": "1fb830f7",
   "metadata": {
    "colab": {
     "base_uri": "https://localhost:8080/"
    },
    "executionInfo": {
     "elapsed": 256,
     "status": "ok",
     "timestamp": 1645436990338,
     "user": {
      "displayName": "남궁정후",
      "photoUrl": "https://lh3.googleusercontent.com/a/default-user=s64",
      "userId": "00760625701380821498"
     },
     "user_tz": -540
    },
    "id": "1fb830f7",
    "outputId": "ae4fece9-4d0a-4298-e1ef-10d2fbb7e461"
   },
   "outputs": [
    {
     "name": "stdout",
     "output_type": "stream",
     "text": [
      "<class 'pandas.core.frame.DataFrame'>\n",
      "RangeIndex: 2935849 entries, 0 to 2935848\n",
      "Data columns (total 6 columns):\n",
      " #   Column          Dtype  \n",
      "---  ------          -----  \n",
      " 0   date            object \n",
      " 1   date_block_num  int64  \n",
      " 2   shop_id         int64  \n",
      " 3   item_id         int64  \n",
      " 4   item_price      float64\n",
      " 5   item_cnt_day    float64\n",
      "dtypes: float64(2), int64(3), object(1)\n",
      "memory usage: 134.4+ MB\n"
     ]
    }
   ],
   "source": [
    "sales.info()"
   ]
  },
  {
   "cell_type": "code",
   "execution_count": 5,
   "id": "9486a12d",
   "metadata": {
    "colab": {
     "base_uri": "https://localhost:8080/"
    },
    "executionInfo": {
     "elapsed": 263,
     "status": "ok",
     "timestamp": 1645436995537,
     "user": {
      "displayName": "남궁정후",
      "photoUrl": "https://lh3.googleusercontent.com/a/default-user=s64",
      "userId": "00760625701380821498"
     },
     "user_tz": -540
    },
    "id": "9486a12d",
    "outputId": "adee3d7b-6c8e-462f-bcae-418ae0ee45ff"
   },
   "outputs": [
    {
     "data": {
      "text/plain": [
       "(2935849, 6)"
      ]
     },
     "execution_count": 5,
     "metadata": {},
     "output_type": "execute_result"
    }
   ],
   "source": [
    "sales.shape"
   ]
  },
  {
   "cell_type": "code",
   "execution_count": 6,
   "id": "f09894b9",
   "metadata": {
    "colab": {
     "base_uri": "https://localhost:8080/",
     "height": 206
    },
    "executionInfo": {
     "elapsed": 674,
     "status": "ok",
     "timestamp": 1645436997910,
     "user": {
      "displayName": "남궁정후",
      "photoUrl": "https://lh3.googleusercontent.com/a/default-user=s64",
      "userId": "00760625701380821498"
     },
     "user_tz": -540
    },
    "id": "f09894b9",
    "outputId": "97d5d04c-c7d2-4c10-d9f0-d676561d3422"
   },
   "outputs": [
    {
     "data": {
      "text/html": [
       "<div>\n",
       "<style scoped>\n",
       "    .dataframe tbody tr th:only-of-type {\n",
       "        vertical-align: middle;\n",
       "    }\n",
       "\n",
       "    .dataframe tbody tr th {\n",
       "        vertical-align: top;\n",
       "    }\n",
       "\n",
       "    .dataframe thead th {\n",
       "        text-align: right;\n",
       "    }\n",
       "</style>\n",
       "<table border=\"1\" class=\"dataframe\">\n",
       "  <thead>\n",
       "    <tr style=\"text-align: right;\">\n",
       "      <th></th>\n",
       "      <th>date_block_num</th>\n",
       "      <th>shop_id</th>\n",
       "      <th>item_id</th>\n",
       "      <th>item_price</th>\n",
       "      <th>item_cnt_day</th>\n",
       "    </tr>\n",
       "  </thead>\n",
       "  <tbody>\n",
       "    <tr>\n",
       "      <th>date_block_num</th>\n",
       "      <td>1.000000</td>\n",
       "      <td>0.019273</td>\n",
       "      <td>0.009356</td>\n",
       "      <td>0.095010</td>\n",
       "      <td>0.009402</td>\n",
       "    </tr>\n",
       "    <tr>\n",
       "      <th>shop_id</th>\n",
       "      <td>0.019273</td>\n",
       "      <td>1.000000</td>\n",
       "      <td>0.029396</td>\n",
       "      <td>-0.024034</td>\n",
       "      <td>-0.005230</td>\n",
       "    </tr>\n",
       "    <tr>\n",
       "      <th>item_id</th>\n",
       "      <td>0.009356</td>\n",
       "      <td>0.029396</td>\n",
       "      <td>1.000000</td>\n",
       "      <td>-0.134104</td>\n",
       "      <td>0.016650</td>\n",
       "    </tr>\n",
       "    <tr>\n",
       "      <th>item_price</th>\n",
       "      <td>0.095010</td>\n",
       "      <td>-0.024034</td>\n",
       "      <td>-0.134104</td>\n",
       "      <td>1.000000</td>\n",
       "      <td>0.011197</td>\n",
       "    </tr>\n",
       "    <tr>\n",
       "      <th>item_cnt_day</th>\n",
       "      <td>0.009402</td>\n",
       "      <td>-0.005230</td>\n",
       "      <td>0.016650</td>\n",
       "      <td>0.011197</td>\n",
       "      <td>1.000000</td>\n",
       "    </tr>\n",
       "  </tbody>\n",
       "</table>\n",
       "</div>"
      ],
      "text/plain": [
       "                date_block_num   shop_id   item_id  item_price  item_cnt_day\n",
       "date_block_num        1.000000  0.019273  0.009356    0.095010      0.009402\n",
       "shop_id               0.019273  1.000000  0.029396   -0.024034     -0.005230\n",
       "item_id               0.009356  0.029396  1.000000   -0.134104      0.016650\n",
       "item_price            0.095010 -0.024034 -0.134104    1.000000      0.011197\n",
       "item_cnt_day          0.009402 -0.005230  0.016650    0.011197      1.000000"
      ]
     },
     "execution_count": 6,
     "metadata": {},
     "output_type": "execute_result"
    }
   ],
   "source": [
    "sales.corr()   # 상관계수"
   ]
  },
  {
   "cell_type": "code",
   "execution_count": 7,
   "id": "ba28d986",
   "metadata": {
    "colab": {
     "base_uri": "https://localhost:8080/",
     "height": 300
    },
    "executionInfo": {
     "elapsed": 668,
     "status": "ok",
     "timestamp": 1645437001011,
     "user": {
      "displayName": "남궁정후",
      "photoUrl": "https://lh3.googleusercontent.com/a/default-user=s64",
      "userId": "00760625701380821498"
     },
     "user_tz": -540
    },
    "id": "ba28d986",
    "outputId": "08a8d641-aba7-4972-be72-9a73387c4caf"
   },
   "outputs": [
    {
     "data": {
      "text/html": [
       "<div>\n",
       "<style scoped>\n",
       "    .dataframe tbody tr th:only-of-type {\n",
       "        vertical-align: middle;\n",
       "    }\n",
       "\n",
       "    .dataframe tbody tr th {\n",
       "        vertical-align: top;\n",
       "    }\n",
       "\n",
       "    .dataframe thead th {\n",
       "        text-align: right;\n",
       "    }\n",
       "</style>\n",
       "<table border=\"1\" class=\"dataframe\">\n",
       "  <thead>\n",
       "    <tr style=\"text-align: right;\">\n",
       "      <th></th>\n",
       "      <th>date_block_num</th>\n",
       "      <th>shop_id</th>\n",
       "      <th>item_id</th>\n",
       "      <th>item_price</th>\n",
       "      <th>item_cnt_day</th>\n",
       "    </tr>\n",
       "  </thead>\n",
       "  <tbody>\n",
       "    <tr>\n",
       "      <th>count</th>\n",
       "      <td>2.935849e+06</td>\n",
       "      <td>2.935849e+06</td>\n",
       "      <td>2.935849e+06</td>\n",
       "      <td>2.935849e+06</td>\n",
       "      <td>2.935849e+06</td>\n",
       "    </tr>\n",
       "    <tr>\n",
       "      <th>mean</th>\n",
       "      <td>1.456991e+01</td>\n",
       "      <td>3.300173e+01</td>\n",
       "      <td>1.019723e+04</td>\n",
       "      <td>8.908532e+02</td>\n",
       "      <td>1.242641e+00</td>\n",
       "    </tr>\n",
       "    <tr>\n",
       "      <th>std</th>\n",
       "      <td>9.422988e+00</td>\n",
       "      <td>1.622697e+01</td>\n",
       "      <td>6.324297e+03</td>\n",
       "      <td>1.729800e+03</td>\n",
       "      <td>2.618834e+00</td>\n",
       "    </tr>\n",
       "    <tr>\n",
       "      <th>min</th>\n",
       "      <td>0.000000e+00</td>\n",
       "      <td>0.000000e+00</td>\n",
       "      <td>0.000000e+00</td>\n",
       "      <td>-1.000000e+00</td>\n",
       "      <td>-2.200000e+01</td>\n",
       "    </tr>\n",
       "    <tr>\n",
       "      <th>25%</th>\n",
       "      <td>7.000000e+00</td>\n",
       "      <td>2.200000e+01</td>\n",
       "      <td>4.476000e+03</td>\n",
       "      <td>2.490000e+02</td>\n",
       "      <td>1.000000e+00</td>\n",
       "    </tr>\n",
       "    <tr>\n",
       "      <th>50%</th>\n",
       "      <td>1.400000e+01</td>\n",
       "      <td>3.100000e+01</td>\n",
       "      <td>9.343000e+03</td>\n",
       "      <td>3.990000e+02</td>\n",
       "      <td>1.000000e+00</td>\n",
       "    </tr>\n",
       "    <tr>\n",
       "      <th>75%</th>\n",
       "      <td>2.300000e+01</td>\n",
       "      <td>4.700000e+01</td>\n",
       "      <td>1.568400e+04</td>\n",
       "      <td>9.990000e+02</td>\n",
       "      <td>1.000000e+00</td>\n",
       "    </tr>\n",
       "    <tr>\n",
       "      <th>max</th>\n",
       "      <td>3.300000e+01</td>\n",
       "      <td>5.900000e+01</td>\n",
       "      <td>2.216900e+04</td>\n",
       "      <td>3.079800e+05</td>\n",
       "      <td>2.169000e+03</td>\n",
       "    </tr>\n",
       "  </tbody>\n",
       "</table>\n",
       "</div>"
      ],
      "text/plain": [
       "       date_block_num       shop_id       item_id    item_price  item_cnt_day\n",
       "count    2.935849e+06  2.935849e+06  2.935849e+06  2.935849e+06  2.935849e+06\n",
       "mean     1.456991e+01  3.300173e+01  1.019723e+04  8.908532e+02  1.242641e+00\n",
       "std      9.422988e+00  1.622697e+01  6.324297e+03  1.729800e+03  2.618834e+00\n",
       "min      0.000000e+00  0.000000e+00  0.000000e+00 -1.000000e+00 -2.200000e+01\n",
       "25%      7.000000e+00  2.200000e+01  4.476000e+03  2.490000e+02  1.000000e+00\n",
       "50%      1.400000e+01  3.100000e+01  9.343000e+03  3.990000e+02  1.000000e+00\n",
       "75%      2.300000e+01  4.700000e+01  1.568400e+04  9.990000e+02  1.000000e+00\n",
       "max      3.300000e+01  5.900000e+01  2.216900e+04  3.079800e+05  2.169000e+03"
      ]
     },
     "execution_count": 7,
     "metadata": {},
     "output_type": "execute_result"
    }
   ],
   "source": [
    "sales.describe()"
   ]
  },
  {
   "cell_type": "markdown",
   "id": "35c49d49",
   "metadata": {
    "id": "35c49d49"
   },
   "source": [
    "### 날짜형식 변환"
   ]
  },
  {
   "cell_type": "code",
   "execution_count": 8,
   "id": "e7ab3d2e",
   "metadata": {
    "colab": {
     "base_uri": "https://localhost:8080/",
     "height": 206
    },
    "executionInfo": {
     "elapsed": 265,
     "status": "ok",
     "timestamp": 1645437028274,
     "user": {
      "displayName": "남궁정후",
      "photoUrl": "https://lh3.googleusercontent.com/a/default-user=s64",
      "userId": "00760625701380821498"
     },
     "user_tz": -540
    },
    "id": "e7ab3d2e",
    "outputId": "cf2a4bfe-fbb5-4847-c058-6bfab441b24f"
   },
   "outputs": [
    {
     "data": {
      "text/plain": [
       "0.325272798538208"
      ]
     },
     "execution_count": 8,
     "metadata": {},
     "output_type": "execute_result"
    }
   ],
   "source": [
    "tc = time.time()\n",
    "sales.date = pd.to_datetime(sales.date,format = '%d.%m.%Y',errors = 'raise')\n",
    "time.time() - tc"
   ]
  },
  {
   "cell_type": "code",
   "execution_count": 9,
   "id": "110b4f98",
   "metadata": {},
   "outputs": [],
   "source": [
    "sales.insert(1,column = 'day_of_week',value = sales.date.dt.dayofweek)\n",
    "sales.insert(1,column = 'day',value = sales.date.dt.day)\n",
    "sales.insert(1,column = 'month',value = sales.date.dt.month)\n",
    "sales.insert(1,column = 'year',value = sales.date.dt.year)"
   ]
  },
  {
   "cell_type": "markdown",
   "id": "3927232d",
   "metadata": {
    "id": "3927232d"
   },
   "source": [
    "### 중복데이터 처리"
   ]
  },
  {
   "cell_type": "code",
   "execution_count": 10,
   "id": "bfd00820",
   "metadata": {
    "colab": {
     "base_uri": "https://localhost:8080/"
    },
    "executionInfo": {
     "elapsed": 1886,
     "status": "ok",
     "timestamp": 1645437033928,
     "user": {
      "displayName": "남궁정후",
      "photoUrl": "https://lh3.googleusercontent.com/a/default-user=s64",
      "userId": "00760625701380821498"
     },
     "user_tz": -540
    },
    "id": "bfd00820",
    "outputId": "b7c6b7c6-c237-439c-d96f-7885bb407e4d"
   },
   "outputs": [
    {
     "data": {
      "text/plain": [
       "6"
      ]
     },
     "execution_count": 10,
     "metadata": {},
     "output_type": "execute_result"
    }
   ],
   "source": [
    "sales.duplicated().sum()  # sales데이터 중복행 6개"
   ]
  },
  {
   "cell_type": "code",
   "execution_count": 11,
   "id": "9cd80acd",
   "metadata": {
    "colab": {
     "base_uri": "https://localhost:8080/"
    },
    "executionInfo": {
     "elapsed": 256,
     "status": "ok",
     "timestamp": 1645437040088,
     "user": {
      "displayName": "남궁정후",
      "photoUrl": "https://lh3.googleusercontent.com/a/default-user=s64",
      "userId": "00760625701380821498"
     },
     "user_tz": -540
    },
    "id": "9cd80acd",
    "outputId": "5c8c0184-31a0-471f-b5a0-3e99ee60dd5f"
   },
   "outputs": [
    {
     "name": "stdout",
     "output_type": "stream",
     "text": [
      "0\n",
      "0\n",
      "0\n",
      "0\n"
     ]
    }
   ],
   "source": [
    "# 나머지 데이터프레임 중복값 확인\n",
    "print(test.duplicated().sum())\n",
    "print(items.duplicated().sum())\n",
    "print(item_categories.duplicated().sum())\n",
    "print(shops.duplicated().sum())"
   ]
  },
  {
   "cell_type": "code",
   "execution_count": 12,
   "id": "f176da8a",
   "metadata": {
    "colab": {
     "base_uri": "https://localhost:8080/"
    },
    "executionInfo": {
     "elapsed": 1752,
     "status": "ok",
     "timestamp": 1645437043319,
     "user": {
      "displayName": "남궁정후",
      "photoUrl": "https://lh3.googleusercontent.com/a/default-user=s64",
      "userId": "00760625701380821498"
     },
     "user_tz": -540
    },
    "id": "f176da8a",
    "outputId": "35c74a8d-ad54-4ad0-d6c0-b31222be072d"
   },
   "outputs": [
    {
     "data": {
      "text/plain": [
       "(2935843, 10)"
      ]
     },
     "execution_count": 12,
     "metadata": {},
     "output_type": "execute_result"
    }
   ],
   "source": [
    "# sales 중복데이터 6개 삭제\n",
    "sales = sales.drop_duplicates()\n",
    "sales.shape  # (2935849, 6) -> (2935843, 6)"
   ]
  },
  {
   "cell_type": "markdown",
   "id": "7fabcaae",
   "metadata": {
    "id": "7fabcaae"
   },
   "source": [
    "### 결측치 처리"
   ]
  },
  {
   "cell_type": "code",
   "execution_count": 13,
   "id": "34b70daf",
   "metadata": {
    "colab": {
     "base_uri": "https://localhost:8080/"
    },
    "executionInfo": {
     "elapsed": 4,
     "status": "ok",
     "timestamp": 1645437044942,
     "user": {
      "displayName": "남궁정후",
      "photoUrl": "https://lh3.googleusercontent.com/a/default-user=s64",
      "userId": "00760625701380821498"
     },
     "user_tz": -540
    },
    "id": "34b70daf",
    "outputId": "af65788b-f323-4dab-8ea8-2fb719f523ac"
   },
   "outputs": [
    {
     "data": {
      "text/plain": [
       "date              0\n",
       "year              0\n",
       "month             0\n",
       "day               0\n",
       "day_of_week       0\n",
       "date_block_num    0\n",
       "shop_id           0\n",
       "item_id           0\n",
       "item_price        0\n",
       "item_cnt_day      0\n",
       "dtype: int64"
      ]
     },
     "execution_count": 13,
     "metadata": {},
     "output_type": "execute_result"
    }
   ],
   "source": [
    "# 결측치 없음\n",
    "sales.isnull().sum()"
   ]
  },
  {
   "cell_type": "markdown",
   "id": "e9efa4b8",
   "metadata": {
    "id": "e9efa4b8"
   },
   "source": [
    "### 이상치 처리\n",
    "- boxplot 활용해 이상치 확인"
   ]
  },
  {
   "cell_type": "code",
   "execution_count": 14,
   "id": "c933fa82",
   "metadata": {
    "colab": {
     "base_uri": "https://localhost:8080/",
     "height": 435
    },
    "executionInfo": {
     "elapsed": 2365,
     "status": "ok",
     "timestamp": 1645437051533,
     "user": {
      "displayName": "남궁정후",
      "photoUrl": "https://lh3.googleusercontent.com/a/default-user=s64",
      "userId": "00760625701380821498"
     },
     "user_tz": -540
    },
    "id": "c933fa82",
    "outputId": "d1b598d8-cc3a-4721-8da5-ce801cc5edc0"
   },
   "outputs": [
    {
     "data": {
      "image/png": "[encoded data removed]",
      "text/plain": [
       "<Figure size 864x216 with 1 Axes>"
      ]
     },
     "metadata": {
      "needs_background": "light"
     },
     "output_type": "display_data"
    },
    {
     "data": {
      "image/png": "[encoded data removed]",
      "text/plain": [
       "<Figure size 864x216 with 1 Axes>"
      ]
     },
     "metadata": {
      "needs_background": "light"
     },
     "output_type": "display_data"
    }
   ],
   "source": [
    "plt.figure(figsize=(12,3))\n",
    "sns.boxplot(x='item_price', data=sales)\n",
    "plt.figure(figsize=(12,3))\n",
    "sns.boxplot(x='item_cnt_day', data=sales)\n",
    "plt.show()"
   ]
  },
  {
   "cell_type": "code",
   "execution_count": 15,
   "id": "39a4f004",
   "metadata": {
    "colab": {
     "base_uri": "https://localhost:8080/",
     "height": 435
    },
    "executionInfo": {
     "elapsed": 3643,
     "status": "ok",
     "timestamp": 1645437060928,
     "user": {
      "displayName": "남궁정후",
      "photoUrl": "https://lh3.googleusercontent.com/a/default-user=s64",
      "userId": "00760625701380821498"
     },
     "user_tz": -540
    },
    "id": "39a4f004",
    "outputId": "f35002ee-514d-4aae-fff6-d66fa92bcc1a"
   },
   "outputs": [
    {
     "data": {
      "image/png": "[encoded data removed]",
      "text/plain": [
       "<Figure size 864x216 with 1 Axes>"
      ]
     },
     "metadata": {
      "needs_background": "light"
     },
     "output_type": "display_data"
    },
    {
     "data": {
      "image/png": "[encoded data removed]",
      "text/plain": [
       "<Figure size 864x216 with 1 Axes>"
      ]
     },
     "metadata": {
      "needs_background": "light"
     },
     "output_type": "display_data"
    }
   ],
   "source": [
    "plt.figure(figsize=(12,3))\n",
    "sns.boxplot(x = 'date_block_num', y = 'item_price', data = sales)\n",
    "plt.figure(figsize=(12,3))\n",
    "sns.boxplot(x = 'date_block_num', y = 'item_cnt_day', data = sales)\n",
    "plt.show()"
   ]
  },
  {
   "cell_type": "code",
   "execution_count": 16,
   "id": "4b581e02",
   "metadata": {
    "colab": {
     "base_uri": "https://localhost:8080/",
     "height": 426
    },
    "executionInfo": {
     "elapsed": 271,
     "status": "ok",
     "timestamp": 1645437067814,
     "user": {
      "displayName": "남궁정후",
      "photoUrl": "https://lh3.googleusercontent.com/a/default-user=s64",
      "userId": "00760625701380821498"
     },
     "user_tz": -540
    },
    "id": "4b581e02",
    "outputId": "61ead6b9-f83f-4c3d-af10-a7c3972aee3e",
    "scrolled": true
   },
   "outputs": [
    {
     "data": {
      "text/html": [
       "<div>\n",
       "<style scoped>\n",
       "    .dataframe tbody tr th:only-of-type {\n",
       "        vertical-align: middle;\n",
       "    }\n",
       "\n",
       "    .dataframe tbody tr th {\n",
       "        vertical-align: top;\n",
       "    }\n",
       "\n",
       "    .dataframe thead th {\n",
       "        text-align: right;\n",
       "    }\n",
       "</style>\n",
       "<table border=\"1\" class=\"dataframe\">\n",
       "  <thead>\n",
       "    <tr style=\"text-align: right;\">\n",
       "      <th></th>\n",
       "      <th>date</th>\n",
       "      <th>year</th>\n",
       "      <th>month</th>\n",
       "      <th>day</th>\n",
       "      <th>day_of_week</th>\n",
       "      <th>date_block_num</th>\n",
       "      <th>shop_id</th>\n",
       "      <th>item_id</th>\n",
       "      <th>item_price</th>\n",
       "      <th>item_cnt_day</th>\n",
       "    </tr>\n",
       "  </thead>\n",
       "  <tbody>\n",
       "    <tr>\n",
       "      <th>1573253</th>\n",
       "      <td>2014-04-22</td>\n",
       "      <td>2014</td>\n",
       "      <td>4</td>\n",
       "      <td>22</td>\n",
       "      <td>1</td>\n",
       "      <td>15</td>\n",
       "      <td>27</td>\n",
       "      <td>8057</td>\n",
       "      <td>1200.000000</td>\n",
       "      <td>502.0</td>\n",
       "    </tr>\n",
       "    <tr>\n",
       "      <th>1708207</th>\n",
       "      <td>2014-06-28</td>\n",
       "      <td>2014</td>\n",
       "      <td>6</td>\n",
       "      <td>28</td>\n",
       "      <td>5</td>\n",
       "      <td>17</td>\n",
       "      <td>25</td>\n",
       "      <td>20949</td>\n",
       "      <td>5.000000</td>\n",
       "      <td>501.0</td>\n",
       "    </tr>\n",
       "    <tr>\n",
       "      <th>2048518</th>\n",
       "      <td>2014-10-02</td>\n",
       "      <td>2014</td>\n",
       "      <td>10</td>\n",
       "      <td>2</td>\n",
       "      <td>3</td>\n",
       "      <td>21</td>\n",
       "      <td>12</td>\n",
       "      <td>9242</td>\n",
       "      <td>1500.000000</td>\n",
       "      <td>512.0</td>\n",
       "    </tr>\n",
       "    <tr>\n",
       "      <th>2067669</th>\n",
       "      <td>2014-10-09</td>\n",
       "      <td>2014</td>\n",
       "      <td>10</td>\n",
       "      <td>9</td>\n",
       "      <td>3</td>\n",
       "      <td>21</td>\n",
       "      <td>55</td>\n",
       "      <td>19437</td>\n",
       "      <td>899.000000</td>\n",
       "      <td>508.0</td>\n",
       "    </tr>\n",
       "    <tr>\n",
       "      <th>2326930</th>\n",
       "      <td>2015-01-15</td>\n",
       "      <td>2015</td>\n",
       "      <td>1</td>\n",
       "      <td>15</td>\n",
       "      <td>3</td>\n",
       "      <td>24</td>\n",
       "      <td>12</td>\n",
       "      <td>20949</td>\n",
       "      <td>4.000000</td>\n",
       "      <td>1000.0</td>\n",
       "    </tr>\n",
       "    <tr>\n",
       "      <th>2608040</th>\n",
       "      <td>2015-04-14</td>\n",
       "      <td>2015</td>\n",
       "      <td>4</td>\n",
       "      <td>14</td>\n",
       "      <td>1</td>\n",
       "      <td>27</td>\n",
       "      <td>12</td>\n",
       "      <td>3731</td>\n",
       "      <td>1904.548077</td>\n",
       "      <td>624.0</td>\n",
       "    </tr>\n",
       "    <tr>\n",
       "      <th>2626181</th>\n",
       "      <td>2015-05-19</td>\n",
       "      <td>2015</td>\n",
       "      <td>5</td>\n",
       "      <td>19</td>\n",
       "      <td>1</td>\n",
       "      <td>28</td>\n",
       "      <td>12</td>\n",
       "      <td>11373</td>\n",
       "      <td>155.192950</td>\n",
       "      <td>539.0</td>\n",
       "    </tr>\n",
       "    <tr>\n",
       "      <th>2851073</th>\n",
       "      <td>2015-09-29</td>\n",
       "      <td>2015</td>\n",
       "      <td>9</td>\n",
       "      <td>29</td>\n",
       "      <td>1</td>\n",
       "      <td>32</td>\n",
       "      <td>55</td>\n",
       "      <td>9249</td>\n",
       "      <td>1500.000000</td>\n",
       "      <td>533.0</td>\n",
       "    </tr>\n",
       "    <tr>\n",
       "      <th>2851091</th>\n",
       "      <td>2015-09-30</td>\n",
       "      <td>2015</td>\n",
       "      <td>9</td>\n",
       "      <td>30</td>\n",
       "      <td>2</td>\n",
       "      <td>32</td>\n",
       "      <td>55</td>\n",
       "      <td>9249</td>\n",
       "      <td>1702.825746</td>\n",
       "      <td>637.0</td>\n",
       "    </tr>\n",
       "    <tr>\n",
       "      <th>2864235</th>\n",
       "      <td>2015-09-30</td>\n",
       "      <td>2015</td>\n",
       "      <td>9</td>\n",
       "      <td>30</td>\n",
       "      <td>2</td>\n",
       "      <td>32</td>\n",
       "      <td>12</td>\n",
       "      <td>9248</td>\n",
       "      <td>1692.526158</td>\n",
       "      <td>669.0</td>\n",
       "    </tr>\n",
       "    <tr>\n",
       "      <th>2864260</th>\n",
       "      <td>2015-09-29</td>\n",
       "      <td>2015</td>\n",
       "      <td>9</td>\n",
       "      <td>29</td>\n",
       "      <td>1</td>\n",
       "      <td>32</td>\n",
       "      <td>12</td>\n",
       "      <td>9248</td>\n",
       "      <td>1500.000000</td>\n",
       "      <td>504.0</td>\n",
       "    </tr>\n",
       "    <tr>\n",
       "      <th>2909818</th>\n",
       "      <td>2015-10-28</td>\n",
       "      <td>2015</td>\n",
       "      <td>10</td>\n",
       "      <td>28</td>\n",
       "      <td>2</td>\n",
       "      <td>33</td>\n",
       "      <td>12</td>\n",
       "      <td>11373</td>\n",
       "      <td>0.908714</td>\n",
       "      <td>2169.0</td>\n",
       "    </tr>\n",
       "  </tbody>\n",
       "</table>\n",
       "</div>"
      ],
      "text/plain": [
       "              date  year  month  day  day_of_week  date_block_num  shop_id  \\\n",
       "1573253 2014-04-22  2014      4   22            1              15       27   \n",
       "1708207 2014-06-28  2014      6   28            5              17       25   \n",
       "2048518 2014-10-02  2014     10    2            3              21       12   \n",
       "2067669 2014-10-09  2014     10    9            3              21       55   \n",
       "2326930 2015-01-15  2015      1   15            3              24       12   \n",
       "2608040 2015-04-14  2015      4   14            1              27       12   \n",
       "2626181 2015-05-19  2015      5   19            1              28       12   \n",
       "2851073 2015-09-29  2015      9   29            1              32       55   \n",
       "2851091 2015-09-30  2015      9   30            2              32       55   \n",
       "2864235 2015-09-30  2015      9   30            2              32       12   \n",
       "2864260 2015-09-29  2015      9   29            1              32       12   \n",
       "2909818 2015-10-28  2015     10   28            2              33       12   \n",
       "\n",
       "         item_id   item_price  item_cnt_day  \n",
       "1573253     8057  1200.000000         502.0  \n",
       "1708207    20949     5.000000         501.0  \n",
       "2048518     9242  1500.000000         512.0  \n",
       "2067669    19437   899.000000         508.0  \n",
       "2326930    20949     4.000000        1000.0  \n",
       "2608040     3731  1904.548077         624.0  \n",
       "2626181    11373   155.192950         539.0  \n",
       "2851073     9249  1500.000000         533.0  \n",
       "2851091     9249  1702.825746         637.0  \n",
       "2864235     9248  1692.526158         669.0  \n",
       "2864260     9248  1500.000000         504.0  \n",
       "2909818    11373     0.908714        2169.0  "
      ]
     },
     "execution_count": 16,
     "metadata": {},
     "output_type": "execute_result"
    }
   ],
   "source": [
    "# 이상치 확인\n",
    "# 한 아이템이 500개 초과 팔렸을때\n",
    "sales[sales.item_cnt_day > 500]"
   ]
  },
  {
   "cell_type": "code",
   "execution_count": 17,
   "id": "486697c0",
   "metadata": {
    "colab": {
     "base_uri": "https://localhost:8080/"
    },
    "executionInfo": {
     "elapsed": 272,
     "status": "ok",
     "timestamp": 1645437075293,
     "user": {
      "displayName": "남궁정후",
      "photoUrl": "https://lh3.googleusercontent.com/a/default-user=s64",
      "userId": "00760625701380821498"
     },
     "user_tz": -540
    },
    "id": "486697c0",
    "outputId": "d6b3e422-9156-4775-b0e3-e0192a7df1c9"
   },
   "outputs": [
    {
     "data": {
      "text/plain": [
       "date              14\n",
       "year              14\n",
       "month             14\n",
       "day               14\n",
       "day_of_week       14\n",
       "date_block_num    14\n",
       "shop_id           14\n",
       "item_id           14\n",
       "item_price        14\n",
       "item_cnt_day      14\n",
       "dtype: int64"
      ]
     },
     "execution_count": 17,
     "metadata": {},
     "output_type": "execute_result"
    }
   ],
   "source": [
    "sales[sales.item_cnt_day >= 500].count()"
   ]
  },
  {
   "cell_type": "code",
   "execution_count": 18,
   "id": "1a5ed08d",
   "metadata": {
    "colab": {
     "base_uri": "https://localhost:8080/"
    },
    "executionInfo": {
     "elapsed": 272,
     "status": "ok",
     "timestamp": 1645437077066,
     "user": {
      "displayName": "남궁정후",
      "photoUrl": "https://lh3.googleusercontent.com/a/default-user=s64",
      "userId": "00760625701380821498"
     },
     "user_tz": -540
    },
    "id": "1a5ed08d",
    "outputId": "cd0cbb2a-238b-4da3-e597-cee85dbf925b"
   },
   "outputs": [
    {
     "data": {
      "text/plain": [
       "date              3\n",
       "year              3\n",
       "month             3\n",
       "day               3\n",
       "day_of_week       3\n",
       "date_block_num    3\n",
       "shop_id           3\n",
       "item_id           3\n",
       "item_price        3\n",
       "item_cnt_day      3\n",
       "dtype: int64"
      ]
     },
     "execution_count": 18,
     "metadata": {},
     "output_type": "execute_result"
    }
   ],
   "source": [
    "sales[sales.item_price >= 50000].count()"
   ]
  },
  {
   "cell_type": "code",
   "execution_count": 19,
   "id": "63ed0168",
   "metadata": {
    "executionInfo": {
     "elapsed": 646,
     "status": "ok",
     "timestamp": 1645437083517,
     "user": {
      "displayName": "남궁정후",
      "photoUrl": "https://lh3.googleusercontent.com/a/default-user=s64",
      "userId": "00760625701380821498"
     },
     "user_tz": -540
    },
    "id": "63ed0168"
   },
   "outputs": [],
   "source": [
    "# 뚜렷한 이상치를 우선 제거 -> 분석하면서 확인하기\n",
    "sales = sales[sales.item_cnt_day < 500]\n",
    "sales = sales[sales.item_price < 50000]"
   ]
  },
  {
   "cell_type": "code",
   "execution_count": 20,
   "id": "1bc084d9",
   "metadata": {
    "colab": {
     "base_uri": "https://localhost:8080/",
     "height": 435
    },
    "executionInfo": {
     "elapsed": 2006,
     "status": "ok",
     "timestamp": 1645437088059,
     "user": {
      "displayName": "남궁정후",
      "photoUrl": "https://lh3.googleusercontent.com/a/default-user=s64",
      "userId": "00760625701380821498"
     },
     "user_tz": -540
    },
    "id": "1bc084d9",
    "outputId": "c9a72f3b-5ad5-4819-b36e-a958870b7ed3"
   },
   "outputs": [
    {
     "data": {
      "image/png": "[encoded data removed]",
      "text/plain": [
       "<Figure size 864x216 with 1 Axes>"
      ]
     },
     "metadata": {
      "needs_background": "light"
     },
     "output_type": "display_data"
    },
    {
     "data": {
      "image/png": "[encoded data removed]",
      "text/plain": [
       "<Figure size 864x216 with 1 Axes>"
      ]
     },
     "metadata": {
      "needs_background": "light"
     },
     "output_type": "display_data"
    }
   ],
   "source": [
    "plt.figure(figsize=(12,3))\n",
    "sns.boxplot(x='item_price', data=sales);\n",
    "plt.figure(figsize=(12,3))\n",
    "sns.boxplot(x='item_cnt_day', data=sales)\n",
    "\n",
    "plt.show()"
   ]
  },
  {
   "cell_type": "markdown",
   "id": "f9434419",
   "metadata": {
    "id": "f9434419"
   },
   "source": [
    "### 특정 행 제거 \n",
    "- item_price 컬럼과 item_cnt_day 컬럼의 음수값 처리하기"
   ]
  },
  {
   "cell_type": "code",
   "execution_count": 21,
   "id": "51c6d544",
   "metadata": {
    "colab": {
     "base_uri": "https://localhost:8080/"
    },
    "executionInfo": {
     "elapsed": 308,
     "status": "ok",
     "timestamp": 1645319874380,
     "user": {
      "displayName": "남궁정후",
      "photoUrl": "https://lh3.googleusercontent.com/a/default-user=s64",
      "userId": "00760625701380821498"
     },
     "user_tz": -540
    },
    "id": "51c6d544",
    "outputId": "d740809f-59ae-456d-d558-78031afb345a"
   },
   "outputs": [
    {
     "data": {
      "text/plain": [
       "1"
      ]
     },
     "execution_count": 21,
     "metadata": {},
     "output_type": "execute_result"
    }
   ],
   "source": [
    "# item_price 가 0 이하인 경우\n",
    "(sales.item_price <= 0).sum()"
   ]
  },
  {
   "cell_type": "code",
   "execution_count": 22,
   "id": "8d7db37e",
   "metadata": {
    "executionInfo": {
     "elapsed": 3,
     "status": "ok",
     "timestamp": 1645437095962,
     "user": {
      "displayName": "남궁정후",
      "photoUrl": "https://lh3.googleusercontent.com/a/default-user=s64",
      "userId": "00760625701380821498"
     },
     "user_tz": -540
    },
    "id": "8d7db37e"
   },
   "outputs": [],
   "source": [
    "sales = sales[sales.item_price > 0] # 음수 값 처리"
   ]
  },
  {
   "cell_type": "code",
   "execution_count": 23,
   "id": "c962a23c",
   "metadata": {
    "colab": {
     "base_uri": "https://localhost:8080/"
    },
    "executionInfo": {
     "elapsed": 321,
     "status": "ok",
     "timestamp": 1645319877658,
     "user": {
      "displayName": "남궁정후",
      "photoUrl": "https://lh3.googleusercontent.com/a/default-user=s64",
      "userId": "00760625701380821498"
     },
     "user_tz": -540
    },
    "id": "c962a23c",
    "outputId": "9b7d1efb-1138-4a2b-886b-b0985a691a7c"
   },
   "outputs": [
    {
     "data": {
      "text/plain": [
       "7356"
      ]
     },
     "execution_count": 23,
     "metadata": {},
     "output_type": "execute_result"
    }
   ],
   "source": [
    "# 팔린 상품의 개수가 (-) 인 경우 -> 행 삭제?, 이전 주문과 함께 삭제\n",
    "(sales['item_cnt_day'] < 0).sum()"
   ]
  },
  {
   "cell_type": "code",
   "execution_count": 24,
   "id": "f93648e7",
   "metadata": {
    "executionInfo": {
     "elapsed": 249,
     "status": "ok",
     "timestamp": 1645437100211,
     "user": {
      "displayName": "남궁정후",
      "photoUrl": "https://lh3.googleusercontent.com/a/default-user=s64",
      "userId": "00760625701380821498"
     },
     "user_tz": -540
    },
    "id": "f93648e7"
   },
   "outputs": [],
   "source": [
    "sales = sales[sales.item_cnt_day >= 0] # 음수 값 처리"
   ]
  },
  {
   "cell_type": "code",
   "execution_count": null,
   "id": "a669340d",
   "metadata": {
    "id": "a669340d"
   },
   "outputs": [],
   "source": []
  },
  {
   "cell_type": "code",
   "execution_count": 25,
   "id": "eabb0e35",
   "metadata": {
    "id": "eabb0e35"
   },
   "outputs": [
    {
     "name": "stdout",
     "output_type": "stream",
     "text": [
      "0.5286972522735596\n"
     ]
    },
    {
     "data": {
      "text/html": [
       "<div>\n",
       "<style scoped>\n",
       "    .dataframe tbody tr th:only-of-type {\n",
       "        vertical-align: middle;\n",
       "    }\n",
       "\n",
       "    .dataframe tbody tr th {\n",
       "        vertical-align: top;\n",
       "    }\n",
       "\n",
       "    .dataframe thead th {\n",
       "        text-align: right;\n",
       "    }\n",
       "</style>\n",
       "<table border=\"1\" class=\"dataframe\">\n",
       "  <thead>\n",
       "    <tr style=\"text-align: right;\">\n",
       "      <th></th>\n",
       "      <th>date</th>\n",
       "      <th>year</th>\n",
       "      <th>month</th>\n",
       "      <th>day</th>\n",
       "      <th>day_of_week</th>\n",
       "      <th>date_block_num</th>\n",
       "      <th>shop_id</th>\n",
       "      <th>item_id</th>\n",
       "      <th>item_price</th>\n",
       "      <th>item_cnt_day</th>\n",
       "    </tr>\n",
       "  </thead>\n",
       "  <tbody>\n",
       "    <tr>\n",
       "      <th>0</th>\n",
       "      <td>2013-01-02</td>\n",
       "      <td>2013</td>\n",
       "      <td>1</td>\n",
       "      <td>2</td>\n",
       "      <td>2</td>\n",
       "      <td>0</td>\n",
       "      <td>59</td>\n",
       "      <td>22154</td>\n",
       "      <td>999.00</td>\n",
       "      <td>1.0</td>\n",
       "    </tr>\n",
       "    <tr>\n",
       "      <th>1</th>\n",
       "      <td>2013-01-03</td>\n",
       "      <td>2013</td>\n",
       "      <td>1</td>\n",
       "      <td>3</td>\n",
       "      <td>3</td>\n",
       "      <td>0</td>\n",
       "      <td>25</td>\n",
       "      <td>2552</td>\n",
       "      <td>899.00</td>\n",
       "      <td>1.0</td>\n",
       "    </tr>\n",
       "    <tr>\n",
       "      <th>3</th>\n",
       "      <td>2013-01-06</td>\n",
       "      <td>2013</td>\n",
       "      <td>1</td>\n",
       "      <td>6</td>\n",
       "      <td>6</td>\n",
       "      <td>0</td>\n",
       "      <td>25</td>\n",
       "      <td>2554</td>\n",
       "      <td>1709.05</td>\n",
       "      <td>1.0</td>\n",
       "    </tr>\n",
       "    <tr>\n",
       "      <th>4</th>\n",
       "      <td>2013-01-15</td>\n",
       "      <td>2013</td>\n",
       "      <td>1</td>\n",
       "      <td>15</td>\n",
       "      <td>1</td>\n",
       "      <td>0</td>\n",
       "      <td>25</td>\n",
       "      <td>2555</td>\n",
       "      <td>1099.00</td>\n",
       "      <td>1.0</td>\n",
       "    </tr>\n",
       "    <tr>\n",
       "      <th>5</th>\n",
       "      <td>2013-01-10</td>\n",
       "      <td>2013</td>\n",
       "      <td>1</td>\n",
       "      <td>10</td>\n",
       "      <td>3</td>\n",
       "      <td>0</td>\n",
       "      <td>25</td>\n",
       "      <td>2564</td>\n",
       "      <td>349.00</td>\n",
       "      <td>1.0</td>\n",
       "    </tr>\n",
       "    <tr>\n",
       "      <th>...</th>\n",
       "      <td>...</td>\n",
       "      <td>...</td>\n",
       "      <td>...</td>\n",
       "      <td>...</td>\n",
       "      <td>...</td>\n",
       "      <td>...</td>\n",
       "      <td>...</td>\n",
       "      <td>...</td>\n",
       "      <td>...</td>\n",
       "      <td>...</td>\n",
       "    </tr>\n",
       "    <tr>\n",
       "      <th>2935844</th>\n",
       "      <td>2015-10-10</td>\n",
       "      <td>2015</td>\n",
       "      <td>10</td>\n",
       "      <td>10</td>\n",
       "      <td>5</td>\n",
       "      <td>33</td>\n",
       "      <td>25</td>\n",
       "      <td>7409</td>\n",
       "      <td>299.00</td>\n",
       "      <td>1.0</td>\n",
       "    </tr>\n",
       "    <tr>\n",
       "      <th>2935845</th>\n",
       "      <td>2015-10-09</td>\n",
       "      <td>2015</td>\n",
       "      <td>10</td>\n",
       "      <td>9</td>\n",
       "      <td>4</td>\n",
       "      <td>33</td>\n",
       "      <td>25</td>\n",
       "      <td>7460</td>\n",
       "      <td>299.00</td>\n",
       "      <td>1.0</td>\n",
       "    </tr>\n",
       "    <tr>\n",
       "      <th>2935846</th>\n",
       "      <td>2015-10-14</td>\n",
       "      <td>2015</td>\n",
       "      <td>10</td>\n",
       "      <td>14</td>\n",
       "      <td>2</td>\n",
       "      <td>33</td>\n",
       "      <td>25</td>\n",
       "      <td>7459</td>\n",
       "      <td>349.00</td>\n",
       "      <td>1.0</td>\n",
       "    </tr>\n",
       "    <tr>\n",
       "      <th>2935847</th>\n",
       "      <td>2015-10-22</td>\n",
       "      <td>2015</td>\n",
       "      <td>10</td>\n",
       "      <td>22</td>\n",
       "      <td>3</td>\n",
       "      <td>33</td>\n",
       "      <td>25</td>\n",
       "      <td>7440</td>\n",
       "      <td>299.00</td>\n",
       "      <td>1.0</td>\n",
       "    </tr>\n",
       "    <tr>\n",
       "      <th>2935848</th>\n",
       "      <td>2015-10-03</td>\n",
       "      <td>2015</td>\n",
       "      <td>10</td>\n",
       "      <td>3</td>\n",
       "      <td>5</td>\n",
       "      <td>33</td>\n",
       "      <td>25</td>\n",
       "      <td>7460</td>\n",
       "      <td>299.00</td>\n",
       "      <td>1.0</td>\n",
       "    </tr>\n",
       "  </tbody>\n",
       "</table>\n",
       "<p>2928469 rows × 10 columns</p>\n",
       "</div>"
      ],
      "text/plain": [
       "              date  year  month  day  day_of_week  date_block_num  shop_id  \\\n",
       "0       2013-01-02  2013      1    2            2               0       59   \n",
       "1       2013-01-03  2013      1    3            3               0       25   \n",
       "3       2013-01-06  2013      1    6            6               0       25   \n",
       "4       2013-01-15  2013      1   15            1               0       25   \n",
       "5       2013-01-10  2013      1   10            3               0       25   \n",
       "...            ...   ...    ...  ...          ...             ...      ...   \n",
       "2935844 2015-10-10  2015     10   10            5              33       25   \n",
       "2935845 2015-10-09  2015     10    9            4              33       25   \n",
       "2935846 2015-10-14  2015     10   14            2              33       25   \n",
       "2935847 2015-10-22  2015     10   22            3              33       25   \n",
       "2935848 2015-10-03  2015     10    3            5              33       25   \n",
       "\n",
       "         item_id  item_price  item_cnt_day  \n",
       "0          22154      999.00           1.0  \n",
       "1           2552      899.00           1.0  \n",
       "3           2554     1709.05           1.0  \n",
       "4           2555     1099.00           1.0  \n",
       "5           2564      349.00           1.0  \n",
       "...          ...         ...           ...  \n",
       "2935844     7409      299.00           1.0  \n",
       "2935845     7460      299.00           1.0  \n",
       "2935846     7459      349.00           1.0  \n",
       "2935847     7440      299.00           1.0  \n",
       "2935848     7460      299.00           1.0  \n",
       "\n",
       "[2928469 rows x 10 columns]"
      ]
     },
     "execution_count": 25,
     "metadata": {},
     "output_type": "execute_result"
    }
   ],
   "source": [
    "train_F = sales.copy()\n",
    "k = train_F[train_F.item_cnt_day < 0]\n",
    "timefunc = time.time()\n",
    "for i in range(len(k)):\n",
    "    try:\n",
    "        a = (train_F[(train_F.item_id == k.iloc[i,3]) & (train_F.shop_id == k.iloc[i,2])])\n",
    "        if a.date.min() < k.iloc[i,0]:\n",
    "            h = a[(a.date==a.date[a.date < k.iloc[i,0]].max())].index[0]\n",
    "            print(h)\n",
    "            if train_F.loc[h,'item_cnt_day'] > abs(k.iloc[i,5]):\n",
    "                train_F.loc[h,'item_cnt_day'] += k.iloc[i,5]\n",
    "        else:\n",
    "            pass\n",
    "    except:\n",
    "        pass\n",
    "train_F.drop(train_F[train_F.item_cnt_day < 0].index, axis = 0,inplace = True)\n",
    "print(time.time() - timefunc)\n",
    "train_F"
   ]
  },
  {
   "cell_type": "code",
   "execution_count": null,
   "id": "bf41496f",
   "metadata": {
    "id": "bf41496f"
   },
   "outputs": [],
   "source": []
  },
  {
   "cell_type": "markdown",
   "id": "2b0e24c3",
   "metadata": {
    "id": "2b0e24c3"
   },
   "source": [
    "## 2) items data "
   ]
  },
  {
   "cell_type": "code",
   "execution_count": 26,
   "id": "1612d5bb",
   "metadata": {
    "colab": {
     "base_uri": "https://localhost:8080/",
     "height": 206
    },
    "executionInfo": {
     "elapsed": 309,
     "status": "ok",
     "timestamp": 1645319885004,
     "user": {
      "displayName": "남궁정후",
      "photoUrl": "https://lh3.googleusercontent.com/a/default-user=s64",
      "userId": "00760625701380821498"
     },
     "user_tz": -540
    },
    "id": "1612d5bb",
    "outputId": "7d8e4bf2-e86e-4bfd-db51-71b202730afa"
   },
   "outputs": [
    {
     "data": {
      "text/html": [
       "<div>\n",
       "<style scoped>\n",
       "    .dataframe tbody tr th:only-of-type {\n",
       "        vertical-align: middle;\n",
       "    }\n",
       "\n",
       "    .dataframe tbody tr th {\n",
       "        vertical-align: top;\n",
       "    }\n",
       "\n",
       "    .dataframe thead th {\n",
       "        text-align: right;\n",
       "    }\n",
       "</style>\n",
       "<table border=\"1\" class=\"dataframe\">\n",
       "  <thead>\n",
       "    <tr style=\"text-align: right;\">\n",
       "      <th></th>\n",
       "      <th>item_name</th>\n",
       "      <th>item_id</th>\n",
       "      <th>item_category_id</th>\n",
       "    </tr>\n",
       "  </thead>\n",
       "  <tbody>\n",
       "    <tr>\n",
       "      <th>0</th>\n",
       "      <td>! ВО ВЛАСТИ НАВАЖДЕНИЯ (ПЛАСТ.)         D</td>\n",
       "      <td>0</td>\n",
       "      <td>40</td>\n",
       "    </tr>\n",
       "    <tr>\n",
       "      <th>1</th>\n",
       "      <td>!ABBYY FineReader 12 Professional Edition Full...</td>\n",
       "      <td>1</td>\n",
       "      <td>76</td>\n",
       "    </tr>\n",
       "    <tr>\n",
       "      <th>2</th>\n",
       "      <td>***В ЛУЧАХ СЛАВЫ   (UNV)                    D</td>\n",
       "      <td>2</td>\n",
       "      <td>40</td>\n",
       "    </tr>\n",
       "    <tr>\n",
       "      <th>3</th>\n",
       "      <td>***ГОЛУБАЯ ВОЛНА  (Univ)                      D</td>\n",
       "      <td>3</td>\n",
       "      <td>40</td>\n",
       "    </tr>\n",
       "    <tr>\n",
       "      <th>4</th>\n",
       "      <td>***КОРОБКА (СТЕКЛО)                       D</td>\n",
       "      <td>4</td>\n",
       "      <td>40</td>\n",
       "    </tr>\n",
       "  </tbody>\n",
       "</table>\n",
       "</div>"
      ],
      "text/plain": [
       "                                           item_name  item_id  \\\n",
       "0          ! ВО ВЛАСТИ НАВАЖДЕНИЯ (ПЛАСТ.)         D        0   \n",
       "1  !ABBYY FineReader 12 Professional Edition Full...        1   \n",
       "2      ***В ЛУЧАХ СЛАВЫ   (UNV)                    D        2   \n",
       "3    ***ГОЛУБАЯ ВОЛНА  (Univ)                      D        3   \n",
       "4        ***КОРОБКА (СТЕКЛО)                       D        4   \n",
       "\n",
       "   item_category_id  \n",
       "0                40  \n",
       "1                76  \n",
       "2                40  \n",
       "3                40  \n",
       "4                40  "
      ]
     },
     "execution_count": 26,
     "metadata": {},
     "output_type": "execute_result"
    }
   ],
   "source": [
    "items.head()"
   ]
  },
  {
   "cell_type": "code",
   "execution_count": 27,
   "id": "ad84acf3",
   "metadata": {
    "colab": {
     "base_uri": "https://localhost:8080/",
     "height": 206
    },
    "executionInfo": {
     "elapsed": 263,
     "status": "ok",
     "timestamp": 1645437177387,
     "user": {
      "displayName": "남궁정후",
      "photoUrl": "https://lh3.googleusercontent.com/a/default-user=s64",
      "userId": "00760625701380821498"
     },
     "user_tz": -540
    },
    "id": "ad84acf3",
    "outputId": "a91125a3-cf04-426c-d7de-9cd03f92ca63"
   },
   "outputs": [
    {
     "data": {
      "text/html": [
       "<div>\n",
       "<style scoped>\n",
       "    .dataframe tbody tr th:only-of-type {\n",
       "        vertical-align: middle;\n",
       "    }\n",
       "\n",
       "    .dataframe tbody tr th {\n",
       "        vertical-align: top;\n",
       "    }\n",
       "\n",
       "    .dataframe thead th {\n",
       "        text-align: right;\n",
       "    }\n",
       "</style>\n",
       "<table border=\"1\" class=\"dataframe\">\n",
       "  <thead>\n",
       "    <tr style=\"text-align: right;\">\n",
       "      <th></th>\n",
       "      <th>item_id</th>\n",
       "      <th>item_category_id</th>\n",
       "    </tr>\n",
       "  </thead>\n",
       "  <tbody>\n",
       "    <tr>\n",
       "      <th>0</th>\n",
       "      <td>0</td>\n",
       "      <td>40</td>\n",
       "    </tr>\n",
       "    <tr>\n",
       "      <th>1</th>\n",
       "      <td>1</td>\n",
       "      <td>76</td>\n",
       "    </tr>\n",
       "    <tr>\n",
       "      <th>2</th>\n",
       "      <td>2</td>\n",
       "      <td>40</td>\n",
       "    </tr>\n",
       "    <tr>\n",
       "      <th>3</th>\n",
       "      <td>3</td>\n",
       "      <td>40</td>\n",
       "    </tr>\n",
       "    <tr>\n",
       "      <th>4</th>\n",
       "      <td>4</td>\n",
       "      <td>40</td>\n",
       "    </tr>\n",
       "  </tbody>\n",
       "</table>\n",
       "</div>"
      ],
      "text/plain": [
       "   item_id  item_category_id\n",
       "0        0                40\n",
       "1        1                76\n",
       "2        2                40\n",
       "3        3                40\n",
       "4        4                40"
      ]
     },
     "execution_count": 27,
     "metadata": {},
     "output_type": "execute_result"
    }
   ],
   "source": [
    "# item_id와 item_category_id가 숫자로 매핑되어있어 name만 drop\n",
    "items.drop(['item_name'], axis=1, inplace=True)\n",
    "items.head()"
   ]
  },
  {
   "cell_type": "markdown",
   "id": "3a5eebc8",
   "metadata": {
    "id": "3a5eebc8"
   },
   "source": [
    "## 3) item_categories data\n",
    "- item_category_name을 라벨인코딩하여 type_id 컬럼 생성"
   ]
  },
  {
   "cell_type": "code",
   "execution_count": 28,
   "id": "cff2eabf",
   "metadata": {
    "colab": {
     "base_uri": "https://localhost:8080/",
     "height": 206
    },
    "executionInfo": {
     "elapsed": 565,
     "status": "ok",
     "timestamp": 1645319894769,
     "user": {
      "displayName": "남궁정후",
      "photoUrl": "https://lh3.googleusercontent.com/a/default-user=s64",
      "userId": "00760625701380821498"
     },
     "user_tz": -540
    },
    "id": "cff2eabf",
    "outputId": "f4467df9-191c-48c0-aa2d-079012f84473"
   },
   "outputs": [
    {
     "data": {
      "text/html": [
       "<div>\n",
       "<style scoped>\n",
       "    .dataframe tbody tr th:only-of-type {\n",
       "        vertical-align: middle;\n",
       "    }\n",
       "\n",
       "    .dataframe tbody tr th {\n",
       "        vertical-align: top;\n",
       "    }\n",
       "\n",
       "    .dataframe thead th {\n",
       "        text-align: right;\n",
       "    }\n",
       "</style>\n",
       "<table border=\"1\" class=\"dataframe\">\n",
       "  <thead>\n",
       "    <tr style=\"text-align: right;\">\n",
       "      <th></th>\n",
       "      <th>item_category_name</th>\n",
       "      <th>item_category_id</th>\n",
       "    </tr>\n",
       "  </thead>\n",
       "  <tbody>\n",
       "    <tr>\n",
       "      <th>0</th>\n",
       "      <td>PC - Гарнитуры/Наушники</td>\n",
       "      <td>0</td>\n",
       "    </tr>\n",
       "    <tr>\n",
       "      <th>1</th>\n",
       "      <td>Аксессуары - PS2</td>\n",
       "      <td>1</td>\n",
       "    </tr>\n",
       "    <tr>\n",
       "      <th>2</th>\n",
       "      <td>Аксессуары - PS3</td>\n",
       "      <td>2</td>\n",
       "    </tr>\n",
       "    <tr>\n",
       "      <th>3</th>\n",
       "      <td>Аксессуары - PS4</td>\n",
       "      <td>3</td>\n",
       "    </tr>\n",
       "    <tr>\n",
       "      <th>4</th>\n",
       "      <td>Аксессуары - PSP</td>\n",
       "      <td>4</td>\n",
       "    </tr>\n",
       "  </tbody>\n",
       "</table>\n",
       "</div>"
      ],
      "text/plain": [
       "        item_category_name  item_category_id\n",
       "0  PC - Гарнитуры/Наушники                 0\n",
       "1         Аксессуары - PS2                 1\n",
       "2         Аксессуары - PS3                 2\n",
       "3         Аксессуары - PS4                 3\n",
       "4         Аксессуары - PSP                 4"
      ]
     },
     "execution_count": 28,
     "metadata": {},
     "output_type": "execute_result"
    }
   ],
   "source": [
    "item_categories.head()"
   ]
  },
  {
   "cell_type": "code",
   "execution_count": 29,
   "id": "a68a2ce7",
   "metadata": {
    "executionInfo": {
     "elapsed": 246,
     "status": "ok",
     "timestamp": 1645437206992,
     "user": {
      "displayName": "남궁정후",
      "photoUrl": "https://lh3.googleusercontent.com/a/default-user=s64",
      "userId": "00760625701380821498"
     },
     "user_tz": -540
    },
    "id": "a68a2ce7"
   },
   "outputs": [],
   "source": [
    "type_encoder = LabelEncoder()\n",
    "\n",
    "item_categories['split_name'] = item_categories['item_category_name'].str.split(' - ')\n",
    "item_categories['type'] = item_categories['split_name'].map(lambda x: x[0].strip())\n",
    "item_categories['type_id'] = type_encoder.fit_transform(item_categories['type'])"
   ]
  },
  {
   "cell_type": "code",
   "execution_count": 30,
   "id": "fcaba9f5",
   "metadata": {
    "colab": {
     "base_uri": "https://localhost:8080/",
     "height": 206
    },
    "executionInfo": {
     "elapsed": 322,
     "status": "ok",
     "timestamp": 1645319904118,
     "user": {
      "displayName": "남궁정후",
      "photoUrl": "https://lh3.googleusercontent.com/a/default-user=s64",
      "userId": "00760625701380821498"
     },
     "user_tz": -540
    },
    "id": "fcaba9f5",
    "outputId": "f4a4f497-7dcd-4e33-abc3-3c76a319d875"
   },
   "outputs": [
    {
     "data": {
      "text/html": [
       "<div>\n",
       "<style scoped>\n",
       "    .dataframe tbody tr th:only-of-type {\n",
       "        vertical-align: middle;\n",
       "    }\n",
       "\n",
       "    .dataframe tbody tr th {\n",
       "        vertical-align: top;\n",
       "    }\n",
       "\n",
       "    .dataframe thead th {\n",
       "        text-align: right;\n",
       "    }\n",
       "</style>\n",
       "<table border=\"1\" class=\"dataframe\">\n",
       "  <thead>\n",
       "    <tr style=\"text-align: right;\">\n",
       "      <th></th>\n",
       "      <th>item_category_name</th>\n",
       "      <th>item_category_id</th>\n",
       "      <th>split_name</th>\n",
       "      <th>type</th>\n",
       "      <th>type_id</th>\n",
       "    </tr>\n",
       "  </thead>\n",
       "  <tbody>\n",
       "    <tr>\n",
       "      <th>0</th>\n",
       "      <td>PC - Гарнитуры/Наушники</td>\n",
       "      <td>0</td>\n",
       "      <td>[PC, Гарнитуры/Наушники]</td>\n",
       "      <td>PC</td>\n",
       "      <td>0</td>\n",
       "    </tr>\n",
       "    <tr>\n",
       "      <th>1</th>\n",
       "      <td>Аксессуары - PS2</td>\n",
       "      <td>1</td>\n",
       "      <td>[Аксессуары, PS2]</td>\n",
       "      <td>Аксессуары</td>\n",
       "      <td>1</td>\n",
       "    </tr>\n",
       "    <tr>\n",
       "      <th>2</th>\n",
       "      <td>Аксессуары - PS3</td>\n",
       "      <td>2</td>\n",
       "      <td>[Аксессуары, PS3]</td>\n",
       "      <td>Аксессуары</td>\n",
       "      <td>1</td>\n",
       "    </tr>\n",
       "    <tr>\n",
       "      <th>3</th>\n",
       "      <td>Аксессуары - PS4</td>\n",
       "      <td>3</td>\n",
       "      <td>[Аксессуары, PS4]</td>\n",
       "      <td>Аксессуары</td>\n",
       "      <td>1</td>\n",
       "    </tr>\n",
       "    <tr>\n",
       "      <th>4</th>\n",
       "      <td>Аксессуары - PSP</td>\n",
       "      <td>4</td>\n",
       "      <td>[Аксессуары, PSP]</td>\n",
       "      <td>Аксессуары</td>\n",
       "      <td>1</td>\n",
       "    </tr>\n",
       "  </tbody>\n",
       "</table>\n",
       "</div>"
      ],
      "text/plain": [
       "        item_category_name  item_category_id                split_name  \\\n",
       "0  PC - Гарнитуры/Наушники                 0  [PC, Гарнитуры/Наушники]   \n",
       "1         Аксессуары - PS2                 1         [Аксессуары, PS2]   \n",
       "2         Аксессуары - PS3                 2         [Аксессуары, PS3]   \n",
       "3         Аксессуары - PS4                 3         [Аксессуары, PS4]   \n",
       "4         Аксессуары - PSP                 4         [Аксессуары, PSP]   \n",
       "\n",
       "         type  type_id  \n",
       "0          PC        0  \n",
       "1  Аксессуары        1  \n",
       "2  Аксессуары        1  \n",
       "3  Аксессуары        1  \n",
       "4  Аксессуары        1  "
      ]
     },
     "execution_count": 30,
     "metadata": {},
     "output_type": "execute_result"
    }
   ],
   "source": [
    "item_categories.head()"
   ]
  },
  {
   "cell_type": "code",
   "execution_count": 31,
   "id": "02c3d904",
   "metadata": {
    "id": "02c3d904",
    "outputId": "6c26be0e-d6f1-4417-cb71-8236ed85de43",
    "scrolled": true
   },
   "outputs": [
    {
     "data": {
      "text/plain": [
       "Книги                                13\n",
       "Подарки                              12\n",
       "Игровые консоли                       8\n",
       "Игры                                  8\n",
       "Аксессуары                            7\n",
       "Музыка                                6\n",
       "Программы                             6\n",
       "Кино                                  5\n",
       "Карты оплаты                          4\n",
       "Игры PC                               4\n",
       "Служебные                             2\n",
       "Чистые носители (штучные)             1\n",
       "Чистые носители (шпиль)               1\n",
       "PC                                    1\n",
       "Карты оплаты (Кино, Музыка, Игры)     1\n",
       "Игры MAC                              1\n",
       "Игры Android                          1\n",
       "Доставка товара                       1\n",
       "Билеты (Цифра)                        1\n",
       "Элементы питания                      1\n",
       "Name: type, dtype: int64"
      ]
     },
     "execution_count": 31,
     "metadata": {},
     "output_type": "execute_result"
    }
   ],
   "source": [
    "item_categories['type'].value_counts()\n",
    "# type으로 이상할만한 이름은 없다."
   ]
  },
  {
   "cell_type": "code",
   "execution_count": 32,
   "id": "96512465",
   "metadata": {
    "colab": {
     "base_uri": "https://localhost:8080/",
     "height": 206
    },
    "executionInfo": {
     "elapsed": 253,
     "status": "ok",
     "timestamp": 1645437218383,
     "user": {
      "displayName": "남궁정후",
      "photoUrl": "https://lh3.googleusercontent.com/a/default-user=s64",
      "userId": "00760625701380821498"
     },
     "user_tz": -540
    },
    "id": "96512465",
    "outputId": "f613dc34-3231-495f-fe92-fb66355ee1c3"
   },
   "outputs": [
    {
     "data": {
      "text/html": [
       "<div>\n",
       "<style scoped>\n",
       "    .dataframe tbody tr th:only-of-type {\n",
       "        vertical-align: middle;\n",
       "    }\n",
       "\n",
       "    .dataframe tbody tr th {\n",
       "        vertical-align: top;\n",
       "    }\n",
       "\n",
       "    .dataframe thead th {\n",
       "        text-align: right;\n",
       "    }\n",
       "</style>\n",
       "<table border=\"1\" class=\"dataframe\">\n",
       "  <thead>\n",
       "    <tr style=\"text-align: right;\">\n",
       "      <th></th>\n",
       "      <th>item_category_id</th>\n",
       "      <th>type_id</th>\n",
       "    </tr>\n",
       "  </thead>\n",
       "  <tbody>\n",
       "    <tr>\n",
       "      <th>0</th>\n",
       "      <td>0</td>\n",
       "      <td>0</td>\n",
       "    </tr>\n",
       "    <tr>\n",
       "      <th>1</th>\n",
       "      <td>1</td>\n",
       "      <td>1</td>\n",
       "    </tr>\n",
       "    <tr>\n",
       "      <th>2</th>\n",
       "      <td>2</td>\n",
       "      <td>1</td>\n",
       "    </tr>\n",
       "    <tr>\n",
       "      <th>3</th>\n",
       "      <td>3</td>\n",
       "      <td>1</td>\n",
       "    </tr>\n",
       "    <tr>\n",
       "      <th>4</th>\n",
       "      <td>4</td>\n",
       "      <td>1</td>\n",
       "    </tr>\n",
       "  </tbody>\n",
       "</table>\n",
       "</div>"
      ],
      "text/plain": [
       "   item_category_id  type_id\n",
       "0                 0        0\n",
       "1                 1        1\n",
       "2                 2        1\n",
       "3                 3        1\n",
       "4                 4        1"
      ]
     },
     "execution_count": 32,
     "metadata": {},
     "output_type": "execute_result"
    }
   ],
   "source": [
    "item_categories = item_categories[['item_category_id','type_id']]\n",
    "item_categories.head()"
   ]
  },
  {
   "cell_type": "markdown",
   "id": "a3eeb214",
   "metadata": {
    "id": "a3eeb214"
   },
   "source": [
    "## 4) shops data\n",
    "- shop_name컬럼의 지역명을 라벨인코딩하여 city_id 컬럼 생성"
   ]
  },
  {
   "cell_type": "code",
   "execution_count": 33,
   "id": "eefe641d",
   "metadata": {
    "colab": {
     "base_uri": "https://localhost:8080/",
     "height": 206
    },
    "executionInfo": {
     "elapsed": 502,
     "status": "ok",
     "timestamp": 1645320109196,
     "user": {
      "displayName": "남궁정후",
      "photoUrl": "https://lh3.googleusercontent.com/a/default-user=s64",
      "userId": "00760625701380821498"
     },
     "user_tz": -540
    },
    "id": "eefe641d",
    "outputId": "d15c6e1f-0540-4d26-82c7-f6f8f3f07cf5"
   },
   "outputs": [
    {
     "data": {
      "text/html": [
       "<div>\n",
       "<style scoped>\n",
       "    .dataframe tbody tr th:only-of-type {\n",
       "        vertical-align: middle;\n",
       "    }\n",
       "\n",
       "    .dataframe tbody tr th {\n",
       "        vertical-align: top;\n",
       "    }\n",
       "\n",
       "    .dataframe thead th {\n",
       "        text-align: right;\n",
       "    }\n",
       "</style>\n",
       "<table border=\"1\" class=\"dataframe\">\n",
       "  <thead>\n",
       "    <tr style=\"text-align: right;\">\n",
       "      <th></th>\n",
       "      <th>shop_name</th>\n",
       "      <th>shop_id</th>\n",
       "    </tr>\n",
       "  </thead>\n",
       "  <tbody>\n",
       "    <tr>\n",
       "      <th>0</th>\n",
       "      <td>!Якутск Орджоникидзе, 56 фран</td>\n",
       "      <td>0</td>\n",
       "    </tr>\n",
       "    <tr>\n",
       "      <th>1</th>\n",
       "      <td>!Якутск ТЦ \"Центральный\" фран</td>\n",
       "      <td>1</td>\n",
       "    </tr>\n",
       "    <tr>\n",
       "      <th>2</th>\n",
       "      <td>Адыгея ТЦ \"Мега\"</td>\n",
       "      <td>2</td>\n",
       "    </tr>\n",
       "    <tr>\n",
       "      <th>3</th>\n",
       "      <td>Балашиха ТРК \"Октябрь-Киномир\"</td>\n",
       "      <td>3</td>\n",
       "    </tr>\n",
       "    <tr>\n",
       "      <th>4</th>\n",
       "      <td>Волжский ТЦ \"Волга Молл\"</td>\n",
       "      <td>4</td>\n",
       "    </tr>\n",
       "  </tbody>\n",
       "</table>\n",
       "</div>"
      ],
      "text/plain": [
       "                        shop_name  shop_id\n",
       "0   !Якутск Орджоникидзе, 56 фран        0\n",
       "1   !Якутск ТЦ \"Центральный\" фран        1\n",
       "2                Адыгея ТЦ \"Мега\"        2\n",
       "3  Балашиха ТРК \"Октябрь-Киномир\"        3\n",
       "4        Волжский ТЦ \"Волга Молл\"        4"
      ]
     },
     "execution_count": 33,
     "metadata": {},
     "output_type": "execute_result"
    }
   ],
   "source": [
    "shops.head()"
   ]
  },
  {
   "cell_type": "code",
   "execution_count": 34,
   "id": "f28a33f0",
   "metadata": {
    "id": "f28a33f0",
    "outputId": "5a3ea68b-f6a6-4a78-cae5-473c6a152d10",
    "scrolled": true
   },
   "outputs": [
    {
     "data": {
      "text/plain": [
       "!Якутск Орджоникидзе, 56 фран                      1\n",
       "!Якутск ТЦ \"Центральный\" фран                      1\n",
       "Москва ТЦ \"Серебряный Дом\"                         1\n",
       "Мытищи ТРК \"XL-3\"                                  1\n",
       "Н.Новгород ТРЦ \"РИО\"                               1\n",
       "Н.Новгород ТРЦ \"Фантастика\"                        1\n",
       "Новосибирск ТРЦ \"Галерея Новосибирск\"              1\n",
       "Новосибирск ТЦ \"Мега\"                              1\n",
       "Омск ТЦ \"Мега\"                                     1\n",
       "РостовНаДону ТРК \"Мегацентр Горизонт\"              1\n",
       "РостовНаДону ТРК \"Мегацентр Горизонт\" Островной    1\n",
       "РостовНаДону ТЦ \"Мега\"                             1\n",
       "СПб ТК \"Невский Центр\"                             1\n",
       "СПб ТК \"Сенная\"                                    1\n",
       "Самара ТЦ \"Мелодия\"                                1\n",
       "Самара ТЦ \"ПаркХаус\"                               1\n",
       "Сергиев Посад ТЦ \"7Я\"                              1\n",
       "Сургут ТРЦ \"Сити Молл\"                             1\n",
       "Томск ТРЦ \"Изумрудный Город\"                       1\n",
       "Тюмень ТРЦ \"Кристалл\"                              1\n",
       "Тюмень ТЦ \"Гудвин\"                                 1\n",
       "Тюмень ТЦ \"Зеленый Берег\"                          1\n",
       "Уфа ТК \"Центральный\"                               1\n",
       "Уфа ТЦ \"Семья\" 2                                   1\n",
       "Химки ТЦ \"Мега\"                                    1\n",
       "Цифровой склад 1С-Онлайн                           1\n",
       "Чехов ТРЦ \"Карнавал\"                               1\n",
       "Якутск Орджоникидзе, 56                            1\n",
       "Якутск ТЦ \"Центральный\"                            1\n",
       "Москва ТЦ \"Семеновский\"                            1\n",
       "Москва ТЦ \"Перловский\"                             1\n",
       "Москва ТЦ \"Новый век\" (Новокосино)                 1\n",
       "Казань ТЦ \"ПаркХаус\" II                            1\n",
       "Адыгея ТЦ \"Мега\"                                   1\n",
       "Балашиха ТРК \"Октябрь-Киномир\"                     1\n",
       "Волжский ТЦ \"Волга Молл\"                           1\n",
       "Вологда ТРЦ \"Мармелад\"                             1\n",
       "Воронеж (Плехановская, 13)                         1\n",
       "Воронеж ТРЦ \"Максимир\"                             1\n",
       "Воронеж ТРЦ Сити-Парк \"Град\"                       1\n",
       "Выездная Торговля                                  1\n",
       "Жуковский ул. Чкалова 39м?                         1\n",
       "Жуковский ул. Чкалова 39м²                         1\n",
       "Интернет-магазин ЧС                                1\n",
       "Казань ТЦ \"Бехетле\"                                1\n",
       "Калуга ТРЦ \"XXI век\"                               1\n",
       "Москва ТЦ \"МЕГА Теплый Стан\" II                    1\n",
       "Коломна ТЦ \"Рио\"                                   1\n",
       "Красноярск ТЦ \"Взлетка Плаза\"                      1\n",
       "Красноярск ТЦ \"Июнь\"                               1\n",
       "Курск ТЦ \"Пушкинский\"                              1\n",
       "Москва \"Распродажа\"                                1\n",
       "Москва МТРЦ \"Афи Молл\"                             1\n",
       "Москва Магазин С21                                 1\n",
       "Москва ТК \"Буденовский\" (пав.А2)                   1\n",
       "Москва ТК \"Буденовский\" (пав.К7)                   1\n",
       "Москва ТРК \"Атриум\"                                1\n",
       "Москва ТЦ \"Ареал\" (Беляево)                        1\n",
       "Москва ТЦ \"МЕГА Белая Дача II\"                     1\n",
       "Ярославль ТЦ \"Альтаир\"                             1\n",
       "Name: shop_name, dtype: int64"
      ]
     },
     "execution_count": 34,
     "metadata": {},
     "output_type": "execute_result"
    }
   ],
   "source": [
    "# shop name 확인\n",
    "shops['shop_name'].value_counts()"
   ]
  },
  {
   "cell_type": "code",
   "execution_count": 35,
   "id": "4807ffa4",
   "metadata": {
    "executionInfo": {
     "elapsed": 259,
     "status": "ok",
     "timestamp": 1645437226114,
     "user": {
      "displayName": "남궁정후",
      "photoUrl": "https://lh3.googleusercontent.com/a/default-user=s64",
      "userId": "00760625701380821498"
     },
     "user_tz": -540
    },
    "id": "4807ffa4"
   },
   "outputs": [],
   "source": [
    "# 도시명을 공백(' ')을 기준으로 분리하기 위해 수정\n",
    "shops.loc[shops.shop_name == 'Сергиев Посад ТЦ \"7Я\"', 'shop_name'] = 'СергиевПосад ТЦ \"7Я\"'"
   ]
  },
  {
   "cell_type": "code",
   "execution_count": 36,
   "id": "2df0bb31",
   "metadata": {
    "colab": {
     "base_uri": "https://localhost:8080/",
     "height": 206
    },
    "executionInfo": {
     "elapsed": 261,
     "status": "ok",
     "timestamp": 1645437253352,
     "user": {
      "displayName": "남궁정후",
      "photoUrl": "https://lh3.googleusercontent.com/a/default-user=s64",
      "userId": "00760625701380821498"
     },
     "user_tz": -540
    },
    "id": "2df0bb31",
    "outputId": "36bd616d-8bb5-4e2c-dbd6-6d28be77eb45"
   },
   "outputs": [
    {
     "data": {
      "text/html": [
       "<div>\n",
       "<style scoped>\n",
       "    .dataframe tbody tr th:only-of-type {\n",
       "        vertical-align: middle;\n",
       "    }\n",
       "\n",
       "    .dataframe tbody tr th {\n",
       "        vertical-align: top;\n",
       "    }\n",
       "\n",
       "    .dataframe thead th {\n",
       "        text-align: right;\n",
       "    }\n",
       "</style>\n",
       "<table border=\"1\" class=\"dataframe\">\n",
       "  <thead>\n",
       "    <tr style=\"text-align: right;\">\n",
       "      <th></th>\n",
       "      <th>shop_name</th>\n",
       "      <th>shop_id</th>\n",
       "      <th>city</th>\n",
       "    </tr>\n",
       "  </thead>\n",
       "  <tbody>\n",
       "    <tr>\n",
       "      <th>0</th>\n",
       "      <td>!Якутск Орджоникидзе, 56 фран</td>\n",
       "      <td>0</td>\n",
       "      <td>!Якутск</td>\n",
       "    </tr>\n",
       "    <tr>\n",
       "      <th>1</th>\n",
       "      <td>!Якутск ТЦ \"Центральный\" фран</td>\n",
       "      <td>1</td>\n",
       "      <td>!Якутск</td>\n",
       "    </tr>\n",
       "    <tr>\n",
       "      <th>2</th>\n",
       "      <td>Адыгея ТЦ \"Мега\"</td>\n",
       "      <td>2</td>\n",
       "      <td>Адыгея</td>\n",
       "    </tr>\n",
       "    <tr>\n",
       "      <th>3</th>\n",
       "      <td>Балашиха ТРК \"Октябрь-Киномир\"</td>\n",
       "      <td>3</td>\n",
       "      <td>Балашиха</td>\n",
       "    </tr>\n",
       "    <tr>\n",
       "      <th>4</th>\n",
       "      <td>Волжский ТЦ \"Волга Молл\"</td>\n",
       "      <td>4</td>\n",
       "      <td>Волжский</td>\n",
       "    </tr>\n",
       "  </tbody>\n",
       "</table>\n",
       "</div>"
      ],
      "text/plain": [
       "                        shop_name  shop_id      city\n",
       "0   !Якутск Орджоникидзе, 56 фран        0   !Якутск\n",
       "1   !Якутск ТЦ \"Центральный\" фран        1   !Якутск\n",
       "2                Адыгея ТЦ \"Мега\"        2    Адыгея\n",
       "3  Балашиха ТРК \"Октябрь-Киномир\"        3  Балашиха\n",
       "4        Волжский ТЦ \"Волга Молл\"        4  Волжский"
      ]
     },
     "execution_count": 36,
     "metadata": {},
     "output_type": "execute_result"
    }
   ],
   "source": [
    "# 공백(' ')을 기준으로 분리\n",
    "shops['city'] = shops['shop_name'].str.split(' ').map(lambda x: x[0])\n",
    "shops.head()"
   ]
  },
  {
   "cell_type": "code",
   "execution_count": 37,
   "id": "FJpCa6jHuZLX",
   "metadata": {
    "executionInfo": {
     "elapsed": 250,
     "status": "ok",
     "timestamp": 1645437255672,
     "user": {
      "displayName": "남궁정후",
      "photoUrl": "https://lh3.googleusercontent.com/a/default-user=s64",
      "userId": "00760625701380821498"
     },
     "user_tz": -540
    },
    "id": "FJpCa6jHuZLX"
   },
   "outputs": [],
   "source": [
    "# '!' 문자가 포함된 지명과 포함되지 않은 지명이 중복으로 표기됨. -> 통일시킴\n",
    "shops.loc[shops.city == '!Якутск', 'city'] = 'Якутск'"
   ]
  },
  {
   "cell_type": "code",
   "execution_count": 38,
   "id": "806e24bb",
   "metadata": {
    "id": "806e24bb",
    "outputId": "41202fb3-0d47-46f3-d623-bf6f3d4a03b9",
    "scrolled": true
   },
   "outputs": [
    {
     "data": {
      "text/plain": [
       "Москва              13\n",
       "Якутск               4\n",
       "РостовНаДону         3\n",
       "Воронеж              3\n",
       "Тюмень               3\n",
       "Новосибирск          2\n",
       "Н.Новгород           2\n",
       "Самара               2\n",
       "Красноярск           2\n",
       "Казань               2\n",
       "Жуковский            2\n",
       "Уфа                  2\n",
       "СПб                  2\n",
       "Томск                1\n",
       "Сургут               1\n",
       "СергиевПосад         1\n",
       "Химки                1\n",
       "Цифровой             1\n",
       "Чехов                1\n",
       "Мытищи               1\n",
       "Омск                 1\n",
       "Адыгея               1\n",
       "Курск                1\n",
       "Коломна              1\n",
       "Калуга               1\n",
       "Интернет-магазин     1\n",
       "Выездная             1\n",
       "Вологда              1\n",
       "Волжский             1\n",
       "Балашиха             1\n",
       "Ярославль            1\n",
       "Name: city, dtype: int64"
      ]
     },
     "execution_count": 38,
     "metadata": {},
     "output_type": "execute_result"
    }
   ],
   "source": [
    "shops['city'].value_counts()\n",
    "# Интернет-магазин :온라인 상점?\n",
    "# Выездная : 지명인지 모르겠음, 어디에도 지명이라고 안나옴\n",
    "# 그래도 다른 city와 분리하기 위해 city_id로 만들어 두기로 함."
   ]
  },
  {
   "cell_type": "code",
   "execution_count": 39,
   "id": "bc522f12",
   "metadata": {
    "colab": {
     "base_uri": "https://localhost:8080/",
     "height": 206
    },
    "executionInfo": {
     "elapsed": 258,
     "status": "ok",
     "timestamp": 1645437263102,
     "user": {
      "displayName": "남궁정후",
      "photoUrl": "https://lh3.googleusercontent.com/a/default-user=s64",
      "userId": "00760625701380821498"
     },
     "user_tz": -540
    },
    "id": "bc522f12",
    "outputId": "15004898-4e0b-4d53-c001-ddfb41822e4b"
   },
   "outputs": [
    {
     "data": {
      "text/html": [
       "<div>\n",
       "<style scoped>\n",
       "    .dataframe tbody tr th:only-of-type {\n",
       "        vertical-align: middle;\n",
       "    }\n",
       "\n",
       "    .dataframe tbody tr th {\n",
       "        vertical-align: top;\n",
       "    }\n",
       "\n",
       "    .dataframe thead th {\n",
       "        text-align: right;\n",
       "    }\n",
       "</style>\n",
       "<table border=\"1\" class=\"dataframe\">\n",
       "  <thead>\n",
       "    <tr style=\"text-align: right;\">\n",
       "      <th></th>\n",
       "      <th>shop_id</th>\n",
       "      <th>city_id</th>\n",
       "    </tr>\n",
       "  </thead>\n",
       "  <tbody>\n",
       "    <tr>\n",
       "      <th>0</th>\n",
       "      <td>0</td>\n",
       "      <td>29</td>\n",
       "    </tr>\n",
       "    <tr>\n",
       "      <th>1</th>\n",
       "      <td>1</td>\n",
       "      <td>29</td>\n",
       "    </tr>\n",
       "    <tr>\n",
       "      <th>2</th>\n",
       "      <td>2</td>\n",
       "      <td>0</td>\n",
       "    </tr>\n",
       "    <tr>\n",
       "      <th>3</th>\n",
       "      <td>3</td>\n",
       "      <td>1</td>\n",
       "    </tr>\n",
       "    <tr>\n",
       "      <th>4</th>\n",
       "      <td>4</td>\n",
       "      <td>2</td>\n",
       "    </tr>\n",
       "  </tbody>\n",
       "</table>\n",
       "</div>"
      ],
      "text/plain": [
       "   shop_id  city_id\n",
       "0        0       29\n",
       "1        1       29\n",
       "2        2        0\n",
       "3        3        1\n",
       "4        4        2"
      ]
     },
     "execution_count": 39,
     "metadata": {},
     "output_type": "execute_result"
    }
   ],
   "source": [
    "city_encoder = LabelEncoder()\n",
    "\n",
    "shops['city_id'] = city_encoder.fit_transform(shops['city'])\n",
    "shops = shops[['shop_id', 'city_id']]\n",
    "shops.head()"
   ]
  },
  {
   "cell_type": "code",
   "execution_count": 40,
   "id": "1474faf1",
   "metadata": {
    "colab": {
     "base_uri": "https://localhost:8080/"
    },
    "executionInfo": {
     "elapsed": 282,
     "status": "ok",
     "timestamp": 1645320741938,
     "user": {
      "displayName": "남궁정후",
      "photoUrl": "https://lh3.googleusercontent.com/a/default-user=s64",
      "userId": "00760625701380821498"
     },
     "user_tz": -540
    },
    "id": "1474faf1",
    "outputId": "80f86bd3-da31-4caa-d118-2c9da8ecbb3b",
    "scrolled": true
   },
   "outputs": [
    {
     "data": {
      "text/plain": [
       "13    13\n",
       "29     4\n",
       "18     3\n",
       "4      3\n",
       "24     3\n",
       "16     2\n",
       "15     2\n",
       "20     2\n",
       "11     2\n",
       "8      2\n",
       "6      2\n",
       "25     2\n",
       "19     2\n",
       "23     1\n",
       "22     1\n",
       "21     1\n",
       "26     1\n",
       "27     1\n",
       "28     1\n",
       "14     1\n",
       "17     1\n",
       "0      1\n",
       "12     1\n",
       "10     1\n",
       "9      1\n",
       "7      1\n",
       "5      1\n",
       "3      1\n",
       "2      1\n",
       "1      1\n",
       "30     1\n",
       "Name: city_id, dtype: int64"
      ]
     },
     "execution_count": 40,
     "metadata": {},
     "output_type": "execute_result"
    }
   ],
   "source": [
    "shops.city_id.value_counts()"
   ]
  },
  {
   "cell_type": "markdown",
   "id": "da13d13e",
   "metadata": {
    "id": "da13d13e"
   },
   "source": [
    "## 5) test data"
   ]
  },
  {
   "cell_type": "code",
   "execution_count": 41,
   "id": "a2e31de2",
   "metadata": {
    "colab": {
     "base_uri": "https://localhost:8080/",
     "height": 206
    },
    "executionInfo": {
     "elapsed": 297,
     "status": "ok",
     "timestamp": 1645320751474,
     "user": {
      "displayName": "남궁정후",
      "photoUrl": "https://lh3.googleusercontent.com/a/default-user=s64",
      "userId": "00760625701380821498"
     },
     "user_tz": -540
    },
    "id": "a2e31de2",
    "outputId": "8da5a03c-726a-4d43-c9d9-92492c7b36b2"
   },
   "outputs": [
    {
     "data": {
      "text/html": [
       "<div>\n",
       "<style scoped>\n",
       "    .dataframe tbody tr th:only-of-type {\n",
       "        vertical-align: middle;\n",
       "    }\n",
       "\n",
       "    .dataframe tbody tr th {\n",
       "        vertical-align: top;\n",
       "    }\n",
       "\n",
       "    .dataframe thead th {\n",
       "        text-align: right;\n",
       "    }\n",
       "</style>\n",
       "<table border=\"1\" class=\"dataframe\">\n",
       "  <thead>\n",
       "    <tr style=\"text-align: right;\">\n",
       "      <th></th>\n",
       "      <th>ID</th>\n",
       "      <th>shop_id</th>\n",
       "      <th>item_id</th>\n",
       "    </tr>\n",
       "  </thead>\n",
       "  <tbody>\n",
       "    <tr>\n",
       "      <th>0</th>\n",
       "      <td>0</td>\n",
       "      <td>5</td>\n",
       "      <td>5037</td>\n",
       "    </tr>\n",
       "    <tr>\n",
       "      <th>1</th>\n",
       "      <td>1</td>\n",
       "      <td>5</td>\n",
       "      <td>5320</td>\n",
       "    </tr>\n",
       "    <tr>\n",
       "      <th>2</th>\n",
       "      <td>2</td>\n",
       "      <td>5</td>\n",
       "      <td>5233</td>\n",
       "    </tr>\n",
       "    <tr>\n",
       "      <th>3</th>\n",
       "      <td>3</td>\n",
       "      <td>5</td>\n",
       "      <td>5232</td>\n",
       "    </tr>\n",
       "    <tr>\n",
       "      <th>4</th>\n",
       "      <td>4</td>\n",
       "      <td>5</td>\n",
       "      <td>5268</td>\n",
       "    </tr>\n",
       "  </tbody>\n",
       "</table>\n",
       "</div>"
      ],
      "text/plain": [
       "   ID  shop_id  item_id\n",
       "0   0        5     5037\n",
       "1   1        5     5320\n",
       "2   2        5     5233\n",
       "3   3        5     5232\n",
       "4   4        5     5268"
      ]
     },
     "execution_count": 41,
     "metadata": {},
     "output_type": "execute_result"
    }
   ],
   "source": [
    "test.head()"
   ]
  },
  {
   "cell_type": "code",
   "execution_count": 42,
   "id": "cf4d358a",
   "metadata": {
    "colab": {
     "base_uri": "https://localhost:8080/"
    },
    "executionInfo": {
     "elapsed": 6,
     "status": "ok",
     "timestamp": 1645320756393,
     "user": {
      "displayName": "남궁정후",
      "photoUrl": "https://lh3.googleusercontent.com/a/default-user=s64",
      "userId": "00760625701380821498"
     },
     "user_tz": -540
    },
    "id": "cf4d358a",
    "outputId": "0d65aa00-cf12-4d00-eb94-e0a274f7249e"
   },
   "outputs": [
    {
     "data": {
      "text/plain": [
       "(214200, 3)"
      ]
     },
     "execution_count": 42,
     "metadata": {},
     "output_type": "execute_result"
    }
   ],
   "source": [
    "test.shape"
   ]
  },
  {
   "cell_type": "code",
   "execution_count": 43,
   "id": "3bfb884d",
   "metadata": {
    "colab": {
     "base_uri": "https://localhost:8080/"
    },
    "executionInfo": {
     "elapsed": 4,
     "status": "ok",
     "timestamp": 1645320758189,
     "user": {
      "displayName": "남궁정후",
      "photoUrl": "https://lh3.googleusercontent.com/a/default-user=s64",
      "userId": "00760625701380821498"
     },
     "user_tz": -540
    },
    "id": "3bfb884d",
    "outputId": "9d50e20e-89ac-40aa-9691-74b615514f06"
   },
   "outputs": [
    {
     "data": {
      "text/plain": [
       "42"
      ]
     },
     "execution_count": 43,
     "metadata": {},
     "output_type": "execute_result"
    }
   ],
   "source": [
    "# test 데이터에서 shop_id는 42개\n",
    "len(test.shop_id.unique())"
   ]
  },
  {
   "cell_type": "code",
   "execution_count": 44,
   "id": "36ac1c40",
   "metadata": {
    "colab": {
     "base_uri": "https://localhost:8080/"
    },
    "executionInfo": {
     "elapsed": 327,
     "status": "ok",
     "timestamp": 1645320760123,
     "user": {
      "displayName": "남궁정후",
      "photoUrl": "https://lh3.googleusercontent.com/a/default-user=s64",
      "userId": "00760625701380821498"
     },
     "user_tz": -540
    },
    "id": "36ac1c40",
    "outputId": "cf084240-9bb0-4c62-f232-5435c74eb977"
   },
   "outputs": [
    {
     "data": {
      "text/plain": [
       "363"
      ]
     },
     "execution_count": 44,
     "metadata": {},
     "output_type": "execute_result"
    }
   ],
   "source": [
    "# test 데이터에는 있지만 sales 데이터에는 없는 item_id가 총 363개 있다.\n",
    "# 363개의 item_id에 대한 판매량은 0으로 예측\n",
    "len(set(test.item_id) - set(sales.item_id))"
   ]
  },
  {
   "cell_type": "code",
   "execution_count": 45,
   "id": "79cfea76",
   "metadata": {
    "executionInfo": {
     "elapsed": 267,
     "status": "ok",
     "timestamp": 1645437271326,
     "user": {
      "displayName": "남궁정후",
      "photoUrl": "https://lh3.googleusercontent.com/a/default-user=s64",
      "userId": "00760625701380821498"
     },
     "user_tz": -540
    },
    "id": "79cfea76"
   },
   "outputs": [],
   "source": [
    "test['date_block_num'] = 34"
   ]
  },
  {
   "cell_type": "code",
   "execution_count": 46,
   "id": "2942e857",
   "metadata": {
    "colab": {
     "base_uri": "https://localhost:8080/",
     "height": 206
    },
    "executionInfo": {
     "elapsed": 519,
     "status": "ok",
     "timestamp": 1645437272991,
     "user": {
      "displayName": "남궁정후",
      "photoUrl": "https://lh3.googleusercontent.com/a/default-user=s64",
      "userId": "00760625701380821498"
     },
     "user_tz": -540
    },
    "id": "2942e857",
    "outputId": "2ce168b5-7c59-46f5-f5f0-5a14e9cda8de"
   },
   "outputs": [
    {
     "data": {
      "text/html": [
       "<div>\n",
       "<style scoped>\n",
       "    .dataframe tbody tr th:only-of-type {\n",
       "        vertical-align: middle;\n",
       "    }\n",
       "\n",
       "    .dataframe tbody tr th {\n",
       "        vertical-align: top;\n",
       "    }\n",
       "\n",
       "    .dataframe thead th {\n",
       "        text-align: right;\n",
       "    }\n",
       "</style>\n",
       "<table border=\"1\" class=\"dataframe\">\n",
       "  <thead>\n",
       "    <tr style=\"text-align: right;\">\n",
       "      <th></th>\n",
       "      <th>ID</th>\n",
       "      <th>shop_id</th>\n",
       "      <th>item_id</th>\n",
       "      <th>date_block_num</th>\n",
       "    </tr>\n",
       "  </thead>\n",
       "  <tbody>\n",
       "    <tr>\n",
       "      <th>0</th>\n",
       "      <td>0</td>\n",
       "      <td>5</td>\n",
       "      <td>5037</td>\n",
       "      <td>34</td>\n",
       "    </tr>\n",
       "    <tr>\n",
       "      <th>1</th>\n",
       "      <td>1</td>\n",
       "      <td>5</td>\n",
       "      <td>5320</td>\n",
       "      <td>34</td>\n",
       "    </tr>\n",
       "    <tr>\n",
       "      <th>2</th>\n",
       "      <td>2</td>\n",
       "      <td>5</td>\n",
       "      <td>5233</td>\n",
       "      <td>34</td>\n",
       "    </tr>\n",
       "    <tr>\n",
       "      <th>3</th>\n",
       "      <td>3</td>\n",
       "      <td>5</td>\n",
       "      <td>5232</td>\n",
       "      <td>34</td>\n",
       "    </tr>\n",
       "    <tr>\n",
       "      <th>4</th>\n",
       "      <td>4</td>\n",
       "      <td>5</td>\n",
       "      <td>5268</td>\n",
       "      <td>34</td>\n",
       "    </tr>\n",
       "  </tbody>\n",
       "</table>\n",
       "</div>"
      ],
      "text/plain": [
       "   ID  shop_id  item_id  date_block_num\n",
       "0   0        5     5037              34\n",
       "1   1        5     5320              34\n",
       "2   2        5     5233              34\n",
       "3   3        5     5232              34\n",
       "4   4        5     5268              34"
      ]
     },
     "execution_count": 46,
     "metadata": {},
     "output_type": "execute_result"
    }
   ],
   "source": [
    "test.head()"
   ]
  },
  {
   "cell_type": "markdown",
   "id": "7f6e1be9",
   "metadata": {
    "id": "7f6e1be9"
   },
   "source": [
    "## 6) submission data"
   ]
  },
  {
   "cell_type": "code",
   "execution_count": 47,
   "id": "ca3f2922",
   "metadata": {
    "id": "ca3f2922",
    "outputId": "0012eb73-95c9-4b02-fb5c-3d5eb5748e09"
   },
   "outputs": [
    {
     "data": {
      "text/html": [
       "<div>\n",
       "<style scoped>\n",
       "    .dataframe tbody tr th:only-of-type {\n",
       "        vertical-align: middle;\n",
       "    }\n",
       "\n",
       "    .dataframe tbody tr th {\n",
       "        vertical-align: top;\n",
       "    }\n",
       "\n",
       "    .dataframe thead th {\n",
       "        text-align: right;\n",
       "    }\n",
       "</style>\n",
       "<table border=\"1\" class=\"dataframe\">\n",
       "  <thead>\n",
       "    <tr style=\"text-align: right;\">\n",
       "      <th></th>\n",
       "      <th>ID</th>\n",
       "      <th>item_cnt_month</th>\n",
       "    </tr>\n",
       "  </thead>\n",
       "  <tbody>\n",
       "    <tr>\n",
       "      <th>0</th>\n",
       "      <td>0</td>\n",
       "      <td>0.5</td>\n",
       "    </tr>\n",
       "    <tr>\n",
       "      <th>1</th>\n",
       "      <td>1</td>\n",
       "      <td>0.5</td>\n",
       "    </tr>\n",
       "    <tr>\n",
       "      <th>2</th>\n",
       "      <td>2</td>\n",
       "      <td>0.5</td>\n",
       "    </tr>\n",
       "    <tr>\n",
       "      <th>3</th>\n",
       "      <td>3</td>\n",
       "      <td>0.5</td>\n",
       "    </tr>\n",
       "    <tr>\n",
       "      <th>4</th>\n",
       "      <td>4</td>\n",
       "      <td>0.5</td>\n",
       "    </tr>\n",
       "  </tbody>\n",
       "</table>\n",
       "</div>"
      ],
      "text/plain": [
       "   ID  item_cnt_month\n",
       "0   0             0.5\n",
       "1   1             0.5\n",
       "2   2             0.5\n",
       "3   3             0.5\n",
       "4   4             0.5"
      ]
     },
     "execution_count": 47,
     "metadata": {},
     "output_type": "execute_result"
    }
   ],
   "source": [
    "submission = pd.read_csv('./data/sample_submission.csv')\n",
    "submission.head()"
   ]
  },
  {
   "cell_type": "code",
   "execution_count": null,
   "id": "cdd77bb2",
   "metadata": {
    "id": "cdd77bb2"
   },
   "outputs": [],
   "source": []
  },
  {
   "cell_type": "code",
   "execution_count": null,
   "id": "69a24d6d",
   "metadata": {
    "id": "69a24d6d"
   },
   "outputs": [],
   "source": []
  },
  {
   "cell_type": "markdown",
   "id": "70d04b6b",
   "metadata": {
    "id": "70d04b6b"
   },
   "source": [
    "## 7) 데이터 merge "
   ]
  },
  {
   "cell_type": "markdown",
   "id": "02009961",
   "metadata": {
    "id": "02009961"
   },
   "source": [
    "### revenue 컬럼 생성"
   ]
  },
  {
   "cell_type": "code",
   "execution_count": 48,
   "id": "dcaedf26",
   "metadata": {
    "colab": {
     "base_uri": "https://localhost:8080/",
     "height": 206
    },
    "executionInfo": {
     "elapsed": 281,
     "status": "ok",
     "timestamp": 1645437285310,
     "user": {
      "displayName": "남궁정후",
      "photoUrl": "https://lh3.googleusercontent.com/a/default-user=s64",
      "userId": "00760625701380821498"
     },
     "user_tz": -540
    },
    "id": "dcaedf26",
    "outputId": "d8e3ff25-64e4-41b5-9d26-3e4ab3da15b6"
   },
   "outputs": [
    {
     "data": {
      "text/html": [
       "<div>\n",
       "<style scoped>\n",
       "    .dataframe tbody tr th:only-of-type {\n",
       "        vertical-align: middle;\n",
       "    }\n",
       "\n",
       "    .dataframe tbody tr th {\n",
       "        vertical-align: top;\n",
       "    }\n",
       "\n",
       "    .dataframe thead th {\n",
       "        text-align: right;\n",
       "    }\n",
       "</style>\n",
       "<table border=\"1\" class=\"dataframe\">\n",
       "  <thead>\n",
       "    <tr style=\"text-align: right;\">\n",
       "      <th></th>\n",
       "      <th>date</th>\n",
       "      <th>year</th>\n",
       "      <th>month</th>\n",
       "      <th>day</th>\n",
       "      <th>day_of_week</th>\n",
       "      <th>date_block_num</th>\n",
       "      <th>shop_id</th>\n",
       "      <th>item_id</th>\n",
       "      <th>item_price</th>\n",
       "      <th>item_cnt_day</th>\n",
       "    </tr>\n",
       "  </thead>\n",
       "  <tbody>\n",
       "    <tr>\n",
       "      <th>0</th>\n",
       "      <td>2013-01-02</td>\n",
       "      <td>2013</td>\n",
       "      <td>1</td>\n",
       "      <td>2</td>\n",
       "      <td>2</td>\n",
       "      <td>0</td>\n",
       "      <td>59</td>\n",
       "      <td>22154</td>\n",
       "      <td>999.00</td>\n",
       "      <td>1.0</td>\n",
       "    </tr>\n",
       "    <tr>\n",
       "      <th>1</th>\n",
       "      <td>2013-01-03</td>\n",
       "      <td>2013</td>\n",
       "      <td>1</td>\n",
       "      <td>3</td>\n",
       "      <td>3</td>\n",
       "      <td>0</td>\n",
       "      <td>25</td>\n",
       "      <td>2552</td>\n",
       "      <td>899.00</td>\n",
       "      <td>1.0</td>\n",
       "    </tr>\n",
       "    <tr>\n",
       "      <th>3</th>\n",
       "      <td>2013-01-06</td>\n",
       "      <td>2013</td>\n",
       "      <td>1</td>\n",
       "      <td>6</td>\n",
       "      <td>6</td>\n",
       "      <td>0</td>\n",
       "      <td>25</td>\n",
       "      <td>2554</td>\n",
       "      <td>1709.05</td>\n",
       "      <td>1.0</td>\n",
       "    </tr>\n",
       "    <tr>\n",
       "      <th>4</th>\n",
       "      <td>2013-01-15</td>\n",
       "      <td>2013</td>\n",
       "      <td>1</td>\n",
       "      <td>15</td>\n",
       "      <td>1</td>\n",
       "      <td>0</td>\n",
       "      <td>25</td>\n",
       "      <td>2555</td>\n",
       "      <td>1099.00</td>\n",
       "      <td>1.0</td>\n",
       "    </tr>\n",
       "    <tr>\n",
       "      <th>5</th>\n",
       "      <td>2013-01-10</td>\n",
       "      <td>2013</td>\n",
       "      <td>1</td>\n",
       "      <td>10</td>\n",
       "      <td>3</td>\n",
       "      <td>0</td>\n",
       "      <td>25</td>\n",
       "      <td>2564</td>\n",
       "      <td>349.00</td>\n",
       "      <td>1.0</td>\n",
       "    </tr>\n",
       "  </tbody>\n",
       "</table>\n",
       "</div>"
      ],
      "text/plain": [
       "        date  year  month  day  day_of_week  date_block_num  shop_id  item_id  \\\n",
       "0 2013-01-02  2013      1    2            2               0       59    22154   \n",
       "1 2013-01-03  2013      1    3            3               0       25     2552   \n",
       "3 2013-01-06  2013      1    6            6               0       25     2554   \n",
       "4 2013-01-15  2013      1   15            1               0       25     2555   \n",
       "5 2013-01-10  2013      1   10            3               0       25     2564   \n",
       "\n",
       "   item_price  item_cnt_day  \n",
       "0      999.00           1.0  \n",
       "1      899.00           1.0  \n",
       "3     1709.05           1.0  \n",
       "4     1099.00           1.0  \n",
       "5      349.00           1.0  "
      ]
     },
     "execution_count": 48,
     "metadata": {},
     "output_type": "execute_result"
    }
   ],
   "source": [
    "sales.head()"
   ]
  },
  {
   "cell_type": "code",
   "execution_count": 49,
   "id": "e8b58332",
   "metadata": {
    "colab": {
     "base_uri": "https://localhost:8080/",
     "height": 206
    },
    "executionInfo": {
     "elapsed": 317,
     "status": "ok",
     "timestamp": 1645437287458,
     "user": {
      "displayName": "남궁정후",
      "photoUrl": "https://lh3.googleusercontent.com/a/default-user=s64",
      "userId": "00760625701380821498"
     },
     "user_tz": -540
    },
    "id": "e8b58332",
    "outputId": "dfb30136-d091-4a11-af73-3f98e5cda7cf"
   },
   "outputs": [
    {
     "data": {
      "text/html": [
       "<div>\n",
       "<style scoped>\n",
       "    .dataframe tbody tr th:only-of-type {\n",
       "        vertical-align: middle;\n",
       "    }\n",
       "\n",
       "    .dataframe tbody tr th {\n",
       "        vertical-align: top;\n",
       "    }\n",
       "\n",
       "    .dataframe thead th {\n",
       "        text-align: right;\n",
       "    }\n",
       "</style>\n",
       "<table border=\"1\" class=\"dataframe\">\n",
       "  <thead>\n",
       "    <tr style=\"text-align: right;\">\n",
       "      <th></th>\n",
       "      <th>date</th>\n",
       "      <th>year</th>\n",
       "      <th>month</th>\n",
       "      <th>day</th>\n",
       "      <th>day_of_week</th>\n",
       "      <th>date_block_num</th>\n",
       "      <th>shop_id</th>\n",
       "      <th>item_id</th>\n",
       "      <th>item_price</th>\n",
       "      <th>item_cnt_day</th>\n",
       "      <th>revenue</th>\n",
       "    </tr>\n",
       "  </thead>\n",
       "  <tbody>\n",
       "    <tr>\n",
       "      <th>0</th>\n",
       "      <td>2013-01-02</td>\n",
       "      <td>2013</td>\n",
       "      <td>1</td>\n",
       "      <td>2</td>\n",
       "      <td>2</td>\n",
       "      <td>0</td>\n",
       "      <td>59</td>\n",
       "      <td>22154</td>\n",
       "      <td>999.00</td>\n",
       "      <td>1.0</td>\n",
       "      <td>999.00</td>\n",
       "    </tr>\n",
       "    <tr>\n",
       "      <th>1</th>\n",
       "      <td>2013-01-03</td>\n",
       "      <td>2013</td>\n",
       "      <td>1</td>\n",
       "      <td>3</td>\n",
       "      <td>3</td>\n",
       "      <td>0</td>\n",
       "      <td>25</td>\n",
       "      <td>2552</td>\n",
       "      <td>899.00</td>\n",
       "      <td>1.0</td>\n",
       "      <td>899.00</td>\n",
       "    </tr>\n",
       "    <tr>\n",
       "      <th>3</th>\n",
       "      <td>2013-01-06</td>\n",
       "      <td>2013</td>\n",
       "      <td>1</td>\n",
       "      <td>6</td>\n",
       "      <td>6</td>\n",
       "      <td>0</td>\n",
       "      <td>25</td>\n",
       "      <td>2554</td>\n",
       "      <td>1709.05</td>\n",
       "      <td>1.0</td>\n",
       "      <td>1709.05</td>\n",
       "    </tr>\n",
       "    <tr>\n",
       "      <th>4</th>\n",
       "      <td>2013-01-15</td>\n",
       "      <td>2013</td>\n",
       "      <td>1</td>\n",
       "      <td>15</td>\n",
       "      <td>1</td>\n",
       "      <td>0</td>\n",
       "      <td>25</td>\n",
       "      <td>2555</td>\n",
       "      <td>1099.00</td>\n",
       "      <td>1.0</td>\n",
       "      <td>1099.00</td>\n",
       "    </tr>\n",
       "    <tr>\n",
       "      <th>5</th>\n",
       "      <td>2013-01-10</td>\n",
       "      <td>2013</td>\n",
       "      <td>1</td>\n",
       "      <td>10</td>\n",
       "      <td>3</td>\n",
       "      <td>0</td>\n",
       "      <td>25</td>\n",
       "      <td>2564</td>\n",
       "      <td>349.00</td>\n",
       "      <td>1.0</td>\n",
       "      <td>349.00</td>\n",
       "    </tr>\n",
       "  </tbody>\n",
       "</table>\n",
       "</div>"
      ],
      "text/plain": [
       "        date  year  month  day  day_of_week  date_block_num  shop_id  item_id  \\\n",
       "0 2013-01-02  2013      1    2            2               0       59    22154   \n",
       "1 2013-01-03  2013      1    3            3               0       25     2552   \n",
       "3 2013-01-06  2013      1    6            6               0       25     2554   \n",
       "4 2013-01-15  2013      1   15            1               0       25     2555   \n",
       "5 2013-01-10  2013      1   10            3               0       25     2564   \n",
       "\n",
       "   item_price  item_cnt_day  revenue  \n",
       "0      999.00           1.0   999.00  \n",
       "1      899.00           1.0   899.00  \n",
       "3     1709.05           1.0  1709.05  \n",
       "4     1099.00           1.0  1099.00  \n",
       "5      349.00           1.0   349.00  "
      ]
     },
     "execution_count": 49,
     "metadata": {},
     "output_type": "execute_result"
    }
   ],
   "source": [
    "# 총 수익\n",
    "sales['revenue'] = sales['item_price'] * sales['item_cnt_day']\n",
    "sales.head()"
   ]
  },
  {
   "cell_type": "code",
   "execution_count": null,
   "id": "38c5234a",
   "metadata": {
    "id": "38c5234a"
   },
   "outputs": [],
   "source": []
  },
  {
   "cell_type": "code",
   "execution_count": null,
   "id": "0dfe0aa3",
   "metadata": {
    "id": "0dfe0aa3"
   },
   "outputs": [],
   "source": []
  },
  {
   "cell_type": "code",
   "execution_count": null,
   "id": "e14dad26",
   "metadata": {
    "id": "e14dad26"
   },
   "outputs": [],
   "source": []
  },
  {
   "cell_type": "markdown",
   "id": "2f0dc014",
   "metadata": {
    "id": "2f0dc014"
   },
   "source": [
    "### matrix 데이터프레임 생성 및 컬럼추가\n",
    "- 월별(date_block_num), 상점별(shop_id), 아이템별(item_id)\n",
    "- city_id, item_category_id, type_id 컬럼추가(merge)"
   ]
  },
  {
   "cell_type": "code",
   "execution_count": 50,
   "id": "ede53e12",
   "metadata": {
    "colab": {
     "base_uri": "https://localhost:8080/"
    },
    "executionInfo": {
     "elapsed": 14985,
     "status": "ok",
     "timestamp": 1645437310652,
     "user": {
      "displayName": "남궁정후",
      "photoUrl": "https://lh3.googleusercontent.com/a/default-user=s64",
      "userId": "00760625701380821498"
     },
     "user_tz": -540
    },
    "id": "ede53e12",
    "outputId": "304ad111-99b3-44a7-fc69-a4498c31bb8d"
   },
   "outputs": [
    {
     "data": {
      "text/plain": [
       "10.211114168167114"
      ]
     },
     "execution_count": 50,
     "metadata": {},
     "output_type": "execute_result"
    }
   ],
   "source": [
    "ts = time.time() # 코드 시작 시간\n",
    "matrix = []\n",
    "cols = ['date_block_num', 'shop_id', 'item_id'] # 월별, 상점별, 아이템별\n",
    "\n",
    "for i in range(34):\n",
    "    sales_df = sales[sales.date_block_num == i]\n",
    "    matrix.append(np.array(list(itertools.product([i], \n",
    "                    sales_df.shop_id.unique(), sales_df.item_id.unique())),\n",
    "                    dtype='int16'))\n",
    "matrix = pd.DataFrame(np.vstack(matrix), columns=cols)\n",
    "\n",
    "# int8 -> Byte (-128 to 127), int16 -> Integer (-32768 to 32767)\n",
    "matrix['date_block_num'] = matrix['date_block_num'].astype(np.int8)\n",
    "matrix['shop_id'] = matrix['shop_id'].astype(np.int8)\n",
    "matrix['item_id'] = matrix['item_id'].astype(np.int16)\n",
    "\n",
    "matrix.sort_values(cols, inplace=True)\n",
    "time.time()-ts # 코드 실행 시간\n",
    "\n",
    "# itertools.product : 중복 순열\n",
    "# 월별, 상점별, 아이템별로 모든 가능한 조합을 나타낸다.\n",
    "# vstack : 이 조합들을 월 순서대로 행 아래에 더해준다."
   ]
  },
  {
   "cell_type": "code",
   "execution_count": 51,
   "id": "badf635a",
   "metadata": {
    "colab": {
     "base_uri": "https://localhost:8080/",
     "height": 206
    },
    "executionInfo": {
     "elapsed": 26,
     "status": "ok",
     "timestamp": 1645320801743,
     "user": {
      "displayName": "남궁정후",
      "photoUrl": "https://lh3.googleusercontent.com/a/default-user=s64",
      "userId": "00760625701380821498"
     },
     "user_tz": -540
    },
    "id": "badf635a",
    "outputId": "db9bd624-5266-4f84-e1d4-c7bb607aa89e"
   },
   "outputs": [
    {
     "data": {
      "text/html": [
       "<div>\n",
       "<style scoped>\n",
       "    .dataframe tbody tr th:only-of-type {\n",
       "        vertical-align: middle;\n",
       "    }\n",
       "\n",
       "    .dataframe tbody tr th {\n",
       "        vertical-align: top;\n",
       "    }\n",
       "\n",
       "    .dataframe thead th {\n",
       "        text-align: right;\n",
       "    }\n",
       "</style>\n",
       "<table border=\"1\" class=\"dataframe\">\n",
       "  <thead>\n",
       "    <tr style=\"text-align: right;\">\n",
       "      <th></th>\n",
       "      <th>date_block_num</th>\n",
       "      <th>shop_id</th>\n",
       "      <th>item_id</th>\n",
       "    </tr>\n",
       "  </thead>\n",
       "  <tbody>\n",
       "    <tr>\n",
       "      <th>139168</th>\n",
       "      <td>0</td>\n",
       "      <td>0</td>\n",
       "      <td>19</td>\n",
       "    </tr>\n",
       "    <tr>\n",
       "      <th>141406</th>\n",
       "      <td>0</td>\n",
       "      <td>0</td>\n",
       "      <td>27</td>\n",
       "    </tr>\n",
       "    <tr>\n",
       "      <th>144881</th>\n",
       "      <td>0</td>\n",
       "      <td>0</td>\n",
       "      <td>28</td>\n",
       "    </tr>\n",
       "    <tr>\n",
       "      <th>142572</th>\n",
       "      <td>0</td>\n",
       "      <td>0</td>\n",
       "      <td>29</td>\n",
       "    </tr>\n",
       "    <tr>\n",
       "      <th>138861</th>\n",
       "      <td>0</td>\n",
       "      <td>0</td>\n",
       "      <td>32</td>\n",
       "    </tr>\n",
       "  </tbody>\n",
       "</table>\n",
       "</div>"
      ],
      "text/plain": [
       "        date_block_num  shop_id  item_id\n",
       "139168               0        0       19\n",
       "141406               0        0       27\n",
       "144881               0        0       28\n",
       "142572               0        0       29\n",
       "138861               0        0       32"
      ]
     },
     "execution_count": 51,
     "metadata": {},
     "output_type": "execute_result"
    }
   ],
   "source": [
    "matrix.head()"
   ]
  },
  {
   "cell_type": "code",
   "execution_count": 55,
   "id": "76c9288c",
   "metadata": {
    "id": "76c9288c",
    "outputId": "3e231054-59f0-4326-f690-6384154d4b6e"
   },
   "outputs": [
    {
     "data": {
      "text/html": [
       "<div>\n",
       "<style scoped>\n",
       "    .dataframe tbody tr th:only-of-type {\n",
       "        vertical-align: middle;\n",
       "    }\n",
       "\n",
       "    .dataframe tbody tr th {\n",
       "        vertical-align: top;\n",
       "    }\n",
       "\n",
       "    .dataframe thead th {\n",
       "        text-align: right;\n",
       "    }\n",
       "</style>\n",
       "<table border=\"1\" class=\"dataframe\">\n",
       "  <thead>\n",
       "    <tr style=\"text-align: right;\">\n",
       "      <th></th>\n",
       "      <th>date_block_num</th>\n",
       "      <th>shop_id</th>\n",
       "      <th>item_id</th>\n",
       "      <th>city_id</th>\n",
       "      <th>item_category_id</th>\n",
       "      <th>type_id</th>\n",
       "      <th>ID</th>\n",
       "    </tr>\n",
       "  </thead>\n",
       "  <tbody>\n",
       "    <tr>\n",
       "      <th>0</th>\n",
       "      <td>0</td>\n",
       "      <td>0</td>\n",
       "      <td>19</td>\n",
       "      <td>29.0</td>\n",
       "      <td>40.0</td>\n",
       "      <td>11.0</td>\n",
       "      <td>0.0</td>\n",
       "    </tr>\n",
       "    <tr>\n",
       "      <th>1</th>\n",
       "      <td>0</td>\n",
       "      <td>0</td>\n",
       "      <td>27</td>\n",
       "      <td>29.0</td>\n",
       "      <td>19.0</td>\n",
       "      <td>5.0</td>\n",
       "      <td>0.0</td>\n",
       "    </tr>\n",
       "    <tr>\n",
       "      <th>2</th>\n",
       "      <td>0</td>\n",
       "      <td>0</td>\n",
       "      <td>28</td>\n",
       "      <td>29.0</td>\n",
       "      <td>30.0</td>\n",
       "      <td>8.0</td>\n",
       "      <td>0.0</td>\n",
       "    </tr>\n",
       "    <tr>\n",
       "      <th>3</th>\n",
       "      <td>0</td>\n",
       "      <td>0</td>\n",
       "      <td>29</td>\n",
       "      <td>29.0</td>\n",
       "      <td>23.0</td>\n",
       "      <td>5.0</td>\n",
       "      <td>0.0</td>\n",
       "    </tr>\n",
       "    <tr>\n",
       "      <th>4</th>\n",
       "      <td>0</td>\n",
       "      <td>0</td>\n",
       "      <td>32</td>\n",
       "      <td>29.0</td>\n",
       "      <td>40.0</td>\n",
       "      <td>11.0</td>\n",
       "      <td>0.0</td>\n",
       "    </tr>\n",
       "    <tr>\n",
       "      <th>...</th>\n",
       "      <td>...</td>\n",
       "      <td>...</td>\n",
       "      <td>...</td>\n",
       "      <td>...</td>\n",
       "      <td>...</td>\n",
       "      <td>...</td>\n",
       "      <td>...</td>\n",
       "    </tr>\n",
       "    <tr>\n",
       "      <th>11098655</th>\n",
       "      <td>34</td>\n",
       "      <td>45</td>\n",
       "      <td>18454</td>\n",
       "      <td>0.0</td>\n",
       "      <td>0.0</td>\n",
       "      <td>0.0</td>\n",
       "      <td>214195.0</td>\n",
       "    </tr>\n",
       "    <tr>\n",
       "      <th>11098656</th>\n",
       "      <td>34</td>\n",
       "      <td>45</td>\n",
       "      <td>16188</td>\n",
       "      <td>0.0</td>\n",
       "      <td>0.0</td>\n",
       "      <td>0.0</td>\n",
       "      <td>214196.0</td>\n",
       "    </tr>\n",
       "    <tr>\n",
       "      <th>11098657</th>\n",
       "      <td>34</td>\n",
       "      <td>45</td>\n",
       "      <td>15757</td>\n",
       "      <td>0.0</td>\n",
       "      <td>0.0</td>\n",
       "      <td>0.0</td>\n",
       "      <td>214197.0</td>\n",
       "    </tr>\n",
       "    <tr>\n",
       "      <th>11098658</th>\n",
       "      <td>34</td>\n",
       "      <td>45</td>\n",
       "      <td>19648</td>\n",
       "      <td>0.0</td>\n",
       "      <td>0.0</td>\n",
       "      <td>0.0</td>\n",
       "      <td>214198.0</td>\n",
       "    </tr>\n",
       "    <tr>\n",
       "      <th>11098659</th>\n",
       "      <td>34</td>\n",
       "      <td>45</td>\n",
       "      <td>969</td>\n",
       "      <td>0.0</td>\n",
       "      <td>0.0</td>\n",
       "      <td>0.0</td>\n",
       "      <td>214199.0</td>\n",
       "    </tr>\n",
       "  </tbody>\n",
       "</table>\n",
       "<p>11098660 rows × 7 columns</p>\n",
       "</div>"
      ],
      "text/plain": [
       "          date_block_num  shop_id  item_id  city_id  item_category_id  \\\n",
       "0                      0        0       19     29.0              40.0   \n",
       "1                      0        0       27     29.0              19.0   \n",
       "2                      0        0       28     29.0              30.0   \n",
       "3                      0        0       29     29.0              23.0   \n",
       "4                      0        0       32     29.0              40.0   \n",
       "...                  ...      ...      ...      ...               ...   \n",
       "11098655              34       45    18454      0.0               0.0   \n",
       "11098656              34       45    16188      0.0               0.0   \n",
       "11098657              34       45    15757      0.0               0.0   \n",
       "11098658              34       45    19648      0.0               0.0   \n",
       "11098659              34       45      969      0.0               0.0   \n",
       "\n",
       "          type_id        ID  \n",
       "0            11.0       0.0  \n",
       "1             5.0       0.0  \n",
       "2             8.0       0.0  \n",
       "3             5.0       0.0  \n",
       "4            11.0       0.0  \n",
       "...           ...       ...  \n",
       "11098655      0.0  214195.0  \n",
       "11098656      0.0  214196.0  \n",
       "11098657      0.0  214197.0  \n",
       "11098658      0.0  214198.0  \n",
       "11098659      0.0  214199.0  \n",
       "\n",
       "[11098660 rows x 7 columns]"
      ]
     },
     "execution_count": 55,
     "metadata": {},
     "output_type": "execute_result"
    }
   ],
   "source": [
    "matrix = pd.concat([matrix, test], ignore_index = True, sort=False, keys=cols)\n",
    "matrix.fillna(0, inplace = True)\n",
    "matrix"
   ]
  },
  {
   "cell_type": "code",
   "execution_count": 56,
   "id": "77309d84",
   "metadata": {
    "id": "77309d84",
    "outputId": "cdc66650-a3ad-41c7-e71e-3a0bd8f6c4f5"
   },
   "outputs": [
    {
     "name": "stdout",
     "output_type": "stream",
     "text": [
      "<class 'pandas.core.frame.DataFrame'>\n",
      "RangeIndex: 11098660 entries, 0 to 11098659\n",
      "Data columns (total 7 columns):\n",
      " #   Column            Dtype  \n",
      "---  ------            -----  \n",
      " 0   date_block_num    int64  \n",
      " 1   shop_id           int64  \n",
      " 2   item_id           int64  \n",
      " 3   city_id           float64\n",
      " 4   item_category_id  float64\n",
      " 5   type_id           float64\n",
      " 6   ID                float64\n",
      "dtypes: float64(4), int64(3)\n",
      "memory usage: 592.7 MB\n"
     ]
    }
   ],
   "source": [
    "matrix.info()"
   ]
  },
  {
   "cell_type": "code",
   "execution_count": 57,
   "id": "6dd7aa8c",
   "metadata": {
    "id": "6dd7aa8c"
   },
   "outputs": [],
   "source": [
    "matrix['ID'] = matrix['ID'].astype(np.int32)"
   ]
  },
  {
   "cell_type": "code",
   "execution_count": 58,
   "id": "8c23ecba",
   "metadata": {
    "id": "8c23ecba",
    "outputId": "10fcb0c9-fe05-46e6-b012-c05b179ca917"
   },
   "outputs": [
    {
     "data": {
      "text/html": [
       "<div>\n",
       "<style scoped>\n",
       "    .dataframe tbody tr th:only-of-type {\n",
       "        vertical-align: middle;\n",
       "    }\n",
       "\n",
       "    .dataframe tbody tr th {\n",
       "        vertical-align: top;\n",
       "    }\n",
       "\n",
       "    .dataframe thead th {\n",
       "        text-align: right;\n",
       "    }\n",
       "</style>\n",
       "<table border=\"1\" class=\"dataframe\">\n",
       "  <thead>\n",
       "    <tr style=\"text-align: right;\">\n",
       "      <th></th>\n",
       "      <th>date_block_num</th>\n",
       "      <th>shop_id</th>\n",
       "      <th>item_id</th>\n",
       "      <th>city_id</th>\n",
       "      <th>item_category_id</th>\n",
       "      <th>type_id</th>\n",
       "      <th>ID</th>\n",
       "    </tr>\n",
       "  </thead>\n",
       "  <tbody>\n",
       "    <tr>\n",
       "      <th>0</th>\n",
       "      <td>0</td>\n",
       "      <td>0</td>\n",
       "      <td>19</td>\n",
       "      <td>29.0</td>\n",
       "      <td>40.0</td>\n",
       "      <td>11.0</td>\n",
       "      <td>0</td>\n",
       "    </tr>\n",
       "    <tr>\n",
       "      <th>1</th>\n",
       "      <td>0</td>\n",
       "      <td>0</td>\n",
       "      <td>27</td>\n",
       "      <td>29.0</td>\n",
       "      <td>19.0</td>\n",
       "      <td>5.0</td>\n",
       "      <td>0</td>\n",
       "    </tr>\n",
       "    <tr>\n",
       "      <th>2</th>\n",
       "      <td>0</td>\n",
       "      <td>0</td>\n",
       "      <td>28</td>\n",
       "      <td>29.0</td>\n",
       "      <td>30.0</td>\n",
       "      <td>8.0</td>\n",
       "      <td>0</td>\n",
       "    </tr>\n",
       "    <tr>\n",
       "      <th>3</th>\n",
       "      <td>0</td>\n",
       "      <td>0</td>\n",
       "      <td>29</td>\n",
       "      <td>29.0</td>\n",
       "      <td>23.0</td>\n",
       "      <td>5.0</td>\n",
       "      <td>0</td>\n",
       "    </tr>\n",
       "    <tr>\n",
       "      <th>4</th>\n",
       "      <td>0</td>\n",
       "      <td>0</td>\n",
       "      <td>32</td>\n",
       "      <td>29.0</td>\n",
       "      <td>40.0</td>\n",
       "      <td>11.0</td>\n",
       "      <td>0</td>\n",
       "    </tr>\n",
       "  </tbody>\n",
       "</table>\n",
       "</div>"
      ],
      "text/plain": [
       "   date_block_num  shop_id  item_id  city_id  item_category_id  type_id  ID\n",
       "0               0        0       19     29.0              40.0     11.0   0\n",
       "1               0        0       27     29.0              19.0      5.0   0\n",
       "2               0        0       28     29.0              30.0      8.0   0\n",
       "3               0        0       29     29.0              23.0      5.0   0\n",
       "4               0        0       32     29.0              40.0     11.0   0"
      ]
     },
     "execution_count": 58,
     "metadata": {},
     "output_type": "execute_result"
    }
   ],
   "source": [
    "matrix.head()"
   ]
  },
  {
   "cell_type": "code",
   "execution_count": 59,
   "id": "61fbf2f3",
   "metadata": {
    "id": "61fbf2f3"
   },
   "outputs": [
    {
     "ename": "KeyError",
     "evalue": "'item_category_id'",
     "output_type": "error",
     "traceback": [
      "\u001b[1;31m---------------------------------------------------------------------------\u001b[0m",
      "\u001b[1;31mKeyError\u001b[0m                                  Traceback (most recent call last)",
      "\u001b[1;32m~\\AppData\\Local\\Temp/ipykernel_8036/2496166745.py\u001b[0m in \u001b[0;36m<module>\u001b[1;34m\u001b[0m\n\u001b[0;32m      1\u001b[0m \u001b[0mmatrix\u001b[0m \u001b[1;33m=\u001b[0m \u001b[0mpd\u001b[0m\u001b[1;33m.\u001b[0m\u001b[0mmerge\u001b[0m\u001b[1;33m(\u001b[0m\u001b[0mmatrix\u001b[0m\u001b[1;33m,\u001b[0m \u001b[0mshops\u001b[0m\u001b[1;33m,\u001b[0m \u001b[0mon\u001b[0m\u001b[1;33m=\u001b[0m\u001b[1;33m[\u001b[0m\u001b[1;34m'shop_id'\u001b[0m\u001b[1;33m]\u001b[0m\u001b[1;33m,\u001b[0m \u001b[0mhow\u001b[0m\u001b[1;33m=\u001b[0m\u001b[1;34m'left'\u001b[0m\u001b[1;33m)\u001b[0m \u001b[1;31m# 'city_id' 추가 됨\u001b[0m\u001b[1;33m\u001b[0m\u001b[1;33m\u001b[0m\u001b[0m\n\u001b[0;32m      2\u001b[0m \u001b[0mmatrix\u001b[0m\u001b[1;33m=\u001b[0m \u001b[0mpd\u001b[0m\u001b[1;33m.\u001b[0m\u001b[0mmerge\u001b[0m\u001b[1;33m(\u001b[0m\u001b[0mmatrix\u001b[0m\u001b[1;33m,\u001b[0m \u001b[0mitems\u001b[0m\u001b[1;33m,\u001b[0m \u001b[0mon\u001b[0m\u001b[1;33m=\u001b[0m\u001b[1;33m[\u001b[0m\u001b[1;34m'item_id'\u001b[0m\u001b[1;33m]\u001b[0m\u001b[1;33m,\u001b[0m \u001b[0mhow\u001b[0m\u001b[1;33m=\u001b[0m\u001b[1;34m'left'\u001b[0m\u001b[1;33m)\u001b[0m\u001b[1;33m\u001b[0m\u001b[1;33m\u001b[0m\u001b[0m\n\u001b[1;32m----> 3\u001b[1;33m \u001b[0mmatrix\u001b[0m\u001b[1;33m=\u001b[0m \u001b[0mpd\u001b[0m\u001b[1;33m.\u001b[0m\u001b[0mmerge\u001b[0m\u001b[1;33m(\u001b[0m\u001b[0mmatrix\u001b[0m\u001b[1;33m,\u001b[0m \u001b[0mitem_categories\u001b[0m\u001b[1;33m,\u001b[0m \u001b[0mon\u001b[0m\u001b[1;33m=\u001b[0m\u001b[1;33m[\u001b[0m\u001b[1;34m'item_category_id'\u001b[0m\u001b[1;33m]\u001b[0m\u001b[1;33m,\u001b[0m \u001b[0mhow\u001b[0m\u001b[1;33m=\u001b[0m\u001b[1;34m'left'\u001b[0m\u001b[1;33m)\u001b[0m \u001b[1;31m# 'item_category_id', 'type_id' 추가 됨\u001b[0m\u001b[1;33m\u001b[0m\u001b[1;33m\u001b[0m\u001b[0m\n\u001b[0m\u001b[0;32m      4\u001b[0m \u001b[0mmatrix\u001b[0m\u001b[1;33m[\u001b[0m\u001b[1;34m'city_id'\u001b[0m\u001b[1;33m]\u001b[0m \u001b[1;33m=\u001b[0m \u001b[0mmatrix\u001b[0m\u001b[1;33m[\u001b[0m\u001b[1;34m'city_id'\u001b[0m\u001b[1;33m]\u001b[0m\u001b[1;33m.\u001b[0m\u001b[0mastype\u001b[0m\u001b[1;33m(\u001b[0m\u001b[0mnp\u001b[0m\u001b[1;33m.\u001b[0m\u001b[0mint8\u001b[0m\u001b[1;33m)\u001b[0m\u001b[1;33m\u001b[0m\u001b[1;33m\u001b[0m\u001b[0m\n\u001b[0;32m      5\u001b[0m \u001b[0mmatrix\u001b[0m\u001b[1;33m[\u001b[0m\u001b[1;34m'item_category_id'\u001b[0m\u001b[1;33m]\u001b[0m \u001b[1;33m=\u001b[0m \u001b[0mmatrix\u001b[0m\u001b[1;33m[\u001b[0m\u001b[1;34m'item_category_id'\u001b[0m\u001b[1;33m]\u001b[0m\u001b[1;33m.\u001b[0m\u001b[0mastype\u001b[0m\u001b[1;33m(\u001b[0m\u001b[0mnp\u001b[0m\u001b[1;33m.\u001b[0m\u001b[0mint8\u001b[0m\u001b[1;33m)\u001b[0m\u001b[1;33m\u001b[0m\u001b[1;33m\u001b[0m\u001b[0m\n",
      "\u001b[1;32mC:\\ProgramData\\Anaconda3\\lib\\site-packages\\pandas\\core\\reshape\\merge.py\u001b[0m in \u001b[0;36mmerge\u001b[1;34m(left, right, how, on, left_on, right_on, left_index, right_index, sort, suffixes, copy, indicator, validate)\u001b[0m\n\u001b[0;32m    104\u001b[0m     \u001b[0mvalidate\u001b[0m\u001b[1;33m:\u001b[0m \u001b[0mstr\u001b[0m \u001b[1;33m|\u001b[0m \u001b[1;32mNone\u001b[0m \u001b[1;33m=\u001b[0m \u001b[1;32mNone\u001b[0m\u001b[1;33m,\u001b[0m\u001b[1;33m\u001b[0m\u001b[1;33m\u001b[0m\u001b[0m\n\u001b[0;32m    105\u001b[0m ) -> DataFrame:\n\u001b[1;32m--> 106\u001b[1;33m     op = _MergeOperation(\n\u001b[0m\u001b[0;32m    107\u001b[0m         \u001b[0mleft\u001b[0m\u001b[1;33m,\u001b[0m\u001b[1;33m\u001b[0m\u001b[1;33m\u001b[0m\u001b[0m\n\u001b[0;32m    108\u001b[0m         \u001b[0mright\u001b[0m\u001b[1;33m,\u001b[0m\u001b[1;33m\u001b[0m\u001b[1;33m\u001b[0m\u001b[0m\n",
      "\u001b[1;32mC:\\ProgramData\\Anaconda3\\lib\\site-packages\\pandas\\core\\reshape\\merge.py\u001b[0m in \u001b[0;36m__init__\u001b[1;34m(self, left, right, how, on, left_on, right_on, axis, left_index, right_index, sort, suffixes, copy, indicator, validate)\u001b[0m\n\u001b[0;32m    697\u001b[0m             \u001b[0mself\u001b[0m\u001b[1;33m.\u001b[0m\u001b[0mright_join_keys\u001b[0m\u001b[1;33m,\u001b[0m\u001b[1;33m\u001b[0m\u001b[1;33m\u001b[0m\u001b[0m\n\u001b[0;32m    698\u001b[0m             \u001b[0mself\u001b[0m\u001b[1;33m.\u001b[0m\u001b[0mjoin_names\u001b[0m\u001b[1;33m,\u001b[0m\u001b[1;33m\u001b[0m\u001b[1;33m\u001b[0m\u001b[0m\n\u001b[1;32m--> 699\u001b[1;33m         ) = self._get_merge_keys()\n\u001b[0m\u001b[0;32m    700\u001b[0m \u001b[1;33m\u001b[0m\u001b[0m\n\u001b[0;32m    701\u001b[0m         \u001b[1;31m# validate the merge keys dtypes. We may need to coerce\u001b[0m\u001b[1;33m\u001b[0m\u001b[1;33m\u001b[0m\u001b[0m\n",
      "\u001b[1;32mC:\\ProgramData\\Anaconda3\\lib\\site-packages\\pandas\\core\\reshape\\merge.py\u001b[0m in \u001b[0;36m_get_merge_keys\u001b[1;34m(self)\u001b[0m\n\u001b[0;32m   1107\u001b[0m                         \u001b[0mright_keys\u001b[0m\u001b[1;33m.\u001b[0m\u001b[0mappend\u001b[0m\u001b[1;33m(\u001b[0m\u001b[0mrk\u001b[0m\u001b[1;33m)\u001b[0m\u001b[1;33m\u001b[0m\u001b[1;33m\u001b[0m\u001b[0m\n\u001b[0;32m   1108\u001b[0m                     \u001b[1;32mif\u001b[0m \u001b[0mlk\u001b[0m \u001b[1;32mis\u001b[0m \u001b[1;32mnot\u001b[0m \u001b[1;32mNone\u001b[0m\u001b[1;33m:\u001b[0m\u001b[1;33m\u001b[0m\u001b[1;33m\u001b[0m\u001b[0m\n\u001b[1;32m-> 1109\u001b[1;33m                         \u001b[0mleft_keys\u001b[0m\u001b[1;33m.\u001b[0m\u001b[0mappend\u001b[0m\u001b[1;33m(\u001b[0m\u001b[0mleft\u001b[0m\u001b[1;33m.\u001b[0m\u001b[0m_get_label_or_level_values\u001b[0m\u001b[1;33m(\u001b[0m\u001b[0mlk\u001b[0m\u001b[1;33m)\u001b[0m\u001b[1;33m)\u001b[0m\u001b[1;33m\u001b[0m\u001b[1;33m\u001b[0m\u001b[0m\n\u001b[0m\u001b[0;32m   1110\u001b[0m                         \u001b[0mjoin_names\u001b[0m\u001b[1;33m.\u001b[0m\u001b[0mappend\u001b[0m\u001b[1;33m(\u001b[0m\u001b[0mlk\u001b[0m\u001b[1;33m)\u001b[0m\u001b[1;33m\u001b[0m\u001b[1;33m\u001b[0m\u001b[0m\n\u001b[0;32m   1111\u001b[0m                     \u001b[1;32melse\u001b[0m\u001b[1;33m:\u001b[0m\u001b[1;33m\u001b[0m\u001b[1;33m\u001b[0m\u001b[0m\n",
      "\u001b[1;32mC:\\ProgramData\\Anaconda3\\lib\\site-packages\\pandas\\core\\generic.py\u001b[0m in \u001b[0;36m_get_label_or_level_values\u001b[1;34m(self, key, axis)\u001b[0m\n\u001b[0;32m   1777\u001b[0m             \u001b[0mvalues\u001b[0m \u001b[1;33m=\u001b[0m \u001b[0mself\u001b[0m\u001b[1;33m.\u001b[0m\u001b[0maxes\u001b[0m\u001b[1;33m[\u001b[0m\u001b[0maxis\u001b[0m\u001b[1;33m]\u001b[0m\u001b[1;33m.\u001b[0m\u001b[0mget_level_values\u001b[0m\u001b[1;33m(\u001b[0m\u001b[0mkey\u001b[0m\u001b[1;33m)\u001b[0m\u001b[1;33m.\u001b[0m\u001b[0m_values\u001b[0m\u001b[1;33m\u001b[0m\u001b[1;33m\u001b[0m\u001b[0m\n\u001b[0;32m   1778\u001b[0m         \u001b[1;32melse\u001b[0m\u001b[1;33m:\u001b[0m\u001b[1;33m\u001b[0m\u001b[1;33m\u001b[0m\u001b[0m\n\u001b[1;32m-> 1779\u001b[1;33m             \u001b[1;32mraise\u001b[0m \u001b[0mKeyError\u001b[0m\u001b[1;33m(\u001b[0m\u001b[0mkey\u001b[0m\u001b[1;33m)\u001b[0m\u001b[1;33m\u001b[0m\u001b[1;33m\u001b[0m\u001b[0m\n\u001b[0m\u001b[0;32m   1780\u001b[0m \u001b[1;33m\u001b[0m\u001b[0m\n\u001b[0;32m   1781\u001b[0m         \u001b[1;31m# Check for duplicates\u001b[0m\u001b[1;33m\u001b[0m\u001b[1;33m\u001b[0m\u001b[0m\n",
      "\u001b[1;31mKeyError\u001b[0m: 'item_category_id'"
     ]
    }
   ],
   "source": [
    "matrix = pd.merge(matrix, shops, on=['shop_id'], how='left') # 'city_id' 추가 됨\n",
    "matrix= pd.merge(matrix, items, on=['item_id'], how='left')\n",
    "matrix= pd.merge(matrix, item_categories, on=['item_category_id'], how='left') # 'item_category_id', 'type_id' 추가 됨\n",
    "matrix['city_id'] = matrix['city_id'].astype(np.int8)\n",
    "matrix['item_category_id'] = matrix['item_category_id'].astype(np.int8)\n",
    "matrix['type_id'] = matrix['type_id'].astype(np.int8)\n",
    "\n",
    "# 결과적으로 위의 matrix1 데이터에 3개 컬럼 추가"
   ]
  },
  {
   "cell_type": "code",
   "execution_count": 60,
   "id": "73b766a9",
   "metadata": {
    "colab": {
     "base_uri": "https://localhost:8080/",
     "height": 206
    },
    "executionInfo": {
     "elapsed": 20,
     "status": "ok",
     "timestamp": 1645320807367,
     "user": {
      "displayName": "남궁정후",
      "photoUrl": "https://lh3.googleusercontent.com/a/default-user=s64",
      "userId": "00760625701380821498"
     },
     "user_tz": -540
    },
    "id": "73b766a9",
    "outputId": "1cac439c-a5a1-41e9-d7e9-074bf959a94f"
   },
   "outputs": [
    {
     "data": {
      "text/html": [
       "<div>\n",
       "<style scoped>\n",
       "    .dataframe tbody tr th:only-of-type {\n",
       "        vertical-align: middle;\n",
       "    }\n",
       "\n",
       "    .dataframe tbody tr th {\n",
       "        vertical-align: top;\n",
       "    }\n",
       "\n",
       "    .dataframe thead th {\n",
       "        text-align: right;\n",
       "    }\n",
       "</style>\n",
       "<table border=\"1\" class=\"dataframe\">\n",
       "  <thead>\n",
       "    <tr style=\"text-align: right;\">\n",
       "      <th></th>\n",
       "      <th>date_block_num</th>\n",
       "      <th>shop_id</th>\n",
       "      <th>item_id</th>\n",
       "      <th>city_id_x</th>\n",
       "      <th>item_category_id_x</th>\n",
       "      <th>type_id</th>\n",
       "      <th>ID</th>\n",
       "      <th>city_id_y</th>\n",
       "      <th>item_category_id_y</th>\n",
       "    </tr>\n",
       "  </thead>\n",
       "  <tbody>\n",
       "    <tr>\n",
       "      <th>0</th>\n",
       "      <td>0</td>\n",
       "      <td>0</td>\n",
       "      <td>19</td>\n",
       "      <td>29.0</td>\n",
       "      <td>40.0</td>\n",
       "      <td>11.0</td>\n",
       "      <td>0</td>\n",
       "      <td>29</td>\n",
       "      <td>40</td>\n",
       "    </tr>\n",
       "    <tr>\n",
       "      <th>1</th>\n",
       "      <td>0</td>\n",
       "      <td>0</td>\n",
       "      <td>27</td>\n",
       "      <td>29.0</td>\n",
       "      <td>19.0</td>\n",
       "      <td>5.0</td>\n",
       "      <td>0</td>\n",
       "      <td>29</td>\n",
       "      <td>19</td>\n",
       "    </tr>\n",
       "    <tr>\n",
       "      <th>2</th>\n",
       "      <td>0</td>\n",
       "      <td>0</td>\n",
       "      <td>28</td>\n",
       "      <td>29.0</td>\n",
       "      <td>30.0</td>\n",
       "      <td>8.0</td>\n",
       "      <td>0</td>\n",
       "      <td>29</td>\n",
       "      <td>30</td>\n",
       "    </tr>\n",
       "    <tr>\n",
       "      <th>3</th>\n",
       "      <td>0</td>\n",
       "      <td>0</td>\n",
       "      <td>29</td>\n",
       "      <td>29.0</td>\n",
       "      <td>23.0</td>\n",
       "      <td>5.0</td>\n",
       "      <td>0</td>\n",
       "      <td>29</td>\n",
       "      <td>23</td>\n",
       "    </tr>\n",
       "    <tr>\n",
       "      <th>4</th>\n",
       "      <td>0</td>\n",
       "      <td>0</td>\n",
       "      <td>32</td>\n",
       "      <td>29.0</td>\n",
       "      <td>40.0</td>\n",
       "      <td>11.0</td>\n",
       "      <td>0</td>\n",
       "      <td>29</td>\n",
       "      <td>40</td>\n",
       "    </tr>\n",
       "  </tbody>\n",
       "</table>\n",
       "</div>"
      ],
      "text/plain": [
       "   date_block_num  shop_id  item_id  city_id_x  item_category_id_x  type_id  \\\n",
       "0               0        0       19       29.0                40.0     11.0   \n",
       "1               0        0       27       29.0                19.0      5.0   \n",
       "2               0        0       28       29.0                30.0      8.0   \n",
       "3               0        0       29       29.0                23.0      5.0   \n",
       "4               0        0       32       29.0                40.0     11.0   \n",
       "\n",
       "   ID  city_id_y  item_category_id_y  \n",
       "0   0         29                  40  \n",
       "1   0         29                  19  \n",
       "2   0         29                  30  \n",
       "3   0         29                  23  \n",
       "4   0         29                  40  "
      ]
     },
     "execution_count": 60,
     "metadata": {},
     "output_type": "execute_result"
    }
   ],
   "source": [
    "matrix.head()"
   ]
  },
  {
   "cell_type": "code",
   "execution_count": 61,
   "id": "43fd2cfb",
   "metadata": {
    "id": "43fd2cfb"
   },
   "outputs": [],
   "source": [
    "matrix['date_block_num'] = matrix['date_block_num'].astype(np.int8)\n",
    "matrix['shop_id'] = matrix['shop_id'].astype(np.int8)"
   ]
  },
  {
   "cell_type": "code",
   "execution_count": 62,
   "id": "3615f56c",
   "metadata": {
    "id": "3615f56c",
    "outputId": "fd30ed3e-66f1-4cdc-8d06-6f4defa77612"
   },
   "outputs": [
    {
     "data": {
      "text/html": [
       "<div>\n",
       "<style scoped>\n",
       "    .dataframe tbody tr th:only-of-type {\n",
       "        vertical-align: middle;\n",
       "    }\n",
       "\n",
       "    .dataframe tbody tr th {\n",
       "        vertical-align: top;\n",
       "    }\n",
       "\n",
       "    .dataframe thead th {\n",
       "        text-align: right;\n",
       "    }\n",
       "</style>\n",
       "<table border=\"1\" class=\"dataframe\">\n",
       "  <thead>\n",
       "    <tr style=\"text-align: right;\">\n",
       "      <th></th>\n",
       "      <th>date_block_num</th>\n",
       "      <th>shop_id</th>\n",
       "      <th>item_id</th>\n",
       "      <th>city_id_x</th>\n",
       "      <th>item_category_id_x</th>\n",
       "      <th>type_id</th>\n",
       "      <th>ID</th>\n",
       "      <th>city_id_y</th>\n",
       "      <th>item_category_id_y</th>\n",
       "    </tr>\n",
       "  </thead>\n",
       "  <tbody>\n",
       "    <tr>\n",
       "      <th>0</th>\n",
       "      <td>0</td>\n",
       "      <td>0</td>\n",
       "      <td>19</td>\n",
       "      <td>29.0</td>\n",
       "      <td>40.0</td>\n",
       "      <td>11.0</td>\n",
       "      <td>0</td>\n",
       "      <td>29</td>\n",
       "      <td>40</td>\n",
       "    </tr>\n",
       "    <tr>\n",
       "      <th>1</th>\n",
       "      <td>0</td>\n",
       "      <td>0</td>\n",
       "      <td>27</td>\n",
       "      <td>29.0</td>\n",
       "      <td>19.0</td>\n",
       "      <td>5.0</td>\n",
       "      <td>0</td>\n",
       "      <td>29</td>\n",
       "      <td>19</td>\n",
       "    </tr>\n",
       "    <tr>\n",
       "      <th>2</th>\n",
       "      <td>0</td>\n",
       "      <td>0</td>\n",
       "      <td>28</td>\n",
       "      <td>29.0</td>\n",
       "      <td>30.0</td>\n",
       "      <td>8.0</td>\n",
       "      <td>0</td>\n",
       "      <td>29</td>\n",
       "      <td>30</td>\n",
       "    </tr>\n",
       "    <tr>\n",
       "      <th>3</th>\n",
       "      <td>0</td>\n",
       "      <td>0</td>\n",
       "      <td>29</td>\n",
       "      <td>29.0</td>\n",
       "      <td>23.0</td>\n",
       "      <td>5.0</td>\n",
       "      <td>0</td>\n",
       "      <td>29</td>\n",
       "      <td>23</td>\n",
       "    </tr>\n",
       "    <tr>\n",
       "      <th>4</th>\n",
       "      <td>0</td>\n",
       "      <td>0</td>\n",
       "      <td>32</td>\n",
       "      <td>29.0</td>\n",
       "      <td>40.0</td>\n",
       "      <td>11.0</td>\n",
       "      <td>0</td>\n",
       "      <td>29</td>\n",
       "      <td>40</td>\n",
       "    </tr>\n",
       "    <tr>\n",
       "      <th>...</th>\n",
       "      <td>...</td>\n",
       "      <td>...</td>\n",
       "      <td>...</td>\n",
       "      <td>...</td>\n",
       "      <td>...</td>\n",
       "      <td>...</td>\n",
       "      <td>...</td>\n",
       "      <td>...</td>\n",
       "      <td>...</td>\n",
       "    </tr>\n",
       "    <tr>\n",
       "      <th>11098655</th>\n",
       "      <td>34</td>\n",
       "      <td>45</td>\n",
       "      <td>18454</td>\n",
       "      <td>0.0</td>\n",
       "      <td>0.0</td>\n",
       "      <td>0.0</td>\n",
       "      <td>214195</td>\n",
       "      <td>20</td>\n",
       "      <td>55</td>\n",
       "    </tr>\n",
       "    <tr>\n",
       "      <th>11098656</th>\n",
       "      <td>34</td>\n",
       "      <td>45</td>\n",
       "      <td>16188</td>\n",
       "      <td>0.0</td>\n",
       "      <td>0.0</td>\n",
       "      <td>0.0</td>\n",
       "      <td>214196</td>\n",
       "      <td>20</td>\n",
       "      <td>64</td>\n",
       "    </tr>\n",
       "    <tr>\n",
       "      <th>11098657</th>\n",
       "      <td>34</td>\n",
       "      <td>45</td>\n",
       "      <td>15757</td>\n",
       "      <td>0.0</td>\n",
       "      <td>0.0</td>\n",
       "      <td>0.0</td>\n",
       "      <td>214197</td>\n",
       "      <td>20</td>\n",
       "      <td>55</td>\n",
       "    </tr>\n",
       "    <tr>\n",
       "      <th>11098658</th>\n",
       "      <td>34</td>\n",
       "      <td>45</td>\n",
       "      <td>19648</td>\n",
       "      <td>0.0</td>\n",
       "      <td>0.0</td>\n",
       "      <td>0.0</td>\n",
       "      <td>214198</td>\n",
       "      <td>20</td>\n",
       "      <td>40</td>\n",
       "    </tr>\n",
       "    <tr>\n",
       "      <th>11098659</th>\n",
       "      <td>34</td>\n",
       "      <td>45</td>\n",
       "      <td>969</td>\n",
       "      <td>0.0</td>\n",
       "      <td>0.0</td>\n",
       "      <td>0.0</td>\n",
       "      <td>214199</td>\n",
       "      <td>20</td>\n",
       "      <td>37</td>\n",
       "    </tr>\n",
       "  </tbody>\n",
       "</table>\n",
       "<p>11098660 rows × 9 columns</p>\n",
       "</div>"
      ],
      "text/plain": [
       "          date_block_num  shop_id  item_id  city_id_x  item_category_id_x  \\\n",
       "0                      0        0       19       29.0                40.0   \n",
       "1                      0        0       27       29.0                19.0   \n",
       "2                      0        0       28       29.0                30.0   \n",
       "3                      0        0       29       29.0                23.0   \n",
       "4                      0        0       32       29.0                40.0   \n",
       "...                  ...      ...      ...        ...                 ...   \n",
       "11098655              34       45    18454        0.0                 0.0   \n",
       "11098656              34       45    16188        0.0                 0.0   \n",
       "11098657              34       45    15757        0.0                 0.0   \n",
       "11098658              34       45    19648        0.0                 0.0   \n",
       "11098659              34       45      969        0.0                 0.0   \n",
       "\n",
       "          type_id      ID  city_id_y  item_category_id_y  \n",
       "0            11.0       0         29                  40  \n",
       "1             5.0       0         29                  19  \n",
       "2             8.0       0         29                  30  \n",
       "3             5.0       0         29                  23  \n",
       "4            11.0       0         29                  40  \n",
       "...           ...     ...        ...                 ...  \n",
       "11098655      0.0  214195         20                  55  \n",
       "11098656      0.0  214196         20                  64  \n",
       "11098657      0.0  214197         20                  55  \n",
       "11098658      0.0  214198         20                  40  \n",
       "11098659      0.0  214199         20                  37  \n",
       "\n",
       "[11098660 rows x 9 columns]"
      ]
     },
     "execution_count": 62,
     "metadata": {},
     "output_type": "execute_result"
    }
   ],
   "source": [
    "matrix"
   ]
  },
  {
   "cell_type": "markdown",
   "id": "ec9c23f9",
   "metadata": {
    "id": "ec9c23f9"
   },
   "source": [
    "- 월별 매출액(item_cnt_day)데이터 생성 및 matrix 데이터프레임에 merge"
   ]
  },
  {
   "cell_type": "code",
   "execution_count": 63,
   "id": "8efeaf25",
   "metadata": {
    "colab": {
     "base_uri": "https://localhost:8080/",
     "height": 268
    },
    "executionInfo": {
     "elapsed": 885,
     "status": "ok",
     "timestamp": 1645320808235,
     "user": {
      "displayName": "남궁정후",
      "photoUrl": "https://lh3.googleusercontent.com/a/default-user=s64",
      "userId": "00760625701380821498"
     },
     "user_tz": -540
    },
    "id": "8efeaf25",
    "outputId": "3f66a7ce-b985-422d-d2dd-b1b25ca93ce3"
   },
   "outputs": [
    {
     "data": {
      "text/html": [
       "<div>\n",
       "<style scoped>\n",
       "    .dataframe tbody tr th:only-of-type {\n",
       "        vertical-align: middle;\n",
       "    }\n",
       "\n",
       "    .dataframe tbody tr th {\n",
       "        vertical-align: top;\n",
       "    }\n",
       "\n",
       "    .dataframe thead tr th {\n",
       "        text-align: left;\n",
       "    }\n",
       "\n",
       "    .dataframe thead tr:last-of-type th {\n",
       "        text-align: right;\n",
       "    }\n",
       "</style>\n",
       "<table border=\"1\" class=\"dataframe\">\n",
       "  <thead>\n",
       "    <tr>\n",
       "      <th></th>\n",
       "      <th></th>\n",
       "      <th></th>\n",
       "      <th>item_cnt_day</th>\n",
       "    </tr>\n",
       "    <tr>\n",
       "      <th></th>\n",
       "      <th></th>\n",
       "      <th></th>\n",
       "      <th>sum</th>\n",
       "    </tr>\n",
       "    <tr>\n",
       "      <th>date_block_num</th>\n",
       "      <th>shop_id</th>\n",
       "      <th>item_id</th>\n",
       "      <th></th>\n",
       "    </tr>\n",
       "  </thead>\n",
       "  <tbody>\n",
       "    <tr>\n",
       "      <th rowspan=\"5\" valign=\"top\">0</th>\n",
       "      <th rowspan=\"5\" valign=\"top\">0</th>\n",
       "      <th>32</th>\n",
       "      <td>6.0</td>\n",
       "    </tr>\n",
       "    <tr>\n",
       "      <th>33</th>\n",
       "      <td>3.0</td>\n",
       "    </tr>\n",
       "    <tr>\n",
       "      <th>35</th>\n",
       "      <td>1.0</td>\n",
       "    </tr>\n",
       "    <tr>\n",
       "      <th>43</th>\n",
       "      <td>1.0</td>\n",
       "    </tr>\n",
       "    <tr>\n",
       "      <th>51</th>\n",
       "      <td>2.0</td>\n",
       "    </tr>\n",
       "  </tbody>\n",
       "</table>\n",
       "</div>"
      ],
      "text/plain": [
       "                               item_cnt_day\n",
       "                                        sum\n",
       "date_block_num shop_id item_id             \n",
       "0              0       32               6.0\n",
       "                       33               3.0\n",
       "                       35               1.0\n",
       "                       43               1.0\n",
       "                       51               2.0"
      ]
     },
     "execution_count": 63,
     "metadata": {},
     "output_type": "execute_result"
    }
   ],
   "source": [
    "# 월별 매출액\n",
    "# 월별, 상점별, 아이템별을 그룹화 하고, 일별 판매 개수('item_cnt_day')를 더해줌\n",
    "group = sales.groupby(['date_block_num', 'shop_id', 'item_id']).agg({'item_cnt_day': ['sum']})\n",
    "group.head()"
   ]
  },
  {
   "cell_type": "code",
   "execution_count": 64,
   "id": "19a750e3",
   "metadata": {
    "colab": {
     "base_uri": "https://localhost:8080/",
     "height": 206
    },
    "executionInfo": {
     "elapsed": 14,
     "status": "ok",
     "timestamp": 1645320808236,
     "user": {
      "displayName": "남궁정후",
      "photoUrl": "https://lh3.googleusercontent.com/a/default-user=s64",
      "userId": "00760625701380821498"
     },
     "user_tz": -540
    },
    "id": "19a750e3",
    "outputId": "1f732eb7-96a6-4ff1-83cb-4c04e6f4d29e"
   },
   "outputs": [
    {
     "data": {
      "text/html": [
       "<div>\n",
       "<style scoped>\n",
       "    .dataframe tbody tr th:only-of-type {\n",
       "        vertical-align: middle;\n",
       "    }\n",
       "\n",
       "    .dataframe tbody tr th {\n",
       "        vertical-align: top;\n",
       "    }\n",
       "\n",
       "    .dataframe thead th {\n",
       "        text-align: right;\n",
       "    }\n",
       "</style>\n",
       "<table border=\"1\" class=\"dataframe\">\n",
       "  <thead>\n",
       "    <tr style=\"text-align: right;\">\n",
       "      <th></th>\n",
       "      <th>date_block_num</th>\n",
       "      <th>shop_id</th>\n",
       "      <th>item_id</th>\n",
       "      <th>item_cnt_month</th>\n",
       "    </tr>\n",
       "  </thead>\n",
       "  <tbody>\n",
       "    <tr>\n",
       "      <th>0</th>\n",
       "      <td>0</td>\n",
       "      <td>0</td>\n",
       "      <td>32</td>\n",
       "      <td>6.0</td>\n",
       "    </tr>\n",
       "    <tr>\n",
       "      <th>1</th>\n",
       "      <td>0</td>\n",
       "      <td>0</td>\n",
       "      <td>33</td>\n",
       "      <td>3.0</td>\n",
       "    </tr>\n",
       "    <tr>\n",
       "      <th>2</th>\n",
       "      <td>0</td>\n",
       "      <td>0</td>\n",
       "      <td>35</td>\n",
       "      <td>1.0</td>\n",
       "    </tr>\n",
       "    <tr>\n",
       "      <th>3</th>\n",
       "      <td>0</td>\n",
       "      <td>0</td>\n",
       "      <td>43</td>\n",
       "      <td>1.0</td>\n",
       "    </tr>\n",
       "    <tr>\n",
       "      <th>4</th>\n",
       "      <td>0</td>\n",
       "      <td>0</td>\n",
       "      <td>51</td>\n",
       "      <td>2.0</td>\n",
       "    </tr>\n",
       "  </tbody>\n",
       "</table>\n",
       "</div>"
      ],
      "text/plain": [
       "   date_block_num  shop_id  item_id  item_cnt_month\n",
       "0               0        0       32             6.0\n",
       "1               0        0       33             3.0\n",
       "2               0        0       35             1.0\n",
       "3               0        0       43             1.0\n",
       "4               0        0       51             2.0"
      ]
     },
     "execution_count": 64,
     "metadata": {},
     "output_type": "execute_result"
    }
   ],
   "source": [
    "group.columns = ['item_cnt_month']\n",
    "group.reset_index(inplace=True)\n",
    "group.head()"
   ]
  },
  {
   "cell_type": "code",
   "execution_count": 65,
   "id": "53faabad",
   "metadata": {
    "colab": {
     "base_uri": "https://localhost:8080/",
     "height": 206
    },
    "executionInfo": {
     "elapsed": 6868,
     "status": "ok",
     "timestamp": 1645320815094,
     "user": {
      "displayName": "남궁정후",
      "photoUrl": "https://lh3.googleusercontent.com/a/default-user=s64",
      "userId": "00760625701380821498"
     },
     "user_tz": -540
    },
    "id": "53faabad",
    "outputId": "77ff4f0f-a967-4f54-e47b-c25073287ada"
   },
   "outputs": [
    {
     "data": {
      "text/html": [
       "<div>\n",
       "<style scoped>\n",
       "    .dataframe tbody tr th:only-of-type {\n",
       "        vertical-align: middle;\n",
       "    }\n",
       "\n",
       "    .dataframe tbody tr th {\n",
       "        vertical-align: top;\n",
       "    }\n",
       "\n",
       "    .dataframe thead th {\n",
       "        text-align: right;\n",
       "    }\n",
       "</style>\n",
       "<table border=\"1\" class=\"dataframe\">\n",
       "  <thead>\n",
       "    <tr style=\"text-align: right;\">\n",
       "      <th></th>\n",
       "      <th>date_block_num</th>\n",
       "      <th>shop_id</th>\n",
       "      <th>item_id</th>\n",
       "      <th>city_id_x</th>\n",
       "      <th>item_category_id_x</th>\n",
       "      <th>type_id</th>\n",
       "      <th>ID</th>\n",
       "      <th>city_id_y</th>\n",
       "      <th>item_category_id_y</th>\n",
       "      <th>item_cnt_month</th>\n",
       "    </tr>\n",
       "  </thead>\n",
       "  <tbody>\n",
       "    <tr>\n",
       "      <th>0</th>\n",
       "      <td>0</td>\n",
       "      <td>0</td>\n",
       "      <td>19</td>\n",
       "      <td>29.0</td>\n",
       "      <td>40.0</td>\n",
       "      <td>11.0</td>\n",
       "      <td>0</td>\n",
       "      <td>29</td>\n",
       "      <td>40</td>\n",
       "      <td>NaN</td>\n",
       "    </tr>\n",
       "    <tr>\n",
       "      <th>1</th>\n",
       "      <td>0</td>\n",
       "      <td>0</td>\n",
       "      <td>27</td>\n",
       "      <td>29.0</td>\n",
       "      <td>19.0</td>\n",
       "      <td>5.0</td>\n",
       "      <td>0</td>\n",
       "      <td>29</td>\n",
       "      <td>19</td>\n",
       "      <td>NaN</td>\n",
       "    </tr>\n",
       "    <tr>\n",
       "      <th>2</th>\n",
       "      <td>0</td>\n",
       "      <td>0</td>\n",
       "      <td>28</td>\n",
       "      <td>29.0</td>\n",
       "      <td>30.0</td>\n",
       "      <td>8.0</td>\n",
       "      <td>0</td>\n",
       "      <td>29</td>\n",
       "      <td>30</td>\n",
       "      <td>NaN</td>\n",
       "    </tr>\n",
       "    <tr>\n",
       "      <th>3</th>\n",
       "      <td>0</td>\n",
       "      <td>0</td>\n",
       "      <td>29</td>\n",
       "      <td>29.0</td>\n",
       "      <td>23.0</td>\n",
       "      <td>5.0</td>\n",
       "      <td>0</td>\n",
       "      <td>29</td>\n",
       "      <td>23</td>\n",
       "      <td>NaN</td>\n",
       "    </tr>\n",
       "    <tr>\n",
       "      <th>4</th>\n",
       "      <td>0</td>\n",
       "      <td>0</td>\n",
       "      <td>32</td>\n",
       "      <td>29.0</td>\n",
       "      <td>40.0</td>\n",
       "      <td>11.0</td>\n",
       "      <td>0</td>\n",
       "      <td>29</td>\n",
       "      <td>40</td>\n",
       "      <td>6.0</td>\n",
       "    </tr>\n",
       "  </tbody>\n",
       "</table>\n",
       "</div>"
      ],
      "text/plain": [
       "   date_block_num  shop_id  item_id  city_id_x  item_category_id_x  type_id  \\\n",
       "0               0        0       19       29.0                40.0     11.0   \n",
       "1               0        0       27       29.0                19.0      5.0   \n",
       "2               0        0       28       29.0                30.0      8.0   \n",
       "3               0        0       29       29.0                23.0      5.0   \n",
       "4               0        0       32       29.0                40.0     11.0   \n",
       "\n",
       "   ID  city_id_y  item_category_id_y  item_cnt_month  \n",
       "0   0         29                  40             NaN  \n",
       "1   0         29                  19             NaN  \n",
       "2   0         29                  30             NaN  \n",
       "3   0         29                  23             NaN  \n",
       "4   0         29                  40             6.0  "
      ]
     },
     "execution_count": 65,
     "metadata": {},
     "output_type": "execute_result"
    }
   ],
   "source": [
    "# matrix 에 gorup데이터 merge 하여 컬럼을 붙임('item_cnt_month')\n",
    "matrix = pd.merge(matrix, group, how='left')\n",
    "matrix.head()\n",
    "# NaN 값은 판매 개수가 없다고 판단 -> 0으로 처리??"
   ]
  },
  {
   "cell_type": "code",
   "execution_count": 66,
   "id": "efaba845",
   "metadata": {},
   "outputs": [
    {
     "name": "stdout",
     "output_type": "stream",
     "text": [
      "<class 'pandas.core.frame.DataFrame'>\n",
      "Int64Index: 11098660 entries, 0 to 11098659\n",
      "Data columns (total 10 columns):\n",
      " #   Column              Dtype  \n",
      "---  ------              -----  \n",
      " 0   date_block_num      int8   \n",
      " 1   shop_id             int8   \n",
      " 2   item_id             int64  \n",
      " 3   city_id_x           float64\n",
      " 4   item_category_id_x  float64\n",
      " 5   type_id             float64\n",
      " 6   ID                  int32  \n",
      " 7   city_id_y           int32  \n",
      " 8   item_category_id_y  int64  \n",
      " 9   item_cnt_month      float64\n",
      "dtypes: float64(4), int32(2), int64(2), int8(2)\n",
      "memory usage: 698.6 MB\n"
     ]
    }
   ],
   "source": [
    "matrix.info()"
   ]
  },
  {
   "cell_type": "code",
   "execution_count": 67,
   "id": "d6d842f2",
   "metadata": {
    "colab": {
     "base_uri": "https://localhost:8080/",
     "height": 206
    },
    "executionInfo": {
     "elapsed": 501,
     "status": "ok",
     "timestamp": 1645320815578,
     "user": {
      "displayName": "남궁정후",
      "photoUrl": "https://lh3.googleusercontent.com/a/default-user=s64",
      "userId": "00760625701380821498"
     },
     "user_tz": -540
    },
    "id": "d6d842f2",
    "outputId": "b000e9de-8adb-48ab-faf5-1beaa2125aa0"
   },
   "outputs": [
    {
     "data": {
      "text/html": [
       "<div>\n",
       "<style scoped>\n",
       "    .dataframe tbody tr th:only-of-type {\n",
       "        vertical-align: middle;\n",
       "    }\n",
       "\n",
       "    .dataframe tbody tr th {\n",
       "        vertical-align: top;\n",
       "    }\n",
       "\n",
       "    .dataframe thead th {\n",
       "        text-align: right;\n",
       "    }\n",
       "</style>\n",
       "<table border=\"1\" class=\"dataframe\">\n",
       "  <thead>\n",
       "    <tr style=\"text-align: right;\">\n",
       "      <th></th>\n",
       "      <th>date_block_num</th>\n",
       "      <th>shop_id</th>\n",
       "      <th>item_id</th>\n",
       "      <th>city_id_x</th>\n",
       "      <th>item_category_id_x</th>\n",
       "      <th>type_id</th>\n",
       "      <th>ID</th>\n",
       "      <th>city_id_y</th>\n",
       "      <th>item_category_id_y</th>\n",
       "      <th>item_cnt_month</th>\n",
       "    </tr>\n",
       "  </thead>\n",
       "  <tbody>\n",
       "    <tr>\n",
       "      <th>0</th>\n",
       "      <td>0</td>\n",
       "      <td>0</td>\n",
       "      <td>19</td>\n",
       "      <td>29.0</td>\n",
       "      <td>40.0</td>\n",
       "      <td>11.0</td>\n",
       "      <td>0</td>\n",
       "      <td>29</td>\n",
       "      <td>40</td>\n",
       "      <td>0.0</td>\n",
       "    </tr>\n",
       "    <tr>\n",
       "      <th>1</th>\n",
       "      <td>0</td>\n",
       "      <td>0</td>\n",
       "      <td>27</td>\n",
       "      <td>29.0</td>\n",
       "      <td>19.0</td>\n",
       "      <td>5.0</td>\n",
       "      <td>0</td>\n",
       "      <td>29</td>\n",
       "      <td>19</td>\n",
       "      <td>0.0</td>\n",
       "    </tr>\n",
       "    <tr>\n",
       "      <th>2</th>\n",
       "      <td>0</td>\n",
       "      <td>0</td>\n",
       "      <td>28</td>\n",
       "      <td>29.0</td>\n",
       "      <td>30.0</td>\n",
       "      <td>8.0</td>\n",
       "      <td>0</td>\n",
       "      <td>29</td>\n",
       "      <td>30</td>\n",
       "      <td>0.0</td>\n",
       "    </tr>\n",
       "    <tr>\n",
       "      <th>3</th>\n",
       "      <td>0</td>\n",
       "      <td>0</td>\n",
       "      <td>29</td>\n",
       "      <td>29.0</td>\n",
       "      <td>23.0</td>\n",
       "      <td>5.0</td>\n",
       "      <td>0</td>\n",
       "      <td>29</td>\n",
       "      <td>23</td>\n",
       "      <td>0.0</td>\n",
       "    </tr>\n",
       "    <tr>\n",
       "      <th>4</th>\n",
       "      <td>0</td>\n",
       "      <td>0</td>\n",
       "      <td>32</td>\n",
       "      <td>29.0</td>\n",
       "      <td>40.0</td>\n",
       "      <td>11.0</td>\n",
       "      <td>0</td>\n",
       "      <td>29</td>\n",
       "      <td>40</td>\n",
       "      <td>6.0</td>\n",
       "    </tr>\n",
       "  </tbody>\n",
       "</table>\n",
       "</div>"
      ],
      "text/plain": [
       "   date_block_num  shop_id  item_id  city_id_x  item_category_id_x  type_id  \\\n",
       "0               0        0       19       29.0                40.0     11.0   \n",
       "1               0        0       27       29.0                19.0      5.0   \n",
       "2               0        0       28       29.0                30.0      8.0   \n",
       "3               0        0       29       29.0                23.0      5.0   \n",
       "4               0        0       32       29.0                40.0     11.0   \n",
       "\n",
       "   ID  city_id_y  item_category_id_y  item_cnt_month  \n",
       "0   0         29                  40             0.0  \n",
       "1   0         29                  19             0.0  \n",
       "2   0         29                  30             0.0  \n",
       "3   0         29                  23             0.0  \n",
       "4   0         29                  40             6.0  "
      ]
     },
     "execution_count": 67,
     "metadata": {},
     "output_type": "execute_result"
    }
   ],
   "source": [
    "# 결측값을 어떻게 처리 할 지 생각해보기!!!\n",
    "# 일단 0으로 처리\n",
    "matrix['item_cnt_month'] = (matrix['item_cnt_month'].fillna(0).astype(np.float16))\n",
    "matrix.head()"
   ]
  },
  {
   "cell_type": "markdown",
   "id": "5b7df678",
   "metadata": {
    "id": "5b7df678"
   },
   "source": [
    "- decjan 컬럼 생성 및 matrix 데이터프레임에 merge\n",
    "  - 판매량이 많은 연말과 연초 (12월, 1월) -> 1 / 나머지는 0으로 변환"
   ]
  },
  {
   "cell_type": "code",
   "execution_count": 68,
   "id": "183306b4",
   "metadata": {
    "colab": {
     "base_uri": "https://localhost:8080/",
     "height": 206
    },
    "executionInfo": {
     "elapsed": 19,
     "status": "ok",
     "timestamp": 1645320815579,
     "user": {
      "displayName": "남궁정후",
      "photoUrl": "https://lh3.googleusercontent.com/a/default-user=s64",
      "userId": "00760625701380821498"
     },
     "user_tz": -540
    },
    "id": "183306b4",
    "outputId": "98b1de18-f577-4f1e-c36f-9f3cc638db51"
   },
   "outputs": [
    {
     "data": {
      "text/html": [
       "<div>\n",
       "<style scoped>\n",
       "    .dataframe tbody tr th:only-of-type {\n",
       "        vertical-align: middle;\n",
       "    }\n",
       "\n",
       "    .dataframe tbody tr th {\n",
       "        vertical-align: top;\n",
       "    }\n",
       "\n",
       "    .dataframe thead th {\n",
       "        text-align: right;\n",
       "    }\n",
       "</style>\n",
       "<table border=\"1\" class=\"dataframe\">\n",
       "  <thead>\n",
       "    <tr style=\"text-align: right;\">\n",
       "      <th></th>\n",
       "      <th>date_block_num</th>\n",
       "      <th>year</th>\n",
       "      <th>month</th>\n",
       "      <th>day</th>\n",
       "      <th>day_of_week</th>\n",
       "      <th>shop_id</th>\n",
       "      <th>item_id</th>\n",
       "      <th>item_price</th>\n",
       "      <th>item_cnt_day</th>\n",
       "      <th>revenue</th>\n",
       "    </tr>\n",
       "  </thead>\n",
       "  <tbody>\n",
       "    <tr>\n",
       "      <th>0</th>\n",
       "      <td>0</td>\n",
       "      <td>232173381</td>\n",
       "      <td>115337</td>\n",
       "      <td>1683744</td>\n",
       "      <td>377229</td>\n",
       "      <td>3405258</td>\n",
       "      <td>1180625892</td>\n",
       "      <td>8.179800e+07</td>\n",
       "      <td>131849.0</td>\n",
       "      <td>9.239894e+07</td>\n",
       "    </tr>\n",
       "    <tr>\n",
       "      <th>1</th>\n",
       "      <td>1</td>\n",
       "      <td>218060238</td>\n",
       "      <td>216652</td>\n",
       "      <td>1603822</td>\n",
       "      <td>381905</td>\n",
       "      <td>3102452</td>\n",
       "      <td>1073485127</td>\n",
       "      <td>7.528300e+07</td>\n",
       "      <td>128382.0</td>\n",
       "      <td>9.096449e+07</td>\n",
       "    </tr>\n",
       "    <tr>\n",
       "      <th>2</th>\n",
       "      <td>2</td>\n",
       "      <td>243679689</td>\n",
       "      <td>363159</td>\n",
       "      <td>1908229</td>\n",
       "      <td>441427</td>\n",
       "      <td>4006652</td>\n",
       "      <td>1218233402</td>\n",
       "      <td>8.396688e+07</td>\n",
       "      <td>147438.0</td>\n",
       "      <td>1.052654e+08</td>\n",
       "    </tr>\n",
       "    <tr>\n",
       "      <th>3</th>\n",
       "      <td>3</td>\n",
       "      <td>188950245</td>\n",
       "      <td>375460</td>\n",
       "      <td>1477952</td>\n",
       "      <td>313094</td>\n",
       "      <td>3157303</td>\n",
       "      <td>969139844</td>\n",
       "      <td>6.121918e+07</td>\n",
       "      <td>107439.0</td>\n",
       "      <td>6.945713e+07</td>\n",
       "    </tr>\n",
       "    <tr>\n",
       "      <th>4</th>\n",
       "      <td>4</td>\n",
       "      <td>184352553</td>\n",
       "      <td>457905</td>\n",
       "      <td>1449428</td>\n",
       "      <td>301141</td>\n",
       "      <td>3087675</td>\n",
       "      <td>948704341</td>\n",
       "      <td>5.708693e+07</td>\n",
       "      <td>107147.0</td>\n",
       "      <td>6.525317e+07</td>\n",
       "    </tr>\n",
       "  </tbody>\n",
       "</table>\n",
       "</div>"
      ],
      "text/plain": [
       "   date_block_num       year   month      day  day_of_week  shop_id  \\\n",
       "0               0  232173381  115337  1683744       377229  3405258   \n",
       "1               1  218060238  216652  1603822       381905  3102452   \n",
       "2               2  243679689  363159  1908229       441427  4006652   \n",
       "3               3  188950245  375460  1477952       313094  3157303   \n",
       "4               4  184352553  457905  1449428       301141  3087675   \n",
       "\n",
       "      item_id    item_price  item_cnt_day       revenue  \n",
       "0  1180625892  8.179800e+07      131849.0  9.239894e+07  \n",
       "1  1073485127  7.528300e+07      128382.0  9.096449e+07  \n",
       "2  1218233402  8.396688e+07      147438.0  1.052654e+08  \n",
       "3   969139844  6.121918e+07      107439.0  6.945713e+07  \n",
       "4   948704341  5.708693e+07      107147.0  6.525317e+07  "
      ]
     },
     "execution_count": 68,
     "metadata": {},
     "output_type": "execute_result"
    }
   ],
   "source": [
    "# 월 별 총 판매개수\n",
    "group1 = sales.groupby(by=['date_block_num']).sum()\n",
    "group1 = group1.reset_index()\n",
    "group1.head()"
   ]
  },
  {
   "cell_type": "code",
   "execution_count": 69,
   "id": "9f47d256",
   "metadata": {
    "colab": {
     "base_uri": "https://localhost:8080/",
     "height": 211
    },
    "executionInfo": {
     "elapsed": 414,
     "status": "ok",
     "timestamp": 1645320815976,
     "user": {
      "displayName": "남궁정후",
      "photoUrl": "https://lh3.googleusercontent.com/a/default-user=s64",
      "userId": "00760625701380821498"
     },
     "user_tz": -540
    },
    "id": "9f47d256",
    "outputId": "accc0b5c-7fd9-42a2-e63f-e0443cf3878f"
   },
   "outputs": [
    {
     "data": {
      "image/png": "[encoded data removed]",
      "text/plain": [
       "<Figure size 864x216 with 1 Axes>"
      ]
     },
     "metadata": {
      "needs_background": "light"
     },
     "output_type": "display_data"
    }
   ],
   "source": [
    "plt.figure(figsize=(12,3))\n",
    "plt.plot(group1.date_block_num,  group1.item_cnt_day)\n",
    "plt.show()"
   ]
  },
  {
   "cell_type": "code",
   "execution_count": 70,
   "id": "936b578c",
   "metadata": {
    "id": "936b578c"
   },
   "outputs": [],
   "source": [
    "# 연말(12월), 연초(1월)에 판매량이 많은 것으로 확인\n",
    "# 12월,1월 -> 1 / 나머지 -> 0 으로 변환하여 decjan 컬럼생성"
   ]
  },
  {
   "cell_type": "code",
   "execution_count": 71,
   "id": "1c0cda9a",
   "metadata": {
    "colab": {
     "base_uri": "https://localhost:8080/",
     "height": 206
    },
    "executionInfo": {
     "elapsed": 15,
     "status": "ok",
     "timestamp": 1645320815978,
     "user": {
      "displayName": "남궁정후",
      "photoUrl": "https://lh3.googleusercontent.com/a/default-user=s64",
      "userId": "00760625701380821498"
     },
     "user_tz": -540
    },
    "id": "1c0cda9a",
    "outputId": "6eeb5703-ffa3-44b1-b3ba-828145e192b4"
   },
   "outputs": [
    {
     "data": {
      "text/html": [
       "<div>\n",
       "<style scoped>\n",
       "    .dataframe tbody tr th:only-of-type {\n",
       "        vertical-align: middle;\n",
       "    }\n",
       "\n",
       "    .dataframe tbody tr th {\n",
       "        vertical-align: top;\n",
       "    }\n",
       "\n",
       "    .dataframe thead th {\n",
       "        text-align: right;\n",
       "    }\n",
       "</style>\n",
       "<table border=\"1\" class=\"dataframe\">\n",
       "  <thead>\n",
       "    <tr style=\"text-align: right;\">\n",
       "      <th></th>\n",
       "      <th>date_block_num</th>\n",
       "      <th>shop_id</th>\n",
       "      <th>item_id</th>\n",
       "      <th>city_id_x</th>\n",
       "      <th>item_category_id_x</th>\n",
       "      <th>type_id</th>\n",
       "      <th>ID</th>\n",
       "      <th>city_id_y</th>\n",
       "      <th>item_category_id_y</th>\n",
       "      <th>item_cnt_month</th>\n",
       "      <th>decjan</th>\n",
       "    </tr>\n",
       "  </thead>\n",
       "  <tbody>\n",
       "    <tr>\n",
       "      <th>0</th>\n",
       "      <td>0</td>\n",
       "      <td>0</td>\n",
       "      <td>19</td>\n",
       "      <td>29.0</td>\n",
       "      <td>40.0</td>\n",
       "      <td>11.0</td>\n",
       "      <td>0</td>\n",
       "      <td>29</td>\n",
       "      <td>40</td>\n",
       "      <td>0.0</td>\n",
       "      <td>0</td>\n",
       "    </tr>\n",
       "    <tr>\n",
       "      <th>1</th>\n",
       "      <td>0</td>\n",
       "      <td>0</td>\n",
       "      <td>27</td>\n",
       "      <td>29.0</td>\n",
       "      <td>19.0</td>\n",
       "      <td>5.0</td>\n",
       "      <td>0</td>\n",
       "      <td>29</td>\n",
       "      <td>19</td>\n",
       "      <td>0.0</td>\n",
       "      <td>0</td>\n",
       "    </tr>\n",
       "    <tr>\n",
       "      <th>2</th>\n",
       "      <td>0</td>\n",
       "      <td>0</td>\n",
       "      <td>28</td>\n",
       "      <td>29.0</td>\n",
       "      <td>30.0</td>\n",
       "      <td>8.0</td>\n",
       "      <td>0</td>\n",
       "      <td>29</td>\n",
       "      <td>30</td>\n",
       "      <td>0.0</td>\n",
       "      <td>0</td>\n",
       "    </tr>\n",
       "    <tr>\n",
       "      <th>3</th>\n",
       "      <td>0</td>\n",
       "      <td>0</td>\n",
       "      <td>29</td>\n",
       "      <td>29.0</td>\n",
       "      <td>23.0</td>\n",
       "      <td>5.0</td>\n",
       "      <td>0</td>\n",
       "      <td>29</td>\n",
       "      <td>23</td>\n",
       "      <td>0.0</td>\n",
       "      <td>0</td>\n",
       "    </tr>\n",
       "    <tr>\n",
       "      <th>4</th>\n",
       "      <td>0</td>\n",
       "      <td>0</td>\n",
       "      <td>32</td>\n",
       "      <td>29.0</td>\n",
       "      <td>40.0</td>\n",
       "      <td>11.0</td>\n",
       "      <td>0</td>\n",
       "      <td>29</td>\n",
       "      <td>40</td>\n",
       "      <td>6.0</td>\n",
       "      <td>0</td>\n",
       "    </tr>\n",
       "  </tbody>\n",
       "</table>\n",
       "</div>"
      ],
      "text/plain": [
       "   date_block_num  shop_id  item_id  city_id_x  item_category_id_x  type_id  \\\n",
       "0               0        0       19       29.0                40.0     11.0   \n",
       "1               0        0       27       29.0                19.0      5.0   \n",
       "2               0        0       28       29.0                30.0      8.0   \n",
       "3               0        0       29       29.0                23.0      5.0   \n",
       "4               0        0       32       29.0                40.0     11.0   \n",
       "\n",
       "   ID  city_id_y  item_category_id_y  item_cnt_month  decjan  \n",
       "0   0         29                  40             0.0       0  \n",
       "1   0         29                  19             0.0       0  \n",
       "2   0         29                  30             0.0       0  \n",
       "3   0         29                  23             0.0       0  \n",
       "4   0         29                  40             6.0       0  "
      ]
     },
     "execution_count": 71,
     "metadata": {},
     "output_type": "execute_result"
    }
   ],
   "source": [
    "matrix['decjan'] = np.where(matrix['date_block_num'].isin([11,12,23,24]), 1,0)\n",
    "matrix.head()"
   ]
  },
  {
   "cell_type": "code",
   "execution_count": 72,
   "id": "49efc59a",
   "metadata": {
    "colab": {
     "base_uri": "https://localhost:8080/"
    },
    "executionInfo": {
     "elapsed": 316,
     "status": "ok",
     "timestamp": 1645320816280,
     "user": {
      "displayName": "남궁정후",
      "photoUrl": "https://lh3.googleusercontent.com/a/default-user=s64",
      "userId": "00760625701380821498"
     },
     "user_tz": -540
    },
    "id": "49efc59a",
    "outputId": "d8695e18-b175-49f6-8916-be8a5dbb3258"
   },
   "outputs": [
    {
     "name": "stdout",
     "output_type": "stream",
     "text": [
      "389712\n",
      "347116\n",
      "330000\n",
      "306800\n"
     ]
    }
   ],
   "source": [
    "# decjan 확인하기\n",
    "print(len(matrix.loc[matrix['date_block_num'] == 11,:]))\n",
    "print(len(matrix.loc[matrix['date_block_num'] == 12,:]))\n",
    "print(len(matrix.loc[matrix['date_block_num'] == 23,:]))\n",
    "print(len(matrix.loc[matrix['date_block_num'] == 24,:]))"
   ]
  },
  {
   "cell_type": "code",
   "execution_count": 73,
   "id": "9cc7418a",
   "metadata": {
    "colab": {
     "base_uri": "https://localhost:8080/"
    },
    "executionInfo": {
     "elapsed": 11,
     "status": "ok",
     "timestamp": 1645320816281,
     "user": {
      "displayName": "남궁정후",
      "photoUrl": "https://lh3.googleusercontent.com/a/default-user=s64",
      "userId": "00760625701380821498"
     },
     "user_tz": -540
    },
    "id": "9cc7418a",
    "outputId": "5f18abe8-1c93-4a6d-ac14-76020b15c4ab"
   },
   "outputs": [
    {
     "data": {
      "text/plain": [
       "1373628"
      ]
     },
     "execution_count": 73,
     "metadata": {},
     "output_type": "execute_result"
    }
   ],
   "source": [
    "389712+347116+330000+306800"
   ]
  },
  {
   "cell_type": "code",
   "execution_count": 74,
   "id": "0aafe794",
   "metadata": {
    "colab": {
     "base_uri": "https://localhost:8080/"
    },
    "executionInfo": {
     "elapsed": 8,
     "status": "ok",
     "timestamp": 1645320816282,
     "user": {
      "displayName": "남궁정후",
      "photoUrl": "https://lh3.googleusercontent.com/a/default-user=s64",
      "userId": "00760625701380821498"
     },
     "user_tz": -540
    },
    "id": "0aafe794",
    "outputId": "d781e759-5dcf-480e-8a01-8bc5e72014d3"
   },
   "outputs": [
    {
     "data": {
      "text/plain": [
       "1373628"
      ]
     },
     "execution_count": 74,
     "metadata": {},
     "output_type": "execute_result"
    }
   ],
   "source": [
    "(matrix['decjan'] == 1).sum()  # 1373628\n",
    "\n",
    "# 합이 동일하므로 올바르게 변환됨을 확인"
   ]
  },
  {
   "cell_type": "markdown",
   "id": "b74b941f",
   "metadata": {
    "id": "b74b941f"
   },
   "source": [
    "- shop_cnt_month (shop별 월 총 판매수량) 데이터 생성 및 matrix 데이터프레임에 merge"
   ]
  },
  {
   "cell_type": "code",
   "execution_count": 75,
   "id": "80b15ecc",
   "metadata": {
    "id": "80b15ecc"
   },
   "outputs": [],
   "source": [
    "# 월별 shop별 평균 판매 수량(shop_cnt_month) \n",
    "group2 = matrix.groupby(['date_block_num', 'shop_id']).agg({'item_cnt_month': ['sum']})\n",
    "group2.columns = ['shop_cnt_month']\n",
    "group2.reset_index(inplace=True)"
   ]
  },
  {
   "cell_type": "code",
   "execution_count": 76,
   "id": "0b0c9d34",
   "metadata": {
    "colab": {
     "base_uri": "https://localhost:8080/",
     "height": 206
    },
    "executionInfo": {
     "elapsed": 15,
     "status": "ok",
     "timestamp": 1645320817138,
     "user": {
      "displayName": "남궁정후",
      "photoUrl": "https://lh3.googleusercontent.com/a/default-user=s64",
      "userId": "00760625701380821498"
     },
     "user_tz": -540
    },
    "id": "0b0c9d34",
    "outputId": "b53394c7-48f6-493a-845f-12bba2efa385"
   },
   "outputs": [
    {
     "data": {
      "text/html": [
       "<div>\n",
       "<style scoped>\n",
       "    .dataframe tbody tr th:only-of-type {\n",
       "        vertical-align: middle;\n",
       "    }\n",
       "\n",
       "    .dataframe tbody tr th {\n",
       "        vertical-align: top;\n",
       "    }\n",
       "\n",
       "    .dataframe thead th {\n",
       "        text-align: right;\n",
       "    }\n",
       "</style>\n",
       "<table border=\"1\" class=\"dataframe\">\n",
       "  <thead>\n",
       "    <tr style=\"text-align: right;\">\n",
       "      <th></th>\n",
       "      <th>date_block_num</th>\n",
       "      <th>shop_id</th>\n",
       "      <th>shop_cnt_month</th>\n",
       "    </tr>\n",
       "  </thead>\n",
       "  <tbody>\n",
       "    <tr>\n",
       "      <th>0</th>\n",
       "      <td>0</td>\n",
       "      <td>0</td>\n",
       "      <td>5576.0</td>\n",
       "    </tr>\n",
       "    <tr>\n",
       "      <th>1</th>\n",
       "      <td>0</td>\n",
       "      <td>1</td>\n",
       "      <td>2948.0</td>\n",
       "    </tr>\n",
       "    <tr>\n",
       "      <th>2</th>\n",
       "      <td>0</td>\n",
       "      <td>2</td>\n",
       "      <td>1151.0</td>\n",
       "    </tr>\n",
       "    <tr>\n",
       "      <th>3</th>\n",
       "      <td>0</td>\n",
       "      <td>3</td>\n",
       "      <td>767.0</td>\n",
       "    </tr>\n",
       "    <tr>\n",
       "      <th>4</th>\n",
       "      <td>0</td>\n",
       "      <td>4</td>\n",
       "      <td>2116.0</td>\n",
       "    </tr>\n",
       "  </tbody>\n",
       "</table>\n",
       "</div>"
      ],
      "text/plain": [
       "   date_block_num  shop_id  shop_cnt_month\n",
       "0               0        0          5576.0\n",
       "1               0        1          2948.0\n",
       "2               0        2          1151.0\n",
       "3               0        3           767.0\n",
       "4               0        4          2116.0"
      ]
     },
     "execution_count": 76,
     "metadata": {},
     "output_type": "execute_result"
    }
   ],
   "source": [
    "group2.head()"
   ]
  },
  {
   "cell_type": "code",
   "execution_count": 77,
   "id": "c02f4bc4",
   "metadata": {
    "colab": {
     "base_uri": "https://localhost:8080/",
     "height": 206
    },
    "executionInfo": {
     "elapsed": 1853,
     "status": "ok",
     "timestamp": 1645320818979,
     "user": {
      "displayName": "남궁정후",
      "photoUrl": "https://lh3.googleusercontent.com/a/default-user=s64",
      "userId": "00760625701380821498"
     },
     "user_tz": -540
    },
    "id": "c02f4bc4",
    "outputId": "e2f0eb07-3a83-4d96-99b6-1ae555fc87c1"
   },
   "outputs": [
    {
     "data": {
      "text/html": [
       "<div>\n",
       "<style scoped>\n",
       "    .dataframe tbody tr th:only-of-type {\n",
       "        vertical-align: middle;\n",
       "    }\n",
       "\n",
       "    .dataframe tbody tr th {\n",
       "        vertical-align: top;\n",
       "    }\n",
       "\n",
       "    .dataframe thead th {\n",
       "        text-align: right;\n",
       "    }\n",
       "</style>\n",
       "<table border=\"1\" class=\"dataframe\">\n",
       "  <thead>\n",
       "    <tr style=\"text-align: right;\">\n",
       "      <th></th>\n",
       "      <th>date_block_num</th>\n",
       "      <th>shop_id</th>\n",
       "      <th>item_id</th>\n",
       "      <th>city_id_x</th>\n",
       "      <th>item_category_id_x</th>\n",
       "      <th>type_id</th>\n",
       "      <th>ID</th>\n",
       "      <th>city_id_y</th>\n",
       "      <th>item_category_id_y</th>\n",
       "      <th>item_cnt_month</th>\n",
       "      <th>decjan</th>\n",
       "      <th>shop_cnt_month</th>\n",
       "    </tr>\n",
       "  </thead>\n",
       "  <tbody>\n",
       "    <tr>\n",
       "      <th>0</th>\n",
       "      <td>0</td>\n",
       "      <td>0</td>\n",
       "      <td>19</td>\n",
       "      <td>29.0</td>\n",
       "      <td>40.0</td>\n",
       "      <td>11.0</td>\n",
       "      <td>0</td>\n",
       "      <td>29</td>\n",
       "      <td>40</td>\n",
       "      <td>0.0</td>\n",
       "      <td>0</td>\n",
       "      <td>5576.0</td>\n",
       "    </tr>\n",
       "    <tr>\n",
       "      <th>1</th>\n",
       "      <td>0</td>\n",
       "      <td>0</td>\n",
       "      <td>27</td>\n",
       "      <td>29.0</td>\n",
       "      <td>19.0</td>\n",
       "      <td>5.0</td>\n",
       "      <td>0</td>\n",
       "      <td>29</td>\n",
       "      <td>19</td>\n",
       "      <td>0.0</td>\n",
       "      <td>0</td>\n",
       "      <td>5576.0</td>\n",
       "    </tr>\n",
       "    <tr>\n",
       "      <th>2</th>\n",
       "      <td>0</td>\n",
       "      <td>0</td>\n",
       "      <td>28</td>\n",
       "      <td>29.0</td>\n",
       "      <td>30.0</td>\n",
       "      <td>8.0</td>\n",
       "      <td>0</td>\n",
       "      <td>29</td>\n",
       "      <td>30</td>\n",
       "      <td>0.0</td>\n",
       "      <td>0</td>\n",
       "      <td>5576.0</td>\n",
       "    </tr>\n",
       "    <tr>\n",
       "      <th>3</th>\n",
       "      <td>0</td>\n",
       "      <td>0</td>\n",
       "      <td>29</td>\n",
       "      <td>29.0</td>\n",
       "      <td>23.0</td>\n",
       "      <td>5.0</td>\n",
       "      <td>0</td>\n",
       "      <td>29</td>\n",
       "      <td>23</td>\n",
       "      <td>0.0</td>\n",
       "      <td>0</td>\n",
       "      <td>5576.0</td>\n",
       "    </tr>\n",
       "    <tr>\n",
       "      <th>4</th>\n",
       "      <td>0</td>\n",
       "      <td>0</td>\n",
       "      <td>32</td>\n",
       "      <td>29.0</td>\n",
       "      <td>40.0</td>\n",
       "      <td>11.0</td>\n",
       "      <td>0</td>\n",
       "      <td>29</td>\n",
       "      <td>40</td>\n",
       "      <td>6.0</td>\n",
       "      <td>0</td>\n",
       "      <td>5576.0</td>\n",
       "    </tr>\n",
       "  </tbody>\n",
       "</table>\n",
       "</div>"
      ],
      "text/plain": [
       "   date_block_num  shop_id  item_id  city_id_x  item_category_id_x  type_id  \\\n",
       "0               0        0       19       29.0                40.0     11.0   \n",
       "1               0        0       27       29.0                19.0      5.0   \n",
       "2               0        0       28       29.0                30.0      8.0   \n",
       "3               0        0       29       29.0                23.0      5.0   \n",
       "4               0        0       32       29.0                40.0     11.0   \n",
       "\n",
       "   ID  city_id_y  item_category_id_y  item_cnt_month  decjan  shop_cnt_month  \n",
       "0   0         29                  40             0.0       0          5576.0  \n",
       "1   0         29                  19             0.0       0          5576.0  \n",
       "2   0         29                  30             0.0       0          5576.0  \n",
       "3   0         29                  23             0.0       0          5576.0  \n",
       "4   0         29                  40             6.0       0          5576.0  "
      ]
     },
     "execution_count": 77,
     "metadata": {},
     "output_type": "execute_result"
    }
   ],
   "source": [
    "matrix = pd.merge(matrix, group2, on=['date_block_num', 'shop_id'], how='left')\n",
    "matrix.head()"
   ]
  },
  {
   "cell_type": "code",
   "execution_count": 78,
   "id": "10643585",
   "metadata": {
    "colab": {
     "base_uri": "https://localhost:8080/",
     "height": 206
    },
    "executionInfo": {
     "elapsed": 435,
     "status": "ok",
     "timestamp": 1645320819408,
     "user": {
      "displayName": "남궁정후",
      "photoUrl": "https://lh3.googleusercontent.com/a/default-user=s64",
      "userId": "00760625701380821498"
     },
     "user_tz": -540
    },
    "id": "10643585",
    "outputId": "678a726b-ca9d-4945-bd5e-a5ef0c13fdfd"
   },
   "outputs": [
    {
     "data": {
      "text/html": [
       "<div>\n",
       "<style scoped>\n",
       "    .dataframe tbody tr th:only-of-type {\n",
       "        vertical-align: middle;\n",
       "    }\n",
       "\n",
       "    .dataframe tbody tr th {\n",
       "        vertical-align: top;\n",
       "    }\n",
       "\n",
       "    .dataframe thead th {\n",
       "        text-align: right;\n",
       "    }\n",
       "</style>\n",
       "<table border=\"1\" class=\"dataframe\">\n",
       "  <thead>\n",
       "    <tr style=\"text-align: right;\">\n",
       "      <th></th>\n",
       "      <th>date_block_num</th>\n",
       "      <th>shop_id</th>\n",
       "      <th>item_id</th>\n",
       "      <th>city_id_x</th>\n",
       "      <th>item_category_id_x</th>\n",
       "      <th>type_id</th>\n",
       "      <th>ID</th>\n",
       "      <th>city_id_y</th>\n",
       "      <th>item_category_id_y</th>\n",
       "      <th>item_cnt_month</th>\n",
       "      <th>decjan</th>\n",
       "      <th>shop_cnt_month</th>\n",
       "    </tr>\n",
       "  </thead>\n",
       "  <tbody>\n",
       "    <tr>\n",
       "      <th>0</th>\n",
       "      <td>0</td>\n",
       "      <td>0</td>\n",
       "      <td>19</td>\n",
       "      <td>29.0</td>\n",
       "      <td>40.0</td>\n",
       "      <td>11.0</td>\n",
       "      <td>0</td>\n",
       "      <td>29</td>\n",
       "      <td>40</td>\n",
       "      <td>0.0</td>\n",
       "      <td>0</td>\n",
       "      <td>5576.0</td>\n",
       "    </tr>\n",
       "    <tr>\n",
       "      <th>1</th>\n",
       "      <td>0</td>\n",
       "      <td>0</td>\n",
       "      <td>27</td>\n",
       "      <td>29.0</td>\n",
       "      <td>19.0</td>\n",
       "      <td>5.0</td>\n",
       "      <td>0</td>\n",
       "      <td>29</td>\n",
       "      <td>19</td>\n",
       "      <td>0.0</td>\n",
       "      <td>0</td>\n",
       "      <td>5576.0</td>\n",
       "    </tr>\n",
       "    <tr>\n",
       "      <th>2</th>\n",
       "      <td>0</td>\n",
       "      <td>0</td>\n",
       "      <td>28</td>\n",
       "      <td>29.0</td>\n",
       "      <td>30.0</td>\n",
       "      <td>8.0</td>\n",
       "      <td>0</td>\n",
       "      <td>29</td>\n",
       "      <td>30</td>\n",
       "      <td>0.0</td>\n",
       "      <td>0</td>\n",
       "      <td>5576.0</td>\n",
       "    </tr>\n",
       "    <tr>\n",
       "      <th>3</th>\n",
       "      <td>0</td>\n",
       "      <td>0</td>\n",
       "      <td>29</td>\n",
       "      <td>29.0</td>\n",
       "      <td>23.0</td>\n",
       "      <td>5.0</td>\n",
       "      <td>0</td>\n",
       "      <td>29</td>\n",
       "      <td>23</td>\n",
       "      <td>0.0</td>\n",
       "      <td>0</td>\n",
       "      <td>5576.0</td>\n",
       "    </tr>\n",
       "    <tr>\n",
       "      <th>4</th>\n",
       "      <td>0</td>\n",
       "      <td>0</td>\n",
       "      <td>32</td>\n",
       "      <td>29.0</td>\n",
       "      <td>40.0</td>\n",
       "      <td>11.0</td>\n",
       "      <td>0</td>\n",
       "      <td>29</td>\n",
       "      <td>40</td>\n",
       "      <td>6.0</td>\n",
       "      <td>0</td>\n",
       "      <td>5576.0</td>\n",
       "    </tr>\n",
       "  </tbody>\n",
       "</table>\n",
       "</div>"
      ],
      "text/plain": [
       "   date_block_num  shop_id  item_id  city_id_x  item_category_id_x  type_id  \\\n",
       "0               0        0       19       29.0                40.0     11.0   \n",
       "1               0        0       27       29.0                19.0      5.0   \n",
       "2               0        0       28       29.0                30.0      8.0   \n",
       "3               0        0       29       29.0                23.0      5.0   \n",
       "4               0        0       32       29.0                40.0     11.0   \n",
       "\n",
       "   ID  city_id_y  item_category_id_y  item_cnt_month  decjan  shop_cnt_month  \n",
       "0   0         29                  40             0.0       0          5576.0  \n",
       "1   0         29                  19             0.0       0          5576.0  \n",
       "2   0         29                  30             0.0       0          5576.0  \n",
       "3   0         29                  23             0.0       0          5576.0  \n",
       "4   0         29                  40             6.0       0          5576.0  "
      ]
     },
     "execution_count": 78,
     "metadata": {},
     "output_type": "execute_result"
    }
   ],
   "source": [
    "# matrix 원본 카피\n",
    "matrix1 = matrix.copy()\n",
    "matrix1.head()"
   ]
  },
  {
   "cell_type": "code",
   "execution_count": 79,
   "id": "c381b802",
   "metadata": {
    "id": "c381b802",
    "outputId": "a93bce33-d892-40e3-ecc6-7a27f539805f"
   },
   "outputs": [
    {
     "ename": "KeyError",
     "evalue": "'item_category_id'",
     "output_type": "error",
     "traceback": [
      "\u001b[1;31m---------------------------------------------------------------------------\u001b[0m",
      "\u001b[1;31mKeyError\u001b[0m                                  Traceback (most recent call last)",
      "\u001b[1;32m~\\AppData\\Local\\Temp/ipykernel_8036/3017183159.py\u001b[0m in \u001b[0;36m<module>\u001b[1;34m\u001b[0m\n\u001b[0;32m      1\u001b[0m \u001b[1;31m## matrix에 월별 categoty별 판매된 제품의 수(categoty_cnt_month)\u001b[0m\u001b[1;33m\u001b[0m\u001b[1;33m\u001b[0m\u001b[0m\n\u001b[1;32m----> 2\u001b[1;33m \u001b[0mgroup2\u001b[0m \u001b[1;33m=\u001b[0m \u001b[0mmatrix1\u001b[0m\u001b[1;33m.\u001b[0m\u001b[0mgroupby\u001b[0m\u001b[1;33m(\u001b[0m\u001b[1;33m[\u001b[0m\u001b[1;34m'date_block_num'\u001b[0m\u001b[1;33m,\u001b[0m \u001b[1;34m'item_category_id'\u001b[0m\u001b[1;33m]\u001b[0m\u001b[1;33m)\u001b[0m\u001b[1;33m.\u001b[0m\u001b[0magg\u001b[0m\u001b[1;33m(\u001b[0m\u001b[1;33m{\u001b[0m\u001b[1;34m'item_cnt_month'\u001b[0m\u001b[1;33m:\u001b[0m \u001b[1;33m[\u001b[0m\u001b[1;34m'sum'\u001b[0m\u001b[1;33m]\u001b[0m\u001b[1;33m}\u001b[0m\u001b[1;33m)\u001b[0m\u001b[1;33m\u001b[0m\u001b[1;33m\u001b[0m\u001b[0m\n\u001b[0m\u001b[0;32m      3\u001b[0m \u001b[0mgroup2\u001b[0m\u001b[1;33m.\u001b[0m\u001b[0mcolumns\u001b[0m \u001b[1;33m=\u001b[0m \u001b[1;33m[\u001b[0m\u001b[1;34m'category_cnt_month'\u001b[0m\u001b[1;33m]\u001b[0m\u001b[1;33m\u001b[0m\u001b[1;33m\u001b[0m\u001b[0m\n\u001b[0;32m      4\u001b[0m \u001b[0mgroup2\u001b[0m\u001b[1;33m.\u001b[0m\u001b[0mreset_index\u001b[0m\u001b[1;33m(\u001b[0m\u001b[0minplace\u001b[0m\u001b[1;33m=\u001b[0m\u001b[1;32mTrue\u001b[0m\u001b[1;33m)\u001b[0m\u001b[1;33m\u001b[0m\u001b[1;33m\u001b[0m\u001b[0m\n\u001b[0;32m      5\u001b[0m \u001b[0mmatrix1\u001b[0m \u001b[1;33m=\u001b[0m \u001b[0mpd\u001b[0m\u001b[1;33m.\u001b[0m\u001b[0mmerge\u001b[0m\u001b[1;33m(\u001b[0m\u001b[0mmatrix1\u001b[0m\u001b[1;33m,\u001b[0m \u001b[0mgroup2\u001b[0m\u001b[1;33m,\u001b[0m \u001b[0mon\u001b[0m\u001b[1;33m=\u001b[0m\u001b[1;33m[\u001b[0m\u001b[1;34m'date_block_num'\u001b[0m\u001b[1;33m,\u001b[0m \u001b[1;34m'item_category_id'\u001b[0m\u001b[1;33m]\u001b[0m\u001b[1;33m,\u001b[0m \u001b[0mhow\u001b[0m\u001b[1;33m=\u001b[0m\u001b[1;34m'left'\u001b[0m\u001b[1;33m)\u001b[0m\u001b[1;33m\u001b[0m\u001b[1;33m\u001b[0m\u001b[0m\n",
      "\u001b[1;32mC:\\ProgramData\\Anaconda3\\lib\\site-packages\\pandas\\core\\frame.py\u001b[0m in \u001b[0;36mgroupby\u001b[1;34m(self, by, axis, level, as_index, sort, group_keys, squeeze, observed, dropna)\u001b[0m\n\u001b[0;32m   7629\u001b[0m         \u001b[1;31m# error: Argument \"squeeze\" to \"DataFrameGroupBy\" has incompatible type\u001b[0m\u001b[1;33m\u001b[0m\u001b[1;33m\u001b[0m\u001b[0m\n\u001b[0;32m   7630\u001b[0m         \u001b[1;31m# \"Union[bool, NoDefault]\"; expected \"bool\"\u001b[0m\u001b[1;33m\u001b[0m\u001b[1;33m\u001b[0m\u001b[0m\n\u001b[1;32m-> 7631\u001b[1;33m         return DataFrameGroupBy(\n\u001b[0m\u001b[0;32m   7632\u001b[0m             \u001b[0mobj\u001b[0m\u001b[1;33m=\u001b[0m\u001b[0mself\u001b[0m\u001b[1;33m,\u001b[0m\u001b[1;33m\u001b[0m\u001b[1;33m\u001b[0m\u001b[0m\n\u001b[0;32m   7633\u001b[0m             \u001b[0mkeys\u001b[0m\u001b[1;33m=\u001b[0m\u001b[0mby\u001b[0m\u001b[1;33m,\u001b[0m\u001b[1;33m\u001b[0m\u001b[1;33m\u001b[0m\u001b[0m\n",
      "\u001b[1;32mC:\\ProgramData\\Anaconda3\\lib\\site-packages\\pandas\\core\\groupby\\groupby.py\u001b[0m in \u001b[0;36m__init__\u001b[1;34m(self, obj, keys, axis, level, grouper, exclusions, selection, as_index, sort, group_keys, squeeze, observed, mutated, dropna)\u001b[0m\n\u001b[0;32m    887\u001b[0m             \u001b[1;32mfrom\u001b[0m \u001b[0mpandas\u001b[0m\u001b[1;33m.\u001b[0m\u001b[0mcore\u001b[0m\u001b[1;33m.\u001b[0m\u001b[0mgroupby\u001b[0m\u001b[1;33m.\u001b[0m\u001b[0mgrouper\u001b[0m \u001b[1;32mimport\u001b[0m \u001b[0mget_grouper\u001b[0m\u001b[1;33m\u001b[0m\u001b[1;33m\u001b[0m\u001b[0m\n\u001b[0;32m    888\u001b[0m \u001b[1;33m\u001b[0m\u001b[0m\n\u001b[1;32m--> 889\u001b[1;33m             grouper, exclusions, obj = get_grouper(\n\u001b[0m\u001b[0;32m    890\u001b[0m                 \u001b[0mobj\u001b[0m\u001b[1;33m,\u001b[0m\u001b[1;33m\u001b[0m\u001b[1;33m\u001b[0m\u001b[0m\n\u001b[0;32m    891\u001b[0m                 \u001b[0mkeys\u001b[0m\u001b[1;33m,\u001b[0m\u001b[1;33m\u001b[0m\u001b[1;33m\u001b[0m\u001b[0m\n",
      "\u001b[1;32mC:\\ProgramData\\Anaconda3\\lib\\site-packages\\pandas\\core\\groupby\\grouper.py\u001b[0m in \u001b[0;36mget_grouper\u001b[1;34m(obj, key, axis, level, sort, observed, mutated, validate, dropna)\u001b[0m\n\u001b[0;32m    860\u001b[0m                 \u001b[0min_axis\u001b[0m\u001b[1;33m,\u001b[0m \u001b[0mlevel\u001b[0m\u001b[1;33m,\u001b[0m \u001b[0mgpr\u001b[0m \u001b[1;33m=\u001b[0m \u001b[1;32mFalse\u001b[0m\u001b[1;33m,\u001b[0m \u001b[0mgpr\u001b[0m\u001b[1;33m,\u001b[0m \u001b[1;32mNone\u001b[0m\u001b[1;33m\u001b[0m\u001b[1;33m\u001b[0m\u001b[0m\n\u001b[0;32m    861\u001b[0m             \u001b[1;32melse\u001b[0m\u001b[1;33m:\u001b[0m\u001b[1;33m\u001b[0m\u001b[1;33m\u001b[0m\u001b[0m\n\u001b[1;32m--> 862\u001b[1;33m                 \u001b[1;32mraise\u001b[0m \u001b[0mKeyError\u001b[0m\u001b[1;33m(\u001b[0m\u001b[0mgpr\u001b[0m\u001b[1;33m)\u001b[0m\u001b[1;33m\u001b[0m\u001b[1;33m\u001b[0m\u001b[0m\n\u001b[0m\u001b[0;32m    863\u001b[0m         \u001b[1;32melif\u001b[0m \u001b[0misinstance\u001b[0m\u001b[1;33m(\u001b[0m\u001b[0mgpr\u001b[0m\u001b[1;33m,\u001b[0m \u001b[0mGrouper\u001b[0m\u001b[1;33m)\u001b[0m \u001b[1;32mand\u001b[0m \u001b[0mgpr\u001b[0m\u001b[1;33m.\u001b[0m\u001b[0mkey\u001b[0m \u001b[1;32mis\u001b[0m \u001b[1;32mnot\u001b[0m \u001b[1;32mNone\u001b[0m\u001b[1;33m:\u001b[0m\u001b[1;33m\u001b[0m\u001b[1;33m\u001b[0m\u001b[0m\n\u001b[0;32m    864\u001b[0m             \u001b[1;31m# Add key to exclusions\u001b[0m\u001b[1;33m\u001b[0m\u001b[1;33m\u001b[0m\u001b[0m\n",
      "\u001b[1;31mKeyError\u001b[0m: 'item_category_id'"
     ]
    }
   ],
   "source": [
    "## matrix에 월별 categoty별 판매된 제품의 수(categoty_cnt_month) \n",
    "group2 = matrix1.groupby(['date_block_num', 'item_category_id']).agg({'item_cnt_month': ['sum']})\n",
    "group2.columns = ['category_cnt_month']\n",
    "group2.reset_index(inplace=True)\n",
    "matrix1 = pd.merge(matrix1, group2, on=['date_block_num', 'item_category_id'], how='left')\n",
    "matrix1.head()"
   ]
  },
  {
   "cell_type": "code",
   "execution_count": null,
   "id": "c8a5baea",
   "metadata": {},
   "outputs": [],
   "source": [
    "# date_block_num, city 별 판매된 제품의 수\n",
    "group_1 = matrix1.groupby(['date_block_num', 'city_id']).agg({'item_cnt_month': ['sum']})\n",
    "group_1.columns = ['city_cnt_month']\n",
    "group_1.reset_index(inplace=True)\n",
    "\n",
    "\n",
    "\n",
    "\n",
    "matrix1 = pd.merge(matrix1, group_1, on=['date_block_num', 'city_id'], how='left')\n",
    "matrix1.head()"
   ]
  },
  {
   "cell_type": "code",
   "execution_count": null,
   "id": "49bab867",
   "metadata": {
    "id": "49bab867",
    "outputId": "dab56198-07da-4d0b-f55a-72d5ff2527f2"
   },
   "outputs": [],
   "source": [
    "# date_block_num, city 별 판매된 제품의 수\n",
    "group_1 = matrix1.groupby(['date_block_num', 'city_id']).agg({'item_cnt_month': ['sum']})\n",
    "group_1.columns = ['city_cnt_month']\n",
    "group_1.reset_index(inplace=True)\n",
    "matrix1 = pd.merge(matrix1, group_1, on=['date_block_num', 'city_id'], how='left')\n",
    "matrix1.head()"
   ]
  },
  {
   "cell_type": "code",
   "execution_count": null,
   "id": "91c9e94a",
   "metadata": {
    "id": "91c9e94a",
    "outputId": "e4f0c846-7075-4948-accb-5644a3b92b07"
   },
   "outputs": [],
   "source": [
    "#type_cnt_month : date_block_num, type별 판매된 제품 수\n",
    "types = matrix1.groupby(['date_block_num', 'type_id']).agg({'item_cnt_month' : 'sum'})\n",
    "types.columns = ['type_cnt_month']\n",
    "types.reset_index(inplace=True)\n",
    "matrix1 = pd.merge(matrix1, types, on = ['date_block_num', 'type_id'], how = 'left')\n",
    "matrix1.head()"
   ]
  },
  {
   "cell_type": "code",
   "execution_count": null,
   "id": "00bb7fa4",
   "metadata": {
    "id": "00bb7fa4",
    "outputId": "5984e8bf-b080-45f0-cd89-66b29c2ee84f"
   },
   "outputs": [],
   "source": [
    "# shop, item별 가격\n",
    "group_2 = sales.groupby(['shop_id', 'item_id']).agg({'item_price': ['mean']})\n",
    "group_2.columns = ['item_price_by_id'] # item_price_by_shop\n",
    "group_2.reset_index(inplace=True)\n",
    "matrix1 = pd.merge(matrix1, group_2, on = ['shop_id', 'item_id'], how = 'left')\n",
    "matrix1.head()"
   ]
  },
  {
   "cell_type": "code",
   "execution_count": null,
   "id": "87cb4d16",
   "metadata": {
    "id": "87cb4d16",
    "scrolled": true
   },
   "outputs": [],
   "source": [
    "# date_block_num, shop, item 별 판매된 제품의 수\n",
    "z = sales[['date','date_block_num','shop_id','item_id','item_cnt_day']]\n",
    "k = z.groupby(by = ['date_block_num','shop_id','item_id']).sum()\n",
    "k['item_shop_cnt_month'] = k.item_cnt_day\n",
    "k.drop('item_cnt_day',axis = 1,inplace = True)\n",
    "matrix1 = matrix1.merge(k,left_on = ['date_block_num','shop_id','item_id'],right_on = ['date_block_num','shop_id','item_id'])\n",
    "matrix1.head()"
   ]
  },
  {
   "cell_type": "code",
   "execution_count": 80,
   "id": "5bd4cc88",
   "metadata": {
    "id": "5bd4cc88",
    "outputId": "90b4df1a-b65c-495c-9c94-5a5c9e6bbd2e"
   },
   "outputs": [
    {
     "data": {
      "text/html": [
       "<div>\n",
       "<style scoped>\n",
       "    .dataframe tbody tr th:only-of-type {\n",
       "        vertical-align: middle;\n",
       "    }\n",
       "\n",
       "    .dataframe tbody tr th {\n",
       "        vertical-align: top;\n",
       "    }\n",
       "\n",
       "    .dataframe thead th {\n",
       "        text-align: right;\n",
       "    }\n",
       "</style>\n",
       "<table border=\"1\" class=\"dataframe\">\n",
       "  <thead>\n",
       "    <tr style=\"text-align: right;\">\n",
       "      <th></th>\n",
       "      <th>date_block_num</th>\n",
       "      <th>shop_id</th>\n",
       "      <th>item_id</th>\n",
       "      <th>city_id_x</th>\n",
       "      <th>item_category_id_x</th>\n",
       "      <th>type_id</th>\n",
       "      <th>ID</th>\n",
       "      <th>city_id_y</th>\n",
       "      <th>item_category_id_y</th>\n",
       "      <th>item_cnt_month</th>\n",
       "      <th>decjan</th>\n",
       "      <th>shop_cnt_month</th>\n",
       "    </tr>\n",
       "  </thead>\n",
       "  <tbody>\n",
       "    <tr>\n",
       "      <th>0</th>\n",
       "      <td>0</td>\n",
       "      <td>0</td>\n",
       "      <td>19</td>\n",
       "      <td>29.0</td>\n",
       "      <td>40.0</td>\n",
       "      <td>11.0</td>\n",
       "      <td>0</td>\n",
       "      <td>29</td>\n",
       "      <td>40</td>\n",
       "      <td>0.0</td>\n",
       "      <td>0</td>\n",
       "      <td>5576.0</td>\n",
       "    </tr>\n",
       "    <tr>\n",
       "      <th>1</th>\n",
       "      <td>0</td>\n",
       "      <td>0</td>\n",
       "      <td>27</td>\n",
       "      <td>29.0</td>\n",
       "      <td>19.0</td>\n",
       "      <td>5.0</td>\n",
       "      <td>0</td>\n",
       "      <td>29</td>\n",
       "      <td>19</td>\n",
       "      <td>0.0</td>\n",
       "      <td>0</td>\n",
       "      <td>5576.0</td>\n",
       "    </tr>\n",
       "    <tr>\n",
       "      <th>2</th>\n",
       "      <td>0</td>\n",
       "      <td>0</td>\n",
       "      <td>28</td>\n",
       "      <td>29.0</td>\n",
       "      <td>30.0</td>\n",
       "      <td>8.0</td>\n",
       "      <td>0</td>\n",
       "      <td>29</td>\n",
       "      <td>30</td>\n",
       "      <td>0.0</td>\n",
       "      <td>0</td>\n",
       "      <td>5576.0</td>\n",
       "    </tr>\n",
       "    <tr>\n",
       "      <th>3</th>\n",
       "      <td>0</td>\n",
       "      <td>0</td>\n",
       "      <td>29</td>\n",
       "      <td>29.0</td>\n",
       "      <td>23.0</td>\n",
       "      <td>5.0</td>\n",
       "      <td>0</td>\n",
       "      <td>29</td>\n",
       "      <td>23</td>\n",
       "      <td>0.0</td>\n",
       "      <td>0</td>\n",
       "      <td>5576.0</td>\n",
       "    </tr>\n",
       "    <tr>\n",
       "      <th>4</th>\n",
       "      <td>0</td>\n",
       "      <td>0</td>\n",
       "      <td>32</td>\n",
       "      <td>29.0</td>\n",
       "      <td>40.0</td>\n",
       "      <td>11.0</td>\n",
       "      <td>0</td>\n",
       "      <td>29</td>\n",
       "      <td>40</td>\n",
       "      <td>6.0</td>\n",
       "      <td>0</td>\n",
       "      <td>5576.0</td>\n",
       "    </tr>\n",
       "  </tbody>\n",
       "</table>\n",
       "</div>"
      ],
      "text/plain": [
       "   date_block_num  shop_id  item_id  city_id_x  item_category_id_x  type_id  \\\n",
       "0               0        0       19       29.0                40.0     11.0   \n",
       "1               0        0       27       29.0                19.0      5.0   \n",
       "2               0        0       28       29.0                30.0      8.0   \n",
       "3               0        0       29       29.0                23.0      5.0   \n",
       "4               0        0       32       29.0                40.0     11.0   \n",
       "\n",
       "   ID  city_id_y  item_category_id_y  item_cnt_month  decjan  shop_cnt_month  \n",
       "0   0         29                  40             0.0       0          5576.0  \n",
       "1   0         29                  19             0.0       0          5576.0  \n",
       "2   0         29                  30             0.0       0          5576.0  \n",
       "3   0         29                  23             0.0       0          5576.0  \n",
       "4   0         29                  40             6.0       0          5576.0  "
      ]
     },
     "execution_count": 80,
     "metadata": {},
     "output_type": "execute_result"
    }
   ],
   "source": [
    "matrix1.head()"
   ]
  },
  {
   "cell_type": "code",
   "execution_count": 81,
   "id": "c736b385",
   "metadata": {
    "id": "c736b385"
   },
   "outputs": [],
   "source": [
    "# 2014년 2월 28일 이전 이후\n",
    "sales.loc[sales.date > datetime.strptime('2014-02-28','%Y-%m-%d'),'aft0228'] = 1"
   ]
  },
  {
   "cell_type": "code",
   "execution_count": 82,
   "id": "7966dca9",
   "metadata": {
    "id": "7966dca9"
   },
   "outputs": [],
   "source": [
    "matrix2 = matrix1.copy()"
   ]
  },
  {
   "cell_type": "code",
   "execution_count": 83,
   "id": "db2f104e",
   "metadata": {
    "id": "db2f104e",
    "outputId": "d335de9f-31dc-4027-f782-e61c5be5912f"
   },
   "outputs": [
    {
     "data": {
      "text/html": [
       "<div>\n",
       "<style scoped>\n",
       "    .dataframe tbody tr th:only-of-type {\n",
       "        vertical-align: middle;\n",
       "    }\n",
       "\n",
       "    .dataframe tbody tr th {\n",
       "        vertical-align: top;\n",
       "    }\n",
       "\n",
       "    .dataframe thead th {\n",
       "        text-align: right;\n",
       "    }\n",
       "</style>\n",
       "<table border=\"1\" class=\"dataframe\">\n",
       "  <thead>\n",
       "    <tr style=\"text-align: right;\">\n",
       "      <th></th>\n",
       "      <th>date_block_num</th>\n",
       "      <th>shop_id</th>\n",
       "      <th>item_id</th>\n",
       "      <th>city_id_x</th>\n",
       "      <th>item_category_id_x</th>\n",
       "      <th>type_id</th>\n",
       "      <th>ID</th>\n",
       "      <th>city_id_y</th>\n",
       "      <th>item_category_id_y</th>\n",
       "      <th>item_cnt_month</th>\n",
       "      <th>shop_cnt_month</th>\n",
       "      <th>decjan_0</th>\n",
       "      <th>decjan_1</th>\n",
       "    </tr>\n",
       "  </thead>\n",
       "  <tbody>\n",
       "    <tr>\n",
       "      <th>0</th>\n",
       "      <td>0</td>\n",
       "      <td>0</td>\n",
       "      <td>19</td>\n",
       "      <td>29.0</td>\n",
       "      <td>40.0</td>\n",
       "      <td>11.0</td>\n",
       "      <td>0</td>\n",
       "      <td>29</td>\n",
       "      <td>40</td>\n",
       "      <td>0.0</td>\n",
       "      <td>5576.0</td>\n",
       "      <td>1</td>\n",
       "      <td>0</td>\n",
       "    </tr>\n",
       "    <tr>\n",
       "      <th>1</th>\n",
       "      <td>0</td>\n",
       "      <td>0</td>\n",
       "      <td>27</td>\n",
       "      <td>29.0</td>\n",
       "      <td>19.0</td>\n",
       "      <td>5.0</td>\n",
       "      <td>0</td>\n",
       "      <td>29</td>\n",
       "      <td>19</td>\n",
       "      <td>0.0</td>\n",
       "      <td>5576.0</td>\n",
       "      <td>1</td>\n",
       "      <td>0</td>\n",
       "    </tr>\n",
       "    <tr>\n",
       "      <th>2</th>\n",
       "      <td>0</td>\n",
       "      <td>0</td>\n",
       "      <td>28</td>\n",
       "      <td>29.0</td>\n",
       "      <td>30.0</td>\n",
       "      <td>8.0</td>\n",
       "      <td>0</td>\n",
       "      <td>29</td>\n",
       "      <td>30</td>\n",
       "      <td>0.0</td>\n",
       "      <td>5576.0</td>\n",
       "      <td>1</td>\n",
       "      <td>0</td>\n",
       "    </tr>\n",
       "    <tr>\n",
       "      <th>3</th>\n",
       "      <td>0</td>\n",
       "      <td>0</td>\n",
       "      <td>29</td>\n",
       "      <td>29.0</td>\n",
       "      <td>23.0</td>\n",
       "      <td>5.0</td>\n",
       "      <td>0</td>\n",
       "      <td>29</td>\n",
       "      <td>23</td>\n",
       "      <td>0.0</td>\n",
       "      <td>5576.0</td>\n",
       "      <td>1</td>\n",
       "      <td>0</td>\n",
       "    </tr>\n",
       "    <tr>\n",
       "      <th>4</th>\n",
       "      <td>0</td>\n",
       "      <td>0</td>\n",
       "      <td>32</td>\n",
       "      <td>29.0</td>\n",
       "      <td>40.0</td>\n",
       "      <td>11.0</td>\n",
       "      <td>0</td>\n",
       "      <td>29</td>\n",
       "      <td>40</td>\n",
       "      <td>6.0</td>\n",
       "      <td>5576.0</td>\n",
       "      <td>1</td>\n",
       "      <td>0</td>\n",
       "    </tr>\n",
       "    <tr>\n",
       "      <th>...</th>\n",
       "      <td>...</td>\n",
       "      <td>...</td>\n",
       "      <td>...</td>\n",
       "      <td>...</td>\n",
       "      <td>...</td>\n",
       "      <td>...</td>\n",
       "      <td>...</td>\n",
       "      <td>...</td>\n",
       "      <td>...</td>\n",
       "      <td>...</td>\n",
       "      <td>...</td>\n",
       "      <td>...</td>\n",
       "      <td>...</td>\n",
       "    </tr>\n",
       "    <tr>\n",
       "      <th>11098655</th>\n",
       "      <td>34</td>\n",
       "      <td>45</td>\n",
       "      <td>18454</td>\n",
       "      <td>0.0</td>\n",
       "      <td>0.0</td>\n",
       "      <td>0.0</td>\n",
       "      <td>214195</td>\n",
       "      <td>20</td>\n",
       "      <td>55</td>\n",
       "      <td>0.0</td>\n",
       "      <td>0.0</td>\n",
       "      <td>1</td>\n",
       "      <td>0</td>\n",
       "    </tr>\n",
       "    <tr>\n",
       "      <th>11098656</th>\n",
       "      <td>34</td>\n",
       "      <td>45</td>\n",
       "      <td>16188</td>\n",
       "      <td>0.0</td>\n",
       "      <td>0.0</td>\n",
       "      <td>0.0</td>\n",
       "      <td>214196</td>\n",
       "      <td>20</td>\n",
       "      <td>64</td>\n",
       "      <td>0.0</td>\n",
       "      <td>0.0</td>\n",
       "      <td>1</td>\n",
       "      <td>0</td>\n",
       "    </tr>\n",
       "    <tr>\n",
       "      <th>11098657</th>\n",
       "      <td>34</td>\n",
       "      <td>45</td>\n",
       "      <td>15757</td>\n",
       "      <td>0.0</td>\n",
       "      <td>0.0</td>\n",
       "      <td>0.0</td>\n",
       "      <td>214197</td>\n",
       "      <td>20</td>\n",
       "      <td>55</td>\n",
       "      <td>0.0</td>\n",
       "      <td>0.0</td>\n",
       "      <td>1</td>\n",
       "      <td>0</td>\n",
       "    </tr>\n",
       "    <tr>\n",
       "      <th>11098658</th>\n",
       "      <td>34</td>\n",
       "      <td>45</td>\n",
       "      <td>19648</td>\n",
       "      <td>0.0</td>\n",
       "      <td>0.0</td>\n",
       "      <td>0.0</td>\n",
       "      <td>214198</td>\n",
       "      <td>20</td>\n",
       "      <td>40</td>\n",
       "      <td>0.0</td>\n",
       "      <td>0.0</td>\n",
       "      <td>1</td>\n",
       "      <td>0</td>\n",
       "    </tr>\n",
       "    <tr>\n",
       "      <th>11098659</th>\n",
       "      <td>34</td>\n",
       "      <td>45</td>\n",
       "      <td>969</td>\n",
       "      <td>0.0</td>\n",
       "      <td>0.0</td>\n",
       "      <td>0.0</td>\n",
       "      <td>214199</td>\n",
       "      <td>20</td>\n",
       "      <td>37</td>\n",
       "      <td>0.0</td>\n",
       "      <td>0.0</td>\n",
       "      <td>1</td>\n",
       "      <td>0</td>\n",
       "    </tr>\n",
       "  </tbody>\n",
       "</table>\n",
       "<p>11098660 rows × 13 columns</p>\n",
       "</div>"
      ],
      "text/plain": [
       "          date_block_num  shop_id  item_id  city_id_x  item_category_id_x  \\\n",
       "0                      0        0       19       29.0                40.0   \n",
       "1                      0        0       27       29.0                19.0   \n",
       "2                      0        0       28       29.0                30.0   \n",
       "3                      0        0       29       29.0                23.0   \n",
       "4                      0        0       32       29.0                40.0   \n",
       "...                  ...      ...      ...        ...                 ...   \n",
       "11098655              34       45    18454        0.0                 0.0   \n",
       "11098656              34       45    16188        0.0                 0.0   \n",
       "11098657              34       45    15757        0.0                 0.0   \n",
       "11098658              34       45    19648        0.0                 0.0   \n",
       "11098659              34       45      969        0.0                 0.0   \n",
       "\n",
       "          type_id      ID  city_id_y  item_category_id_y  item_cnt_month  \\\n",
       "0            11.0       0         29                  40             0.0   \n",
       "1             5.0       0         29                  19             0.0   \n",
       "2             8.0       0         29                  30             0.0   \n",
       "3             5.0       0         29                  23             0.0   \n",
       "4            11.0       0         29                  40             6.0   \n",
       "...           ...     ...        ...                 ...             ...   \n",
       "11098655      0.0  214195         20                  55             0.0   \n",
       "11098656      0.0  214196         20                  64             0.0   \n",
       "11098657      0.0  214197         20                  55             0.0   \n",
       "11098658      0.0  214198         20                  40             0.0   \n",
       "11098659      0.0  214199         20                  37             0.0   \n",
       "\n",
       "          shop_cnt_month  decjan_0  decjan_1  \n",
       "0                 5576.0         1         0  \n",
       "1                 5576.0         1         0  \n",
       "2                 5576.0         1         0  \n",
       "3                 5576.0         1         0  \n",
       "4                 5576.0         1         0  \n",
       "...                  ...       ...       ...  \n",
       "11098655             0.0         1         0  \n",
       "11098656             0.0         1         0  \n",
       "11098657             0.0         1         0  \n",
       "11098658             0.0         1         0  \n",
       "11098659             0.0         1         0  \n",
       "\n",
       "[11098660 rows x 13 columns]"
      ]
     },
     "execution_count": 83,
     "metadata": {},
     "output_type": "execute_result"
    }
   ],
   "source": [
    "# decjan 원-핫 인코딩\n",
    "pd.get_dummies(matrix2, columns = ['decjan'])"
   ]
  },
  {
   "cell_type": "code",
   "execution_count": 84,
   "id": "07b0267b",
   "metadata": {
    "id": "07b0267b"
   },
   "outputs": [],
   "source": [
    "# decjan 평균값 인코딩\n",
    "decjan_mean = matrix2.groupby('decjan')['item_cnt_month'].mean()\n",
    "matrix2['decjan_mean'] = matrix2['decjan'].map(decjan_mean)"
   ]
  },
  {
   "cell_type": "code",
   "execution_count": 85,
   "id": "9be75076",
   "metadata": {
    "id": "9be75076",
    "outputId": "42323d67-724c-4bc5-eca5-ce2c37ad63ed"
   },
   "outputs": [
    {
     "data": {
      "text/html": [
       "<div>\n",
       "<style scoped>\n",
       "    .dataframe tbody tr th:only-of-type {\n",
       "        vertical-align: middle;\n",
       "    }\n",
       "\n",
       "    .dataframe tbody tr th {\n",
       "        vertical-align: top;\n",
       "    }\n",
       "\n",
       "    .dataframe thead th {\n",
       "        text-align: right;\n",
       "    }\n",
       "</style>\n",
       "<table border=\"1\" class=\"dataframe\">\n",
       "  <thead>\n",
       "    <tr style=\"text-align: right;\">\n",
       "      <th></th>\n",
       "      <th>date_block_num</th>\n",
       "      <th>shop_id</th>\n",
       "      <th>item_id</th>\n",
       "      <th>city_id_x</th>\n",
       "      <th>item_category_id_x</th>\n",
       "      <th>type_id</th>\n",
       "      <th>ID</th>\n",
       "      <th>city_id_y</th>\n",
       "      <th>item_category_id_y</th>\n",
       "      <th>item_cnt_month</th>\n",
       "      <th>decjan</th>\n",
       "      <th>shop_cnt_month</th>\n",
       "      <th>decjan_mean</th>\n",
       "    </tr>\n",
       "  </thead>\n",
       "  <tbody>\n",
       "    <tr>\n",
       "      <th>0</th>\n",
       "      <td>0</td>\n",
       "      <td>0</td>\n",
       "      <td>19</td>\n",
       "      <td>29.0</td>\n",
       "      <td>40.0</td>\n",
       "      <td>11.0</td>\n",
       "      <td>0</td>\n",
       "      <td>29</td>\n",
       "      <td>40</td>\n",
       "      <td>0.0</td>\n",
       "      <td>0</td>\n",
       "      <td>5576.0</td>\n",
       "      <td>0.315186</td>\n",
       "    </tr>\n",
       "    <tr>\n",
       "      <th>1</th>\n",
       "      <td>0</td>\n",
       "      <td>0</td>\n",
       "      <td>27</td>\n",
       "      <td>29.0</td>\n",
       "      <td>19.0</td>\n",
       "      <td>5.0</td>\n",
       "      <td>0</td>\n",
       "      <td>29</td>\n",
       "      <td>19</td>\n",
       "      <td>0.0</td>\n",
       "      <td>0</td>\n",
       "      <td>5576.0</td>\n",
       "      <td>0.315186</td>\n",
       "    </tr>\n",
       "    <tr>\n",
       "      <th>2</th>\n",
       "      <td>0</td>\n",
       "      <td>0</td>\n",
       "      <td>28</td>\n",
       "      <td>29.0</td>\n",
       "      <td>30.0</td>\n",
       "      <td>8.0</td>\n",
       "      <td>0</td>\n",
       "      <td>29</td>\n",
       "      <td>30</td>\n",
       "      <td>0.0</td>\n",
       "      <td>0</td>\n",
       "      <td>5576.0</td>\n",
       "      <td>0.315186</td>\n",
       "    </tr>\n",
       "    <tr>\n",
       "      <th>3</th>\n",
       "      <td>0</td>\n",
       "      <td>0</td>\n",
       "      <td>29</td>\n",
       "      <td>29.0</td>\n",
       "      <td>23.0</td>\n",
       "      <td>5.0</td>\n",
       "      <td>0</td>\n",
       "      <td>29</td>\n",
       "      <td>23</td>\n",
       "      <td>0.0</td>\n",
       "      <td>0</td>\n",
       "      <td>5576.0</td>\n",
       "      <td>0.315186</td>\n",
       "    </tr>\n",
       "    <tr>\n",
       "      <th>4</th>\n",
       "      <td>0</td>\n",
       "      <td>0</td>\n",
       "      <td>32</td>\n",
       "      <td>29.0</td>\n",
       "      <td>40.0</td>\n",
       "      <td>11.0</td>\n",
       "      <td>0</td>\n",
       "      <td>29</td>\n",
       "      <td>40</td>\n",
       "      <td>6.0</td>\n",
       "      <td>0</td>\n",
       "      <td>5576.0</td>\n",
       "      <td>0.315186</td>\n",
       "    </tr>\n",
       "  </tbody>\n",
       "</table>\n",
       "</div>"
      ],
      "text/plain": [
       "   date_block_num  shop_id  item_id  city_id_x  item_category_id_x  type_id  \\\n",
       "0               0        0       19       29.0                40.0     11.0   \n",
       "1               0        0       27       29.0                19.0      5.0   \n",
       "2               0        0       28       29.0                30.0      8.0   \n",
       "3               0        0       29       29.0                23.0      5.0   \n",
       "4               0        0       32       29.0                40.0     11.0   \n",
       "\n",
       "   ID  city_id_y  item_category_id_y  item_cnt_month  decjan  shop_cnt_month  \\\n",
       "0   0         29                  40             0.0       0          5576.0   \n",
       "1   0         29                  19             0.0       0          5576.0   \n",
       "2   0         29                  30             0.0       0          5576.0   \n",
       "3   0         29                  23             0.0       0          5576.0   \n",
       "4   0         29                  40             6.0       0          5576.0   \n",
       "\n",
       "   decjan_mean  \n",
       "0     0.315186  \n",
       "1     0.315186  \n",
       "2     0.315186  \n",
       "3     0.315186  \n",
       "4     0.315186  "
      ]
     },
     "execution_count": 85,
     "metadata": {},
     "output_type": "execute_result"
    }
   ],
   "source": [
    "matrix2.head()"
   ]
  },
  {
   "cell_type": "code",
   "execution_count": 91,
   "id": "b141ba35",
   "metadata": {
    "id": "b141ba35",
    "outputId": "12f73cfd-3739-4313-e2cc-823d1405461e"
   },
   "outputs": [
    {
     "data": {
      "text/plain": [
       "decjan\n",
       "0    2.216797\n",
       "1    2.570312\n",
       "Name: item_cnt_month, dtype: float16"
      ]
     },
     "execution_count": 91,
     "metadata": {},
     "output_type": "execute_result"
    }
   ],
   "source": [
    "#12,1월 인코딩 했을 때 비율\n",
    "decjan_mean"
   ]
  },
  {
   "cell_type": "code",
   "execution_count": 87,
   "id": "9b756ff1",
   "metadata": {
    "id": "9b756ff1"
   },
   "outputs": [
    {
     "name": "stdout",
     "output_type": "stream",
     "text": [
      "<class 'pandas.core.frame.DataFrame'>\n",
      "Int64Index: 11098660 entries, 0 to 11098659\n",
      "Data columns (total 13 columns):\n",
      " #   Column              Dtype  \n",
      "---  ------              -----  \n",
      " 0   date_block_num      int8   \n",
      " 1   shop_id             int8   \n",
      " 2   item_id             int64  \n",
      " 3   city_id_x           float64\n",
      " 4   item_category_id_x  float64\n",
      " 5   type_id             float64\n",
      " 6   ID                  int32  \n",
      " 7   city_id_y           int32  \n",
      " 8   item_category_id_y  int64  \n",
      " 9   item_cnt_month      float16\n",
      " 10  decjan              int32  \n",
      " 11  shop_cnt_month      float16\n",
      " 12  decjan_mean         float16\n",
      "dtypes: float16(3), float64(3), int32(3), int64(2), int8(2)\n",
      "memory usage: 719.7 MB\n"
     ]
    }
   ],
   "source": []
  },
  {
   "cell_type": "code",
   "execution_count": null,
   "id": "bcfbadab",
   "metadata": {
    "id": "bcfbadab"
   },
   "outputs": [],
   "source": []
  },
  {
   "cell_type": "code",
   "execution_count": null,
   "id": "43848db7",
   "metadata": {
    "id": "43848db7"
   },
   "outputs": [],
   "source": []
  },
  {
   "cell_type": "code",
   "execution_count": null,
   "id": "010f5f14",
   "metadata": {
    "id": "010f5f14"
   },
   "outputs": [],
   "source": []
  },
  {
   "cell_type": "code",
   "execution_count": null,
   "id": "acade3ff",
   "metadata": {
    "id": "acade3ff"
   },
   "outputs": [],
   "source": []
  },
  {
   "cell_type": "code",
   "execution_count": 88,
   "id": "053a3346",
   "metadata": {
    "id": "053a3346"
   },
   "outputs": [],
   "source": [
    "#matrix2 = matrix1.copy()"
   ]
  },
  {
   "cell_type": "code",
   "execution_count": 89,
   "id": "2fd94512",
   "metadata": {
    "id": "2fd94512",
    "outputId": "aa4a00e5-b8db-4d8f-9091-7d007d5a242f"
   },
   "outputs": [],
   "source": [
    "#group_2 = sales.groupby(['item_id']).agg({'item_price': ['mean']})\n",
    "#group_2.columns = ['item_price_by_id']\n",
    "#group_2.reset_index(inplace=True)\n",
    "#matrix2 = pd.merge(matrix2, group_2, on = ['item_id'], how = 'left')\n",
    "#matrix2.head()"
   ]
  },
  {
   "cell_type": "code",
   "execution_count": 90,
   "id": "86be7d3a",
   "metadata": {
    "id": "86be7d3a",
    "outputId": "439da7a7-0df8-4b7e-e83b-88224b68d34a"
   },
   "outputs": [],
   "source": [
    "#sales[sales['item_id'] == 11]"
   ]
  },
  {
   "cell_type": "code",
   "execution_count": 91,
   "id": "916a77cf",
   "metadata": {
    "id": "916a77cf",
    "outputId": "5a9f73ec-2452-4836-f82f-8baca769c7b2"
   },
   "outputs": [],
   "source": [
    "#matrix2.item_price_by_id_x.isnull().sum()"
   ]
  },
  {
   "cell_type": "code",
   "execution_count": 92,
   "id": "db821abe",
   "metadata": {
    "id": "db821abe",
    "outputId": "60e3fcc8-01e9-4964-ea01-2bb2c67a2b1b"
   },
   "outputs": [],
   "source": [
    "#matrix2.item_price_by_id_y.isnull().sum()"
   ]
  },
  {
   "cell_type": "code",
   "execution_count": null,
   "id": "08e34cf0",
   "metadata": {
    "id": "08e34cf0"
   },
   "outputs": [],
   "source": []
  },
  {
   "cell_type": "markdown",
   "id": "52460cf0",
   "metadata": {
    "id": "52460cf0"
   },
   "source": [
    "### 첫번째 판매 후 지난 개월수 데이터 생성 및 matrix에 merge\n",
    "- item_shop_fisrst_sale, item_first_sale "
   ]
  },
  {
   "cell_type": "code",
   "execution_count": 93,
   "id": "392a5071",
   "metadata": {
    "id": "392a5071"
   },
   "outputs": [
    {
     "ename": "KeyboardInterrupt",
     "evalue": "",
     "output_type": "error",
     "traceback": [
      "\u001b[1;31m---------------------------------------------------------------------------\u001b[0m",
      "\u001b[1;31mKeyboardInterrupt\u001b[0m                         Traceback (most recent call last)",
      "\u001b[1;32m~\\AppData\\Local\\Temp/ipykernel_8036/1559508714.py\u001b[0m in \u001b[0;36m<module>\u001b[1;34m\u001b[0m\n\u001b[0;32m      9\u001b[0m     \u001b[0mkey\u001b[0m \u001b[1;33m=\u001b[0m \u001b[0mstr\u001b[0m\u001b[1;33m(\u001b[0m\u001b[0mrow\u001b[0m\u001b[1;33m.\u001b[0m\u001b[0mitem_id\u001b[0m\u001b[1;33m)\u001b[0m \u001b[1;33m+\u001b[0m \u001b[1;34m' '\u001b[0m \u001b[1;33m+\u001b[0m \u001b[0mstr\u001b[0m\u001b[1;33m(\u001b[0m\u001b[0mrow\u001b[0m\u001b[1;33m.\u001b[0m\u001b[0mshop_id\u001b[0m\u001b[1;33m)\u001b[0m\u001b[1;33m\u001b[0m\u001b[1;33m\u001b[0m\u001b[0m\n\u001b[0;32m     10\u001b[0m     \u001b[1;32mif\u001b[0m \u001b[0mkey\u001b[0m \u001b[1;32mnot\u001b[0m \u001b[1;32min\u001b[0m \u001b[0mcache\u001b[0m\u001b[1;33m:\u001b[0m\u001b[1;33m\u001b[0m\u001b[1;33m\u001b[0m\u001b[0m\n\u001b[1;32m---> 11\u001b[1;33m         \u001b[1;32mif\u001b[0m \u001b[0mrow\u001b[0m\u001b[1;33m.\u001b[0m\u001b[0mitem_cnt_month\u001b[0m \u001b[1;33m!=\u001b[0m \u001b[1;36m0\u001b[0m\u001b[1;33m:\u001b[0m\u001b[1;33m\u001b[0m\u001b[1;33m\u001b[0m\u001b[0m\n\u001b[0m\u001b[0;32m     12\u001b[0m             \u001b[0mcache\u001b[0m\u001b[1;33m[\u001b[0m\u001b[0mkey\u001b[0m\u001b[1;33m]\u001b[0m \u001b[1;33m=\u001b[0m \u001b[0mrow\u001b[0m\u001b[1;33m.\u001b[0m\u001b[0mdate_block_num\u001b[0m\u001b[1;33m\u001b[0m\u001b[1;33m\u001b[0m\u001b[0m\n\u001b[0;32m     13\u001b[0m     \u001b[1;32melse\u001b[0m\u001b[1;33m:\u001b[0m\u001b[1;33m\u001b[0m\u001b[1;33m\u001b[0m\u001b[0m\n",
      "\u001b[1;31mKeyboardInterrupt\u001b[0m: "
     ]
    }
   ],
   "source": [
    "# 마지막 판매가 있고 나서부터 지난 개월 수 -> 추세 파악을 위해 먼저 이 코드 실행\n",
    "# shop-item 별\n",
    "\n",
    "cache = {}\n",
    "matrix1['item_shop_last_sale'] = -1\n",
    "matrix1['item_shop_last_sale'] = matrix1['item_shop_last_sale'].astype(np.int8)\n",
    "\n",
    "for index, row in matrix1.iterrows():\n",
    "    key = str(row.item_id) + ' ' + str(row.shop_id)\n",
    "    if key not in cache:\n",
    "        if row.item_cnt_month != 0:\n",
    "            cache[key] = row.date_block_num\n",
    "    else:\n",
    "        last_date_block_num = cache[key]\n",
    "        matrix1.at[index, 'item_shop_last_sale'] = row.date_block_num - last_date_block_num\n",
    "        cache[key] = row.date_block_num\n",
    "# 20분 걸림"
   ]
  },
  {
   "cell_type": "code",
   "execution_count": null,
   "id": "42599c78",
   "metadata": {
    "id": "42599c78"
   },
   "outputs": [],
   "source": [
    "# item별\n",
    "cache = {}\n",
    "matrix1['item_last_sale'] = -1\n",
    "matrix1['item_last_sale'] = matrix1['item_last_sale'].astype(np.int8)\n",
    "\n",
    "for index, row in matrix1.iterrows():\n",
    "    key = row.item_id\n",
    "    if key not in cache:\n",
    "        if row.item_cnt_month != 0:\n",
    "            cache[key] = row.date_block_num\n",
    "    else:\n",
    "        last_date_block_num = cache[key]\n",
    "        if row.date_block_num > last_date_block_num:\n",
    "            matrix1.at[index, 'item_last_sale'] = row.date_block_num - last_date_block_num\n",
    "            cache[key] = row.date_block_num\n",
    "\n",
    "# 15분 걸림"
   ]
  },
  {
   "cell_type": "code",
   "execution_count": 94,
   "id": "a1bf1830",
   "metadata": {
    "colab": {
     "base_uri": "https://localhost:8080/"
    },
    "executionInfo": {
     "elapsed": 2752,
     "status": "ok",
     "timestamp": 1645323482869,
     "user": {
      "displayName": "남궁정후",
      "photoUrl": "https://lh3.googleusercontent.com/a/default-user=s64",
      "userId": "00760625701380821498"
     },
     "user_tz": -540
    },
    "id": "a1bf1830",
    "outputId": "19744afc-3981-4d6e-d1f8-7b1a872e31bc"
   },
   "outputs": [
    {
     "data": {
      "text/plain": [
       "0            0\n",
       "1            0\n",
       "2            0\n",
       "3            0\n",
       "4            0\n",
       "            ..\n",
       "11098655    11\n",
       "11098656     2\n",
       "11098657    34\n",
       "11098658    11\n",
       "11098659    17\n",
       "Name: date_block_num, Length: 11098660, dtype: int8"
      ]
     },
     "execution_count": 94,
     "metadata": {},
     "output_type": "execute_result"
    }
   ],
   "source": [
    "#첫번째 판매 후 지난 개월 수 (shop-item pair, item pair 별)\n",
    "\n",
    "matrix1.groupby(['item_id','shop_id'])['date_block_num']\n",
    "matrix1['date_block_num'] - matrix1.groupby(['item_id', 'shop_id'])['date_block_num'].transform('min')"
   ]
  },
  {
   "cell_type": "code",
   "execution_count": 95,
   "id": "3a747c41",
   "metadata": {
    "colab": {
     "base_uri": "https://localhost:8080/",
     "height": 270
    },
    "executionInfo": {
     "elapsed": 3170,
     "status": "ok",
     "timestamp": 1645323489273,
     "user": {
      "displayName": "남궁정후",
      "photoUrl": "https://lh3.googleusercontent.com/a/default-user=s64",
      "userId": "00760625701380821498"
     },
     "user_tz": -540
    },
    "id": "3a747c41",
    "outputId": "e8d29cc3-6679-47c3-93e6-24d207231f53"
   },
   "outputs": [
    {
     "data": {
      "text/html": [
       "<div>\n",
       "<style scoped>\n",
       "    .dataframe tbody tr th:only-of-type {\n",
       "        vertical-align: middle;\n",
       "    }\n",
       "\n",
       "    .dataframe tbody tr th {\n",
       "        vertical-align: top;\n",
       "    }\n",
       "\n",
       "    .dataframe thead th {\n",
       "        text-align: right;\n",
       "    }\n",
       "</style>\n",
       "<table border=\"1\" class=\"dataframe\">\n",
       "  <thead>\n",
       "    <tr style=\"text-align: right;\">\n",
       "      <th></th>\n",
       "      <th>date_block_num</th>\n",
       "      <th>shop_id</th>\n",
       "      <th>item_id</th>\n",
       "      <th>city_id_x</th>\n",
       "      <th>item_category_id_x</th>\n",
       "      <th>type_id</th>\n",
       "      <th>ID</th>\n",
       "      <th>city_id_y</th>\n",
       "      <th>item_category_id_y</th>\n",
       "      <th>item_cnt_month</th>\n",
       "      <th>decjan</th>\n",
       "      <th>shop_cnt_month</th>\n",
       "      <th>item_shop_last_sale</th>\n",
       "      <th>item_shop_first_sale</th>\n",
       "      <th>item_first_sale</th>\n",
       "    </tr>\n",
       "  </thead>\n",
       "  <tbody>\n",
       "    <tr>\n",
       "      <th>0</th>\n",
       "      <td>0</td>\n",
       "      <td>0</td>\n",
       "      <td>19</td>\n",
       "      <td>29.0</td>\n",
       "      <td>40.0</td>\n",
       "      <td>11.0</td>\n",
       "      <td>0</td>\n",
       "      <td>29</td>\n",
       "      <td>40</td>\n",
       "      <td>0.0</td>\n",
       "      <td>0</td>\n",
       "      <td>5576.0</td>\n",
       "      <td>-1</td>\n",
       "      <td>0</td>\n",
       "      <td>0</td>\n",
       "    </tr>\n",
       "    <tr>\n",
       "      <th>1</th>\n",
       "      <td>0</td>\n",
       "      <td>0</td>\n",
       "      <td>27</td>\n",
       "      <td>29.0</td>\n",
       "      <td>19.0</td>\n",
       "      <td>5.0</td>\n",
       "      <td>0</td>\n",
       "      <td>29</td>\n",
       "      <td>19</td>\n",
       "      <td>0.0</td>\n",
       "      <td>0</td>\n",
       "      <td>5576.0</td>\n",
       "      <td>-1</td>\n",
       "      <td>0</td>\n",
       "      <td>0</td>\n",
       "    </tr>\n",
       "    <tr>\n",
       "      <th>2</th>\n",
       "      <td>0</td>\n",
       "      <td>0</td>\n",
       "      <td>28</td>\n",
       "      <td>29.0</td>\n",
       "      <td>30.0</td>\n",
       "      <td>8.0</td>\n",
       "      <td>0</td>\n",
       "      <td>29</td>\n",
       "      <td>30</td>\n",
       "      <td>0.0</td>\n",
       "      <td>0</td>\n",
       "      <td>5576.0</td>\n",
       "      <td>-1</td>\n",
       "      <td>0</td>\n",
       "      <td>0</td>\n",
       "    </tr>\n",
       "    <tr>\n",
       "      <th>3</th>\n",
       "      <td>0</td>\n",
       "      <td>0</td>\n",
       "      <td>29</td>\n",
       "      <td>29.0</td>\n",
       "      <td>23.0</td>\n",
       "      <td>5.0</td>\n",
       "      <td>0</td>\n",
       "      <td>29</td>\n",
       "      <td>23</td>\n",
       "      <td>0.0</td>\n",
       "      <td>0</td>\n",
       "      <td>5576.0</td>\n",
       "      <td>-1</td>\n",
       "      <td>0</td>\n",
       "      <td>0</td>\n",
       "    </tr>\n",
       "    <tr>\n",
       "      <th>4</th>\n",
       "      <td>0</td>\n",
       "      <td>0</td>\n",
       "      <td>32</td>\n",
       "      <td>29.0</td>\n",
       "      <td>40.0</td>\n",
       "      <td>11.0</td>\n",
       "      <td>0</td>\n",
       "      <td>29</td>\n",
       "      <td>40</td>\n",
       "      <td>6.0</td>\n",
       "      <td>0</td>\n",
       "      <td>5576.0</td>\n",
       "      <td>-1</td>\n",
       "      <td>0</td>\n",
       "      <td>0</td>\n",
       "    </tr>\n",
       "  </tbody>\n",
       "</table>\n",
       "</div>"
      ],
      "text/plain": [
       "   date_block_num  shop_id  item_id  city_id_x  item_category_id_x  type_id  \\\n",
       "0               0        0       19       29.0                40.0     11.0   \n",
       "1               0        0       27       29.0                19.0      5.0   \n",
       "2               0        0       28       29.0                30.0      8.0   \n",
       "3               0        0       29       29.0                23.0      5.0   \n",
       "4               0        0       32       29.0                40.0     11.0   \n",
       "\n",
       "   ID  city_id_y  item_category_id_y  item_cnt_month  decjan  shop_cnt_month  \\\n",
       "0   0         29                  40             0.0       0          5576.0   \n",
       "1   0         29                  19             0.0       0          5576.0   \n",
       "2   0         29                  30             0.0       0          5576.0   \n",
       "3   0         29                  23             0.0       0          5576.0   \n",
       "4   0         29                  40             6.0       0          5576.0   \n",
       "\n",
       "   item_shop_last_sale  item_shop_first_sale  item_first_sale  \n",
       "0                   -1                     0                0  \n",
       "1                   -1                     0                0  \n",
       "2                   -1                     0                0  \n",
       "3                   -1                     0                0  \n",
       "4                   -1                     0                0  "
      ]
     },
     "execution_count": 95,
     "metadata": {},
     "output_type": "execute_result"
    }
   ],
   "source": [
    "matrix1['item_shop_first_sale'] = matrix1['date_block_num'] - matrix1.groupby(['item_id', 'shop_id'])['date_block_num'].transform('min')\n",
    "matrix1['item_first_sale'] = matrix1['date_block_num'] - matrix1.groupby('item_id')['date_block_num'].transform('min')\n",
    "matrix1.head()"
   ]
  },
  {
   "cell_type": "code",
   "execution_count": 96,
   "id": "382ed92f",
   "metadata": {},
   "outputs": [
    {
     "name": "stdout",
     "output_type": "stream",
     "text": [
      "<class 'pandas.core.frame.DataFrame'>\n",
      "Int64Index: 11098660 entries, 0 to 11098659\n",
      "Data columns (total 15 columns):\n",
      " #   Column                Dtype  \n",
      "---  ------                -----  \n",
      " 0   date_block_num        int8   \n",
      " 1   shop_id               int8   \n",
      " 2   item_id               int64  \n",
      " 3   city_id_x             float64\n",
      " 4   item_category_id_x    float64\n",
      " 5   type_id               float64\n",
      " 6   ID                    int32  \n",
      " 7   city_id_y             int32  \n",
      " 8   item_category_id_y    int64  \n",
      " 9   item_cnt_month        float16\n",
      " 10  decjan                int32  \n",
      " 11  shop_cnt_month        float16\n",
      " 12  item_shop_last_sale   int8   \n",
      " 13  item_shop_first_sale  int8   \n",
      " 14  item_first_sale       int8   \n",
      "dtypes: float16(2), float64(3), int32(3), int64(2), int8(5)\n",
      "memory usage: 730.3 MB\n"
     ]
    },
    {
     "data": {
      "text/plain": [
       "2928469"
      ]
     },
     "execution_count": 96,
     "metadata": {},
     "output_type": "execute_result"
    }
   ],
   "source": [
    "matrix1.info()\n",
    "\n",
    "1608221\n",
    "2928469"
   ]
  },
  {
   "cell_type": "code",
   "execution_count": 97,
   "id": "3355667c",
   "metadata": {},
   "outputs": [
    {
     "name": "stdout",
     "output_type": "stream",
     "text": [
      "<class 'pandas.core.frame.DataFrame'>\n",
      "Int64Index: 2928469 entries, 0 to 2935848\n",
      "Data columns (total 12 columns):\n",
      " #   Column          Dtype         \n",
      "---  ------          -----         \n",
      " 0   date            datetime64[ns]\n",
      " 1   year            int64         \n",
      " 2   month           int64         \n",
      " 3   day             int64         \n",
      " 4   day_of_week     int64         \n",
      " 5   date_block_num  int64         \n",
      " 6   shop_id         int64         \n",
      " 7   item_id         int64         \n",
      " 8   item_price      float64       \n",
      " 9   item_cnt_day    float64       \n",
      " 10  revenue         float64       \n",
      " 11  aft0228         float64       \n",
      "dtypes: datetime64[ns](1), float64(4), int64(7)\n",
      "memory usage: 355.0 MB\n"
     ]
    }
   ],
   "source": [
    "sales.info()"
   ]
  },
  {
   "cell_type": "markdown",
   "id": "2bfe1d4f",
   "metadata": {
    "id": "2bfe1d4f"
   },
   "source": [
    "# 2. EDA"
   ]
  },
  {
   "cell_type": "markdown",
   "id": "489e4295",
   "metadata": {
    "id": "489e4295"
   },
   "source": [
    "### 1) 월별 거래수"
   ]
  },
  {
   "cell_type": "code",
   "execution_count": 98,
   "id": "cd8696e1",
   "metadata": {
    "colab": {
     "base_uri": "https://localhost:8080/",
     "height": 298
    },
    "executionInfo": {
     "elapsed": 782,
     "status": "ok",
     "timestamp": 1645323496580,
     "user": {
      "displayName": "남궁정후",
      "photoUrl": "https://lh3.googleusercontent.com/a/default-user=s64",
      "userId": "00760625701380821498"
     },
     "user_tz": -540
    },
    "id": "cd8696e1",
    "outputId": "dc041a88-092e-4cfd-f8b6-3e37062269b2"
   },
   "outputs": [
    {
     "data": {
      "image/png": "[encoded data removed]",
      "text/plain": [
       "<Figure size 432x288 with 1 Axes>"
      ]
     },
     "metadata": {},
     "output_type": "display_data"
    }
   ],
   "source": [
    "#월별 거래수\n",
    "sales.groupby('date_block_num').count()\n",
    "sales.groupby('date_block_num')['date'].count()\n",
    "\n",
    "transactions = sales.groupby('date_block_num')['date'].count()\n",
    "transactions\n",
    "\n",
    "plt.style.use('ggplot')\n",
    "transactions.plot(title = 'number of transactions of month', color = 'black')\n",
    "plt.show()"
   ]
  },
  {
   "cell_type": "markdown",
   "id": "b6614036",
   "metadata": {
    "id": "b6614036"
   },
   "source": [
    "전체적으로 월별 거래수가 꾸준히 하락함  \n",
    "엄청 높게 치솟는 두 개 점은 연말(13년 12월, 14년 12월)임"
   ]
  },
  {
   "cell_type": "markdown",
   "id": "03824ac9",
   "metadata": {
    "id": "03824ac9"
   },
   "source": [
    "### 2) 월별 거래된 shops 수, 월별 거래된 items 수"
   ]
  },
  {
   "cell_type": "code",
   "execution_count": 101,
   "id": "6ca4f5d6",
   "metadata": {
    "colab": {
     "base_uri": "https://localhost:8080/"
    },
    "executionInfo": {
     "elapsed": 4298,
     "status": "ok",
     "timestamp": 1645323853631,
     "user": {
      "displayName": "남궁정후",
      "photoUrl": "https://lh3.googleusercontent.com/a/default-user=s64",
      "userId": "00760625701380821498"
     },
     "user_tz": -540
    },
    "id": "6ca4f5d6",
    "outputId": "cb48865b-6e03-4752-fe86-cd40e3bdfe72"
   },
   "outputs": [
    {
     "data": {
      "text/plain": [
       "60"
      ]
     },
     "execution_count": 101,
     "metadata": {},
     "output_type": "execute_result"
    }
   ],
   "source": [
    "# 각 월 블록에서 매출 데이터에 거래가 있는 고유 상점 및 품목 수\n",
    "shop_count = sales.groupby('date_block_num')['shop_id'].nunique()\n",
    "item_count = sales.groupby('date_block_num')['item_id'].nunique()\n",
    "\n",
    "sales.groupby('date_block_num').nunique()\n",
    "#sales.groupby('date_block_num')['shop_id'].nunique() # 월별 고유 상점수\n",
    "#sales.groupby('date_block_num')['item_id'].nunique()  # 월별 고유 아이템수\n",
    "\n",
    "sales['item_id'].nunique() #item 21802개\n",
    "items['item_id'].nunique() #item 22170개\n",
    "#sales['shop_id'].nunique() #shop 60개\n",
    "shops['shop_id'].nunique() #shop 60개"
   ]
  },
  {
   "cell_type": "markdown",
   "id": "3f336217",
   "metadata": {
    "id": "3f336217"
   },
   "source": [
    "sales에 있는 item_id랑 items에 있는 item_id의 수가 다름"
   ]
  },
  {
   "cell_type": "code",
   "execution_count": 102,
   "id": "068eab17",
   "metadata": {
    "colab": {
     "base_uri": "https://localhost:8080/",
     "height": 353
    },
    "executionInfo": {
     "elapsed": 929,
     "status": "ok",
     "timestamp": 1645323858589,
     "user": {
      "displayName": "남궁정후",
      "photoUrl": "https://lh3.googleusercontent.com/a/default-user=s64",
      "userId": "00760625701380821498"
     },
     "user_tz": -540
    },
    "id": "068eab17",
    "outputId": "3cf257f6-a23c-4810-f065-3adecd1f7093"
   },
   "outputs": [
    {
     "data": {
      "image/png": "[encoded data removed]",
      "text/plain": [
       "<Figure size 864x360 with 2 Axes>"
      ]
     },
     "metadata": {},
     "output_type": "display_data"
    }
   ],
   "source": [
    "fig, ax = plt.subplots(1,2, figsize = (12,5))\n",
    "shop_count.plot(ax = ax[0], color = 'red')\n",
    "item_count.plot(ax = ax[1], color = 'blue')\n",
    "ax[0].set_title('number of shops with transactions') #거래가 있는 상점수\n",
    "ax[1].set_title('number of items with transactions') #거래된 아이템수\n",
    "plt.show()"
   ]
  },
  {
   "cell_type": "markdown",
   "id": "732b54be",
   "metadata": {
    "id": "732b54be"
   },
   "source": [
    "연말을 제외하고는 월별 거래수와 월별 거래된 아이템수 모두 하락세\n",
    "거래처들의 수는 2년차부터는 느는 듯 했으나 2말부터 훅훅 떨어짐  \n",
    "그리고 거래처수가 60개로 나오는데 차트를 보면 매달 모든 가게에서 거래되는 게 아니고 물건도 많이 못미침"
   ]
  },
  {
   "cell_type": "markdown",
   "id": "a261f14a",
   "metadata": {
    "id": "a261f14a"
   },
   "source": [
    "### 3) 상점별 하루 item 판매개수"
   ]
  },
  {
   "cell_type": "code",
   "execution_count": 103,
   "id": "58bcc95a",
   "metadata": {
    "colab": {
     "base_uri": "https://localhost:8080/",
     "height": 285
    },
    "executionInfo": {
     "elapsed": 1072,
     "status": "ok",
     "timestamp": 1645323866820,
     "user": {
      "displayName": "남궁정후",
      "photoUrl": "https://lh3.googleusercontent.com/a/default-user=s64",
      "userId": "00760625701380821498"
     },
     "user_tz": -540
    },
    "id": "58bcc95a",
    "outputId": "af1fcc58-f611-4fd3-e7ab-bdac66beeea7"
   },
   "outputs": [
    {
     "data": {
      "image/png": "[encoded data removed]",
      "text/plain": [
       "<Figure size 432x288 with 1 Axes>"
      ]
     },
     "metadata": {},
     "output_type": "display_data"
    }
   ],
   "source": [
    "shop_ns = sales[['shop_id','item_cnt_day']]\n",
    "shop_ns.set_index(['shop_id'])\n",
    "shop_ns = shop_ns.groupby(by=['shop_id']).sum()\n",
    "shop_ns.plot(kind = 'bar')\n",
    "plt.show()"
   ]
  },
  {
   "cell_type": "markdown",
   "id": "fdd353a2",
   "metadata": {
    "id": "fdd353a2"
   },
   "source": [
    "### 4) 가격별 item 하루 판매개수"
   ]
  },
  {
   "cell_type": "code",
   "execution_count": 104,
   "id": "3fb964b7",
   "metadata": {
    "colab": {
     "base_uri": "https://localhost:8080/",
     "height": 282
    },
    "executionInfo": {
     "elapsed": 564,
     "status": "ok",
     "timestamp": 1645323876993,
     "user": {
      "displayName": "남궁정후",
      "photoUrl": "https://lh3.googleusercontent.com/a/default-user=s64",
      "userId": "00760625701380821498"
     },
     "user_tz": -540
    },
    "id": "3fb964b7",
    "outputId": "a83adf4a-3fd6-4d50-a88b-d62f02aaaced"
   },
   "outputs": [
    {
     "data": {
      "image/png": "[encoded data removed]",
      "text/plain": [
       "<Figure size 432x288 with 1 Axes>"
      ]
     },
     "metadata": {},
     "output_type": "display_data"
    }
   ],
   "source": [
    "price_ns = sales[['item_price','item_cnt_day']]\n",
    "price_ns = price_ns.groupby(by=['item_price']).sum()\n",
    "plt.plot(price_ns.index, price_ns.values)\n",
    "plt.xlabel('item_price')\n",
    "plt.ylabel('item_cnt_day')\n",
    "plt.show()"
   ]
  },
  {
   "cell_type": "markdown",
   "id": "dd6228f3",
   "metadata": {
    "id": "dd6228f3"
   },
   "source": [
    "### 5) 월별 총 판매금액"
   ]
  },
  {
   "cell_type": "code",
   "execution_count": 105,
   "id": "1783a021",
   "metadata": {
    "colab": {
     "base_uri": "https://localhost:8080/",
     "height": 222
    },
    "executionInfo": {
     "elapsed": 1593,
     "status": "ok",
     "timestamp": 1645323884092,
     "user": {
      "displayName": "남궁정후",
      "photoUrl": "https://lh3.googleusercontent.com/a/default-user=s64",
      "userId": "00760625701380821498"
     },
     "user_tz": -540
    },
    "id": "1783a021",
    "outputId": "c9387074-f654-4db8-9236-3c06a50e9d58"
   },
   "outputs": [
    {
     "data": {
      "image/png": "[encoded data removed]",
      "text/plain": [
       "<Figure size 864x216 with 1 Axes>"
      ]
     },
     "metadata": {},
     "output_type": "display_data"
    }
   ],
   "source": [
    "# 월별 총 판매금액\n",
    "time_ns = sales[['item_price','date_block_num']]\n",
    "time_ns = time_ns.groupby(by=['date_block_num']).sum()\n",
    "plt.figure(figsize=(12,3))\n",
    "plt.plot(time_ns.index, time_ns.values)\n",
    "plt.show()"
   ]
  },
  {
   "cell_type": "markdown",
   "id": "163577ac",
   "metadata": {
    "id": "163577ac"
   },
   "source": [
    "### 6) 월별 총 판매개수"
   ]
  },
  {
   "cell_type": "code",
   "execution_count": 106,
   "id": "d56686ef",
   "metadata": {
    "colab": {
     "base_uri": "https://localhost:8080/",
     "height": 211
    },
    "executionInfo": {
     "elapsed": 663,
     "status": "ok",
     "timestamp": 1645323889511,
     "user": {
      "displayName": "남궁정후",
      "photoUrl": "https://lh3.googleusercontent.com/a/default-user=s64",
      "userId": "00760625701380821498"
     },
     "user_tz": -540
    },
    "id": "d56686ef",
    "outputId": "97953ba2-7030-4e52-be0e-7735b61d9659"
   },
   "outputs": [
    {
     "data": {
      "image/png": "[encoded data removed]",
      "text/plain": [
       "<Figure size 864x216 with 1 Axes>"
      ]
     },
     "metadata": {},
     "output_type": "display_data"
    }
   ],
   "source": [
    "# 월별 총 판매개수\n",
    "group1 = sales.groupby(by=['date_block_num']).sum()\n",
    "group1 = group1.reset_index()\n",
    "plt.figure(figsize=(12,3))\n",
    "plt.plot(group1.date_block_num,  group1.item_cnt_day)\n",
    "plt.show()"
   ]
  },
  {
   "cell_type": "markdown",
   "id": "5e956ba2",
   "metadata": {
    "id": "5e956ba2"
   },
   "source": [
    "### 7) 품목별 판매량"
   ]
  },
  {
   "cell_type": "code",
   "execution_count": 107,
   "id": "5e4a5292",
   "metadata": {
    "colab": {
     "base_uri": "https://localhost:8080/",
     "height": 206
    },
    "executionInfo": {
     "elapsed": 1612,
     "status": "ok",
     "timestamp": 1645323897392,
     "user": {
      "displayName": "남궁정후",
      "photoUrl": "https://lh3.googleusercontent.com/a/default-user=s64",
      "userId": "00760625701380821498"
     },
     "user_tz": -540
    },
    "id": "5e4a5292",
    "outputId": "0dfb5d0a-15de-4ea9-ee2f-dd9f1d7ac317"
   },
   "outputs": [
    {
     "data": {
      "text/html": [
       "<div>\n",
       "<style scoped>\n",
       "    .dataframe tbody tr th:only-of-type {\n",
       "        vertical-align: middle;\n",
       "    }\n",
       "\n",
       "    .dataframe tbody tr th {\n",
       "        vertical-align: top;\n",
       "    }\n",
       "\n",
       "    .dataframe thead th {\n",
       "        text-align: right;\n",
       "    }\n",
       "</style>\n",
       "<table border=\"1\" class=\"dataframe\">\n",
       "  <thead>\n",
       "    <tr style=\"text-align: right;\">\n",
       "      <th></th>\n",
       "      <th>date</th>\n",
       "      <th>year</th>\n",
       "      <th>month</th>\n",
       "      <th>day</th>\n",
       "      <th>day_of_week</th>\n",
       "      <th>date_block_num</th>\n",
       "      <th>shop_id</th>\n",
       "      <th>item_id</th>\n",
       "      <th>item_price</th>\n",
       "      <th>item_cnt_day</th>\n",
       "      <th>revenue</th>\n",
       "      <th>aft0228</th>\n",
       "      <th>item_category_id</th>\n",
       "      <th>type_id</th>\n",
       "    </tr>\n",
       "  </thead>\n",
       "  <tbody>\n",
       "    <tr>\n",
       "      <th>0</th>\n",
       "      <td>2013-01-02</td>\n",
       "      <td>2013</td>\n",
       "      <td>1</td>\n",
       "      <td>2</td>\n",
       "      <td>2</td>\n",
       "      <td>0</td>\n",
       "      <td>59</td>\n",
       "      <td>22154</td>\n",
       "      <td>999.00</td>\n",
       "      <td>1.0</td>\n",
       "      <td>999.00</td>\n",
       "      <td>NaN</td>\n",
       "      <td>37</td>\n",
       "      <td>11</td>\n",
       "    </tr>\n",
       "    <tr>\n",
       "      <th>1</th>\n",
       "      <td>2013-01-03</td>\n",
       "      <td>2013</td>\n",
       "      <td>1</td>\n",
       "      <td>3</td>\n",
       "      <td>3</td>\n",
       "      <td>0</td>\n",
       "      <td>25</td>\n",
       "      <td>2552</td>\n",
       "      <td>899.00</td>\n",
       "      <td>1.0</td>\n",
       "      <td>899.00</td>\n",
       "      <td>NaN</td>\n",
       "      <td>58</td>\n",
       "      <td>13</td>\n",
       "    </tr>\n",
       "    <tr>\n",
       "      <th>2</th>\n",
       "      <td>2013-01-06</td>\n",
       "      <td>2013</td>\n",
       "      <td>1</td>\n",
       "      <td>6</td>\n",
       "      <td>6</td>\n",
       "      <td>0</td>\n",
       "      <td>25</td>\n",
       "      <td>2554</td>\n",
       "      <td>1709.05</td>\n",
       "      <td>1.0</td>\n",
       "      <td>1709.05</td>\n",
       "      <td>NaN</td>\n",
       "      <td>58</td>\n",
       "      <td>13</td>\n",
       "    </tr>\n",
       "    <tr>\n",
       "      <th>3</th>\n",
       "      <td>2013-01-15</td>\n",
       "      <td>2013</td>\n",
       "      <td>1</td>\n",
       "      <td>15</td>\n",
       "      <td>1</td>\n",
       "      <td>0</td>\n",
       "      <td>25</td>\n",
       "      <td>2555</td>\n",
       "      <td>1099.00</td>\n",
       "      <td>1.0</td>\n",
       "      <td>1099.00</td>\n",
       "      <td>NaN</td>\n",
       "      <td>56</td>\n",
       "      <td>13</td>\n",
       "    </tr>\n",
       "    <tr>\n",
       "      <th>4</th>\n",
       "      <td>2013-01-10</td>\n",
       "      <td>2013</td>\n",
       "      <td>1</td>\n",
       "      <td>10</td>\n",
       "      <td>3</td>\n",
       "      <td>0</td>\n",
       "      <td>25</td>\n",
       "      <td>2564</td>\n",
       "      <td>349.00</td>\n",
       "      <td>1.0</td>\n",
       "      <td>349.00</td>\n",
       "      <td>NaN</td>\n",
       "      <td>59</td>\n",
       "      <td>13</td>\n",
       "    </tr>\n",
       "  </tbody>\n",
       "</table>\n",
       "</div>"
      ],
      "text/plain": [
       "        date  year  month  day  day_of_week  date_block_num  shop_id  item_id  \\\n",
       "0 2013-01-02  2013      1    2            2               0       59    22154   \n",
       "1 2013-01-03  2013      1    3            3               0       25     2552   \n",
       "2 2013-01-06  2013      1    6            6               0       25     2554   \n",
       "3 2013-01-15  2013      1   15            1               0       25     2555   \n",
       "4 2013-01-10  2013      1   10            3               0       25     2564   \n",
       "\n",
       "   item_price  item_cnt_day  revenue  aft0228  item_category_id  type_id  \n",
       "0      999.00           1.0   999.00      NaN                37       11  \n",
       "1      899.00           1.0   899.00      NaN                58       13  \n",
       "2     1709.05           1.0  1709.05      NaN                58       13  \n",
       "3     1099.00           1.0  1099.00      NaN                56       13  \n",
       "4      349.00           1.0   349.00      NaN                59       13  "
      ]
     },
     "execution_count": 107,
     "metadata": {},
     "output_type": "execute_result"
    }
   ],
   "source": [
    "sales1= pd.merge(sales, items, on=['item_id'], how='left')\n",
    "sales1= pd.merge(sales1, item_categories, on=['item_category_id'], how='left')\n",
    "sales1.head()"
   ]
  },
  {
   "cell_type": "code",
   "execution_count": 108,
   "id": "6585b7ca",
   "metadata": {
    "colab": {
     "base_uri": "https://localhost:8080/",
     "height": 395
    },
    "executionInfo": {
     "elapsed": 1723,
     "status": "ok",
     "timestamp": 1645323900503,
     "user": {
      "displayName": "남궁정후",
      "photoUrl": "https://lh3.googleusercontent.com/a/default-user=s64",
      "userId": "00760625701380821498"
     },
     "user_tz": -540
    },
    "id": "6585b7ca",
    "outputId": "536a4220-3983-4974-a0c7-acd13df6d7c3"
   },
   "outputs": [
    {
     "data": {
      "image/png": "[encoded data removed]",
      "text/plain": [
       "<Figure size 2520x576 with 1 Axes>"
      ]
     },
     "metadata": {},
     "output_type": "display_data"
    }
   ],
   "source": [
    "# 품목별 판매량 \n",
    "Category_sum=sales1.groupby(['item_category_id'], as_index=False)['item_cnt_day'].sum()\n",
    "fig, axes = plt.subplots(1,1,figsize = (35,8))\n",
    "sns.barplot(x=\"item_category_id\",y=\"item_cnt_day\", data=Category_sum)\n",
    "plt.show()"
   ]
  },
  {
   "cell_type": "code",
   "execution_count": 109,
   "id": "2c38f7e7",
   "metadata": {
    "colab": {
     "base_uri": "https://localhost:8080/",
     "height": 407
    },
    "executionInfo": {
     "elapsed": 1699,
     "status": "ok",
     "timestamp": 1645323907227,
     "user": {
      "displayName": "남궁정후",
      "photoUrl": "https://lh3.googleusercontent.com/a/default-user=s64",
      "userId": "00760625701380821498"
     },
     "user_tz": -540
    },
    "id": "2c38f7e7",
    "outputId": "66bb393f-dbc0-499c-c6d2-f2b5f705ec7c"
   },
   "outputs": [
    {
     "data": {
      "image/png": "[encoded data removed]",
      "text/plain": [
       "<Figure size 2520x576 with 1 Axes>"
      ]
     },
     "metadata": {},
     "output_type": "display_data"
    }
   ],
   "source": [
    "# 카테고리별 판매금액\n",
    "Category_sum=sales1.groupby(['item_category_id'], as_index=False)['revenue'].sum()\n",
    "fig, axes = plt.subplots(1,1,figsize = (35,8))\n",
    "sns.barplot(x=\"item_category_id\",y=\"revenue\", data=Category_sum)\n",
    "plt.show()"
   ]
  },
  {
   "cell_type": "code",
   "execution_count": 110,
   "id": "f706c4ad",
   "metadata": {
    "colab": {
     "base_uri": "https://localhost:8080/",
     "height": 206
    },
    "executionInfo": {
     "elapsed": 691,
     "status": "ok",
     "timestamp": 1645323911757,
     "user": {
      "displayName": "남궁정후",
      "photoUrl": "https://lh3.googleusercontent.com/a/default-user=s64",
      "userId": "00760625701380821498"
     },
     "user_tz": -540
    },
    "id": "f706c4ad",
    "outputId": "91314b15-82e3-4a9b-e580-55ddb4b250fb"
   },
   "outputs": [
    {
     "data": {
      "text/html": [
       "<div>\n",
       "<style scoped>\n",
       "    .dataframe tbody tr th:only-of-type {\n",
       "        vertical-align: middle;\n",
       "    }\n",
       "\n",
       "    .dataframe tbody tr th {\n",
       "        vertical-align: top;\n",
       "    }\n",
       "\n",
       "    .dataframe thead th {\n",
       "        text-align: right;\n",
       "    }\n",
       "</style>\n",
       "<table border=\"1\" class=\"dataframe\">\n",
       "  <thead>\n",
       "    <tr style=\"text-align: right;\">\n",
       "      <th></th>\n",
       "      <th>date</th>\n",
       "      <th>year</th>\n",
       "      <th>month</th>\n",
       "      <th>day</th>\n",
       "      <th>day_of_week</th>\n",
       "      <th>date_block_num</th>\n",
       "      <th>shop_id</th>\n",
       "      <th>item_id</th>\n",
       "      <th>item_price</th>\n",
       "      <th>item_cnt_day</th>\n",
       "      <th>revenue</th>\n",
       "      <th>aft0228</th>\n",
       "      <th>item_category_id</th>\n",
       "      <th>type_id</th>\n",
       "    </tr>\n",
       "  </thead>\n",
       "  <tbody>\n",
       "    <tr>\n",
       "      <th>0</th>\n",
       "      <td>2013-01-02</td>\n",
       "      <td>2013</td>\n",
       "      <td>1</td>\n",
       "      <td>2</td>\n",
       "      <td>2</td>\n",
       "      <td>0</td>\n",
       "      <td>59</td>\n",
       "      <td>22154</td>\n",
       "      <td>999.00</td>\n",
       "      <td>1.0</td>\n",
       "      <td>999.00</td>\n",
       "      <td>NaN</td>\n",
       "      <td>37</td>\n",
       "      <td>11</td>\n",
       "    </tr>\n",
       "    <tr>\n",
       "      <th>1</th>\n",
       "      <td>2013-01-03</td>\n",
       "      <td>2013</td>\n",
       "      <td>1</td>\n",
       "      <td>3</td>\n",
       "      <td>3</td>\n",
       "      <td>0</td>\n",
       "      <td>25</td>\n",
       "      <td>2552</td>\n",
       "      <td>899.00</td>\n",
       "      <td>1.0</td>\n",
       "      <td>899.00</td>\n",
       "      <td>NaN</td>\n",
       "      <td>58</td>\n",
       "      <td>13</td>\n",
       "    </tr>\n",
       "    <tr>\n",
       "      <th>2</th>\n",
       "      <td>2013-01-06</td>\n",
       "      <td>2013</td>\n",
       "      <td>1</td>\n",
       "      <td>6</td>\n",
       "      <td>6</td>\n",
       "      <td>0</td>\n",
       "      <td>25</td>\n",
       "      <td>2554</td>\n",
       "      <td>1709.05</td>\n",
       "      <td>1.0</td>\n",
       "      <td>1709.05</td>\n",
       "      <td>NaN</td>\n",
       "      <td>58</td>\n",
       "      <td>13</td>\n",
       "    </tr>\n",
       "    <tr>\n",
       "      <th>3</th>\n",
       "      <td>2013-01-15</td>\n",
       "      <td>2013</td>\n",
       "      <td>1</td>\n",
       "      <td>15</td>\n",
       "      <td>1</td>\n",
       "      <td>0</td>\n",
       "      <td>25</td>\n",
       "      <td>2555</td>\n",
       "      <td>1099.00</td>\n",
       "      <td>1.0</td>\n",
       "      <td>1099.00</td>\n",
       "      <td>NaN</td>\n",
       "      <td>56</td>\n",
       "      <td>13</td>\n",
       "    </tr>\n",
       "    <tr>\n",
       "      <th>4</th>\n",
       "      <td>2013-01-10</td>\n",
       "      <td>2013</td>\n",
       "      <td>1</td>\n",
       "      <td>10</td>\n",
       "      <td>3</td>\n",
       "      <td>0</td>\n",
       "      <td>25</td>\n",
       "      <td>2564</td>\n",
       "      <td>349.00</td>\n",
       "      <td>1.0</td>\n",
       "      <td>349.00</td>\n",
       "      <td>NaN</td>\n",
       "      <td>59</td>\n",
       "      <td>13</td>\n",
       "    </tr>\n",
       "  </tbody>\n",
       "</table>\n",
       "</div>"
      ],
      "text/plain": [
       "        date  year  month  day  day_of_week  date_block_num  shop_id  item_id  \\\n",
       "0 2013-01-02  2013      1    2            2               0       59    22154   \n",
       "1 2013-01-03  2013      1    3            3               0       25     2552   \n",
       "2 2013-01-06  2013      1    6            6               0       25     2554   \n",
       "3 2013-01-15  2013      1   15            1               0       25     2555   \n",
       "4 2013-01-10  2013      1   10            3               0       25     2564   \n",
       "\n",
       "   item_price  item_cnt_day  revenue  aft0228  item_category_id  type_id  \n",
       "0      999.00           1.0   999.00      NaN                37       11  \n",
       "1      899.00           1.0   899.00      NaN                58       13  \n",
       "2     1709.05           1.0  1709.05      NaN                58       13  \n",
       "3     1099.00           1.0  1099.00      NaN                56       13  \n",
       "4      349.00           1.0   349.00      NaN                59       13  "
      ]
     },
     "execution_count": 110,
     "metadata": {},
     "output_type": "execute_result"
    }
   ],
   "source": [
    "sales1['year'] = sales1['date'].dt.year\n",
    "sales1['month'] = sales1['date'].dt.month\n",
    "sales1.head()"
   ]
  },
  {
   "cell_type": "code",
   "execution_count": 111,
   "id": "fb76f92f",
   "metadata": {
    "colab": {
     "base_uri": "https://localhost:8080/",
     "height": 445
    },
    "executionInfo": {
     "elapsed": 99870,
     "status": "ok",
     "timestamp": 1645324013355,
     "user": {
      "displayName": "남궁정후",
      "photoUrl": "https://lh3.googleusercontent.com/a/default-user=s64",
      "userId": "00760625701380821498"
     },
     "user_tz": -540
    },
    "id": "fb76f92f",
    "outputId": "61da340e-b073-43fa-954f-2683602c8923"
   },
   "outputs": [
    {
     "ename": "KeyboardInterrupt",
     "evalue": "",
     "output_type": "error",
     "traceback": [
      "\u001b[1;31m---------------------------------------------------------------------------\u001b[0m",
      "\u001b[1;31mKeyboardInterrupt\u001b[0m                         Traceback (most recent call last)",
      "\u001b[1;32m~\\AppData\\Local\\Temp/ipykernel_17964/3369299405.py\u001b[0m in \u001b[0;36m<module>\u001b[1;34m\u001b[0m\n\u001b[0;32m      1\u001b[0m \u001b[1;31m#연도별 판매량  -> Year, Month 컬럼 만든 후 확인 가능합니다(이재호)\u001b[0m\u001b[1;33m\u001b[0m\u001b[1;33m\u001b[0m\u001b[0m\n\u001b[0;32m      2\u001b[0m \u001b[0mfig\u001b[0m\u001b[1;33m,\u001b[0m\u001b[0maxes\u001b[0m \u001b[1;33m=\u001b[0m \u001b[0mplt\u001b[0m\u001b[1;33m.\u001b[0m\u001b[0msubplots\u001b[0m\u001b[1;33m(\u001b[0m\u001b[1;36m1\u001b[0m\u001b[1;33m,\u001b[0m\u001b[1;36m1\u001b[0m\u001b[1;33m,\u001b[0m\u001b[0mfigsize\u001b[0m\u001b[1;33m=\u001b[0m\u001b[1;33m(\u001b[0m\u001b[1;36m7\u001b[0m\u001b[1;33m,\u001b[0m\u001b[1;36m7\u001b[0m\u001b[1;33m)\u001b[0m\u001b[1;33m)\u001b[0m\u001b[1;33m\u001b[0m\u001b[1;33m\u001b[0m\u001b[0m\n\u001b[1;32m----> 3\u001b[1;33m \u001b[0msns\u001b[0m\u001b[1;33m.\u001b[0m\u001b[0mlineplot\u001b[0m\u001b[1;33m(\u001b[0m\u001b[0mx\u001b[0m\u001b[1;33m=\u001b[0m\u001b[0msales1\u001b[0m\u001b[1;33m[\u001b[0m\u001b[1;34m'year'\u001b[0m\u001b[1;33m]\u001b[0m\u001b[1;33m,\u001b[0m\u001b[0my\u001b[0m\u001b[1;33m=\u001b[0m\u001b[0msales1\u001b[0m\u001b[1;33m[\u001b[0m\u001b[1;34m'item_cnt_day'\u001b[0m\u001b[1;33m]\u001b[0m\u001b[1;33m)\u001b[0m\u001b[1;33m\u001b[0m\u001b[1;33m\u001b[0m\u001b[0m\n\u001b[0m\u001b[0;32m      4\u001b[0m \u001b[0mplt\u001b[0m\u001b[1;33m.\u001b[0m\u001b[0mshow\u001b[0m\u001b[1;33m(\u001b[0m\u001b[1;33m)\u001b[0m\u001b[1;33m\u001b[0m\u001b[1;33m\u001b[0m\u001b[0m\n",
      "\u001b[1;32mC:\\ProgramData\\Anaconda3\\lib\\site-packages\\seaborn\\_decorators.py\u001b[0m in \u001b[0;36minner_f\u001b[1;34m(*args, **kwargs)\u001b[0m\n\u001b[0;32m     44\u001b[0m             )\n\u001b[0;32m     45\u001b[0m         \u001b[0mkwargs\u001b[0m\u001b[1;33m.\u001b[0m\u001b[0mupdate\u001b[0m\u001b[1;33m(\u001b[0m\u001b[1;33m{\u001b[0m\u001b[0mk\u001b[0m\u001b[1;33m:\u001b[0m \u001b[0marg\u001b[0m \u001b[1;32mfor\u001b[0m \u001b[0mk\u001b[0m\u001b[1;33m,\u001b[0m \u001b[0marg\u001b[0m \u001b[1;32min\u001b[0m \u001b[0mzip\u001b[0m\u001b[1;33m(\u001b[0m\u001b[0msig\u001b[0m\u001b[1;33m.\u001b[0m\u001b[0mparameters\u001b[0m\u001b[1;33m,\u001b[0m \u001b[0margs\u001b[0m\u001b[1;33m)\u001b[0m\u001b[1;33m}\u001b[0m\u001b[1;33m)\u001b[0m\u001b[1;33m\u001b[0m\u001b[1;33m\u001b[0m\u001b[0m\n\u001b[1;32m---> 46\u001b[1;33m         \u001b[1;32mreturn\u001b[0m \u001b[0mf\u001b[0m\u001b[1;33m(\u001b[0m\u001b[1;33m**\u001b[0m\u001b[0mkwargs\u001b[0m\u001b[1;33m)\u001b[0m\u001b[1;33m\u001b[0m\u001b[1;33m\u001b[0m\u001b[0m\n\u001b[0m\u001b[0;32m     47\u001b[0m     \u001b[1;32mreturn\u001b[0m \u001b[0minner_f\u001b[0m\u001b[1;33m\u001b[0m\u001b[1;33m\u001b[0m\u001b[0m\n\u001b[0;32m     48\u001b[0m \u001b[1;33m\u001b[0m\u001b[0m\n",
      "\u001b[1;32mC:\\ProgramData\\Anaconda3\\lib\\site-packages\\seaborn\\relational.py\u001b[0m in \u001b[0;36mlineplot\u001b[1;34m(x, y, hue, size, style, data, palette, hue_order, hue_norm, sizes, size_order, size_norm, dashes, markers, style_order, units, estimator, ci, n_boot, seed, sort, err_style, err_kws, legend, ax, **kwargs)\u001b[0m\n\u001b[0;32m    708\u001b[0m     \u001b[0mp\u001b[0m\u001b[1;33m.\u001b[0m\u001b[0m_attach\u001b[0m\u001b[1;33m(\u001b[0m\u001b[0max\u001b[0m\u001b[1;33m)\u001b[0m\u001b[1;33m\u001b[0m\u001b[1;33m\u001b[0m\u001b[0m\n\u001b[0;32m    709\u001b[0m \u001b[1;33m\u001b[0m\u001b[0m\n\u001b[1;32m--> 710\u001b[1;33m     \u001b[0mp\u001b[0m\u001b[1;33m.\u001b[0m\u001b[0mplot\u001b[0m\u001b[1;33m(\u001b[0m\u001b[0max\u001b[0m\u001b[1;33m,\u001b[0m \u001b[0mkwargs\u001b[0m\u001b[1;33m)\u001b[0m\u001b[1;33m\u001b[0m\u001b[1;33m\u001b[0m\u001b[0m\n\u001b[0m\u001b[0;32m    711\u001b[0m     \u001b[1;32mreturn\u001b[0m \u001b[0max\u001b[0m\u001b[1;33m\u001b[0m\u001b[1;33m\u001b[0m\u001b[0m\n\u001b[0;32m    712\u001b[0m \u001b[1;33m\u001b[0m\u001b[0m\n",
      "\u001b[1;32mC:\\ProgramData\\Anaconda3\\lib\\site-packages\\seaborn\\relational.py\u001b[0m in \u001b[0;36mplot\u001b[1;34m(self, ax, kws)\u001b[0m\n\u001b[0;32m    497\u001b[0m                     \u001b[0merr\u001b[0m \u001b[1;33m=\u001b[0m \u001b[1;34m\"estimator must be None when specifying units\"\u001b[0m\u001b[1;33m\u001b[0m\u001b[1;33m\u001b[0m\u001b[0m\n\u001b[0;32m    498\u001b[0m                     \u001b[1;32mraise\u001b[0m \u001b[0mValueError\u001b[0m\u001b[1;33m(\u001b[0m\u001b[0merr\u001b[0m\u001b[1;33m)\u001b[0m\u001b[1;33m\u001b[0m\u001b[1;33m\u001b[0m\u001b[0m\n\u001b[1;32m--> 499\u001b[1;33m                 \u001b[0mx\u001b[0m\u001b[1;33m,\u001b[0m \u001b[0my\u001b[0m\u001b[1;33m,\u001b[0m \u001b[0my_ci\u001b[0m \u001b[1;33m=\u001b[0m \u001b[0mself\u001b[0m\u001b[1;33m.\u001b[0m\u001b[0maggregate\u001b[0m\u001b[1;33m(\u001b[0m\u001b[0my\u001b[0m\u001b[1;33m,\u001b[0m \u001b[0mx\u001b[0m\u001b[1;33m,\u001b[0m \u001b[0mu\u001b[0m\u001b[1;33m)\u001b[0m\u001b[1;33m\u001b[0m\u001b[1;33m\u001b[0m\u001b[0m\n\u001b[0m\u001b[0;32m    500\u001b[0m             \u001b[1;32melse\u001b[0m\u001b[1;33m:\u001b[0m\u001b[1;33m\u001b[0m\u001b[1;33m\u001b[0m\u001b[0m\n\u001b[0;32m    501\u001b[0m                 \u001b[0my_ci\u001b[0m \u001b[1;33m=\u001b[0m \u001b[1;32mNone\u001b[0m\u001b[1;33m\u001b[0m\u001b[1;33m\u001b[0m\u001b[0m\n",
      "\u001b[1;32mC:\\ProgramData\\Anaconda3\\lib\\site-packages\\seaborn\\relational.py\u001b[0m in \u001b[0;36maggregate\u001b[1;34m(self, vals, grouper, units)\u001b[0m\n\u001b[0;32m    412\u001b[0m                                columns=[\"low\", \"high\"]).stack()\n\u001b[0;32m    413\u001b[0m         \u001b[1;32melse\u001b[0m\u001b[1;33m:\u001b[0m\u001b[1;33m\u001b[0m\u001b[1;33m\u001b[0m\u001b[0m\n\u001b[1;32m--> 414\u001b[1;33m             \u001b[0mcis\u001b[0m \u001b[1;33m=\u001b[0m \u001b[0mgrouped\u001b[0m\u001b[1;33m.\u001b[0m\u001b[0mapply\u001b[0m\u001b[1;33m(\u001b[0m\u001b[0mbootstrapped_cis\u001b[0m\u001b[1;33m)\u001b[0m\u001b[1;33m\u001b[0m\u001b[1;33m\u001b[0m\u001b[0m\n\u001b[0m\u001b[0;32m    415\u001b[0m \u001b[1;33m\u001b[0m\u001b[0m\n\u001b[0;32m    416\u001b[0m         \u001b[1;31m# Unpack the CIs into \"wide\" format for plotting\u001b[0m\u001b[1;33m\u001b[0m\u001b[1;33m\u001b[0m\u001b[0m\n",
      "\u001b[1;32mC:\\ProgramData\\Anaconda3\\lib\\site-packages\\pandas\\core\\groupby\\generic.py\u001b[0m in \u001b[0;36mapply\u001b[1;34m(self, func, *args, **kwargs)\u001b[0m\n\u001b[0;32m    221\u001b[0m     )\n\u001b[0;32m    222\u001b[0m     \u001b[1;32mdef\u001b[0m \u001b[0mapply\u001b[0m\u001b[1;33m(\u001b[0m\u001b[0mself\u001b[0m\u001b[1;33m,\u001b[0m \u001b[0mfunc\u001b[0m\u001b[1;33m,\u001b[0m \u001b[1;33m*\u001b[0m\u001b[0margs\u001b[0m\u001b[1;33m,\u001b[0m \u001b[1;33m**\u001b[0m\u001b[0mkwargs\u001b[0m\u001b[1;33m)\u001b[0m\u001b[1;33m:\u001b[0m\u001b[1;33m\u001b[0m\u001b[1;33m\u001b[0m\u001b[0m\n\u001b[1;32m--> 223\u001b[1;33m         \u001b[1;32mreturn\u001b[0m \u001b[0msuper\u001b[0m\u001b[1;33m(\u001b[0m\u001b[1;33m)\u001b[0m\u001b[1;33m.\u001b[0m\u001b[0mapply\u001b[0m\u001b[1;33m(\u001b[0m\u001b[0mfunc\u001b[0m\u001b[1;33m,\u001b[0m \u001b[1;33m*\u001b[0m\u001b[0margs\u001b[0m\u001b[1;33m,\u001b[0m \u001b[1;33m**\u001b[0m\u001b[0mkwargs\u001b[0m\u001b[1;33m)\u001b[0m\u001b[1;33m\u001b[0m\u001b[1;33m\u001b[0m\u001b[0m\n\u001b[0m\u001b[0;32m    224\u001b[0m \u001b[1;33m\u001b[0m\u001b[0m\n\u001b[0;32m    225\u001b[0m     \u001b[1;33m@\u001b[0m\u001b[0mdoc\u001b[0m\u001b[1;33m(\u001b[0m\u001b[0m_agg_template\u001b[0m\u001b[1;33m,\u001b[0m \u001b[0mexamples\u001b[0m\u001b[1;33m=\u001b[0m\u001b[0m_agg_examples_doc\u001b[0m\u001b[1;33m,\u001b[0m \u001b[0mklass\u001b[0m\u001b[1;33m=\u001b[0m\u001b[1;34m\"Series\"\u001b[0m\u001b[1;33m)\u001b[0m\u001b[1;33m\u001b[0m\u001b[1;33m\u001b[0m\u001b[0m\n",
      "\u001b[1;32mC:\\ProgramData\\Anaconda3\\lib\\site-packages\\pandas\\core\\groupby\\groupby.py\u001b[0m in \u001b[0;36mapply\u001b[1;34m(self, func, *args, **kwargs)\u001b[0m\n\u001b[0;32m   1273\u001b[0m         \u001b[1;32mwith\u001b[0m \u001b[0moption_context\u001b[0m\u001b[1;33m(\u001b[0m\u001b[1;34m\"mode.chained_assignment\"\u001b[0m\u001b[1;33m,\u001b[0m \u001b[1;32mNone\u001b[0m\u001b[1;33m)\u001b[0m\u001b[1;33m:\u001b[0m\u001b[1;33m\u001b[0m\u001b[1;33m\u001b[0m\u001b[0m\n\u001b[0;32m   1274\u001b[0m             \u001b[1;32mtry\u001b[0m\u001b[1;33m:\u001b[0m\u001b[1;33m\u001b[0m\u001b[1;33m\u001b[0m\u001b[0m\n\u001b[1;32m-> 1275\u001b[1;33m                 \u001b[0mresult\u001b[0m \u001b[1;33m=\u001b[0m \u001b[0mself\u001b[0m\u001b[1;33m.\u001b[0m\u001b[0m_python_apply_general\u001b[0m\u001b[1;33m(\u001b[0m\u001b[0mf\u001b[0m\u001b[1;33m,\u001b[0m \u001b[0mself\u001b[0m\u001b[1;33m.\u001b[0m\u001b[0m_selected_obj\u001b[0m\u001b[1;33m)\u001b[0m\u001b[1;33m\u001b[0m\u001b[1;33m\u001b[0m\u001b[0m\n\u001b[0m\u001b[0;32m   1276\u001b[0m             \u001b[1;32mexcept\u001b[0m \u001b[0mTypeError\u001b[0m\u001b[1;33m:\u001b[0m\u001b[1;33m\u001b[0m\u001b[1;33m\u001b[0m\u001b[0m\n\u001b[0;32m   1277\u001b[0m                 \u001b[1;31m# gh-20949\u001b[0m\u001b[1;33m\u001b[0m\u001b[1;33m\u001b[0m\u001b[0m\n",
      "\u001b[1;32mC:\\ProgramData\\Anaconda3\\lib\\site-packages\\pandas\\core\\groupby\\groupby.py\u001b[0m in \u001b[0;36m_python_apply_general\u001b[1;34m(self, f, data)\u001b[0m\n\u001b[0;32m   1307\u001b[0m             \u001b[0mdata\u001b[0m \u001b[0mafter\u001b[0m \u001b[0mapplying\u001b[0m \u001b[0mf\u001b[0m\u001b[1;33m\u001b[0m\u001b[1;33m\u001b[0m\u001b[0m\n\u001b[0;32m   1308\u001b[0m         \"\"\"\n\u001b[1;32m-> 1309\u001b[1;33m         \u001b[0mkeys\u001b[0m\u001b[1;33m,\u001b[0m \u001b[0mvalues\u001b[0m\u001b[1;33m,\u001b[0m \u001b[0mmutated\u001b[0m \u001b[1;33m=\u001b[0m \u001b[0mself\u001b[0m\u001b[1;33m.\u001b[0m\u001b[0mgrouper\u001b[0m\u001b[1;33m.\u001b[0m\u001b[0mapply\u001b[0m\u001b[1;33m(\u001b[0m\u001b[0mf\u001b[0m\u001b[1;33m,\u001b[0m \u001b[0mdata\u001b[0m\u001b[1;33m,\u001b[0m \u001b[0mself\u001b[0m\u001b[1;33m.\u001b[0m\u001b[0maxis\u001b[0m\u001b[1;33m)\u001b[0m\u001b[1;33m\u001b[0m\u001b[1;33m\u001b[0m\u001b[0m\n\u001b[0m\u001b[0;32m   1310\u001b[0m \u001b[1;33m\u001b[0m\u001b[0m\n\u001b[0;32m   1311\u001b[0m         return self._wrap_applied_output(\n",
      "\u001b[1;32mC:\\ProgramData\\Anaconda3\\lib\\site-packages\\pandas\\core\\groupby\\ops.py\u001b[0m in \u001b[0;36mapply\u001b[1;34m(self, f, data, axis)\u001b[0m\n\u001b[0;32m    839\u001b[0m             \u001b[1;31m# group might be modified\u001b[0m\u001b[1;33m\u001b[0m\u001b[1;33m\u001b[0m\u001b[0m\n\u001b[0;32m    840\u001b[0m             \u001b[0mgroup_axes\u001b[0m \u001b[1;33m=\u001b[0m \u001b[0mgroup\u001b[0m\u001b[1;33m.\u001b[0m\u001b[0maxes\u001b[0m\u001b[1;33m\u001b[0m\u001b[1;33m\u001b[0m\u001b[0m\n\u001b[1;32m--> 841\u001b[1;33m             \u001b[0mres\u001b[0m \u001b[1;33m=\u001b[0m \u001b[0mf\u001b[0m\u001b[1;33m(\u001b[0m\u001b[0mgroup\u001b[0m\u001b[1;33m)\u001b[0m\u001b[1;33m\u001b[0m\u001b[1;33m\u001b[0m\u001b[0m\n\u001b[0m\u001b[0;32m    842\u001b[0m             \u001b[1;32mif\u001b[0m \u001b[1;32mnot\u001b[0m \u001b[0m_is_indexed_like\u001b[0m\u001b[1;33m(\u001b[0m\u001b[0mres\u001b[0m\u001b[1;33m,\u001b[0m \u001b[0mgroup_axes\u001b[0m\u001b[1;33m,\u001b[0m \u001b[0maxis\u001b[0m\u001b[1;33m)\u001b[0m\u001b[1;33m:\u001b[0m\u001b[1;33m\u001b[0m\u001b[1;33m\u001b[0m\u001b[0m\n\u001b[0;32m    843\u001b[0m                 \u001b[0mmutated\u001b[0m \u001b[1;33m=\u001b[0m \u001b[1;32mTrue\u001b[0m\u001b[1;33m\u001b[0m\u001b[1;33m\u001b[0m\u001b[0m\n",
      "\u001b[1;32mC:\\ProgramData\\Anaconda3\\lib\\site-packages\\seaborn\\relational.py\u001b[0m in \u001b[0;36mbootstrapped_cis\u001b[1;34m(vals)\u001b[0m\n\u001b[0;32m    393\u001b[0m                 \u001b[1;32mreturn\u001b[0m \u001b[0mnull_ci\u001b[0m\u001b[1;33m\u001b[0m\u001b[1;33m\u001b[0m\u001b[0m\n\u001b[0;32m    394\u001b[0m \u001b[1;33m\u001b[0m\u001b[0m\n\u001b[1;32m--> 395\u001b[1;33m             \u001b[0mboots\u001b[0m \u001b[1;33m=\u001b[0m \u001b[0mbootstrap\u001b[0m\u001b[1;33m(\u001b[0m\u001b[0mvals\u001b[0m\u001b[1;33m,\u001b[0m \u001b[0mfunc\u001b[0m\u001b[1;33m=\u001b[0m\u001b[0mfunc\u001b[0m\u001b[1;33m,\u001b[0m \u001b[0mn_boot\u001b[0m\u001b[1;33m=\u001b[0m\u001b[0mn_boot\u001b[0m\u001b[1;33m,\u001b[0m \u001b[0mseed\u001b[0m\u001b[1;33m=\u001b[0m\u001b[0mseed\u001b[0m\u001b[1;33m)\u001b[0m\u001b[1;33m\u001b[0m\u001b[1;33m\u001b[0m\u001b[0m\n\u001b[0m\u001b[0;32m    396\u001b[0m             \u001b[0mcis\u001b[0m \u001b[1;33m=\u001b[0m \u001b[0mci_func\u001b[0m\u001b[1;33m(\u001b[0m\u001b[0mboots\u001b[0m\u001b[1;33m,\u001b[0m \u001b[0mci\u001b[0m\u001b[1;33m)\u001b[0m\u001b[1;33m\u001b[0m\u001b[1;33m\u001b[0m\u001b[0m\n\u001b[0;32m    397\u001b[0m             \u001b[1;32mreturn\u001b[0m \u001b[0mpd\u001b[0m\u001b[1;33m.\u001b[0m\u001b[0mSeries\u001b[0m\u001b[1;33m(\u001b[0m\u001b[0mcis\u001b[0m\u001b[1;33m,\u001b[0m \u001b[1;33m[\u001b[0m\u001b[1;34m\"low\"\u001b[0m\u001b[1;33m,\u001b[0m \u001b[1;34m\"high\"\u001b[0m\u001b[1;33m]\u001b[0m\u001b[1;33m)\u001b[0m\u001b[1;33m\u001b[0m\u001b[1;33m\u001b[0m\u001b[0m\n",
      "\u001b[1;32mC:\\ProgramData\\Anaconda3\\lib\\site-packages\\seaborn\\algorithms.py\u001b[0m in \u001b[0;36mbootstrap\u001b[1;34m(*args, **kwargs)\u001b[0m\n\u001b[0;32m     81\u001b[0m     \u001b[0mboot_dist\u001b[0m \u001b[1;33m=\u001b[0m \u001b[1;33m[\u001b[0m\u001b[1;33m]\u001b[0m\u001b[1;33m\u001b[0m\u001b[1;33m\u001b[0m\u001b[0m\n\u001b[0;32m     82\u001b[0m     \u001b[1;32mfor\u001b[0m \u001b[0mi\u001b[0m \u001b[1;32min\u001b[0m \u001b[0mrange\u001b[0m\u001b[1;33m(\u001b[0m\u001b[0mint\u001b[0m\u001b[1;33m(\u001b[0m\u001b[0mn_boot\u001b[0m\u001b[1;33m)\u001b[0m\u001b[1;33m)\u001b[0m\u001b[1;33m:\u001b[0m\u001b[1;33m\u001b[0m\u001b[1;33m\u001b[0m\u001b[0m\n\u001b[1;32m---> 83\u001b[1;33m         \u001b[0mresampler\u001b[0m \u001b[1;33m=\u001b[0m \u001b[0mintegers\u001b[0m\u001b[1;33m(\u001b[0m\u001b[1;36m0\u001b[0m\u001b[1;33m,\u001b[0m \u001b[0mn\u001b[0m\u001b[1;33m,\u001b[0m \u001b[0mn\u001b[0m\u001b[1;33m,\u001b[0m \u001b[0mdtype\u001b[0m\u001b[1;33m=\u001b[0m\u001b[0mnp\u001b[0m\u001b[1;33m.\u001b[0m\u001b[0mintp\u001b[0m\u001b[1;33m)\u001b[0m  \u001b[1;31m# intp is indexing dtype\u001b[0m\u001b[1;33m\u001b[0m\u001b[1;33m\u001b[0m\u001b[0m\n\u001b[0m\u001b[0;32m     84\u001b[0m         \u001b[0msample\u001b[0m \u001b[1;33m=\u001b[0m \u001b[1;33m[\u001b[0m\u001b[0ma\u001b[0m\u001b[1;33m.\u001b[0m\u001b[0mtake\u001b[0m\u001b[1;33m(\u001b[0m\u001b[0mresampler\u001b[0m\u001b[1;33m,\u001b[0m \u001b[0maxis\u001b[0m\u001b[1;33m=\u001b[0m\u001b[1;36m0\u001b[0m\u001b[1;33m)\u001b[0m \u001b[1;32mfor\u001b[0m \u001b[0ma\u001b[0m \u001b[1;32min\u001b[0m \u001b[0margs\u001b[0m\u001b[1;33m]\u001b[0m\u001b[1;33m\u001b[0m\u001b[1;33m\u001b[0m\u001b[0m\n\u001b[0;32m     85\u001b[0m         \u001b[0mboot_dist\u001b[0m\u001b[1;33m.\u001b[0m\u001b[0mappend\u001b[0m\u001b[1;33m(\u001b[0m\u001b[0mf\u001b[0m\u001b[1;33m(\u001b[0m\u001b[1;33m*\u001b[0m\u001b[0msample\u001b[0m\u001b[1;33m,\u001b[0m \u001b[1;33m**\u001b[0m\u001b[0mfunc_kwargs\u001b[0m\u001b[1;33m)\u001b[0m\u001b[1;33m)\u001b[0m\u001b[1;33m\u001b[0m\u001b[1;33m\u001b[0m\u001b[0m\n",
      "\u001b[1;31mKeyboardInterrupt\u001b[0m: "
     ]
    },
    {
     "data": {
      "image/png": "[encoded data removed]",
      "text/plain": [
       "<Figure size 504x504 with 1 Axes>"
      ]
     },
     "metadata": {},
     "output_type": "display_data"
    }
   ],
   "source": [
    "#연도별 판매량  -> Year, Month 컬럼 만든 후 확인 가능합니다(이재호)\n",
    "fig,axes = plt.subplots(1,1,figsize=(7,7))\n",
    "sns.lineplot(x=sales1['year'],y=sales1['item_cnt_day'])\n",
    "plt.show()"
   ]
  },
  {
   "cell_type": "code",
   "execution_count": null,
   "id": "1c4742da",
   "metadata": {
    "colab": {
     "base_uri": "https://localhost:8080/",
     "height": 445
    },
    "executionInfo": {
     "elapsed": 56397,
     "status": "ok",
     "timestamp": 1645324095349,
     "user": {
      "displayName": "남궁정후",
      "photoUrl": "https://lh3.googleusercontent.com/a/default-user=s64",
      "userId": "00760625701380821498"
     },
     "user_tz": -540
    },
    "id": "1c4742da",
    "outputId": "af0f8cd4-7598-494b-dbdb-72fc3d35ab56"
   },
   "outputs": [],
   "source": [
    "# 월별 판매량\n",
    "fig,axes = plt.subplots(1,1,figsize=(7,7))\n",
    "sns.lineplot(x=sales1['month'],y=sales1['item_cnt_day'])\n",
    "plt.show()"
   ]
  },
  {
   "cell_type": "code",
   "execution_count": null,
   "id": "400b1182",
   "metadata": {
    "colab": {
     "base_uri": "https://localhost:8080/",
     "height": 445
    },
    "executionInfo": {
     "elapsed": 101424,
     "status": "ok",
     "timestamp": 1645324210059,
     "user": {
      "displayName": "남궁정후",
      "photoUrl": "https://lh3.googleusercontent.com/a/default-user=s64",
      "userId": "00760625701380821498"
     },
     "user_tz": -540
    },
    "id": "400b1182",
    "outputId": "5ee1ffe1-85e9-4ac6-f846-629fa26cc41a"
   },
   "outputs": [],
   "source": [
    "# 연도별 판매총액 >> 14년 까진 꾸준하다가 14년부터 판매량 감소\n",
    "fig,axes = plt.subplots(1,1,figsize=(7,7))\n",
    "sns.lineplot(x=sales1['year'],y=sales1['revenue'])\n",
    "plt.show()"
   ]
  },
  {
   "cell_type": "code",
   "execution_count": null,
   "id": "027fd177",
   "metadata": {
    "colab": {
     "base_uri": "https://localhost:8080/",
     "height": 285
    },
    "executionInfo": {
     "elapsed": 2036,
     "status": "ok",
     "timestamp": 1645324219621,
     "user": {
      "displayName": "남궁정후",
      "photoUrl": "https://lh3.googleusercontent.com/a/default-user=s64",
      "userId": "00760625701380821498"
     },
     "user_tz": -540
    },
    "id": "027fd177",
    "outputId": "c1b4bdc5-664c-4d55-f584-8fe9458462d0"
   },
   "outputs": [],
   "source": [
    "# 상점별 월 item 판매개수 -> 월 별 item 판매개수 컬럼 만든 후 확인 가능합니다.(김홍비)\n",
    "shop_ns = matrix[['shop_id','item_cnt_month']]\n",
    "shop_ns.set_index(['shop_id'])\n",
    "shop_ns = shop_ns.groupby(by=['shop_id']).sum()\n",
    "shop_ns.plot(kind = 'bar')\n",
    "plt.xlabel('shop_id')\n",
    "plt.ylabel('item_cnt_month')\n",
    "plt.show()"
   ]
  },
  {
   "cell_type": "code",
   "execution_count": null,
   "id": "8133c990",
   "metadata": {
    "colab": {
     "base_uri": "https://localhost:8080/",
     "height": 285
    },
    "executionInfo": {
     "elapsed": 2050,
     "status": "ok",
     "timestamp": 1645324230002,
     "user": {
      "displayName": "남궁정후",
      "photoUrl": "https://lh3.googleusercontent.com/a/default-user=s64",
      "userId": "00760625701380821498"
     },
     "user_tz": -540
    },
    "id": "8133c990",
    "outputId": "3b693c3a-87eb-44b6-dc16-1ad071a5d51c"
   },
   "outputs": [],
   "source": [
    "# 카테고리별 판매개수\n",
    "category_ns = matrix[['item_category_id','item_cnt_month']]\n",
    "category_ns.set_index(['item_category_id'])\n",
    "category_ns = category_ns.groupby(by=['item_category_id']).sum()\n",
    "category_ns.plot(kind = 'bar')\n",
    "plt.xlabel('category_id')\n",
    "plt.ylabel('item_cnt_month')\n",
    "plt.show()"
   ]
  },
  {
   "cell_type": "code",
   "execution_count": null,
   "id": "57f2690d",
   "metadata": {
    "colab": {
     "base_uri": "https://localhost:8080/",
     "height": 285
    },
    "executionInfo": {
     "elapsed": 1167,
     "status": "ok",
     "timestamp": 1645324239452,
     "user": {
      "displayName": "남궁정후",
      "photoUrl": "https://lh3.googleusercontent.com/a/default-user=s64",
      "userId": "00760625701380821498"
     },
     "user_tz": -540
    },
    "id": "57f2690d",
    "outputId": "e40b0bec-0177-44d2-b4ee-ac9b3e4ed0a7"
   },
   "outputs": [],
   "source": [
    "# 도시별 판매개수\n",
    "city_ns = matrix[['city_id','item_cnt_month']]\n",
    "city_ns.set_index(['city_id'])\n",
    "city_ns = city_ns.groupby(by=['city_id']).sum()\n",
    "city_ns.plot(kind = 'bar')\n",
    "plt.xlabel('city_id')\n",
    "plt.ylabel('item_cnt_month')\n",
    "plt.show()"
   ]
  },
  {
   "cell_type": "code",
   "execution_count": null,
   "id": "7fffda2f",
   "metadata": {
    "colab": {
     "base_uri": "https://localhost:8080/",
     "height": 1000
    },
    "executionInfo": {
     "elapsed": 2550,
     "status": "ok",
     "timestamp": 1645324246135,
     "user": {
      "displayName": "남궁정후",
      "photoUrl": "https://lh3.googleusercontent.com/a/default-user=s64",
      "userId": "00760625701380821498"
     },
     "user_tz": -540
    },
    "id": "7fffda2f",
    "outputId": "25640e3e-7769-458e-c5c6-f99733d2be61"
   },
   "outputs": [],
   "source": [
    "# 동일한 item의 shop별 가격차이\n",
    "sales_temp = sales[sales['shop_id'] == 31][['date','item_id','item_price']].reset_index(drop=True)\n",
    "items_list = sales_temp['item_id'].unique()[0:8]\n",
    "\n",
    "fig, axes = plt.subplots(1,1, figsize=(25,8))\n",
    "colors = ['red','orange','blue','green','yellow','purple','cyan','brown']\n",
    "for i, item in enumerate(items_list):\n",
    "    dprice = sales_temp[sales_temp['item_id'] == item][['item_price','date']]\n",
    "    \n",
    "    sns.lineplot(x=dprice['date'], y=dprice['item_price'], ax=axes, color=colors[i], label=item)\n",
    "    \n",
    "axes.set_title('Price development of items - shop_id 31',fontsize=\"28\")\n",
    "axes.legend()\n",
    "plt.show()\n",
    "\n",
    "\n",
    "sales_temp = sales[sales['shop_id'] == 28][['date','item_id','item_price']].reset_index(drop=True)\n",
    "items_list = sales_temp['item_id'].unique()[0:8]\n",
    "\n",
    "fig, axes = plt.subplots(1,1, figsize=(25,8))\n",
    "colors = ['red','orange','blue','green','yellow','purple','cyan','brown']\n",
    "for i, item in enumerate(items_list):\n",
    "    dprice = sales_temp[sales_temp['item_id'] == item][['item_price','date']]\n",
    "    \n",
    "    sns.lineplot(x=dprice['date'], y=dprice['item_price'], ax=axes, color=colors[i], label=item)\n",
    "    \n",
    "axes.set_title('Price development of items - shop_id 28',fontsize=\"28\")\n",
    "axes.legend()\n",
    "plt.show()\n",
    "\n",
    "\n",
    "sales_temp = sales[sales['shop_id'] == 21][['date','item_id','item_price']].reset_index(drop=True)\n",
    "items_list = sales_temp['item_id'].unique()[0:8]\n",
    "\n",
    "fig, axes = plt.subplots(1,1, figsize=(25,8))\n",
    "colors = ['red','orange','blue','green','yellow','purple','cyan','brown']\n",
    "for i, item in enumerate(items_list):\n",
    "    dprice = sales_temp[sales_temp['item_id'] == item][['item_price','date']]\n",
    "    \n",
    "    sns.lineplot(x=dprice['date'], y=dprice['item_price'], ax=axes, color=colors[i], label=item)\n",
    "    \n",
    "axes.set_title('Price development of items - shop_id 21',fontsize=\"28\")\n",
    "axes.legend()\n",
    "plt.show()"
   ]
  },
  {
   "cell_type": "code",
   "execution_count": null,
   "id": "1f985267",
   "metadata": {
    "id": "1f985267"
   },
   "outputs": [],
   "source": []
  },
  {
   "cell_type": "code",
   "execution_count": null,
   "id": "11ac4fb3",
   "metadata": {
    "id": "11ac4fb3"
   },
   "outputs": [],
   "source": []
  },
  {
   "cell_type": "code",
   "execution_count": null,
   "id": "bf1d1713",
   "metadata": {
    "id": "bf1d1713"
   },
   "outputs": [],
   "source": []
  },
  {
   "cell_type": "code",
   "execution_count": null,
   "id": "85233f0a",
   "metadata": {
    "id": "85233f0a"
   },
   "outputs": [],
   "source": []
  },
  {
   "cell_type": "markdown",
   "id": "9ff0e381",
   "metadata": {
    "id": "9ff0e381"
   },
   "source": [
    "### [ 환불 적용 모듈 ]"
   ]
  },
  {
   "cell_type": "code",
   "execution_count": null,
   "id": "8a0aef75",
   "metadata": {
    "id": "8a0aef75"
   },
   "outputs": [],
   "source": [
    "train_F = sales.copy()\n",
    "k = train_F[train_F.item_cnt_day < 0]\n",
    "qwe = 0\n",
    "minimum = 0\n",
    "timefunc = time.time()\n",
    "for i in range(len(k)):\n",
    "    try:\n",
    "        if k.iloc[i,5] < minimum:\n",
    "            minimum = k.iloc[i,5]\n",
    "        a = (train_F[np.array(train_F.item_id == k.iloc[i,3]) & np.array(train_F.shop_id == k.iloc[i,2])])\n",
    "        if a.date.min() < k.iloc[i,0]:\n",
    "            h = a[a.date==a.date[a.date < k.iloc[i,0]].max()].index[0]\n",
    "            qwe += 1\n",
    "            train_F.loc[h,'item_cnt_day'] += k.iloc[i,5]\n",
    "#            if qwe == 5:\n",
    "#                break\n",
    "        else:\n",
    "            pass\n",
    "    except:\n",
    "        pass\n",
    "train_F.drop(k.index,axis = 0,inplace = True)\n",
    "print(len(k))\n",
    "print('필요 없는 값:',(len(k) - qwe))\n",
    "print('적용한 값의 수::',qwe)\n",
    "print(minimum)\n",
    "print(time.time() - timefunc)"
   ]
  }
 ],
 "metadata": {
  "colab": {
   "collapsed_sections": [],
   "name": "2조_정리_0221.ipynb",
   "provenance": []
  },
  "kernelspec": {
   "display_name": "Python 3 (ipykernel)",
   "language": "python",
   "name": "python3"
  },
  "language_info": {
   "codemirror_mode": {
    "name": "ipython",
    "version": 3
   },
   "file_extension": ".py",
   "mimetype": "text/x-python",
   "name": "python",
   "nbconvert_exporter": "python",
   "pygments_lexer": "ipython3",
   "version": "3.9.7"
  }
 },
 "nbformat": 4,
 "nbformat_minor": 5
}
