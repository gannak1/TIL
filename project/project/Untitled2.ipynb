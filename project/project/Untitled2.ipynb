{
 "cells": [
  {
   "cell_type": "code",
   "execution_count": 1,
   "id": "bd51c958",
   "metadata": {},
   "outputs": [
    {
     "ename": "ImportError",
     "evalue": "cannot import name 'train_test_selection' from 'sklearn.model_selection' (C:\\ProgramData\\Anaconda3\\lib\\site-packages\\sklearn\\model_selection\\__init__.py)",
     "output_type": "error",
     "traceback": [
      "\u001b[1;31m---------------------------------------------------------------------------\u001b[0m",
      "\u001b[1;31mImportError\u001b[0m                               Traceback (most recent call last)",
      "\u001b[1;32m~\\AppData\\Local\\Temp/ipykernel_1268/2155128523.py\u001b[0m in \u001b[0;36m<module>\u001b[1;34m\u001b[0m\n\u001b[1;32m----> 1\u001b[1;33m \u001b[1;32mfrom\u001b[0m \u001b[0msklearn\u001b[0m\u001b[1;33m.\u001b[0m\u001b[0mmodel_selection\u001b[0m \u001b[1;32mimport\u001b[0m \u001b[0mtrain_test_selection\u001b[0m\u001b[1;33m\u001b[0m\u001b[1;33m\u001b[0m\u001b[0m\n\u001b[0m",
      "\u001b[1;31mImportError\u001b[0m: cannot import name 'train_test_selection' from 'sklearn.model_selection' (C:\\ProgramData\\Anaconda3\\lib\\site-packages\\sklearn\\model_selection\\__init__.py)"
     ]
    }
   ],
   "source": [
    "from sklearn.model_selection import train_test_selection"
   ]
  },
  {
   "cell_type": "code",
   "execution_count": 2,
   "id": "820c6f3d",
   "metadata": {},
   "outputs": [],
   "source": [
    "train_x = data_onehot[data_onehot.date_block_num < 33].drop('item_cnt_month',axis = 1)\n",
    "train_y = data_onehot[data_onehot.date_block_num < 33].item_cnt_month\n",
    "test_x = data_onehot[data_onehot.date_block_num == 33].drop('item_cnt_month',axis = 1)\n",
    "test_y = data_onehot[data_onehot.date_block_num == 33].item_cnt_month"
   ]
  },
  {
   "cell_type": "code",
   "execution_count": null,
   "id": "5038472d",
   "metadata": {},
   "outputs": [],
   "source": []
  }
 ],
 "metadata": {
  "kernelspec": {
   "display_name": "Python 3 (ipykernel)",
   "language": "python",
   "name": "python3"
  },
  "language_info": {
   "codemirror_mode": {
    "name": "ipython",
    "version": 3
   },
   "file_extension": ".py",
   "mimetype": "text/x-python",
   "name": "python",
   "nbconvert_exporter": "python",
   "pygments_lexer": "ipython3",
   "version": "3.9.7"
  }
 },
 "nbformat": 4,
 "nbformat_minor": 5
}
