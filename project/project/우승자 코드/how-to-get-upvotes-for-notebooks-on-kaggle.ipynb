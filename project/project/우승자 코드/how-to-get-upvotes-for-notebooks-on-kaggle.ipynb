{
 "cells": [
  {
   "cell_type": "markdown",
   "metadata": {},
   "source": [
    "https://www.kaggle.com/andrej0marinchenko"
   ]
  },
  {
   "cell_type": "code",
   "execution_count": null,
   "metadata": {
    "_cell_guid": "b1076dfc-b9ad-4769-8c92-a6c4dae69d19",
    "_uuid": "8f2839f25d086af736a60e9eeb907d3b93b6e0e5",
    "execution": {
     "iopub.execute_input": "2022-02-02T17:36:28.129261Z",
     "iopub.status.busy": "2022-02-02T17:36:28.12892Z",
     "iopub.status.idle": "2022-02-02T17:36:29.529635Z",
     "shell.execute_reply": "2022-02-02T17:36:29.528869Z",
     "shell.execute_reply.started": "2022-02-02T17:36:28.129177Z"
    }
   },
   "outputs": [],
   "source": [
    "#import linear algebra and data manipulation libraries\n",
    "import numpy as np\n",
    "import pandas as pd\n",
    "\n",
    "#import date manipulation\n",
    "import datetime as dt\n",
    "from datetime import date, timedelta\n",
    "\n",
    "#import standard visualization\n",
    "import matplotlib.pyplot as plt\n",
    "import seaborn as sns\n",
    "\n",
    "#import machine learning\n",
    "from sklearn.linear_model import LinearRegression\n",
    "import xgboost\n",
    "\n",
    "from sklearn.model_selection import train_test_split #split\n",
    "from sklearn.metrics import r2_score, mean_squared_error #metrics\n",
    "\n",
    "# import helpers\n",
    "import re"
   ]
  },
  {
   "cell_type": "markdown",
   "metadata": {
    "_uuid": "f36983aef282bc29b5fc77a0db761e1d3d900839"
   },
   "source": [
    "## Introduction"
   ]
  },
  {
   "cell_type": "markdown",
   "metadata": {
    "_uuid": "7ba080f9b7374e45ec6cdd4ce77eee519b16506e"
   },
   "source": [
    "I have recently joined Kaggle and started to create public kernels. My kernels have a lot of views, but no upvotes. So I decided to analyze Meta Kaggle dataset to find out:\n",
    "* Statistics for kernels, which have votes.\n",
    "* How different factors affect the number of votes (for example, characteristics of the author, source dataset etc.)?\n",
    "* And finally, make the recommendations on how to make the kernel useful, so other kagglers would cast upvotes."
   ]
  },
  {
   "cell_type": "markdown",
   "metadata": {
    "_uuid": "68f945466c6934c31d0631c143d801f0bcc99a85"
   },
   "source": [
    "## Import datasets related to kernels"
   ]
  },
  {
   "cell_type": "code",
   "execution_count": null,
   "metadata": {
    "_uuid": "3089e52dcfaebd92aa52aab28bda5f21312df187",
    "execution": {
     "iopub.execute_input": "2022-02-02T17:37:43.833953Z",
     "iopub.status.busy": "2022-02-02T17:37:43.833634Z",
     "iopub.status.idle": "2022-02-02T17:39:09.018152Z",
     "shell.execute_reply": "2022-02-02T17:39:09.017319Z",
     "shell.execute_reply.started": "2022-02-02T17:37:43.833917Z"
    }
   },
   "outputs": [],
   "source": [
    "kernels = pd.read_csv('../input/meta-kaggle/Kernels.csv')\n",
    "kernel_lang = pd.read_csv('../input/meta-kaggle/KernelLanguages.csv')\n",
    "kernel_tags = pd.read_csv('../input/meta-kaggle/KernelTags.csv')\n",
    "kernel_votes = pd.read_csv('../input/meta-kaggle/KernelVotes.csv')\n",
    "kernel_versions = pd.read_csv('../input/meta-kaggle/KernelVersions.csv')\n",
    "kernel_competitions = pd.read_csv('../input/meta-kaggle/KernelVersionCompetitionSources.csv')\n",
    "kernel_users = pd.read_csv('../input/meta-kaggle/Users.csv')\n",
    "datasets = pd.read_csv('../input/meta-kaggle/Datasets.csv')\n",
    "kernel_datasets = pd.read_csv('../input/meta-kaggle/KernelVersionDatasetSources.csv')\n",
    "dataset_versions = pd.read_csv('../input/meta-kaggle/DatasetVersions.csv')\n",
    "tags = pd.read_csv('../input/meta-kaggle/Tags.csv')\n",
    "competitions = pd.read_csv('../input/meta-kaggle/Competitions.csv')\n",
    "messages = pd.read_csv('../input/meta-kaggle/ForumMessages.csv')"
   ]
  },
  {
   "cell_type": "markdown",
   "metadata": {
    "_cell_guid": "79c7e3d0-c299-4dcb-8224-4455121ee9b0",
    "_uuid": "d629ff2d2480ee46fbb7e2d37f6b5fab8052498a"
   },
   "source": [
    "## Explore statistics for kernel votes"
   ]
  },
  {
   "cell_type": "markdown",
   "metadata": {
    "_uuid": "7a78e043d4ffcf2448c58a6fbacba8973a511afd"
   },
   "source": [
    "### 1. Explore basic statistics for number of kernels"
   ]
  },
  {
   "cell_type": "markdown",
   "metadata": {
    "_uuid": "b5333a093d7dc4efb6abfe1e9726d69b90772f65"
   },
   "source": [
    "* How many kernels are there? \n",
    "* How many of them are public? \n",
    "* How many kernels have upvotes? \n",
    "* How many kernels have any medal?"
   ]
  },
  {
   "cell_type": "code",
   "execution_count": null,
   "metadata": {
    "_uuid": "771d0846839f3eeb6b80ed52d312e732997e7632",
    "execution": {
     "iopub.execute_input": "2022-02-02T17:40:15.425516Z",
     "iopub.status.busy": "2022-02-02T17:40:15.425011Z",
     "iopub.status.idle": "2022-02-02T17:40:15.662774Z",
     "shell.execute_reply": "2022-02-02T17:40:15.66182Z",
     "shell.execute_reply.started": "2022-02-02T17:40:15.425454Z"
    }
   },
   "outputs": [],
   "source": [
    "total_kernels = len(kernels['Id'].unique())\n",
    "print('Total number of kernels: {total_kernels}'.format(total_kernels = total_kernels))\n",
    "\n",
    "total_public = len(kernels[pd.notnull(kernels['MadePublicDate'])])\n",
    "print('Total number of public kernels: {total_public_kernels}'.format(total_public_kernels = total_public))\n",
    "\n",
    "total_upvoted = len(kernels[ kernels['TotalVotes'] > 0])\n",
    "print('Total number of kernels with upvotes: {total_upvoted}'.format(total_upvoted = total_upvoted))\n",
    "\n",
    "total_awarded = len(kernels[np.isfinite(kernels['Medal'])])\n",
    "print('Total number of kernels with any medal: {total_awarded}'.format(total_awarded = total_awarded))\n",
    "\n",
    "total_no_upvotes = total_public - total_upvoted\n",
    "print('Total number of public kernels with no upvotes: {total_no_upvotes}'.format(total_no_upvotes = total_no_upvotes))\n",
    "\n",
    "total_private = total_kernels - total_public\n",
    "print('Total number of private kernels: {total_private}'.format(total_private = total_private))\n",
    "\n",
    "total_upvoted_not_awarded = total_upvoted - total_awarded\n",
    "print('Total number of upvoted, but not awarded: {total_upvoted_not_awarded}'.format(total_upvoted_not_awarded = total_upvoted_not_awarded))"
   ]
  },
  {
   "cell_type": "markdown",
   "metadata": {
    "_uuid": "5ff182e83d9195dd2502974e4c3b0154701aaa42"
   },
   "source": [
    "Plot statistics for number of kernels:"
   ]
  },
  {
   "cell_type": "code",
   "execution_count": null,
   "metadata": {
    "_uuid": "8cc5cb6910791d890d191642c9e419ac662109c4",
    "execution": {
     "iopub.execute_input": "2022-02-02T17:40:59.947745Z",
     "iopub.status.busy": "2022-02-02T17:40:59.947408Z",
     "iopub.status.idle": "2022-02-02T17:41:00.192633Z",
     "shell.execute_reply": "2022-02-02T17:41:00.191742Z",
     "shell.execute_reply.started": "2022-02-02T17:40:59.947709Z"
    }
   },
   "outputs": [],
   "source": [
    "#plot statistics with matplotlib\n",
    "\n",
    "labels = 'Private', 'Public with no upvotes', 'Upvoted but not awarded', 'Awarded'\n",
    "sizes = [total_private, total_no_upvotes, total_upvoted_not_awarded, total_awarded]\n",
    "explode = (0, 0.1, 0, 0)  # only \"explode\" the 2nd slice (i.e. 'Hogs')\n",
    "\n",
    "fig1, ax1 = plt.subplots()\n",
    "ax1.pie(sizes, explode=explode, labels=labels, autopct='%1.1f%%',\n",
    "        shadow=True, startangle=180)\n",
    "ax1.axis('equal')  # Equal aspect ratio ensures that pie is drawn as a circle.\n",
    "\n",
    "fig1.set_figheight(7)\n",
    "fig1.set_figwidth(7)\n",
    "\n",
    "plt.title('Statistics for upvoted and awarded kernels')\n",
    "\n",
    "plt.show()"
   ]
  },
  {
   "cell_type": "markdown",
   "metadata": {
    "_uuid": "fa901411d8c75fa39e4b3f4d85796d09f295c4f2"
   },
   "source": [
    "### 2. How does number of views and number of comments affect number of votes?"
   ]
  },
  {
   "cell_type": "markdown",
   "metadata": {
    "_uuid": "27a3ed557ce33c12d874cf7b783385d9ae6e777e"
   },
   "source": [
    "* Is there a correlation between number of views and number of comments with number of votes?\n",
    "* Plot dependencies between number of views, comments and number of votes."
   ]
  },
  {
   "cell_type": "markdown",
   "metadata": {
    "_uuid": "4d7deaab8d842624424a089a93f12c5e2ad7331b"
   },
   "source": [
    "Find out correlation between number of views, number of comments and number of votes:"
   ]
  },
  {
   "cell_type": "code",
   "execution_count": null,
   "metadata": {
    "_uuid": "1df1e113867a44e5a104ce56d7fcf78194848223",
    "execution": {
     "iopub.execute_input": "2022-02-02T17:41:45.67403Z",
     "iopub.status.busy": "2022-02-02T17:41:45.673125Z",
     "iopub.status.idle": "2022-02-02T17:41:46.058235Z",
     "shell.execute_reply": "2022-02-02T17:41:46.057319Z",
     "shell.execute_reply.started": "2022-02-02T17:41:45.673985Z"
    }
   },
   "outputs": [],
   "source": [
    "#columns to find out correlation\n",
    "cols = ['TotalViews', 'TotalComments', 'TotalVotes']\n",
    "\n",
    "#Find out correlation between columns and plot\n",
    "corrs = np.corrcoef(kernels[cols].values.T)\n",
    "sns.set(font_scale=1)\n",
    "sns.set(rc={'figure.figsize':(7,7)})\n",
    "hm=sns.heatmap(corrs, cbar = True, annot=True, square = True, fmt = '.2f',\n",
    "              yticklabels = cols, xticklabels = cols).set_title('Correlations heatmap')\n",
    "\n",
    "fig = hm.get_figure()\n",
    "fig.savefig('correlations.png')"
   ]
  },
  {
   "cell_type": "markdown",
   "metadata": {
    "_uuid": "6ef82acd74b05a563c9d63cdd8184b15551bebda"
   },
   "source": [
    "We can see that votes, comments and views are __highly correlated__. So my first assumption would be that __we should get as many views of the kernels as possible to gain votes__.\n",
    "<br> Let's try to visualize dependency between views and votes:"
   ]
  },
  {
   "cell_type": "code",
   "execution_count": null,
   "metadata": {
    "_uuid": "48c9777fee19e1afd16ca845e82a4f196d4c9812",
    "execution": {
     "iopub.execute_input": "2022-02-02T17:42:22.009444Z",
     "iopub.status.busy": "2022-02-02T17:42:22.008493Z",
     "iopub.status.idle": "2022-02-02T17:42:22.138862Z",
     "shell.execute_reply": "2022-02-02T17:42:22.138018Z",
     "shell.execute_reply.started": "2022-02-02T17:42:22.009398Z"
    }
   },
   "outputs": [],
   "source": [
    "#get average number of votes per number of views\n",
    "votes_by_views = kernels.groupby('TotalViews').mean().reset_index()[['TotalViews', 'TotalVotes']]\n",
    "votes_by_views = votes_by_views.sort_values(by = 'TotalViews', ascending = True)\n",
    "\n",
    "# fit a linear regression model on views and votes data\n",
    "model = LinearRegression()\n",
    "model.fit(votes_by_views['TotalViews'].values.reshape(-1, 1), votes_by_views['TotalVotes'].values.reshape(-1, 1))\n",
    "\n",
    "inputs = np.linspace(1, 1200000, num=50)\n",
    "predictions = model.predict(inputs.reshape(-1,1))"
   ]
  },
  {
   "cell_type": "code",
   "execution_count": null,
   "metadata": {
    "_uuid": "b70a8577d3c85856b5753464f0c9a030e5b5915d",
    "execution": {
     "iopub.execute_input": "2022-02-02T17:42:26.685612Z",
     "iopub.status.busy": "2022-02-02T17:42:26.685319Z",
     "iopub.status.idle": "2022-02-02T17:42:26.975294Z",
     "shell.execute_reply": "2022-02-02T17:42:26.974149Z",
     "shell.execute_reply.started": "2022-02-02T17:42:26.685577Z"
    }
   },
   "outputs": [],
   "source": [
    "#plot with matplotlib along with predictions from the linear regression model\n",
    "\n",
    "plt.scatter(votes_by_views['TotalViews'], votes_by_views['TotalVotes'])\n",
    "plt.plot(inputs, predictions, color='green')\n",
    "\n",
    "plt.title(\"Number of votes per number of views\")\n",
    "plt.xlabel(\"Views\")\n",
    "plt.ylabel(\"Votes\")\n",
    "\n",
    "plt.show()"
   ]
  },
  {
   "cell_type": "markdown",
   "metadata": {
    "_uuid": "32b44dd24c0bf1777b6b278ae3d6b5ae78e0a4d0"
   },
   "source": [
    "Visualization of dependency between comments and votes:"
   ]
  },
  {
   "cell_type": "code",
   "execution_count": null,
   "metadata": {
    "_uuid": "e6430132294740e0a5e406e170d3c752a73247d0",
    "execution": {
     "iopub.execute_input": "2022-02-02T17:42:51.771252Z",
     "iopub.status.busy": "2022-02-02T17:42:51.770901Z",
     "iopub.status.idle": "2022-02-02T17:42:51.871026Z",
     "shell.execute_reply": "2022-02-02T17:42:51.870156Z",
     "shell.execute_reply.started": "2022-02-02T17:42:51.77122Z"
    }
   },
   "outputs": [],
   "source": [
    "#get average number of votes per number of comments\n",
    "votes_by_comments = kernels.groupby('TotalComments').mean().reset_index()[['TotalComments', 'TotalVotes']]\n",
    "votes_by_comments = votes_by_comments.sort_values(by = 'TotalComments', ascending = True)\n",
    "\n",
    "# fit a linear regression model on comments and votes data\n",
    "model = LinearRegression()\n",
    "model.fit(votes_by_comments['TotalComments'].values.reshape(-1, 1), votes_by_comments['TotalVotes'].values.reshape(-1, 1))\n",
    "\n",
    "inputs = np.linspace(1, 1000, num=50)\n",
    "predictions = model.predict(inputs.reshape(-1,1))"
   ]
  },
  {
   "cell_type": "code",
   "execution_count": null,
   "metadata": {
    "_uuid": "f972109bd27d3d1e103d76ac6d498cc0fa3411c9",
    "execution": {
     "iopub.execute_input": "2022-02-02T17:43:07.10567Z",
     "iopub.status.busy": "2022-02-02T17:43:07.105383Z",
     "iopub.status.idle": "2022-02-02T17:43:07.34954Z",
     "shell.execute_reply": "2022-02-02T17:43:07.348779Z",
     "shell.execute_reply.started": "2022-02-02T17:43:07.105638Z"
    }
   },
   "outputs": [],
   "source": [
    "#plot with matplotlib along with predictions from the linear regression model\n",
    "\n",
    "plt.scatter(votes_by_comments['TotalComments'], votes_by_comments['TotalVotes'])\n",
    "plt.plot(inputs, predictions, color='green')\n",
    "\n",
    "plt.title(\"Number of votes per number of views\")\n",
    "plt.xlabel(\"Comments\")\n",
    "plt.ylabel(\"Votes\")\n",
    "\n",
    "plt.show()"
   ]
  },
  {
   "cell_type": "markdown",
   "metadata": {
    "_uuid": "adce84dc52fa37e2ace9e250fe2d8e7d7bd5a02b"
   },
   "source": [
    "Both plots for the views and the comments show us that there is linear dependency between number of votes and number of views/comments."
   ]
  },
  {
   "cell_type": "markdown",
   "metadata": {
    "_uuid": "6ac1cde50735933442e4513dd3fc4d87039f088e"
   },
   "source": [
    "### 3. How does the status of the author affect number of votes per kernel?"
   ]
  },
  {
   "cell_type": "markdown",
   "metadata": {
    "_uuid": "1a0dd93b93b79f7168abb48375058815b2ca0c7e"
   },
   "source": [
    "I suppose that more active users and the users with higher visibility gain votes for kernels:\n",
    "* So how does performance tier of the user affect the number of upvotes?"
   ]
  },
  {
   "cell_type": "code",
   "execution_count": null,
   "metadata": {
    "_uuid": "523931392e110a5f38c32dc2c17742a94c72d082",
    "execution": {
     "iopub.execute_input": "2022-02-02T17:44:09.006778Z",
     "iopub.status.busy": "2022-02-02T17:44:09.006493Z",
     "iopub.status.idle": "2022-02-02T17:44:14.144315Z",
     "shell.execute_reply": "2022-02-02T17:44:14.143618Z",
     "shell.execute_reply.started": "2022-02-02T17:44:09.006749Z"
    }
   },
   "outputs": [],
   "source": [
    "#merge kernels with users\n",
    "kernel_users_renamed = kernel_users.rename(columns={'Id': 'AuthorUserId'})\n",
    "kernels_user_tiers = kernels.merge(kernel_users_renamed, on = 'AuthorUserId')\n",
    "\n",
    "#get average number of votes per number of comments\n",
    "votes_by_usertier= kernels_user_tiers.groupby('PerformanceTier').mean().reset_index()[['PerformanceTier', 'TotalVotes']]\n",
    "votes_by_usertier = votes_by_usertier.sort_values(by = 'PerformanceTier', ascending = True)"
   ]
  },
  {
   "cell_type": "code",
   "execution_count": null,
   "metadata": {
    "_uuid": "8811461b6fffe4a82aeb47a32e5e1f8c4c160c7d",
    "execution": {
     "iopub.execute_input": "2022-02-02T17:44:50.856598Z",
     "iopub.status.busy": "2022-02-02T17:44:50.856303Z",
     "iopub.status.idle": "2022-02-02T17:44:51.10035Z",
     "shell.execute_reply": "2022-02-02T17:44:51.099534Z",
     "shell.execute_reply.started": "2022-02-02T17:44:50.856568Z"
    }
   },
   "outputs": [],
   "source": [
    "#plot with matplotlib along with predictions from the linear regression model\n",
    "\n",
    "plt.plot(votes_by_usertier['PerformanceTier'], votes_by_usertier['TotalVotes'])\n",
    "\n",
    "plt.title(\"Average number of votes per kernel depending on user performance tier\")\n",
    "plt.xlabel(\"Performance Tier\")\n",
    "plt.ylabel(\"Average number of votes per kernel\")\n",
    "\n",
    "plt.show()"
   ]
  },
  {
   "cell_type": "markdown",
   "metadata": {
    "_uuid": "df73b89872757532ac9ae21cb5a05765169c461b"
   },
   "source": [
    "So we can really see that __more proficient users gain more votes for kernels__."
   ]
  },
  {
   "cell_type": "markdown",
   "metadata": {
    "_uuid": "fb833a17484fc874099451eff9feb953dff8817e"
   },
   "source": [
    "### 4. How does dataset related to kernel affects the number of votes?"
   ]
  },
  {
   "cell_type": "markdown",
   "metadata": {
    "_uuid": "484358b57b9d059f8146f7a7cd9a84026ab720e4"
   },
   "source": [
    "I suppose that there might be some 'hot' datasets on Kaggle and kernels related to those datasets might optain more votes. So we should find out:\n",
    "* How does the number of votes for a dataset affect the number of votes for related kernel?\n",
    "* How does the number of downloads of a dataset affect the number of votes for related kernel?"
   ]
  },
  {
   "cell_type": "code",
   "execution_count": null,
   "metadata": {
    "_uuid": "5e046d99e404b4d58046e0a5a64f981a4e5b6438",
    "execution": {
     "iopub.execute_input": "2022-02-02T17:45:57.941219Z",
     "iopub.status.busy": "2022-02-02T17:45:57.940283Z",
     "iopub.status.idle": "2022-02-02T17:46:01.285856Z",
     "shell.execute_reply": "2022-02-02T17:46:01.284892Z",
     "shell.execute_reply.started": "2022-02-02T17:45:57.941168Z"
    }
   },
   "outputs": [],
   "source": [
    "#prepare data for the analysis\n",
    "\n",
    "kernels_truncated = kernels[['Id' , 'CurrentKernelVersionId', 'TotalVotes']]\n",
    "kernels_truncated = kernels_truncated.rename(columns={'Id': 'KernelId', 'TotalVotes':'TotalKernelVotes',\n",
    "                                                      'CurrentKernelVersionId':'KernelVersionId'})\n",
    "\n",
    "kernel_datasets_truncated = kernel_datasets[['KernelVersionId', 'SourceDatasetVersionId']]\n",
    "\n",
    "dataset_versions_truncated = dataset_versions[['DatasetId', 'DatasourceVersionId']]\n",
    "dataset_versions_truncated = dataset_versions_truncated.rename(columns={'DatasourceVersionId': 'SourceDatasetVersionId'})\n",
    "\n",
    "datasets_truncated = datasets[['Id', 'TotalVotes', 'TotalDownloads']]\n",
    "datasets_truncated = datasets_truncated.rename(columns={'Id': 'DatasetId', 'TotalVotes':'TotalDatasetVotes',\n",
    "                                                      'TotalDownloads':'TotalDatasetDownloads'})\n",
    "\n",
    "df_merge = kernels_truncated.merge(kernel_datasets_truncated, on = 'KernelVersionId')\n",
    "df_merge = df_merge.merge(dataset_versions_truncated, on = 'SourceDatasetVersionId')\n",
    "df_merge = df_merge.merge(datasets_truncated, on = 'DatasetId')"
   ]
  },
  {
   "cell_type": "markdown",
   "metadata": {
    "_uuid": "e60cf007db3f20c0158b10339f8c6b1753918e7d"
   },
   "source": [
    "At first let's look at correlations between TotalKernelVotes, TotalDatasetVotes and\tTotalDatasetDownloads."
   ]
  },
  {
   "cell_type": "code",
   "execution_count": null,
   "metadata": {
    "_uuid": "1d99e3cb9289f178524f4bfaa28c32de6ca60111",
    "execution": {
     "iopub.execute_input": "2022-02-02T17:46:10.935184Z",
     "iopub.status.busy": "2022-02-02T17:46:10.93489Z",
     "iopub.status.idle": "2022-02-02T17:46:11.304795Z",
     "shell.execute_reply": "2022-02-02T17:46:11.303894Z",
     "shell.execute_reply.started": "2022-02-02T17:46:10.935155Z"
    }
   },
   "outputs": [],
   "source": [
    "#columns to find out correlation\n",
    "cols = ['TotalKernelVotes', 'TotalDatasetVotes', 'TotalDatasetDownloads']\n",
    "\n",
    "#Find out correlation between columns and plot\n",
    "corrs = np.corrcoef(df_merge[cols].values.T)\n",
    "sns.set(font_scale=1)\n",
    "sns.set(rc={'figure.figsize':(7,7)})\n",
    "hm=sns.heatmap(corrs, cbar = True, annot=True, square = True, fmt = '.2f',\n",
    "              yticklabels = cols, xticklabels = cols).set_title('Correlations heatmap')\n",
    "\n",
    "plt.yticks(rotation=0)\n",
    "fig = hm.get_figure()\n",
    "fig.savefig('correlations.png')"
   ]
  },
  {
   "cell_type": "markdown",
   "metadata": {
    "_uuid": "d7f9106a092882f4b8090bc0ac10902fafa84bfb"
   },
   "source": [
    "As we can see there is no correlation between number of kernel votes and number of votes or downloads for a dataset.\n",
    "<br> Let's also make scatter plots:"
   ]
  },
  {
   "cell_type": "code",
   "execution_count": null,
   "metadata": {
    "_uuid": "c8cc8eef7277258f9c40e241709a9198f6070872",
    "execution": {
     "iopub.execute_input": "2022-02-02T17:46:30.828327Z",
     "iopub.status.busy": "2022-02-02T17:46:30.82742Z",
     "iopub.status.idle": "2022-02-02T17:46:30.845799Z",
     "shell.execute_reply": "2022-02-02T17:46:30.845118Z",
     "shell.execute_reply.started": "2022-02-02T17:46:30.82828Z"
    }
   },
   "outputs": [],
   "source": [
    "#get average number of votes per number of dataset votes\n",
    "votes_by_dvotes = df_merge.groupby('TotalDatasetVotes').mean().reset_index()[['TotalDatasetVotes', 'TotalKernelVotes']]\n",
    "votes_by_dvotes = votes_by_dvotes.sort_values(by = 'TotalDatasetVotes', ascending = True)"
   ]
  },
  {
   "cell_type": "code",
   "execution_count": null,
   "metadata": {
    "_uuid": "a752f13ecfd1c02a417111614c8ec7df27345614",
    "execution": {
     "iopub.execute_input": "2022-02-02T17:46:55.418168Z",
     "iopub.status.busy": "2022-02-02T17:46:55.417881Z",
     "iopub.status.idle": "2022-02-02T17:46:55.750497Z",
     "shell.execute_reply": "2022-02-02T17:46:55.749582Z",
     "shell.execute_reply.started": "2022-02-02T17:46:55.418136Z"
    }
   },
   "outputs": [],
   "source": [
    "#plot with matplotlib\n",
    "\n",
    "plt.scatter(votes_by_dvotes['TotalDatasetVotes'], votes_by_dvotes['TotalKernelVotes'])\n",
    "\n",
    "plt.title(\"Number of votes per number of votes for related dataset\")\n",
    "plt.xlabel(\"Dataset Votes\")\n",
    "plt.ylabel(\"Kernel Votes\")\n",
    "\n",
    "plt.show()"
   ]
  },
  {
   "cell_type": "markdown",
   "metadata": {
    "_uuid": "6a26bbd760003120448abc8ce830b8927e863297"
   },
   "source": [
    "Here we can't see a clear dependency of kernel votes on dataset's number of votes. So I suppose that we can create a really helpful and popular kernel for an unpopular dataset and vice versa."
   ]
  },
  {
   "cell_type": "code",
   "execution_count": null,
   "metadata": {
    "_uuid": "daa973f85aec3123b5a98a5b24576173eb221993",
    "execution": {
     "iopub.execute_input": "2022-02-02T17:47:42.002391Z",
     "iopub.status.busy": "2022-02-02T17:47:42.002091Z",
     "iopub.status.idle": "2022-02-02T17:47:42.022848Z",
     "shell.execute_reply": "2022-02-02T17:47:42.021975Z",
     "shell.execute_reply.started": "2022-02-02T17:47:42.002359Z"
    }
   },
   "outputs": [],
   "source": [
    "#get average number of votes per number of dataset downloads\n",
    "votes_by_downloads = df_merge.groupby('TotalDatasetDownloads').mean().reset_index()[['TotalDatasetDownloads', 'TotalKernelVotes']]\n",
    "votes_by_downloads = votes_by_downloads.sort_values(by = 'TotalDatasetDownloads', ascending = True)"
   ]
  },
  {
   "cell_type": "code",
   "execution_count": null,
   "metadata": {
    "_uuid": "143140f633b3d828077d5b20ae7a546c2acfaf2b",
    "execution": {
     "iopub.execute_input": "2022-02-02T17:47:45.722551Z",
     "iopub.status.busy": "2022-02-02T17:47:45.721873Z",
     "iopub.status.idle": "2022-02-02T17:47:45.946662Z",
     "shell.execute_reply": "2022-02-02T17:47:45.945887Z",
     "shell.execute_reply.started": "2022-02-02T17:47:45.722507Z"
    }
   },
   "outputs": [],
   "source": [
    "#plot with matplotlib\n",
    "\n",
    "plt.scatter(votes_by_downloads['TotalDatasetDownloads'], votes_by_downloads['TotalKernelVotes'])\n",
    "\n",
    "plt.title(\"Number of votes per number of downloads for related dataset\")\n",
    "plt.xlabel(\"Dataset Downloads\")\n",
    "plt.ylabel(\"Kernel Votes\")\n",
    "\n",
    "plt.show()"
   ]
  },
  {
   "cell_type": "markdown",
   "metadata": {
    "_uuid": "47c157bc276a5d4e24dcc01609cb1d4691de0e6c"
   },
   "source": [
    "The picture looks similar to the previous one. There is also no clear dependency."
   ]
  },
  {
   "cell_type": "markdown",
   "metadata": {
    "_uuid": "ff6f052ac33d8ad9cbd09aff31be32dd73655f75"
   },
   "source": [
    "### 6. How does kernel language affect the number of votes?"
   ]
  },
  {
   "cell_type": "markdown",
   "metadata": {
    "_uuid": "0b97458fd2fe4fc387cd939d9880f62ac7d41697"
   },
   "source": [
    "What kernel types gain more votes?"
   ]
  },
  {
   "cell_type": "code",
   "execution_count": null,
   "metadata": {
    "execution": {
     "iopub.execute_input": "2022-02-02T18:05:27.008897Z",
     "iopub.status.busy": "2022-02-02T18:05:27.008604Z",
     "iopub.status.idle": "2022-02-02T18:05:27.019808Z",
     "shell.execute_reply": "2022-02-02T18:05:27.018993Z",
     "shell.execute_reply.started": "2022-02-02T18:05:27.008858Z"
    }
   },
   "outputs": [],
   "source": [
    "kernel_lang"
   ]
  },
  {
   "cell_type": "code",
   "execution_count": null,
   "metadata": {
    "_uuid": "513ecc9432c89e029879ee574937efb510e9f66b",
    "execution": {
     "iopub.execute_input": "2022-02-02T18:06:14.345456Z",
     "iopub.status.busy": "2022-02-02T18:06:14.344814Z",
     "iopub.status.idle": "2022-02-02T18:06:20.751232Z",
     "shell.execute_reply": "2022-02-02T18:06:20.750411Z",
     "shell.execute_reply.started": "2022-02-02T18:06:14.345423Z"
    }
   },
   "outputs": [],
   "source": [
    "#prepare the data for the analysis\n",
    "\n",
    "kernels_trc = kernels[['Id' , 'TotalVotes', 'CurrentKernelVersionId']]\n",
    "kernels_trc = kernels_trc.rename(columns = {'Id': 'ScriptId', 'CurrentKernelVersionId' : 'VersionId'})\n",
    "\n",
    "kernel_versions_trc = kernel_versions[['Id', 'ScriptId', 'ScriptLanguageId']]\n",
    "kernel_versions_trc = kernel_versions_trc.rename(columns = {'Id' : 'VersionId'})\n",
    "\n",
    "kernel_lang_ren = kernel_lang.rename(columns = {'Id' : 'ScriptLanguageId'})\n",
    "\n",
    "kernels_trc_lang = kernels_trc.merge(kernel_versions_trc, on = ['VersionId', 'ScriptId'])\n",
    "kernels_trc_lang = kernels_trc_lang.merge(kernel_lang_ren, on = 'ScriptLanguageId')"
   ]
  },
  {
   "cell_type": "code",
   "execution_count": null,
   "metadata": {
    "_uuid": "dcacb6045270bed15a9d05ba614a266c6efb8561",
    "execution": {
     "iopub.execute_input": "2022-02-02T18:06:43.121617Z",
     "iopub.status.busy": "2022-02-02T18:06:43.121318Z",
     "iopub.status.idle": "2022-02-02T18:06:43.218544Z",
     "shell.execute_reply": "2022-02-02T18:06:43.217866Z",
     "shell.execute_reply.started": "2022-02-02T18:06:43.121581Z"
    }
   },
   "outputs": [],
   "source": [
    "#get average number of votes per language name\n",
    "votes_by_lang = kernels_trc_lang.groupby('Name').mean().reset_index()[['Name', 'TotalVotes']]\n",
    "votes_by_lang = votes_by_lang.sort_values(by = 'Name', ascending = True)\n",
    "votes_by_lang = votes_by_lang.rename(columns = {'TotalVotes' : 'Average Votes'})"
   ]
  },
  {
   "cell_type": "code",
   "execution_count": null,
   "metadata": {
    "_uuid": "a8bcd72cff3e91dffc1a79c554f724174b07c143",
    "execution": {
     "iopub.execute_input": "2022-02-02T18:06:47.626716Z",
     "iopub.status.busy": "2022-02-02T18:06:47.626456Z",
     "iopub.status.idle": "2022-02-02T18:06:47.91103Z",
     "shell.execute_reply": "2022-02-02T18:06:47.910424Z",
     "shell.execute_reply.started": "2022-02-02T18:06:47.626688Z"
    }
   },
   "outputs": [],
   "source": [
    "#plot bar chart with matplotlib\n",
    "\n",
    "plt.figure(figsize=(13,7))\n",
    "plt.bar(votes_by_lang['Name'], votes_by_lang['Average Votes'])\n",
    "plt.xticks(votes_by_lang['Name'])\n",
    "plt.xticks(rotation=60)\n",
    "\n",
    "plt.xlabel('Language Name')\n",
    "plt.ylabel('Average Number of Votes')\n",
    "\n",
    "plt.title('Average number of votes per kernel language')\n",
    "\n",
    "plt.show()"
   ]
  },
  {
   "cell_type": "markdown",
   "metadata": {
    "_uuid": "0376222e170378b166ddf837114e4a5594a64060"
   },
   "source": [
    "It seems that notebooks are more appreciated with Kaggle users. "
   ]
  },
  {
   "cell_type": "markdown",
   "metadata": {
    "_uuid": "ecd471c52726cede2bd0369580e2a85bd6eb8d16"
   },
   "source": [
    "### 7. How do kernel tags affect the number of votes?"
   ]
  },
  {
   "cell_type": "markdown",
   "metadata": {
    "_uuid": "a7fefbdf6042c3ca7c41b720da612f0e82b3d987"
   },
   "source": [
    "Now we will look at the kernels' tags:\n",
    "* Are there any kernel tags, which are more specific to more popular kernels?"
   ]
  },
  {
   "cell_type": "code",
   "execution_count": null,
   "metadata": {
    "_uuid": "eb26da2e6a4cfacc8623abae9cf91e4286e5d9f4",
    "execution": {
     "iopub.execute_input": "2022-02-02T18:08:27.542211Z",
     "iopub.status.busy": "2022-02-02T18:08:27.541921Z",
     "iopub.status.idle": "2022-02-02T18:08:27.759659Z",
     "shell.execute_reply": "2022-02-02T18:08:27.758957Z",
     "shell.execute_reply.started": "2022-02-02T18:08:27.542181Z"
    }
   },
   "outputs": [],
   "source": [
    "#prepare data\n",
    "\n",
    "kernels_trc_tag = kernels[['Id' , 'TotalVotes']]\n",
    "kernels_trc_tag = kernels_trc_tag.rename(columns = {'Id' : 'KernelId'})\n",
    "\n",
    "tags_trc = tags[['Id', 'Name', 'DatasetCount', 'CompetitionCount', 'KernelCount']]\n",
    "tags_trc = tags_trc.rename(columns = {'Id' : 'TagId'})\n",
    "\n",
    "kernels_trc_tag = kernels_trc_tag.merge(kernel_tags[['KernelId', 'TagId']], on='KernelId')\n",
    "kernels_trc_tag = kernels_trc_tag.merge(tags_trc, on = 'TagId')"
   ]
  },
  {
   "cell_type": "markdown",
   "metadata": {
    "_uuid": "58e93fa4b9f478712defb521db524d570ae602a9"
   },
   "source": [
    "I have an assumption that Kaggle users may be attracted by most popular tags, so using them will help to gain more votes. That is why I will try to plot average number of votes against number of datasets/competitions/kernels, where kernel tag is used.\n",
    "\n",
    "1. Tag usage for datasets:"
   ]
  },
  {
   "cell_type": "code",
   "execution_count": null,
   "metadata": {
    "_uuid": "f6133e6ac29d6c7afd361bc4741f8aaaad668911",
    "execution": {
     "iopub.execute_input": "2022-02-02T18:08:30.810163Z",
     "iopub.status.busy": "2022-02-02T18:08:30.809343Z",
     "iopub.status.idle": "2022-02-02T18:08:30.874267Z",
     "shell.execute_reply": "2022-02-02T18:08:30.87354Z",
     "shell.execute_reply.started": "2022-02-02T18:08:30.810099Z"
    }
   },
   "outputs": [],
   "source": [
    "#get average number of votes per number of tage usages in datasets\n",
    "votes_by_tag_dataset = kernels_trc_tag.groupby('DatasetCount').mean().reset_index()[['DatasetCount', 'TotalVotes']]\n",
    "votes_by_tag_dataset = votes_by_tag_dataset.sort_values(by = 'DatasetCount', ascending = True)"
   ]
  },
  {
   "cell_type": "code",
   "execution_count": null,
   "metadata": {
    "_uuid": "83ec1f364f3f1f63ea435f02000ea342391eea51",
    "execution": {
     "iopub.execute_input": "2022-02-02T18:08:33.968735Z",
     "iopub.status.busy": "2022-02-02T18:08:33.967888Z",
     "iopub.status.idle": "2022-02-02T18:08:34.169629Z",
     "shell.execute_reply": "2022-02-02T18:08:34.168616Z",
     "shell.execute_reply.started": "2022-02-02T18:08:33.96869Z"
    }
   },
   "outputs": [],
   "source": [
    "#plot with matplotlib\n",
    "\n",
    "plt.scatter(votes_by_tag_dataset['DatasetCount'], votes_by_tag_dataset['TotalVotes'])\n",
    "plt.title(\"Number of votes per number of tag usages in datasets\")\n",
    "plt.xlabel(\"Tag usage for datasets\")\n",
    "plt.ylabel(\"Votes\")\n",
    "\n",
    "plt.show()"
   ]
  },
  {
   "cell_type": "markdown",
   "metadata": {
    "_uuid": "138590aa78fcf38290a2619c943de8018d8e8075"
   },
   "source": [
    "2. Tag usage for competitions:"
   ]
  },
  {
   "cell_type": "code",
   "execution_count": null,
   "metadata": {
    "_uuid": "6fb6d9987736da66485f9dbbb116f9744c05c1bd",
    "execution": {
     "iopub.execute_input": "2022-02-02T18:09:17.470238Z",
     "iopub.status.busy": "2022-02-02T18:09:17.469962Z",
     "iopub.status.idle": "2022-02-02T18:09:17.511077Z",
     "shell.execute_reply": "2022-02-02T18:09:17.510351Z",
     "shell.execute_reply.started": "2022-02-02T18:09:17.47021Z"
    }
   },
   "outputs": [],
   "source": [
    "#get average number of votes per number of tage usages in competitions\n",
    "votes_by_tag_competition = kernels_trc_tag.groupby('CompetitionCount').mean().reset_index()[['CompetitionCount', 'TotalVotes']]\n",
    "votes_by_tag_competition = votes_by_tag_competition.sort_values(by = 'CompetitionCount', ascending = True)"
   ]
  },
  {
   "cell_type": "code",
   "execution_count": null,
   "metadata": {
    "_uuid": "4ae9aba4c0e4769df8cd77438e3b6939544b0eb9",
    "execution": {
     "iopub.execute_input": "2022-02-02T18:09:19.924905Z",
     "iopub.status.busy": "2022-02-02T18:09:19.924608Z",
     "iopub.status.idle": "2022-02-02T18:09:20.186756Z",
     "shell.execute_reply": "2022-02-02T18:09:20.185911Z",
     "shell.execute_reply.started": "2022-02-02T18:09:19.924874Z"
    }
   },
   "outputs": [],
   "source": [
    "#plot with matplotlib\n",
    "\n",
    "plt.scatter(votes_by_tag_competition['CompetitionCount'], votes_by_tag_competition['TotalVotes'])\n",
    "plt.title(\"Number of votes per number of tag usages in competitions\")\n",
    "plt.xlabel(\"Tag usage for competitions\")\n",
    "plt.ylabel(\"Votes\")\n",
    "\n",
    "plt.show()"
   ]
  },
  {
   "cell_type": "markdown",
   "metadata": {
    "_uuid": "f86d4ce6f3f241fe462fb2e79d5282ed2a898341"
   },
   "source": [
    "3. Tag usage for kernels:"
   ]
  },
  {
   "cell_type": "code",
   "execution_count": null,
   "metadata": {
    "_uuid": "bacd210701d761805a1272d3ed6b65e86e6ef562",
    "execution": {
     "iopub.execute_input": "2022-02-02T18:09:23.707121Z",
     "iopub.status.busy": "2022-02-02T18:09:23.706664Z",
     "iopub.status.idle": "2022-02-02T18:09:23.748523Z",
     "shell.execute_reply": "2022-02-02T18:09:23.747875Z",
     "shell.execute_reply.started": "2022-02-02T18:09:23.70705Z"
    }
   },
   "outputs": [],
   "source": [
    "#get average number of votes per number of tage usages in kernels\n",
    "votes_by_tag_kernel = kernels_trc_tag.groupby('KernelCount').mean().reset_index()[['KernelCount', 'TotalVotes']]\n",
    "votes_by_tag_kernel = votes_by_tag_kernel.sort_values(by = 'KernelCount', ascending = True)"
   ]
  },
  {
   "cell_type": "code",
   "execution_count": null,
   "metadata": {
    "_uuid": "e0889288f0575b855131cd01376f689552bc297a",
    "execution": {
     "iopub.execute_input": "2022-02-02T18:09:25.836411Z",
     "iopub.status.busy": "2022-02-02T18:09:25.836011Z",
     "iopub.status.idle": "2022-02-02T18:09:26.053222Z",
     "shell.execute_reply": "2022-02-02T18:09:26.052402Z",
     "shell.execute_reply.started": "2022-02-02T18:09:25.83638Z"
    }
   },
   "outputs": [],
   "source": [
    "#plot with matplotlib\n",
    "\n",
    "plt.scatter(votes_by_tag_kernel['KernelCount'], votes_by_tag_kernel['TotalVotes'])\n",
    "plt.title(\"Number of votes per number of tag usages in kernels\")\n",
    "plt.xlabel(\"Tag usage for kernels\")\n",
    "plt.ylabel(\"Votes\")\n",
    "\n",
    "plt.show()"
   ]
  },
  {
   "cell_type": "markdown",
   "metadata": {
    "_uuid": "69f8123cc72acb704ddb38de703faaf7e8983ccd"
   },
   "source": [
    "Looks like the popularity of the tag doesn't really affect the number of votes.\n",
    "<br> I would also like to look at average number of votes for the most popular tags:"
   ]
  },
  {
   "cell_type": "code",
   "execution_count": null,
   "metadata": {
    "_uuid": "d63ca1a663955fe58dfa661697ba21178ee35a89",
    "execution": {
     "iopub.execute_input": "2022-02-02T18:09:47.482371Z",
     "iopub.status.busy": "2022-02-02T18:09:47.482083Z",
     "iopub.status.idle": "2022-02-02T18:09:47.567189Z",
     "shell.execute_reply": "2022-02-02T18:09:47.566324Z",
     "shell.execute_reply.started": "2022-02-02T18:09:47.482343Z"
    }
   },
   "outputs": [],
   "source": [
    "#find out total usage of the tag and store in TotalCount column\n",
    "tags_total = tags_trc.copy()\n",
    "\n",
    "tags_total['TotalCount'] = tags_total['DatasetCount'] + tags_total['CompetitionCount'] + tags_total['KernelCount']\n",
    "\n",
    "#find out top-20 most popular tags\n",
    "tags_total = tags_total.sort_values('TotalCount', ascending = False)\n",
    "tags_total = tags_total[:20]\n",
    "\n",
    "#find average number of votes for each tag\n",
    "votes_by_tag = kernels_trc_tag.groupby('Name').mean().reset_index()[['Name', 'TotalVotes']]\n",
    "\n",
    "#filter votes by tag for only top-20 most popular tags\n",
    "votes_by_tag_popular = votes_by_tag[votes_by_tag['Name'].isin(tags_total['Name'].values.tolist())]"
   ]
  },
  {
   "cell_type": "code",
   "execution_count": null,
   "metadata": {
    "_uuid": "b8817db415fc4c9e7283fcc9b4261f7d7306f9c7",
    "execution": {
     "iopub.execute_input": "2022-02-02T18:09:50.67824Z",
     "iopub.status.busy": "2022-02-02T18:09:50.677748Z",
     "iopub.status.idle": "2022-02-02T18:09:51.007713Z",
     "shell.execute_reply": "2022-02-02T18:09:51.007055Z",
     "shell.execute_reply.started": "2022-02-02T18:09:50.678187Z"
    }
   },
   "outputs": [],
   "source": [
    "#plot bar chart with matplotlib\n",
    "\n",
    "plt.figure(figsize=(20,7))\n",
    "plt.barh(votes_by_tag_popular['Name'], votes_by_tag_popular['TotalVotes'])\n",
    "plt.yticks(votes_by_tag_popular['Name'])\n",
    "\n",
    "plt.ylabel('Tag Name')\n",
    "plt.xlabel('Average Number of Votes')\n",
    "\n",
    "plt.title('Average number of votes per tag')\n",
    "\n",
    "plt.show()"
   ]
  },
  {
   "cell_type": "markdown",
   "metadata": {
    "_uuid": "f0944c5658e3dec04f42a2971b9498d0690a061a"
   },
   "source": [
    "We can really see that number of votes varies greatly even for the most popular tags.\n",
    "<br> It is also interesting to find out tags, which have the greatest average number of votes:"
   ]
  },
  {
   "cell_type": "code",
   "execution_count": null,
   "metadata": {
    "_uuid": "770bacaf734dbe241a3d45450ccb7a3475026449",
    "execution": {
     "iopub.execute_input": "2022-02-02T18:10:31.043723Z",
     "iopub.status.busy": "2022-02-02T18:10:31.043445Z",
     "iopub.status.idle": "2022-02-02T18:10:31.048429Z",
     "shell.execute_reply": "2022-02-02T18:10:31.047858Z",
     "shell.execute_reply.started": "2022-02-02T18:10:31.043693Z"
    }
   },
   "outputs": [],
   "source": [
    "#sort votes_by_tag by average number of votes and take top-20\n",
    "\n",
    "votes_by_tag_aver = votes_by_tag.sort_values('TotalVotes', ascending = False)[:20]"
   ]
  },
  {
   "cell_type": "code",
   "execution_count": null,
   "metadata": {
    "_uuid": "bba6cef7758d715ac4c5ce32439df59c7e3497e2",
    "execution": {
     "iopub.execute_input": "2022-02-02T18:10:34.383891Z",
     "iopub.status.busy": "2022-02-02T18:10:34.3833Z",
     "iopub.status.idle": "2022-02-02T18:10:34.688342Z",
     "shell.execute_reply": "2022-02-02T18:10:34.687308Z",
     "shell.execute_reply.started": "2022-02-02T18:10:34.383855Z"
    }
   },
   "outputs": [],
   "source": [
    "#plot bar chart with matplotlib\n",
    "\n",
    "plt.figure(figsize=(20,7))\n",
    "plt.barh(votes_by_tag_aver['Name'], votes_by_tag_aver['TotalVotes'])\n",
    "plt.yticks(votes_by_tag_aver['Name'])\n",
    "\n",
    "plt.ylabel('Tag Name')\n",
    "plt.xlabel('Average Number of Votes')\n",
    "\n",
    "plt.title('Average number of votes per tag')\n",
    "\n",
    "plt.show()"
   ]
  },
  {
   "cell_type": "markdown",
   "metadata": {
    "_uuid": "0074ed0cd9c0001b5ef99f04cd612f40009c8009"
   },
   "source": [
    "We can see that tags with the greatest average number of votes don't really match with the most popular tags, so I guess my assumption that using popular tags in kernels will help to gain more votes is wrong."
   ]
  },
  {
   "cell_type": "markdown",
   "metadata": {},
   "source": [
    "### 8. Does \"advertising\" of your kernel on Kaggle forums help to gain votes?"
   ]
  },
  {
   "cell_type": "markdown",
   "metadata": {},
   "source": [
    "Mentioning a kernel in forum messages can potentially help to promote the kernel among kagglers and eventually get more votes. Let's analyze the correlation between the number of mentions of a kernel with its number of votes."
   ]
  },
  {
   "cell_type": "markdown",
   "metadata": {},
   "source": [
    "The process of obtaining the number of mentions in forum messages is illustrated on figure below:\n",
    "1. Analyze the ForumMessages table:\n",
    "    * Find all messages which contain urls.\n",
    "    * Extract kernel name and name of the author from the url address.\n",
    "2. Merge Kernels, KernelVersions and Users tables:\n",
    "    * Find name of the author for the kernel.\n",
    "    * Find the title of the kernel.\n",
    "    * Translate the title as in url address.\n",
    "3. Merge kernel titles and titles from url addresses where the names of the authors match. Count the number of rows for each kernel. "
   ]
  },
  {
   "cell_type": "markdown",
   "metadata": {},
   "source": [
    "![engineering steps](https://github.com/Lexie88rus/kaggle_kernel_votes_analysis/blob/master/kernel_promotions.png?raw=true)"
   ]
  },
  {
   "cell_type": "markdown",
   "metadata": {},
   "source": [
    "`1.` Find all forum messages with urls to Kaggle and extract possible kernel titles from urls:"
   ]
  },
  {
   "cell_type": "code",
   "execution_count": null,
   "metadata": {
    "execution": {
     "iopub.execute_input": "2022-02-02T18:11:58.196606Z",
     "iopub.status.busy": "2022-02-02T18:11:58.196317Z",
     "iopub.status.idle": "2022-02-02T18:12:00.806052Z",
     "shell.execute_reply": "2022-02-02T18:12:00.805186Z",
     "shell.execute_reply.started": "2022-02-02T18:11:58.196573Z"
    }
   },
   "outputs": [],
   "source": [
    "# create msg_ref dataframe by removing rows with empty messages from the original dataset\n",
    "msg_ref = messages[['Id', 'Message']].dropna(subset = ['Message'])\n",
    "\n",
    "# filter rows: find rows with messages which contain references to kaggle\n",
    "msg_ref = msg_ref[msg_ref.Message.str.match('.*https://www.kaggle.com/(?:[a-zA-Z]|[0-9]|[$-_@.&+]|[!*\\(\\),]|(?:%[0-9a-fA-F][0-9a-fA-F]))+.*')]"
   ]
  },
  {
   "cell_type": "code",
   "execution_count": null,
   "metadata": {
    "execution": {
     "iopub.execute_input": "2022-02-02T18:12:03.470529Z",
     "iopub.status.busy": "2022-02-02T18:12:03.469744Z",
     "iopub.status.idle": "2022-02-02T18:12:10.55805Z",
     "shell.execute_reply": "2022-02-02T18:12:10.557313Z",
     "shell.execute_reply.started": "2022-02-02T18:12:03.470472Z"
    }
   },
   "outputs": [],
   "source": [
    "def get_referenced_object(row):\n",
    "    '''\n",
    "    Function returns the last part of the url.\n",
    "    Example:\n",
    "        input: 'https://www.kaggle.com/aleksandradeis/how-to-get-upvotes-for-a-kernel-on-kaggle'\n",
    "        returns: 'how-to-get-upvotes-for-a-kernel-on-kaggle'\n",
    "    '''\n",
    "    # extract url from message\n",
    "    url = re.findall('https://www.kaggle.com/(?:[a-zA-Z]|[0-9]|[$-_@.&+]|[!*\\(\\),]|(?:%[0-9a-fA-F][0-9a-fA-F]))+'\\\n",
    "                         , row['Message'])[0]\n",
    "    \n",
    "    # remove tags\n",
    "    cleanr = re.compile('<.*?>')\n",
    "    clean_url= re.sub(cleanr, '', url)\n",
    "    \n",
    "    # get the last part of url, which corresponds to kernel title\n",
    "    ref = clean_url.split('/')[-1]\n",
    "    \n",
    "    return ref\n",
    "\n",
    "def get_author(row):\n",
    "    '''\n",
    "    Function returns the last part of the url.\n",
    "    Example:\n",
    "        input: 'https://www.kaggle.com/aleksandradeis/how-to-get-upvotes-for-a-kernel-on-kaggle'\n",
    "        returns: 'aleksandradeis'\n",
    "    '''\n",
    "    # extract url from message\n",
    "    url = re.findall('https://www.kaggle.com/(?:[a-zA-Z]|[0-9]|[$-_@.&+]|[!*\\(\\),]|(?:%[0-9a-fA-F][0-9a-fA-F]))+'\\\n",
    "                         , row['Message'])[0]\n",
    "    \n",
    "    # remove tags\n",
    "    cleanr = re.compile('<.*?>')\n",
    "    clean_url= re.sub(cleanr, '', url)\n",
    "    \n",
    "    # get the last part of url, which corresponds to kernel title\n",
    "    author = clean_url.split('/')[-2]\n",
    "    \n",
    "    return author\n",
    "\n",
    "# create column 'Ref' with the last part of the url\n",
    "# which is the title of the kernel (in case of url to a kernel)\n",
    "msg_ref['Ref'] = msg_ref.apply(lambda row: get_referenced_object(row),axis=1)\n",
    "msg_ref['Ref_author'] = msg_ref.apply(lambda row: get_author(row),axis=1)"
   ]
  },
  {
   "cell_type": "code",
   "execution_count": null,
   "metadata": {
    "execution": {
     "iopub.execute_input": "2022-02-02T18:12:10.559706Z",
     "iopub.status.busy": "2022-02-02T18:12:10.559488Z",
     "iopub.status.idle": "2022-02-02T18:12:10.569983Z",
     "shell.execute_reply": "2022-02-02T18:12:10.569121Z",
     "shell.execute_reply.started": "2022-02-02T18:12:10.559679Z"
    }
   },
   "outputs": [],
   "source": [
    "msg_ref.head()"
   ]
  },
  {
   "cell_type": "markdown",
   "metadata": {},
   "source": [
    "`2.` Merge kernel votes with kernel titles and preprocess kernel title as in url:"
   ]
  },
  {
   "cell_type": "code",
   "execution_count": null,
   "metadata": {
    "execution": {
     "iopub.execute_input": "2022-02-02T18:12:15.518348Z",
     "iopub.status.busy": "2022-02-02T18:12:15.518066Z",
     "iopub.status.idle": "2022-02-02T18:12:21.479188Z",
     "shell.execute_reply": "2022-02-02T18:12:21.478298Z",
     "shell.execute_reply.started": "2022-02-02T18:12:15.518316Z"
    }
   },
   "outputs": [],
   "source": [
    "# merge kernel votes and kernel titles (for current kernel version)\n",
    "kernel_title = kernels[['Id', 'AuthorUserId', 'CurrentKernelVersionId', 'TotalVotes']]\\\n",
    ".merge(kernel_versions[['Id', 'Title']].rename(columns={\"Id\": \"CurrentKernelVersionId\"}))"
   ]
  },
  {
   "cell_type": "code",
   "execution_count": null,
   "metadata": {
    "execution": {
     "iopub.execute_input": "2022-02-02T18:12:21.481246Z",
     "iopub.status.busy": "2022-02-02T18:12:21.480931Z",
     "iopub.status.idle": "2022-02-02T18:12:24.866878Z",
     "shell.execute_reply": "2022-02-02T18:12:24.865998Z",
     "shell.execute_reply.started": "2022-02-02T18:12:21.481205Z"
    }
   },
   "outputs": [],
   "source": [
    "# merge kernel votes and kernel authors\n",
    "kernel_title = kernel_title.merge(kernel_users[['Id', 'UserName']].rename(columns={\"Id\":\"AuthorUserId\"}))"
   ]
  },
  {
   "cell_type": "code",
   "execution_count": null,
   "metadata": {
    "execution": {
     "iopub.execute_input": "2022-02-02T18:12:24.86827Z",
     "iopub.status.busy": "2022-02-02T18:12:24.868051Z",
     "iopub.status.idle": "2022-02-02T18:12:34.155773Z",
     "shell.execute_reply": "2022-02-02T18:12:34.154899Z",
     "shell.execute_reply.started": "2022-02-02T18:12:24.868242Z"
    }
   },
   "outputs": [],
   "source": [
    "def process_kernel_title(row):\n",
    "    '''\n",
    "    Function removes symbols from title, translates to lower case,\n",
    "    and replaces spaces with '-'\n",
    "    Example:\n",
    "        input: 'How to get upvotes for a kernel on Kaggle?'\n",
    "        returns: 'how-to-get-upvotes-for-a-kernel-on-kaggle'\n",
    "    '''\n",
    "    try:\n",
    "        title = row['Title']\n",
    "\n",
    "        # remove specific symbols and translate to lower case\n",
    "        title_cleaned = re.sub('[!@#$%?*,.;:()]', '', title).lower()\n",
    "\n",
    "        # replace spaces with '-'\n",
    "        title_cleaned = title_cleaned.replace(' ', '-')\n",
    "    except:\n",
    "        return ' '\n",
    "    return title_cleaned\n",
    "\n",
    "# create column title_cleaned with preprocessed title as in url\n",
    "kernel_title['title_cleaned'] = kernel_title.apply(lambda row: process_kernel_title(row),axis=1)"
   ]
  },
  {
   "cell_type": "code",
   "execution_count": null,
   "metadata": {
    "execution": {
     "iopub.execute_input": "2022-02-02T18:12:34.157605Z",
     "iopub.status.busy": "2022-02-02T18:12:34.157357Z",
     "iopub.status.idle": "2022-02-02T18:12:34.170079Z",
     "shell.execute_reply": "2022-02-02T18:12:34.169298Z",
     "shell.execute_reply.started": "2022-02-02T18:12:34.157574Z"
    }
   },
   "outputs": [],
   "source": [
    "kernel_title.head()"
   ]
  },
  {
   "cell_type": "markdown",
   "metadata": {},
   "source": [
    "`3.` Merge kernels and mentions in urls:"
   ]
  },
  {
   "cell_type": "code",
   "execution_count": null,
   "metadata": {
    "execution": {
     "iopub.execute_input": "2022-02-02T18:13:03.723864Z",
     "iopub.status.busy": "2022-02-02T18:13:03.72358Z",
     "iopub.status.idle": "2022-02-02T18:13:05.389747Z",
     "shell.execute_reply": "2022-02-02T18:13:05.3888Z",
     "shell.execute_reply.started": "2022-02-02T18:13:03.72382Z"
    }
   },
   "outputs": [],
   "source": [
    "# merge kernels and messages (outer)\n",
    "promotions = pd.merge(msg_ref, kernel_title, how='outer', left_on='Ref', right_on='title_cleaned',\n",
    "         suffixes=('_messages', '_kernels'), copy=True)\n",
    "\n",
    "# remove rows with NaN\n",
    "promotions = promotions.dropna()\n",
    "\n",
    "# remove rows with title_cleaned in ['', 'competitions', 'rules']\n",
    "promotions = promotions[~promotions['title_cleaned'].isin(['', 'competitions', 'rules'])]\n",
    "\n",
    "# remove rows where authors don't match\n",
    "\n",
    "promotions = promotions[promotions['Ref_author'] == promotions['UserName']]\n",
    "promotions.head()"
   ]
  },
  {
   "cell_type": "markdown",
   "metadata": {},
   "source": [
    "`4.` Group by kernel id to find number of metions in forum messages:"
   ]
  },
  {
   "cell_type": "code",
   "execution_count": null,
   "metadata": {
    "execution": {
     "iopub.execute_input": "2022-02-02T18:13:08.466472Z",
     "iopub.status.busy": "2022-02-02T18:13:08.465407Z",
     "iopub.status.idle": "2022-02-02T18:13:08.47983Z",
     "shell.execute_reply": "2022-02-02T18:13:08.478812Z",
     "shell.execute_reply.started": "2022-02-02T18:13:08.466414Z"
    }
   },
   "outputs": [],
   "source": [
    "n_promotions = promotions[['Id_kernels', 'CurrentKernelVersionId', 'TotalVotes']]\\\n",
    ".groupby('Id_kernels').count().reset_index()[[\"Id_kernels\", \"CurrentKernelVersionId\"]]\\\n",
    ".rename(columns = {'CurrentKernelVersionId' : 'Promotions'})"
   ]
  },
  {
   "cell_type": "markdown",
   "metadata": {},
   "source": [
    "`5.` Merge number of promotions with total votes:"
   ]
  },
  {
   "cell_type": "code",
   "execution_count": null,
   "metadata": {
    "execution": {
     "iopub.execute_input": "2022-02-02T18:13:11.817059Z",
     "iopub.status.busy": "2022-02-02T18:13:11.816436Z",
     "iopub.status.idle": "2022-02-02T18:13:12.085662Z",
     "shell.execute_reply": "2022-02-02T18:13:12.084734Z",
     "shell.execute_reply.started": "2022-02-02T18:13:11.817023Z"
    }
   },
   "outputs": [],
   "source": [
    "n_kernel_promotions = kernels[['Id', 'TotalVotes', 'Medal']].merge(n_promotions.rename(columns = {'Id_kernels' : 'Id'})\\\n",
    "                                                          , how = 'outer')\n",
    "n_kernel_promotions = n_kernel_promotions.fillna(0)"
   ]
  },
  {
   "cell_type": "markdown",
   "metadata": {},
   "source": [
    "`6.` Analyze correlation between the number of votes and number of mentions in forum messages:"
   ]
  },
  {
   "cell_type": "markdown",
   "metadata": {},
   "source": [
    "First of all let's plot the number of votes against the number of promotions in forum messages:"
   ]
  },
  {
   "cell_type": "code",
   "execution_count": null,
   "metadata": {
    "execution": {
     "iopub.execute_input": "2022-02-02T18:13:15.190238Z",
     "iopub.status.busy": "2022-02-02T18:13:15.189962Z",
     "iopub.status.idle": "2022-02-02T18:13:15.216236Z",
     "shell.execute_reply": "2022-02-02T18:13:15.215463Z",
     "shell.execute_reply.started": "2022-02-02T18:13:15.190211Z"
    }
   },
   "outputs": [],
   "source": [
    "# fit a linear regression model on mentions and votes data\n",
    "model = LinearRegression()\n",
    "model.fit(n_kernel_promotions['Promotions'].values.reshape(-1, 1), n_kernel_promotions['TotalVotes'].values.reshape(-1, 1))\n",
    "\n",
    "inputs = np.linspace(1, 20, num=50)\n",
    "predictions = model.predict(inputs.reshape(-1,1)).reshape(50)"
   ]
  },
  {
   "cell_type": "code",
   "execution_count": null,
   "metadata": {
    "execution": {
     "iopub.execute_input": "2022-02-02T18:13:37.42588Z",
     "iopub.status.busy": "2022-02-02T18:13:37.425552Z",
     "iopub.status.idle": "2022-02-02T18:13:38.707247Z",
     "shell.execute_reply": "2022-02-02T18:13:38.706268Z",
     "shell.execute_reply.started": "2022-02-02T18:13:37.425831Z"
    }
   },
   "outputs": [],
   "source": [
    "#plot with matplotlib\n",
    "\n",
    "plt.scatter(n_kernel_promotions['Promotions'], n_kernel_promotions['TotalVotes'])\n",
    "plt.plot(inputs, predictions, color='green')\n",
    "\n",
    "plt.title(\"Number of votes per number of mentions\")\n",
    "plt.xlabel(\"Number of mentions in Kaggle forum messages\")\n",
    "plt.ylabel(\"Votes\")\n",
    "\n",
    "plt.show()"
   ]
  },
  {
   "cell_type": "markdown",
   "metadata": {},
   "source": [
    "Let's check the correlation coefficient:"
   ]
  },
  {
   "cell_type": "code",
   "execution_count": null,
   "metadata": {
    "execution": {
     "iopub.execute_input": "2022-02-02T18:13:45.209641Z",
     "iopub.status.busy": "2022-02-02T18:13:45.209158Z",
     "iopub.status.idle": "2022-02-02T18:13:45.445748Z",
     "shell.execute_reply": "2022-02-02T18:13:45.444871Z",
     "shell.execute_reply.started": "2022-02-02T18:13:45.209611Z"
    }
   },
   "outputs": [],
   "source": [
    "#columns to find out correlation\n",
    "cols = ['TotalVotes', 'Promotions']\n",
    "\n",
    "#Find out correlation between columns and plot\n",
    "corrs = np.corrcoef(n_kernel_promotions[cols].values.T)\n",
    "sns.set(font_scale=1)\n",
    "sns.set(rc={'figure.figsize':(7,7)})\n",
    "hm=sns.heatmap(corrs, cbar = True, annot=True, square = True, fmt = '.2f',\n",
    "              yticklabels = cols, xticklabels = cols).set_title('Correlations heatmap')\n",
    "\n",
    "fig = hm.get_figure()"
   ]
  },
  {
   "cell_type": "markdown",
   "metadata": {},
   "source": [
    "Find out the correlation between the medal rank and the number of mentions of the kernel:"
   ]
  },
  {
   "cell_type": "code",
   "execution_count": null,
   "metadata": {
    "execution": {
     "iopub.execute_input": "2022-02-02T18:13:54.091643Z",
     "iopub.status.busy": "2022-02-02T18:13:54.091373Z",
     "iopub.status.idle": "2022-02-02T18:13:54.299476Z",
     "shell.execute_reply": "2022-02-02T18:13:54.298866Z",
     "shell.execute_reply.started": "2022-02-02T18:13:54.091615Z"
    }
   },
   "outputs": [],
   "source": [
    "#columns to find out correlation\n",
    "cols = ['Medal', 'Promotions']\n",
    "\n",
    "#Find out correlation between columns and plot\n",
    "corrs = np.corrcoef(n_kernel_promotions[cols].values.T)\n",
    "sns.set(font_scale=1)\n",
    "sns.set(rc={'figure.figsize':(7,7)})\n",
    "hm=sns.heatmap(corrs, cbar = True, annot=True, square = True, fmt = '.2f',\n",
    "              yticklabels = cols, xticklabels = cols).set_title('Correlations heatmap (medals)')\n",
    "\n",
    "fig = hm.get_figure()"
   ]
  },
  {
   "cell_type": "markdown",
   "metadata": {},
   "source": [
    "Finally, some numbers considering the number of mentions of the kernels on Kaggle forum:"
   ]
  },
  {
   "cell_type": "code",
   "execution_count": null,
   "metadata": {
    "execution": {
     "iopub.execute_input": "2022-02-02T18:14:01.021143Z",
     "iopub.status.busy": "2022-02-02T18:14:01.020105Z",
     "iopub.status.idle": "2022-02-02T18:14:01.045757Z",
     "shell.execute_reply": "2022-02-02T18:14:01.044811Z",
     "shell.execute_reply.started": "2022-02-02T18:14:01.021101Z"
    }
   },
   "outputs": [],
   "source": [
    "votes_with_mentions = n_kernel_promotions[n_kernel_promotions['Promotions'] > 0]['TotalVotes'].mean()\n",
    "print('Average number of votes for advertised kernels: {}'.format(votes_with_mentions))\n",
    "\n",
    "kernels_with_promotions = n_kernel_promotions[n_kernel_promotions['Promotions'] > 0]['Promotions'].count()\n",
    "print('Total number of kernels mentioned in forum messages: {}'.format(kernels_with_promotions))\n",
    "\n",
    "votes_no_mentions = n_kernel_promotions[n_kernel_promotions['Promotions'] == 0]['TotalVotes'].mean()\n",
    "print('Average number of votes for non advertised kernels: {}'.format(votes_no_mentions))"
   ]
  },
  {
   "cell_type": "markdown",
   "metadata": {},
   "source": [
    "Comparison of medal rank for kernels with mentions on Kaggle forums and kenels without mentions:"
   ]
  },
  {
   "cell_type": "code",
   "execution_count": null,
   "metadata": {
    "execution": {
     "iopub.execute_input": "2022-02-02T18:14:06.832142Z",
     "iopub.status.busy": "2022-02-02T18:14:06.831853Z",
     "iopub.status.idle": "2022-02-02T18:14:06.855356Z",
     "shell.execute_reply": "2022-02-02T18:14:06.854485Z",
     "shell.execute_reply.started": "2022-02-02T18:14:06.832112Z"
    }
   },
   "outputs": [],
   "source": [
    "medals_with_mentions = n_kernel_promotions[n_kernel_promotions['Promotions'] > 0]['Medal'].mean()\n",
    "print('Average medal rank for advertised kernels: {}'.format(medals_with_mentions))\n",
    "\n",
    "medals_no_mentions = n_kernel_promotions[n_kernel_promotions['Promotions'] == 0]['Medal'].mean()\n",
    "print('Average medal rank for non advertised kernels: {}'.format(medals_no_mentions))"
   ]
  },
  {
   "cell_type": "markdown",
   "metadata": {},
   "source": [
    "<b> Conclusions: </b>\n",
    "\n",
    "* There is no strong correlation between the number of mentions in Kaggle messages and the number of votes.\n",
    "* The average number of votes for advertised kernels is higher than the number of votes for non-advertised kernels.\n",
    "* The average medal rank for advertised kernels is higher than the average medal rank for non-advertised kernels.\n",
    "\n",
    "\n",
    "<br>My experience tells me that promoting your kernel on Kaggle forum helps to gain votes, but the analysis doesn't show that. Probably, this happens because the number of kernels mentioned in forum messages (and identified by me) is tiny, so we don't have enough data for the analysis. </br>"
   ]
  },
  {
   "cell_type": "markdown",
   "metadata": {
    "_uuid": "8b33445bcffc2f2a48983f5f675a7f5359c92ffd"
   },
   "source": [
    "## Machine learning to predict number of votes for kernel"
   ]
  },
  {
   "cell_type": "markdown",
   "metadata": {
    "_uuid": "497facfe1f454fe578127d61eb7251e9d440de07"
   },
   "source": [
    "The last thing left to do is to try to create regression model, which predicts the number of votes for a kernel."
   ]
  },
  {
   "cell_type": "code",
   "execution_count": null,
   "metadata": {
    "_uuid": "61e623ec2b9b750d5289002fd285522ac5beb223",
    "execution": {
     "iopub.execute_input": "2022-02-02T19:09:36.778649Z",
     "iopub.status.busy": "2022-02-02T19:09:36.77838Z",
     "iopub.status.idle": "2022-02-02T19:15:05.900246Z",
     "shell.execute_reply": "2022-02-02T19:15:05.899411Z",
     "shell.execute_reply.started": "2022-02-02T19:09:36.778621Z"
    }
   },
   "outputs": [],
   "source": [
    "#prepare data\n",
    "\n",
    "def has_tag(row, tag):\n",
    "    ''' Function returns 1 of tag id found in row['Tags'] column '''\n",
    "    \n",
    "    for row_tag in row['Tags'].replace(' ','').replace('{','').replace('}','').split(','):\n",
    "        if row_tag == tag:\n",
    "            return 1\n",
    "    return 0\n",
    "\n",
    "def is_forked(row):\n",
    "    ''' Functions returns 0 if row['ForkParentKernelVersionId'] is nan, 1 - otherwise '''\n",
    "    if np.isnan(row['ForkParentKernelVersionId']):\n",
    "        return 0\n",
    "    else:\n",
    "        return 1\n",
    "\n",
    "def has_linked_topic(row):\n",
    "    ''' Functions returns 0 if row['ForumTopicId'] is nan, 1 - otherwise '''\n",
    "    if np.isnan(row['ForumTopicId']):\n",
    "        return 0\n",
    "    else:\n",
    "        return 1\n",
    "    \n",
    "def get_days_from_registration(row):\n",
    "    '''Function returns number of days since users registration date'''\n",
    "    \n",
    "    today = dt.datetime.now().date()\n",
    "    days = (today - dt.datetime.strptime(row['RegisterDate'], \"%m/%d/%Y\").date()).days\n",
    "    \n",
    "    return days\n",
    "\n",
    "def get_days_from_kernel_creation(row):\n",
    "    '''Function returns number of days since kernel creation date'''\n",
    "    \n",
    "    today = dt.datetime.now().date()\n",
    "    \n",
    "    days = (today - dt.datetime.strptime(row['CreationDate'], \"%m/%d/%Y %H:%M:%S\").date()).days\n",
    "    \n",
    "    return days\n",
    "\n",
    "def prepare_data(kernels, kernel_lang, kernel_tags, kernel_versions, kernel_users, kernel_datasets, datasets, dataset_versions, tags, competitions, kernel_competitions):\n",
    "    '''\n",
    "    Function to prepare meta Kaggle data to be used in regression models\n",
    "    \n",
    "    INPUTS:\n",
    "    1. kernels - Kernels.csv dataset, \n",
    "    2. kernel_lang - KernelLanguages.csv dataset,\n",
    "    3. kernel_tags - KernelTags.csv dataset,\n",
    "    4. kernel_versions - KernelVersions.csv dataset,\n",
    "    5. kernel_users - KernelUsers.csv dataset,\n",
    "    6. kernel_datasets - KernelVersionDatasetSources.csv dataset,\n",
    "    7. datasets - Datasets.csv dataset,\n",
    "    8. dataset_versions - DatasetVersions.csv dataset,\n",
    "    9. tags - Tags.csv dataset.\n",
    "    \n",
    "    RETURNS:\n",
    "    df - dataset, wchich contains preprocessed data\n",
    "    '''\n",
    "    #1. merge datasets\n",
    "    \n",
    "    #remove irrelevant columns from dataset and rename other columns to perform merge\n",
    "    df = kernels[['Id', 'CurrentKernelVersionId' , 'ForkParentKernelVersionId', 'ForumTopicId', 'TotalVotes', 'AuthorUserId', 'CreationDate']].rename(columns = \n",
    "                                                                                                                      {'Id': 'KernelId', \n",
    "                                                                                                           'TotalVotes': 'TotalKernelVotes', \n",
    "                                                                                                                      'CurrentKernelVersionId':'KernelVersionId'})\n",
    "    \n",
    "    # create new column for age of the kernel (number of days since the kernel creation)\n",
    "    # and drop old column CreationDate\n",
    "    df[['CreationDate']] = df[['CreationDate']].fillna(value=dt.datetime.now().strftime('%m/%d/%Y %H:%M:%S'))\n",
    "    df['KernelAge'] = df.apply(lambda row: get_days_from_kernel_creation(row),axis=1)\n",
    "    df = df.drop('CreationDate', axis = 1)\n",
    "    \n",
    "    #merge with users to add PerformanceTier of the author and number of days since author's registration on Kaggle\n",
    "    kernel_users['DaysSinceRegistration'] = kernel_users.apply(lambda row: get_days_from_registration(row),axis=1)\n",
    "    kernel_users_renamed = kernel_users[['Id', 'PerformanceTier', 'DaysSinceRegistration']].rename(columns={'Id': 'AuthorUserId',\n",
    "                                                                                  'PerformanceTier' : 'AuthorPerformanceTier'})\n",
    "    df = df.merge(kernel_users_renamed, on = 'AuthorUserId').drop('AuthorUserId', axis = 1)\n",
    "    \n",
    "    \n",
    "    \n",
    "    \n",
    "    \n",
    "    ########################\n",
    "#     #prepare the data for the analysis\n",
    "\n",
    "# kernels_trc = kernels[['Id' , 'TotalVotes', 'CurrentKernelVersionId']]\n",
    "# kernels_trc = kernels_trc.rename(columns = {'Id': 'ScriptId', 'CurrentKernelVersionId' : 'VersionId'})\n",
    "\n",
    "# kernel_versions_trc = kernel_versions[['Id', 'ScriptId', 'ScriptLanguageId']]\n",
    "# kernel_versions_trc = kernel_versions_trc.rename(columns = {'Id' : 'VersionId'})\n",
    "\n",
    "# kernel_lang_ren = kernel_lang.rename(columns = {'Id' : 'ScriptLanguageId'})\n",
    "\n",
    "# kernels_trc_lang = kernels_trc.merge(kernel_versions_trc, on = ['VersionId', 'ScriptId'])\n",
    "# kernels_trc_lang = kernels_trc_lang.merge(kernel_lang_ren, on = 'ScriptLanguageId')\n",
    "#     #######################\n",
    "    \n",
    "    \n",
    "    \n",
    "    \n",
    "    \n",
    "    \n",
    "    #merge with versions to add VersionNumber and KernelLanguageId\n",
    "    kernel_versions_renamed = kernel_versions[['Id', 'ScriptId', 'ScriptLanguageId', 'VersionNumber']].rename(columns = {'Id':'KernelVersionId', 'ScriptId':'KernelId'})\n",
    "    df = df.merge(kernel_versions_renamed, on = ['KernelVersionId', 'KernelId'])\n",
    "    \n",
    "    #merge with datasets to add TotalDatasetVotes and TotalDatasetDownloads\n",
    "    kernel_datasets_truncated = kernel_datasets[['KernelVersionId', 'SourceDatasetVersionId']]\n",
    "\n",
    "    dataset_versions_truncated = dataset_versions[['DatasetId', 'DatasourceVersionId']]\n",
    "    dataset_versions_truncated = dataset_versions_truncated.rename(columns={'DatasourceVersionId': 'SourceDatasetVersionId'})\n",
    "\n",
    "    datasets_truncated = datasets[['Id', 'TotalVotes', 'TotalDownloads']]\n",
    "    datasets_truncated = datasets_truncated.rename(columns={'Id': 'DatasetId', 'TotalVotes':'TotalDatasetVotes',\n",
    "                                                      'TotalDownloads':'TotalDatasetDownloads'})\n",
    "\n",
    "    df = df.merge(kernel_datasets_truncated, on = 'KernelVersionId')\n",
    "    df = df.merge(dataset_versions_truncated, on = 'SourceDatasetVersionId')\n",
    "    df = df.merge(datasets_truncated, on = 'DatasetId').drop(['SourceDatasetVersionId', 'DatasetId'], axis = 1)\n",
    "    \n",
    "    # merge with type of competition\n",
    "    # if kernel is not linked to a competition - NaN\n",
    "    competitions_type = competitions[['Id', 'HostSegmentTitle']].rename(columns={'Id': 'SourceCompetitionId'})\n",
    "    kernel_competition_type = kernel_competitions.merge(competitions_type, on='SourceCompetitionId')[['KernelVersionId', 'HostSegmentTitle']] # merge kernel versions with competitions\n",
    "    df = df.merge(kernel_competition_type, on = 'KernelVersionId', how='outer')\n",
    "    df = df.drop('KernelVersionId', axis = 1)\n",
    "    \n",
    "    #create dummy variables for competition types and drop HostSegmentTitle\n",
    "    df = pd.get_dummies(df, columns = ['HostSegmentTitle'], prefix = 'comp', dummy_na = True)\n",
    "       \n",
    "    #merge with tags\n",
    "    tags_trc = tags[['Id', 'Name']]\n",
    "    tags_trc = tags_trc.rename(columns = {'Id' : 'TagId', 'Name' : 'TagName'})\n",
    "    df = df.merge(kernel_tags, on = 'KernelId').drop(['Id'], axis = 1)\n",
    "    df = df.merge(tags_trc, on = 'TagId')\n",
    "    \n",
    "    #find most popular tags\n",
    "    top20_tags = tags[['Id', 'Name', 'DatasetCount', 'CompetitionCount', 'KernelCount']].rename(columns={'Id':'TagId'})\n",
    "    top20_tags['TotalCount'] = top20_tags['DatasetCount'] + top20_tags['CompetitionCount'] + top20_tags['KernelCount']\n",
    "    top20_tags = top20_tags.sort_values('TotalCount', ascending = False)\n",
    "    top20_tags = top20_tags[:20].drop(['DatasetCount', 'CompetitionCount' , 'KernelCount'], axis = 1)\n",
    "    \n",
    "    #filter-out rows only for most popular tags\n",
    "    df = df[df['TagId'].isin(top20_tags['TagId'].values.tolist())]\n",
    "    df = df.drop('TagId', axis = 1)\n",
    "    \n",
    "    #introduce column 'Tags' with set of most popular tags used for kernel\n",
    "    df_1 = df.groupby('KernelId')['TagName'].apply(lambda x: \"{%s}\" % ', '.join(x)).reset_index().rename(columns = {'TagName':'Tags'})\n",
    "    df = df.drop('TagName', axis = 1)\n",
    "    df = df_1.merge(df, on='KernelId')\n",
    "    \n",
    "    #create dummy columns for top-20 tags\n",
    "    for top20_tag in top20_tags['Name'].values.tolist():\n",
    "        df['tag_' + str(top20_tag)] = df.apply(lambda row: has_tag(row, top20_tag),axis=1)\n",
    "        \n",
    "    df = df.drop('Tags', axis = 1)\n",
    "    \n",
    "    #2. process column values\n",
    "    \n",
    "    #introduce column IsForked for kernels forked from other and drop original column\n",
    "    df['IsForked'] = df.apply(lambda row: is_forked(row),axis=1)\n",
    "    df = df.drop('ForkParentKernelVersionId', axis = 1)\n",
    "    \n",
    "    #introduce colum HasForumTopic for kernels linked to forum topic id and drop original column\n",
    "    df['HasForumTopic'] = df.apply(lambda row: has_linked_topic(row),axis=1)\n",
    "    df = df.drop(['ForumTopicId', 'KernelId'], axis = 1)\n",
    "    \n",
    "     \n",
    "    return df\n",
    "\n",
    "df = prepare_data(kernels, kernel_lang, kernel_tags, kernel_versions, kernel_users, kernel_datasets, datasets, dataset_versions, tags, competitions, kernel_competitions)\n",
    "\n",
    "df.head(5)"
   ]
  },
  {
   "cell_type": "code",
   "execution_count": null,
   "metadata": {
    "_uuid": "d9a9094717f808a963efdcc68852c8a0eef9b9a6",
    "execution": {
     "iopub.execute_input": "2022-02-02T19:17:48.803874Z",
     "iopub.status.busy": "2022-02-02T19:17:48.803114Z",
     "iopub.status.idle": "2022-02-02T19:17:48.853864Z",
     "shell.execute_reply": "2022-02-02T19:17:48.85316Z",
     "shell.execute_reply.started": "2022-02-02T19:17:48.803822Z"
    }
   },
   "outputs": [],
   "source": [
    "#split into train and test\n",
    "TEST_SIZE = 0.3\n",
    "RAND_STATE = 42\n",
    "\n",
    "X = df.drop(columns = 'TotalKernelVotes')\n",
    "y = df[['TotalKernelVotes']]\n",
    "\n",
    "X_train, X_test, y_train, y_test = train_test_split(X, y, test_size = TEST_SIZE, random_state=RAND_STATE)"
   ]
  },
  {
   "cell_type": "code",
   "execution_count": null,
   "metadata": {
    "_uuid": "d1668555d035ba932073a4673f66f60580c98bc8",
    "execution": {
     "iopub.execute_input": "2022-02-02T19:17:52.108951Z",
     "iopub.status.busy": "2022-02-02T19:17:52.108471Z",
     "iopub.status.idle": "2022-02-02T19:18:00.250756Z",
     "shell.execute_reply": "2022-02-02T19:18:00.249977Z",
     "shell.execute_reply.started": "2022-02-02T19:17:52.108909Z"
    }
   },
   "outputs": [],
   "source": [
    "#train XGBoost model\n",
    "xgb = xgboost.XGBRegressor(n_estimators=100, learning_rate=0.08, gamma=0, subsample=0.75,\n",
    "                           colsample_bytree=1, max_depth=7)\n",
    "xgb.fit(X_train,y_train)\n",
    "\n",
    "#calculate and print scores for the model for top 15 features\n",
    "y_train_preds = xgb.predict(X_train)\n",
    "y_test_preds = xgb.predict(X_test)\n",
    "\n",
    "print('MSE train: %.3f, test: %.3f' % (\n",
    "        mean_squared_error(y_train, y_train_preds),\n",
    "        mean_squared_error(y_test, y_test_preds)))\n",
    "print('R^2 train: %.3f, test: %.3f' % (\n",
    "        r2_score(y_train, y_train_preds),\n",
    "        r2_score(y_test, y_test_preds)))"
   ]
  },
  {
   "cell_type": "markdown",
   "metadata": {},
   "source": [
    "Let's see the feature importances:"
   ]
  },
  {
   "cell_type": "code",
   "execution_count": null,
   "metadata": {
    "execution": {
     "iopub.execute_input": "2022-02-02T19:18:00.252838Z",
     "iopub.status.busy": "2022-02-02T19:18:00.25232Z",
     "iopub.status.idle": "2022-02-02T19:18:00.675006Z",
     "shell.execute_reply": "2022-02-02T19:18:00.674374Z",
     "shell.execute_reply.started": "2022-02-02T19:18:00.252801Z"
    }
   },
   "outputs": [],
   "source": [
    "#plot bar chart with matplotlib\n",
    "plt.figure(figsize=(7,10))\n",
    "\n",
    "y_pos = np.arange(len(X.columns))\n",
    "\n",
    "plt.barh(y_pos, xgb.feature_importances_, align='center', alpha=0.5)\n",
    "plt.yticks(y_pos, X.columns)\n",
    "\n",
    "plt.ylabel('Features')\n",
    "plt.xlabel('Feature Importance')\n",
    "\n",
    "plt.title('Feature importances')\n",
    "\n",
    "plt.show()"
   ]
  },
  {
   "cell_type": "markdown",
   "metadata": {},
   "source": [
    "We can explain some of the results:\n",
    "* __Kernel version number__: this feature may be related to the kernel quality, the kernel with lot's of versions may be updated and improved,\n",
    "* __Forum topic__: the importance of this feature indicates that a forum topic helps to promote the kernel,\n",
    "* __Related competition__: we can see that the fact that there is a competition related to a kernel plays a vital role in the number of votes. Probably related competition helps to promote the kernel among the users.\n",
    "* __Author performance tier__: this feature is essential because more experienced authors create better kernels and have more followers."
   ]
  },
  {
   "cell_type": "markdown",
   "metadata": {
    "_uuid": "4907ff81332a194b5ff8b72f4f5a3dad97d830c2"
   },
   "source": [
    "So now we can try to predict, how many votes will score __[one of my recent kernels](https://www.kaggle.com/aleksandradeis/bank-marketing-analysis)__:"
   ]
  },
  {
   "cell_type": "code",
   "execution_count": null,
   "metadata": {
    "_uuid": "9a0f1a152dce34c0aaef96428e91ee64e72b9b76",
    "execution": {
     "iopub.execute_input": "2022-02-02T19:18:43.72469Z",
     "iopub.status.busy": "2022-02-02T19:18:43.723908Z",
     "iopub.status.idle": "2022-02-02T19:18:43.733396Z",
     "shell.execute_reply": "2022-02-02T19:18:43.732358Z",
     "shell.execute_reply.started": "2022-02-02T19:18:43.72465Z"
    }
   },
   "outputs": [],
   "source": [
    "data = np.array([30, 2, 365, 8, 1, 30, 2070, 0, 0, 0, 0, 0, 0, 1, 1, 0, 1, 0, 0, 0, 0, 0, 0, 0, 0, 0, 0, 0, 0, 0, 0, 0, 0, 0, 0, 0, 0])\n",
    "columns = X_train.columns.values\n",
    "\n",
    "bm_kernel = pd.DataFrame(data = [data], columns = columns)"
   ]
  },
  {
   "cell_type": "code",
   "execution_count": null,
   "metadata": {
    "_uuid": "c985ea4e6dfd01bcb56869b083af670a29f2e15f",
    "execution": {
     "iopub.execute_input": "2022-02-02T19:18:47.258192Z",
     "iopub.status.busy": "2022-02-02T19:18:47.257271Z",
     "iopub.status.idle": "2022-02-02T19:18:47.274978Z",
     "shell.execute_reply": "2022-02-02T19:18:47.274301Z",
     "shell.execute_reply.started": "2022-02-02T19:18:47.258115Z"
    }
   },
   "outputs": [],
   "source": [
    "predict_votes = xgb.predict(bm_kernel)\n",
    "predict_votes"
   ]
  },
  {
   "cell_type": "markdown",
   "metadata": {
    "_uuid": "45f468869a6feee827e069ddf7a3df067afb57ad"
   },
   "source": [
    "The model used to predict around 6 votes for this dataframe. Let's see what actually happens."
   ]
  },
  {
   "cell_type": "markdown",
   "metadata": {
    "_uuid": "65918894856aa7b279fea48fe80af88e43252bc4"
   },
   "source": [
    "## Conclusion"
   ]
  },
  {
   "cell_type": "markdown",
   "metadata": {
    "_uuid": "4fff15f009ead95ccc5d30b7531ece3b27c2c095"
   },
   "source": [
    "In conclusion, I would like to summarize all the findings and recommendations from this analysis:\n",
    "\n",
    "1. __It is hard to create a really helpful kernel, which will be appreciated and upvoted by Kagglers__: only 38% of kernels have upvotes and only 9% of kernels have awards (have more than 5 upvotes).\n",
    "2. __Views and comments bring upvotes__: consider adding a captivating title to the kernel and sharing the link to the kernel with others, the more people will view the kernel - the more people will find it useful.\n",
    "3. __Active authors have more votes__: try to be an active author and gain visibility, experience in writing kernels and feedback from the others will eventually help to get votes.\n",
    "4. __It doesn't really matter what topic the kernel is related to, but it matters how the kernel material is presented__: notebooks tend to be more appreciated by Kagglers."
   ]
  }
 ],
 "metadata": {
  "kernelspec": {
   "display_name": "Python 3 (ipykernel)",
   "language": "python",
   "name": "python3"
  },
  "language_info": {
   "codemirror_mode": {
    "name": "ipython",
    "version": 3
   },
   "file_extension": ".py",
   "mimetype": "text/x-python",
   "name": "python",
   "nbconvert_exporter": "python",
   "pygments_lexer": "ipython3",
   "version": "3.9.7"
  }
 },
 "nbformat": 4,
 "nbformat_minor": 4
}
