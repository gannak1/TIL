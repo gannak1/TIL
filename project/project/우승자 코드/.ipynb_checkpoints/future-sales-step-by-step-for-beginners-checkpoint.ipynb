{
 "cells": [
  {
   "cell_type": "markdown",
   "metadata": {},
   "source": [
    "https://www.kaggle.com/andrej0marinchenko"
   ]
  },
  {
   "cell_type": "markdown",
   "metadata": {
    "_cell_guid": "ea24845a-4a15-4235-9ed2-4823acbf4317",
    "_uuid": "89022d89e1603ef3869a96b9da78da38b0b33b14"
   },
   "source": [
    "\n",
    ">Hello and Welcome to Kaggle, the online Data Science Community to learn, share, and compete. Most beginners get lost in the field, because they fall into the black box approach, using libraries and algorithms they don't understand. This tutorial will give you a 1-2-year head start over your peers, by providing a framework that teaches you how-to think like a data scientist vs what to think/code. Not only will you be able to submit your first competition, but you’ll be able to solve any problem thrown your way. I provide clear explanations, clean code, and plenty of links to resources. *Please Note: This Kernel is still being improved. So check the Change Logs below for updates. Also, please be sure to upvote, fork, and comment and I'll continue to develop.* Thanks, and may you have \"statistically significant\" luck!\n",
    "\n",
    "\n",
    "# Table of Contents\n",
    "1. [Chapter 1 - How a Data Scientist Beat the Odds](#ch1)\n",
    "1. [Chapter 2 - A Data Science Framework](#ch2)\n",
    "1. [Chapter 3 - Step 1: Define the Problem and Step 2: Gather the Data](#ch3)\n",
    "1. [Chapter 4 - Step 3: Prepare Data for Consumption](#ch4)\n",
    "1. [Chapter 5 - The 4 C's of Data Cleaning: Correcting, Completing, Creating, and Converting](#ch5)\n",
    "1. [Chapter 6 - Step 4: Perform Exploratory Analysis with Statistics](#ch6)\n",
    "1. [Chapter 7 - Step 5: Model Data](#ch7)\n",
    "1. [Chapter 8 - Evaluate Model Performance](#ch8)\n",
    "1. [Chapter 9 - Tune Model with Hyper-Parameters](#ch9)\n",
    "1. [Chapter 10 - Tune Model with Feature Selection](#ch10)\n",
    "1. [Chapter 11 - Step 6: Validate and Implement](#ch11)\n",
    "1. [Chapter 12 - Conclusion and Step 7: Optimize and Strategize](#ch12)\n",
    "\n",
    "**How-to Use this Tutorial:** Read the explanations provided in this Kernel and the links to developer documentation. The goal is to not just learn the whats, but the whys. If you don't understand something in the code the print() function is your best friend. In coding, it's okay to try, fail, and try again. If you do run into problems, Google is your second best friend, because 99.99% of the time, someone else had the same question/problem and already asked the coding community. If you've exhausted all your resources, the Kaggle Community via forums and comments can help too."
   ]
  },
  {
   "cell_type": "markdown",
   "metadata": {
    "_cell_guid": "ec31d549-537e-4f35-8594-22ef03079081",
    "_uuid": "ff6c70c884a8a5fb3258e7f3fefc9e55261df1df"
   },
   "source": [
    "<a id=\"ch1\"></a>\n",
    "# How a Data Scientist Beat the Odds\n",
    "It's the classical problem, predict the outcome of a binary event. In laymen terms this means, it either occurred or did not occur. For example, you won or did not win, you passed the test or did not pass the test, you were accepted or not accepted, and you get the point. A common business application is churn or customer retention. Another popular use case is, healthcare's mortality rate or survival analysis. Binary events create an interesting dynamic, because we know statistically, a random guess should achieve a 50% accuracy rate, without creating one single algorithm or writing one single line of code. However, just like autocorrect spellcheck technology, sometimes we humans can be too smart for our own good and actually underperform a coin flip. In this kernel, I use Kaggle's Getting Started Competition, **Predict Future Sales**, to walk the reader through, how-to use the data science framework to beat the odds.\n",
    "   \n",
    "*What happens when technology is too smart for its own good?*"
   ]
  },
  {
   "cell_type": "markdown",
   "metadata": {
    "_cell_guid": "8514a868-6816-494a-9e9c-dba14cb36f42",
    "_uuid": "bd2a68dcaace0c1371f2994f0204dce65800cc20"
   },
   "source": [
    "<a id=\"ch2\"></a>\n",
    "# A Data Science Framework\n",
    "1. **Define the Problem:** If data science, big data, machine learning, predictive analytics, business intelligence, or any other buzzword is the solution, then what is the problem? As the saying goes, don't put the cart before the horse. Problems before requirements, requirements before solutions, solutions before design, and design before technology. Too often we are quick to jump on the new shiny technology, tool, or algorithm before determining the actual problem we are trying to solve.\n",
    "2. **Gather the Data:** John Naisbitt wrote in his 1984 (yes, 1984) book Megatrends, we are “drowning in data, yet staving for knowledge.\" So, chances are, the dataset(s) already exist somewhere, in some format. It may be external or internal, structured or unstructured, static or streamed, objective or subjective, etc. As the saying goes, you don't have to reinvent the wheel, you just have to know where to find it. In the next step, we will worry about transforming \"dirty data\" to \"clean data.\"\n",
    "3. **Prepare Data for Consumption:** This step is often referred to as data wrangling, a required process to turn “wild” data into “manageable” data. Data wrangling includes implementing data architectures for storage and processing, developing data governance standards for quality and control, data extraction (i.e. ETL and web scraping), and data cleaning to identify aberrant, missing, or outlier data points.\n",
    "4. **Perform Exploratory Analysis:** Anybody who has ever worked with data knows, garbage-in, garbage-out (GIGO). Therefore, it is important to deploy descriptive and graphical statistics to look for potential problems, patterns, classifications, correlations and comparisons in the dataset. In addition, data categorization (i.e. qualitative vs quantitative) is also important to understand and select the correct hypothesis test or data model.\n",
    "5. **Model Data:** Like descriptive and inferential statistics, data modeling can either summarize the data or predict future outcomes. Your dataset and expected results, will determine the algorithms available for use. It's important to remember, algorithms are tools and not magical wands or silver bullets. You must still be the master craft (wo)man that knows how-to select the right tool for the job. An analogy would be asking someone to hand you a Philip screwdriver, and they hand you a flathead screwdriver or worst a hammer. At best, it shows a complete lack of understanding. At worst, it makes completing the project impossible. The same is true in data modelling. The wrong model can lead to poor performance at best and the wrong conclusion (that’s used as actionable intelligence) at worst.\n",
    "6. **Validate and Implement Data Model:** After you've trained your model based on a subset of your data, it's time to test your model. This helps ensure you haven't overfit your model or made it so specific to the selected subset, that it does not accurately fit another subset from the same dataset. In this step we determine if our [model overfit, generalize, or underfit our dataset](http://docs.aws.amazon.com/machine-learning/latest/dg/model-fit-underfitting-vs-overfitting.html).\n",
    "7. **Optimize and Strategize:** This is the \"bionic man\" step, where you iterate back through the process to make it better...stronger...faster than it was before. As a data scientist, your strategy should be to outsource developer operations and application plumbing, so you have more time to focus on recommendations and design. Once you're able to package your ideas, this becomes your “currency exchange\" rate."
   ]
  },
  {
   "cell_type": "markdown",
   "metadata": {
    "_cell_guid": "22ba49b5-b3b6-4129-8c57-623e0d863ab3",
    "_uuid": "ff014109d795c5d1bfcc66c9761730406124ebe4"
   },
   "source": [
    "<a id=\"ch3\"></a>\n",
    "# Step 1: Define the Problem\n",
    "For this project, the problem statement is given to us on a golden plater, develop an algorithm to predict the survival outcome of passengers on the Titanic.\n",
    "\n",
    "......\n",
    "\n",
    "**Project Summary:**\n",
    "Project Summary: In this competition you will work with a challenging time-series dataset consisting of daily sales data, kindly provided by one of the largest Russian software firms - 1C Company. \n",
    "\n",
    "We are asking you to predict total sales for every product and store in the next month. By solving this competition you will be able to apply and enhance your data science skills.\n",
    "\n",
    "# Step 2: Gather the Data\n",
    "You are provided with daily historical sales data. The task is to forecast the total amount of products sold in every shop for the test set. Note that the list of shops and products slightly changes every month. Creating a robust model that can handle such situations is part of the challenge.\n",
    "\n",
    "File descriptions\n",
    "- sales_train.csv - the training set. Daily historical data from January 2013 to October 2015.\n",
    "- test.csv - the test set. You need to forecast the sales for these shops and products for November 2015.\n",
    "- sample_submission.csv - a sample submission file in the correct format.\n",
    "- items.csv - supplemental information about the items/products.\n",
    "- item_categories.csv  - supplemental information about the items categories.\n",
    "- shops.csv- supplemental information about the shops.\n",
    "\n",
    "The dataset is also given to us on a golden plater with test and train data at [Predict Future Sales](https://www.kaggle.com/c/competitive-data-science-predict-future-sales/data)\n"
   ]
  },
  {
   "cell_type": "markdown",
   "metadata": {
    "_cell_guid": "ef4059c6-9397-4b72-85da-570f51ba139c",
    "_uuid": "f1d8b59b37d2ce04a5396a0ab183dc3000817113"
   },
   "source": [
    "<a id=\"ch4\"></a>\n",
    "# Step 3: Prepare Data for Consumption\n",
    "Since step 2 was provided to us on a golden plater, so is step 3. Therefore, normal processes in data wrangling, such as data architecture, governance, and extraction are out of scope. Thus, only data cleaning is in scope.\n",
    "\n",
    "## 3.1 Import Libraries\n",
    "The following code is written in Python 3.x. Libraries provide pre-written functionality to perform necessary tasks. The idea is why write ten lines of code, when you can write one line. "
   ]
  },
  {
   "cell_type": "code",
   "execution_count": 1,
   "metadata": {
    "_cell_guid": "a33744a8-08c7-4158-a22f-e8f2008a25b0",
    "_kg_hide-input": false,
    "_kg_hide-output": false,
    "_uuid": "412b006d19b0209bd10ee4c6d15fdf59f8d2af38",
    "execution": {
     "iopub.execute_input": "2022-02-04T08:42:27.78999Z",
     "iopub.status.busy": "2022-02-04T08:42:27.789659Z",
     "iopub.status.idle": "2022-02-04T08:42:28.714343Z",
     "shell.execute_reply": "2022-02-04T08:42:28.713603Z",
     "shell.execute_reply.started": "2022-02-04T08:42:27.789908Z"
    }
   },
   "outputs": [
    {
     "name": "stdout",
     "output_type": "stream",
     "text": [
      "Python version: 3.9.7 (default, Sep 16 2021, 16:59:28) [MSC v.1916 64 bit (AMD64)]\n",
      "pandas version: 1.3.4\n",
      "matplotlib version: 3.4.3\n",
      "NumPy version: 1.20.3\n",
      "SciPy version: 1.7.1\n",
      "IPython version: 7.29.0\n",
      "scikit-learn version: 0.24.2\n",
      "-------------------------\n"
     ]
    },
    {
     "ename": "FileNotFoundError",
     "evalue": "[WinError 2] 지정된 파일을 찾을 수 없습니다",
     "output_type": "error",
     "traceback": [
      "\u001b[1;31m---------------------------------------------------------------------------\u001b[0m",
      "\u001b[1;31mFileNotFoundError\u001b[0m                         Traceback (most recent call last)",
      "\u001b[1;32m~\\AppData\\Local\\Temp/ipykernel_1792/1044364821.py\u001b[0m in \u001b[0;36m<module>\u001b[1;34m\u001b[0m\n\u001b[0;32m     41\u001b[0m \u001b[1;33m\u001b[0m\u001b[0m\n\u001b[0;32m     42\u001b[0m \u001b[1;32mfrom\u001b[0m \u001b[0msubprocess\u001b[0m \u001b[1;32mimport\u001b[0m \u001b[0mcheck_output\u001b[0m\u001b[1;33m\u001b[0m\u001b[1;33m\u001b[0m\u001b[0m\n\u001b[1;32m---> 43\u001b[1;33m \u001b[0mprint\u001b[0m\u001b[1;33m(\u001b[0m\u001b[0mcheck_output\u001b[0m\u001b[1;33m(\u001b[0m\u001b[1;33m[\u001b[0m\u001b[1;34m\"ls\"\u001b[0m\u001b[1;33m,\u001b[0m \u001b[1;34m\"../input/competitive-data-science-predict-future-sales\"\u001b[0m\u001b[1;33m]\u001b[0m\u001b[1;33m)\u001b[0m\u001b[1;33m.\u001b[0m\u001b[0mdecode\u001b[0m\u001b[1;33m(\u001b[0m\u001b[1;34m\"utf8\"\u001b[0m\u001b[1;33m)\u001b[0m\u001b[1;33m)\u001b[0m\u001b[1;33m\u001b[0m\u001b[1;33m\u001b[0m\u001b[0m\n\u001b[0m\u001b[0;32m     44\u001b[0m \u001b[1;33m\u001b[0m\u001b[0m\n\u001b[0;32m     45\u001b[0m \u001b[1;31m# Any results you write to the current directory are saved as output.\u001b[0m\u001b[1;33m\u001b[0m\u001b[1;33m\u001b[0m\u001b[0m\n",
      "\u001b[1;32mC:\\ProgramData\\Anaconda3\\lib\\subprocess.py\u001b[0m in \u001b[0;36mcheck_output\u001b[1;34m(timeout, *popenargs, **kwargs)\u001b[0m\n\u001b[0;32m    422\u001b[0m         \u001b[0mkwargs\u001b[0m\u001b[1;33m[\u001b[0m\u001b[1;34m'input'\u001b[0m\u001b[1;33m]\u001b[0m \u001b[1;33m=\u001b[0m \u001b[0mempty\u001b[0m\u001b[1;33m\u001b[0m\u001b[1;33m\u001b[0m\u001b[0m\n\u001b[0;32m    423\u001b[0m \u001b[1;33m\u001b[0m\u001b[0m\n\u001b[1;32m--> 424\u001b[1;33m     return run(*popenargs, stdout=PIPE, timeout=timeout, check=True,\n\u001b[0m\u001b[0;32m    425\u001b[0m                **kwargs).stdout\n\u001b[0;32m    426\u001b[0m \u001b[1;33m\u001b[0m\u001b[0m\n",
      "\u001b[1;32mC:\\ProgramData\\Anaconda3\\lib\\subprocess.py\u001b[0m in \u001b[0;36mrun\u001b[1;34m(input, capture_output, timeout, check, *popenargs, **kwargs)\u001b[0m\n\u001b[0;32m    503\u001b[0m         \u001b[0mkwargs\u001b[0m\u001b[1;33m[\u001b[0m\u001b[1;34m'stderr'\u001b[0m\u001b[1;33m]\u001b[0m \u001b[1;33m=\u001b[0m \u001b[0mPIPE\u001b[0m\u001b[1;33m\u001b[0m\u001b[1;33m\u001b[0m\u001b[0m\n\u001b[0;32m    504\u001b[0m \u001b[1;33m\u001b[0m\u001b[0m\n\u001b[1;32m--> 505\u001b[1;33m     \u001b[1;32mwith\u001b[0m \u001b[0mPopen\u001b[0m\u001b[1;33m(\u001b[0m\u001b[1;33m*\u001b[0m\u001b[0mpopenargs\u001b[0m\u001b[1;33m,\u001b[0m \u001b[1;33m**\u001b[0m\u001b[0mkwargs\u001b[0m\u001b[1;33m)\u001b[0m \u001b[1;32mas\u001b[0m \u001b[0mprocess\u001b[0m\u001b[1;33m:\u001b[0m\u001b[1;33m\u001b[0m\u001b[1;33m\u001b[0m\u001b[0m\n\u001b[0m\u001b[0;32m    506\u001b[0m         \u001b[1;32mtry\u001b[0m\u001b[1;33m:\u001b[0m\u001b[1;33m\u001b[0m\u001b[1;33m\u001b[0m\u001b[0m\n\u001b[0;32m    507\u001b[0m             \u001b[0mstdout\u001b[0m\u001b[1;33m,\u001b[0m \u001b[0mstderr\u001b[0m \u001b[1;33m=\u001b[0m \u001b[0mprocess\u001b[0m\u001b[1;33m.\u001b[0m\u001b[0mcommunicate\u001b[0m\u001b[1;33m(\u001b[0m\u001b[0minput\u001b[0m\u001b[1;33m,\u001b[0m \u001b[0mtimeout\u001b[0m\u001b[1;33m=\u001b[0m\u001b[0mtimeout\u001b[0m\u001b[1;33m)\u001b[0m\u001b[1;33m\u001b[0m\u001b[1;33m\u001b[0m\u001b[0m\n",
      "\u001b[1;32mC:\\ProgramData\\Anaconda3\\lib\\subprocess.py\u001b[0m in \u001b[0;36m__init__\u001b[1;34m(self, args, bufsize, executable, stdin, stdout, stderr, preexec_fn, close_fds, shell, cwd, env, universal_newlines, startupinfo, creationflags, restore_signals, start_new_session, pass_fds, user, group, extra_groups, encoding, errors, text, umask)\u001b[0m\n\u001b[0;32m    949\u001b[0m                             encoding=encoding, errors=errors)\n\u001b[0;32m    950\u001b[0m \u001b[1;33m\u001b[0m\u001b[0m\n\u001b[1;32m--> 951\u001b[1;33m             self._execute_child(args, executable, preexec_fn, close_fds,\n\u001b[0m\u001b[0;32m    952\u001b[0m                                 \u001b[0mpass_fds\u001b[0m\u001b[1;33m,\u001b[0m \u001b[0mcwd\u001b[0m\u001b[1;33m,\u001b[0m \u001b[0menv\u001b[0m\u001b[1;33m,\u001b[0m\u001b[1;33m\u001b[0m\u001b[1;33m\u001b[0m\u001b[0m\n\u001b[0;32m    953\u001b[0m                                 \u001b[0mstartupinfo\u001b[0m\u001b[1;33m,\u001b[0m \u001b[0mcreationflags\u001b[0m\u001b[1;33m,\u001b[0m \u001b[0mshell\u001b[0m\u001b[1;33m,\u001b[0m\u001b[1;33m\u001b[0m\u001b[1;33m\u001b[0m\u001b[0m\n",
      "\u001b[1;32mC:\\ProgramData\\Anaconda3\\lib\\subprocess.py\u001b[0m in \u001b[0;36m_execute_child\u001b[1;34m(self, args, executable, preexec_fn, close_fds, pass_fds, cwd, env, startupinfo, creationflags, shell, p2cread, p2cwrite, c2pread, c2pwrite, errread, errwrite, unused_restore_signals, unused_gid, unused_gids, unused_uid, unused_umask, unused_start_new_session)\u001b[0m\n\u001b[0;32m   1418\u001b[0m             \u001b[1;31m# Start the process\u001b[0m\u001b[1;33m\u001b[0m\u001b[1;33m\u001b[0m\u001b[0m\n\u001b[0;32m   1419\u001b[0m             \u001b[1;32mtry\u001b[0m\u001b[1;33m:\u001b[0m\u001b[1;33m\u001b[0m\u001b[1;33m\u001b[0m\u001b[0m\n\u001b[1;32m-> 1420\u001b[1;33m                 hp, ht, pid, tid = _winapi.CreateProcess(executable, args,\n\u001b[0m\u001b[0;32m   1421\u001b[0m                                          \u001b[1;31m# no special security\u001b[0m\u001b[1;33m\u001b[0m\u001b[1;33m\u001b[0m\u001b[0m\n\u001b[0;32m   1422\u001b[0m                                          \u001b[1;32mNone\u001b[0m\u001b[1;33m,\u001b[0m \u001b[1;32mNone\u001b[0m\u001b[1;33m,\u001b[0m\u001b[1;33m\u001b[0m\u001b[1;33m\u001b[0m\u001b[0m\n",
      "\u001b[1;31mFileNotFoundError\u001b[0m: [WinError 2] 지정된 파일을 찾을 수 없습니다"
     ]
    }
   ],
   "source": [
    "# This Python 3 environment comes with many helpful analytics libraries installed\n",
    "# It is defined by the kaggle/python docker image: https://github.com/kaggle/docker-python\n",
    "\n",
    "#load packages\n",
    "import sys #access to system parameters https://docs.python.org/3/library/sys.html\n",
    "print(\"Python version: {}\". format(sys.version))\n",
    "\n",
    "import pandas as pd #collection of functions for data processing and analysis modeled after R dataframes with SQL like features\n",
    "print(\"pandas version: {}\". format(pd.__version__))\n",
    "\n",
    "import matplotlib #collection of functions for scientific and publication-ready visualization\n",
    "print(\"matplotlib version: {}\". format(matplotlib.__version__))\n",
    "\n",
    "import numpy as np #foundational package for scientific computing\n",
    "print(\"NumPy version: {}\". format(np.__version__))\n",
    "\n",
    "import scipy as sp #collection of functions for scientific computing and advance mathematics\n",
    "print(\"SciPy version: {}\". format(sp.__version__)) \n",
    "\n",
    "import IPython\n",
    "from IPython import display #pretty printing of dataframes in Jupyter notebook\n",
    "print(\"IPython version: {}\". format(IPython.__version__)) \n",
    "\n",
    "import sklearn #collection of machine learning algorithms\n",
    "print(\"scikit-learn version: {}\". format(sklearn.__version__))\n",
    "\n",
    "#misc libraries\n",
    "import random\n",
    "import time\n",
    "import datetime # manipulating date formats\n",
    "\n",
    "#ignore warnings\n",
    "import warnings\n",
    "warnings.filterwarnings('ignore')\n",
    "print('-'*25)\n",
    "\n",
    "\n",
    "\n",
    "# Input data files are available in the \"../input/competitive-data-science-predict-future-sales\" directory.\n",
    "# For example, running this (by clicking run or pressing Shift+Enter) will list the files in the input directory\n",
    "\n",
    "from subprocess import check_output\n",
    "print(check_output([\"ls\", \"../input/competitive-data-science-predict-future-sales\"]).decode(\"utf8\"))\n",
    "\n",
    "# Any results you write to the current directory are saved as output."
   ]
  },
  {
   "cell_type": "markdown",
   "metadata": {
    "_cell_guid": "a514e15b-8caa-4b2e-bb46-13521761ef27",
    "_uuid": "2e4810f3c85ffdee7d7382167e455baf1c320bc8"
   },
   "source": [
    "## 3.11 Load Data Modelling Libraries\n",
    "\n",
    "We will use the popular *scikit-learn* library to develop our machine learning algorithms. In *sklearn,* algorithms are called Estimators and implemented in their own classes. For data visualization, we will use the *matplotlib* and *seaborn* library. Below are common classes to load."
   ]
  },
  {
   "cell_type": "code",
   "execution_count": 2,
   "metadata": {
    "_cell_guid": "b230c790-a3f5-46ed-b351-57e96cc8fa61",
    "_uuid": "4a16d09256317518769f21bf9cc38726df8b0078",
    "execution": {
     "iopub.execute_input": "2022-02-04T08:42:28.71738Z",
     "iopub.status.busy": "2022-02-04T08:42:28.716708Z",
     "iopub.status.idle": "2022-02-04T08:42:29.193123Z",
     "shell.execute_reply": "2022-02-04T08:42:29.192337Z",
     "shell.execute_reply.started": "2022-02-04T08:42:28.717334Z"
    }
   },
   "outputs": [
    {
     "ename": "ModuleNotFoundError",
     "evalue": "No module named 'xgboost'",
     "output_type": "error",
     "traceback": [
      "\u001b[1;31m---------------------------------------------------------------------------\u001b[0m",
      "\u001b[1;31mModuleNotFoundError\u001b[0m                       Traceback (most recent call last)",
      "\u001b[1;32m~\\AppData\\Local\\Temp/ipykernel_1792/2370584450.py\u001b[0m in \u001b[0;36m<module>\u001b[1;34m\u001b[0m\n\u001b[0;32m      1\u001b[0m \u001b[1;31m#Common Model Algorithms\u001b[0m\u001b[1;33m\u001b[0m\u001b[1;33m\u001b[0m\u001b[0m\n\u001b[0;32m      2\u001b[0m \u001b[1;32mfrom\u001b[0m \u001b[0msklearn\u001b[0m \u001b[1;32mimport\u001b[0m \u001b[0msvm\u001b[0m\u001b[1;33m,\u001b[0m \u001b[0mtree\u001b[0m\u001b[1;33m,\u001b[0m \u001b[0mlinear_model\u001b[0m\u001b[1;33m,\u001b[0m \u001b[0mneighbors\u001b[0m\u001b[1;33m,\u001b[0m \u001b[0mnaive_bayes\u001b[0m\u001b[1;33m,\u001b[0m \u001b[0mensemble\u001b[0m\u001b[1;33m,\u001b[0m \u001b[0mdiscriminant_analysis\u001b[0m\u001b[1;33m,\u001b[0m \u001b[0mgaussian_process\u001b[0m\u001b[1;33m\u001b[0m\u001b[1;33m\u001b[0m\u001b[0m\n\u001b[1;32m----> 3\u001b[1;33m \u001b[1;32mfrom\u001b[0m \u001b[0mxgboost\u001b[0m \u001b[1;32mimport\u001b[0m \u001b[0mXGBClassifier\u001b[0m\u001b[1;33m\u001b[0m\u001b[1;33m\u001b[0m\u001b[0m\n\u001b[0m\u001b[0;32m      4\u001b[0m \u001b[1;33m\u001b[0m\u001b[0m\n\u001b[0;32m      5\u001b[0m \u001b[1;31m#Common Model Helpers\u001b[0m\u001b[1;33m\u001b[0m\u001b[1;33m\u001b[0m\u001b[0m\n",
      "\u001b[1;31mModuleNotFoundError\u001b[0m: No module named 'xgboost'"
     ]
    }
   ],
   "source": [
    "#Common Model Algorithms\n",
    "from sklearn import svm, tree, linear_model, neighbors, naive_bayes, ensemble, discriminant_analysis, gaussian_process\n",
    "from xgboost import XGBClassifier\n",
    "\n",
    "#Common Model Helpers\n",
    "from sklearn.preprocessing import OneHotEncoder, LabelEncoder\n",
    "from sklearn import feature_selection\n",
    "from sklearn import model_selection\n",
    "from sklearn import metrics\n",
    "\n",
    "#Visualization\n",
    "import matplotlib as mpl\n",
    "import matplotlib.pyplot as plt\n",
    "import matplotlib.pylab as pylab\n",
    "import seaborn as sns\n",
    "from pandas.plotting import scatter_matrix\n",
    "\n",
    "#Configure Visualization Defaults\n",
    "#%matplotlib inline = show plots in Jupyter Notebook browser\n",
    "%matplotlib inline\n",
    "mpl.style.use('ggplot')\n",
    "sns.set_style('white')\n",
    "pylab.rcParams['figure.figsize'] = 12,8"
   ]
  },
  {
   "cell_type": "markdown",
   "metadata": {
    "_cell_guid": "c6289058-157a-46ba-b5c3-f134b268f5cc",
    "_uuid": "a0fe0965de515e8c82cabd1fbd82cce993279f16"
   },
   "source": [
    "## 3.2 Meet and Greet Data\n",
    "\n",
    "This is the meet and greet step. Get to know your data by first name and learn a little bit about it. What does it look like (datatype and values), what makes it tick (independent/feature variables(s)), what's its goals in life (dependent/target variable(s)). Think of it like a first date, before you jump in and start poking it in the bedroom.\n",
    "\n",
    "To begin this step, we first import our data. Next we use the info() and sample() function, to get a quick and dirty overview of variable datatypes (i.e. qualitative vs quantitative). Click here for the [Source Data Dictionary](https://www.kaggle.com/c/competitive-data-science-predict-future-sales/data).\n",
    "\n",
    " **It's important to note, more predictor variables do not make a better model, but the right variables.**\n",
    "\n",
    "Data fields\n",
    "1. ID - an Id that represents a (Shop, Item) tuple within the test set\n",
    "2. shop_id - unique identifier of a shop\n",
    "3. item_id - unique identifier of a product\n",
    "4. item_category_id - unique identifier of item category\n",
    "5. item_cnt_day - number of products sold. You are predicting a monthly amount of this measure\n",
    "6. item_price - current price of an item\n",
    "7. date - date in format dd/mm/yyyy\n",
    "8. date_block_num - a consecutive month number, used for convenience. January 2013 is 0, February 2013 is 1,..., October 2015 is 33\n",
    "9. item_name - name of item\n",
    "10. shop_name - name of shop\n",
    "11. item_category_name - name of item category"
   ]
  },
  {
   "cell_type": "code",
   "execution_count": null,
   "metadata": {
    "_cell_guid": "c0928d7d-043b-4aa5-8113-e96fb42dbdc7",
    "_uuid": "d0afb79a714ea826208235d05afac4e3f60554db",
    "execution": {
     "iopub.execute_input": "2022-02-04T08:42:29.196588Z",
     "iopub.status.busy": "2022-02-04T08:42:29.19631Z",
     "iopub.status.idle": "2022-02-04T08:42:31.791212Z",
     "shell.execute_reply": "2022-02-04T08:42:31.790283Z",
     "shell.execute_reply.started": "2022-02-04T08:42:29.196554Z"
    }
   },
   "outputs": [],
   "source": [
    "#import data from file: https://pandas.pydata.org/pandas-docs/stable/generated/pandas.read_csv.html\n",
    "data_raw = pd.read_csv('../input/competitive-data-science-predict-future-sales/sales_train.csv')\n",
    "\n",
    "\n",
    "#a dataset should be broken into 3 splits: train, test, and (final) validation\n",
    "#the test file provided is the validation file for competition submission\n",
    "#we will split the train set into train and test data in future sections\n",
    "data_val  = pd.read_csv('../input/competitive-data-science-predict-future-sales/test.csv')\n",
    "\n",
    "\n",
    "#to play with our data we'll create a copy\n",
    "#remember python assignment or equal passes by reference vs values, so we use the copy function: https://stackoverflow.com/questions/46327494/python-pandas-dataframe-copydeep-false-vs-copydeep-true-vs\n",
    "data1 = data_raw.copy(deep = True)\n",
    "\n",
    "#however passing by reference is convenient, because we can clean both datasets at once\n",
    "data_cleaner = [data1, data_val]\n",
    "\n",
    "\n",
    "#preview data\n",
    "\n",
    "print(\"\\n ----------Top-5- Record----------\")\n",
    "print(data_raw.head(5))  #https://pandas.pydata.org/pandas-docs/stable/generated/pandas.DataFrame.head.html\n",
    "# print(data_raw.tail(5)) #https://pandas.pydata.org/pandas-docs/stable/generated/pandas.DataFrame.tail.html\n",
    "# print(data_raw.sample(10)) #https://pandas.pydata.org/pandas-docs/stable/generated/pandas.DataFrame.sample.html\n",
    "print(\"\\n -----------Information-----------\")\n",
    "print(data_raw.info())  #https://pandas.pydata.org/pandas-docs/stable/generated/pandas.DataFrame.info.html\n",
    "print(\"\\n -----------Data Types-----------\")\n",
    "print(data_raw.dtypes)\n",
    "print(\"\\n ----------Missing value-----------\")\n",
    "print(data_raw.isnull().sum())\n",
    "print(\"\\n ----------Null value-----------\")\n",
    "print(data_raw.isna().sum())\n",
    "print(\"\\n ----------Shape of Data----------\")\n",
    "print(data_raw.shape)"
   ]
  },
  {
   "cell_type": "code",
   "execution_count": null,
   "metadata": {
    "execution": {
     "iopub.execute_input": "2022-02-04T08:42:31.792668Z",
     "iopub.status.busy": "2022-02-04T08:42:31.792437Z",
     "iopub.status.idle": "2022-02-04T08:42:32.568236Z",
     "shell.execute_reply": "2022-02-04T08:42:32.567299Z",
     "shell.execute_reply.started": "2022-02-04T08:42:31.792635Z"
    }
   },
   "outputs": [],
   "source": [
    "print(\"\\n ----------Number of duplicates----------\")\n",
    "print('Number of duplicates:', len(data_raw[data_raw.duplicated()]))"
   ]
  },
  {
   "cell_type": "markdown",
   "metadata": {},
   "source": [
    "- We have duplicated rows, but I don't think that it is a mistake.\n",
    "It could be different sales methods or client type, etc.\n",
    "- You can remove it, but I really don't believe that 6 rows of 3m can make the difference."
   ]
  },
  {
   "cell_type": "markdown",
   "metadata": {},
   "source": [
    "### Lets group data by item_id and date_block_num and look closer on it.¶"
   ]
  },
  {
   "cell_type": "code",
   "execution_count": null,
   "metadata": {
    "execution": {
     "iopub.execute_input": "2022-02-04T08:42:32.570417Z",
     "iopub.status.busy": "2022-02-04T08:42:32.570182Z",
     "iopub.status.idle": "2022-02-04T08:42:33.035367Z",
     "shell.execute_reply": "2022-02-04T08:42:33.034584Z",
     "shell.execute_reply.started": "2022-02-04T08:42:32.570388Z"
    }
   },
   "outputs": [],
   "source": [
    "sales_by_item_id = data_raw.pivot_table(index=['item_id'],values=['item_cnt_day'], \n",
    "                                        columns='date_block_num', aggfunc=np.sum, fill_value=0).reset_index()\n",
    "sales_by_item_id.columns = sales_by_item_id.columns.droplevel().map(str)\n",
    "sales_by_item_id = sales_by_item_id.reset_index(drop=True).rename_axis(None, axis=1)\n",
    "sales_by_item_id.columns.values[0] = 'item_id'"
   ]
  },
  {
   "cell_type": "code",
   "execution_count": null,
   "metadata": {
    "execution": {
     "iopub.execute_input": "2022-02-04T08:42:33.03671Z",
     "iopub.status.busy": "2022-02-04T08:42:33.036507Z",
     "iopub.status.idle": "2022-02-04T08:42:33.052064Z",
     "shell.execute_reply": "2022-02-04T08:42:33.051214Z",
     "shell.execute_reply.started": "2022-02-04T08:42:33.036685Z"
    }
   },
   "outputs": [],
   "source": [
    "# Let's see how many products are outdated (no sales for the last 6 months)\n",
    "\n",
    "outdated_items = sales_by_item_id[sales_by_item_id.loc[:,'27':].sum(axis=1)==0]\n",
    "print('Outdated items:', len(outdated_items))\n",
    "print('Outdated items in test set:', len(data_val[data_val['item_id'].isin(outdated_items['item_id'])]))"
   ]
  },
  {
   "cell_type": "markdown",
   "metadata": {},
   "source": [
    "- 12391 of 21807 is a huge number. Probably we can set 0 for all that items and do not make any model prediction.\n",
    "- in test set 6888 - not much but we have such items"
   ]
  },
  {
   "cell_type": "code",
   "execution_count": null,
   "metadata": {
    "execution": {
     "iopub.execute_input": "2022-02-04T08:42:33.055694Z",
     "iopub.status.busy": "2022-02-04T08:42:33.053975Z",
     "iopub.status.idle": "2022-02-04T08:42:33.072391Z",
     "shell.execute_reply": "2022-02-04T08:42:33.071377Z",
     "shell.execute_reply.started": "2022-02-04T08:42:33.05565Z"
    }
   },
   "outputs": [],
   "source": [
    "# Outliers by price and sales volume\n",
    "print('Sale volume outliers:',data_raw['item_id'][data_raw['item_cnt_day']>500].unique())\n",
    "print('Item price outliers:',data_raw['item_id'][data_raw['item_price']>50000].unique())"
   ]
  },
  {
   "cell_type": "markdown",
   "metadata": {},
   "source": [
    "Possible item_id features:\n",
    "- Lags\n",
    "- Release date\n",
    "- Last month sale\n",
    "- Days on sale\n",
    "- Neighbors (items with id 1000 and 1001 could be somehow similar - genre, type, release date)"
   ]
  },
  {
   "cell_type": "markdown",
   "metadata": {},
   "source": [
    "### Lets now group train data by shop_id.¶\n",
    "We can see new shops - probably there will be a sales spike (opening event for example). Apparently closed shops (ill call it \"outdated shops\") - no sales for last 6 months."
   ]
  },
  {
   "cell_type": "code",
   "execution_count": null,
   "metadata": {
    "execution": {
     "iopub.execute_input": "2022-02-04T08:42:33.074235Z",
     "iopub.status.busy": "2022-02-04T08:42:33.073955Z",
     "iopub.status.idle": "2022-02-04T08:42:33.388054Z",
     "shell.execute_reply": "2022-02-04T08:42:33.387249Z",
     "shell.execute_reply.started": "2022-02-04T08:42:33.074196Z"
    }
   },
   "outputs": [],
   "source": [
    "sales_by_shop_id = data_raw.pivot_table(index=['shop_id'],values=['item_cnt_day'], \n",
    "                                        columns='date_block_num', aggfunc=np.sum, fill_value=0).reset_index()\n",
    "sales_by_shop_id.columns = sales_by_shop_id.columns.droplevel().map(str)\n",
    "sales_by_shop_id = sales_by_shop_id.reset_index(drop=True).rename_axis(None, axis=1)\n",
    "sales_by_shop_id.columns.values[0] = 'shop_id'\n",
    "\n",
    "print(\"\\n ----------Dynamics of opening new stores (each line is a month, and the values are store numbers).----------\")\n",
    "for i in range(6,34):\n",
    "    print('Not exists in month',i,sales_by_shop_id['shop_id'][sales_by_shop_id.loc[:,'0':str(i)].sum(axis=1)==0].unique())\n",
    "\n",
    "print(\"\\n ----------Dynamics of outdated stores (each line is a month, and the values are store numbers).----------\")    \n",
    "for i in range(6,28):\n",
    "    print('Shop is outdated for month',i,sales_by_shop_id['shop_id'][sales_by_shop_id.loc[:,str(i):].sum(axis=1)==0].unique())\n",
    "\n",
    "print('Recently opened shop items:', len(data_raw[data_raw['shop_id']==36]))"
   ]
  },
  {
   "cell_type": "markdown",
   "metadata": {},
   "source": [
    "In our test set we have 5100 sales in really new shop and no \"outdated shops\" but anyway it is good feature for future.\n",
    "\n",
    "Possible shop_id features:\n",
    "- Lags (shop_id/shp_cnt_mth)\n",
    "- Opening month (possible opening sales)\n",
    "- Closed Month (possible stock elimination)"
   ]
  },
  {
   "cell_type": "code",
   "execution_count": null,
   "metadata": {
    "execution": {
     "iopub.execute_input": "2022-02-04T08:42:33.389613Z",
     "iopub.status.busy": "2022-02-04T08:42:33.389118Z",
     "iopub.status.idle": "2022-02-04T08:42:34.081634Z",
     "shell.execute_reply": "2022-02-04T08:42:34.081083Z",
     "shell.execute_reply.started": "2022-02-04T08:42:33.389571Z"
    }
   },
   "outputs": [],
   "source": [
    "good_sales = data_val.merge(data_raw, on=['item_id','shop_id'], how='left').dropna()\n",
    "good_pairs = data_val[data_val['ID'].isin(good_sales['ID'])]\n",
    "no_data_items = data_val[~(data_val['item_id'].isin(data_raw['item_id']))]\n",
    "\n",
    "print('1. Number of good pairs:', len(good_pairs))\n",
    "print('2. No Data Items:', len(no_data_items))\n",
    "print('3. Only Item_id Info:', len(data_val)-len(no_data_items)-len(good_pairs))"
   ]
  },
  {
   "cell_type": "markdown",
   "metadata": {
    "_cell_guid": "b575d2d8-b77d-4810-9232-3b2726145ca8",
    "_uuid": "281ad467b485855c1a39116c5ed899ac3018689f"
   },
   "source": [
    "<a id=\"ch5\"></a>\n",
    "## 3.21 The 4 C's of Data Cleaning: Correcting, Completing, Creating, and Converting\n",
    "In this stage, we will clean our data by 1) correcting aberrant values and outliers, 2) completing missing information, 3) creating new features for analysis, and 4) converting fields to the correct format for calculations and presentation.\n",
    "\n",
    "1. **Correcting:** Reviewing the data, there does not appear to be any aberrant or non-acceptable data inputs.  We will wait until after we complete our exploratory analysis to determine if we should include or exclude from the dataset. It should be noted, that if they were unreasonable values, then it's probably a safe decision to fix now. However, we want to use caution when we modify data from its original value, because it may be necessary to create an accurate model.\n",
    "\n",
    "2. **Completing:** Missing values can be bad, because some algorithms don't know how-to handle null values and will fail. While others, like decision trees, can handle null values. Thus, it's important to fix before we start modeling, because we will compare and contrast several models. There are two common methods, either delete the record or populate the missing value using a reasonable input. It is not recommended to delete the record, especially a large percentage of records, unless it truly represents an incomplete record. Instead, it's best to impute missing values. A basic methodology for qualitative data is impute using mode. A basic methodology for quantitative data is impute using mean, median, or mean + randomized standard deviation. An intermediate methodology is to use the basic methodology based on specific criteria. There are more complex methodologies, however before deploying, it should be compared to the base model to determine if complexity truly adds value. \n",
    "\n",
    "3. **Creating:**  Feature engineering is when we use existing features to create new features to determine if they provide new signals to predict our outcome. \n",
    "\n",
    "4. **Converting:** Last but not least, we'll take care of the formatting. Always date or currency formats, or data type formats must be converted to a form convenient for our model to work with. Often categorical data is imported as objects, which makes mathematical calculations difficult and then it is necessary to convert the object data types into categorical dummy variables."
   ]
  },
  {
   "cell_type": "code",
   "execution_count": null,
   "metadata": {
    "_cell_guid": "e2181a68-3c33-4040-83a9-99adee8363a0",
    "_kg_hide-input": false,
    "_kg_hide-output": false,
    "_uuid": "9a36681f0eda8ccc6396c64aa6bd6e8288461bcb",
    "execution": {
     "iopub.execute_input": "2022-02-04T08:42:34.083096Z",
     "iopub.status.busy": "2022-02-04T08:42:34.082731Z",
     "iopub.status.idle": "2022-02-04T08:42:34.842074Z",
     "shell.execute_reply": "2022-02-04T08:42:34.841044Z",
     "shell.execute_reply.started": "2022-02-04T08:42:34.083067Z"
    }
   },
   "outputs": [],
   "source": [
    "print('Train columns with null values:\\n', data1.isnull().sum())\n",
    "print(\"-\"*10)\n",
    "\n",
    "print('Test/Validation columns with null values:\\n', data_val.isnull().sum())\n",
    "print(\"-\"*10)\n",
    "\n",
    "data_raw.describe(include = 'all')"
   ]
  },
  {
   "cell_type": "markdown",
   "metadata": {
    "_cell_guid": "c6fc9f66-8779-454c-b6bd-47676c0dc81c",
    "_uuid": "5002c97888cfdcb2b49ef76fd1505eed6a1721e4"
   },
   "source": [
    "## 3.22 Clean Data\n",
    "\n",
    "Now that we know what to clean, let's execute our code.\n",
    "\n",
    "** Developer Documentation: **\n",
    "* [pandas.DataFrame](https://pandas.pydata.org/pandas-docs/stable/generated/pandas.DataFrame.html)\n",
    "* [pandas.DataFrame.info](https://pandas.pydata.org/pandas-docs/stable/generated/pandas.DataFrame.info.html)\n",
    "* [pandas.DataFrame.describe](https://pandas.pydata.org/pandas-docs/stable/generated/pandas.DataFrame.describe.html)\n",
    "* [Indexing and Selecting Data](https://pandas.pydata.org/pandas-docs/stable/indexing.html)\n",
    "* [pandas.isnull](https://pandas.pydata.org/pandas-docs/stable/generated/pandas.isnull.html)\n",
    "* [pandas.DataFrame.sum](https://pandas.pydata.org/pandas-docs/stable/generated/pandas.DataFrame.sum.html)\n",
    "* [pandas.DataFrame.mode](https://pandas.pydata.org/pandas-docs/stable/generated/pandas.DataFrame.mode.html)\n",
    "* [pandas.DataFrame.copy](https://pandas.pydata.org/pandas-docs/stable/generated/pandas.DataFrame.copy.html)\n",
    "* [pandas.DataFrame.fillna](https://pandas.pydata.org/pandas-docs/stable/generated/pandas.DataFrame.fillna.html)\n",
    "* [pandas.DataFrame.drop](https://pandas.pydata.org/pandas-docs/stable/generated/pandas.DataFrame.drop.html)\n",
    "* [pandas.Series.value_counts](https://pandas.pydata.org/pandas-docs/stable/generated/pandas.Series.value_counts.html)\n",
    "* [pandas.DataFrame.loc](https://pandas.pydata.org/pandas-docs/stable/generated/pandas.DataFrame.loc.html)"
   ]
  },
  {
   "cell_type": "code",
   "execution_count": null,
   "metadata": {
    "execution": {
     "iopub.execute_input": "2022-02-04T08:42:34.843779Z",
     "iopub.status.busy": "2022-02-04T08:42:34.843468Z",
     "iopub.status.idle": "2022-02-04T08:42:34.856598Z",
     "shell.execute_reply": "2022-02-04T08:42:34.855591Z",
     "shell.execute_reply.started": "2022-02-04T08:42:34.843741Z"
    }
   },
   "outputs": [],
   "source": [
    "'''pay attention to the format of the source data in the column date before processing'''\n",
    "print(data_raw.info())"
   ]
  },
  {
   "cell_type": "code",
   "execution_count": null,
   "metadata": {
    "execution": {
     "iopub.execute_input": "2022-02-04T08:42:34.858168Z",
     "iopub.status.busy": "2022-02-04T08:42:34.857764Z",
     "iopub.status.idle": "2022-02-04T08:42:58.33612Z",
     "shell.execute_reply": "2022-02-04T08:42:58.3352Z",
     "shell.execute_reply.started": "2022-02-04T08:42:34.858139Z"
    }
   },
   "outputs": [],
   "source": [
    "#formatting the date column correctly\n",
    "data_raw.date=data_raw.date.apply(lambda x:datetime.datetime.strptime(x, '%d.%m.%Y'))\n",
    "# check\n",
    "'''pay attention to the data format in the date column after processing has changed and became datetime64[ns]'''\n",
    "print(data_raw.info())"
   ]
  },
  {
   "cell_type": "code",
   "execution_count": null,
   "metadata": {
    "execution": {
     "iopub.execute_input": "2022-02-04T08:42:58.33797Z",
     "iopub.status.busy": "2022-02-04T08:42:58.33769Z",
     "iopub.status.idle": "2022-02-04T08:42:58.361916Z",
     "shell.execute_reply": "2022-02-04T08:42:58.361348Z",
     "shell.execute_reply.started": "2022-02-04T08:42:58.33793Z"
    }
   },
   "outputs": [],
   "source": [
    "# Time period of the dataset\n",
    "print('Min date from train set: %s' % data_raw['date'].min().date())\n",
    "print('Max date from train set: %s' % data_raw['date'].max().date())"
   ]
  },
  {
   "cell_type": "code",
   "execution_count": null,
   "metadata": {
    "execution": {
     "iopub.execute_input": "2022-02-04T08:42:58.364766Z",
     "iopub.status.busy": "2022-02-04T08:42:58.364075Z",
     "iopub.status.idle": "2022-02-04T08:42:58.627808Z",
     "shell.execute_reply": "2022-02-04T08:42:58.626972Z",
     "shell.execute_reply.started": "2022-02-04T08:42:58.364732Z"
    }
   },
   "outputs": [],
   "source": [
    "# Data leakages\n",
    "# About data leakages I'll only be using only the \"shop_id\" and \"item_id\" that appear on the test set\n",
    "test_shop_ids = data_raw['shop_id'].unique()\n",
    "test_item_ids = data_val['item_id'].unique()\n",
    "# Only shops that exist in test set.\n",
    "lk_train = data_raw[data_raw['shop_id'].isin(test_shop_ids)]\n",
    "# Only items that exist in test set.\n",
    "lk_train = lk_train[lk_train['item_id'].isin(test_item_ids)]\n",
    "\n",
    "print('Data set size before leaking:', data_raw.shape[0])\n",
    "print('Data set size after leaking:', lk_train.shape[0])"
   ]
  },
  {
   "cell_type": "code",
   "execution_count": null,
   "metadata": {
    "execution": {
     "iopub.execute_input": "2022-02-04T08:42:58.631824Z",
     "iopub.status.busy": "2022-02-04T08:42:58.629267Z",
     "iopub.status.idle": "2022-02-04T08:42:58.865696Z",
     "shell.execute_reply": "2022-02-04T08:42:58.864926Z",
     "shell.execute_reply.started": "2022-02-04T08:42:58.631791Z"
    }
   },
   "outputs": [],
   "source": [
    "# Data cleaning¶\n",
    "print('all price      ', len(data_raw))\n",
    "print('positive price ', len(data_raw.query('item_price>0')))\n",
    "print('negative price ', len(data_raw.query('item_price<0')))\n",
    "data_raw = data_raw.query('item_price > 0')"
   ]
  },
  {
   "cell_type": "markdown",
   "metadata": {},
   "source": [
    "### Data preprocessing\n",
    "- dropping the text features\n",
    "- We are asked to predict total sales for every product and store in the next month, and our data is given by day, so let's remove unwanted columns and aggregate the data by month."
   ]
  },
  {
   "cell_type": "code",
   "execution_count": null,
   "metadata": {
    "execution": {
     "iopub.execute_input": "2022-02-04T08:42:58.867262Z",
     "iopub.status.busy": "2022-02-04T08:42:58.866854Z",
     "iopub.status.idle": "2022-02-04T08:43:03.167826Z",
     "shell.execute_reply": "2022-02-04T08:43:03.166995Z",
     "shell.execute_reply.started": "2022-02-04T08:42:58.867231Z"
    }
   },
   "outputs": [],
   "source": [
    "test = pd.read_csv('../input/competitive-data-science-predict-future-sales/test.csv', dtype={'ID': 'int32', 'shop_id': 'int32', \n",
    "                                                  'item_id': 'int32'})\n",
    "item_categories = pd.read_csv('../input/competitive-data-science-predict-future-sales/item_categories.csv', \n",
    "                              dtype={'item_category_name': 'str', 'item_category_id': 'int32'})\n",
    "items = pd.read_csv('../input/competitive-data-science-predict-future-sales/items.csv', dtype={'item_name': 'str', 'item_id': 'int32', \n",
    "                                                 'item_category_id': 'int32'})\n",
    "shops = pd.read_csv('../input/competitive-data-science-predict-future-sales/shops.csv', dtype={'shop_name': 'str', 'shop_id': 'int32'})\n",
    "sales = pd.read_csv('../input/competitive-data-science-predict-future-sales/sales_train.csv', parse_dates=['date'], \n",
    "                    dtype={'date': 'str', 'date_block_num': 'int32', 'shop_id': 'int32', \n",
    "                          'item_id': 'int32', 'item_price': 'float32', 'item_cnt_day': 'int32'})\n",
    "\n",
    "# Join data sets\n",
    "train = sales.join(items, on='item_id', rsuffix='_').join(shops, on='shop_id', rsuffix='_').join(item_categories, on='item_category_id', rsuffix='_').drop(['item_id_', 'shop_id_', 'item_category_id_'], axis=1)\n",
    "\n",
    "def downcast_dtypes(df):\n",
    "    float_cols = [c for c in df if df[c].dtype == \"float64\"]\n",
    "    int_cols = [c for c in df if df[c].dtype in [\"int64\", \"int32\"]]\n",
    "    df[float_cols] = df[float_cols].astype(np.float32)\n",
    "    df[int_cols] = df[int_cols].astype(np.int16)\n",
    "    return df\n",
    "\n",
    "train = downcast_dtypes(train)\n",
    "test = downcast_dtypes(test)\n",
    "\n",
    "# Data leakages\n",
    "# About data leakages I'll only be using only the \"shop_id\" and \"item_id\" that appear on the test set.\n",
    "test_shop_ids = test['shop_id'].unique()\n",
    "test_item_ids = test['item_id'].unique()\n",
    "# Only shops that exist in test set.\n",
    "lk_train = train[train['shop_id'].isin(test_shop_ids)]\n",
    "# Only items that exist in test set.\n",
    "lk_train = lk_train[lk_train['item_id'].isin(test_item_ids)]\n",
    "train = train.query('item_price > 0')\n",
    "\n",
    "\n",
    "# Select only useful features.\n",
    "train_monthly = lk_train[['date', 'date_block_num', 'shop_id', 'item_category_id', 'item_id', 'item_price', 'item_cnt_day']]\n",
    "\n",
    "# Group by month in this case \"date_block_num\" and aggregate features.\n",
    "train_monthly = train_monthly.sort_values('date').groupby(['date_block_num', 'shop_id', 'item_category_id', 'item_id'], as_index=False)\n",
    "train_monthly = train_monthly.agg({'item_price':['sum', 'mean'], 'item_cnt_day':['sum', 'mean','count']})\n",
    "# Rename features.\n",
    "train_monthly.columns = ['date_block_num', 'shop_id', 'item_category_id', 'item_id', 'item_price', 'mean_item_price', 'item_cnt', 'mean_item_cnt', 'transactions']"
   ]
  },
  {
   "cell_type": "code",
   "execution_count": null,
   "metadata": {
    "execution": {
     "iopub.execute_input": "2022-02-04T08:43:03.169237Z",
     "iopub.status.busy": "2022-02-04T08:43:03.169047Z",
     "iopub.status.idle": "2022-02-04T08:43:03.194873Z",
     "shell.execute_reply": "2022-02-04T08:43:03.193714Z",
     "shell.execute_reply.started": "2022-02-04T08:43:03.169213Z"
    }
   },
   "outputs": [],
   "source": [
    "# To mimic the real behavior of the data we have to create the missing records from the loaded dataset, so for each month we need to create the missing records for each shop and item\n",
    "print(\"\\n ----------Missing value-----------\")\n",
    "print(train_monthly.isnull().sum())\n",
    "print(\"\\n ----------Null value-----------\")\n",
    "print(train_monthly.isna().sum())"
   ]
  },
  {
   "cell_type": "code",
   "execution_count": null,
   "metadata": {
    "execution": {
     "iopub.execute_input": "2022-02-04T08:43:03.196148Z",
     "iopub.status.busy": "2022-02-04T08:43:03.195929Z",
     "iopub.status.idle": "2022-02-04T08:43:15.214366Z",
     "shell.execute_reply": "2022-02-04T08:43:15.213697Z",
     "shell.execute_reply.started": "2022-02-04T08:43:03.196121Z"
    }
   },
   "outputs": [],
   "source": [
    "# Build a data set with all the possible combinations of ['date_block_num','shop_id','item_id'] so we won't have missing records.\n",
    "shop_ids = train_monthly['shop_id'].unique()\n",
    "item_ids = train_monthly['item_id'].unique()\n",
    "empty_df = []\n",
    "for i in range(34):\n",
    "    for shop in shop_ids:\n",
    "        for item in item_ids:\n",
    "            empty_df.append([i, shop, item])\n",
    "    \n",
    "empty_df = pd.DataFrame(empty_df, columns=['date_block_num','shop_id','item_id'])"
   ]
  },
  {
   "cell_type": "code",
   "execution_count": null,
   "metadata": {
    "execution": {
     "iopub.execute_input": "2022-02-04T08:43:15.215562Z",
     "iopub.status.busy": "2022-02-04T08:43:15.21535Z",
     "iopub.status.idle": "2022-02-04T08:43:22.108882Z",
     "shell.execute_reply": "2022-02-04T08:43:22.108043Z",
     "shell.execute_reply.started": "2022-02-04T08:43:15.215536Z"
    }
   },
   "outputs": [],
   "source": [
    "# Merge the train set with the complete set (missing records will be filled with 0).\n",
    "train_monthly = pd.merge(empty_df, train_monthly, on=['date_block_num','shop_id','item_id'], how='left')\n",
    "train_monthly.fillna(0, inplace=True)\n",
    "\n",
    "# Extract time based features.\n",
    "train_monthly['year'] = train_monthly['date_block_num'].apply(lambda x: ((x//12) + 2013))\n",
    "train_monthly['month'] = train_monthly['date_block_num'].apply(lambda x: (x % 12))"
   ]
  },
  {
   "cell_type": "code",
   "execution_count": null,
   "metadata": {
    "execution": {
     "iopub.execute_input": "2022-02-04T08:43:22.11021Z",
     "iopub.status.busy": "2022-02-04T08:43:22.109992Z",
     "iopub.status.idle": "2022-02-04T08:43:22.786188Z",
     "shell.execute_reply": "2022-02-04T08:43:22.785401Z",
     "shell.execute_reply.started": "2022-02-04T08:43:22.110183Z"
    }
   },
   "outputs": [],
   "source": [
    "##### reduce the amount of data\n",
    "\n",
    "def reduce_mem_usage(df, verbose=True):\n",
    "    numerics = ['int16', 'int32', 'int64', 'float16', 'float32', 'float64']\n",
    "    start_mem = df.memory_usage().sum() / 1024**2\n",
    "    for col in df.columns:\n",
    "        col_type = df[col].dtypes\n",
    "        if col_type in numerics:\n",
    "            c_min = df[col].min()\n",
    "            c_max = df[col].max()\n",
    "            if str(col_type)[:3] == 'int':\n",
    "                if c_min > np.iinfo(np.int8).min and c_max < np.iinfo(np.int8).max:\n",
    "                    df[col] = df[col].astype(np.int8)\n",
    "                elif c_min > np.iinfo(np.int16).min and c_max < np.iinfo(np.int16).max:\n",
    "                    df[col] = df[col].astype(np.int16)\n",
    "                elif c_min > np.iinfo(np.int32).min and c_max < np.iinfo(np.int32).max:\n",
    "                    df[col] = df[col].astype(np.int32)\n",
    "                elif c_min > np.iinfo(np.int64).min and c_max < np.iinfo(np.int64).max:\n",
    "                    df[col] = df[col].astype(np.int64)\n",
    "            else:\n",
    "                if c_min > np.finfo(np.float16).min and c_max < np.finfo(np.float16).max:\n",
    "                    df[col] = df[col].astype(np.float16)\n",
    "                elif c_min > np.finfo(np.float32).min and c_max < np.finfo(np.float32).max:\n",
    "                    df[col] = df[col].astype(np.float32)\n",
    "                else:\n",
    "                    df[col] = df[col].astype(np.float64)\n",
    "\n",
    "    end_mem = df.memory_usage().sum() / 1024**2\n",
    "    print('Memory usage after optimization is: {:.2f} MB'.format(end_mem))\n",
    "    print('Decreased by {:.1f}%'.format(100 * (start_mem - end_mem) / start_mem))\n",
    "\n",
    "    return df\n",
    "\n",
    "reduce_mem_usage(train_monthly)"
   ]
  },
  {
   "cell_type": "code",
   "execution_count": null,
   "metadata": {
    "execution": {
     "iopub.execute_input": "2022-02-04T08:43:22.788085Z",
     "iopub.status.busy": "2022-02-04T08:43:22.787637Z",
     "iopub.status.idle": "2022-02-04T08:49:36.585076Z",
     "shell.execute_reply": "2022-02-04T08:49:36.584314Z",
     "shell.execute_reply.started": "2022-02-04T08:43:22.788043Z"
    }
   },
   "outputs": [],
   "source": [
    "# Removing outliers\n",
    "# I'll treat \"item_cnt\" > 20 and < 0, \"item_price\" >= 400000 as outliers, so I'll remove them.\n",
    "train_monthly = train_monthly.query('item_cnt >= 0 and item_cnt <= 20 and item_price < 400000')\n",
    "\n",
    "# Creating the label\n",
    "# Our label will be the \"item_cnt\" of the next month, as we are dealing with a forecast problem.\n",
    "train_monthly['item_cnt_month'] = train_monthly.sort_values('date_block_num').groupby(['shop_id', 'item_id'])['item_cnt'].shift(-1)\n",
    "\n",
    "# Feature engineering\n",
    "# Unitary item prices.\n",
    "train_monthly['item_price_unit'] = train_monthly['item_price'] // train_monthly['item_cnt']\n",
    "train_monthly['item_price_unit'].fillna(0, inplace=True)\n",
    "\n",
    "# Group based features\n",
    "gp_item_price = train_monthly.sort_values('date_block_num').groupby(['item_id'], as_index=False).agg({'item_price':[np.min, np.max]})\n",
    "gp_item_price.columns = ['item_id', 'hist_min_item_price', 'hist_max_item_price']\n",
    "\n",
    "train_monthly = pd.merge(train_monthly, gp_item_price, on='item_id', how='left')\n",
    "\n",
    "# How much each item's price changed from its (lowest/highest) historical price.\n",
    "train_monthly['price_increase'] = train_monthly['item_price'] - train_monthly['hist_min_item_price']\n",
    "train_monthly['price_decrease'] = train_monthly['hist_max_item_price'] - train_monthly['item_price']\n",
    "\n",
    "\n",
    "print('Rolling window based features')\n",
    "# Rolling window based features (window = 3 months)\n",
    "# Min value\n",
    "f_min = lambda x: x.rolling(window=3, min_periods=1).min()\n",
    "# Max value\n",
    "f_max = lambda x: x.rolling(window=3, min_periods=1).max()\n",
    "# Mean value\n",
    "f_mean = lambda x: x.rolling(window=3, min_periods=1).mean()\n",
    "# Standard deviation\n",
    "f_std = lambda x: x.rolling(window=3, min_periods=1).std()\n",
    "\n",
    "function_list = [f_min, f_max, f_mean, f_std]\n",
    "function_name = ['min', 'max', 'mean', 'std']\n",
    "\n",
    "for i in range(len(function_list)):\n",
    "    train_monthly[('item_cnt_%s' % function_name[i])] = train_monthly.sort_values('date_block_num').groupby(['shop_id', 'item_category_id', 'item_id'])['item_cnt'].apply(function_list[i])\n",
    "    print('function', i)\n",
    "    \n",
    "# Fill the empty std features with 0\n",
    "train_monthly['item_cnt_std'].fillna(0, inplace=True)\n",
    "\n",
    "# Lag based features\n",
    "lag_list = [1, 2, 3]\n",
    "\n",
    "for lag in lag_list:\n",
    "    ft_name = ('item_cnt_shifted%s' % lag)\n",
    "    train_monthly[ft_name] = train_monthly.sort_values('date_block_num').groupby(['shop_id', 'item_category_id', 'item_id'])['item_cnt'].shift(lag)\n",
    "    # Fill the empty shifted features with 0\n",
    "    train_monthly[ft_name].fillna(0, inplace=True)\n",
    "    \n",
    "# Item sales count trend\n",
    "train_monthly['item_trend'] = train_monthly['item_cnt']\n",
    "\n",
    "for lag in lag_list:\n",
    "    ft_name = ('item_cnt_shifted%s' % lag)\n",
    "    train_monthly['item_trend'] -= train_monthly[ft_name]\n",
    "\n",
    "train_monthly['item_trend'] /= len(lag_list) + 1\n",
    "\n",
    "train_set = train_monthly.query('date_block_num >= 3 and date_block_num < 28').copy()\n",
    "validation_set = train_monthly.query('date_block_num >= 28 and date_block_num < 33').copy()\n",
    "test_set = train_monthly.query('date_block_num == 33').copy()"
   ]
  },
  {
   "cell_type": "code",
   "execution_count": null,
   "metadata": {
    "execution": {
     "iopub.execute_input": "2022-02-04T08:49:36.586753Z",
     "iopub.status.busy": "2022-02-04T08:49:36.586487Z",
     "iopub.status.idle": "2022-02-04T08:49:38.678273Z",
     "shell.execute_reply": "2022-02-04T08:49:38.677544Z",
     "shell.execute_reply.started": "2022-02-04T08:49:36.586723Z"
    }
   },
   "outputs": [],
   "source": [
    "train_set.dropna(subset=['item_cnt_month'], inplace=True)\n",
    "validation_set.dropna(subset=['item_cnt_month'], inplace=True)\n",
    "\n",
    "train_set.dropna(inplace=True)\n",
    "validation_set.dropna(inplace=True)\n",
    "\n",
    "print('Train set records:', train_set.shape[0])\n",
    "print('Validation set records:', validation_set.shape[0])\n",
    "print('Test set records:', test_set.shape[0])\n",
    "\n",
    "print('Train set records: %s (%.f%% of complete data)' % (train_set.shape[0], ((train_set.shape[0]/train_monthly.shape[0])*100)))\n",
    "print('Validation set records: %s (%.f%% of complete data)' % (validation_set.shape[0], ((validation_set.shape[0]/train_monthly.shape[0])*100)))"
   ]
  },
  {
   "cell_type": "code",
   "execution_count": null,
   "metadata": {
    "execution": {
     "iopub.execute_input": "2022-02-04T08:49:38.679432Z",
     "iopub.status.busy": "2022-02-04T08:49:38.679252Z",
     "iopub.status.idle": "2022-02-04T08:49:48.533805Z",
     "shell.execute_reply": "2022-02-04T08:49:48.532894Z",
     "shell.execute_reply.started": "2022-02-04T08:49:38.679408Z"
    }
   },
   "outputs": [],
   "source": [
    "# Shop mean encoding.\n",
    "gp_shop_mean = train_set.groupby(['shop_id']).agg({'item_cnt_month': ['mean']})\n",
    "gp_shop_mean.columns = ['shop_mean']\n",
    "gp_shop_mean.reset_index(inplace=True)\n",
    "# Item mean encoding.\n",
    "gp_item_mean = train_set.groupby(['item_id']).agg({'item_cnt_month': ['mean']})\n",
    "gp_item_mean.columns = ['item_mean']\n",
    "gp_item_mean.reset_index(inplace=True)\n",
    "# Shop with item mean encoding.\n",
    "gp_shop_item_mean = train_set.groupby(['shop_id', 'item_id']).agg({'item_cnt_month': ['mean']})\n",
    "gp_shop_item_mean.columns = ['shop_item_mean']\n",
    "gp_shop_item_mean.reset_index(inplace=True)\n",
    "# Year mean encoding.\n",
    "gp_year_mean = train_set.groupby(['year']).agg({'item_cnt_month': ['mean']})\n",
    "gp_year_mean.columns = ['year_mean']\n",
    "gp_year_mean.reset_index(inplace=True)\n",
    "# Month mean encoding.\n",
    "gp_month_mean = train_set.groupby(['month']).agg({'item_cnt_month': ['mean']})\n",
    "gp_month_mean.columns = ['month_mean']\n",
    "gp_month_mean.reset_index(inplace=True)\n",
    "\n",
    "# Add meand encoding features to train set.\n",
    "train_set = pd.merge(train_set, gp_shop_mean, on=['shop_id'], how='left')\n",
    "train_set = pd.merge(train_set, gp_item_mean, on=['item_id'], how='left')\n",
    "train_set = pd.merge(train_set, gp_shop_item_mean, on=['shop_id', 'item_id'], how='left')\n",
    "train_set = pd.merge(train_set, gp_year_mean, on=['year'], how='left')\n",
    "train_set = pd.merge(train_set, gp_month_mean, on=['month'], how='left')\n",
    "\n",
    "# Add meand encoding features to validation set.\n",
    "validation_set = pd.merge(validation_set, gp_shop_mean, on=['shop_id'], how='left')\n",
    "validation_set = pd.merge(validation_set, gp_item_mean, on=['item_id'], how='left')\n",
    "validation_set = pd.merge(validation_set, gp_shop_item_mean, on=['shop_id', 'item_id'], how='left')\n",
    "validation_set = pd.merge(validation_set, gp_year_mean, on=['year'], how='left')\n",
    "validation_set = pd.merge(validation_set, gp_month_mean, on=['month'], how='left')"
   ]
  },
  {
   "cell_type": "markdown",
   "metadata": {
    "_cell_guid": "f7972928-84b5-47b1-98b6-3e47bc7ddb17",
    "_uuid": "eb0a15c2065a827c3c5431622c04707f3e9d2e52"
   },
   "source": [
    "## 3.23 Convert Formats\n",
    "\n",
    "We will convert categorical data to dummy variables for mathematical analysis. There are multiple ways to encode categorical variables; we will use the sklearn and pandas functions.\n",
    "\n",
    "In this step, we will also define our x (independent/features/explanatory/predictor/etc.) and y (dependent/target/outcome/response/etc.) variables for data modeling.\n",
    "\n",
    "** Developer Documentation: **\n",
    "* [Categorical Encoding](http://pbpython.com/categorical-encoding.html)\n",
    "* [Sklearn LabelEncoder](http://scikit-learn.org/stable/modules/generated/sklearn.preprocessing.LabelEncoder.html)\n",
    "* [Sklearn OneHotEncoder](http://scikit-learn.org/stable/modules/generated/sklearn.preprocessing.OneHotEncoder.html)\n",
    "* [Pandas Categorical dtype](https://pandas.pydata.org/pandas-docs/stable/categorical.html)\n",
    "* [pandas.get_dummies](https://pandas.pydata.org/pandas-docs/stable/generated/pandas.get_dummies.html)"
   ]
  },
  {
   "cell_type": "code",
   "execution_count": null,
   "metadata": {
    "execution": {
     "iopub.execute_input": "2022-02-04T08:49:48.535129Z",
     "iopub.status.busy": "2022-02-04T08:49:48.534886Z",
     "iopub.status.idle": "2022-02-04T08:49:48.970279Z",
     "shell.execute_reply": "2022-02-04T08:49:48.969412Z",
     "shell.execute_reply.started": "2022-02-04T08:49:48.535102Z"
    }
   },
   "outputs": [],
   "source": [
    "#define y variable aka target/outcome\n",
    "Target = ['item_cnt_month']\n",
    "\n",
    "# data1_x = ['date_block_num', 'shop_id', 'item_id', 'item_category_id',\n",
    "#        'item_price', 'mean_item_price', 'item_cnt', 'mean_item_cnt',\n",
    "#        'transactions', 'year', 'month', 'item_price_unit',\n",
    "#        'hist_min_item_price', 'hist_max_item_price', 'price_increase',\n",
    "#        'price_decrease', 'item_cnt_min', 'item_cnt_max', 'item_cnt_mean',\n",
    "#        'item_cnt_std', 'item_cnt_shifted1', 'item_cnt_shifted2',\n",
    "#        'item_cnt_shifted3', 'item_trend', 'shop_mean', 'item_mean',\n",
    "#        'shop_item_mean', 'year_mean', 'month_mean']\n",
    "\n",
    "#define x variables for original features aka feature selection\n",
    "data1_x = ['date_block_num', 'shop_id', 'item_id', 'item_category_id', 'item_price', 'item_cnt', 'year', 'month'] #pretty name/values for charts\n",
    "\n",
    "data1_x_calc = ['date_block_num', 'shop_id', 'item_id', 'item_category_id', 'item_price', 'item_cnt', 'year', 'month'] #coded for algorithm calculation\n",
    "data1_xy =  Target + data1_x\n",
    "print('Original X Y: ', data1_xy, '\\n')\n",
    "\n",
    "\n",
    "#define x variables for original w/bin features to remove continuous variables\n",
    "data1_x_bin = ['date_block_num', 'shop_id', 'item_id', 'item_category_id', 'item_price', 'item_cnt', 'year', 'month']\n",
    "data1_xy_bin = Target + data1_x_bin\n",
    "print('Bin X Y: ', data1_xy_bin, '\\n')\n",
    "\n",
    "\n",
    "#define x and y variables for dummy features original\n",
    "data1_dummy = pd.get_dummies(train_set[data1_x])\n",
    "data1_x_dummy = data1_dummy.columns.tolist()\n",
    "data1_xy_dummy = Target + data1_x_dummy\n",
    "print('Dummy X Y: ', data1_xy_dummy, '\\n')\n",
    "\n",
    "\n",
    "data1_dummy.head()"
   ]
  },
  {
   "cell_type": "markdown",
   "metadata": {
    "_cell_guid": "43ae9ddf-85b6-4abd-89a7-cfb0ff70ebad",
    "_uuid": "9f4b880b2e485e6bc4b6a64113b8f816e2319e85"
   },
   "source": [
    "## 3.24 Da-Double Check Cleaned Data\n",
    "\n",
    "Now that we've cleaned our data, let's do a discount da-double check!"
   ]
  },
  {
   "cell_type": "code",
   "execution_count": null,
   "metadata": {
    "_cell_guid": "00d10c37-5d8a-4eaf-8fe8-25a0b58e0bfd",
    "_uuid": "e2ef29db7e31dc83c10238ee33ad4ad0ad426183",
    "execution": {
     "iopub.execute_input": "2022-02-04T08:49:48.97205Z",
     "iopub.status.busy": "2022-02-04T08:49:48.971678Z",
     "iopub.status.idle": "2022-02-04T08:49:48.976836Z",
     "shell.execute_reply": "2022-02-04T08:49:48.975678Z",
     "shell.execute_reply.started": "2022-02-04T08:49:48.972008Z"
    }
   },
   "outputs": [],
   "source": [
    "# print('Train columns with null values: \\n', data1.isnull().sum())\n",
    "# print(\"-\"*10)\n",
    "# print (data1.info())\n",
    "# print(\"-\"*10)\n",
    "\n",
    "# print('Test/Validation columns with null values: \\n', data_val.isnull().sum())\n",
    "# print(\"-\"*10)\n",
    "# print (data_val.info())\n",
    "# print(\"-\"*10)\n",
    "\n",
    "# data_raw.describe(include = 'all')"
   ]
  },
  {
   "cell_type": "markdown",
   "metadata": {
    "_cell_guid": "e1ffcb68-17a5-43e0-b7e1-4a0b9d33dbdd",
    "_uuid": "9b4b6e1f40e310274447c880760b87ec6a0c7c77"
   },
   "source": [
    "## 3.25 Split Training and Testing Data\n",
    "\n",
    "As mentioned previously, the test file provided is really validation data for competition submission. So, we will use *sklearn* function to split the training data in two datasets; 75/25 split. This is important, so we don't [overfit our model](https://www.coursera.org/learn/python-machine-learning/lecture/fVStr/overfitting-and-underfitting). Meaning, the algorithm is so specific to a given subset, it cannot accurately generalize another subset, from the same dataset. It's important our algorithm has not seen the subset we will use to test, so it doesn't \"cheat\" by memorizing the answers. We will use [*sklearn's* train_test_split function](http://scikit-learn.org/stable/modules/generated/sklearn.model_selection.train_test_split.html). In later sections we will also use [*sklearn's* cross validation functions](http://scikit-learn.org/stable/modules/cross_validation.html#cross-validation), that splits our dataset into train and test for data modeling comparison."
   ]
  },
  {
   "cell_type": "code",
   "execution_count": null,
   "metadata": {
    "execution": {
     "iopub.execute_input": "2022-02-04T08:49:48.978255Z",
     "iopub.status.busy": "2022-02-04T08:49:48.97797Z",
     "iopub.status.idle": "2022-02-04T08:49:49.218337Z",
     "shell.execute_reply": "2022-02-04T08:49:49.217571Z",
     "shell.execute_reply.started": "2022-02-04T08:49:48.978218Z"
    }
   },
   "outputs": [],
   "source": [
    "# train_set.columns\n",
    "# validation_set.columns\n",
    "data1= train_set.copy(deep = True)\n",
    "data_val=validation_set.copy(deep = True)"
   ]
  },
  {
   "cell_type": "code",
   "execution_count": null,
   "metadata": {
    "_cell_guid": "15e84f99-e015-4e0a-bd0a-2f856ffad1f6",
    "_uuid": "f9eb9f6e78235a38580ee3125ede17b836edabb3",
    "execution": {
     "iopub.execute_input": "2022-02-04T08:49:49.219892Z",
     "iopub.status.busy": "2022-02-04T08:49:49.219603Z",
     "iopub.status.idle": "2022-02-04T08:49:52.824758Z",
     "shell.execute_reply": "2022-02-04T08:49:52.823944Z",
     "shell.execute_reply.started": "2022-02-04T08:49:49.219853Z"
    }
   },
   "outputs": [],
   "source": [
    "#split train and test data with function defaults\n",
    "#random_state -> seed or control random number generator: https://www.quora.com/What-is-seed-in-random-number-generation\n",
    "train1_x, test1_x, train1_y, test1_y = model_selection.train_test_split(data1[data1_x_calc], data1[Target], random_state = 0)\n",
    "train1_x_bin, test1_x_bin, train1_y_bin, test1_y_bin = model_selection.train_test_split(data1[data1_x_bin], data1[Target] , random_state = 0)\n",
    "train1_x_dummy, test1_x_dummy, train1_y_dummy, test1_y_dummy = model_selection.train_test_split(data1_dummy[data1_x_dummy], data1[Target], random_state = 0)\n",
    "\n",
    "\n",
    "print(\"Data1 Shape: {}\".format(data1.shape))\n",
    "print(\"Train1 Shape: {}\".format(train1_x.shape))\n",
    "print(\"Test1 Shape: {}\".format(test1_x.shape))\n",
    "\n",
    "train1_x_bin.head()"
   ]
  },
  {
   "cell_type": "markdown",
   "metadata": {
    "_cell_guid": "8a13c80c-9f6b-405a-bba2-d3fb9b1cf19d",
    "_uuid": "d3d49dc8106082d149dc4058b002355fc809726b"
   },
   "source": [
    "<a id=\"ch6\"></a>\n",
    "# Step 4: Perform Exploratory Analysis with Statistics\n",
    "Now that our data is cleaned, we will explore our data with descriptive and graphical statistics to describe and summarize our variables. In this stage, you will find yourself classifying features and determining their correlation with the target variable and each other."
   ]
  },
  {
   "cell_type": "code",
   "execution_count": null,
   "metadata": {
    "_cell_guid": "f14819d3-e23c-40fa-a281-375e8777a47b",
    "_uuid": "5355b0e45b130a1fd574510141f65e62ebfe2148",
    "execution": {
     "iopub.execute_input": "2022-02-04T08:49:52.826895Z",
     "iopub.status.busy": "2022-02-04T08:49:52.826204Z",
     "iopub.status.idle": "2022-02-04T08:49:54.386859Z",
     "shell.execute_reply": "2022-02-04T08:49:54.386002Z",
     "shell.execute_reply.started": "2022-02-04T08:49:52.826848Z"
    }
   },
   "outputs": [],
   "source": [
    "#Discrete Variable Correlation by Survival using\n",
    "#group by aka pivot table: https://pandas.pydata.org/pandas-docs/stable/generated/pandas.DataFrame.groupby.html\n",
    "for x in data1_x:\n",
    "    if data1[x].dtype != 'float64' :\n",
    "        print('Survival Correlation by:', x)\n",
    "        print(data1[[x, Target[0]]].groupby(x, as_index=False).mean())\n",
    "        print('-'*10, '\\n')\n",
    "        \n",
    "\n",
    "#using crosstabs: https://pandas.pydata.org/pandas-docs/stable/generated/pandas.crosstab.html\n",
    "# print(pd.crosstab(data1['Title'],data1[Target[0]]))\n"
   ]
  },
  {
   "cell_type": "code",
   "execution_count": null,
   "metadata": {
    "_cell_guid": "fbfaf416-4eb7-45fc-8ee2-123852ee6a7d",
    "_uuid": "d599e6d35f40e66f3f2bd162b2d9087d10ed443d",
    "execution": {
     "iopub.execute_input": "2022-02-04T08:49:54.388598Z",
     "iopub.status.busy": "2022-02-04T08:49:54.388116Z",
     "iopub.status.idle": "2022-02-04T08:50:11.809734Z",
     "shell.execute_reply": "2022-02-04T08:50:11.808887Z",
     "shell.execute_reply.started": "2022-02-04T08:49:54.388554Z"
    }
   },
   "outputs": [],
   "source": [
    "#correlation heatmap of dataset\n",
    "def correlation_heatmap(df):\n",
    "    _ , ax = plt.subplots(figsize =(14, 12))\n",
    "    colormap = sns.diverging_palette(220, 10, as_cmap = True)\n",
    "    \n",
    "    _ = sns.heatmap(\n",
    "        df.corr(), \n",
    "        cmap = colormap,\n",
    "        square=True, \n",
    "        cbar_kws={'shrink':.9 }, \n",
    "        ax=ax,\n",
    "        annot=True, \n",
    "        linewidths=0.1,vmax=1.0, linecolor='white',\n",
    "        annot_kws={'fontsize':12 }\n",
    "    )\n",
    "    \n",
    "    plt.title('Pearson Correlation of Features', y=1.05, size=15)\n",
    "\n",
    "correlation_heatmap(data1)"
   ]
  },
  {
   "cell_type": "markdown",
   "metadata": {
    "_cell_guid": "079d255c-e55e-482b-be9f-ae6b23015790",
    "_uuid": "1f4f5f75093fdcec864a835d94cd5d9a05b591c5"
   },
   "source": [
    "<a id=\"ch7\"></a>\n",
    "# Step 5: Model Data\n",
    "Data Science is a multi-disciplinary field between mathematics (i.e. statistics, linear algebra, etc.), computer science (i.e. programming languages, computer systems, etc.) and business management (i.e. communication, subject-matter knowledge, etc.). Most data scientist come from one of the three fields, so they tend to lean towards that discipline. However, data science is like a three-legged stool, with no one leg being more important than the other. So, this step will require advanced knowledge in mathematics. But don’t worry, we only need a high-level overview, which we’ll cover in this Kernel. Also, thanks to computer science, a lot of the heavy lifting is done for you. So, problems that once required graduate degrees in mathematics or statistics, now only take a few lines of code. Last, we’ll need some business acumen to think through the problem. After all, like training a sight-seeing dog, it’s learning from us and not the other way around.\n",
    "\n",
    "Machine Learning (ML), as the name suggest, is teaching the machine how-to think and not what to think. While this topic and big data has been around for decades, it is becoming more popular than ever because the barrier to entry is lower, for businesses and professionals alike. This is both good and bad. It’s good because these algorithms are now accessible to more people that can solve more problems in the real-world. It’s bad because a lower barrier to entry means, more people will not know the tools they are using and can come to incorrect conclusions. That’s why I focus on teaching you, not just what to do, but why you’re doing it. Previously, I used the analogy of asking someone to hand you a Philip screwdriver, and they hand you a flathead screwdriver or worst a hammer. At best, it shows a complete lack of understanding. At worst, it makes completing the project impossible; or even worst, implements incorrect actionable intelligence. So now that I’ve hammered (no pun intended) my point, I’ll show you what to do and most importantly, WHY you do it.\n",
    "\n",
    "First, you must understand, that the purpose of machine learning is to solve human problems. Machine learning can be categorized as: supervised learning, unsupervised learning, and reinforced learning. Supervised learning is where you train the model by presenting it a training dataset that includes the correct answer. Unsupervised learning is where you train the model using a training dataset that does not include the correct answer. And reinforced learning is a hybrid of the previous two, where the model is not given the correct answer immediately, but later after a sequence of events to reinforce learning. We are doing supervised machine learning, because we are training our algorithm by presenting it with a set of features and their corresponding target. We then hope to present it a new subset from the same dataset and have similar results in prediction accuracy.\n",
    "\n",
    "There are many machine learning algorithms, however they can be reduced to four categories: classification, regression, clustering, or dimensionality reduction, depending on your target variable and data modeling goals. We'll save clustering and dimension reduction for another day, and focus on classification and regression. We can generalize that a continuous target variable requires a regression algorithm and a discrete target variable requires a classification algorithm. One side note, logistic regression, while it has regression in the name, is really a classification algorithm. Since our problem is predicting if a passenger survived or did not survive, this is a discrete target variable. We will use a classification algorithm from the *sklearn* library to begin our analysis. We will use cross validation and scoring metrics, discussed in later sections, to rank and compare our algorithms’ performance.\n",
    "\n",
    "**Machine Learning Selection:**\n",
    "* [Sklearn Estimator Overview](http://scikit-learn.org/stable/user_guide.html)\n",
    "* [Sklearn Estimator Detail](http://scikit-learn.org/stable/modules/classes.html)\n",
    "* [Choosing Estimator Mind Map](http://scikit-learn.org/stable/tutorial/machine_learning_map/index.html)\n",
    "* [Choosing Estimator Cheat Sheet](https://s3.amazonaws.com/assets.datacamp.com/blog_assets/Scikit_Learn_Cheat_Sheet_Python.pdf)\n",
    "\n",
    "\n",
    "Now that we identified our solution as a supervised learning classification algorithm. We can narrow our list of choices.\n",
    "\n",
    "**Machine Learning Classification Algorithms:**\n",
    "* [Ensemble Methods](http://scikit-learn.org/stable/modules/classes.html#module-sklearn.ensemble)\n",
    "* [Generalized Linear Models (GLM)](http://scikit-learn.org/stable/modules/classes.html#module-sklearn.linear_model)\n",
    "* [Naive Bayes](http://scikit-learn.org/stable/modules/classes.html#module-sklearn.naive_bayes)\n",
    "* [Nearest Neighbors](http://scikit-learn.org/stable/modules/classes.html#module-sklearn.neighbors)\n",
    "* [Support Vector Machines (SVM)](http://scikit-learn.org/stable/modules/classes.html#module-sklearn.svm)\n",
    "* [Decision Trees](http://scikit-learn.org/stable/modules/classes.html#module-sklearn.tree)\n",
    "* [Discriminant Analysis](http://scikit-learn.org/stable/modules/classes.html#module-sklearn.discriminant_analysis)\n",
    "\n",
    "\n",
    "### Data Science 101: How to Choose a Machine Learning Algorithm (MLA)\n",
    "**IMPORTANT:** When it comes to data modeling, the beginner’s question is always, \"what is the best machine learning algorithm?\" To this the beginner must learn, the [No Free Lunch Theorem (NFLT)](http://robertmarks.org/Classes/ENGR5358/Papers/NFL_4_Dummies.pdf) of Machine Learning. In short, NFLT states, there is no super algorithm, that works best in all situations, for all datasets. So the best approach is to try multiple MLAs, tune them, and compare them for your specific scenario. With that being said, some good research has been done to compare algorithms, such as [Caruana & Niculescu-Mizil 2006](https://www.cs.cornell.edu/~caruana/ctp/ct.papers/caruana.icml06.pdf) watch [video lecture here](http://videolectures.net/solomon_caruana_wslmw/) of MLA comparisons, [Ogutu et al. 2011](https://www.ncbi.nlm.nih.gov/pmc/articles/PMC3103196/) done by the NIH for genomic selection, [Fernandez-Delgado et al. 2014](http://jmlr.org/papers/volume15/delgado14a/delgado14a.pdf) comparing 179 classifiers from 17 families, [Thoma 2016 sklearn comparison](https://martin-thoma.com/comparing-classifiers/), and there is also a school of thought that says, [more data beats a better algorithm](https://www.kdnuggets.com/2015/06/machine-learning-more-data-better-algorithms.html). \n",
    "\n",
    "So with all this information, where is a beginner to start? I recommend starting with [Trees, Bagging, Random Forests, and Boosting](http://jessica2.msri.org/attachments/10778/10778-boost.pdf). They are basically different implementations of a decision tree, which is the easiest concept to learn and understand. They are also easier to tune, discussed in the next section, than something like SVC. Below, I'll give an overview of how-to run and compare several MLAs, but the rest of this Kernel will focus on learning data modeling via decision trees and its derivatives."
   ]
  },
  {
   "cell_type": "code",
   "execution_count": null,
   "metadata": {
    "execution": {
     "iopub.execute_input": "2022-02-04T08:50:11.81125Z",
     "iopub.status.busy": "2022-02-04T08:50:11.81105Z",
     "iopub.status.idle": "2022-02-04T08:50:15.095282Z",
     "shell.execute_reply": "2022-02-04T08:50:15.09429Z",
     "shell.execute_reply.started": "2022-02-04T08:50:11.811226Z"
    }
   },
   "outputs": [],
   "source": [
    "# data1.isnull().any()\n",
    "# data1 = data1.fillna(lambda x: x.median())\n",
    "# data1.describe()\n",
    "# data1.info()\n",
    "# data1.replace([np.inf, -np.inf], np.nan, inplace=True)\n",
    "# data1.isnull().sum()\n",
    "# data1[Target].describe()\n",
    "# data1[data1_x_bin].replace([np.inf, -np.inf], np.nan, inplace=True)\n",
    "# data1[data1_x_bin].describe()\n",
    "\n",
    "\n",
    "reduce_mem_usage(data1)\n",
    "# reduce_mem_usage(data1[data1_x_bin])\n"
   ]
  },
  {
   "cell_type": "code",
   "execution_count": null,
   "metadata": {
    "_cell_guid": "68816e33-19bc-482e-b4e8-062098b18798",
    "_uuid": "979ae81e95cf760f05e94853b932b5101198b4e9",
    "execution": {
     "iopub.execute_input": "2022-02-04T08:50:15.096953Z",
     "iopub.status.busy": "2022-02-04T08:50:15.096712Z"
    }
   },
   "outputs": [],
   "source": [
    "#Machine Learning Algorithm (MLA) Selection and Initialization\n",
    "MLA = [\n",
    "    #Ensemble Methods\n",
    "    ensemble.AdaBoostClassifier(), # 1h +\n",
    "    ensemble.BaggingClassifier(), # 1h +\n",
    "#     ensemble.ExtraTreesClassifier(), # - allocate more memory \n",
    "#     ensemble.GradientBoostingClassifier(),  # 4h> ???\n",
    "#     ensemble.RandomForestClassifier(), # - allocate more memory \n",
    "\n",
    "    #Gaussian Processes\n",
    "#     gaussian_process.GaussianProcessClassifier(),  # - allocate more memory\n",
    "    \n",
    "    #GLM\n",
    "#     linear_model.LogisticRegressionCV(),  # 1h - allocate more memory\n",
    "    linear_model.PassiveAggressiveClassifier(),  # 0.7h +\n",
    "    linear_model.RidgeClassifierCV(),  # 0.5h +\n",
    "#     linear_model.SGDClassifier(),  # 4h> ???\n",
    "    linear_model.Perceptron(),  # +\n",
    "    \n",
    "#     #Navies Bayes\n",
    "    naive_bayes.BernoulliNB(), # +\n",
    "    naive_bayes.GaussianNB(),  # +\n",
    "    \n",
    "#     #Nearest Neighbor\n",
    "#     neighbors.KNeighborsClassifier(),  # more 1h -\n",
    "    \n",
    "#     #SVM\n",
    "#     svm.SVC(probability=True),  # more 2h -\n",
    "#     svm.NuSVC(probability=True),  # specified nu is infeasible -\n",
    "#     svm.LinearSVC(),  # more 2h -\n",
    "    \n",
    "#     #Trees    \n",
    "    tree.DecisionTreeClassifier(),\n",
    "#     tree.ExtraTreeClassifier(),\n",
    "    \n",
    "#     #Discriminant Analysis\n",
    "#     discriminant_analysis.LinearDiscriminantAnalysis(),\n",
    "#     discriminant_analysis.QuadraticDiscriminantAnalysis(),\n",
    "\n",
    "    \n",
    "#     #xgboost: http://xgboost.readthedocs.io/en/latest/model.html\n",
    "#     XGBClassifier()    \n",
    "    ]\n",
    "\n",
    "\n",
    "\n",
    "#split dataset in cross-validation with this splitter class: http://scikit-learn.org/stable/modules/generated/sklearn.model_selection.ShuffleSplit.html#sklearn.model_selection.ShuffleSplit\n",
    "#note: this is an alternative to train_test_split\n",
    "cv_split = model_selection.ShuffleSplit(n_splits = 10, test_size = .3, train_size = .6, random_state = 0 ) # run model 10x with 60/30 split intentionally leaving out 10%\n",
    "print('Split done!')\n",
    "\n",
    "#create table to compare MLA metrics\n",
    "MLA_columns = ['MLA Name', 'MLA Parameters','MLA Train Accuracy Mean', 'MLA Test Accuracy Mean', 'MLA Test Accuracy 3*STD' ,'MLA Time']\n",
    "MLA_compare = pd.DataFrame(columns = MLA_columns)\n",
    "\n",
    "#create table to compare MLA predictions\n",
    "MLA_predict = data1[Target]\n",
    "\n",
    "print('Start prediction')\n",
    "#index through MLA and save performance to table\n",
    "row_index = 0\n",
    "for alg in MLA:    \n",
    "    #set name and parameters\n",
    "    MLA_name = alg.__class__.__name__\n",
    "    MLA_compare.loc[row_index, 'MLA Name'] = MLA_name\n",
    "    MLA_compare.loc[row_index, 'MLA Parameters'] = str(alg.get_params())\n",
    "    \n",
    "    #score model with cross validation: http://scikit-learn.org/stable/modules/generated/sklearn.model_selection.cross_validate.html#sklearn.model_selection.cross_validate\n",
    "#     cv_results = model_selection.cross_validate(alg, data1[data1_x_bin], data1[Target], cv  = cv_split)\n",
    "    cv_results = model_selection.cross_validate(alg, data1[data1_x_bin], data1[Target], cv = cv_split, return_train_score=True)\n",
    "    MLA_compare.loc[row_index, 'MLA Time'] = cv_results['fit_time'].mean()\n",
    "    MLA_compare.loc[row_index, 'MLA Train Accuracy Mean'] = cv_results['train_score'].mean()    \n",
    "    MLA_compare.loc[row_index, 'MLA Test Accuracy Mean'] = cv_results['test_score'].mean()   \n",
    "    #if this is a non-bias random sample, then +/-3 standard deviations (std) from the mean, should statistically capture 99.7% of the subsets\n",
    "    MLA_compare.loc[row_index, 'MLA Test Accuracy 3*STD'] = cv_results['test_score'].std()*3   #let's know the worst that can happen!  \n",
    "    \n",
    "    \n",
    "    #save MLA predictions - see section 6 for usage\n",
    "    alg.fit(data1[data1_x_bin], data1[Target])\n",
    "    MLA_predict[MLA_name] = alg.predict(data1[data1_x_bin])\n",
    "    \n",
    "    row_index+=1\n",
    "    print('Complite train ', row_index, alg)\n",
    "    \n",
    "#print and sort table: https://pandas.pydata.org/pandas-docs/stable/generated/pandas.DataFrame.sort_values.html\n",
    "MLA_compare.sort_values(by = ['MLA Test Accuracy Mean'], ascending = False, inplace = True)\n",
    "MLA_compare\n",
    "#MLA_predict"
   ]
  },
  {
   "cell_type": "code",
   "execution_count": null,
   "metadata": {
    "_cell_guid": "b9653051-8e79-4ae3-ac31-497bf0a5caed",
    "_uuid": "b7acbf3f7ad6e812a2b5d60794bc3c5ad7d3fd0c"
   },
   "outputs": [],
   "source": [
    "#barplot using https://seaborn.pydata.org/generated/seaborn.barplot.html\n",
    "sns.barplot(x='MLA Test Accuracy Mean', y = 'MLA Name', data = MLA_compare, color = 'm')\n",
    "\n",
    "#prettify using pyplot: https://matplotlib.org/api/pyplot_api.html\n",
    "plt.title('Machine Learning Algorithm Accuracy Score \\n')\n",
    "plt.xlabel('Accuracy Score (%)')\n",
    "plt.ylabel('Algorithm')"
   ]
  },
  {
   "cell_type": "markdown",
   "metadata": {
    "_cell_guid": "51f197c2-76d7-4503-ade5-f9f35323c4c5",
    "_uuid": "2e95a403934cf5c0ab1ff9148b62ef14590e84c9"
   },
   "source": [
    "\n"
   ]
  }
 ],
 "metadata": {
  "kernelspec": {
   "display_name": "Python 3 (ipykernel)",
   "language": "python",
   "name": "python3"
  },
  "language_info": {
   "codemirror_mode": {
    "name": "ipython",
    "version": 3
   },
   "file_extension": ".py",
   "mimetype": "text/x-python",
   "name": "python",
   "nbconvert_exporter": "python",
   "pygments_lexer": "ipython3",
   "version": "3.9.7"
  }
 },
 "nbformat": 4,
 "nbformat_minor": 4
}
