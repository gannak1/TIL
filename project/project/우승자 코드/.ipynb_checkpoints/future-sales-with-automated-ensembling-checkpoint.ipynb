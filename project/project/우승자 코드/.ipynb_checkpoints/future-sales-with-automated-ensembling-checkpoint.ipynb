{
 "cells": [
  {
   "cell_type": "markdown",
   "metadata": {},
   "source": [
    "# Automated ensembling using results from public notebooks\n",
    "This notebook presents an automated ensembling using predicted results from the most relevant public notebooks. Please save all the upvotes for them."
   ]
  },
  {
   "cell_type": "markdown",
   "metadata": {},
   "source": [
    "https://www.kaggle.com/sytuannguyen"
   ]
  },
  {
   "cell_type": "code",
   "execution_count": null,
   "metadata": {
    "execution": {
     "iopub.execute_input": "2022-01-07T18:47:49.876409Z",
     "iopub.status.busy": "2022-01-07T18:47:49.876045Z",
     "iopub.status.idle": "2022-01-07T18:47:49.905504Z",
     "shell.execute_reply": "2022-01-07T18:47:49.904811Z",
     "shell.execute_reply.started": "2022-01-07T18:47:49.87632Z"
    }
   },
   "outputs": [],
   "source": [
    "import os\n",
    "import numpy as np\n",
    "import pandas as pd"
   ]
  },
  {
   "cell_type": "code",
   "execution_count": null,
   "metadata": {
    "execution": {
     "iopub.execute_input": "2022-01-07T18:47:49.908003Z",
     "iopub.status.busy": "2022-01-07T18:47:49.906896Z",
     "iopub.status.idle": "2022-01-07T18:47:49.992914Z",
     "shell.execute_reply": "2022-01-07T18:47:49.991915Z",
     "shell.execute_reply.started": "2022-01-07T18:47:49.907943Z"
    }
   },
   "outputs": [],
   "source": [
    "targetName = 'item_cnt_month'\n",
    "competitionDir = '/kaggle/input/competitive-data-science-predict-future-sales'\n",
    "submission = pd.read_csv('../input/competitive-data-science-predict-future-sales/sample_submission.csv')"
   ]
  },
  {
   "cell_type": "markdown",
   "metadata": {},
   "source": [
    "# Import any number of public notebooks to automatically update the ensemble prediction"
   ]
  },
  {
   "cell_type": "code",
   "execution_count": null,
   "metadata": {
    "execution": {
     "iopub.execute_input": "2022-01-04T21:03:19.837961Z",
     "iopub.status.busy": "2022-01-04T21:03:19.837488Z",
     "iopub.status.idle": "2022-01-04T21:03:19.918349Z",
     "shell.execute_reply": "2022-01-04T21:03:19.917673Z",
     "shell.execute_reply.started": "2022-01-04T21:03:19.83793Z"
    }
   },
   "outputs": [],
   "source": [
    "preds = []\n",
    "for dirname, _, filenames in os.walk('/kaggle/input'):\n",
    "    for filename in filenames:\n",
    "        if (dirname != competitionDir) & ('.csv' in filename):\n",
    "            df = pd.read_csv(os.path.join(dirname, filename))\n",
    "            if len(df) == len(submission):\n",
    "                try:\n",
    "                    preds.append(df[targetName])\n",
    "                except Exception:\n",
    "                    pass"
   ]
  },
  {
   "cell_type": "markdown",
   "metadata": {},
   "source": [
    "# Save ensemble prediction to csv"
   ]
  },
  {
   "cell_type": "code",
   "execution_count": null,
   "metadata": {
    "execution": {
     "iopub.execute_input": "2022-01-04T21:03:19.920892Z",
     "iopub.status.busy": "2022-01-04T21:03:19.920459Z",
     "iopub.status.idle": "2022-01-04T21:03:19.956829Z",
     "shell.execute_reply": "2022-01-04T21:03:19.955971Z",
     "shell.execute_reply.started": "2022-01-04T21:03:19.920861Z"
    }
   },
   "outputs": [],
   "source": [
    "submission[targetName] = np.array(preds).mean(axis=0).transpose()\n",
    "submission.to_csv(\"submission.csv\", index=False)"
   ]
  }
 ],
 "metadata": {
  "kernelspec": {
   "display_name": "Python 3 (ipykernel)",
   "language": "python",
   "name": "python3"
  },
  "language_info": {
   "codemirror_mode": {
    "name": "ipython",
    "version": 3
   },
   "file_extension": ".py",
   "mimetype": "text/x-python",
   "name": "python",
   "nbconvert_exporter": "python",
   "pygments_lexer": "ipython3",
   "version": "3.9.7"
  }
 },
 "nbformat": 4,
 "nbformat_minor": 4
}
