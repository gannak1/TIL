{
 "cells": [
  {
   "cell_type": "markdown",
   "metadata": {},
   "source": [
    "https://www.kaggle.com/hikmetsezen"
   ]
  },
  {
   "cell_type": "markdown",
   "metadata": {},
   "source": [
    "# Blend Boosting study on Coursera dataset of the Predict Future Sales:\n",
    "\n",
    "Here I share with you a systematic blend boosting study on Coursera dataset of the Predict Future Sales. (https://www.kaggle.com/c/competitive-data-science-predict-future-sales/). I just collect some submission files on the kaggle.\n",
    "\n",
    "Basically, I start to analysis of correlations, then decide to sort them according to their sum of correlation values in between. This lets me divide ~10 scores into 4 subgroups. Then I make internal linear calibration in each subgroup by considering their scores on the Kaggle. Finally I make recalling between subgroups to achieve higher scores on the Kaggle by resubmission. Due to daily limitation about number of submission, I am able to get this best result in my first four attempts (5th one is for notebook submission). Of course, if you spend much more time, you can always achieve betters scores, but it is already highest score on Kaggle ;-). In future I can submit much better results, and also plan to make a full model analysis on this dataset."
   ]
  },
  {
   "cell_type": "code",
   "execution_count": null,
   "metadata": {},
   "outputs": [],
   "source": [
    "import pandas as pd\n",
    "import seaborn as sns\n",
    "import matplotlib.pyplot as plt\n",
    "\n",
    "# loading dummy submission file\n",
    "sub_file = pd.read_csv('../input/best-blend/submission_blend_1.csv')\n",
    "\n",
    "# loading data including 15 (some of them are identical) best scores\n",
    "df_sub = pd.read_csv(r'../input/best-blend/best_blend_1.csv')\n",
    "df_sub = df_sub.iloc[:, :10]\n",
    "\n",
    "# a rough correlation based visualization of 32 best scores\n",
    "plt.figure(figsize=(10,10))\n",
    "sns.heatmap(df_sub.corr(), cmap='Spectral')\n",
    "plt.ylabel('file index numbers')\n",
    "plt.xlabel('file index numbers')\n",
    "plt.show()"
   ]
  },
  {
   "cell_type": "code",
   "execution_count": null,
   "metadata": {},
   "outputs": [],
   "source": [
    "# basic analysis and visualization of subgroups in different color.\n",
    "plt.figure(figsize=(12, 5))\n",
    "df_mean_corr = pd.DataFrame({'mean_corr': df_sub.corr().mean()})\n",
    "df_mean_corr = df_mean_corr.sort_values('mean_corr', ascending=False)\n",
    "df_mean_corr = df_mean_corr.reset_index()\n",
    "\n",
    "plt.plot(df_mean_corr.index[:4], df_mean_corr['mean_corr'].values[:4], 'o', ms=10)\n",
    "plt.plot(df_mean_corr.index[4:6], df_mean_corr['mean_corr'].values[4:6], 'o', ms=10)\n",
    "plt.plot(df_mean_corr.index[6:8], df_mean_corr['mean_corr'].values[6:8], 'o', ms=10)\n",
    "plt.plot(df_mean_corr.index[8:], df_mean_corr['mean_corr'].values[8:], 'o', ms=10)\n",
    "\n",
    "plt.xticks([*range(len(df_mean_corr))], df_mean_corr['index'].tolist())\n",
    "plt.title('determination of sub_groups')\n",
    "plt.ylabel('a corelation ralated index')\n",
    "plt.xlabel('file index numbers')\n",
    "plt.show()"
   ]
  },
  {
   "cell_type": "code",
   "execution_count": null,
   "metadata": {},
   "outputs": [],
   "source": [
    "# a linear combination to achieve much better scores\n",
    "df_sub['weighted_avg'] = abs(1 * (\n",
    "        10 * ( 5 * df_sub['2'] + 5 * df_sub['3'] + 2 * df_sub['6'] + 1 * df_sub['9'] ) / 13 +\n",
    "        25 * ( 1 * df_sub['4'] + 1 * df_sub['5'] ) / 2 +\n",
    "        2 * ( 2 * df_sub['7'] + 1 * df_sub['8'] ) / 3 +\n",
    "        100 * ( 5 * df_sub['0'] + 1 * df_sub['1'] ) / 6\n",
    ") / 137 )\n",
    "\n",
    "\n",
    "# create the final submission file\n",
    "submission = pd.DataFrame({'ID': sub_file.ID, 'item_cnt_month': df_sub['weighted_avg'].tolist()})\n",
    "submission.to_csv(r'submission_blend_1.csv', index=False)"
   ]
  },
  {
   "cell_type": "markdown",
   "metadata": {},
   "source": [
    "## It gets a 0.83386 as public score, and looks the best score on Kaggle so far ;-)"
   ]
  }
 ],
 "metadata": {
  "kernelspec": {
   "display_name": "Python 3 (ipykernel)",
   "language": "python",
   "name": "python3"
  },
  "language_info": {
   "codemirror_mode": {
    "name": "ipython",
    "version": 3
   },
   "file_extension": ".py",
   "mimetype": "text/x-python",
   "name": "python",
   "nbconvert_exporter": "python",
   "pygments_lexer": "ipython3",
   "version": "3.9.7"
  }
 },
 "nbformat": 4,
 "nbformat_minor": 4
}
