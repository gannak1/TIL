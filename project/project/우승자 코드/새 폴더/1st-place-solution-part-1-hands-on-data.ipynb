{
 "cells": [
  {
   "cell_type": "code",
   "execution_count": 2,
   "metadata": {
    "_cell_guid": "b1076dfc-b9ad-4769-8c92-a6c4dae69d19",
    "_kg_hide-input": true,
    "_kg_hide-output": true,
    "_uuid": "8f2839f25d086af736a60e9eeb907d3b93b6e0e5"
   },
   "outputs": [],
   "source": [
    "import pandas as pd\n",
    "import numpy as np\n",
    "import gc, warnings\n",
    "warnings.filterwarnings('ignore')"
   ]
  },
  {
   "cell_type": "markdown",
   "metadata": {
    "_uuid": "8d38035771ffce7adad33b76d387a533b717c893"
   },
   "source": [
    "# Overview\n",
    "What is this kernel about?\n",
    "* No predictions to make \n",
    "* No features to create\n",
    "\n",
    "We will load competition data and look closer on it. We will try to understand what we have in our hands and how we can work with it.\n",
    "* * *"
   ]
  },
  {
   "cell_type": "markdown",
   "metadata": {},
   "source": [
    "We have 3 types of products in the test set:\n",
    "\n",
    "Products that have some \"sales history\" - these are (let's call it) NORMAL items - we can use lags features/price history/etc -> all possible features for normal time series data.\n",
    "\n",
    "Items that have some history but we do not have any \"item/shop\" match in the train data -> good example here -> \"digital\" items. You can find that only one shop is selling digital items, but we cannot be so sure about other items/shop pairs. **Probably we can find items that we don't need to do any prediction and set 0 for them (if not -> mark it as normal items and do normal prediction).**\n",
    "\n",
    "Items that we have no history at all. There are three options -\n",
    "3.1. This is a new item -> NEW RELEASE (we don't need time series features) -> **we need to predict future sales based on the type of the product and shop overall \"specialty\"** (how many similar products were sold there) and other \"categorical\" features and time series features for item category but NOT for certain Item.\n",
    "3.2. This is an old item -> OLD RELEASE, but nobody wants to buy it. Probably you can do some FE from the name of the item or category. These are totally random sales -> that depend only \"how far Venus from Mars in 3/4 part of June in the year 1968\" -> it is very hard to do predictions here, but we are lucky that most of such cases are close to 0.\n",
    "3.3 Products that were not included in the train set but have some history. It is hard to recognize such products -> so I decided to remove this option.\n",
    "\n",
    "Hope it helps. I wish to say more, but I don't want to ruin LB (still 7 moths to go)."
   ]
  },
  {
   "cell_type": "markdown",
   "metadata": {
    "_uuid": "0701d6cc1333560ed55d1cfe2308d7494921b6e2"
   },
   "source": [
    " ## Load train data\n",
    " * * *"
   ]
  },
  {
   "cell_type": "code",
   "execution_count": 5,
   "metadata": {
    "_kg_hide-output": true,
    "_uuid": "a0a1bff7d00c5a4f8f7903d2655aa25d17406e9e"
   },
   "outputs": [],
   "source": [
    "sale_train = pd.read_csv('./data/sales_train.csv')"
   ]
  },
  {
   "cell_type": "markdown",
   "metadata": {
    "_uuid": "c16019f841e617154a71d6fab73eb116c2690082"
   },
   "source": [
    "We can view basic DafaFrame information. \n",
    "\n",
    "As you can see, we do not have broken and nan data that is good."
   ]
  },
  {
   "cell_type": "code",
   "execution_count": 6,
   "metadata": {
    "_uuid": "c9c35b30b6b027f5f5730e070afc2cb21a92bf2e",
    "scrolled": true
   },
   "outputs": [
    {
     "name": "stdout",
     "output_type": "stream",
     "text": [
      "----------Top-5- Record----------\n",
      "         date  date_block_num  shop_id  item_id  item_price  item_cnt_day\n",
      "0  02.01.2013               0       59    22154      999.00           1.0\n",
      "1  03.01.2013               0       25     2552      899.00           1.0\n",
      "2  05.01.2013               0       25     2552      899.00          -1.0\n",
      "3  06.01.2013               0       25     2554     1709.05           1.0\n",
      "4  15.01.2013               0       25     2555     1099.00           1.0\n",
      "-----------Information-----------\n",
      "<class 'pandas.core.frame.DataFrame'>\n",
      "RangeIndex: 2935849 entries, 0 to 2935848\n",
      "Data columns (total 6 columns):\n",
      " #   Column          Dtype  \n",
      "---  ------          -----  \n",
      " 0   date            object \n",
      " 1   date_block_num  int64  \n",
      " 2   shop_id         int64  \n",
      " 3   item_id         int64  \n",
      " 4   item_price      float64\n",
      " 5   item_cnt_day    float64\n",
      "dtypes: float64(2), int64(3), object(1)\n",
      "memory usage: 134.4+ MB\n",
      "None\n",
      "-----------Data Types-----------\n",
      "date               object\n",
      "date_block_num      int64\n",
      "shop_id             int64\n",
      "item_id             int64\n",
      "item_price        float64\n",
      "item_cnt_day      float64\n",
      "dtype: object\n",
      "----------Missing value-----------\n",
      "date              0\n",
      "date_block_num    0\n",
      "shop_id           0\n",
      "item_id           0\n",
      "item_price        0\n",
      "item_cnt_day      0\n",
      "dtype: int64\n",
      "----------Null value-----------\n",
      "date              0\n",
      "date_block_num    0\n",
      "shop_id           0\n",
      "item_id           0\n",
      "item_price        0\n",
      "item_cnt_day      0\n",
      "dtype: int64\n",
      "----------Shape of Data----------\n",
      "(2935849, 6)\n"
     ]
    }
   ],
   "source": [
    "print(\"----------Top-5- Record----------\")\n",
    "print(sale_train.head(5))\n",
    "print(\"-----------Information-----------\")\n",
    "print(sale_train.info())\n",
    "print(\"-----------Data Types-----------\")\n",
    "print(sale_train.dtypes)\n",
    "print(\"----------Missing value-----------\")\n",
    "print(sale_train.isnull().sum())\n",
    "print(\"----------Null value-----------\")\n",
    "print(sale_train.isna().sum())\n",
    "print(\"----------Shape of Data----------\")\n",
    "print(sale_train.shape)"
   ]
  },
  {
   "cell_type": "markdown",
   "metadata": {
    "_uuid": "0c3f9b62c0ae87d1ae99af6bf62b38e8ed167b30"
   },
   "source": [
    "We have duplicated rows, but I don't think that it is a mistake.\n",
    "\n",
    "It could be different sales methods or client type, etc.\n",
    "\n",
    "You can remove it, but I really don't believe that 6 rows of 3m can make the difference."
   ]
  },
  {
   "cell_type": "code",
   "execution_count": 7,
   "metadata": {
    "_kg_hide-input": false,
    "_kg_hide-output": false,
    "_uuid": "d2800fe80ac4003ef9a66c5e37eaf6fb92b4aa4f"
   },
   "outputs": [
    {
     "name": "stdout",
     "output_type": "stream",
     "text": [
      "Number of duplicates: 6\n"
     ]
    }
   ],
   "source": [
    "print('Number of duplicates:', len(sale_train[sale_train.duplicated()]))"
   ]
  },
  {
   "cell_type": "markdown",
   "metadata": {
    "_uuid": "f55dbe8feb5c2ecf5cc40a3d592ddd5b48ea201d"
   },
   "source": [
    "I can advise downcasting your DataFrame. It will save you some memory, and believe me you will need all memory possible.\n",
    "\n",
    "In our case from 134.4+ MB, we went to 61.6+ MB\n",
    "\n",
    "Not a great deal right now but such approach works with bigger DF also.\n",
    "\n",
    "#### please see this two links for more tips (I stole that downcast basic snippet from anqitu)))\n",
    "* https://www.kaggle.com/anqitu/feature-engineer-and-model-ensemble-top-10\n",
    "* https://www.kaggle.com/yuliagm/how-to-work-with-big-datasets-on-16g-ram-dask"
   ]
  },
  {
   "cell_type": "code",
   "execution_count": 8,
   "metadata": {
    "_uuid": "86b8ccd49688e11eba077c21aa638c759a10a176",
    "scrolled": true
   },
   "outputs": [
    {
     "name": "stdout",
     "output_type": "stream",
     "text": [
      "<class 'pandas.core.frame.DataFrame'>\n",
      "RangeIndex: 2935849 entries, 0 to 2935848\n",
      "Data columns (total 6 columns):\n",
      " #   Column          Dtype  \n",
      "---  ------          -----  \n",
      " 0   date            object \n",
      " 1   date_block_num  int16  \n",
      " 2   shop_id         int16  \n",
      " 3   item_id         int16  \n",
      " 4   item_price      float32\n",
      " 5   item_cnt_day    float32\n",
      "dtypes: float32(2), int16(3), object(1)\n",
      "memory usage: 61.6+ MB\n",
      "None\n"
     ]
    }
   ],
   "source": [
    "def downcast_dtypes(df):\n",
    "    float_cols = [c for c in df if df[c].dtype == \"float64\"]\n",
    "    int_cols = [c for c in df if df[c].dtype in [\"int64\", \"int32\"]]\n",
    "    df[float_cols] = df[float_cols].astype(np.float32)\n",
    "    df[int_cols] = df[int_cols].astype(np.int16)\n",
    "    return df\n",
    "\n",
    "sale_train = downcast_dtypes(sale_train)\n",
    "print(sale_train.info())"
   ]
  },
  {
   "cell_type": "markdown",
   "metadata": {
    "_uuid": "b95a8f4ca9e94d5260aa578efd3d410fc8bc468d"
   },
   "source": [
    "## 1.1 Item_id\n",
    "* * *\n",
    "### Lets group data by item_id and date_block_num and look closer on it.\n"
   ]
  },
  {
   "cell_type": "code",
   "execution_count": 9,
   "metadata": {
    "_cell_guid": "79c7e3d0-c299-4dcb-8224-4455121ee9b0",
    "_uuid": "d629ff2d2480ee46fbb7e2d37f6b5fab8052498a"
   },
   "outputs": [],
   "source": [
    "sales_by_item_id = sale_train.pivot_table(index=['item_id'],values=['item_cnt_day'], \n",
    "                                        columns='date_block_num', aggfunc=np.sum, fill_value=0).reset_index()\n",
    "sales_by_item_id.columns = sales_by_item_id.columns.droplevel().map(str)\n",
    "sales_by_item_id = sales_by_item_id.reset_index(drop=True).rename_axis(None, axis=1)\n",
    "sales_by_item_id.columns.values[0] = 'item_id'"
   ]
  },
  {
   "cell_type": "markdown",
   "metadata": {
    "_uuid": "bb9510bf9c352a073fdcda40ec50d7dc402828ef"
   },
   "source": [
    "### Simple graph\n",
    "What this graph is telling us. Basically nothing.)) I only see that train data has many old products (degradation line) and many 1c products are seasonal and probably release date depended.\n",
    "\n",
    "#### I'm not very good with graphs and presentations - there are better data representation examples:\n",
    "* https://www.kaggle.com/dimitreoliveira/model-stacking-feature-engineering-and-eda\n",
    "* https://www.kaggle.com/jagangupta/time-series-basics-exploring-traditional-ts"
   ]
  },
  {
   "cell_type": "code",
   "execution_count": 10,
   "metadata": {
    "_uuid": "f41fa75f4089861ffdfdc7ee551f2d99e0d7f1ac",
    "scrolled": true
   },
   "outputs": [
    {
     "data": {
      "text/plain": [
       "<AxesSubplot:>"
      ]
     },
     "execution_count": 10,
     "metadata": {},
     "output_type": "execute_result"
    },
    {
     "data": {
      "image/png": "[encoded data removed]",
      "text/plain": [
       "<Figure size 432x288 with 1 Axes>"
      ]
     },
     "metadata": {
      "needs_background": "light"
     },
     "output_type": "display_data"
    }
   ],
   "source": [
    "sales_by_item_id.sum()[1:].plot(legend=True, label=\"Monthly sum\")"
   ]
  },
  {
   "cell_type": "code",
   "execution_count": 11,
   "metadata": {
    "_uuid": "183eeb505320b71e99ef429bf48324ea1d74cb90"
   },
   "outputs": [
    {
     "data": {
      "text/plain": [
       "<AxesSubplot:>"
      ]
     },
     "execution_count": 11,
     "metadata": {},
     "output_type": "execute_result"
    },
    {
     "data": {
      "image/png": "[encoded data removed]",
      "text/plain": [
       "<Figure size 432x288 with 1 Axes>"
      ]
     },
     "metadata": {
      "needs_background": "light"
     },
     "output_type": "display_data"
    }
   ],
   "source": [
    "sales_by_item_id.mean()[1:].plot(legend=True, label=\"Monthly mean\")"
   ]
  },
  {
   "cell_type": "markdown",
   "metadata": {
    "_uuid": "bf5109a824d10570f1ba3eef89be7ce3759738be"
   },
   "source": [
    "### Let's see how many products are outdated (no sales for the last 6 months)\n",
    "12391 of 21807 is a huge number. Probably we can set 0 for all that items and do not make any model prediction."
   ]
  },
  {
   "cell_type": "code",
   "execution_count": 12,
   "metadata": {
    "_uuid": "69d3323d9cfcd63a11b0448fa716250ee5e51e59",
    "scrolled": true
   },
   "outputs": [
    {
     "name": "stdout",
     "output_type": "stream",
     "text": [
      "Outdated items: 12391\n"
     ]
    }
   ],
   "source": [
    "outdated_items = sales_by_item_id[sales_by_item_id.loc[:,'27':].sum(axis=1)==0]\n",
    "print('Outdated items:', len(outdated_items))"
   ]
  },
  {
   "cell_type": "markdown",
   "metadata": {
    "_uuid": "85ff60f16dde4356ea135bc7e0572c6a335253e7"
   },
   "source": [
    "### How many outdated items in test set?\n",
    "6888 - not much but we have such items"
   ]
  },
  {
   "cell_type": "code",
   "execution_count": 14,
   "metadata": {
    "_uuid": "32886b44ba7c8fab632a1d10d9aa990f7886e8f9",
    "scrolled": true
   },
   "outputs": [
    {
     "name": "stdout",
     "output_type": "stream",
     "text": [
      "Outdated items in test set: 6888\n"
     ]
    }
   ],
   "source": [
    "test = pd.read_csv('./data/test.csv')\n",
    "print('Outdated items in test set:', len(test[test['item_id'].isin(outdated_items['item_id'])]))"
   ]
  },
  {
   "cell_type": "markdown",
   "metadata": {
    "_uuid": "9c9e24173a4473a1cb523c054d2999558eac9d2c"
   },
   "source": [
    "### Outliers by price and sales volume\n",
    "We will get rid of them later\n",
    "\n",
    "#### please see lovely kernel made by Denis Larionov (I stole few graphs from there)\n",
    "* https://www.kaggle.com/dlarionov/feature-engineering-xgboost"
   ]
  },
  {
   "cell_type": "code",
   "execution_count": 15,
   "metadata": {
    "_uuid": "972f035270aa822d93db73925fe3868b2c785876"
   },
   "outputs": [
    {
     "name": "stdout",
     "output_type": "stream",
     "text": [
      "Sale volume outliers: [ 8057 20949  9242 19437  3731 11373  9249  9248]\n",
      "Item price outliers: [11365  6066 13199]\n"
     ]
    },
    {
     "data": {
      "image/png": "[encoded data removed]",
      "text/plain": [
       "<Figure size 720x288 with 1 Axes>"
      ]
     },
     "metadata": {
      "needs_background": "light"
     },
     "output_type": "display_data"
    },
    {
     "data": {
      "image/png": "[encoded data removed]",
      "text/plain": [
       "<Figure size 720x288 with 1 Axes>"
      ]
     },
     "metadata": {
      "needs_background": "light"
     },
     "output_type": "display_data"
    }
   ],
   "source": [
    "import seaborn as sns\n",
    "import matplotlib.pyplot as plt\n",
    "plt.figure(figsize=(10,4))\n",
    "plt.xlim(-100, 3000)\n",
    "sns.boxplot(x=sale_train['item_cnt_day'])\n",
    "print('Sale volume outliers:',sale_train['item_id'][sale_train['item_cnt_day']>500].unique())\n",
    "\n",
    "plt.figure(figsize=(10,4))\n",
    "plt.xlim(sale_train['item_price'].min(), sale_train['item_price'].max())\n",
    "sns.boxplot(x=sale_train['item_price'])\n",
    "print('Item price outliers:',sale_train['item_id'][sale_train['item_price']>50000].unique())"
   ]
  },
  {
   "cell_type": "markdown",
   "metadata": {
    "_uuid": "df11bedc80cd9816f60c2883fa6cb4d6bcf6cd1e"
   },
   "source": [
    "### Possible item_id features:\n",
    "1. Lags\n",
    "2. Release date\n",
    "3. Last month sale\n",
    "4. Days on sale\n",
    "5. Neighbors (items with id 1000 and 1001 could be somehow similar - genre, type, release date)"
   ]
  },
  {
   "cell_type": "markdown",
   "metadata": {
    "_uuid": "c3ec31c7426de7bb806e0c10c6f7d95e12761d90"
   },
   "source": [
    "## 1.2 shop_id\n",
    "* * *\n",
    "### Lets now group train data by shop_id.\n",
    "We can see new shops - probably there will be a sales spike (opening event for example).\n",
    "Apparently closed shops (ill call it \"outdated shops\")  - no sales for last 6 months."
   ]
  },
  {
   "cell_type": "code",
   "execution_count": 16,
   "metadata": {
    "_uuid": "117e47f7680d6bf6ad4f13e7cb191703b74fa5a2",
    "scrolled": true
   },
   "outputs": [
    {
     "name": "stdout",
     "output_type": "stream",
     "text": [
      "Not exists in month 6 [ 9 11 20 33 34 36 39 40 48 49]\n",
      "Not exists in month 7 [ 9 11 20 33 34 36 39 40 48 49]\n",
      "Not exists in month 8 [ 9 11 20 33 34 36 39 40 48 49]\n",
      "Not exists in month 9 [11 20 33 34 36 39 40 48 49]\n",
      "Not exists in month 10 [11 20 33 34 36 39 40 48 49]\n",
      "Not exists in month 11 [11 20 33 34 36 39 40 48]\n",
      "Not exists in month 12 [11 20 33 34 36 39 40 48]\n",
      "Not exists in month 13 [11 20 33 34 36 39 40 48]\n",
      "Not exists in month 14 [11 20 33 34 36 48]\n",
      "Not exists in month 15 [11 20 33 34 36]\n",
      "Not exists in month 16 [11 20 33 34 36]\n",
      "Not exists in month 17 [11 20 33 34 36]\n",
      "Not exists in month 18 [11 20 33 36]\n",
      "Not exists in month 19 [11 20 36]\n",
      "Not exists in month 20 [11 20 36]\n",
      "Not exists in month 21 [11 36]\n",
      "Not exists in month 22 [11 36]\n",
      "Not exists in month 23 [11 36]\n",
      "Not exists in month 24 [11 36]\n",
      "Not exists in month 25 [36]\n",
      "Not exists in month 26 [36]\n",
      "Not exists in month 27 [36]\n",
      "Not exists in month 28 [36]\n",
      "Not exists in month 29 [36]\n",
      "Not exists in month 30 [36]\n",
      "Not exists in month 31 [36]\n",
      "Not exists in month 32 [36]\n",
      "Not exists in month 33 []\n",
      "Shop is outdated for month 6 [ 0  1  8 23]\n",
      "Shop is outdated for month 7 [ 0  1  8 23 32]\n",
      "Shop is outdated for month 8 [ 0  1  8 23 32]\n",
      "Shop is outdated for month 9 [ 0  1  8 23 32]\n",
      "Shop is outdated for month 10 [ 0  1  8 23 32]\n",
      "Shop is outdated for month 11 [ 0  1  8 23 32]\n",
      "Shop is outdated for month 12 [ 0  1  8 23 32]\n",
      "Shop is outdated for month 13 [ 0  1  8 23 32]\n",
      "Shop is outdated for month 14 [ 0  1  8 23 32]\n",
      "Shop is outdated for month 15 [ 0  1  8 23 32]\n",
      "Shop is outdated for month 16 [ 0  1  8 23 32]\n",
      "Shop is outdated for month 17 [ 0  1  8 23 32]\n",
      "Shop is outdated for month 18 [ 0  1  8 23 32]\n",
      "Shop is outdated for month 19 [ 0  1  8 23 32]\n",
      "Shop is outdated for month 20 [ 0  1  8 13 23 32]\n",
      "Shop is outdated for month 21 [ 0  1  8 13 23 32]\n",
      "Shop is outdated for month 22 [ 0  1  8 13 23 32]\n",
      "Shop is outdated for month 23 [ 0  1  8 13 23 32]\n",
      "Shop is outdated for month 24 [ 0  1  8 13 23 32]\n",
      "Shop is outdated for month 25 [ 0  1  8 13 17 23 32 40 43]\n",
      "Shop is outdated for month 26 [ 0  1  8 11 13 17 23 30 32 40 43]\n",
      "Shop is outdated for month 27 [ 0  1  8 11 13 17 23 30 32 40 43]\n"
     ]
    }
   ],
   "source": [
    "sales_by_shop_id = sale_train.pivot_table(index=['shop_id'],values=['item_cnt_day'], \n",
    "                                        columns='date_block_num', aggfunc=np.sum, fill_value=0).reset_index()\n",
    "sales_by_shop_id.columns = sales_by_shop_id.columns.droplevel().map(str)\n",
    "sales_by_shop_id = sales_by_shop_id.reset_index(drop=True).rename_axis(None, axis=1)\n",
    "sales_by_shop_id.columns.values[0] = 'shop_id'\n",
    "\n",
    "for i in range(6,34):\n",
    "    print('Not exists in month',i,sales_by_shop_id['shop_id'][sales_by_shop_id.loc[:,'0':str(i)].sum(axis=1)==0].unique())\n",
    "\n",
    "for i in range(6,28):\n",
    "    print('Shop is outdated for month',i,sales_by_shop_id['shop_id'][sales_by_shop_id.loc[:,str(i):].sum(axis=1)==0].unique())\n"
   ]
  },
  {
   "cell_type": "markdown",
   "metadata": {
    "_uuid": "43d62def13e93719c56bef61263860ad473ef59c"
   },
   "source": [
    "In our test set we have 5100 sales in really new shop and no \"outdated shops\" but anyway it is good feature for future."
   ]
  },
  {
   "cell_type": "code",
   "execution_count": 17,
   "metadata": {
    "_uuid": "33dc0888c1c300114ba6fd18d4f19eea8c4ec2dc"
   },
   "outputs": [
    {
     "name": "stdout",
     "output_type": "stream",
     "text": [
      "Recently opened shop items: 5100\n"
     ]
    }
   ],
   "source": [
    "print('Recently opened shop items:', len(test[test['shop_id']==36]))"
   ]
  },
  {
   "cell_type": "markdown",
   "metadata": {
    "_uuid": "777c65d11da24810e2f1a6e4c8f69342b7d50c58"
   },
   "source": [
    "### Possible shop_id features\n",
    "1. Lags (shop_id/shp_cnt_mth)\n",
    "2. Opening month (possible  opening sales)\n",
    "3. Closed Month (possible stock elimination)"
   ]
  },
  {
   "cell_type": "markdown",
   "metadata": {
    "_uuid": "23feaefb184db48a5768eb8ff278c31abd8128e7"
   },
   "source": [
    "## 1.3 Price\n",
    "* * *\n",
    "### Possible Price features:\n",
    "1. Price category (1$/10$/20$/ etc.) - obviously (or not obviously),  items with smaller price have greater volumes\n",
    "2. Discount and Discount duration\n",
    "3. Price lag (shows discount)\n",
    "4. Price correction (rubl/usd pair)\n",
    "5. Shop Revenue"
   ]
  },
  {
   "cell_type": "markdown",
   "metadata": {
    "_uuid": "9630ea096fa1e19a0889c0855a2d7b16d17c7350"
   },
   "source": [
    "## 1.4 Dates\n",
    "* * *\n",
    "### Possible Date features:\n",
    "1. Weekends and holidays sales (to correct monthly sales)\n",
    "2. Number of days in the month (to correct monthly sales)\n",
    "3. Month number (for seasonal items)"
   ]
  },
  {
   "cell_type": "markdown",
   "metadata": {
    "_uuid": "a986daadeb23bb218191e130bbdb9dd572615b9f"
   },
   "source": [
    "## 1.5 Shop info\n",
    "* * *\n",
    "The structure of the shop information is evident.\n",
    "### Shop City | Shop type | Shop name"
   ]
  },
  {
   "cell_type": "code",
   "execution_count": 19,
   "metadata": {
    "_uuid": "48b6d9f2dd244468b16c1a5c3a9a082f6fb21db8"
   },
   "outputs": [
    {
     "data": {
      "text/html": [
       "<div>\n",
       "<style scoped>\n",
       "    .dataframe tbody tr th:only-of-type {\n",
       "        vertical-align: middle;\n",
       "    }\n",
       "\n",
       "    .dataframe tbody tr th {\n",
       "        vertical-align: top;\n",
       "    }\n",
       "\n",
       "    .dataframe thead th {\n",
       "        text-align: right;\n",
       "    }\n",
       "</style>\n",
       "<table border=\"1\" class=\"dataframe\">\n",
       "  <thead>\n",
       "    <tr style=\"text-align: right;\">\n",
       "      <th></th>\n",
       "      <th>shop_name</th>\n",
       "      <th>shop_id</th>\n",
       "    </tr>\n",
       "  </thead>\n",
       "  <tbody>\n",
       "    <tr>\n",
       "      <th>0</th>\n",
       "      <td>!Якутск Орджоникидзе, 56 фран</td>\n",
       "      <td>0</td>\n",
       "    </tr>\n",
       "    <tr>\n",
       "      <th>1</th>\n",
       "      <td>!Якутск ТЦ \"Центральный\" фран</td>\n",
       "      <td>1</td>\n",
       "    </tr>\n",
       "    <tr>\n",
       "      <th>2</th>\n",
       "      <td>Адыгея ТЦ \"Мега\"</td>\n",
       "      <td>2</td>\n",
       "    </tr>\n",
       "    <tr>\n",
       "      <th>3</th>\n",
       "      <td>Балашиха ТРК \"Октябрь-Киномир\"</td>\n",
       "      <td>3</td>\n",
       "    </tr>\n",
       "    <tr>\n",
       "      <th>4</th>\n",
       "      <td>Волжский ТЦ \"Волга Молл\"</td>\n",
       "      <td>4</td>\n",
       "    </tr>\n",
       "  </tbody>\n",
       "</table>\n",
       "</div>"
      ],
      "text/plain": [
       "                        shop_name  shop_id\n",
       "0   !Якутск Орджоникидзе, 56 фран        0\n",
       "1   !Якутск ТЦ \"Центральный\" фран        1\n",
       "2                Адыгея ТЦ \"Мега\"        2\n",
       "3  Балашиха ТРК \"Октябрь-Киномир\"        3\n",
       "4        Волжский ТЦ \"Волга Молл\"        4"
      ]
     },
     "execution_count": 19,
     "metadata": {},
     "output_type": "execute_result"
    }
   ],
   "source": [
    "shops = pd.read_csv('./data/shops.csv')\n",
    "shops.head()"
   ]
  },
  {
   "cell_type": "markdown",
   "metadata": {
    "_uuid": "69702cf86fd59b74fca508963c1651177e710b82"
   },
   "source": [
    "With a close look we can find out that some shops have duplicated id/name - probably it changed location (within commercial center), or it has a different type (isle sale point), but I decided to merge it.\n",
    "* 11 => 10\n",
    "* 1  => 58\n",
    "* 0  => 57\n",
    "* 40 => 39\n",
    "\n",
    "I converted train shop_id to shop_id that is in the test set"
   ]
  },
  {
   "cell_type": "code",
   "execution_count": 20,
   "metadata": {
    "_uuid": "0dc3a7e13d879b1f1f4a3aa519800ffd256755ba"
   },
   "outputs": [
    {
     "data": {
      "text/html": [
       "<div>\n",
       "<style scoped>\n",
       "    .dataframe tbody tr th:only-of-type {\n",
       "        vertical-align: middle;\n",
       "    }\n",
       "\n",
       "    .dataframe tbody tr th {\n",
       "        vertical-align: top;\n",
       "    }\n",
       "\n",
       "    .dataframe thead th {\n",
       "        text-align: right;\n",
       "    }\n",
       "</style>\n",
       "<table border=\"1\" class=\"dataframe\">\n",
       "  <thead>\n",
       "    <tr style=\"text-align: right;\">\n",
       "      <th></th>\n",
       "      <th>shop_name</th>\n",
       "      <th>shop_id</th>\n",
       "      <th>shop_city</th>\n",
       "      <th>shop_type</th>\n",
       "    </tr>\n",
       "  </thead>\n",
       "  <tbody>\n",
       "    <tr>\n",
       "      <th>0</th>\n",
       "      <td>якутск орджоникидзе  фран</td>\n",
       "      <td>0</td>\n",
       "      <td>якутск</td>\n",
       "      <td>NO_DATA</td>\n",
       "    </tr>\n",
       "    <tr>\n",
       "      <th>1</th>\n",
       "      <td>якутск тц центральный фран</td>\n",
       "      <td>1</td>\n",
       "      <td>якутск</td>\n",
       "      <td>тц</td>\n",
       "    </tr>\n",
       "    <tr>\n",
       "      <th>2</th>\n",
       "      <td>адыгея тц мега</td>\n",
       "      <td>2</td>\n",
       "      <td>адыгея</td>\n",
       "      <td>тц</td>\n",
       "    </tr>\n",
       "    <tr>\n",
       "      <th>3</th>\n",
       "      <td>балашиха трк октябрькиномир</td>\n",
       "      <td>3</td>\n",
       "      <td>балашиха</td>\n",
       "      <td>трк</td>\n",
       "    </tr>\n",
       "    <tr>\n",
       "      <th>4</th>\n",
       "      <td>волжский тц волга молл</td>\n",
       "      <td>4</td>\n",
       "      <td>волжский</td>\n",
       "      <td>тц</td>\n",
       "    </tr>\n",
       "  </tbody>\n",
       "</table>\n",
       "</div>"
      ],
      "text/plain": [
       "                     shop_name  shop_id shop_city shop_type\n",
       "0    якутск орджоникидзе  фран        0    якутск   NO_DATA\n",
       "1   якутск тц центральный фран        1    якутск        тц\n",
       "2               адыгея тц мега        2    адыгея        тц\n",
       "3  балашиха трк октябрькиномир        3  балашиха       трк\n",
       "4       волжский тц волга молл        4  волжский        тц"
      ]
     },
     "execution_count": 20,
     "metadata": {},
     "output_type": "execute_result"
    }
   ],
   "source": [
    "shops['shop_name'] = shops['shop_name'].apply(lambda x: x.lower()).str.replace('[^\\w\\s]', '').str.replace('\\d+','').str.strip()\n",
    "shops['shop_city'] = shops['shop_name'].str.partition(' ')[0]\n",
    "shops['shop_type'] = shops['shop_name'].apply(lambda x: 'мтрц' if 'мтрц' in x else 'трц' if 'трц' in x else 'трк' if 'трк' in x else 'тц' if 'тц' in x else 'тк' if 'тк' in x else 'NO_DATA')\n",
    "shops.head()"
   ]
  },
  {
   "cell_type": "markdown",
   "metadata": {
    "_uuid": "81fc1c1fc6a1cbec542fa0b726fa982d2947ace3"
   },
   "source": [
    "### Possible Shop features:\n",
    "1. Shop City\n",
    "2. Shop Type"
   ]
  },
  {
   "cell_type": "markdown",
   "metadata": {
    "_uuid": "dbc33e1ebf107e1fd5f655f018e2116984dfc0be"
   },
   "source": [
    "## 1.6 Item info\n",
    "* * *\n",
    "Let's see what we can get from this file."
   ]
  },
  {
   "cell_type": "code",
   "execution_count": 22,
   "metadata": {
    "_uuid": "1ba5be08289a9bf5ff35cb407dd32545b12bf14f",
    "scrolled": true
   },
   "outputs": [
    {
     "data": {
      "text/html": [
       "<div>\n",
       "<style scoped>\n",
       "    .dataframe tbody tr th:only-of-type {\n",
       "        vertical-align: middle;\n",
       "    }\n",
       "\n",
       "    .dataframe tbody tr th {\n",
       "        vertical-align: top;\n",
       "    }\n",
       "\n",
       "    .dataframe thead th {\n",
       "        text-align: right;\n",
       "    }\n",
       "</style>\n",
       "<table border=\"1\" class=\"dataframe\">\n",
       "  <thead>\n",
       "    <tr style=\"text-align: right;\">\n",
       "      <th></th>\n",
       "      <th>item_name</th>\n",
       "      <th>item_id</th>\n",
       "      <th>item_category_id</th>\n",
       "    </tr>\n",
       "  </thead>\n",
       "  <tbody>\n",
       "    <tr>\n",
       "      <th>0</th>\n",
       "      <td>! ВО ВЛАСТИ НАВАЖДЕНИЯ (ПЛАСТ.)         D</td>\n",
       "      <td>0</td>\n",
       "      <td>40</td>\n",
       "    </tr>\n",
       "    <tr>\n",
       "      <th>1</th>\n",
       "      <td>!ABBYY FineReader 12 Professional Edition Full...</td>\n",
       "      <td>1</td>\n",
       "      <td>76</td>\n",
       "    </tr>\n",
       "    <tr>\n",
       "      <th>2</th>\n",
       "      <td>***В ЛУЧАХ СЛАВЫ   (UNV)                    D</td>\n",
       "      <td>2</td>\n",
       "      <td>40</td>\n",
       "    </tr>\n",
       "    <tr>\n",
       "      <th>3</th>\n",
       "      <td>***ГОЛУБАЯ ВОЛНА  (Univ)                      D</td>\n",
       "      <td>3</td>\n",
       "      <td>40</td>\n",
       "    </tr>\n",
       "    <tr>\n",
       "      <th>4</th>\n",
       "      <td>***КОРОБКА (СТЕКЛО)                       D</td>\n",
       "      <td>4</td>\n",
       "      <td>40</td>\n",
       "    </tr>\n",
       "  </tbody>\n",
       "</table>\n",
       "</div>"
      ],
      "text/plain": [
       "                                           item_name  item_id  \\\n",
       "0          ! ВО ВЛАСТИ НАВАЖДЕНИЯ (ПЛАСТ.)         D        0   \n",
       "1  !ABBYY FineReader 12 Professional Edition Full...        1   \n",
       "2      ***В ЛУЧАХ СЛАВЫ   (UNV)                    D        2   \n",
       "3    ***ГОЛУБАЯ ВОЛНА  (Univ)                      D        3   \n",
       "4        ***КОРОБКА (СТЕКЛО)                       D        4   \n",
       "\n",
       "   item_category_id  \n",
       "0                40  \n",
       "1                76  \n",
       "2                40  \n",
       "3                40  \n",
       "4                40  "
      ]
     },
     "execution_count": 22,
     "metadata": {},
     "output_type": "execute_result"
    }
   ],
   "source": [
    "items = pd.read_csv('./data/items.csv')\n",
    "items.head()"
   ]
  },
  {
   "cell_type": "markdown",
   "metadata": {
    "_uuid": "b9d8671932740709147923219fcf0a1e6f280a78"
   },
   "source": [
    "We can enconde \"features\" that many items have.\n",
    "\n",
    "The structure is always the same\n",
    "### Item name [category feature] (additional feature)\n",
    "we can split it, and \"one hot encode it.\""
   ]
  },
  {
   "cell_type": "code",
   "execution_count": 23,
   "metadata": {
    "_uuid": "09757b46aa8894f66a8468026d570172d250ae73",
    "scrolled": true
   },
   "outputs": [
    {
     "name": "stdout",
     "output_type": "stream",
     "text": [
      "Most common aditional features:            feature  count\n",
      "130   документация    284\n",
      "131     английская    340\n",
      "132        русские    399\n",
      "133       субтитры    400\n",
      "134            360    465\n",
      "135          jewel    552\n",
      "136           xbox    589\n",
      "137            ps3    611\n",
      "138        русская   1428\n",
      "139       цифровая   1995\n",
      "140             pc   2585\n",
      "141         версия   3427\n",
      "1981           box    246\n",
      "1983            3d    409\n",
      "1985           dvd    503\n",
      "1986      digipack    541\n",
      "1988          фирм    757\n",
      "1991           mp3    854\n",
      "1992            cd    871\n",
      "1993        регион   1849\n",
      "1994            bd   2320\n"
     ]
    }
   ],
   "source": [
    "# Ugly code to show the idea\n",
    "from collections import Counter\n",
    "from operator import itemgetter\n",
    "items['name_1'], items['name_2'] = items['item_name'].str.split('[', 1).str\n",
    "items['name_1'], items['name_3'] = items['item_name'].str.split('(', 1).str\n",
    "\n",
    "items['name_2'] = items['name_2'].str.replace('[^A-Za-z0-9А-Яа-я]+', ' ').str.lower()\n",
    "items['name_3'] = items['name_3'].str.replace('[^A-Za-z0-9А-Яа-я]+', ' ').str.lower()\n",
    "items = items.fillna('0')\n",
    "\n",
    "result_1 = Counter(' '.join(items['name_2'].values.tolist()).split(' ')).items()\n",
    "result_1 = sorted(result_1, key=itemgetter(1))\n",
    "result_1 = pd.DataFrame(result_1, columns=['feature', 'count'])\n",
    "result_1 = result_1[(result_1['feature'].str.len() > 1) & (result_1['count'] > 200)]\n",
    "\n",
    "result_2 = Counter(' '.join(items['name_3'].values.tolist()).split(\" \")).items()\n",
    "result_2 = sorted(result_2, key=itemgetter(1))\n",
    "result_2 = pd.DataFrame(result_2, columns=['feature', 'count'])\n",
    "result_2 = result_2[(result_2['feature'].str.len() > 1) & (result_2['count'] > 200)]\n",
    "\n",
    "result = pd.concat([result_1, result_2])\n",
    "result = result.drop_duplicates(subset=['feature'])\n",
    "\n",
    "print('Most common aditional features:', result)"
   ]
  },
  {
   "cell_type": "markdown",
   "metadata": {
    "_uuid": "5269123ec33e0e39a9824e64ae95602883b5c956"
   },
   "source": [
    "### Item name correction\n",
    "For our basic \"name feature\" it is enough to find identical items (not similar but identical),"
   ]
  },
  {
   "cell_type": "code",
   "execution_count": 24,
   "metadata": {
    "_uuid": "5701d130b1589300940f588835106561efb248ec"
   },
   "outputs": [
    {
     "name": "stdout",
     "output_type": "stream",
     "text": [
      "Unique item names: 22170\n"
     ]
    }
   ],
   "source": [
    "print('Unique item names:', len(items['item_name'].unique()))"
   ]
  },
  {
   "cell_type": "code",
   "execution_count": 25,
   "metadata": {
    "_uuid": "4bf9069a41bc3333150a5eff3bfb6997c5a9d516",
    "scrolled": true
   },
   "outputs": [
    {
     "data": {
      "text/html": [
       "<div>\n",
       "<style scoped>\n",
       "    .dataframe tbody tr th:only-of-type {\n",
       "        vertical-align: middle;\n",
       "    }\n",
       "\n",
       "    .dataframe tbody tr th {\n",
       "        vertical-align: top;\n",
       "    }\n",
       "\n",
       "    .dataframe thead th {\n",
       "        text-align: right;\n",
       "    }\n",
       "</style>\n",
       "<table border=\"1\" class=\"dataframe\">\n",
       "  <thead>\n",
       "    <tr style=\"text-align: right;\">\n",
       "      <th></th>\n",
       "      <th>item_name</th>\n",
       "      <th>item_id</th>\n",
       "      <th>item_category_id</th>\n",
       "      <th>name_1</th>\n",
       "      <th>name_2</th>\n",
       "      <th>name_3</th>\n",
       "    </tr>\n",
       "  </thead>\n",
       "  <tbody>\n",
       "    <tr>\n",
       "      <th>0</th>\n",
       "      <td>во власти наваждения</td>\n",
       "      <td>0</td>\n",
       "      <td>40</td>\n",
       "      <td>! ВО ВЛАСТИ НАВАЖДЕНИЯ</td>\n",
       "      <td>0</td>\n",
       "      <td>пласт d</td>\n",
       "    </tr>\n",
       "    <tr>\n",
       "      <th>1</th>\n",
       "      <td>abbyy finereader 12 professional edition full</td>\n",
       "      <td>1</td>\n",
       "      <td>76</td>\n",
       "      <td>!ABBYY FineReader 12 Professional Edition Full...</td>\n",
       "      <td>pc цифровая версия</td>\n",
       "      <td>0</td>\n",
       "    </tr>\n",
       "    <tr>\n",
       "      <th>2</th>\n",
       "      <td>в лучах славы</td>\n",
       "      <td>2</td>\n",
       "      <td>40</td>\n",
       "      <td>***В ЛУЧАХ СЛАВЫ</td>\n",
       "      <td>0</td>\n",
       "      <td>unv d</td>\n",
       "    </tr>\n",
       "    <tr>\n",
       "      <th>3</th>\n",
       "      <td>голубая волна</td>\n",
       "      <td>3</td>\n",
       "      <td>40</td>\n",
       "      <td>***ГОЛУБАЯ ВОЛНА</td>\n",
       "      <td>0</td>\n",
       "      <td>univ d</td>\n",
       "    </tr>\n",
       "    <tr>\n",
       "      <th>4</th>\n",
       "      <td>коробка</td>\n",
       "      <td>4</td>\n",
       "      <td>40</td>\n",
       "      <td>***КОРОБКА</td>\n",
       "      <td>0</td>\n",
       "      <td>стекло d</td>\n",
       "    </tr>\n",
       "  </tbody>\n",
       "</table>\n",
       "</div>"
      ],
      "text/plain": [
       "                                       item_name  item_id  item_category_id  \\\n",
       "0                           во власти наваждения        0                40   \n",
       "1  abbyy finereader 12 professional edition full        1                76   \n",
       "2                                  в лучах славы        2                40   \n",
       "3                                  голубая волна        3                40   \n",
       "4                                        коробка        4                40   \n",
       "\n",
       "                                              name_1               name_2  \\\n",
       "0                            ! ВО ВЛАСТИ НАВАЖДЕНИЯ                     0   \n",
       "1  !ABBYY FineReader 12 Professional Edition Full...  pc цифровая версия    \n",
       "2                                ***В ЛУЧАХ СЛАВЫ                       0   \n",
       "3                                 ***ГОЛУБАЯ ВОЛНА                      0   \n",
       "4                                        ***КОРОБКА                     0   \n",
       "\n",
       "     name_3  \n",
       "0   пласт d  \n",
       "1         0  \n",
       "2     unv d  \n",
       "3    univ d  \n",
       "4  стекло d  "
      ]
     },
     "execution_count": 25,
     "metadata": {},
     "output_type": "execute_result"
    }
   ],
   "source": [
    "import re\n",
    "def name_correction(x):\n",
    "    x = x.lower()\n",
    "    x = x.partition('[')[0]\n",
    "    x = x.partition('(')[0]\n",
    "    x = re.sub('[^A-Za-z0-9А-Яа-я]+', ' ', x)\n",
    "    x = x.replace('  ', ' ')\n",
    "    x = x.strip()\n",
    "    return x\n",
    "\n",
    "items['item_name'] = items['item_name'].apply(lambda x: name_correction(x))\n",
    "items.head()"
   ]
  },
  {
   "cell_type": "code",
   "execution_count": 26,
   "metadata": {
    "_uuid": "fdab4d126288b29f669807848b6072cab09304c5"
   },
   "outputs": [
    {
     "name": "stdout",
     "output_type": "stream",
     "text": [
      "Unique item names after correction: 18121\n"
     ]
    }
   ],
   "source": [
    "print('Unique item names after correction:', len(items['item_name'].unique()))"
   ]
  },
  {
   "cell_type": "markdown",
   "metadata": {
    "_uuid": "beb77fb09af07912061629ed55d3f47df33355e8"
   },
   "source": [
    "### Possible Item features:\n",
    "1. Item name\n",
    "2. Encoded aditional feature "
   ]
  },
  {
   "cell_type": "markdown",
   "metadata": {
    "_uuid": "66a0923b3fc90f074a272a5a13a61c551114464d"
   },
   "source": [
    "## 1.7 Category info\n",
    "* * *\n",
    "The structure here is\n",
    "### Section name - subsection\n",
    "we can split it and have two features from one"
   ]
  },
  {
   "cell_type": "code",
   "execution_count": 28,
   "metadata": {
    "_uuid": "79468132a8d99474a585d7bb6508115da7a1f965"
   },
   "outputs": [
    {
     "data": {
      "text/html": [
       "<div>\n",
       "<style scoped>\n",
       "    .dataframe tbody tr th:only-of-type {\n",
       "        vertical-align: middle;\n",
       "    }\n",
       "\n",
       "    .dataframe tbody tr th {\n",
       "        vertical-align: top;\n",
       "    }\n",
       "\n",
       "    .dataframe thead th {\n",
       "        text-align: right;\n",
       "    }\n",
       "</style>\n",
       "<table border=\"1\" class=\"dataframe\">\n",
       "  <thead>\n",
       "    <tr style=\"text-align: right;\">\n",
       "      <th></th>\n",
       "      <th>item_category_name</th>\n",
       "      <th>item_category_id</th>\n",
       "    </tr>\n",
       "  </thead>\n",
       "  <tbody>\n",
       "    <tr>\n",
       "      <th>0</th>\n",
       "      <td>PC - Гарнитуры/Наушники</td>\n",
       "      <td>0</td>\n",
       "    </tr>\n",
       "    <tr>\n",
       "      <th>1</th>\n",
       "      <td>Аксессуары - PS2</td>\n",
       "      <td>1</td>\n",
       "    </tr>\n",
       "    <tr>\n",
       "      <th>2</th>\n",
       "      <td>Аксессуары - PS3</td>\n",
       "      <td>2</td>\n",
       "    </tr>\n",
       "    <tr>\n",
       "      <th>3</th>\n",
       "      <td>Аксессуары - PS4</td>\n",
       "      <td>3</td>\n",
       "    </tr>\n",
       "    <tr>\n",
       "      <th>4</th>\n",
       "      <td>Аксессуары - PSP</td>\n",
       "      <td>4</td>\n",
       "    </tr>\n",
       "  </tbody>\n",
       "</table>\n",
       "</div>"
      ],
      "text/plain": [
       "        item_category_name  item_category_id\n",
       "0  PC - Гарнитуры/Наушники                 0\n",
       "1         Аксессуары - PS2                 1\n",
       "2         Аксессуары - PS3                 2\n",
       "3         Аксессуары - PS4                 3\n",
       "4         Аксессуары - PSP                 4"
      ]
     },
     "execution_count": 28,
     "metadata": {},
     "output_type": "execute_result"
    }
   ],
   "source": [
    "categories = pd.read_csv('./data/item_categories.csv')\n",
    "categories.head()"
   ]
  },
  {
   "cell_type": "markdown",
   "metadata": {
    "_uuid": "511f796586cbffdf22586aa242cecf14b5469fb6"
   },
   "source": [
    "### But I did manual feature extraction here to have four features.\n",
    "Section / Main Category name / Main SubCategory name / Secondary SubCategory name\n",
    "#### Аксессуары / PS2\t/ PS / 2"
   ]
  },
  {
   "cell_type": "markdown",
   "metadata": {
    "_uuid": "865d362d26204f248b5ad64fc4465601c0d2b82c"
   },
   "source": [
    "### Possible Category features\n",
    "1. Section\n",
    "2. Main Category name\n",
    "3. Main SubCategory name \n",
    "4. Secondary SubCategory name\n"
   ]
  },
  {
   "cell_type": "markdown",
   "metadata": {
    "_uuid": "1cd738638ec06398323532426cdd0473a8207e5e"
   },
   "source": [
    "## 1.8 Test Set\n",
    "* * *\n",
    "The key to my success was the analysis of Test test data.\n",
    "\n",
    "We have three groups of items:\n",
    "1. Item/shop pairs that are in train\n",
    "2. Items without any data\n",
    "3. Items that are in train"
   ]
  },
  {
   "cell_type": "code",
   "execution_count": 29,
   "metadata": {
    "_uuid": "b841aa8e71c4327c1dc96237c6a9c4a7f872d8d3",
    "scrolled": true
   },
   "outputs": [
    {
     "name": "stdout",
     "output_type": "stream",
     "text": [
      "1. Number of good pairs: 111404\n",
      "2. No Data Items: 15246\n",
      "3. Only Item_id Info: 87550\n"
     ]
    }
   ],
   "source": [
    "test = pd.read_csv('./data/test.csv')\n",
    "good_sales = test.merge(sale_train, on=['item_id','shop_id'], how='left').dropna()\n",
    "good_pairs = test[test['ID'].isin(good_sales['ID'])]\n",
    "no_data_items = test[~(test['item_id'].isin(sale_train['item_id']))]\n",
    "\n",
    "print('1. Number of good pairs:', len(good_pairs))\n",
    "print('2. No Data Items:', len(no_data_items))\n",
    "print('3. Only Item_id Info:', len(test)-len(no_data_items)-len(good_pairs))\n",
    "  "
   ]
  },
  {
   "cell_type": "markdown",
   "metadata": {
    "_uuid": "bf3bba0a38999f2b15e10b0062cd84563c105832"
   },
   "source": [
    "#### Is it feature? Yes. We need to apply different prediction approach for each type of items in the test set.\n",
    "####  For example - \"No Data Items\" - it is more likely classification task."
   ]
  },
  {
   "cell_type": "markdown",
   "metadata": {
    "_uuid": "ef56ab0e5fc525bf4afb7554f08d2d775076e4d6"
   },
   "source": [
    "### Next part will be about data aggregation and feature preparation.\n",
    "## To be continued..."
   ]
  },
  {
   "cell_type": "markdown",
   "metadata": {
    "_uuid": "e5f615f0a8dd65504e38a77b3bca1b2ec1404b6c"
   },
   "source": []
  }
 ],
 "metadata": {
  "kernelspec": {
   "display_name": "Python 3",
   "language": "python",
   "name": "python3"
  },
  "language_info": {
   "codemirror_mode": {
    "name": "ipython",
    "version": 3
   },
   "file_extension": ".py",
   "mimetype": "text/x-python",
   "name": "python",
   "nbconvert_exporter": "python",
   "pygments_lexer": "ipython3",
   "version": "3.8.10"
  }
 },
 "nbformat": 4,
 "nbformat_minor": 4
}
