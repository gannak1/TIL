{
 "cells": [
  {
   "cell_type": "markdown",
   "id": "0746c00e",
   "metadata": {},
   "source": [
    "지도로 아이템 판매량 확인"
   ]
  },
  {
   "cell_type": "code",
   "execution_count": null,
   "id": "b8e7156d",
   "metadata": {},
   "outputs": [],
   "source": [
    "sas = pd.read_csv('./data/sales_train.csv')\n",
    "sas.date = pd.to_datetime(sas.date,format = '%d.%m.%Y',errors = 'raise')\n",
    "shs = pd.read_csv('./data/shops.csv')\n",
    "shs['city'] = shs['shop_name'].str.split(' ').map(lambda x: x[0])\n",
    "shs.loc[shs.city == '!Якутск', 'city'] = 'Якутск'\n",
    "# Интернет-магазин :온라인 상점?\n",
    "# Выездная : 지명인지 모르겠음, 어디에도 지명이라고 안나옴\n",
    "# 그래도 다른 city와 분리하기 위해 city_id로 만들어 두기로 함.\n",
    "city_encoder = LabelEncoder()\n",
    "shs['city_id'] = city_encoder.fit_transform(shs['city'])\n",
    "### 지도에 크기로 표시\n",
    "sig = pd.DataFrame({'Якутск':[62.0333,129.7],'Адыгея':[44.8218,39.1827],'Балашиха':[55.7981904,37.9679867],'Волжский':[48.8176494,44.7707294],'Вологда':[59.21666670,39.90000000],'Воронеж':[51.6754966,39.2088823],'Жуковский':[55.5974912,38.1132562],'Казань':[55.8304307,49.0660806],'Калуга':[54.5518584,36.2850973],'Коломна':[55.08333330,38.78333330],'Красноярск':[56.0152834,92.8932476],'Курск':[51.73733,36.18735],'Москва':[55.751244,37.618423],'Мытищи':[55.9198471,37.7654985],'Н.Новгород':[56.2965039,43.9360589],'Новосибирск':[55.0083526,82.9357327],'Омск':[54.99244,73.36859],'РостовНаДону':[47.2357137,39.701505],'СПб':[59.9342802,30.3350986],'Самара':[54.95423,73.380011],'СергиевПосад':[56.3,38.1333],'Сургут':[61.2559503,73.3845471],'Томск':[56.5010397,84.9924506],'Тюмень':[57.1612975,65.5250172],'Уфа':[54.75,55.966667],'Химки':[55.8940553,37.4439487],'Чехов':[55.14266029946535,37.4545328],'Якутск':[62.0354523,129.6754745],'Ярославль':[57.6260744,39.8844708]}).T.reset_index()\n",
    "sig.columns = ['city','lat','lng']\n",
    "fmap = sas.merge(shs,on = 'shop_id').groupby('city').sum().merge(sig,on = 'city')\n",
    "import folium\n",
    "import random\n",
    "Mt_Hanla =[55,55]\n",
    "map_jeju = folium.Map(location = Mt_Hanla, zoom_start = 2)\n",
    "for i in range(len(fmap)):\n",
    "    color = [\"#\"+''.join([random.choice('0123456789ABCDEF') for j in range(6)])]\n",
    "    name = fmap.iloc[i,0]    # 공식명칭\n",
    "    count = fmap.iloc[i,5]\n",
    "    size = int(count/10000)\n",
    "    long = fmap.iloc[i,7]\n",
    "    lat = fmap.iloc[i,8]\n",
    "    folium.CircleMarker((long,lat), radius = size, color=color, popup=name).add_to(map_jeju)\n",
    "map_jeju"
   ]
  },
  {
   "cell_type": "markdown",
   "id": "65b05572",
   "metadata": {},
   "source": [
    "최근 판매한 날짜"
   ]
  },
  {
   "cell_type": "code",
   "execution_count": null,
   "id": "cea3bf7e",
   "metadata": {},
   "outputs": [],
   "source": [
    "sales.pivot_table(columns = 'shop_id',values = 'date',aggfunc='max')"
   ]
  }
 ],
 "metadata": {
  "kernelspec": {
   "display_name": "Python 3 (ipykernel)",
   "language": "python",
   "name": "python3"
  },
  "language_info": {
   "codemirror_mode": {
    "name": "ipython",
    "version": 3
   },
   "file_extension": ".py",
   "mimetype": "text/x-python",
   "name": "python",
   "nbconvert_exporter": "python",
   "pygments_lexer": "ipython3",
   "version": "3.9.7"
  }
 },
 "nbformat": 4,
 "nbformat_minor": 5
}
