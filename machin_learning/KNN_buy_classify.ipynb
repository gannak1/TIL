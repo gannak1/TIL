{
 "cells": [
  {
   "cell_type": "code",
   "execution_count": 54,
   "id": "ff84000c",
   "metadata": {},
   "outputs": [],
   "source": [
    "import numpy as np\n",
    "import pandas as pd\n",
    "import matplotlib.pyplot as plt\n",
    "%matplotlib inline"
   ]
  },
  {
   "cell_type": "code",
   "execution_count": 71,
   "id": "96f37e14",
   "metadata": {},
   "outputs": [
    {
     "data": {
      "text/html": [
       "<div>\n",
       "<style scoped>\n",
       "    .dataframe tbody tr th:only-of-type {\n",
       "        vertical-align: middle;\n",
       "    }\n",
       "\n",
       "    .dataframe tbody tr th {\n",
       "        vertical-align: top;\n",
       "    }\n",
       "\n",
       "    .dataframe thead th {\n",
       "        text-align: right;\n",
       "    }\n",
       "</style>\n",
       "<table border=\"1\" class=\"dataframe\">\n",
       "  <thead>\n",
       "    <tr style=\"text-align: right;\">\n",
       "      <th></th>\n",
       "      <th>나이</th>\n",
       "      <th>월수입</th>\n",
       "      <th>상품구매여부</th>\n",
       "    </tr>\n",
       "  </thead>\n",
       "  <tbody>\n",
       "    <tr>\n",
       "      <th>0</th>\n",
       "      <td>26</td>\n",
       "      <td>160</td>\n",
       "      <td>구매</td>\n",
       "    </tr>\n",
       "    <tr>\n",
       "      <th>1</th>\n",
       "      <td>35</td>\n",
       "      <td>210</td>\n",
       "      <td>비구매</td>\n",
       "    </tr>\n",
       "    <tr>\n",
       "      <th>2</th>\n",
       "      <td>26</td>\n",
       "      <td>220</td>\n",
       "      <td>비구매</td>\n",
       "    </tr>\n",
       "    <tr>\n",
       "      <th>3</th>\n",
       "      <td>29</td>\n",
       "      <td>260</td>\n",
       "      <td>구매</td>\n",
       "    </tr>\n",
       "    <tr>\n",
       "      <th>4</th>\n",
       "      <td>22</td>\n",
       "      <td>110</td>\n",
       "      <td>비구매</td>\n",
       "    </tr>\n",
       "    <tr>\n",
       "      <th>5</th>\n",
       "      <td>32</td>\n",
       "      <td>210</td>\n",
       "      <td>비구매</td>\n",
       "    </tr>\n",
       "    <tr>\n",
       "      <th>6</th>\n",
       "      <td>37</td>\n",
       "      <td>310</td>\n",
       "      <td>구매</td>\n",
       "    </tr>\n",
       "    <tr>\n",
       "      <th>7</th>\n",
       "      <td>21</td>\n",
       "      <td>110</td>\n",
       "      <td>비구매</td>\n",
       "    </tr>\n",
       "    <tr>\n",
       "      <th>8</th>\n",
       "      <td>28</td>\n",
       "      <td>210</td>\n",
       "      <td>비구매</td>\n",
       "    </tr>\n",
       "    <tr>\n",
       "      <th>9</th>\n",
       "      <td>31</td>\n",
       "      <td>260</td>\n",
       "      <td>구매</td>\n",
       "    </tr>\n",
       "    <tr>\n",
       "      <th>10</th>\n",
       "      <td>36</td>\n",
       "      <td>390</td>\n",
       "      <td>구매</td>\n",
       "    </tr>\n",
       "    <tr>\n",
       "      <th>11</th>\n",
       "      <td>23</td>\n",
       "      <td>110</td>\n",
       "      <td>비구매</td>\n",
       "    </tr>\n",
       "    <tr>\n",
       "      <th>12</th>\n",
       "      <td>32</td>\n",
       "      <td>340</td>\n",
       "      <td>비구매</td>\n",
       "    </tr>\n",
       "    <tr>\n",
       "      <th>13</th>\n",
       "      <td>29</td>\n",
       "      <td>170</td>\n",
       "      <td>구매</td>\n",
       "    </tr>\n",
       "    <tr>\n",
       "      <th>14</th>\n",
       "      <td>37</td>\n",
       "      <td>340</td>\n",
       "      <td>구매</td>\n",
       "    </tr>\n",
       "    <tr>\n",
       "      <th>15</th>\n",
       "      <td>31</td>\n",
       "      <td>240</td>\n",
       "      <td>비구매</td>\n",
       "    </tr>\n",
       "    <tr>\n",
       "      <th>16</th>\n",
       "      <td>27</td>\n",
       "      <td>230</td>\n",
       "      <td>비구매</td>\n",
       "    </tr>\n",
       "    <tr>\n",
       "      <th>17</th>\n",
       "      <td>23</td>\n",
       "      <td>210</td>\n",
       "      <td>비구매</td>\n",
       "    </tr>\n",
       "    <tr>\n",
       "      <th>18</th>\n",
       "      <td>40</td>\n",
       "      <td>440</td>\n",
       "      <td>구매</td>\n",
       "    </tr>\n",
       "    <tr>\n",
       "      <th>19</th>\n",
       "      <td>27</td>\n",
       "      <td>140</td>\n",
       "      <td>비구매</td>\n",
       "    </tr>\n",
       "  </tbody>\n",
       "</table>\n",
       "</div>"
      ],
      "text/plain": [
       "    나이  월수입 상품구매여부\n",
       "0   26  160     구매\n",
       "1   35  210    비구매\n",
       "2   26  220   비구매 \n",
       "3   29  260     구매\n",
       "4   22  110    비구매\n",
       "5   32  210    비구매\n",
       "6   37  310     구매\n",
       "7   21  110    비구매\n",
       "8   28  210    비구매\n",
       "9   31  260     구매\n",
       "10  36  390     구매\n",
       "11  23  110    비구매\n",
       "12  32  340    비구매\n",
       "13  29  170     구매\n",
       "14  37  340     구매\n",
       "15  31  240    비구매\n",
       "16  27  230    비구매\n",
       "17  23  210    비구매\n",
       "18  40  440     구매\n",
       "19  27  140    비구매"
      ]
     },
     "execution_count": 71,
     "metadata": {},
     "output_type": "execute_result"
    }
   ],
   "source": [
    "# 데이터 불러오기\n",
    "pd.read_csv('./data/buy.csv')"
   ]
  },
  {
   "cell_type": "code",
   "execution_count": 72,
   "id": "ceb215b3",
   "metadata": {
    "scrolled": true
   },
   "outputs": [
    {
     "data": {
      "text/html": [
       "<div>\n",
       "<style scoped>\n",
       "    .dataframe tbody tr th:only-of-type {\n",
       "        vertical-align: middle;\n",
       "    }\n",
       "\n",
       "    .dataframe tbody tr th {\n",
       "        vertical-align: top;\n",
       "    }\n",
       "\n",
       "    .dataframe thead th {\n",
       "        text-align: right;\n",
       "    }\n",
       "</style>\n",
       "<table border=\"1\" class=\"dataframe\">\n",
       "  <thead>\n",
       "    <tr style=\"text-align: right;\">\n",
       "      <th></th>\n",
       "      <th>age</th>\n",
       "      <th>paycheck</th>\n",
       "      <th>purchase</th>\n",
       "    </tr>\n",
       "  </thead>\n",
       "  <tbody>\n",
       "    <tr>\n",
       "      <th>0</th>\n",
       "      <td>26</td>\n",
       "      <td>160</td>\n",
       "      <td>구매</td>\n",
       "    </tr>\n",
       "    <tr>\n",
       "      <th>1</th>\n",
       "      <td>35</td>\n",
       "      <td>210</td>\n",
       "      <td>비구매</td>\n",
       "    </tr>\n",
       "    <tr>\n",
       "      <th>2</th>\n",
       "      <td>26</td>\n",
       "      <td>220</td>\n",
       "      <td>비구매</td>\n",
       "    </tr>\n",
       "    <tr>\n",
       "      <th>3</th>\n",
       "      <td>29</td>\n",
       "      <td>260</td>\n",
       "      <td>구매</td>\n",
       "    </tr>\n",
       "    <tr>\n",
       "      <th>4</th>\n",
       "      <td>22</td>\n",
       "      <td>110</td>\n",
       "      <td>비구매</td>\n",
       "    </tr>\n",
       "  </tbody>\n",
       "</table>\n",
       "</div>"
      ],
      "text/plain": [
       "   age  paycheck purchase\n",
       "0   26       160       구매\n",
       "1   35       210      비구매\n",
       "2   26       220     비구매 \n",
       "3   29       260       구매\n",
       "4   22       110      비구매"
      ]
     },
     "execution_count": 72,
     "metadata": {},
     "output_type": "execute_result"
    }
   ],
   "source": [
    "buy = pd.read_csv('./data/buy.csv')\n",
    "buy.columns = ['age','paycheck','purchase'] # age, paycheck : 연속, purchase :  범주 \n",
    "buy.head()"
   ]
  },
  {
   "cell_type": "code",
   "execution_count": 73,
   "id": "e219c1df",
   "metadata": {},
   "outputs": [
    {
     "name": "stdout",
     "output_type": "stream",
     "text": [
      "(20, 3)\n",
      "<class 'pandas.core.frame.DataFrame'>\n",
      "RangeIndex: 20 entries, 0 to 19\n",
      "Data columns (total 3 columns):\n",
      " #   Column    Non-Null Count  Dtype \n",
      "---  ------    --------------  ----- \n",
      " 0   age       20 non-null     int64 \n",
      " 1   paycheck  20 non-null     int64 \n",
      " 2   purchase  20 non-null     object\n",
      "dtypes: int64(2), object(1)\n",
      "memory usage: 608.0+ bytes\n"
     ]
    }
   ],
   "source": [
    "print(buy.shape)\n",
    "buy.info()"
   ]
  },
  {
   "cell_type": "code",
   "execution_count": 74,
   "id": "342fd2af",
   "metadata": {
    "scrolled": true
   },
   "outputs": [
    {
     "data": {
      "text/plain": [
       "0       구매\n",
       "1      비구매\n",
       "2     비구매 \n",
       "3       구매\n",
       "4      비구매\n",
       "5      비구매\n",
       "6       구매\n",
       "7      비구매\n",
       "8      비구매\n",
       "9       구매\n",
       "10      구매\n",
       "11     비구매\n",
       "12     비구매\n",
       "13      구매\n",
       "14      구매\n",
       "15     비구매\n",
       "16     비구매\n",
       "17     비구매\n",
       "18      구매\n",
       "19     비구매\n",
       "Name: purchase, dtype: object"
      ]
     },
     "execution_count": 74,
     "metadata": {},
     "output_type": "execute_result"
    }
   ],
   "source": [
    "buy.purchase"
   ]
  },
  {
   "cell_type": "code",
   "execution_count": 77,
   "id": "f8577b7d",
   "metadata": {},
   "outputs": [],
   "source": [
    "x = buy.iloc[:, [0,1]]\n",
    "y = buy.iloc[:, [2]]"
   ]
  },
  {
   "cell_type": "code",
   "execution_count": 78,
   "id": "7170d7bc",
   "metadata": {},
   "outputs": [
    {
     "data": {
      "text/plain": [
       "(    age  paycheck\n",
       " 0    26       160\n",
       " 1    35       210\n",
       " 2    26       220\n",
       " 3    29       260\n",
       " 4    22       110\n",
       " 5    32       210\n",
       " 6    37       310\n",
       " 7    21       110\n",
       " 8    28       210\n",
       " 9    31       260\n",
       " 10   36       390\n",
       " 11   23       110\n",
       " 12   32       340\n",
       " 13   29       170\n",
       " 14   37       340\n",
       " 15   31       240\n",
       " 16   27       230\n",
       " 17   23       210\n",
       " 18   40       440\n",
       " 19   27       140,\n",
       "    purchase\n",
       " 0        구매\n",
       " 1       비구매\n",
       " 2      비구매 \n",
       " 3        구매\n",
       " 4       비구매\n",
       " 5       비구매\n",
       " 6        구매\n",
       " 7       비구매\n",
       " 8       비구매\n",
       " 9        구매\n",
       " 10       구매\n",
       " 11      비구매\n",
       " 12      비구매\n",
       " 13       구매\n",
       " 14       구매\n",
       " 15      비구매\n",
       " 16      비구매\n",
       " 17      비구매\n",
       " 18       구매\n",
       " 19      비구매)"
      ]
     },
     "execution_count": 78,
     "metadata": {},
     "output_type": "execute_result"
    }
   ],
   "source": [
    "x, y"
   ]
  },
  {
   "cell_type": "code",
   "execution_count": 79,
   "id": "2072f622",
   "metadata": {},
   "outputs": [],
   "source": [
    "# 데이터 정규화 >> StandardScaler (분류)\n",
    "from sklearn.preprocessing import StandardScaler\n",
    "\n",
    "scaler = StandardScaler()\n",
    "scaler.fit(x) # data 훈련 \n",
    "x = scaler.transform(x) # 변환 "
   ]
  },
  {
   "cell_type": "code",
   "execution_count": 80,
   "id": "4dd1c680",
   "metadata": {},
   "outputs": [
    {
     "name": "stderr",
     "output_type": "stream",
     "text": [
      "C:\\ProgramData\\Anaconda3\\lib\\site-packages\\sklearn\\neighbors\\_classification.py:179: DataConversionWarning: A column-vector y was passed when a 1d array was expected. Please change the shape of y to (n_samples,), for example using ravel().\n",
      "  return self._fit(X, y)\n"
     ]
    },
    {
     "data": {
      "text/plain": [
       "KNeighborsClassifier(n_neighbors=2)"
      ]
     },
     "execution_count": 80,
     "metadata": {},
     "output_type": "execute_result"
    }
   ],
   "source": [
    "# knn 분류 모델 생성(범주형 데이터 분석)\n",
    "\n",
    "from sklearn.neighbors import KNeighborsClassifier\n",
    "\n",
    "classifier = KNeighborsClassifier(n_neighbors = 2)\n",
    "classifier.fit(x, y)"
   ]
  },
  {
   "cell_type": "code",
   "execution_count": 81,
   "id": "034bcd5b",
   "metadata": {},
   "outputs": [
    {
     "data": {
      "text/plain": [
       "array(['구매', '비구매', '비구매', '구매', '비구매', '비구매', '구매', '비구매', '비구매', '구매',\n",
       "       '구매', '비구매', '구매', '구매', '구매', '구매', '비구매', '비구매', '구매', '구매'],\n",
       "      dtype=object)"
      ]
     },
     "execution_count": 81,
     "metadata": {},
     "output_type": "execute_result"
    }
   ],
   "source": [
    "# 원래의 데이터를 넣어서 예측 \n",
    "y_pred = classifier.predict(x)\n",
    "y_pred "
   ]
  },
  {
   "cell_type": "code",
   "execution_count": 82,
   "id": "33b8ca94",
   "metadata": {},
   "outputs": [
    {
     "name": "stdout",
     "output_type": "stream",
     "text": [
      "['구매' '비구매' '비구매' '구매' '비구매' '비구매' '구매' '비구매' '비구매' '구매' '구매' '비구매' '구매'\n",
      " '구매' '구매' '구매' '비구매' '비구매' '구매' '구매']\n",
      "   purchase\n",
      "0        구매\n",
      "1       비구매\n",
      "2      비구매 \n",
      "3        구매\n",
      "4       비구매\n",
      "5       비구매\n",
      "6        구매\n",
      "7       비구매\n",
      "8       비구매\n",
      "9        구매\n",
      "10       구매\n",
      "11      비구매\n",
      "12      비구매\n",
      "13       구매\n",
      "14       구매\n",
      "15      비구매\n",
      "16      비구매\n",
      "17      비구매\n",
      "18       구매\n",
      "19      비구매\n"
     ]
    }
   ],
   "source": [
    "print(y_pred)\n",
    "print(y)"
   ]
  },
  {
   "cell_type": "code",
   "execution_count": 83,
   "id": "ec18c623",
   "metadata": {
    "scrolled": true
   },
   "outputs": [
    {
     "name": "stdout",
     "output_type": "stream",
     "text": [
      "[[11  1]\n",
      " [ 4  4]]\n",
      "              precision    recall  f1-score   support\n",
      "\n",
      "           0       0.73      0.92      0.81        12\n",
      "           1       0.80      0.50      0.62         8\n",
      "\n",
      "    accuracy                           0.75        20\n",
      "   macro avg       0.77      0.71      0.72        20\n",
      "weighted avg       0.76      0.75      0.74        20\n",
      "\n"
     ]
    }
   ],
   "source": [
    "from sklearn.metrics import classification_report, confusion_matrix\n",
    "print(confusion_matrix(y_test, result)) # (실제값, 예측값) 비교 \n",
    "print(classification_report(y_test, result))"
   ]
  }
 ],
 "metadata": {
  "kernelspec": {
   "display_name": "Python 3 (ipykernel)",
   "language": "python",
   "name": "python3"
  },
  "language_info": {
   "codemirror_mode": {
    "name": "ipython",
    "version": 3
   },
   "file_extension": ".py",
   "mimetype": "text/x-python",
   "name": "python",
   "nbconvert_exporter": "python",
   "pygments_lexer": "ipython3",
   "version": "3.9.7"
  }
 },
 "nbformat": 4,
 "nbformat_minor": 5
}
