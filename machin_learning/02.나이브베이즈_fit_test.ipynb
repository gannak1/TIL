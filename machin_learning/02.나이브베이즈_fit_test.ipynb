{
 "cells": [
  {
   "cell_type": "code",
   "execution_count": 1,
   "id": "cf134ec7",
   "metadata": {},
   "outputs": [],
   "source": [
    "from sklearn.naive_bayes import MultinomialNB\n",
    "import numpy as np\n",
    "import pandas as pd"
   ]
  },
  {
   "cell_type": "code",
   "execution_count": 3,
   "id": "780bb061",
   "metadata": {},
   "outputs": [],
   "source": [
    "X = np.random.randint(5,size=(6,100))\n",
    "y = np.array([1,2,3,4,5,6])"
   ]
  },
  {
   "cell_type": "code",
   "execution_count": 4,
   "id": "dc5496b7",
   "metadata": {},
   "outputs": [
    {
     "name": "stdout",
     "output_type": "stream",
     "text": [
      "[[0 2 4 3 3 3 4 3 3 2 4 4 0 0 2 0 1 2 0 2 1 1 1 1 0 4 0 2 1 1 3 1 4 1 2 4\n",
      "  3 4 1 2 2 0 1 2 2 0 4 2 1 3 0 0 2 3 3 2 3 2 3 1 0 3 2 4 2 3 4 1 2 4 2 3\n",
      "  1 1 4 2 0 4 1 0 1 4 4 4 4 0 0 2 3 0 3 2 1 4 1 2 1 3 1 1]\n",
      " [1 3 2 3 1 3 1 2 0 4 1 0 1 1 0 0 4 3 1 1 2 1 2 3 1 0 1 3 3 2 4 4 4 4 1 1\n",
      "  1 3 4 2 1 4 0 0 0 1 4 4 2 0 0 2 2 2 3 3 3 4 3 4 3 3 2 4 4 2 2 3 3 2 3 1\n",
      "  3 0 4 1 2 3 2 4 0 4 4 3 0 1 3 0 4 4 3 3 4 0 3 0 1 0 0 3]\n",
      " [3 1 3 0 2 3 3 1 1 3 3 4 4 1 3 0 3 3 4 4 4 0 2 2 3 0 0 4 0 2 1 4 3 4 3 2\n",
      "  3 0 2 2 3 3 4 3 2 3 2 4 4 2 3 2 2 3 1 3 2 0 4 2 1 3 1 4 4 1 4 0 2 2 0 0\n",
      "  2 4 2 4 0 2 4 2 0 2 1 0 1 3 1 0 4 3 2 4 0 3 4 4 1 2 0 2]\n",
      " [4 4 0 3 4 3 2 0 0 1 3 2 0 3 4 0 3 1 0 1 1 2 1 2 3 4 0 3 3 1 3 3 2 4 1 3\n",
      "  4 1 1 1 1 2 1 1 3 0 0 3 0 4 3 4 3 2 3 1 3 3 3 1 4 3 3 0 1 3 1 3 3 0 1 4\n",
      "  0 2 4 3 0 1 2 0 2 3 0 1 3 1 2 2 4 0 4 4 4 4 1 4 1 1 2 2]\n",
      " [0 0 3 4 4 3 2 1 2 0 2 1 2 1 2 4 3 4 3 3 3 0 3 0 4 4 2 2 1 4 2 2 1 1 1 4\n",
      "  3 4 0 0 2 3 3 3 4 3 2 2 4 1 4 0 4 0 3 3 3 1 1 4 1 0 4 4 4 1 1 4 1 1 3 1\n",
      "  3 2 2 1 4 2 2 2 3 3 2 2 0 1 3 1 2 4 1 3 0 2 4 2 4 0 4 4]\n",
      " [4 2 2 2 1 2 4 0 0 3 3 1 0 3 0 4 3 0 4 3 4 4 0 2 4 1 1 0 1 3 0 3 3 0 4 4\n",
      "  3 3 3 1 2 0 3 4 4 0 3 0 2 0 1 0 0 0 0 3 1 4 0 2 4 3 4 0 3 3 1 0 1 2 3 2\n",
      "  1 0 1 0 4 0 4 0 2 3 0 3 4 0 1 2 4 1 1 3 4 3 2 2 2 0 0 2]]\n",
      "\n",
      "[1 2 3 4 5 6]\n"
     ]
    }
   ],
   "source": [
    "print(X)\n",
    "print()\n",
    "print(y)"
   ]
  },
  {
   "cell_type": "code",
   "execution_count": 5,
   "id": "ebf6012f",
   "metadata": {},
   "outputs": [],
   "source": [
    "# 문제\n",
    "clf = MultinomialNB()"
   ]
  },
  {
   "cell_type": "code",
   "execution_count": 6,
   "id": "c87f5c0a",
   "metadata": {},
   "outputs": [
    {
     "data": {
      "text/plain": [
       "MultinomialNB()"
      ]
     },
     "execution_count": 6,
     "metadata": {},
     "output_type": "execute_result"
    }
   ],
   "source": [
    "clf.fit(X,y)"
   ]
  },
  {
   "cell_type": "code",
   "execution_count": 16,
   "id": "a3de1deb",
   "metadata": {
    "scrolled": true
   },
   "outputs": [
    {
     "data": {
      "text/plain": [
       "array([[1.03672504e-26, 1.01139262e-34, 2.73263674e-33, 1.00000000e+00,\n",
       "        9.83649138e-38, 6.57146128e-34]])"
      ]
     },
     "execution_count": 16,
     "metadata": {},
     "output_type": "execute_result"
    }
   ],
   "source": [
    "# 문제\n",
    "# 4번째 데이터 class 예측해보세요 (reshape)\n",
    "clf.predict(X[3].reshape(1,-1))\n",
    "clf.predict_proba(X[3].reshape(1,-1))"
   ]
  },
  {
   "cell_type": "code",
   "execution_count": 14,
   "id": "e3ac3a48",
   "metadata": {},
   "outputs": [
    {
     "data": {
      "text/plain": [
       "array([[4, 4, 0, 3, 4, 3, 2, 0, 0, 1, 3, 2, 0, 3, 4, 0, 3, 1, 0, 1, 1, 2,\n",
       "        1, 2, 3, 4, 0, 3, 3, 1, 3, 3, 2, 4, 1, 3, 4, 1, 1, 1, 1, 2, 1, 1,\n",
       "        3, 0, 0, 3, 0, 4, 3, 4, 3, 2, 3, 1, 3, 3, 3, 1, 4, 3, 3, 0, 1, 3,\n",
       "        1, 3, 3, 0, 1, 4, 0, 2, 4, 3, 0, 1, 2, 0, 2, 3, 0, 1, 3, 1, 2, 2,\n",
       "        4, 0, 4, 4, 4, 4, 1, 4, 1, 1, 2, 2]])"
      ]
     },
     "execution_count": 14,
     "metadata": {},
     "output_type": "execute_result"
    }
   ],
   "source": [
    "X[3,:].reshape(1,-1)"
   ]
  },
  {
   "cell_type": "code",
   "execution_count": 17,
   "id": "0b6c7715",
   "metadata": {},
   "outputs": [
    {
     "data": {
      "text/plain": [
       "array([1, 2, 3, 4, 5, 6])"
      ]
     },
     "execution_count": 17,
     "metadata": {},
     "output_type": "execute_result"
    }
   ],
   "source": [
    "# 전체 훈련 데이터 예측\n",
    "clf.predict(X)"
   ]
  },
  {
   "cell_type": "code",
   "execution_count": null,
   "id": "71461aad",
   "metadata": {},
   "outputs": [],
   "source": []
  }
 ],
 "metadata": {
  "kernelspec": {
   "display_name": "Python 3 (ipykernel)",
   "language": "python",
   "name": "python3"
  },
  "language_info": {
   "codemirror_mode": {
    "name": "ipython",
    "version": 3
   },
   "file_extension": ".py",
   "mimetype": "text/x-python",
   "name": "python",
   "nbconvert_exporter": "python",
   "pygments_lexer": "ipython3",
   "version": "3.9.7"
  }
 },
 "nbformat": 4,
 "nbformat_minor": 5
}
