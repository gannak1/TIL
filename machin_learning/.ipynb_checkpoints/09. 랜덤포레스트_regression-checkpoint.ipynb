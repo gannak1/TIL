{
 "cells": [
  {
   "cell_type": "code",
   "execution_count": 22,
   "id": "cc58f0ea",
   "metadata": {},
   "outputs": [],
   "source": [
    "from sklearn import datasets\n",
    "diabetes = datasets.load_diabetes()"
   ]
  },
  {
   "cell_type": "code",
   "execution_count": 23,
   "id": "5a9e5982",
   "metadata": {},
   "outputs": [],
   "source": [
    "import pandas as pd\n",
    "%matplotlib inline\n",
    "import matplotlib.pyplot as plt\n",
    "import numpy as np\n",
    "\n",
    "from sklearn import tree, ensemble\n",
    "from sklearn.metrics import accuracy_score, confusion_matrix\n",
    "from sklearn.metrics import precision_score, recall_score, f1_score"
   ]
  },
  {
   "cell_type": "code",
   "execution_count": 2,
   "id": "a97580c4",
   "metadata": {},
   "outputs": [
    {
     "data": {
      "text/plain": [
       "{'data': array([[ 0.03807591,  0.05068012,  0.06169621, ..., -0.00259226,\n",
       "          0.01990842, -0.01764613],\n",
       "        [-0.00188202, -0.04464164, -0.05147406, ..., -0.03949338,\n",
       "         -0.06832974, -0.09220405],\n",
       "        [ 0.08529891,  0.05068012,  0.04445121, ..., -0.00259226,\n",
       "          0.00286377, -0.02593034],\n",
       "        ...,\n",
       "        [ 0.04170844,  0.05068012, -0.01590626, ..., -0.01107952,\n",
       "         -0.04687948,  0.01549073],\n",
       "        [-0.04547248, -0.04464164,  0.03906215, ...,  0.02655962,\n",
       "          0.04452837, -0.02593034],\n",
       "        [-0.04547248, -0.04464164, -0.0730303 , ..., -0.03949338,\n",
       "         -0.00421986,  0.00306441]]),\n",
       " 'target': array([151.,  75., 141., 206., 135.,  97., 138.,  63., 110., 310., 101.,\n",
       "         69., 179., 185., 118., 171., 166., 144.,  97., 168.,  68.,  49.,\n",
       "         68., 245., 184., 202., 137.,  85., 131., 283., 129.,  59., 341.,\n",
       "         87.,  65., 102., 265., 276., 252.,  90., 100.,  55.,  61.,  92.,\n",
       "        259.,  53., 190., 142.,  75., 142., 155., 225.,  59., 104., 182.,\n",
       "        128.,  52.,  37., 170., 170.,  61., 144.,  52., 128.,  71., 163.,\n",
       "        150.,  97., 160., 178.,  48., 270., 202., 111.,  85.,  42., 170.,\n",
       "        200., 252., 113., 143.,  51.,  52., 210.,  65., 141.,  55., 134.,\n",
       "         42., 111.,  98., 164.,  48.,  96.,  90., 162., 150., 279.,  92.,\n",
       "         83., 128., 102., 302., 198.,  95.,  53., 134., 144., 232.,  81.,\n",
       "        104.,  59., 246., 297., 258., 229., 275., 281., 179., 200., 200.,\n",
       "        173., 180.,  84., 121., 161.,  99., 109., 115., 268., 274., 158.,\n",
       "        107.,  83., 103., 272.,  85., 280., 336., 281., 118., 317., 235.,\n",
       "         60., 174., 259., 178., 128.,  96., 126., 288.,  88., 292.,  71.,\n",
       "        197., 186.,  25.,  84.,  96., 195.,  53., 217., 172., 131., 214.,\n",
       "         59.,  70., 220., 268., 152.,  47.,  74., 295., 101., 151., 127.,\n",
       "        237., 225.,  81., 151., 107.,  64., 138., 185., 265., 101., 137.,\n",
       "        143., 141.,  79., 292., 178.,  91., 116.,  86., 122.,  72., 129.,\n",
       "        142.,  90., 158.,  39., 196., 222., 277.,  99., 196., 202., 155.,\n",
       "         77., 191.,  70.,  73.,  49.,  65., 263., 248., 296., 214., 185.,\n",
       "         78.,  93., 252., 150.,  77., 208.,  77., 108., 160.,  53., 220.,\n",
       "        154., 259.,  90., 246., 124.,  67.,  72., 257., 262., 275., 177.,\n",
       "         71.,  47., 187., 125.,  78.,  51., 258., 215., 303., 243.,  91.,\n",
       "        150., 310., 153., 346.,  63.,  89.,  50.,  39., 103., 308., 116.,\n",
       "        145.,  74.,  45., 115., 264.,  87., 202., 127., 182., 241.,  66.,\n",
       "         94., 283.,  64., 102., 200., 265.,  94., 230., 181., 156., 233.,\n",
       "         60., 219.,  80.,  68., 332., 248.,  84., 200.,  55.,  85.,  89.,\n",
       "         31., 129.,  83., 275.,  65., 198., 236., 253., 124.,  44., 172.,\n",
       "        114., 142., 109., 180., 144., 163., 147.,  97., 220., 190., 109.,\n",
       "        191., 122., 230., 242., 248., 249., 192., 131., 237.,  78., 135.,\n",
       "        244., 199., 270., 164.,  72.,  96., 306.,  91., 214.,  95., 216.,\n",
       "        263., 178., 113., 200., 139., 139.,  88., 148.,  88., 243.,  71.,\n",
       "         77., 109., 272.,  60.,  54., 221.,  90., 311., 281., 182., 321.,\n",
       "         58., 262., 206., 233., 242., 123., 167.,  63., 197.,  71., 168.,\n",
       "        140., 217., 121., 235., 245.,  40.,  52., 104., 132.,  88.,  69.,\n",
       "        219.,  72., 201., 110.,  51., 277.,  63., 118.,  69., 273., 258.,\n",
       "         43., 198., 242., 232., 175.,  93., 168., 275., 293., 281.,  72.,\n",
       "        140., 189., 181., 209., 136., 261., 113., 131., 174., 257.,  55.,\n",
       "         84.,  42., 146., 212., 233.,  91., 111., 152., 120.,  67., 310.,\n",
       "         94., 183.,  66., 173.,  72.,  49.,  64.,  48., 178., 104., 132.,\n",
       "        220.,  57.]),\n",
       " 'frame': None,\n",
       " 'DESCR': '.. _diabetes_dataset:\\n\\nDiabetes dataset\\n----------------\\n\\nTen baseline variables, age, sex, body mass index, average blood\\npressure, and six blood serum measurements were obtained for each of n =\\n442 diabetes patients, as well as the response of interest, a\\nquantitative measure of disease progression one year after baseline.\\n\\n**Data Set Characteristics:**\\n\\n  :Number of Instances: 442\\n\\n  :Number of Attributes: First 10 columns are numeric predictive values\\n\\n  :Target: Column 11 is a quantitative measure of disease progression one year after baseline\\n\\n  :Attribute Information:\\n      - age     age in years\\n      - sex\\n      - bmi     body mass index\\n      - bp      average blood pressure\\n      - s1      tc, total serum cholesterol\\n      - s2      ldl, low-density lipoproteins\\n      - s3      hdl, high-density lipoproteins\\n      - s4      tch, total cholesterol / HDL\\n      - s5      ltg, possibly log of serum triglycerides level\\n      - s6      glu, blood sugar level\\n\\nNote: Each of these 10 feature variables have been mean centered and scaled by the standard deviation times `n_samples` (i.e. the sum of squares of each column totals 1).\\n\\nSource URL:\\nhttps://www4.stat.ncsu.edu/~boos/var.select/diabetes.html\\n\\nFor more information see:\\nBradley Efron, Trevor Hastie, Iain Johnstone and Robert Tibshirani (2004) \"Least Angle Regression,\" Annals of Statistics (with discussion), 407-499.\\n(https://web.stanford.edu/~hastie/Papers/LARS/LeastAngle_2002.pdf)',\n",
       " 'feature_names': ['age',\n",
       "  'sex',\n",
       "  'bmi',\n",
       "  'bp',\n",
       "  's1',\n",
       "  's2',\n",
       "  's3',\n",
       "  's4',\n",
       "  's5',\n",
       "  's6'],\n",
       " 'data_filename': 'C:\\\\ProgramData\\\\Anaconda3\\\\lib\\\\site-packages\\\\sklearn\\\\datasets\\\\data\\\\diabetes_data.csv.gz',\n",
       " 'target_filename': 'C:\\\\ProgramData\\\\Anaconda3\\\\lib\\\\site-packages\\\\sklearn\\\\datasets\\\\data\\\\diabetes_target.csv.gz'}"
      ]
     },
     "execution_count": 2,
     "metadata": {},
     "output_type": "execute_result"
    }
   ],
   "source": [
    "diabetes"
   ]
  },
  {
   "cell_type": "code",
   "execution_count": 4,
   "id": "4b644f3d",
   "metadata": {
    "collapsed": true
   },
   "outputs": [
    {
     "data": {
      "text/plain": [
       "(array([[ 0.03807591,  0.05068012,  0.06169621, ..., -0.00259226,\n",
       "          0.01990842, -0.01764613],\n",
       "        [-0.00188202, -0.04464164, -0.05147406, ..., -0.03949338,\n",
       "         -0.06832974, -0.09220405],\n",
       "        [ 0.08529891,  0.05068012,  0.04445121, ..., -0.00259226,\n",
       "          0.00286377, -0.02593034],\n",
       "        ...,\n",
       "        [ 0.04170844,  0.05068012, -0.01590626, ..., -0.01107952,\n",
       "         -0.04687948,  0.01549073],\n",
       "        [-0.04547248, -0.04464164,  0.03906215, ...,  0.02655962,\n",
       "          0.04452837, -0.02593034],\n",
       "        [-0.04547248, -0.04464164, -0.0730303 , ..., -0.03949338,\n",
       "         -0.00421986,  0.00306441]]),\n",
       " array([151.,  75., 141., 206., 135.,  97., 138.,  63., 110., 310., 101.,\n",
       "         69., 179., 185., 118., 171., 166., 144.,  97., 168.,  68.,  49.,\n",
       "         68., 245., 184., 202., 137.,  85., 131., 283., 129.,  59., 341.,\n",
       "         87.,  65., 102., 265., 276., 252.,  90., 100.,  55.,  61.,  92.,\n",
       "        259.,  53., 190., 142.,  75., 142., 155., 225.,  59., 104., 182.,\n",
       "        128.,  52.,  37., 170., 170.,  61., 144.,  52., 128.,  71., 163.,\n",
       "        150.,  97., 160., 178.,  48., 270., 202., 111.,  85.,  42., 170.,\n",
       "        200., 252., 113., 143.,  51.,  52., 210.,  65., 141.,  55., 134.,\n",
       "         42., 111.,  98., 164.,  48.,  96.,  90., 162., 150., 279.,  92.,\n",
       "         83., 128., 102., 302., 198.,  95.,  53., 134., 144., 232.,  81.,\n",
       "        104.,  59., 246., 297., 258., 229., 275., 281., 179., 200., 200.,\n",
       "        173., 180.,  84., 121., 161.,  99., 109., 115., 268., 274., 158.,\n",
       "        107.,  83., 103., 272.,  85., 280., 336., 281., 118., 317., 235.,\n",
       "         60., 174., 259., 178., 128.,  96., 126., 288.,  88., 292.,  71.,\n",
       "        197., 186.,  25.,  84.,  96., 195.,  53., 217., 172., 131., 214.,\n",
       "         59.,  70., 220., 268., 152.,  47.,  74., 295., 101., 151., 127.,\n",
       "        237., 225.,  81., 151., 107.,  64., 138., 185., 265., 101., 137.,\n",
       "        143., 141.,  79., 292., 178.,  91., 116.,  86., 122.,  72., 129.,\n",
       "        142.,  90., 158.,  39., 196., 222., 277.,  99., 196., 202., 155.,\n",
       "         77., 191.,  70.,  73.,  49.,  65., 263., 248., 296., 214., 185.,\n",
       "         78.,  93., 252., 150.,  77., 208.,  77., 108., 160.,  53., 220.,\n",
       "        154., 259.,  90., 246., 124.,  67.,  72., 257., 262., 275., 177.,\n",
       "         71.,  47., 187., 125.,  78.,  51., 258., 215., 303., 243.,  91.,\n",
       "        150., 310., 153., 346.,  63.,  89.,  50.,  39., 103., 308., 116.,\n",
       "        145.,  74.,  45., 115., 264.,  87., 202., 127., 182., 241.,  66.,\n",
       "         94., 283.,  64., 102., 200., 265.,  94., 230., 181., 156., 233.,\n",
       "         60., 219.,  80.,  68., 332., 248.,  84., 200.,  55.,  85.,  89.,\n",
       "         31., 129.,  83., 275.,  65., 198., 236., 253., 124.,  44., 172.,\n",
       "        114., 142., 109., 180., 144., 163., 147.,  97., 220., 190., 109.,\n",
       "        191., 122., 230., 242., 248., 249., 192., 131., 237.,  78., 135.,\n",
       "        244., 199., 270., 164.,  72.,  96., 306.,  91., 214.,  95., 216.,\n",
       "        263., 178., 113., 200., 139., 139.,  88., 148.,  88., 243.,  71.,\n",
       "         77., 109., 272.,  60.,  54., 221.,  90., 311., 281., 182., 321.,\n",
       "         58., 262., 206., 233., 242., 123., 167.,  63., 197.,  71., 168.,\n",
       "        140., 217., 121., 235., 245.,  40.,  52., 104., 132.,  88.,  69.,\n",
       "        219.,  72., 201., 110.,  51., 277.,  63., 118.,  69., 273., 258.,\n",
       "         43., 198., 242., 232., 175.,  93., 168., 275., 293., 281.,  72.,\n",
       "        140., 189., 181., 209., 136., 261., 113., 131., 174., 257.,  55.,\n",
       "         84.,  42., 146., 212., 233.,  91., 111., 152., 120.,  67., 310.,\n",
       "         94., 183.,  66., 173.,  72.,  49.,  64.,  48., 178., 104., 132.,\n",
       "        220.,  57.]),\n",
       " ['age', 'sex', 'bmi', 'bp', 's1', 's2', 's3', 's4', 's5', 's6'])"
      ]
     },
     "execution_count": 4,
     "metadata": {},
     "output_type": "execute_result"
    }
   ],
   "source": [
    "x = diabetes.data\n",
    "y = diabetes.target\n",
    "feature = diabetes.feature_names\n",
    "x,y,feature"
   ]
  },
  {
   "cell_type": "code",
   "execution_count": 5,
   "id": "40ea8592",
   "metadata": {},
   "outputs": [
    {
     "data": {
      "text/plain": [
       "((442, 10),\n",
       " (442,),\n",
       " ['age', 'sex', 'bmi', 'bp', 's1', 's2', 's3', 's4', 's5', 's6'])"
      ]
     },
     "execution_count": 5,
     "metadata": {},
     "output_type": "execute_result"
    }
   ],
   "source": [
    "x.shape,y.shape,feature"
   ]
  },
  {
   "cell_type": "code",
   "execution_count": 14,
   "id": "1227e758",
   "metadata": {},
   "outputs": [
    {
     "data": {
      "text/plain": [
       "(array([[ 0.80050009,  1.06548848,  1.29708846, ..., -0.05449919,\n",
       "          0.41855058, -0.37098854],\n",
       "        [-0.03956713, -0.93853666, -1.08218016, ..., -0.83030083,\n",
       "         -1.43655059, -1.93847913],\n",
       "        [ 1.79330681,  1.06548848,  0.93453324, ..., -0.05449919,\n",
       "          0.06020733, -0.54515416],\n",
       "        ...,\n",
       "        [ 0.87686984,  1.06548848, -0.33441002, ..., -0.23293356,\n",
       "         -0.98558469,  0.32567395],\n",
       "        [-0.9560041 , -0.93853666,  0.82123474, ...,  0.55838411,\n",
       "          0.93615545, -0.54515416],\n",
       "        [-0.9560041 , -0.93853666, -1.53537419, ..., -0.83030083,\n",
       "         -0.08871747,  0.06442552]]),\n",
       " (442, 10))"
      ]
     },
     "execution_count": 14,
     "metadata": {},
     "output_type": "execute_result"
    }
   ],
   "source": [
    "# 데이터 정규화\n",
    "from sklearn.preprocessing import StandardScaler\n",
    "x_regu = StandardScaler().fit(x).transform(x)\n",
    "x_regu,x_regu.shape"
   ]
  },
  {
   "cell_type": "code",
   "execution_count": 27,
   "id": "c3c120c7",
   "metadata": {},
   "outputs": [],
   "source": [
    "# 랜덤 회귀모델\n",
    "\n",
    "model = ensemble.RandomForestRegressor() # mean square error를 기본"
   ]
  },
  {
   "cell_type": "code",
   "execution_count": 30,
   "id": "74f73404",
   "metadata": {},
   "outputs": [],
   "source": [
    "# 정규화하지 않은 모델 model1\n",
    "model1 = model.fit(x, y)"
   ]
  },
  {
   "cell_type": "code",
   "execution_count": 42,
   "id": "0c2b6ce4",
   "metadata": {},
   "outputs": [],
   "source": [
    "# 정규화한 않은 모델 model2\n",
    "model2 = model.fit(x_regu, y)"
   ]
  },
  {
   "cell_type": "code",
   "execution_count": 31,
   "id": "82507156",
   "metadata": {
    "scrolled": true
   },
   "outputs": [
    {
     "data": {
      "text/plain": [
       "array([176.2 ,  81.92, 143.98, 194.91, 118.3 , 100.77, 117.67, 110.89,\n",
       "       122.23, 235.17, 108.85, 101.57, 142.65, 183.44, 114.07, 178.35,\n",
       "       184.66, 158.41, 103.17, 140.39,  84.29,  68.99,  84.37, 245.75,\n",
       "       175.04, 182.18, 122.07, 109.12, 135.89, 247.56, 134.3 ,  63.7 ,\n",
       "       312.57,  95.94,  71.96, 112.17, 255.33, 219.06, 246.15, 123.19,\n",
       "       123.91,  81.46,  87.17,  91.74, 232.11,  72.77, 166.02, 136.65,\n",
       "        77.07, 157.32, 135.13, 197.9 ,  77.39, 115.48, 167.28, 110.21,\n",
       "       101.47,  49.87, 150.78, 159.3 ,  73.62, 150.9 ,  55.33, 121.87,\n",
       "       105.63, 171.1 , 141.69,  97.06, 132.77, 143.1 ,  59.83, 270.91,\n",
       "       188.06, 107.7 , 109.72,  80.1 , 170.79, 154.4 , 220.89, 122.3 ,\n",
       "       157.98,  83.39,  64.61, 186.6 ,  71.36, 141.63,  71.59, 156.58,\n",
       "        62.14, 103.58,  90.5 , 161.55,  84.31,  85.84,  91.74, 143.83,\n",
       "       172.15, 259.73,  97.37,  99.63, 161.03,  97.45, 259.84, 183.04,\n",
       "       107.28,  71.48, 128.96, 139.04, 225.97, 109.48,  99.16,  73.44,\n",
       "       227.2 , 279.83, 268.27, 209.58, 267.4 , 251.82, 177.14, 175.91,\n",
       "       152.59, 181.45, 205.3 , 130.79, 139.28, 168.04,  93.61, 122.96,\n",
       "       106.91, 251.55, 271.27, 137.85, 104.45,  87.21, 124.29, 255.16,\n",
       "        84.74, 262.65, 318.33, 252.53, 128.77, 285.83, 209.68,  74.94,\n",
       "       165.92, 235.87, 177.3 , 182.15, 125.02, 137.19, 232.  ,  90.46,\n",
       "       253.09,  90.51, 195.24, 196.94,  65.76,  96.67,  93.77, 209.59,\n",
       "        65.6 , 227.43, 152.55, 176.59, 183.44,  64.3 ,  74.14, 234.14,\n",
       "       244.93, 164.56,  56.8 ,  81.1 , 280.54, 111.13, 156.93, 129.28,\n",
       "       218.55, 219.84,  80.1 , 159.05, 118.04,  79.75, 151.34, 174.55,\n",
       "       241.67, 146.82, 158.48, 120.27, 129.96,  90.02, 244.56, 170.36,\n",
       "        94.46, 133.16, 124.69, 149.18,  82.06, 164.1 , 138.76, 118.14,\n",
       "       136.31,  52.05, 188.05, 215.72, 239.18, 144.77, 182.92, 209.64,\n",
       "       189.3 , 102.44, 169.94, 110.58,  98.8 ,  75.08,  81.7 , 277.55,\n",
       "       231.94, 274.27, 189.28, 161.92,  81.21, 115.91, 206.3 , 144.38,\n",
       "        79.  , 211.78,  87.44,  98.87, 146.3 ,  69.09, 222.76, 135.15,\n",
       "       228.54, 103.21, 240.61, 142.54, 112.58,  72.23, 216.01, 237.24,\n",
       "       274.73, 143.95,  78.91,  63.81, 163.24, 110.11,  96.42,  70.72,\n",
       "       238.09, 216.39, 278.65, 241.27, 115.36, 184.05, 292.38, 125.61,\n",
       "       304.36,  73.56, 114.1 ,  75.72,  54.3 , 108.75, 296.26, 105.23,\n",
       "       134.97,  90.96,  62.34, 123.8 , 267.36,  88.67, 207.11, 138.52,\n",
       "       167.76, 206.57,  96.85, 115.75, 265.31,  75.93, 112.41, 160.47,\n",
       "       235.33, 117.25, 195.1 , 141.75, 160.01, 215.6 ,  64.93, 199.95,\n",
       "        86.2 , 104.79, 297.94, 242.72,  85.41, 185.91,  64.55, 114.96,\n",
       "        82.95,  57.73, 131.05,  88.02, 260.2 ,  79.3 , 201.44, 238.67,\n",
       "       220.75, 129.68,  70.67, 172.02, 108.64, 149.23, 137.95, 168.76,\n",
       "       133.5 , 188.61, 153.13,  92.09, 219.4 , 179.92, 131.65, 196.39,\n",
       "       140.64, 244.42, 255.29, 231.39, 218.25, 196.57, 148.38, 232.82,\n",
       "       110.29, 119.24, 203.81, 160.7 , 273.93, 178.47,  81.42,  89.78,\n",
       "       273.  , 119.14, 172.98, 111.62, 173.31, 225.25, 175.64, 128.27,\n",
       "       179.86, 141.96, 159.2 ,  96.73, 131.93,  90.8 , 251.5 ,  81.12,\n",
       "        76.38, 132.28, 248.13,  84.04,  80.98, 207.63,  83.85, 256.85,\n",
       "       251.67, 138.99, 301.21,  94.07, 208.39, 188.97, 242.4 , 252.26,\n",
       "       162.68, 152.08,  68.74, 190.17,  79.07, 147.31, 143.23, 203.14,\n",
       "       155.62, 213.39, 215.58,  71.69,  98.29, 108.62, 179.21,  92.03,\n",
       "       106.55, 176.12,  86.56, 171.82, 132.32,  61.63, 266.78,  67.81,\n",
       "       113.77,  89.6 , 247.63, 217.52,  58.13, 185.92, 214.48, 218.71,\n",
       "       181.05,  88.09, 169.  , 264.17, 242.14, 279.05,  74.5 , 149.84,\n",
       "       189.76, 180.49, 181.65, 128.33, 266.82,  99.65, 139.6 , 165.45,\n",
       "       227.46,  81.86, 105.44,  64.58, 134.9 , 206.31, 222.23, 118.53,\n",
       "       142.28, 128.86, 147.98,  90.31, 299.8 ,  88.76, 151.86,  87.44,\n",
       "       195.76,  72.53,  67.6 ,  78.1 ,  57.56, 203.46, 113.63, 124.25,\n",
       "       204.42,  81.86])"
      ]
     },
     "execution_count": 31,
     "metadata": {},
     "output_type": "execute_result"
    }
   ],
   "source": [
    "model1.predict(x)"
   ]
  },
  {
   "cell_type": "code",
   "execution_count": 43,
   "id": "8915993e",
   "metadata": {
    "scrolled": true
   },
   "outputs": [
    {
     "data": {
      "text/plain": [
       "array([180.74,  78.6 , 138.19, 192.28, 119.62, 106.76, 116.93,  95.16,\n",
       "       128.59, 263.15, 107.54, 101.35, 150.51, 182.12, 112.85, 176.87,\n",
       "       186.81, 162.18, 103.2 , 137.05,  89.79,  75.37,  81.97, 245.55,\n",
       "       163.92, 185.66, 126.69, 111.44, 131.38, 252.68, 139.51,  63.38,\n",
       "       314.05,  91.58,  73.9 , 109.22, 245.8 , 231.57, 249.16, 121.79,\n",
       "       128.96,  86.  ,  86.15,  90.14, 228.07,  71.88, 169.68, 137.78,\n",
       "        78.08, 152.14, 145.74, 210.2 ,  77.03, 106.02, 172.27,  99.03,\n",
       "       101.03,  65.16, 159.82, 159.83,  76.89, 148.53,  53.57, 122.9 ,\n",
       "        97.8 , 159.33, 146.32,  99.53, 130.95, 143.58,  60.64, 260.72,\n",
       "       193.85, 112.19, 125.49,  69.09, 174.13, 162.11, 223.61, 115.25,\n",
       "       160.11,  74.83,  63.12, 184.95,  74.17, 148.38,  68.7 , 158.9 ,\n",
       "        62.97, 101.98,  91.95, 159.57,  89.95,  86.27,  94.96, 145.87,\n",
       "       170.7 , 248.71,  94.88, 107.32, 162.89,  99.67, 261.87, 182.12,\n",
       "       116.87,  67.85, 125.53, 138.65, 229.21, 101.01,  98.12,  81.95,\n",
       "       229.75, 274.  , 266.17, 211.22, 258.42, 259.54, 170.43, 185.97,\n",
       "       161.67, 177.48, 211.19, 128.05, 143.75, 164.52,  93.42, 124.18,\n",
       "       101.51, 252.25, 271.23, 132.93, 104.81,  85.06, 133.49, 257.79,\n",
       "        90.51, 249.35, 319.28, 261.54, 136.62, 282.11, 210.07,  82.61,\n",
       "       167.55, 253.29, 171.41, 178.95, 130.27, 144.63, 250.46,  93.77,\n",
       "       255.11,  86.91, 189.04, 207.95,  64.06,  93.58,  99.8 , 214.57,\n",
       "        64.85, 229.35, 154.66, 166.75, 185.86,  62.27,  81.52, 233.32,\n",
       "       251.62, 161.91,  57.68,  82.37, 283.85, 107.85, 158.93, 123.47,\n",
       "       224.28, 218.53,  77.63, 161.44, 123.11,  74.07, 152.3 , 173.06,\n",
       "       230.28, 133.26, 154.31, 120.22, 134.3 ,  88.37, 252.68, 166.68,\n",
       "        94.63, 126.81, 129.94, 151.38,  77.87, 149.48, 139.36, 126.27,\n",
       "       132.04,  50.25, 193.  , 211.4 , 237.85, 158.71, 181.32, 211.7 ,\n",
       "       189.11, 106.52, 170.86, 120.08,  97.56,  67.63,  79.39, 273.79,\n",
       "       237.49, 268.25, 181.6 , 174.21,  86.56, 107.93, 202.3 , 146.8 ,\n",
       "        78.7 , 211.41,  89.92, 105.92, 136.73,  70.15, 214.06, 132.77,\n",
       "       217.91, 105.11, 247.46, 135.12, 103.26,  72.97, 213.14, 236.75,\n",
       "       273.04, 148.59,  83.76,  62.69, 156.02, 109.52,  98.88,  71.55,\n",
       "       241.93, 218.35, 272.6 , 239.71, 119.55, 172.44, 286.53, 131.41,\n",
       "       273.35,  85.45, 110.09,  79.57,  54.4 , 119.73, 290.93, 106.37,\n",
       "       145.83,  98.65,  57.95, 130.38, 261.63,  88.73, 203.39, 147.74,\n",
       "       171.25, 216.86,  92.39, 115.08, 244.76,  73.57, 114.65, 164.29,\n",
       "       251.58, 109.29, 186.8 , 143.04, 156.07, 212.95,  63.53, 193.56,\n",
       "        83.18, 110.87, 297.41, 243.68,  90.26, 188.14,  70.17, 112.7 ,\n",
       "        85.18,  59.56, 127.74,  99.92, 269.13,  74.64, 201.82, 241.55,\n",
       "       199.86, 139.62,  76.15, 177.  , 104.76, 148.7 , 155.34, 166.3 ,\n",
       "       136.02, 192.83, 153.53,  90.94, 215.81, 171.73, 128.98, 201.46,\n",
       "       132.1 , 232.17, 250.04, 238.49, 221.57, 203.89, 149.33, 242.  ,\n",
       "       113.51, 123.3 , 214.6 , 164.84, 276.35, 179.1 ,  80.66,  90.33,\n",
       "       273.46, 111.63, 174.19, 111.8 , 181.64, 237.69, 181.34, 129.41,\n",
       "       190.79, 145.1 , 165.14, 104.27, 136.31,  87.52, 245.02,  80.81,\n",
       "        80.82, 122.11, 243.15,  73.91,  72.27, 209.26,  85.83, 245.41,\n",
       "       254.91, 143.18, 296.43,  88.39, 215.98, 194.17, 234.48, 241.83,\n",
       "       162.76, 151.33,  65.07, 190.87,  74.79, 146.39, 147.2 , 203.2 ,\n",
       "       146.33, 204.11, 221.79,  61.01, 106.68, 110.18, 182.77,  95.88,\n",
       "        99.37, 182.02,  84.1 , 169.99, 136.33,  61.51, 265.87,  70.82,\n",
       "       113.04,  87.66, 249.98, 223.7 ,  65.79, 190.42, 224.11, 223.85,\n",
       "       173.23,  87.86, 160.65, 262.04, 260.48, 276.36,  77.04, 155.96,\n",
       "       195.41, 179.27, 188.54, 128.13, 261.79,  96.26, 152.52, 165.54,\n",
       "       219.9 ,  94.78,  90.93,  69.91, 134.26, 206.48, 224.65, 125.1 ,\n",
       "       143.58, 127.38, 152.88,  87.11, 288.53,  91.63, 162.91,  86.8 ,\n",
       "       200.24,  71.32,  66.69,  79.74,  58.8 , 199.26, 106.43, 113.47,\n",
       "       203.57,  74.65])"
      ]
     },
     "execution_count": 43,
     "metadata": {},
     "output_type": "execute_result"
    }
   ],
   "source": [
    "model2.predict(x_regu)"
   ]
  },
  {
   "cell_type": "code",
   "execution_count": 32,
   "id": "aa01a1df",
   "metadata": {},
   "outputs": [
    {
     "data": {
      "text/plain": [
       "0.920149365391788"
      ]
     },
     "execution_count": 32,
     "metadata": {},
     "output_type": "execute_result"
    }
   ],
   "source": [
    "# 비정규화 결정계수 표시\n",
    "model1.score(x,y)\n",
    "# 92% 설명력"
   ]
  },
  {
   "cell_type": "code",
   "execution_count": 46,
   "id": "d70fb584",
   "metadata": {
    "scrolled": true
   },
   "outputs": [
    {
     "data": {
      "text/plain": [
       "0.920930377552683"
      ]
     },
     "execution_count": 46,
     "metadata": {},
     "output_type": "execute_result"
    }
   ],
   "source": [
    "# 정규화 결정계수 표시\n",
    "model1.score(x_regu,y)\n",
    "# 92% 설명력"
   ]
  },
  {
   "cell_type": "code",
   "execution_count": 33,
   "id": "b236d8c9",
   "metadata": {},
   "outputs": [
    {
     "name": "stdout",
     "output_type": "stream",
     "text": [
      "결정계수:  0.920149365391788\n"
     ]
    }
   ],
   "source": [
    "r2 = model1.score(x,y)\n",
    "print('결정계수: ',r2)"
   ]
  },
  {
   "cell_type": "code",
   "execution_count": 34,
   "id": "1f2738ec",
   "metadata": {},
   "outputs": [
    {
     "data": {
      "text/plain": [
       "array([176.2 ,  81.92, 143.98, 194.91, 118.3 , 100.77, 117.67, 110.89,\n",
       "       122.23, 235.17, 108.85, 101.57, 142.65, 183.44, 114.07, 178.35,\n",
       "       184.66, 158.41, 103.17, 140.39,  84.29,  68.99,  84.37, 245.75,\n",
       "       175.04, 182.18, 122.07, 109.12, 135.89, 247.56, 134.3 ,  63.7 ,\n",
       "       312.57,  95.94,  71.96, 112.17, 255.33, 219.06, 246.15, 123.19,\n",
       "       123.91,  81.46,  87.17,  91.74, 232.11,  72.77, 166.02, 136.65,\n",
       "        77.07, 157.32, 135.13, 197.9 ,  77.39, 115.48, 167.28, 110.21,\n",
       "       101.47,  49.87, 150.78, 159.3 ,  73.62, 150.9 ,  55.33, 121.87,\n",
       "       105.63, 171.1 , 141.69,  97.06, 132.77, 143.1 ,  59.83, 270.91,\n",
       "       188.06, 107.7 , 109.72,  80.1 , 170.79, 154.4 , 220.89, 122.3 ,\n",
       "       157.98,  83.39,  64.61, 186.6 ,  71.36, 141.63,  71.59, 156.58,\n",
       "        62.14, 103.58,  90.5 , 161.55,  84.31,  85.84,  91.74, 143.83,\n",
       "       172.15, 259.73,  97.37,  99.63, 161.03,  97.45, 259.84, 183.04,\n",
       "       107.28,  71.48, 128.96, 139.04, 225.97, 109.48,  99.16,  73.44,\n",
       "       227.2 , 279.83, 268.27, 209.58, 267.4 , 251.82, 177.14, 175.91,\n",
       "       152.59, 181.45, 205.3 , 130.79, 139.28, 168.04,  93.61, 122.96,\n",
       "       106.91, 251.55, 271.27, 137.85, 104.45,  87.21, 124.29, 255.16,\n",
       "        84.74, 262.65, 318.33, 252.53, 128.77, 285.83, 209.68,  74.94,\n",
       "       165.92, 235.87, 177.3 , 182.15, 125.02, 137.19, 232.  ,  90.46,\n",
       "       253.09,  90.51, 195.24, 196.94,  65.76,  96.67,  93.77, 209.59,\n",
       "        65.6 , 227.43, 152.55, 176.59, 183.44,  64.3 ,  74.14, 234.14,\n",
       "       244.93, 164.56,  56.8 ,  81.1 , 280.54, 111.13, 156.93, 129.28,\n",
       "       218.55, 219.84,  80.1 , 159.05, 118.04,  79.75, 151.34, 174.55,\n",
       "       241.67, 146.82, 158.48, 120.27, 129.96,  90.02, 244.56, 170.36,\n",
       "        94.46, 133.16, 124.69, 149.18,  82.06, 164.1 , 138.76, 118.14,\n",
       "       136.31,  52.05, 188.05, 215.72, 239.18, 144.77, 182.92, 209.64,\n",
       "       189.3 , 102.44, 169.94, 110.58,  98.8 ,  75.08,  81.7 , 277.55,\n",
       "       231.94, 274.27, 189.28, 161.92,  81.21, 115.91, 206.3 , 144.38,\n",
       "        79.  , 211.78,  87.44,  98.87, 146.3 ,  69.09, 222.76, 135.15,\n",
       "       228.54, 103.21, 240.61, 142.54, 112.58,  72.23, 216.01, 237.24,\n",
       "       274.73, 143.95,  78.91,  63.81, 163.24, 110.11,  96.42,  70.72,\n",
       "       238.09, 216.39, 278.65, 241.27, 115.36, 184.05, 292.38, 125.61,\n",
       "       304.36,  73.56, 114.1 ,  75.72,  54.3 , 108.75, 296.26, 105.23,\n",
       "       134.97,  90.96,  62.34, 123.8 , 267.36,  88.67, 207.11, 138.52,\n",
       "       167.76, 206.57,  96.85, 115.75, 265.31,  75.93, 112.41, 160.47,\n",
       "       235.33, 117.25, 195.1 , 141.75, 160.01, 215.6 ,  64.93, 199.95,\n",
       "        86.2 , 104.79, 297.94, 242.72,  85.41, 185.91,  64.55, 114.96,\n",
       "        82.95,  57.73, 131.05,  88.02, 260.2 ,  79.3 , 201.44, 238.67,\n",
       "       220.75, 129.68,  70.67, 172.02, 108.64, 149.23, 137.95, 168.76,\n",
       "       133.5 , 188.61, 153.13,  92.09, 219.4 , 179.92, 131.65, 196.39,\n",
       "       140.64, 244.42, 255.29, 231.39, 218.25, 196.57, 148.38, 232.82,\n",
       "       110.29, 119.24, 203.81, 160.7 , 273.93, 178.47,  81.42,  89.78,\n",
       "       273.  , 119.14, 172.98, 111.62, 173.31, 225.25, 175.64, 128.27,\n",
       "       179.86, 141.96, 159.2 ,  96.73, 131.93,  90.8 , 251.5 ,  81.12,\n",
       "        76.38, 132.28, 248.13,  84.04,  80.98, 207.63,  83.85, 256.85,\n",
       "       251.67, 138.99, 301.21,  94.07, 208.39, 188.97, 242.4 , 252.26,\n",
       "       162.68, 152.08,  68.74, 190.17,  79.07, 147.31, 143.23, 203.14,\n",
       "       155.62, 213.39, 215.58,  71.69,  98.29, 108.62, 179.21,  92.03,\n",
       "       106.55, 176.12,  86.56, 171.82, 132.32,  61.63, 266.78,  67.81,\n",
       "       113.77,  89.6 , 247.63, 217.52,  58.13, 185.92, 214.48, 218.71,\n",
       "       181.05,  88.09, 169.  , 264.17, 242.14, 279.05,  74.5 , 149.84,\n",
       "       189.76, 180.49, 181.65, 128.33, 266.82,  99.65, 139.6 , 165.45,\n",
       "       227.46,  81.86, 105.44,  64.58, 134.9 , 206.31, 222.23, 118.53,\n",
       "       142.28, 128.86, 147.98,  90.31, 299.8 ,  88.76, 151.86,  87.44,\n",
       "       195.76,  72.53,  67.6 ,  78.1 ,  57.56, 203.46, 113.63, 124.25,\n",
       "       204.42,  81.86])"
      ]
     },
     "execution_count": 34,
     "metadata": {},
     "output_type": "execute_result"
    }
   ],
   "source": [
    "# 예측\n",
    "model1.predict(x)"
   ]
  },
  {
   "cell_type": "code",
   "execution_count": 38,
   "id": "9ba93c0a",
   "metadata": {},
   "outputs": [
    {
     "data": {
      "image/png": "[encoded data removed]",
      "text/plain": [
       "<Figure size 432x288 with 1 Axes>"
      ]
     },
     "metadata": {
      "needs_background": "light"
     },
     "output_type": "display_data"
    }
   ],
   "source": [
    "# 그래프 표시 - age\n",
    "\n",
    "plt.scatter(x[:,0],y,marker = '*',c ='blue')\n",
    "plt.scatter(x[:,0],model1.predict(x),marker = 'o',c='red')\n",
    "plt.show()"
   ]
  },
  {
   "cell_type": "code",
   "execution_count": 39,
   "id": "4eeaabf6",
   "metadata": {},
   "outputs": [
    {
     "data": {
      "image/png": "[encoded data removed]",
      "text/plain": [
       "<Figure size 432x288 with 1 Axes>"
      ]
     },
     "metadata": {
      "needs_background": "light"
     },
     "output_type": "display_data"
    }
   ],
   "source": [
    "# 그래프 표시 - sex\n",
    "\n",
    "plt.scatter(x[:,1],y,marker = '*',c ='blue')\n",
    "plt.scatter(x[:,1],model1.predict(x),marker = 'o',c='red')\n",
    "plt.show()"
   ]
  },
  {
   "cell_type": "code",
   "execution_count": 40,
   "id": "9277990b",
   "metadata": {},
   "outputs": [
    {
     "data": {
      "image/png": "[encoded data removed]",
      "text/plain": [
       "<Figure size 432x288 with 1 Axes>"
      ]
     },
     "metadata": {
      "needs_background": "light"
     },
     "output_type": "display_data"
    }
   ],
   "source": [
    "# 그래프 표시 - bmi\n",
    "\n",
    "plt.scatter(x[:,2],y,marker = '*',c ='blue')\n",
    "plt.scatter(x[:,2],model1.predict(x),marker = 'o',c='red')\n",
    "plt.show()"
   ]
  },
  {
   "cell_type": "code",
   "execution_count": null,
   "id": "ecb1bdd6",
   "metadata": {},
   "outputs": [],
   "source": []
  }
 ],
 "metadata": {
  "kernelspec": {
   "display_name": "Python 3 (ipykernel)",
   "language": "python",
   "name": "python3"
  },
  "language_info": {
   "codemirror_mode": {
    "name": "ipython",
    "version": 3
   },
   "file_extension": ".py",
   "mimetype": "text/x-python",
   "name": "python",
   "nbconvert_exporter": "python",
   "pygments_lexer": "ipython3",
   "version": "3.9.7"
  }
 },
 "nbformat": 4,
 "nbformat_minor": 5
}
