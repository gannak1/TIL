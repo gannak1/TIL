{
 "cells": [
  {
   "cell_type": "code",
   "execution_count": 13,
   "id": "42258b79",
   "metadata": {},
   "outputs": [
    {
     "name": "stdout",
     "output_type": "stream",
     "text": [
      "0.030617237091064453\n"
     ]
    }
   ],
   "source": [
    "# 넘파이 필요한가?\n",
    "\n",
    "import time\n",
    "sTime = time.time()\n",
    "L = range(100000)\n",
    "b = [i**2 for i in L]\n",
    "\n",
    "eTime = time.time()\n",
    "print(eTime - sTime)"
   ]
  },
  {
   "cell_type": "code",
   "execution_count": 14,
   "id": "369716f3",
   "metadata": {},
   "outputs": [
    {
     "name": "stdout",
     "output_type": "stream",
     "text": [
      "0.0010001659393310547\n"
     ]
    }
   ],
   "source": [
    "import numpy as np\n",
    "sTime = time.time()\n",
    "c = np.arange(100000)\n",
    "d = c ** 2\n",
    "\n",
    "eTime = time.time()\n",
    "print(eTime - sTime)"
   ]
  },
  {
   "cell_type": "code",
   "execution_count": 16,
   "id": "57b1a894",
   "metadata": {},
   "outputs": [
    {
     "name": "stdout",
     "output_type": "stream",
     "text": [
      "<class 'numpy.ndarray'>|1|(3,)\n"
     ]
    }
   ],
   "source": [
    "# 배열 생성 및 정보 확인\n",
    "\n",
    "array = np.array([1,2,3])\n",
    "print(type(array),array.ndim,array.shape,sep = '|')"
   ]
  },
  {
   "cell_type": "code",
   "execution_count": 19,
   "id": "3cacc6a0",
   "metadata": {},
   "outputs": [
    {
     "name": "stdout",
     "output_type": "stream",
     "text": [
      "<class 'numpy.ndarray'>|2|(2, 3)\n"
     ]
    }
   ],
   "source": [
    "array = np.array([[1,2,3],\n",
    "                 [4,5,6]])\n",
    "print(type(array),array.ndim,array.shape,sep = '|')"
   ]
  },
  {
   "cell_type": "code",
   "execution_count": 20,
   "id": "435db656",
   "metadata": {},
   "outputs": [
    {
     "name": "stdout",
     "output_type": "stream",
     "text": [
      "<class 'numpy.ndarray'>|3|(1, 3, 3)\n"
     ]
    }
   ],
   "source": [
    "array = np.array([[[1,2,3],\n",
    "                 [4,5,6],\n",
    "                  [7,8,9]]])\n",
    "print(type(array),array.ndim,array.shape,sep = '|')"
   ]
  },
  {
   "cell_type": "code",
   "execution_count": null,
   "id": "358f783c",
   "metadata": {},
   "outputs": [],
   "source": []
  }
 ],
 "metadata": {
  "kernelspec": {
   "display_name": "Python 3 (ipykernel)",
   "language": "python",
   "name": "python3"
  },
  "language_info": {
   "codemirror_mode": {
    "name": "ipython",
    "version": 3
   },
   "file_extension": ".py",
   "mimetype": "text/x-python",
   "name": "python",
   "nbconvert_exporter": "python",
   "pygments_lexer": "ipython3",
   "version": "3.9.7"
  }
 },
 "nbformat": 4,
 "nbformat_minor": 5
}
