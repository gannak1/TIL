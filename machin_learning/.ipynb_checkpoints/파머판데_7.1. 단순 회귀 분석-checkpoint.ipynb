{
 "cells": [
  {
   "cell_type": "code",
   "execution_count": 1,
   "id": "9c98245b",
   "metadata": {},
   "outputs": [],
   "source": [
    "# -*- coding: utf-8 -*-\n",
    "\n",
    "### 기본 라이브러리 불러오기\n",
    "import pandas as pd\n",
    "import numpy as np\n",
    "import matplotlib.pyplot as plt\n",
    "import seaborn as sns"
   ]
  },
  {
   "cell_type": "markdown",
   "id": "ddfbee35",
   "metadata": {},
   "source": [
    "'''\n",
    "[Step 1] 데이터 준비 - read_csv() 함수로 자동차 연비 데이터셋 가져오기\n",
    "'''"
   ]
  },
  {
   "cell_type": "code",
   "execution_count": 20,
   "id": "b9c3623f",
   "metadata": {},
   "outputs": [
    {
     "data": {
      "text/html": [
       "<div>\n",
       "<style scoped>\n",
       "    .dataframe tbody tr th:only-of-type {\n",
       "        vertical-align: middle;\n",
       "    }\n",
       "\n",
       "    .dataframe tbody tr th {\n",
       "        vertical-align: top;\n",
       "    }\n",
       "\n",
       "    .dataframe thead th {\n",
       "        text-align: right;\n",
       "    }\n",
       "</style>\n",
       "<table border=\"1\" class=\"dataframe\">\n",
       "  <thead>\n",
       "    <tr style=\"text-align: right;\">\n",
       "      <th></th>\n",
       "      <th>0</th>\n",
       "      <th>1</th>\n",
       "      <th>2</th>\n",
       "      <th>3</th>\n",
       "      <th>4</th>\n",
       "      <th>5</th>\n",
       "      <th>6</th>\n",
       "      <th>7</th>\n",
       "      <th>8</th>\n",
       "    </tr>\n",
       "  </thead>\n",
       "  <tbody>\n",
       "    <tr>\n",
       "      <th>0</th>\n",
       "      <td>mpg</td>\n",
       "      <td>cyl</td>\n",
       "      <td>disp</td>\n",
       "      <td>hp</td>\n",
       "      <td>wt</td>\n",
       "      <td>accler</td>\n",
       "      <td>year</td>\n",
       "      <td>origin</td>\n",
       "      <td>carname</td>\n",
       "    </tr>\n",
       "    <tr>\n",
       "      <th>1</th>\n",
       "      <td>18</td>\n",
       "      <td>8</td>\n",
       "      <td>307</td>\n",
       "      <td>17</td>\n",
       "      <td>3504</td>\n",
       "      <td>12</td>\n",
       "      <td>70</td>\n",
       "      <td>1</td>\n",
       "      <td>chevrolet chevelle malibu</td>\n",
       "    </tr>\n",
       "    <tr>\n",
       "      <th>2</th>\n",
       "      <td>15</td>\n",
       "      <td>8</td>\n",
       "      <td>350</td>\n",
       "      <td>35</td>\n",
       "      <td>3693</td>\n",
       "      <td>11.5</td>\n",
       "      <td>70</td>\n",
       "      <td>1</td>\n",
       "      <td>buick skylark 320</td>\n",
       "    </tr>\n",
       "    <tr>\n",
       "      <th>3</th>\n",
       "      <td>18</td>\n",
       "      <td>8</td>\n",
       "      <td>318</td>\n",
       "      <td>29</td>\n",
       "      <td>3436</td>\n",
       "      <td>11</td>\n",
       "      <td>70</td>\n",
       "      <td>1</td>\n",
       "      <td>plymouth satellite</td>\n",
       "    </tr>\n",
       "    <tr>\n",
       "      <th>4</th>\n",
       "      <td>16</td>\n",
       "      <td>8</td>\n",
       "      <td>304</td>\n",
       "      <td>29</td>\n",
       "      <td>3433</td>\n",
       "      <td>12</td>\n",
       "      <td>70</td>\n",
       "      <td>1</td>\n",
       "      <td>amc rebel sst</td>\n",
       "    </tr>\n",
       "    <tr>\n",
       "      <th>...</th>\n",
       "      <td>...</td>\n",
       "      <td>...</td>\n",
       "      <td>...</td>\n",
       "      <td>...</td>\n",
       "      <td>...</td>\n",
       "      <td>...</td>\n",
       "      <td>...</td>\n",
       "      <td>...</td>\n",
       "      <td>...</td>\n",
       "    </tr>\n",
       "    <tr>\n",
       "      <th>394</th>\n",
       "      <td>27</td>\n",
       "      <td>4</td>\n",
       "      <td>140</td>\n",
       "      <td>82</td>\n",
       "      <td>2790</td>\n",
       "      <td>15.6</td>\n",
       "      <td>82</td>\n",
       "      <td>1</td>\n",
       "      <td>ford mustang gl</td>\n",
       "    </tr>\n",
       "    <tr>\n",
       "      <th>395</th>\n",
       "      <td>44</td>\n",
       "      <td>4</td>\n",
       "      <td>97</td>\n",
       "      <td>53</td>\n",
       "      <td>2130</td>\n",
       "      <td>24.6</td>\n",
       "      <td>82</td>\n",
       "      <td>2</td>\n",
       "      <td>vw pickup</td>\n",
       "    </tr>\n",
       "    <tr>\n",
       "      <th>396</th>\n",
       "      <td>32</td>\n",
       "      <td>4</td>\n",
       "      <td>135</td>\n",
       "      <td>80</td>\n",
       "      <td>2295</td>\n",
       "      <td>11.6</td>\n",
       "      <td>82</td>\n",
       "      <td>1</td>\n",
       "      <td>dodge rampage</td>\n",
       "    </tr>\n",
       "    <tr>\n",
       "      <th>397</th>\n",
       "      <td>28</td>\n",
       "      <td>4</td>\n",
       "      <td>120</td>\n",
       "      <td>75</td>\n",
       "      <td>2625</td>\n",
       "      <td>18.6</td>\n",
       "      <td>82</td>\n",
       "      <td>1</td>\n",
       "      <td>ford ranger</td>\n",
       "    </tr>\n",
       "    <tr>\n",
       "      <th>398</th>\n",
       "      <td>31</td>\n",
       "      <td>4</td>\n",
       "      <td>119</td>\n",
       "      <td>78</td>\n",
       "      <td>2720</td>\n",
       "      <td>19.4</td>\n",
       "      <td>82</td>\n",
       "      <td>1</td>\n",
       "      <td>chevy s-10</td>\n",
       "    </tr>\n",
       "  </tbody>\n",
       "</table>\n",
       "<p>399 rows × 9 columns</p>\n",
       "</div>"
      ],
      "text/plain": [
       "       0    1     2   3     4       5     6       7                          8\n",
       "0    mpg  cyl  disp  hp    wt  accler  year  origin                    carname\n",
       "1     18    8   307  17  3504      12    70       1  chevrolet chevelle malibu\n",
       "2     15    8   350  35  3693    11.5    70       1          buick skylark 320\n",
       "3     18    8   318  29  3436      11    70       1         plymouth satellite\n",
       "4     16    8   304  29  3433      12    70       1              amc rebel sst\n",
       "..   ...  ...   ...  ..   ...     ...   ...     ...                        ...\n",
       "394   27    4   140  82  2790    15.6    82       1            ford mustang gl\n",
       "395   44    4    97  53  2130    24.6    82       2                  vw pickup\n",
       "396   32    4   135  80  2295    11.6    82       1              dodge rampage\n",
       "397   28    4   120  75  2625    18.6    82       1                ford ranger\n",
       "398   31    4   119  78  2720    19.4    82       1                 chevy s-10\n",
       "\n",
       "[399 rows x 9 columns]"
      ]
     },
     "execution_count": 20,
     "metadata": {},
     "output_type": "execute_result"
    }
   ],
   "source": [
    "df = pd.read_csv('./data/autompg.csv',header=None)\n",
    "df"
   ]
  },
  {
   "cell_type": "code",
   "execution_count": 21,
   "id": "b90da531",
   "metadata": {},
   "outputs": [],
   "source": [
    "# 열 이름 지정\n",
    "df.columns = ['mpg','cylinders','displacement','horsepower','weight',\n",
    "              'acceleration','model year','origin','name']"
   ]
  },
  {
   "cell_type": "code",
   "execution_count": 22,
   "id": "d00f971d",
   "metadata": {},
   "outputs": [
    {
     "data": {
      "text/html": [
       "<div>\n",
       "<style scoped>\n",
       "    .dataframe tbody tr th:only-of-type {\n",
       "        vertical-align: middle;\n",
       "    }\n",
       "\n",
       "    .dataframe tbody tr th {\n",
       "        vertical-align: top;\n",
       "    }\n",
       "\n",
       "    .dataframe thead th {\n",
       "        text-align: right;\n",
       "    }\n",
       "</style>\n",
       "<table border=\"1\" class=\"dataframe\">\n",
       "  <thead>\n",
       "    <tr style=\"text-align: right;\">\n",
       "      <th></th>\n",
       "      <th>mpg</th>\n",
       "      <th>cylinders</th>\n",
       "      <th>displacement</th>\n",
       "      <th>horsepower</th>\n",
       "      <th>weight</th>\n",
       "      <th>acceleration</th>\n",
       "      <th>model year</th>\n",
       "      <th>origin</th>\n",
       "      <th>name</th>\n",
       "    </tr>\n",
       "  </thead>\n",
       "  <tbody>\n",
       "    <tr>\n",
       "      <th>0</th>\n",
       "      <td>mpg</td>\n",
       "      <td>cyl</td>\n",
       "      <td>disp</td>\n",
       "      <td>hp</td>\n",
       "      <td>wt</td>\n",
       "      <td>accler</td>\n",
       "      <td>year</td>\n",
       "      <td>origin</td>\n",
       "      <td>carname</td>\n",
       "    </tr>\n",
       "    <tr>\n",
       "      <th>1</th>\n",
       "      <td>18</td>\n",
       "      <td>8</td>\n",
       "      <td>307</td>\n",
       "      <td>17</td>\n",
       "      <td>3504</td>\n",
       "      <td>12</td>\n",
       "      <td>70</td>\n",
       "      <td>1</td>\n",
       "      <td>chevrolet chevelle malibu</td>\n",
       "    </tr>\n",
       "    <tr>\n",
       "      <th>2</th>\n",
       "      <td>15</td>\n",
       "      <td>8</td>\n",
       "      <td>350</td>\n",
       "      <td>35</td>\n",
       "      <td>3693</td>\n",
       "      <td>11.5</td>\n",
       "      <td>70</td>\n",
       "      <td>1</td>\n",
       "      <td>buick skylark 320</td>\n",
       "    </tr>\n",
       "    <tr>\n",
       "      <th>3</th>\n",
       "      <td>18</td>\n",
       "      <td>8</td>\n",
       "      <td>318</td>\n",
       "      <td>29</td>\n",
       "      <td>3436</td>\n",
       "      <td>11</td>\n",
       "      <td>70</td>\n",
       "      <td>1</td>\n",
       "      <td>plymouth satellite</td>\n",
       "    </tr>\n",
       "    <tr>\n",
       "      <th>4</th>\n",
       "      <td>16</td>\n",
       "      <td>8</td>\n",
       "      <td>304</td>\n",
       "      <td>29</td>\n",
       "      <td>3433</td>\n",
       "      <td>12</td>\n",
       "      <td>70</td>\n",
       "      <td>1</td>\n",
       "      <td>amc rebel sst</td>\n",
       "    </tr>\n",
       "  </tbody>\n",
       "</table>\n",
       "</div>"
      ],
      "text/plain": [
       "   mpg cylinders displacement horsepower weight acceleration model year  \\\n",
       "0  mpg       cyl         disp         hp     wt       accler       year   \n",
       "1   18         8          307         17   3504           12         70   \n",
       "2   15         8          350         35   3693         11.5         70   \n",
       "3   18         8          318         29   3436           11         70   \n",
       "4   16         8          304         29   3433           12         70   \n",
       "\n",
       "   origin                       name  \n",
       "0  origin                    carname  \n",
       "1       1  chevrolet chevelle malibu  \n",
       "2       1          buick skylark 320  \n",
       "3       1         plymouth satellite  \n",
       "4       1              amc rebel sst  "
      ]
     },
     "execution_count": 22,
     "metadata": {},
     "output_type": "execute_result"
    }
   ],
   "source": [
    "# 데이터 살펴보기\n",
    "df.head()"
   ]
  },
  {
   "cell_type": "code",
   "execution_count": 23,
   "id": "b1f24007",
   "metadata": {},
   "outputs": [
    {
     "name": "stdout",
     "output_type": "stream",
     "text": [
      "<class 'pandas.core.frame.DataFrame'>\n",
      "RangeIndex: 399 entries, 0 to 398\n",
      "Data columns (total 9 columns):\n",
      " #   Column        Non-Null Count  Dtype \n",
      "---  ------        --------------  ----- \n",
      " 0   mpg           399 non-null    object\n",
      " 1   cylinders     399 non-null    object\n",
      " 2   displacement  399 non-null    object\n",
      " 3   horsepower    399 non-null    object\n",
      " 4   weight        399 non-null    object\n",
      " 5   acceleration  399 non-null    object\n",
      " 6   model year    399 non-null    object\n",
      " 7   origin        399 non-null    object\n",
      " 8   name          399 non-null    object\n",
      "dtypes: object(9)\n",
      "memory usage: 28.2+ KB\n"
     ]
    }
   ],
   "source": [
    "df.info()"
   ]
  },
  {
   "cell_type": "code",
   "execution_count": 24,
   "id": "f370a81a",
   "metadata": {},
   "outputs": [
    {
     "name": "stdout",
     "output_type": "stream",
     "text": [
      "   mpg cylinders displacement horsepower weight acceleration model year  \\\n",
      "0  mpg       cyl         disp         hp     wt       accler       year   \n",
      "1   18         8          307         17   3504           12         70   \n",
      "2   15         8          350         35   3693         11.5         70   \n",
      "3   18         8          318         29   3436           11         70   \n",
      "4   16         8          304         29   3433           12         70   \n",
      "\n",
      "   origin                       name  \n",
      "0  origin                    carname  \n",
      "1       1  chevrolet chevelle malibu  \n",
      "2       1          buick skylark 320  \n",
      "3       1         plymouth satellite  \n",
      "4       1              amc rebel sst  \n",
      "\n",
      "\n"
     ]
    }
   ],
   "source": [
    "#  IPython 디스플레이 설정 - 출력할 열의 개수 한도 늘리기\n",
    "pd.set_option('display.max_columns', 10)\n",
    "print(df.head())   \n",
    "print('\\n')"
   ]
  },
  {
   "cell_type": "markdown",
   "id": "46fdfe9c",
   "metadata": {},
   "source": [
    "'''\n",
    "[Step 2] 데이터 탐색\n",
    "'''"
   ]
  },
  {
   "cell_type": "code",
   "execution_count": 25,
   "id": "6aa38e84",
   "metadata": {},
   "outputs": [
    {
     "name": "stdout",
     "output_type": "stream",
     "text": [
      "<class 'pandas.core.frame.DataFrame'>\n",
      "RangeIndex: 399 entries, 0 to 398\n",
      "Data columns (total 9 columns):\n",
      " #   Column        Non-Null Count  Dtype \n",
      "---  ------        --------------  ----- \n",
      " 0   mpg           399 non-null    object\n",
      " 1   cylinders     399 non-null    object\n",
      " 2   displacement  399 non-null    object\n",
      " 3   horsepower    399 non-null    object\n",
      " 4   weight        399 non-null    object\n",
      " 5   acceleration  399 non-null    object\n",
      " 6   model year    399 non-null    object\n",
      " 7   origin        399 non-null    object\n",
      " 8   name          399 non-null    object\n",
      "dtypes: object(9)\n",
      "memory usage: 28.2+ KB\n"
     ]
    }
   ],
   "source": [
    "df.info()"
   ]
  },
  {
   "cell_type": "code",
   "execution_count": 26,
   "id": "300b9ab8",
   "metadata": {},
   "outputs": [
    {
     "data": {
      "text/html": [
       "<div>\n",
       "<style scoped>\n",
       "    .dataframe tbody tr th:only-of-type {\n",
       "        vertical-align: middle;\n",
       "    }\n",
       "\n",
       "    .dataframe tbody tr th {\n",
       "        vertical-align: top;\n",
       "    }\n",
       "\n",
       "    .dataframe thead th {\n",
       "        text-align: right;\n",
       "    }\n",
       "</style>\n",
       "<table border=\"1\" class=\"dataframe\">\n",
       "  <thead>\n",
       "    <tr style=\"text-align: right;\">\n",
       "      <th></th>\n",
       "      <th>mpg</th>\n",
       "      <th>cylinders</th>\n",
       "      <th>displacement</th>\n",
       "      <th>horsepower</th>\n",
       "      <th>weight</th>\n",
       "      <th>acceleration</th>\n",
       "      <th>model year</th>\n",
       "      <th>origin</th>\n",
       "      <th>name</th>\n",
       "    </tr>\n",
       "  </thead>\n",
       "  <tbody>\n",
       "    <tr>\n",
       "      <th>count</th>\n",
       "      <td>399</td>\n",
       "      <td>399</td>\n",
       "      <td>399</td>\n",
       "      <td>399</td>\n",
       "      <td>399</td>\n",
       "      <td>399</td>\n",
       "      <td>399</td>\n",
       "      <td>399</td>\n",
       "      <td>399</td>\n",
       "    </tr>\n",
       "    <tr>\n",
       "      <th>unique</th>\n",
       "      <td>130</td>\n",
       "      <td>6</td>\n",
       "      <td>83</td>\n",
       "      <td>95</td>\n",
       "      <td>352</td>\n",
       "      <td>96</td>\n",
       "      <td>14</td>\n",
       "      <td>4</td>\n",
       "      <td>306</td>\n",
       "    </tr>\n",
       "    <tr>\n",
       "      <th>top</th>\n",
       "      <td>13</td>\n",
       "      <td>4</td>\n",
       "      <td>97</td>\n",
       "      <td>29</td>\n",
       "      <td>1985</td>\n",
       "      <td>14.5</td>\n",
       "      <td>73</td>\n",
       "      <td>1</td>\n",
       "      <td>ford pinto</td>\n",
       "    </tr>\n",
       "    <tr>\n",
       "      <th>freq</th>\n",
       "      <td>20</td>\n",
       "      <td>204</td>\n",
       "      <td>21</td>\n",
       "      <td>22</td>\n",
       "      <td>4</td>\n",
       "      <td>23</td>\n",
       "      <td>40</td>\n",
       "      <td>249</td>\n",
       "      <td>6</td>\n",
       "    </tr>\n",
       "  </tbody>\n",
       "</table>\n",
       "</div>"
      ],
      "text/plain": [
       "        mpg cylinders displacement horsepower weight acceleration model year  \\\n",
       "count   399       399          399        399    399          399        399   \n",
       "unique  130         6           83         95    352           96         14   \n",
       "top      13         4           97         29   1985         14.5         73   \n",
       "freq     20       204           21         22      4           23         40   \n",
       "\n",
       "       origin        name  \n",
       "count     399         399  \n",
       "unique      4         306  \n",
       "top         1  ford pinto  \n",
       "freq      249           6  "
      ]
     },
     "execution_count": 26,
     "metadata": {},
     "output_type": "execute_result"
    }
   ],
   "source": [
    "df.describe()"
   ]
  },
  {
   "cell_type": "code",
   "execution_count": 27,
   "id": "4304c8d4",
   "metadata": {},
   "outputs": [
    {
     "data": {
      "text/plain": [
       "0      hp\n",
       "1      17\n",
       "2      35\n",
       "3      29\n",
       "4      29\n",
       "       ..\n",
       "394    82\n",
       "395    53\n",
       "396    80\n",
       "397    75\n",
       "398    78\n",
       "Name: horsepower, Length: 399, dtype: object"
      ]
     },
     "execution_count": 27,
     "metadata": {},
     "output_type": "execute_result"
    }
   ],
   "source": [
    "df.horsepower"
   ]
  },
  {
   "cell_type": "code",
   "execution_count": 28,
   "id": "912fb1c5",
   "metadata": {},
   "outputs": [
    {
     "data": {
      "text/plain": [
       "array(['hp', '17', '35', '29', '24', '42', '47', '46', '48', '40', '37',\n",
       "       '34', '91', '93', '81', '84', '50', '83', '86', '10', '43', '45',\n",
       "       '41', '1', '2', '5', '38', '31', '39', '8', '69', '82', '67', '72',\n",
       "       '62', '66', '57', '76', '55', '44', '32', '9', '88', '26', '21',\n",
       "       '33', '36', '90', '6', '49', '52', '71', '87', '14', '64', '79',\n",
       "       '74', '53', '58', '89', '27', '16', '92', '68', '94', '11', '54',\n",
       "       '77', '75', '13', '30', '3', '7', '65', '56', '28', '85', '60',\n",
       "       '51', '63', '23', '4', '15', '19', '22', '20', '25', '73', '59',\n",
       "       '18', '80', '61', '70', '12', '78'], dtype=object)"
      ]
     },
     "execution_count": 28,
     "metadata": {},
     "output_type": "execute_result"
    }
   ],
   "source": [
    "# 문자열(boject) >>> 숫자\n",
    "df.horsepower.unique()\n",
    "# unique() : 특정 열의 고유값 확인"
   ]
  },
  {
   "cell_type": "code",
   "execution_count": 29,
   "id": "f8995f56",
   "metadata": {},
   "outputs": [],
   "source": [
    "# 문자열(object) >>> 숫자 변경(replace())\n",
    "df.horsepower.replace('hp',np.nan,inplace = True)"
   ]
  },
  {
   "cell_type": "code",
   "execution_count": 30,
   "id": "f67003a6",
   "metadata": {},
   "outputs": [
    {
     "data": {
      "text/html": [
       "<div>\n",
       "<style scoped>\n",
       "    .dataframe tbody tr th:only-of-type {\n",
       "        vertical-align: middle;\n",
       "    }\n",
       "\n",
       "    .dataframe tbody tr th {\n",
       "        vertical-align: top;\n",
       "    }\n",
       "\n",
       "    .dataframe thead th {\n",
       "        text-align: right;\n",
       "    }\n",
       "</style>\n",
       "<table border=\"1\" class=\"dataframe\">\n",
       "  <thead>\n",
       "    <tr style=\"text-align: right;\">\n",
       "      <th></th>\n",
       "      <th>mpg</th>\n",
       "      <th>cylinders</th>\n",
       "      <th>displacement</th>\n",
       "      <th>horsepower</th>\n",
       "      <th>weight</th>\n",
       "      <th>acceleration</th>\n",
       "      <th>model year</th>\n",
       "      <th>origin</th>\n",
       "      <th>name</th>\n",
       "    </tr>\n",
       "  </thead>\n",
       "  <tbody>\n",
       "    <tr>\n",
       "      <th>1</th>\n",
       "      <td>18</td>\n",
       "      <td>8</td>\n",
       "      <td>307</td>\n",
       "      <td>17</td>\n",
       "      <td>3504</td>\n",
       "      <td>12</td>\n",
       "      <td>70</td>\n",
       "      <td>1</td>\n",
       "      <td>chevrolet chevelle malibu</td>\n",
       "    </tr>\n",
       "    <tr>\n",
       "      <th>2</th>\n",
       "      <td>15</td>\n",
       "      <td>8</td>\n",
       "      <td>350</td>\n",
       "      <td>35</td>\n",
       "      <td>3693</td>\n",
       "      <td>11.5</td>\n",
       "      <td>70</td>\n",
       "      <td>1</td>\n",
       "      <td>buick skylark 320</td>\n",
       "    </tr>\n",
       "    <tr>\n",
       "      <th>3</th>\n",
       "      <td>18</td>\n",
       "      <td>8</td>\n",
       "      <td>318</td>\n",
       "      <td>29</td>\n",
       "      <td>3436</td>\n",
       "      <td>11</td>\n",
       "      <td>70</td>\n",
       "      <td>1</td>\n",
       "      <td>plymouth satellite</td>\n",
       "    </tr>\n",
       "    <tr>\n",
       "      <th>4</th>\n",
       "      <td>16</td>\n",
       "      <td>8</td>\n",
       "      <td>304</td>\n",
       "      <td>29</td>\n",
       "      <td>3433</td>\n",
       "      <td>12</td>\n",
       "      <td>70</td>\n",
       "      <td>1</td>\n",
       "      <td>amc rebel sst</td>\n",
       "    </tr>\n",
       "    <tr>\n",
       "      <th>5</th>\n",
       "      <td>17</td>\n",
       "      <td>8</td>\n",
       "      <td>302</td>\n",
       "      <td>24</td>\n",
       "      <td>3449</td>\n",
       "      <td>10.5</td>\n",
       "      <td>70</td>\n",
       "      <td>1</td>\n",
       "      <td>ford torino</td>\n",
       "    </tr>\n",
       "    <tr>\n",
       "      <th>...</th>\n",
       "      <td>...</td>\n",
       "      <td>...</td>\n",
       "      <td>...</td>\n",
       "      <td>...</td>\n",
       "      <td>...</td>\n",
       "      <td>...</td>\n",
       "      <td>...</td>\n",
       "      <td>...</td>\n",
       "      <td>...</td>\n",
       "    </tr>\n",
       "    <tr>\n",
       "      <th>394</th>\n",
       "      <td>27</td>\n",
       "      <td>4</td>\n",
       "      <td>140</td>\n",
       "      <td>82</td>\n",
       "      <td>2790</td>\n",
       "      <td>15.6</td>\n",
       "      <td>82</td>\n",
       "      <td>1</td>\n",
       "      <td>ford mustang gl</td>\n",
       "    </tr>\n",
       "    <tr>\n",
       "      <th>395</th>\n",
       "      <td>44</td>\n",
       "      <td>4</td>\n",
       "      <td>97</td>\n",
       "      <td>53</td>\n",
       "      <td>2130</td>\n",
       "      <td>24.6</td>\n",
       "      <td>82</td>\n",
       "      <td>2</td>\n",
       "      <td>vw pickup</td>\n",
       "    </tr>\n",
       "    <tr>\n",
       "      <th>396</th>\n",
       "      <td>32</td>\n",
       "      <td>4</td>\n",
       "      <td>135</td>\n",
       "      <td>80</td>\n",
       "      <td>2295</td>\n",
       "      <td>11.6</td>\n",
       "      <td>82</td>\n",
       "      <td>1</td>\n",
       "      <td>dodge rampage</td>\n",
       "    </tr>\n",
       "    <tr>\n",
       "      <th>397</th>\n",
       "      <td>28</td>\n",
       "      <td>4</td>\n",
       "      <td>120</td>\n",
       "      <td>75</td>\n",
       "      <td>2625</td>\n",
       "      <td>18.6</td>\n",
       "      <td>82</td>\n",
       "      <td>1</td>\n",
       "      <td>ford ranger</td>\n",
       "    </tr>\n",
       "    <tr>\n",
       "      <th>398</th>\n",
       "      <td>31</td>\n",
       "      <td>4</td>\n",
       "      <td>119</td>\n",
       "      <td>78</td>\n",
       "      <td>2720</td>\n",
       "      <td>19.4</td>\n",
       "      <td>82</td>\n",
       "      <td>1</td>\n",
       "      <td>chevy s-10</td>\n",
       "    </tr>\n",
       "  </tbody>\n",
       "</table>\n",
       "<p>398 rows × 9 columns</p>\n",
       "</div>"
      ],
      "text/plain": [
       "    mpg cylinders displacement horsepower weight acceleration model year  \\\n",
       "1    18         8          307         17   3504           12         70   \n",
       "2    15         8          350         35   3693         11.5         70   \n",
       "3    18         8          318         29   3436           11         70   \n",
       "4    16         8          304         29   3433           12         70   \n",
       "5    17         8          302         24   3449         10.5         70   \n",
       "..   ..       ...          ...        ...    ...          ...        ...   \n",
       "394  27         4          140         82   2790         15.6         82   \n",
       "395  44         4           97         53   2130         24.6         82   \n",
       "396  32         4          135         80   2295         11.6         82   \n",
       "397  28         4          120         75   2625         18.6         82   \n",
       "398  31         4          119         78   2720         19.4         82   \n",
       "\n",
       "    origin                       name  \n",
       "1        1  chevrolet chevelle malibu  \n",
       "2        1          buick skylark 320  \n",
       "3        1         plymouth satellite  \n",
       "4        1              amc rebel sst  \n",
       "5        1                ford torino  \n",
       "..     ...                        ...  \n",
       "394      1            ford mustang gl  \n",
       "395      2                  vw pickup  \n",
       "396      1              dodge rampage  \n",
       "397      1                ford ranger  \n",
       "398      1                 chevy s-10  \n",
       "\n",
       "[398 rows x 9 columns]"
      ]
     },
     "execution_count": 30,
     "metadata": {},
     "output_type": "execute_result"
    }
   ],
   "source": [
    "df.drop(0,axis=0,inplace = True)\n",
    "df"
   ]
  },
  {
   "cell_type": "code",
   "execution_count": 31,
   "id": "baf719cc",
   "metadata": {},
   "outputs": [
    {
     "name": "stdout",
     "output_type": "stream",
     "text": [
      "<class 'pandas.core.frame.DataFrame'>\n",
      "Int64Index: 398 entries, 1 to 398\n",
      "Data columns (total 9 columns):\n",
      " #   Column        Non-Null Count  Dtype \n",
      "---  ------        --------------  ----- \n",
      " 0   mpg           398 non-null    object\n",
      " 1   cylinders     398 non-null    object\n",
      " 2   displacement  398 non-null    object\n",
      " 3   horsepower    398 non-null    object\n",
      " 4   weight        398 non-null    object\n",
      " 5   acceleration  398 non-null    object\n",
      " 6   model year    398 non-null    object\n",
      " 7   origin        398 non-null    object\n",
      " 8   name          398 non-null    object\n",
      "dtypes: object(9)\n",
      "memory usage: 31.1+ KB\n"
     ]
    }
   ],
   "source": [
    "df.info()"
   ]
  },
  {
   "cell_type": "code",
   "execution_count": 42,
   "id": "0d0c348b",
   "metadata": {},
   "outputs": [
    {
     "name": "stdout",
     "output_type": "stream",
     "text": [
      "float64\n"
     ]
    },
    {
     "data": {
      "text/html": [
       "<div>\n",
       "<style scoped>\n",
       "    .dataframe tbody tr th:only-of-type {\n",
       "        vertical-align: middle;\n",
       "    }\n",
       "\n",
       "    .dataframe tbody tr th {\n",
       "        vertical-align: top;\n",
       "    }\n",
       "\n",
       "    .dataframe thead th {\n",
       "        text-align: right;\n",
       "    }\n",
       "</style>\n",
       "<table border=\"1\" class=\"dataframe\">\n",
       "  <thead>\n",
       "    <tr style=\"text-align: right;\">\n",
       "      <th></th>\n",
       "      <th>mpg</th>\n",
       "      <th>cylinders</th>\n",
       "      <th>displacement</th>\n",
       "      <th>horsepower</th>\n",
       "      <th>weight</th>\n",
       "      <th>acceleration</th>\n",
       "      <th>model year</th>\n",
       "      <th>origin</th>\n",
       "      <th>name</th>\n",
       "    </tr>\n",
       "  </thead>\n",
       "  <tbody>\n",
       "    <tr>\n",
       "      <th>1</th>\n",
       "      <td>18.0</td>\n",
       "      <td>8</td>\n",
       "      <td>307.0</td>\n",
       "      <td>17.0</td>\n",
       "      <td>3504.0</td>\n",
       "      <td>12</td>\n",
       "      <td>70</td>\n",
       "      <td>1</td>\n",
       "      <td>chevrolet chevelle malibu</td>\n",
       "    </tr>\n",
       "    <tr>\n",
       "      <th>2</th>\n",
       "      <td>15.0</td>\n",
       "      <td>8</td>\n",
       "      <td>350.0</td>\n",
       "      <td>35.0</td>\n",
       "      <td>3693.0</td>\n",
       "      <td>11.5</td>\n",
       "      <td>70</td>\n",
       "      <td>1</td>\n",
       "      <td>buick skylark 320</td>\n",
       "    </tr>\n",
       "    <tr>\n",
       "      <th>3</th>\n",
       "      <td>18.0</td>\n",
       "      <td>8</td>\n",
       "      <td>318.0</td>\n",
       "      <td>29.0</td>\n",
       "      <td>3436.0</td>\n",
       "      <td>11</td>\n",
       "      <td>70</td>\n",
       "      <td>1</td>\n",
       "      <td>plymouth satellite</td>\n",
       "    </tr>\n",
       "    <tr>\n",
       "      <th>4</th>\n",
       "      <td>16.0</td>\n",
       "      <td>8</td>\n",
       "      <td>304.0</td>\n",
       "      <td>29.0</td>\n",
       "      <td>3433.0</td>\n",
       "      <td>12</td>\n",
       "      <td>70</td>\n",
       "      <td>1</td>\n",
       "      <td>amc rebel sst</td>\n",
       "    </tr>\n",
       "    <tr>\n",
       "      <th>5</th>\n",
       "      <td>17.0</td>\n",
       "      <td>8</td>\n",
       "      <td>302.0</td>\n",
       "      <td>24.0</td>\n",
       "      <td>3449.0</td>\n",
       "      <td>10.5</td>\n",
       "      <td>70</td>\n",
       "      <td>1</td>\n",
       "      <td>ford torino</td>\n",
       "    </tr>\n",
       "    <tr>\n",
       "      <th>...</th>\n",
       "      <td>...</td>\n",
       "      <td>...</td>\n",
       "      <td>...</td>\n",
       "      <td>...</td>\n",
       "      <td>...</td>\n",
       "      <td>...</td>\n",
       "      <td>...</td>\n",
       "      <td>...</td>\n",
       "      <td>...</td>\n",
       "    </tr>\n",
       "    <tr>\n",
       "      <th>394</th>\n",
       "      <td>27.0</td>\n",
       "      <td>4</td>\n",
       "      <td>140.0</td>\n",
       "      <td>82.0</td>\n",
       "      <td>2790.0</td>\n",
       "      <td>15.6</td>\n",
       "      <td>82</td>\n",
       "      <td>1</td>\n",
       "      <td>ford mustang gl</td>\n",
       "    </tr>\n",
       "    <tr>\n",
       "      <th>395</th>\n",
       "      <td>44.0</td>\n",
       "      <td>4</td>\n",
       "      <td>97.0</td>\n",
       "      <td>53.0</td>\n",
       "      <td>2130.0</td>\n",
       "      <td>24.6</td>\n",
       "      <td>82</td>\n",
       "      <td>2</td>\n",
       "      <td>vw pickup</td>\n",
       "    </tr>\n",
       "    <tr>\n",
       "      <th>396</th>\n",
       "      <td>32.0</td>\n",
       "      <td>4</td>\n",
       "      <td>135.0</td>\n",
       "      <td>80.0</td>\n",
       "      <td>2295.0</td>\n",
       "      <td>11.6</td>\n",
       "      <td>82</td>\n",
       "      <td>1</td>\n",
       "      <td>dodge rampage</td>\n",
       "    </tr>\n",
       "    <tr>\n",
       "      <th>397</th>\n",
       "      <td>28.0</td>\n",
       "      <td>4</td>\n",
       "      <td>120.0</td>\n",
       "      <td>75.0</td>\n",
       "      <td>2625.0</td>\n",
       "      <td>18.6</td>\n",
       "      <td>82</td>\n",
       "      <td>1</td>\n",
       "      <td>ford ranger</td>\n",
       "    </tr>\n",
       "    <tr>\n",
       "      <th>398</th>\n",
       "      <td>31.0</td>\n",
       "      <td>4</td>\n",
       "      <td>119.0</td>\n",
       "      <td>78.0</td>\n",
       "      <td>2720.0</td>\n",
       "      <td>19.4</td>\n",
       "      <td>82</td>\n",
       "      <td>1</td>\n",
       "      <td>chevy s-10</td>\n",
       "    </tr>\n",
       "  </tbody>\n",
       "</table>\n",
       "<p>398 rows × 9 columns</p>\n",
       "</div>"
      ],
      "text/plain": [
       "      mpg  cylinders  displacement  horsepower  weight acceleration  \\\n",
       "1    18.0          8         307.0        17.0  3504.0           12   \n",
       "2    15.0          8         350.0        35.0  3693.0         11.5   \n",
       "3    18.0          8         318.0        29.0  3436.0           11   \n",
       "4    16.0          8         304.0        29.0  3433.0           12   \n",
       "5    17.0          8         302.0        24.0  3449.0         10.5   \n",
       "..    ...        ...           ...         ...     ...          ...   \n",
       "394  27.0          4         140.0        82.0  2790.0         15.6   \n",
       "395  44.0          4          97.0        53.0  2130.0         24.6   \n",
       "396  32.0          4         135.0        80.0  2295.0         11.6   \n",
       "397  28.0          4         120.0        75.0  2625.0         18.6   \n",
       "398  31.0          4         119.0        78.0  2720.0         19.4   \n",
       "\n",
       "     model year  origin                       name  \n",
       "1            70       1  chevrolet chevelle malibu  \n",
       "2            70       1          buick skylark 320  \n",
       "3            70       1         plymouth satellite  \n",
       "4            70       1              amc rebel sst  \n",
       "5            70       1                ford torino  \n",
       "..          ...     ...                        ...  \n",
       "394          82       1            ford mustang gl  \n",
       "395          82       2                  vw pickup  \n",
       "396          82       1              dodge rampage  \n",
       "397          82       1                ford ranger  \n",
       "398          82       1                 chevy s-10  \n",
       "\n",
       "[398 rows x 9 columns]"
      ]
     },
     "execution_count": 42,
     "metadata": {},
     "output_type": "execute_result"
    }
   ],
   "source": [
    "df.horsepower = df.horsepower.astype('float') # 실수형으로 변경\n",
    "df.mpg = df.mpg.astype('float')\n",
    "df.cylinders = df.cylinders.astype('int')\n",
    "df.displacement = df.displacement.astype('float')\n",
    "df.weight = df.weight.astype('float')\n",
    "df['model year'] = df['model year'].astype('int')\n",
    "df.origin = df.origin.astype('int')\n",
    "print(df.horsepower.dtype)\n",
    "df"
   ]
  },
  {
   "cell_type": "code",
   "execution_count": 43,
   "id": "e95cdcab",
   "metadata": {},
   "outputs": [
    {
     "data": {
      "text/html": [
       "<div>\n",
       "<style scoped>\n",
       "    .dataframe tbody tr th:only-of-type {\n",
       "        vertical-align: middle;\n",
       "    }\n",
       "\n",
       "    .dataframe tbody tr th {\n",
       "        vertical-align: top;\n",
       "    }\n",
       "\n",
       "    .dataframe thead th {\n",
       "        text-align: right;\n",
       "    }\n",
       "</style>\n",
       "<table border=\"1\" class=\"dataframe\">\n",
       "  <thead>\n",
       "    <tr style=\"text-align: right;\">\n",
       "      <th></th>\n",
       "      <th>mpg</th>\n",
       "      <th>cylinders</th>\n",
       "      <th>displacement</th>\n",
       "      <th>horsepower</th>\n",
       "      <th>weight</th>\n",
       "      <th>model year</th>\n",
       "      <th>origin</th>\n",
       "    </tr>\n",
       "  </thead>\n",
       "  <tbody>\n",
       "    <tr>\n",
       "      <th>count</th>\n",
       "      <td>398.000000</td>\n",
       "      <td>398.000000</td>\n",
       "      <td>398.000000</td>\n",
       "      <td>398.000000</td>\n",
       "      <td>398.000000</td>\n",
       "      <td>398.000000</td>\n",
       "      <td>398.000000</td>\n",
       "    </tr>\n",
       "    <tr>\n",
       "      <th>mean</th>\n",
       "      <td>23.514573</td>\n",
       "      <td>5.454774</td>\n",
       "      <td>193.425879</td>\n",
       "      <td>51.389447</td>\n",
       "      <td>2970.424623</td>\n",
       "      <td>76.010050</td>\n",
       "      <td>1.572864</td>\n",
       "    </tr>\n",
       "    <tr>\n",
       "      <th>std</th>\n",
       "      <td>7.815984</td>\n",
       "      <td>1.701004</td>\n",
       "      <td>104.269838</td>\n",
       "      <td>29.932360</td>\n",
       "      <td>846.841774</td>\n",
       "      <td>3.697627</td>\n",
       "      <td>0.802055</td>\n",
       "    </tr>\n",
       "    <tr>\n",
       "      <th>min</th>\n",
       "      <td>9.000000</td>\n",
       "      <td>3.000000</td>\n",
       "      <td>68.000000</td>\n",
       "      <td>1.000000</td>\n",
       "      <td>1613.000000</td>\n",
       "      <td>70.000000</td>\n",
       "      <td>1.000000</td>\n",
       "    </tr>\n",
       "    <tr>\n",
       "      <th>25%</th>\n",
       "      <td>17.500000</td>\n",
       "      <td>4.000000</td>\n",
       "      <td>104.250000</td>\n",
       "      <td>26.000000</td>\n",
       "      <td>2223.750000</td>\n",
       "      <td>73.000000</td>\n",
       "      <td>1.000000</td>\n",
       "    </tr>\n",
       "    <tr>\n",
       "      <th>50%</th>\n",
       "      <td>23.000000</td>\n",
       "      <td>4.000000</td>\n",
       "      <td>148.500000</td>\n",
       "      <td>60.500000</td>\n",
       "      <td>2803.500000</td>\n",
       "      <td>76.000000</td>\n",
       "      <td>1.000000</td>\n",
       "    </tr>\n",
       "    <tr>\n",
       "      <th>75%</th>\n",
       "      <td>29.000000</td>\n",
       "      <td>8.000000</td>\n",
       "      <td>262.000000</td>\n",
       "      <td>79.000000</td>\n",
       "      <td>3608.000000</td>\n",
       "      <td>79.000000</td>\n",
       "      <td>2.000000</td>\n",
       "    </tr>\n",
       "    <tr>\n",
       "      <th>max</th>\n",
       "      <td>46.600000</td>\n",
       "      <td>8.000000</td>\n",
       "      <td>455.000000</td>\n",
       "      <td>94.000000</td>\n",
       "      <td>5140.000000</td>\n",
       "      <td>82.000000</td>\n",
       "      <td>3.000000</td>\n",
       "    </tr>\n",
       "  </tbody>\n",
       "</table>\n",
       "</div>"
      ],
      "text/plain": [
       "              mpg   cylinders  displacement  horsepower       weight  \\\n",
       "count  398.000000  398.000000    398.000000  398.000000   398.000000   \n",
       "mean    23.514573    5.454774    193.425879   51.389447  2970.424623   \n",
       "std      7.815984    1.701004    104.269838   29.932360   846.841774   \n",
       "min      9.000000    3.000000     68.000000    1.000000  1613.000000   \n",
       "25%     17.500000    4.000000    104.250000   26.000000  2223.750000   \n",
       "50%     23.000000    4.000000    148.500000   60.500000  2803.500000   \n",
       "75%     29.000000    8.000000    262.000000   79.000000  3608.000000   \n",
       "max     46.600000    8.000000    455.000000   94.000000  5140.000000   \n",
       "\n",
       "       model year      origin  \n",
       "count  398.000000  398.000000  \n",
       "mean    76.010050    1.572864  \n",
       "std      3.697627    0.802055  \n",
       "min     70.000000    1.000000  \n",
       "25%     73.000000    1.000000  \n",
       "50%     76.000000    1.000000  \n",
       "75%     79.000000    2.000000  \n",
       "max     82.000000    3.000000  "
      ]
     },
     "execution_count": 43,
     "metadata": {},
     "output_type": "execute_result"
    }
   ],
   "source": [
    "# 요약 통계량\n",
    "df.describe()"
   ]
  },
  {
   "cell_type": "markdown",
   "id": "f94d68c0",
   "metadata": {},
   "source": [
    "'''\n",
    "[Step 3] 속성(feature 또는 variable) 선택\n",
    "'''\n"
   ]
  },
  {
   "cell_type": "code",
   "execution_count": 45,
   "id": "73234bcb",
   "metadata": {},
   "outputs": [
    {
     "data": {
      "text/html": [
       "<div>\n",
       "<style scoped>\n",
       "    .dataframe tbody tr th:only-of-type {\n",
       "        vertical-align: middle;\n",
       "    }\n",
       "\n",
       "    .dataframe tbody tr th {\n",
       "        vertical-align: top;\n",
       "    }\n",
       "\n",
       "    .dataframe thead th {\n",
       "        text-align: right;\n",
       "    }\n",
       "</style>\n",
       "<table border=\"1\" class=\"dataframe\">\n",
       "  <thead>\n",
       "    <tr style=\"text-align: right;\">\n",
       "      <th></th>\n",
       "      <th>mpg</th>\n",
       "      <th>cylinders</th>\n",
       "      <th>horsepower</th>\n",
       "      <th>weight</th>\n",
       "    </tr>\n",
       "  </thead>\n",
       "  <tbody>\n",
       "    <tr>\n",
       "      <th>1</th>\n",
       "      <td>18.0</td>\n",
       "      <td>8</td>\n",
       "      <td>17.0</td>\n",
       "      <td>3504.0</td>\n",
       "    </tr>\n",
       "    <tr>\n",
       "      <th>2</th>\n",
       "      <td>15.0</td>\n",
       "      <td>8</td>\n",
       "      <td>35.0</td>\n",
       "      <td>3693.0</td>\n",
       "    </tr>\n",
       "    <tr>\n",
       "      <th>3</th>\n",
       "      <td>18.0</td>\n",
       "      <td>8</td>\n",
       "      <td>29.0</td>\n",
       "      <td>3436.0</td>\n",
       "    </tr>\n",
       "    <tr>\n",
       "      <th>4</th>\n",
       "      <td>16.0</td>\n",
       "      <td>8</td>\n",
       "      <td>29.0</td>\n",
       "      <td>3433.0</td>\n",
       "    </tr>\n",
       "    <tr>\n",
       "      <th>5</th>\n",
       "      <td>17.0</td>\n",
       "      <td>8</td>\n",
       "      <td>24.0</td>\n",
       "      <td>3449.0</td>\n",
       "    </tr>\n",
       "  </tbody>\n",
       "</table>\n",
       "</div>"
      ],
      "text/plain": [
       "    mpg  cylinders  horsepower  weight\n",
       "1  18.0          8        17.0  3504.0\n",
       "2  15.0          8        35.0  3693.0\n",
       "3  18.0          8        29.0  3436.0\n",
       "4  16.0          8        29.0  3433.0\n",
       "5  17.0          8        24.0  3449.0"
      ]
     },
     "execution_count": 45,
     "metadata": {},
     "output_type": "execute_result"
    }
   ],
   "source": [
    "ndf = df[['mpg','cylinders','horsepower','weight']]\n",
    "ndf.head()"
   ]
  },
  {
   "cell_type": "code",
   "execution_count": 46,
   "id": "b077ad99",
   "metadata": {},
   "outputs": [
    {
     "data": {
      "image/png": "[encoded data removed]",
      "text/plain": [
       "<Figure size 720x360 with 1 Axes>"
      ]
     },
     "metadata": {
      "needs_background": "light"
     },
     "output_type": "display_data"
    }
   ],
   "source": [
    "### 종속 변수 Y인 \"연비(mpg)\"와 다른 변수 간의 선형관계를 그래프(산점도)로 확인\n",
    "# 산점도 그리기\n",
    "ndf.plot(kind = 'scatter',x= 'weight',y = 'mpg',c = 'coral',s = 10, figsize = (10,5))\n",
    "plt.show()"
   ]
  },
  {
   "cell_type": "code",
   "execution_count": 48,
   "id": "200f7fd1",
   "metadata": {},
   "outputs": [
    {
     "data": {
      "image/png": "[encoded data removed]",
      "text/plain": [
       "<Figure size 720x360 with 2 Axes>"
      ]
     },
     "metadata": {
      "needs_background": "light"
     },
     "output_type": "display_data"
    }
   ],
   "source": [
    "# seaborn으로 산점도 그리기\n",
    "fig = plt.figure(figsize = (10,5))\n",
    "ax1 = fig.add_subplot(1,2,1)\n",
    "ax2 = fig.add_subplot(1,2,2)\n",
    "sns.regplot(x = 'weight',y='mpg',data = ndf,ax = ax1) # 회귀선 표시\n",
    "sns.regplot(x = 'weight',y='mpg',data = ndf,ax = ax2,fit_reg=False) # 회귀선 미표시\n",
    "plt.show()\n",
    "plt.close()"
   ]
  },
  {
   "cell_type": "code",
   "execution_count": 49,
   "id": "aafca8f0",
   "metadata": {},
   "outputs": [
    {
     "data": {
      "image/png": "[encoded data removed]",
      "text/plain": [
       "<Figure size 432x432 with 3 Axes>"
      ]
     },
     "metadata": {
      "needs_background": "light"
     },
     "output_type": "display_data"
    },
    {
     "data": {
      "image/png": "[encoded data removed]",
      "text/plain": [
       "<Figure size 432x432 with 3 Axes>"
      ]
     },
     "metadata": {
      "needs_background": "light"
     },
     "output_type": "display_data"
    }
   ],
   "source": [
    "# seaborn 연결 그래프 : 산점도, 히스토그램\n",
    "\n",
    "sns.jointplot(x = 'weight',y='mpg',data = ndf) # 회귀선 미표시\n",
    "sns.jointplot(x = 'weight',y='mpg',kind = 'reg',data = ndf) # 회귀선 표시\n",
    "plt.show()\n",
    "plt.close()"
   ]
  },
  {
   "cell_type": "code",
   "execution_count": 50,
   "id": "39129c02",
   "metadata": {},
   "outputs": [
    {
     "data": {
      "image/png": "[encoded data removed]",
      "text/plain": [
       "<Figure size 720x720 with 20 Axes>"
      ]
     },
     "metadata": {
      "needs_background": "light"
     },
     "output_type": "display_data"
    }
   ],
   "source": [
    "# (적극추천 EDA 분석시) pairplot\n",
    "sns.pairplot(ndf)\n",
    "plt.show()"
   ]
  },
  {
   "cell_type": "markdown",
   "id": "f96b8610",
   "metadata": {},
   "source": [
    "'''\n",
    "Step 4: 데이터셋 구분 - 훈련용(train data)/ 검증용(test data)\n",
    "'''\n"
   ]
  },
  {
   "cell_type": "code",
   "execution_count": 55,
   "id": "f05dbfe2",
   "metadata": {},
   "outputs": [
    {
     "name": "stdout",
     "output_type": "stream",
     "text": [
      "<class 'pandas.core.frame.DataFrame'> (398, 1)\n"
     ]
    },
    {
     "data": {
      "text/html": [
       "<div>\n",
       "<style scoped>\n",
       "    .dataframe tbody tr th:only-of-type {\n",
       "        vertical-align: middle;\n",
       "    }\n",
       "\n",
       "    .dataframe tbody tr th {\n",
       "        vertical-align: top;\n",
       "    }\n",
       "\n",
       "    .dataframe thead th {\n",
       "        text-align: right;\n",
       "    }\n",
       "</style>\n",
       "<table border=\"1\" class=\"dataframe\">\n",
       "  <thead>\n",
       "    <tr style=\"text-align: right;\">\n",
       "      <th></th>\n",
       "      <th>weight</th>\n",
       "    </tr>\n",
       "  </thead>\n",
       "  <tbody>\n",
       "    <tr>\n",
       "      <th>1</th>\n",
       "      <td>3504.0</td>\n",
       "    </tr>\n",
       "    <tr>\n",
       "      <th>2</th>\n",
       "      <td>3693.0</td>\n",
       "    </tr>\n",
       "    <tr>\n",
       "      <th>3</th>\n",
       "      <td>3436.0</td>\n",
       "    </tr>\n",
       "    <tr>\n",
       "      <th>4</th>\n",
       "      <td>3433.0</td>\n",
       "    </tr>\n",
       "    <tr>\n",
       "      <th>5</th>\n",
       "      <td>3449.0</td>\n",
       "    </tr>\n",
       "    <tr>\n",
       "      <th>...</th>\n",
       "      <td>...</td>\n",
       "    </tr>\n",
       "    <tr>\n",
       "      <th>394</th>\n",
       "      <td>2790.0</td>\n",
       "    </tr>\n",
       "    <tr>\n",
       "      <th>395</th>\n",
       "      <td>2130.0</td>\n",
       "    </tr>\n",
       "    <tr>\n",
       "      <th>396</th>\n",
       "      <td>2295.0</td>\n",
       "    </tr>\n",
       "    <tr>\n",
       "      <th>397</th>\n",
       "      <td>2625.0</td>\n",
       "    </tr>\n",
       "    <tr>\n",
       "      <th>398</th>\n",
       "      <td>2720.0</td>\n",
       "    </tr>\n",
       "  </tbody>\n",
       "</table>\n",
       "<p>398 rows × 1 columns</p>\n",
       "</div>"
      ],
      "text/plain": [
       "     weight\n",
       "1    3504.0\n",
       "2    3693.0\n",
       "3    3436.0\n",
       "4    3433.0\n",
       "5    3449.0\n",
       "..      ...\n",
       "394  2790.0\n",
       "395  2130.0\n",
       "396  2295.0\n",
       "397  2625.0\n",
       "398  2720.0\n",
       "\n",
       "[398 rows x 1 columns]"
      ]
     },
     "execution_count": 55,
     "metadata": {},
     "output_type": "execute_result"
    }
   ],
   "source": [
    "# 속성(변수)선택\n",
    "\n",
    "X = ndf[['weight']]\n",
    "print(type(X),X.shape)\n",
    "X"
   ]
  },
  {
   "cell_type": "code",
   "execution_count": 57,
   "id": "d8ef29ea",
   "metadata": {},
   "outputs": [
    {
     "name": "stdout",
     "output_type": "stream",
     "text": [
      "<class 'pandas.core.series.Series'> (398,)\n"
     ]
    },
    {
     "data": {
      "text/plain": [
       "1      3504.0\n",
       "2      3693.0\n",
       "3      3436.0\n",
       "4      3433.0\n",
       "5      3449.0\n",
       "        ...  \n",
       "394    2790.0\n",
       "395    2130.0\n",
       "396    2295.0\n",
       "397    2625.0\n",
       "398    2720.0\n",
       "Name: weight, Length: 398, dtype: float64"
      ]
     },
     "execution_count": 57,
     "metadata": {},
     "output_type": "execute_result"
    }
   ],
   "source": [
    "print(type(ndf['weight']),ndf['weight'].shape)\n",
    "ndf['weight']"
   ]
  },
  {
   "cell_type": "code",
   "execution_count": 58,
   "id": "55f0ebee",
   "metadata": {},
   "outputs": [],
   "source": [
    "X = ndf[['weight']] #독립변수\n",
    "y=  ndf['mpg'] # 종속변수"
   ]
  },
  {
   "cell_type": "code",
   "execution_count": 59,
   "id": "8fe468bd",
   "metadata": {},
   "outputs": [
    {
     "name": "stdout",
     "output_type": "stream",
     "text": [
      "278 120\n"
     ]
    }
   ],
   "source": [
    "from sklearn.model_selection import train_test_split\n",
    "train_X, test_X, train_y, test_y = train_test_split(X,y,test_size = 0.3, random_state = 42)\n",
    "print(len(train_X),len(test_X))"
   ]
  },
  {
   "cell_type": "markdown",
   "id": "cd6154c5",
   "metadata": {},
   "source": [
    "'''\n",
    "Step 5: 단순회귀분석 모형 - sklearn 사용\n",
    "'''"
   ]
  },
  {
   "cell_type": "code",
   "execution_count": 60,
   "id": "daccf771",
   "metadata": {},
   "outputs": [],
   "source": [
    "from sklearn.linear_model import LinearRegression"
   ]
  },
  {
   "cell_type": "code",
   "execution_count": 63,
   "id": "751029e8",
   "metadata": {},
   "outputs": [
    {
     "data": {
      "text/plain": [
       "LinearRegression()"
      ]
     },
     "execution_count": 63,
     "metadata": {},
     "output_type": "execute_result"
    }
   ],
   "source": [
    "lr = LinearRegression()\n",
    "lr.fit(train_X,train_y) # fit : 학습, train data로"
   ]
  },
  {
   "cell_type": "code",
   "execution_count": 65,
   "id": "5dc9571b",
   "metadata": {},
   "outputs": [
    {
     "data": {
      "text/plain": [
       "0.7243152426344307"
      ]
     },
     "execution_count": 65,
     "metadata": {},
     "output_type": "execute_result"
    }
   ],
   "source": [
    "# 성능평가(score) >> 결정계수(설명력) 계산\n",
    "\n",
    "r_2=lr.score(test_X,test_y)\n",
    "r_2\n",
    "# 결과 해석 : 72% 설명력 가짐"
   ]
  },
  {
   "cell_type": "code",
   "execution_count": 66,
   "id": "c4dc2b45",
   "metadata": {},
   "outputs": [
    {
     "data": {
      "text/plain": [
       "array([-0.00784408])"
      ]
     },
     "execution_count": 66,
     "metadata": {},
     "output_type": "execute_result"
    }
   ],
   "source": [
    "lr.coef_ # 회귀식의 기울기"
   ]
  },
  {
   "cell_type": "code",
   "execution_count": 68,
   "id": "47407cbf",
   "metadata": {},
   "outputs": [
    {
     "data": {
      "text/plain": [
       "46.93728507432638"
      ]
     },
     "execution_count": 68,
     "metadata": {},
     "output_type": "execute_result"
    }
   ],
   "source": [
    "lr.intercept_ # 회귀식의 y절편"
   ]
  },
  {
   "cell_type": "code",
   "execution_count": 69,
   "id": "f250ba5c",
   "metadata": {},
   "outputs": [
    {
     "data": {
      "text/plain": [
       "array([19.45164525, 17.96911502, 19.98504237, 20.0085746 , 19.88306939,\n",
       "       12.88615423, 12.78418125, 13.11363241, 12.22725191, 16.7375952 ,\n",
       "       18.98884481, 18.62801734, 17.4357179 , 22.73046872, 28.33113848,\n",
       "       24.71501977, 25.17782021, 26.64466229, 30.2294047 , 32.54340691,\n",
       "       25.97791589, 27.87618211, 28.30760625, 29.41362087, 26.1661737 ,\n",
       "       10.7368776 , 12.61161159, 12.56454714,  9.81912079, 30.2294047 ,\n",
       "       29.17829861, 29.46068532, 30.88830703, 26.27599075, 19.96151014,\n",
       "       20.82435843, 21.03614846, 21.14596551, 13.92157217, 11.92133297,\n",
       "       14.35299631, 14.80795268,  8.069892  ,  9.70930374,  6.61873807,\n",
       "       23.70313406, 28.04875177, 21.19302996, 22.31473273, 29.52343792,\n",
       "       30.28431323, 30.66867292, 30.7392696 , 33.02973958, 34.28479163,\n",
       "       32.55125099, 31.60211788, 29.06848156, 30.260781  , 29.25673937,\n",
       "       28.04875177, 29.47637347, 13.41170727, 12.54101492, 14.50203374,\n",
       "       14.54909819, 18.1338406 , 10.59568424, 11.62325811, 11.98408557,\n",
       "       12.25078413, 28.66058964, 16.40814404, 14.79226453, 13.25482577,\n",
       "       14.95699011, 23.93061224, 27.24081201, 23.56978478, 29.76660426,\n",
       "       28.15072475, 28.99004081, 27.28003239, 29.96270614, 30.46472696,\n",
       "       14.77657638, 18.1338406 , 15.65511281, 15.23153274, 17.31021269,\n",
       "        8.09342423, 11.92133297, 12.71358457, 13.70193806,  9.79558856,\n",
       "        8.1012683 , 16.96507338, 22.45592609, 21.22440627, 23.83648334,\n",
       "       23.24033362, 24.15809042, 31.64133825,  7.74044084,  8.45425169,\n",
       "       10.43095866, 11.64679033, 25.06015908, 29.06063748, 28.1036603 ,\n",
       "       28.27622995, 30.27646915, 28.81747115, 27.54673095, 29.17045454,\n",
       "       14.91776973, 13.38033097, 32.2923965 , 30.00977059, 26.68388267,\n",
       "       24.44047714, 20.27527316, 26.0720448 , 24.91896573, 18.1965932 ,\n",
       "       22.60496352, 24.38556861, 24.18162265, 20.7694499 , 31.64133825,\n",
       "       27.71145653, 32.53556284, 26.99764568, 17.27883639, 18.44760361,\n",
       "       18.59664104, 14.45496929, 10.07797527, 11.9762415 , 10.55646387,\n",
       "       13.54505655, 29.531282  , 31.53936528, 28.8959119 , 34.00240492,\n",
       "       31.22560226, 30.26862508, 30.40197436, 29.31949197, 27.41338167,\n",
       "       28.18210105, 31.24913449, 21.33422332, 19.80462864, 20.01641867,\n",
       "       22.1656953 , 10.32114161, 12.10959078, 11.65463441, 10.40742644,\n",
       "       16.29048291, 16.36892366, 17.67888423, 17.24746009, 23.09914026,\n",
       "       21.67151856, 22.07941047, 29.90779761, 26.23677038, 24.07964967,\n",
       "       26.60544192, 25.74259363, 29.4999057 , 26.97411345, 23.5305644 ,\n",
       "       31.74331123, 21.74995931, 25.80534624, 23.74235443, 23.83648334,\n",
       "       25.98575997, 32.85716992, 27.60948355, 29.52343792, 26.76232342,\n",
       "       29.24889529, 29.66463128, 13.87450772, 14.0706096 , 15.85905877,\n",
       "       13.87450772, 21.57738965, 20.63610062, 23.31093029, 22.7383128 ,\n",
       "       30.97459185, 29.96270614, 31.74331123, 32.85716992, 18.29856618,\n",
       "       18.90255998, 18.34563063, 21.89115267, 32.62184767, 31.32757524,\n",
       "       30.03330282, 26.81723195, 22.2284479 , 16.03162842, 21.28715887,\n",
       "       23.95414447, 16.97291746, 12.58023529, 15.12955976, 16.58071369,\n",
       "       17.48278235, 30.8961511 , 30.03330282, 32.62184767, 28.8959119 ,\n",
       "       31.68055863, 16.50227294, 15.09033939, 14.46281336, 13.24698169,\n",
       "       19.32614004, 20.0713272 , 18.46329176, 19.28691967, 13.83528734,\n",
       "       14.26671148, 13.01165943, 12.93321868, 31.71977901, 25.44451877,\n",
       "       29.17045454, 25.32685764, 30.84908665, 30.66082884, 31.36679562,\n",
       "       29.75876018, 24.85621313, 26.54268931, 25.60140028, 31.36679562,\n",
       "       32.81794955, 31.36679562, 30.70004922, 32.81794955, 20.54197172,\n",
       "       17.63966386, 18.93393628, 19.20847892, 22.18922753, 23.67960183,\n",
       "       25.60140028, 20.03210682, 21.75780339, 20.42431059, 22.85597393,\n",
       "       18.54173252, 20.18898833, 20.0713272 , 19.91444569, 21.79702376,\n",
       "       14.93345788, 30.03330282, 26.85645233, 28.8959119 , 29.44499717,\n",
       "       27.20943571, 25.4052984 , 24.54245011, 28.072284  , 24.738552  ,\n",
       "       22.30688866, 25.01309463, 20.18898833, 31.32757524, 30.19018432,\n",
       "       21.48326075, 23.48349995, 24.26790748, 21.32637924, 20.58119209,\n",
       "       16.81603595, 17.71810461, 15.91396729, 16.8944767 , 12.7371168 ,\n",
       "       15.13740384, 18.65939364, 16.03162842, 31.83744014, 31.44523637,\n",
       "       31.91588089, 25.99360404, 19.24769929, 16.34539143, 21.91468489,\n",
       "       20.11054757, 29.68031943, 30.0725232 , 31.09225298, 30.2294047 ,\n",
       "       25.99360404, 26.58190969, 25.75828178, 26.88782863, 30.11958765,\n",
       "       31.5001449 , 30.30784545, 31.10009706, 25.93085144, 24.42478898,\n",
       "       23.38152697, 20.41646651, 29.77444833, 25.67199696, 26.99764568,\n",
       "       27.84480581, 29.17045454, 30.38628621, 24.97387426, 30.38628621,\n",
       "       30.58238809, 28.62136927, 23.79726296, 21.44404037, 32.42574578,\n",
       "       32.54340691, 30.11174357, 32.46496616, 24.11102597, 27.95462287,\n",
       "       27.32709684, 24.15024635, 28.97435265, 27.4055376 , 26.26814668,\n",
       "       26.38580781, 25.5621799 , 28.2291655 , 33.17093294, 32.2296439 ,\n",
       "       33.13171256, 30.7392696 , 31.44523637, 30.85693072, 31.36679562,\n",
       "       29.5626583 , 30.8961511 , 28.26838588, 29.75876018, 28.7390304 ,\n",
       "       29.60187868, 28.50370814, 26.42502818, 26.26814668, 21.60092188,\n",
       "       22.15000715, 24.18946673, 23.95414447, 20.14976795, 17.71810461,\n",
       "       22.93441468, 19.75756419, 26.50346894, 26.2289263 , 28.15072475,\n",
       "       26.7387912 , 27.13099496, 25.48373915, 24.46400936, 23.13051656,\n",
       "       31.406016  , 31.05303261, 31.48445675, 30.26862508, 30.26862508,\n",
       "       29.99408244, 29.64109905, 29.32733604, 31.52367712, 31.52367712,\n",
       "       31.28835487, 23.83648334, 23.28739807, 26.66035044, 24.69933162,\n",
       "       26.03282442, 28.34682663, 23.79726296, 25.05231501, 30.2294047 ,\n",
       "       28.93513228, 26.34658743, 25.60140028])"
      ]
     },
     "execution_count": 69,
     "metadata": {},
     "output_type": "execute_result"
    }
   ],
   "source": [
    "# 모형 전체 X 데이터 입력, y(실제값)과 y_hat(예측값) 비교\n",
    "lr.predict(X)"
   ]
  },
  {
   "cell_type": "code",
   "execution_count": 70,
   "id": "404eed3c",
   "metadata": {},
   "outputs": [],
   "source": [
    "y_hat=lr.predict(X)"
   ]
  },
  {
   "cell_type": "code",
   "execution_count": 73,
   "id": "0cfa8159",
   "metadata": {},
   "outputs": [
    {
     "data": {
      "image/png": "[encoded data removed]",
      "text/plain": [
       "<Figure size 720x360 with 1 Axes>"
      ]
     },
     "metadata": {
      "needs_background": "light"
     },
     "output_type": "display_data"
    }
   ],
   "source": [
    "plt.figure(figsize= (10,5))\n",
    "ax1 = sns.kdeplot(y,label = 'y')\n",
    "ax1 = sns.kdeplot(y_hat,label = 'y_hat',ax= ax1)\n",
    "plt.show()\n"
   ]
  },
  {
   "cell_type": "code",
   "execution_count": null,
   "id": "d8cf3f2e",
   "metadata": {},
   "outputs": [],
   "source": []
  }
 ],
 "metadata": {
  "kernelspec": {
   "display_name": "Python 3 (ipykernel)",
   "language": "python",
   "name": "python3"
  },
  "language_info": {
   "codemirror_mode": {
    "name": "ipython",
    "version": 3
   },
   "file_extension": ".py",
   "mimetype": "text/x-python",
   "name": "python",
   "nbconvert_exporter": "python",
   "pygments_lexer": "ipython3",
   "version": "3.9.7"
  }
 },
 "nbformat": 4,
 "nbformat_minor": 5
}
