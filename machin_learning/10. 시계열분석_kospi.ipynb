{
 "cells": [
  {
   "cell_type": "code",
   "execution_count": 1,
   "id": "0e6dadc6",
   "metadata": {},
   "outputs": [],
   "source": [
    "import pandas as pd\n",
    "%matplotlib inline\n",
    "import matplotlib.pyplot as plt"
   ]
  },
  {
   "cell_type": "code",
   "execution_count": 5,
   "id": "db9810f9",
   "metadata": {},
   "outputs": [
    {
     "data": {
      "text/html": [
       "<div>\n",
       "<style scoped>\n",
       "    .dataframe tbody tr th:only-of-type {\n",
       "        vertical-align: middle;\n",
       "    }\n",
       "\n",
       "    .dataframe tbody tr th {\n",
       "        vertical-align: top;\n",
       "    }\n",
       "\n",
       "    .dataframe thead th {\n",
       "        text-align: right;\n",
       "    }\n",
       "</style>\n",
       "<table border=\"1\" class=\"dataframe\">\n",
       "  <thead>\n",
       "    <tr style=\"text-align: right;\">\n",
       "      <th></th>\n",
       "      <th>date</th>\n",
       "      <th>close</th>\n",
       "    </tr>\n",
       "  </thead>\n",
       "  <tbody>\n",
       "    <tr>\n",
       "      <th>0</th>\n",
       "      <td>2016-05-25</td>\n",
       "      <td>1961</td>\n",
       "    </tr>\n",
       "    <tr>\n",
       "      <th>1</th>\n",
       "      <td>2016-05-24</td>\n",
       "      <td>1938</td>\n",
       "    </tr>\n",
       "    <tr>\n",
       "      <th>2</th>\n",
       "      <td>2016-05-23</td>\n",
       "      <td>1955</td>\n",
       "    </tr>\n",
       "    <tr>\n",
       "      <th>3</th>\n",
       "      <td>2016-05-20</td>\n",
       "      <td>1948</td>\n",
       "    </tr>\n",
       "    <tr>\n",
       "      <th>4</th>\n",
       "      <td>2016-05-19</td>\n",
       "      <td>1947</td>\n",
       "    </tr>\n",
       "    <tr>\n",
       "      <th>5</th>\n",
       "      <td>2016-05-18</td>\n",
       "      <td>1957</td>\n",
       "    </tr>\n",
       "    <tr>\n",
       "      <th>6</th>\n",
       "      <td>2016-05-17</td>\n",
       "      <td>1968</td>\n",
       "    </tr>\n",
       "    <tr>\n",
       "      <th>7</th>\n",
       "      <td>2016-05-16</td>\n",
       "      <td>1968</td>\n",
       "    </tr>\n",
       "    <tr>\n",
       "      <th>8</th>\n",
       "      <td>2016-05-13</td>\n",
       "      <td>1967</td>\n",
       "    </tr>\n",
       "    <tr>\n",
       "      <th>9</th>\n",
       "      <td>2016-05-12</td>\n",
       "      <td>1977</td>\n",
       "    </tr>\n",
       "    <tr>\n",
       "      <th>10</th>\n",
       "      <td>2016-05-11</td>\n",
       "      <td>1980</td>\n",
       "    </tr>\n",
       "    <tr>\n",
       "      <th>11</th>\n",
       "      <td>2016-05-10</td>\n",
       "      <td>1983</td>\n",
       "    </tr>\n",
       "    <tr>\n",
       "      <th>12</th>\n",
       "      <td>2016-05-09</td>\n",
       "      <td>1968</td>\n",
       "    </tr>\n",
       "    <tr>\n",
       "      <th>13</th>\n",
       "      <td>2016-05-04</td>\n",
       "      <td>1977</td>\n",
       "    </tr>\n",
       "    <tr>\n",
       "      <th>14</th>\n",
       "      <td>2016-05-03</td>\n",
       "      <td>1986</td>\n",
       "    </tr>\n",
       "    <tr>\n",
       "      <th>15</th>\n",
       "      <td>2016-05-02</td>\n",
       "      <td>1978</td>\n",
       "    </tr>\n",
       "    <tr>\n",
       "      <th>16</th>\n",
       "      <td>2016-04-29</td>\n",
       "      <td>1994</td>\n",
       "    </tr>\n",
       "    <tr>\n",
       "      <th>17</th>\n",
       "      <td>2016-04-28</td>\n",
       "      <td>2001</td>\n",
       "    </tr>\n",
       "    <tr>\n",
       "      <th>18</th>\n",
       "      <td>2016-04-27</td>\n",
       "      <td>2015</td>\n",
       "    </tr>\n",
       "    <tr>\n",
       "      <th>19</th>\n",
       "      <td>2016-04-26</td>\n",
       "      <td>2020</td>\n",
       "    </tr>\n",
       "    <tr>\n",
       "      <th>20</th>\n",
       "      <td>2016-04-25</td>\n",
       "      <td>2015</td>\n",
       "    </tr>\n",
       "    <tr>\n",
       "      <th>21</th>\n",
       "      <td>2016-04-22</td>\n",
       "      <td>2015</td>\n",
       "    </tr>\n",
       "    <tr>\n",
       "      <th>22</th>\n",
       "      <td>2016-04-21</td>\n",
       "      <td>2022</td>\n",
       "    </tr>\n",
       "    <tr>\n",
       "      <th>23</th>\n",
       "      <td>2016-04-20</td>\n",
       "      <td>2006</td>\n",
       "    </tr>\n",
       "    <tr>\n",
       "      <th>24</th>\n",
       "      <td>2016-04-19</td>\n",
       "      <td>2011</td>\n",
       "    </tr>\n",
       "    <tr>\n",
       "      <th>25</th>\n",
       "      <td>2016-04-18</td>\n",
       "      <td>2009</td>\n",
       "    </tr>\n",
       "    <tr>\n",
       "      <th>26</th>\n",
       "      <td>2016-04-15</td>\n",
       "      <td>2015</td>\n",
       "    </tr>\n",
       "    <tr>\n",
       "      <th>27</th>\n",
       "      <td>2016-04-14</td>\n",
       "      <td>2016</td>\n",
       "    </tr>\n",
       "    <tr>\n",
       "      <th>28</th>\n",
       "      <td>2016-04-12</td>\n",
       "      <td>1981</td>\n",
       "    </tr>\n",
       "    <tr>\n",
       "      <th>29</th>\n",
       "      <td>2016-04-11</td>\n",
       "      <td>1970</td>\n",
       "    </tr>\n",
       "    <tr>\n",
       "      <th>30</th>\n",
       "      <td>2016-04-08</td>\n",
       "      <td>1972</td>\n",
       "    </tr>\n",
       "    <tr>\n",
       "      <th>31</th>\n",
       "      <td>2016-04-07</td>\n",
       "      <td>1974</td>\n",
       "    </tr>\n",
       "    <tr>\n",
       "      <th>32</th>\n",
       "      <td>2016-04-06</td>\n",
       "      <td>1971</td>\n",
       "    </tr>\n",
       "    <tr>\n",
       "      <th>33</th>\n",
       "      <td>2016-04-05</td>\n",
       "      <td>1963</td>\n",
       "    </tr>\n",
       "    <tr>\n",
       "      <th>34</th>\n",
       "      <td>2016-04-04</td>\n",
       "      <td>1979</td>\n",
       "    </tr>\n",
       "    <tr>\n",
       "      <th>35</th>\n",
       "      <td>2016-04-01</td>\n",
       "      <td>1974</td>\n",
       "    </tr>\n",
       "    <tr>\n",
       "      <th>36</th>\n",
       "      <td>2016-03-31</td>\n",
       "      <td>1996</td>\n",
       "    </tr>\n",
       "    <tr>\n",
       "      <th>37</th>\n",
       "      <td>2016-03-30</td>\n",
       "      <td>2002</td>\n",
       "    </tr>\n",
       "    <tr>\n",
       "      <th>38</th>\n",
       "      <td>2016-03-29</td>\n",
       "      <td>1995</td>\n",
       "    </tr>\n",
       "    <tr>\n",
       "      <th>39</th>\n",
       "      <td>2016-03-28</td>\n",
       "      <td>1983</td>\n",
       "    </tr>\n",
       "    <tr>\n",
       "      <th>40</th>\n",
       "      <td>2016-03-25</td>\n",
       "      <td>1984</td>\n",
       "    </tr>\n",
       "    <tr>\n",
       "      <th>41</th>\n",
       "      <td>2016-03-24</td>\n",
       "      <td>1986</td>\n",
       "    </tr>\n",
       "    <tr>\n",
       "      <th>42</th>\n",
       "      <td>2016-03-23</td>\n",
       "      <td>1995</td>\n",
       "    </tr>\n",
       "    <tr>\n",
       "      <th>43</th>\n",
       "      <td>2016-03-22</td>\n",
       "      <td>1997</td>\n",
       "    </tr>\n",
       "    <tr>\n",
       "      <th>44</th>\n",
       "      <td>2016-03-21</td>\n",
       "      <td>1990</td>\n",
       "    </tr>\n",
       "    <tr>\n",
       "      <th>45</th>\n",
       "      <td>2016-03-18</td>\n",
       "      <td>1992</td>\n",
       "    </tr>\n",
       "    <tr>\n",
       "      <th>46</th>\n",
       "      <td>2016-03-17</td>\n",
       "      <td>1988</td>\n",
       "    </tr>\n",
       "    <tr>\n",
       "      <th>47</th>\n",
       "      <td>2016-03-16</td>\n",
       "      <td>1975</td>\n",
       "    </tr>\n",
       "    <tr>\n",
       "      <th>48</th>\n",
       "      <td>2016-03-15</td>\n",
       "      <td>1970</td>\n",
       "    </tr>\n",
       "    <tr>\n",
       "      <th>49</th>\n",
       "      <td>2016-03-14</td>\n",
       "      <td>1972</td>\n",
       "    </tr>\n",
       "    <tr>\n",
       "      <th>50</th>\n",
       "      <td>2016-03-11</td>\n",
       "      <td>1971</td>\n",
       "    </tr>\n",
       "    <tr>\n",
       "      <th>51</th>\n",
       "      <td>2016-03-10</td>\n",
       "      <td>1969</td>\n",
       "    </tr>\n",
       "    <tr>\n",
       "      <th>52</th>\n",
       "      <td>2016-03-09</td>\n",
       "      <td>1953</td>\n",
       "    </tr>\n",
       "    <tr>\n",
       "      <th>53</th>\n",
       "      <td>2016-03-08</td>\n",
       "      <td>1946</td>\n",
       "    </tr>\n",
       "    <tr>\n",
       "      <th>54</th>\n",
       "      <td>2016-03-07</td>\n",
       "      <td>1958</td>\n",
       "    </tr>\n",
       "    <tr>\n",
       "      <th>55</th>\n",
       "      <td>2016-03-04</td>\n",
       "      <td>1956</td>\n",
       "    </tr>\n",
       "    <tr>\n",
       "      <th>56</th>\n",
       "      <td>2016-03-03</td>\n",
       "      <td>1958</td>\n",
       "    </tr>\n",
       "    <tr>\n",
       "      <th>57</th>\n",
       "      <td>2016-03-02</td>\n",
       "      <td>1947</td>\n",
       "    </tr>\n",
       "    <tr>\n",
       "      <th>58</th>\n",
       "      <td>2016-02-29</td>\n",
       "      <td>1917</td>\n",
       "    </tr>\n",
       "  </tbody>\n",
       "</table>\n",
       "</div>"
      ],
      "text/plain": [
       "          date  close\n",
       "0   2016-05-25   1961\n",
       "1   2016-05-24   1938\n",
       "2   2016-05-23   1955\n",
       "3   2016-05-20   1948\n",
       "4   2016-05-19   1947\n",
       "5   2016-05-18   1957\n",
       "6   2016-05-17   1968\n",
       "7   2016-05-16   1968\n",
       "8   2016-05-13   1967\n",
       "9   2016-05-12   1977\n",
       "10  2016-05-11   1980\n",
       "11  2016-05-10   1983\n",
       "12  2016-05-09   1968\n",
       "13  2016-05-04   1977\n",
       "14  2016-05-03   1986\n",
       "15  2016-05-02   1978\n",
       "16  2016-04-29   1994\n",
       "17  2016-04-28   2001\n",
       "18  2016-04-27   2015\n",
       "19  2016-04-26   2020\n",
       "20  2016-04-25   2015\n",
       "21  2016-04-22   2015\n",
       "22  2016-04-21   2022\n",
       "23  2016-04-20   2006\n",
       "24  2016-04-19   2011\n",
       "25  2016-04-18   2009\n",
       "26  2016-04-15   2015\n",
       "27  2016-04-14   2016\n",
       "28  2016-04-12   1981\n",
       "29  2016-04-11   1970\n",
       "30  2016-04-08   1972\n",
       "31  2016-04-07   1974\n",
       "32  2016-04-06   1971\n",
       "33  2016-04-05   1963\n",
       "34  2016-04-04   1979\n",
       "35  2016-04-01   1974\n",
       "36  2016-03-31   1996\n",
       "37  2016-03-30   2002\n",
       "38  2016-03-29   1995\n",
       "39  2016-03-28   1983\n",
       "40  2016-03-25   1984\n",
       "41  2016-03-24   1986\n",
       "42  2016-03-23   1995\n",
       "43  2016-03-22   1997\n",
       "44  2016-03-21   1990\n",
       "45  2016-03-18   1992\n",
       "46  2016-03-17   1988\n",
       "47  2016-03-16   1975\n",
       "48  2016-03-15   1970\n",
       "49  2016-03-14   1972\n",
       "50  2016-03-11   1971\n",
       "51  2016-03-10   1969\n",
       "52  2016-03-09   1953\n",
       "53  2016-03-08   1946\n",
       "54  2016-03-07   1958\n",
       "55  2016-03-04   1956\n",
       "56  2016-03-03   1958\n",
       "57  2016-03-02   1947\n",
       "58  2016-02-29   1917"
      ]
     },
     "execution_count": 5,
     "metadata": {},
     "output_type": "execute_result"
    }
   ],
   "source": [
    "# 2016-02-29 ~ 2016-05-25\n",
    "df = pd.read_csv('./data/kospi3.csv')\n",
    "df"
   ]
  },
  {
   "cell_type": "code",
   "execution_count": 11,
   "id": "09f94c50",
   "metadata": {},
   "outputs": [
    {
     "data": {
      "text/plain": [
       "date\n",
       "2016-02-29    1917\n",
       "2016-03-02    1947\n",
       "2016-03-03    1958\n",
       "2016-03-04    1956\n",
       "2016-03-07    1958\n",
       "2016-03-08    1946\n",
       "2016-03-09    1953\n",
       "2016-03-10    1969\n",
       "2016-03-11    1971\n",
       "2016-03-14    1972\n",
       "2016-03-15    1970\n",
       "2016-03-16    1975\n",
       "2016-03-17    1988\n",
       "2016-03-18    1992\n",
       "2016-03-21    1990\n",
       "2016-03-22    1997\n",
       "2016-03-23    1995\n",
       "2016-03-24    1986\n",
       "2016-03-25    1984\n",
       "2016-03-28    1983\n",
       "2016-03-29    1995\n",
       "2016-03-30    2002\n",
       "2016-03-31    1996\n",
       "2016-04-01    1974\n",
       "2016-04-04    1979\n",
       "2016-04-05    1963\n",
       "2016-04-06    1971\n",
       "2016-04-07    1974\n",
       "2016-04-08    1972\n",
       "2016-04-11    1970\n",
       "2016-04-12    1981\n",
       "2016-04-14    2016\n",
       "2016-04-15    2015\n",
       "2016-04-18    2009\n",
       "2016-04-19    2011\n",
       "2016-04-20    2006\n",
       "2016-04-21    2022\n",
       "2016-04-22    2015\n",
       "2016-04-25    2015\n",
       "2016-04-26    2020\n",
       "2016-04-27    2015\n",
       "2016-04-28    2001\n",
       "2016-04-29    1994\n",
       "2016-05-02    1978\n",
       "2016-05-03    1986\n",
       "2016-05-04    1977\n",
       "2016-05-09    1968\n",
       "2016-05-10    1983\n",
       "2016-05-11    1980\n",
       "2016-05-12    1977\n",
       "2016-05-13    1967\n",
       "2016-05-16    1968\n",
       "2016-05-17    1968\n",
       "2016-05-18    1957\n",
       "2016-05-19    1947\n",
       "2016-05-20    1948\n",
       "2016-05-23    1955\n",
       "2016-05-24    1938\n",
       "2016-05-25    1961\n",
       "Name: close, dtype: int64"
      ]
     },
     "execution_count": 11,
     "metadata": {},
     "output_type": "execute_result"
    }
   ],
   "source": [
    "pd.read_csv('./data/kospi3.csv',header=0,index_col = 0,squeeze = True).sort_index()"
   ]
  },
  {
   "cell_type": "code",
   "execution_count": 12,
   "id": "01674551",
   "metadata": {},
   "outputs": [
    {
     "data": {
      "text/plain": [
       "<AxesSubplot:xlabel='2016-05-13'>"
      ]
     },
     "execution_count": 12,
     "metadata": {},
     "output_type": "execute_result"
    },
    {
     "data": {
      "image/png": "[encoded data removed]",
      "text/plain": [
       "<Figure size 432x288 with 1 Axes>"
      ]
     },
     "metadata": {
      "needs_background": "light"
     },
     "output_type": "display_data"
    }
   ],
   "source": [
    "ts = pd.read_csv('./data/kospi3.csv',header=9,index_col = 0,squeeze = True).sort_index()\n",
    "ts.plot()"
   ]
  },
  {
   "cell_type": "code",
   "execution_count": 8,
   "id": "5cf61ba7",
   "metadata": {},
   "outputs": [],
   "source": [
    "from statsmodels.graphics.tsaplots import plot_acf, plot_pacf"
   ]
  },
  {
   "cell_type": "code",
   "execution_count": 13,
   "id": "7f80c172",
   "metadata": {},
   "outputs": [
    {
     "data": {
      "image/png": "[encoded data removed]",
      "text/plain": [
       "<Figure size 432x288 with 1 Axes>"
      ]
     },
     "metadata": {
      "needs_background": "light"
     },
     "output_type": "display_data"
    },
    {
     "data": {
      "image/png": "[encoded data removed]",
      "text/plain": [
       "<Figure size 432x288 with 1 Axes>"
      ]
     },
     "metadata": {
      "needs_background": "light"
     },
     "output_type": "display_data"
    }
   ],
   "source": [
    "# acf, pacf 그리기\n",
    "\n",
    "plot_acf(ts)\n",
    "plot_pacf(ts)\n",
    "plt.show()\n",
    "\n",
    "# 결과해석\n",
    "# ACF : 첫번째 구간(영향력 미치는 구간, 신뢰구간 벗어난 포인트 4개), 그 외 실내공간(영향력 없음)\n",
    "# PACF : 첫번째 구간(영향력 미치는 구간, 신뢰구간 벗어난 포인트 2개), 그 외 실내공간(영향력 없음)"
   ]
  },
  {
   "cell_type": "code",
   "execution_count": 22,
   "id": "07ce4536",
   "metadata": {},
   "outputs": [
    {
     "data": {
      "text/plain": [
       "<AxesSubplot:xlabel='2016-05-13'>"
      ]
     },
     "execution_count": 22,
     "metadata": {},
     "output_type": "execute_result"
    },
    {
     "data": {
      "image/png": "[encoded data removed]",
      "text/plain": [
       "<Figure size 432x288 with 1 Axes>"
      ]
     },
     "metadata": {
      "needs_background": "light"
     },
     "output_type": "display_data"
    }
   ],
   "source": [
    "# 차분(diff)\n",
    "# 차분 곡선 그래프 (1차 차분)\n",
    "\n",
    "diff_1 = ts.diff(periods = 1).iloc[1:]\n",
    "diff_1.plot()"
   ]
  },
  {
   "cell_type": "code",
   "execution_count": 17,
   "id": "91f62736",
   "metadata": {},
   "outputs": [
    {
     "data": {
      "image/png": "[encoded data removed]",
      "text/plain": [
       "<Figure size 432x288 with 1 Axes>"
      ]
     },
     "metadata": {
      "needs_background": "light"
     },
     "output_type": "display_data"
    },
    {
     "data": {
      "image/png": "[encoded data removed]",
      "text/plain": [
       "<Figure size 432x288 with 1 Axes>"
      ]
     },
     "metadata": {
      "needs_background": "light"
     },
     "output_type": "display_data"
    }
   ],
   "source": [
    "plot_acf(diff_1)\n",
    "plot_pacf(diff_1)\n",
    "plt.show()\n",
    "\n",
    "# 결과해석\n",
    "# ACF 하나(자기 자신) 제외, 나머지는 실내공간에 포진\n",
    "# PACF 대부분 신뢰구간에 있지만, 들쑥날쑥한 형태를 띔"
   ]
  },
  {
   "cell_type": "code",
   "execution_count": 19,
   "id": "b95ba63e",
   "metadata": {},
   "outputs": [
    {
     "data": {
      "text/plain": [
       "2016-05-13\n",
       "2016-03-03   -19.0\n",
       "2016-03-04   -13.0\n",
       "2016-03-07     4.0\n",
       "2016-03-08   -14.0\n",
       "2016-03-09    19.0\n",
       "2016-03-10     9.0\n",
       "2016-03-11   -14.0\n",
       "2016-03-14    -1.0\n",
       "2016-03-15    -3.0\n",
       "2016-03-16     7.0\n",
       "2016-03-17     8.0\n",
       "2016-03-18    -9.0\n",
       "2016-03-21    -6.0\n",
       "2016-03-22     9.0\n",
       "2016-03-23    -9.0\n",
       "2016-03-24    -7.0\n",
       "2016-03-25     7.0\n",
       "2016-03-28     1.0\n",
       "2016-03-29    13.0\n",
       "2016-03-30    -5.0\n",
       "2016-03-31   -13.0\n",
       "2016-04-01   -16.0\n",
       "2016-04-04    27.0\n",
       "2016-04-05   -21.0\n",
       "2016-04-06    24.0\n",
       "2016-04-07    -5.0\n",
       "2016-04-08    -5.0\n",
       "2016-04-11     0.0\n",
       "2016-04-12    13.0\n",
       "2016-04-14    24.0\n",
       "2016-04-15   -36.0\n",
       "2016-04-18    -5.0\n",
       "2016-04-19     8.0\n",
       "2016-04-20    -7.0\n",
       "2016-04-21    21.0\n",
       "2016-04-22   -23.0\n",
       "2016-04-25     7.0\n",
       "2016-04-26     5.0\n",
       "2016-04-27   -10.0\n",
       "2016-04-28    -9.0\n",
       "2016-04-29     7.0\n",
       "2016-05-02    -9.0\n",
       "2016-05-03    24.0\n",
       "2016-05-04   -17.0\n",
       "2016-05-09     0.0\n",
       "2016-05-10    24.0\n",
       "2016-05-11   -18.0\n",
       "2016-05-12     0.0\n",
       "Name: 1967, dtype: float64"
      ]
     },
     "execution_count": 19,
     "metadata": {},
     "output_type": "execute_result"
    }
   ],
   "source": [
    "# 차분의 차분 그래프\n",
    "diff_1.diff(periods = 1).iloc[1:]"
   ]
  },
  {
   "cell_type": "code",
   "execution_count": 20,
   "id": "5b055275",
   "metadata": {},
   "outputs": [],
   "source": [
    "diff_diff_1 = diff_1.diff(periods = 1).iloc[1:]"
   ]
  },
  {
   "cell_type": "code",
   "execution_count": 21,
   "id": "d6b02983",
   "metadata": {},
   "outputs": [
    {
     "data": {
      "text/plain": [
       "<AxesSubplot:xlabel='2016-05-13'>"
      ]
     },
     "execution_count": 21,
     "metadata": {},
     "output_type": "execute_result"
    },
    {
     "data": {
      "image/png": "[encoded data removed]",
      "text/plain": [
       "<Figure size 432x288 with 1 Axes>"
      ]
     },
     "metadata": {
      "needs_background": "light"
     },
     "output_type": "display_data"
    }
   ],
   "source": [
    "diff_diff_1.plot()"
   ]
  },
  {
   "cell_type": "code",
   "execution_count": 23,
   "id": "63451153",
   "metadata": {},
   "outputs": [
    {
     "data": {
      "image/png": "[encoded data removed]",
      "text/plain": [
       "<Figure size 432x288 with 1 Axes>"
      ]
     },
     "metadata": {
      "needs_background": "light"
     },
     "output_type": "display_data"
    },
    {
     "data": {
      "image/png": "[encoded data removed]",
      "text/plain": [
       "<Figure size 432x288 with 1 Axes>"
      ]
     },
     "metadata": {
      "needs_background": "light"
     },
     "output_type": "display_data"
    }
   ],
   "source": [
    "plot_acf(diff_diff_1)\n",
    "plot_pacf(diff_diff_1)\n",
    "plt.show()"
   ]
  },
  {
   "cell_type": "code",
   "execution_count": 28,
   "id": "1953c75a",
   "metadata": {},
   "outputs": [
    {
     "name": "stdout",
     "output_type": "stream",
     "text": [
      "                             ARIMA Model Results                              \n",
      "==============================================================================\n",
      "Dep. Variable:                D2.1967   No. Observations:                   48\n",
      "Model:                 ARIMA(1, 2, 1)   Log Likelihood                -182.616\n",
      "Method:                       css-mle   S.D. of innovations             10.446\n",
      "Date:                Tue, 22 Feb 2022   AIC                            373.232\n",
      "Time:                        13:20:28   BIC                            380.717\n",
      "Sample:                             2   HQIC                           376.061\n",
      "                                                                              \n",
      "=================================================================================\n",
      "                    coef    std err          z      P>|z|      [0.025      0.975]\n",
      "---------------------------------------------------------------------------------\n",
      "const            -0.1896      0.112     -1.694      0.090      -0.409       0.030\n",
      "ar.L1.D2.1967     0.0563      0.154      0.365      0.715      -0.246       0.359\n",
      "ma.L1.D2.1967    -1.0000      0.060    -16.688      0.000      -1.117      -0.883\n",
      "                                    Roots                                    \n",
      "=============================================================================\n",
      "                  Real          Imaginary           Modulus         Frequency\n",
      "-----------------------------------------------------------------------------\n",
      "AR.1           17.7618           +0.0000j           17.7618            0.0000\n",
      "MA.1            1.0000           +0.0000j            1.0000            0.0000\n",
      "-----------------------------------------------------------------------------\n"
     ]
    },
    {
     "name": "stderr",
     "output_type": "stream",
     "text": [
      "C:\\ProgramData\\Anaconda3\\lib\\site-packages\\statsmodels\\tsa\\base\\tsa_model.py:581: ValueWarning: A date index has been provided, but it has no associated frequency information and so will be ignored when e.g. forecasting.\n",
      "  warnings.warn('A date index has been provided, but it has no'\n",
      "C:\\ProgramData\\Anaconda3\\lib\\site-packages\\statsmodels\\tsa\\base\\tsa_model.py:581: ValueWarning: A date index has been provided, but it has no associated frequency information and so will be ignored when e.g. forecasting.\n",
      "  warnings.warn('A date index has been provided, but it has no'\n"
     ]
    }
   ],
   "source": [
    "from statsmodels.tsa.arima_model import ARIMA\n",
    "\n",
    "model = ARIMA(ts,order = (1,2,1)) # (p,d,q) : 차분을 두번 하겠다\n",
    "fitted_model = model.fit(trend = 'c', full_output = True, disp = 1) # lbfgs trend c : include constant,  nc no constant disp = 전체할거냐 아니냐\n",
    "print(fitted_model.summary())\n",
    "\n",
    "# 결과해석\n",
    "# P > |z| (p-value) : cont: 0.090, ar.L1 : 0.715 (>0.05) 유의하지 않다(값이 좋지 않네)\n",
    "# ar 삭제 >> 0 으로 모델 변경 (0,2,1)"
   ]
  },
  {
   "cell_type": "code",
   "execution_count": 33,
   "id": "afab0e4c",
   "metadata": {},
   "outputs": [
    {
     "name": "stderr",
     "output_type": "stream",
     "text": [
      "C:\\ProgramData\\Anaconda3\\lib\\site-packages\\statsmodels\\tsa\\arima_model.py:472: FutureWarning: \n",
      "statsmodels.tsa.arima_model.ARMA and statsmodels.tsa.arima_model.ARIMA have\n",
      "been deprecated in favor of statsmodels.tsa.arima.model.ARIMA (note the .\n",
      "between arima and model) and\n",
      "statsmodels.tsa.SARIMAX. These will be removed after the 0.12 release.\n",
      "\n",
      "statsmodels.tsa.arima.model.ARIMA makes use of the statespace framework and\n",
      "is both well tested and maintained.\n",
      "\n",
      "To silence this warning and continue using ARMA and ARIMA until they are\n",
      "removed, use:\n",
      "\n",
      "import warnings\n",
      "warnings.filterwarnings('ignore', 'statsmodels.tsa.arima_model.ARMA',\n",
      "                        FutureWarning)\n",
      "warnings.filterwarnings('ignore', 'statsmodels.tsa.arima_model.ARIMA',\n",
      "                        FutureWarning)\n",
      "\n",
      "  warnings.warn(ARIMA_DEPRECATION_WARN, FutureWarning)\n",
      "C:\\ProgramData\\Anaconda3\\lib\\site-packages\\statsmodels\\tsa\\base\\tsa_model.py:581: ValueWarning: A date index has been provided, but it has no associated frequency information and so will be ignored when e.g. forecasting.\n",
      "  warnings.warn('A date index has been provided, but it has no'\n",
      "C:\\ProgramData\\Anaconda3\\lib\\site-packages\\statsmodels\\tsa\\base\\tsa_model.py:581: ValueWarning: A date index has been provided, but it has no associated frequency information and so will be ignored when e.g. forecasting.\n",
      "  warnings.warn('A date index has been provided, but it has no'\n"
     ]
    },
    {
     "name": "stdout",
     "output_type": "stream",
     "text": [
      "                             ARIMA Model Results                              \n",
      "==============================================================================\n",
      "Dep. Variable:                D2.1967   No. Observations:                   48\n",
      "Model:                 ARIMA(0, 2, 1)   Log Likelihood                -182.683\n",
      "Method:                       css-mle   S.D. of innovations             10.449\n",
      "Date:                Tue, 22 Feb 2022   AIC                            371.366\n",
      "Time:                        13:25:24   BIC                            376.980\n",
      "Sample:                             2   HQIC                           373.487\n",
      "                                                                              \n",
      "=================================================================================\n",
      "                    coef    std err          z      P>|z|      [0.025      0.975]\n",
      "---------------------------------------------------------------------------------\n",
      "const            -0.1859      0.106     -1.762      0.078      -0.393       0.021\n",
      "ma.L1.D2.1967    -0.9999      0.061    -16.400      0.000      -1.119      -0.880\n",
      "                                    Roots                                    \n",
      "=============================================================================\n",
      "                  Real          Imaginary           Modulus         Frequency\n",
      "-----------------------------------------------------------------------------\n",
      "MA.1            1.0001           +0.0000j            1.0001            0.0000\n",
      "-----------------------------------------------------------------------------\n"
     ]
    }
   ],
   "source": [
    "from statsmodels.tsa.arima_model import ARIMA\n",
    "\n",
    "model = ARIMA(ts,order = (0,2,1)) # (p,d,q) : 차분을 두번 하겠다\n",
    "fitted_model = model.fit(trend = 'c', full_output = True, disp = 1) # lbfgs trend c : include constant,  nc no constant disp = 전체할거냐 아니냐\n",
    "print(fitted_model.summary())\n",
    "\n",
    "# 여전히 const P > |z| (>0.05) >> trend 'c'를 'nc' 변경"
   ]
  },
  {
   "cell_type": "code",
   "execution_count": 34,
   "id": "a027289f",
   "metadata": {},
   "outputs": [
    {
     "name": "stdout",
     "output_type": "stream",
     "text": [
      "                             ARIMA Model Results                              \n",
      "==============================================================================\n",
      "Dep. Variable:                D2.1967   No. Observations:                   48\n",
      "Model:                 ARIMA(0, 2, 1)   Log Likelihood                -183.958\n",
      "Method:                       css-mle   S.D. of innovations             10.937\n",
      "Date:                Tue, 22 Feb 2022   AIC                            371.915\n",
      "Time:                        13:26:34   BIC                            375.658\n",
      "Sample:                             2   HQIC                           373.330\n",
      "                                                                              \n",
      "=================================================================================\n",
      "                    coef    std err          z      P>|z|      [0.025      0.975]\n",
      "---------------------------------------------------------------------------------\n",
      "ma.L1.D2.1967    -0.9334      0.076    -12.319      0.000      -1.082      -0.785\n",
      "                                    Roots                                    \n",
      "=============================================================================\n",
      "                  Real          Imaginary           Modulus         Frequency\n",
      "-----------------------------------------------------------------------------\n",
      "MA.1            1.0714           +0.0000j            1.0714            0.0000\n",
      "-----------------------------------------------------------------------------\n"
     ]
    },
    {
     "name": "stderr",
     "output_type": "stream",
     "text": [
      "C:\\ProgramData\\Anaconda3\\lib\\site-packages\\statsmodels\\tsa\\arima_model.py:472: FutureWarning: \n",
      "statsmodels.tsa.arima_model.ARMA and statsmodels.tsa.arima_model.ARIMA have\n",
      "been deprecated in favor of statsmodels.tsa.arima.model.ARIMA (note the .\n",
      "between arima and model) and\n",
      "statsmodels.tsa.SARIMAX. These will be removed after the 0.12 release.\n",
      "\n",
      "statsmodels.tsa.arima.model.ARIMA makes use of the statespace framework and\n",
      "is both well tested and maintained.\n",
      "\n",
      "To silence this warning and continue using ARMA and ARIMA until they are\n",
      "removed, use:\n",
      "\n",
      "import warnings\n",
      "warnings.filterwarnings('ignore', 'statsmodels.tsa.arima_model.ARMA',\n",
      "                        FutureWarning)\n",
      "warnings.filterwarnings('ignore', 'statsmodels.tsa.arima_model.ARIMA',\n",
      "                        FutureWarning)\n",
      "\n",
      "  warnings.warn(ARIMA_DEPRECATION_WARN, FutureWarning)\n",
      "C:\\ProgramData\\Anaconda3\\lib\\site-packages\\statsmodels\\tsa\\base\\tsa_model.py:581: ValueWarning: A date index has been provided, but it has no associated frequency information and so will be ignored when e.g. forecasting.\n",
      "  warnings.warn('A date index has been provided, but it has no'\n",
      "C:\\ProgramData\\Anaconda3\\lib\\site-packages\\statsmodels\\tsa\\base\\tsa_model.py:581: ValueWarning: A date index has been provided, but it has no associated frequency information and so will be ignored when e.g. forecasting.\n",
      "  warnings.warn('A date index has been provided, but it has no'\n"
     ]
    }
   ],
   "source": [
    "from statsmodels.tsa.arima_model import ARIMA\n",
    "\n",
    "model = ARIMA(ts,order = (0,2,1)) # (p,d,q) : 차분을 두번 하겠다\n",
    "fitted_model = model.fit(trend = 'nc', full_output = True, disp = 1) # lbfgs trend c : include constant,  nc no constant disp = 전체할거냐 아니냐\n",
    "print(fitted_model.summary())"
   ]
  },
  {
   "cell_type": "code",
   "execution_count": 35,
   "id": "4642ba51",
   "metadata": {},
   "outputs": [
    {
     "data": {
      "image/png": "[encoded data removed]",
      "text/plain": [
       "<Figure size 432x288 with 1 Axes>"
      ]
     },
     "execution_count": 35,
     "metadata": {},
     "output_type": "execute_result"
    },
    {
     "data": {
      "image/png": "[encoded data removed]",
      "text/plain": [
       "<Figure size 432x288 with 1 Axes>"
      ]
     },
     "metadata": {
      "needs_background": "light"
     },
     "output_type": "display_data"
    }
   ],
   "source": [
    "fitted_model.plot_predict()\n",
    "\n",
    "# close : 실제 데이터, forecast : 예측 데이터 >> 정상성을 가지고 있어 유사하게 나타남\n",
    "# option : https://www.statsmodels.org/devel/generated/statsmodels.tsa.arima.model.ARIMA.html"
   ]
  },
  {
   "cell_type": "code",
   "execution_count": 36,
   "id": "80a83bd9",
   "metadata": {
    "scrolled": true
   },
   "outputs": [
    {
     "name": "stdout",
     "output_type": "stream",
     "text": [
      "(array([1976.381569]), array([10.93726659]), array([[1954.9449204, 1997.8182176]]))\n"
     ]
    }
   ],
   "source": [
    "# 예측\n",
    "# 1단계 시점(t+1) 예측\n",
    "\n",
    "fore = fitted_model.forecast(steps = 1) # 단기\n",
    "print(fore)"
   ]
  },
  {
   "cell_type": "code",
   "execution_count": 39,
   "id": "1540a82a",
   "metadata": {},
   "outputs": [
    {
     "name": "stdout",
     "output_type": "stream",
     "text": [
      "(array([1976.381569, 1975.763138, 1975.144707]), array([10.93726659, 15.99119132, 20.23228011]), array([[1954.9449204 , 1997.8182176 ],\n",
      "       [1944.42097895, 2007.10529705],\n",
      "       [1935.49016666, 2014.79924734]]))\n"
     ]
    }
   ],
   "source": [
    "fore_3 = fitted_model.forecast(steps = 3) # 중기\n",
    "print(fore_3)"
   ]
  },
  {
   "cell_type": "code",
   "execution_count": 38,
   "id": "5c09aa30",
   "metadata": {},
   "outputs": [
    {
     "name": "stdout",
     "output_type": "stream",
     "text": [
      "(array([1976.381569, 1975.763138, 1975.144707, 1974.526276, 1973.907845]), array([10.93726659, 15.99119132, 20.23228011, 24.11569275, 27.81087188]), array([[1954.9449204 , 1997.8182176 ],\n",
      "       [1944.42097895, 2007.10529705],\n",
      "       [1935.49016666, 2014.79924734],\n",
      "       [1927.26038675, 2021.79216525],\n",
      "       [1919.39953773, 2028.41615227]]))\n"
     ]
    }
   ],
   "source": [
    "fore_5 = fitted_model.forecast(steps = 5) # 장기\n",
    "print(fore_5)"
   ]
  },
  {
   "cell_type": "code",
   "execution_count": 37,
   "id": "e389654b",
   "metadata": {},
   "outputs": [
    {
     "name": "stdout",
     "output_type": "stream",
     "text": [
      "(array([1976.381569, 1975.763138, 1975.144707, 1974.526276, 1973.907845,\n",
      "       1973.289414, 1972.670983, 1972.052552, 1971.434121, 1970.81569 ]), array([10.93726659, 15.99119132, 20.23228011, 24.11569275, 27.81087188,\n",
      "       31.40128967, 34.93447855, 38.44004359, 41.9375778 , 45.44062272]), array([[1954.9449204 , 1997.8182176 ],\n",
      "       [1944.42097895, 2007.10529705],\n",
      "       [1935.49016666, 2014.79924734],\n",
      "       [1927.26038675, 2021.79216525],\n",
      "       [1919.39953773, 2028.41615227],\n",
      "       [1911.74401717, 2034.83481083],\n",
      "       [1904.20066321, 2041.14130278],\n",
      "       [1896.71145099, 2047.393653  ],\n",
      "       [1889.23797891, 2053.63026308],\n",
      "       [1881.75370602, 2059.87767397]]))\n"
     ]
    }
   ],
   "source": [
    "fore_10 = fitted_model.forecast(steps = 10)\n",
    "print(fore_10)\n",
    "\n",
    "# 결과해석 : 신뢰구간이 떨어지는 것을 확인"
   ]
  },
  {
   "cell_type": "code",
   "execution_count": null,
   "id": "6fc54a2e",
   "metadata": {},
   "outputs": [],
   "source": []
  },
  {
   "cell_type": "code",
   "execution_count": null,
   "id": "0f2c46a3",
   "metadata": {},
   "outputs": [],
   "source": []
  },
  {
   "cell_type": "code",
   "execution_count": null,
   "id": "e0584012",
   "metadata": {},
   "outputs": [],
   "source": []
  },
  {
   "cell_type": "code",
   "execution_count": null,
   "id": "76b70cc3",
   "metadata": {},
   "outputs": [],
   "source": []
  },
  {
   "cell_type": "code",
   "execution_count": null,
   "id": "ce57731b",
   "metadata": {},
   "outputs": [],
   "source": []
  },
  {
   "cell_type": "code",
   "execution_count": null,
   "id": "7ef93860",
   "metadata": {},
   "outputs": [],
   "source": []
  }
 ],
 "metadata": {
  "kernelspec": {
   "display_name": "Python 3 (ipykernel)",
   "language": "python",
   "name": "python3"
  },
  "language_info": {
   "codemirror_mode": {
    "name": "ipython",
    "version": 3
   },
   "file_extension": ".py",
   "mimetype": "text/x-python",
   "name": "python",
   "nbconvert_exporter": "python",
   "pygments_lexer": "ipython3",
   "version": "3.9.7"
  }
 },
 "nbformat": 4,
 "nbformat_minor": 5
}
