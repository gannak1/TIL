{
 "cells": [
  {
   "cell_type": "markdown",
   "id": "676c929a",
   "metadata": {},
   "source": [
    "### 우선순위 큐(Priority Queue)\n",
    "- 우선순위 큐는 <U>우선순위가 가장 높은 데이터를 가장 먼저 삭제하는 자료구조입니다.</U>\n",
    "- 우선순위 규는 데이터를 우선순위에 따라 처리하고 싶을 때 사용합니다.\n",
    "    - 예시) 물건 데이터를 자료구조에 넣었다가 가치가 높은 물건부터 꺼내서 확인해야 하는 경우\n",
    "\n",
    "\n",
    "|자료구조|추출되는 데이터|\n",
    "|---|---|\n",
    "|스택(Stack)|가장 나중에 삽입된 데이터|\n",
    "|큐(Queue)|가장 먼저 삽입된 데이터|\n",
    "|우선순위 큐(Priority Queue)|가장 우선순위가 높은 데이터|"
   ]
  },
  {
   "cell_type": "markdown",
   "id": "1771bef0",
   "metadata": {},
   "source": [
    "- 우선순위 큐를 구현하는 방법은 다양합니다.\n",
    "    1. 단순히 리스트를 이용하여 구현할 수 있습니다.\n",
    "    2. 힙(heap)을 이용하여 구현할 수 있습니다.\n",
    "- 데이터의 개수가 N개일 때, 구현방식에 따라서 시간 복잡도를 비교한 내용은 다음과 같습니다.\n",
    "|우선순위 큐 구현 방식|삽입 시간|삭제 시간|\n",
    "|-|-|-|\n",
    "|리스트|O*(1)|O*(N)*|\n",
    "|힙(Heap)|O*(logN)*|O*(logN)*|\n",
    "- 단순히 N개의 데이터를 힙에 넣었다가 모두 꺼내는 작업은 정렬과 동일합니다.(힙 정렬)\n",
    "    - 이 경우 시간 복잡도는 O(NlogN)입니다,"
   ]
  },
  {
   "cell_type": "markdown",
   "id": "5e0866e3",
   "metadata": {},
   "source": [
    "- 힙은 완전 이진 트리 자료구조의 일종입니다.\n",
    "- 힙에서 항상 루트노드(root node)를 제거합니다.\n",
    "- 최소힙(min heap)\n",
    "    - 루트 노드가 가장 작은 값을 가집니다.\n",
    "    - 따라서 값이 작은 데이터가 우선적으로 제거됩니다,\n",
    "- 최대 힙(max heap)\n",
    "    - 루트 노드가 가장 큰 값을 가집니다.\n",
    "    - 따라서 값이 큰 데이터가 우선적으로 제거됩니다,\n",
    "[heap_picture](Database)"
   ]
  },
  {
   "cell_type": "code",
   "execution_count": null,
   "id": "6ecae8c0",
   "metadata": {},
   "outputs": [],
   "source": []
  }
 ],
 "metadata": {
  "kernelspec": {
   "display_name": "Python 3 (ipykernel)",
   "language": "python",
   "name": "python3"
  },
  "language_info": {
   "codemirror_mode": {
    "name": "ipython",
    "version": 3
   },
   "file_extension": ".py",
   "mimetype": "text/x-python",
   "name": "python",
   "nbconvert_exporter": "python",
   "pygments_lexer": "ipython3",
   "version": "3.9.7"
  }
 },
 "nbformat": 4,
 "nbformat_minor": 5
}
