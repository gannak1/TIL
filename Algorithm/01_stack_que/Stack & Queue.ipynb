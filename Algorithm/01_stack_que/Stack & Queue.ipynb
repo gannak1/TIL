{
 "cells": [
  {
   "cell_type": "markdown",
   "id": "46733a4f",
   "metadata": {},
   "source": [
    "## 1. 스택, 큐"
   ]
  },
  {
   "cell_type": "markdown",
   "id": "0473d3c4",
   "metadata": {},
   "source": [
    "- 스택   \\\n",
    "먼저들어온 데이터가 나중에 나가는 형식(선입후출FILO[**F**irst **I**n **L**ast **O**ut]   \\\n",
    "입구와 출구가 동일한 형태로 스택을 시각화할 수 있습니다."
   ]
  },
  {
   "cell_type": "code",
   "execution_count": 1,
   "id": "2a55217b",
   "metadata": {},
   "outputs": [
    {
     "name": "stdout",
     "output_type": "stream",
     "text": [
      "[1, 3, 2, 5]\n",
      "[5, 2, 3, 1]\n"
     ]
    }
   ],
   "source": [
    "stack = []\n",
    "\n",
    "# 삽입(5) - 삽입(2) - 삽입(3) - 삽입(7) - 삭제() - 삽입(1) - 삽입(4) - 삭제()\n",
    "stack.append(5)\n",
    "stack.append(2)\n",
    "stack.append(3)\n",
    "stack.append(7)\n",
    "stack.pop()\n",
    "stack.append(1)\n",
    "stack.append(4)\n",
    "stack.pop()\n",
    "\n",
    "print(stack[::-1]) # 최상단 원소부터 출력\n",
    "print(stack) # 최하단 원소부터 출력"
   ]
  },
  {
   "cell_type": "markdown",
   "id": "c00b7f76",
   "metadata": {},
   "source": [
    "- 큐   \\\n",
    "먼저 들어온 데이터가 먼저 나가는 형식(선입선출FIFO[First In First Out])   \\\n",
    "큐는 입구와 출구가 모두 뚫려있는 터널과 같은 형태로 시각화 할 수 있습니다."
   ]
  },
  {
   "cell_type": "code",
   "execution_count": 5,
   "id": "f5c44cab",
   "metadata": {},
   "outputs": [
    {
     "name": "stdout",
     "output_type": "stream",
     "text": [
      "deque([3, 7, 1, 4])\n",
      "deque([4, 1, 7, 3])\n"
     ]
    }
   ],
   "source": [
    "from collections import deque\n",
    "\n",
    "# 큐(Queue) 구현을 위해 deque 라이브러리 사용\n",
    "queue = deque()\n",
    "\n",
    "# 삽입(5) - 삽입(2) - 삽입(3) - 삽입(7) - 삭제() - 삽입(1) - 삽입(4) - 삭제()\n",
    "queue.append(5)\n",
    "queue.append(2)\n",
    "queue.append(3)\n",
    "queue.append(7)\n",
    "queue.popleft()\n",
    "queue.append(1)\n",
    "queue.append(4)\n",
    "queue.popleft()\n",
    "\n",
    "print(queue) # 먼저 들어온 순서대로 출력\n",
    "queue.reverse() # 역순으로 바꾸기\n",
    "print(queue) # 나중에 들어온 원소부터 출력"
   ]
  }
 ],
 "metadata": {
  "kernelspec": {
   "display_name": "Python 3 (ipykernel)",
   "language": "python",
   "name": "python3"
  },
  "language_info": {
   "codemirror_mode": {
    "name": "ipython",
    "version": 3
   },
   "file_extension": ".py",
   "mimetype": "text/x-python",
   "name": "python",
   "nbconvert_exporter": "python",
   "pygments_lexer": "ipython3",
   "version": "3.9.7"
  }
 },
 "nbformat": 4,
 "nbformat_minor": 5
}
