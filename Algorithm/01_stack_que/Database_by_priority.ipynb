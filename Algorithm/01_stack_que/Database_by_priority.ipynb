{
 "cells": [
  {
   "cell_type": "markdown",
   "id": "676c929a",
   "metadata": {},
   "source": [
    "### 우선순위 큐(Priority Queue)\n",
    "- 우선순위 큐는 <U>우선순위가 가장 높은 데이터를 가장 먼저 삭제하는 자료구조입니다.</U>\n",
    "- 우선순위 규는 데이터를 우선순위에 따라 처리하고 싶을 때 사용합니다.\n",
    "    - 예시) 물건 데이터를 자료구조에 넣었다가 가치가 높은 물건부터 꺼내서 확인해야 하는 경우\n",
    "\n",
    "\n",
    "|자료구조|추출되는 데이터|\n",
    "|---|---|\n",
    "|스택(Stack)|가장 나중에 삽입된 데이터|\n",
    "|큐(Queue)|가장 먼저 삽입된 데이터|\n",
    "|우선순위 큐(Priority Queue)|가장 우선순위가 높은 데이터|"
   ]
  },
  {
   "cell_type": "markdown",
   "id": "1771bef0",
   "metadata": {},
   "source": [
    "- 우선순위 큐를 구현하는 방법은 다양합니다.\n",
    "    1. 단순히 리스트를 이용하여 구현할 수 있습니다.\n",
    "    2. 힙(heap)을 이용하여 구현할 수 있습니다.\n",
    "- 데이터의 개수가 N개일 때, 구현방식에 따라서 시간 복잡도를 비교한 내용은 다음과 같습니다.\n",
    "|우선순위 큐 구현 방식|삽입 시간|삭제 시간|\n",
    "|-|-|-|\n",
    "|리스트|O*(1)|O*(N)*|\n",
    "|힙(Heap)|O*(logN)*|O*(logN)*|\n",
    "- 단순히 N개의 데이터를 힙에 넣었다가 모두 꺼내는 작업은 정렬과 동일합니다.(힙 정렬)\n",
    "    - 이 경우 시간 복잡도는 O(NlogN)입니다,"
   ]
  },
  {
   "cell_type": "markdown",
   "id": "5e0866e3",
   "metadata": {},
   "source": [
    "- 힙은 완전 이진 트리 자료구조의 일종입니다.\n",
    "- 힙에서 항상 루트노드(root node)를 제거합니다.\n",
    "- 최소힙(min heap)\n",
    "    - 루트 노드가 가장 작은 값을 가집니다.\n",
    "    - 따라서 값이 작은 데이터가 우선적으로 제거됩니다,\n",
    "- 최대 힙(max heap)\n",
    "    - 루트 노드가 가장 큰 값을 가집니다.\n",
    "    - 따라서 값이 큰 데이터가 우선적으로 제거됩니다,\n",
    "![heap_picture](./Picture/최소힙.png)"
   ]
  },
  {
   "cell_type": "markdown",
   "id": "02571b70",
   "metadata": {},
   "source": [
    "### 완전 이진 트리(Complete Binary Tree)\n",
    "- **완전 이진 트리**란 루트(root) 노드부터 시작하여 왼쪽 자식 노드, 오른쪽 자식 노드 순서대로 데이터가 차례대로 삽입되는 트리(tree)를 의미합니다.\n",
    "![완전 이진 트리](./Picture/Complete_Binary_Tree.png)"
   ]
  },
  {
   "cell_type": "markdown",
   "id": "f5d5b87d",
   "metadata": {},
   "source": [
    "### 최소 힙 구성 함수: Min-Heapify()\n",
    "![완전 이진 트리](./Picture/Complete_Binary_Tree1.png)"
   ]
  },
  {
   "cell_type": "markdown",
   "id": "cb327b52",
   "metadata": {},
   "source": [
    "#### 힙에서 원소 가 제거될 때\n",
    "- 새로운 원소가 삽입되었을 때 O(logN)의 시간 복잡도로 힙 성질을 유지하도록 할 수 있습니다.\n",
    "    - 원소가 제거할 때는 가장 마지막 노드가 루트 노드의 위치에 오도록 합니다.\n",
    "- 원소가 제거되었을 때 O(logN)의 시간복잡도로 힙 성질을 유지하도록 할 수 있습니다.\n",
    "    - 이후에 루트노드에서부터 하향식으로(더 작은 자식노드로) Heapify()를 진행합니다.\n",
    "    "
   ]
  },
  {
   "cell_type": "code",
   "execution_count": 13,
   "id": "132ee530",
   "metadata": {},
   "outputs": [
    {
     "name": "stdout",
     "output_type": "stream",
     "text": [
      "리스트의 길이를 설정해주세요:5\n",
      "랜덤값의 최대값을 설정해주세요5\n",
      "2\n",
      "2\n",
      "4\n",
      "4\n",
      "5\n"
     ]
    }
   ],
   "source": [
    "def inputrand(n,l):\n",
    "    lisT = []\n",
    "    for i in range(n):\n",
    "        a = random.randint(0,l)\n",
    "        lisT.append(a)\n",
    "    return lisT\n",
    "\n",
    "import sys\n",
    "import heapq\n",
    "import random\n",
    "\n",
    "def heapsort(iterable):\n",
    "    h = []\n",
    "    result = []\n",
    "    # 모든 원소를 차례대로 힙에 삽입\n",
    "    for value in iterable:\n",
    "        heapq.heappush(h,value)\n",
    "    # 힙에 삽입된 모든 원소를 차례대로 꺼내어 담기\n",
    "    for i in range(len(h)):\n",
    "        result.append(heapq.heappop(h))\n",
    "    return result\n",
    "a = input('리스트의 길이를 설정해주세요:')\n",
    "b = input('랜덤값의 최대값을 설정해주세요')\n",
    "arr = inputrand(int(a),int(b))\n",
    "\n",
    "res = heapsort(arr)\n",
    "\n",
    "for i in range(len(arr)):\n",
    "    print(res[i])"
   ]
  }
 ],
 "metadata": {
  "kernelspec": {
   "display_name": "Python 3 (ipykernel)",
   "language": "python",
   "name": "python3"
  },
  "language_info": {
   "codemirror_mode": {
    "name": "ipython",
    "version": 3
   },
   "file_extension": ".py",
   "mimetype": "text/x-python",
   "name": "python",
   "nbconvert_exporter": "python",
   "pygments_lexer": "ipython3",
   "version": "3.9.7"
  }
 },
 "nbformat": 4,
 "nbformat_minor": 5
}
