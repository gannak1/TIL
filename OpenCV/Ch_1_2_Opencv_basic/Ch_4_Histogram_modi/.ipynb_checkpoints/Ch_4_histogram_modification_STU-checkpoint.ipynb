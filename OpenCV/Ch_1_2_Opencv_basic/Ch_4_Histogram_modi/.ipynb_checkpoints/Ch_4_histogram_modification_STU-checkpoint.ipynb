{
 "cells": [
  {
   "cell_type": "code",
   "execution_count": 1,
   "id": "771f881a",
   "metadata": {},
   "outputs": [],
   "source": [
    "import sys\n",
    "import numpy as np\n",
    "import cv2"
   ]
  },
  {
   "cell_type": "code",
   "execution_count": 11,
   "id": "19b9da95",
   "metadata": {},
   "outputs": [],
   "source": [
    "src = cv2.imread('./fig/Hawkes.jpg',0)\n",
    "\n",
    "# cv2.normalize(src, dst=None, alpha=None, beta=None, norm_type=None, dtype=None, mask=None) -> dst\n",
    "# src: 입력영상\n",
    "# dst: 결과영상\n",
    "# alpha: 정규화 최소값 (예, 0)\n",
    "# beta: 정규화 최댓값 (예, 255)\n",
    "# norm_type: cv2.NORM_MINMAX\n",
    "# dtype =  -1, src와 같은 type\n",
    "\n",
    "\n",
    "\n",
    "dst_norm = cv2.normalize(src,None,0,255,cv2.NORM_MINMAX,-1)\n",
    "dst_equal = cv2.equalizeHist(src)\n",
    "\n",
    "cv2.imshow('src',src)\n",
    "cv2.imshow('dst_norm',dst_norm)\n",
    "cv2.imshow('dst_equal',dst_equal)\n",
    "\n",
    "\n",
    "cv2.waitKey()\n",
    "cv2.destroyAllWindows()"
   ]
  },
  {
   "cell_type": "code",
   "execution_count": 10,
   "id": "ce22dc50",
   "metadata": {},
   "outputs": [],
   "source": [
    "src = cv2.imread('./fig/field.bmp')\n",
    "\n",
    "src_hsv = cv2.cvtColor(src,cv2.COLOR_BGR2HSV)\n",
    "\n",
    "h,s,v = cv2.split(src_hsv)\n",
    "\n",
    "v_eq = cv2.equalizeHist(v)\n",
    "\n",
    "src_hsv_eq = cv2.merge((h,s,v_eq))\n",
    "\n",
    "src_hsv_eq_BGR = cv2.cvtColor(src_hsv_eq,cv2.COLOR_HSV2BGR)\n",
    "cv2.imshow('src',src)\n",
    "cv2.imshow('src_hsv_eq_BGR',src_hsv_eq_BGR)\n",
    "\n",
    "cv2.waitKey()\n",
    "cv2.destroyAllWindows()"
   ]
  },
  {
   "cell_type": "code",
   "execution_count": null,
   "id": "e207ddeb",
   "metadata": {},
   "outputs": [],
   "source": []
  }
 ],
 "metadata": {
  "kernelspec": {
   "display_name": "Python 3 (ipykernel)",
   "language": "python",
   "name": "python3"
  },
  "language_info": {
   "codemirror_mode": {
    "name": "ipython",
    "version": 3
   },
   "file_extension": ".py",
   "mimetype": "text/x-python",
   "name": "python",
   "nbconvert_exporter": "python",
   "pygments_lexer": "ipython3",
   "version": "3.9.7"
  }
 },
 "nbformat": 4,
 "nbformat_minor": 5
}
