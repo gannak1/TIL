{
 "cells": [
  {
   "cell_type": "code",
   "execution_count": 1,
   "id": "ed0da564",
   "metadata": {},
   "outputs": [],
   "source": [
    "import cv2\n",
    "import sys\n",
    "import numpy as np"
   ]
  },
  {
   "cell_type": "code",
   "execution_count": 64,
   "id": "e89128c9",
   "metadata": {},
   "outputs": [
    {
     "name": "stdout",
     "output_type": "stream",
     "text": [
      "640 480\n",
      "360\n",
      "100 460 180 460\n"
     ]
    }
   ],
   "source": [
    "x, y = 280, 400 # 80\n",
    "mask_src1 = cv2.imread('./imgbin_hat.png',cv2.IMREAD_UNCHANGED)\n",
    "mask_src = cv2.resize(mask_src1,(x,y),interpolation = cv2.INTER_AREA)\n",
    "mask = mask_src[:,:,3]\n",
    "cap = cv2.VideoCapture(0)\n",
    "if not cap:\n",
    "    sys('Failed')\n",
    "w = int(cap.get(cv2.CAP_PROP_FRAME_WIDTH))\n",
    "h = int(cap.get(cv2.CAP_PROP_FRAME_HEIGHT))\n",
    "print(w,h)\n",
    "c = 40\n",
    "a,b,c,d = int((h-y)/2+c),int((h+y)/2+c),int((w-x)/2),int((w+x)/2)\n",
    "print(b-a)\n",
    "print(a,b,c,d)\n",
    "\n",
    "while True:\n",
    "    ret , frame = cap.read()\n",
    "    if not ret:\n",
    "        break\n",
    "    cv2.copyTo(mask_src[:,:,:3],mask,frame[a:b,c:d])\n",
    "    cv2.imshow('frame',frame)\n",
    "    if cv2.waitKey(20) == ord('q'):\n",
    "        break\n",
    "    \n",
    "cap.release()\n",
    "cv2.destroyAllWindows()"
   ]
  },
  {
   "cell_type": "code",
   "execution_count": null,
   "id": "db0372bb",
   "metadata": {},
   "outputs": [],
   "source": [
    "mask_src.shape\n",
    "mask = cv2.resize(mask_src[:,:,3],(140,200),interpolation = cv2.INTER_AREA)\n",
    "cv2.imshow('image',mask"
   ]
  },
  {
   "cell_type": "code",
   "execution_count": 50,
   "id": "033a204f",
   "metadata": {},
   "outputs": [
    {
     "name": "stdout",
     "output_type": "stream",
     "text": [
      "(200, 140) (200, 140, 3) (200, 140, 3)\n"
     ]
    }
   ],
   "source": [
    "mask_src1 = cv2.imread('./imgbin_hat.png',cv2.IMREAD_UNCHANGED)\n",
    "src = cv2.imread('./20150615_104241.jpg')\n",
    "mask_src = cv2.resize(mask_src1,(140,200),interpolation = cv2.INTER_AREA)\n",
    "mask_src2  = mask_src[20:120,:200,:3]\n",
    "mask = mask_src[:,:,3]\n",
    "src_1 = src[0:200,0:140]\n",
    "print(mask.shape,mask_src[:,:,:3].shape,src_1.shape)\n",
    "#cv2.copyTo(mask_src2,mask,src[0:200,0:140])\n",
    "cv2.imshow('image',mask_src2)\n",
    "cv2.waitKey()\n",
    "cv2.destroyAllWindows()"
   ]
  },
  {
   "cell_type": "code",
   "execution_count": null,
   "id": "dff0ca4a",
   "metadata": {},
   "outputs": [],
   "source": [
    "\n",
    "cv2.imshow('image',img)\n",
    "cv2.waitKey()\n",
    "cv2.destroyAllWindows()"
   ]
  },
  {
   "cell_type": "code",
   "execution_count": 30,
   "id": "a8d6aba7",
   "metadata": {},
   "outputs": [
    {
     "name": "stdout",
     "output_type": "stream",
     "text": [
      "(249935,)\n",
      "(800, 400, 3)\n"
     ]
    }
   ],
   "source": [
    "img = cv2.imread('./20150615_104241.jpg')\n",
    "\n",
    "img_re = cv2.resize(img,(400,800),interpolation = cv2.INTER_AREA)\n",
    "\n",
    "b, g, r = cv2.split(img_re)\n",
    "b_re = cv2.add(b,50)\n",
    "g_re = cv2.add(g, 50)\n",
    "r_re = cv2.add(r, 50)\n",
    "\n",
    "img_f = r[r]\n",
    "img_me = cv2.merge((b_re,g_re,r_re))\n",
    "print(img_f)\n",
    "print(img_re.shape)\n",
    "cv2.imshow('image',img_me)\n",
    "cv2.imshow('filter',img_f)\n",
    "cv2.waitKey()\n",
    "cv2.destroyAllWindows()"
   ]
  },
  {
   "cell_type": "code",
   "execution_count": 67,
   "id": "d963bdd8",
   "metadata": {},
   "outputs": [
    {
     "data": {
      "text/plain": [
       "(3507, 2480, 4)"
      ]
     },
     "execution_count": 67,
     "metadata": {},
     "output_type": "execute_result"
    }
   ],
   "source": [
    "mask_src = cv2.imread('./imgbin_hat.png',cv2.IMREAD_UNCHANGED)\n",
    "mask_src.shape"
   ]
  },
  {
   "cell_type": "code",
   "execution_count": null,
   "id": "b105c5dc",
   "metadata": {},
   "outputs": [],
   "source": []
  },
  {
   "cell_type": "code",
   "execution_count": null,
   "id": "b527de69",
   "metadata": {},
   "outputs": [],
   "source": []
  },
  {
   "cell_type": "code",
   "execution_count": null,
   "id": "b9712487",
   "metadata": {},
   "outputs": [],
   "source": []
  },
  {
   "cell_type": "code",
   "execution_count": null,
   "id": "489787b7",
   "metadata": {},
   "outputs": [],
   "source": []
  }
 ],
 "metadata": {
  "kernelspec": {
   "display_name": "Python 3 (ipykernel)",
   "language": "python",
   "name": "python3"
  },
  "language_info": {
   "codemirror_mode": {
    "name": "ipython",
    "version": 3
   },
   "file_extension": ".py",
   "mimetype": "text/x-python",
   "name": "python",
   "nbconvert_exporter": "python",
   "pygments_lexer": "ipython3",
   "version": "3.9.7"
  }
 },
 "nbformat": 4,
 "nbformat_minor": 5
}
