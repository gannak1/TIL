{
 "cells": [
  {
   "cell_type": "code",
   "execution_count": 1,
   "id": "392049c2",
   "metadata": {},
   "outputs": [],
   "source": [
    "import cv2\n",
    "import numpy as np\n",
    "import sys"
   ]
  },
  {
   "cell_type": "code",
   "execution_count": 25,
   "id": "9c4cee79",
   "metadata": {
    "scrolled": true
   },
   "outputs": [
    {
     "name": "stdout",
     "output_type": "stream",
     "text": [
      "img type =  <class 'numpy.ndarray'>\n",
      "img Dimension =  (480, 640, 3)\n",
      "img size = 640 X 480\n",
      "data type =  uint8\n",
      "img type =  <class 'numpy.ndarray'>\n",
      "img Dimension =  (853, 1280)\n",
      "img size = 1280 X 853\n",
      "data type =  uint8\n"
     ]
    }
   ],
   "source": [
    "img = cv2.imread('./fig/puppy.bmp',cv2.IMREAD_COLOR)\n",
    "img1 = cv2.imread('./fig/puppy_1280_853.jpg',cv2.IMREAD_COLOR)\n",
    "\n",
    "if img is None or img1 is None:\n",
    "    print('img is None')\n",
    "    sys.exit()\n",
    "\n",
    "\n",
    "print('img type = ',type(img))\n",
    "print('img Dimension = ', img.shape)\n",
    "h,w = img.shape[:2]\n",
    "print('img size = {} X {}'.format(w,h))\n",
    "print('data type = ', img.dtype)\n",
    "\n",
    "print('img type = ',type(img1))\n",
    "print('img Dimension = ', img1.shape[:2])\n",
    "h1,w1 = img1.shape[:2]\n",
    "print('img size = {} X {}'.format(w1,h1))\n",
    "print('data type = ', img1.dtype)\n",
    "\n",
    "cv2.imshow('image',img)\n",
    "cv2.imshow('image1',img1)\n",
    "\n",
    "cv2.waitKey()\n",
    "cv2.destroyAllWindows()"
   ]
  },
  {
   "cell_type": "markdown",
   "id": "dc33fd99",
   "metadata": {},
   "source": [
    "## 픽셀값 참고"
   ]
  },
  {
   "cell_type": "code",
   "execution_count": 49,
   "id": "e005e473",
   "metadata": {},
   "outputs": [],
   "source": [
    "img1 = cv2.imread('./fig/puppy.bmp', 1)\n",
    "img2 = cv2.imread('./fig/puppy.bmp', 0)\n",
    "\n",
    "\n",
    "#h1,w1 = img1.shape[:2]\n",
    "#h2,w2 = img2.shape[:2]\n",
    "#print('color center = ',img1[h1//2][w1//2])\n",
    "#print('color center = ',img2[h2//2][w2//2])\n",
    "\n",
    "#x = 120\n",
    "#y = 320\n",
    "\n",
    "#print('color center = ',img1[y][x])\n",
    "\n",
    "img1[10:110,100:200] = (0,255,0)\n",
    "img2[10:110,100:200] = 128\n",
    "\n",
    "\n",
    "cv2.imshow('img1',img1)\n",
    "cv2.imshow('img2',img2)\n",
    "\n",
    "cv2.waitKey()\n",
    "cv2.destroyAllWindows()"
   ]
  },
  {
   "cell_type": "code",
   "execution_count": 80,
   "id": "4af2a998",
   "metadata": {},
   "outputs": [],
   "source": [
    "img1 = np.zeros((400, 600, 3),dtype = np.uint8)\n",
    "img2 = np.ones((240, 320),dtype = np.uint8) * 255\n",
    "img3 = np.full((240,320,3),255,dtype = np.uint8)\n",
    "img4 = np.random.randint(0,255,230400,np.uint8).reshape(240,320,3)\n",
    "img1[10:60,10:60] = (0,0,255)\n",
    "#img2[10:60,10:60] = 255\n",
    "\n",
    "cv2.imshow('image1',img1)\n",
    "cv2.imshow('image2',img2)\n",
    "cv2.imshow('image3',img3)\n",
    "cv2.imshow('image3',img4)\n",
    "\n",
    "\n",
    "cv2.waitKey()\n",
    "cv2.destroyAllWindows()"
   ]
  },
  {
   "cell_type": "code",
   "execution_count": 89,
   "id": "7195933a",
   "metadata": {},
   "outputs": [],
   "source": [
    "## 영상복사\n",
    "\n",
    "img = cv2.imread('./fig/cat.bmp',1)\n",
    "\n",
    "\n",
    "if img is None:\n",
    "    print(None)\n",
    "    sys.exit()\n",
    "\n",
    "img1 = img\n",
    "img2 = img.copy()\n",
    "\n",
    "#img[100:200, 200:300] = (0,0,255)\n",
    "img1[100:200, 200:300] = (0,255,255)\n",
    "\n",
    "\n",
    "cv2.namedWindow('image',cv2.WINDOW_AUTOSIZE)\n",
    "cv2.imshow('image',img)\n",
    "cv2.imshow('image1',img1)\n",
    "cv2.imshow('image2',img2)\n",
    "\n",
    "\n",
    "cv2.waitKey()\n",
    "cv2.destroyAllWindows()"
   ]
  },
  {
   "cell_type": "code",
   "execution_count": 94,
   "id": "f388d821",
   "metadata": {},
   "outputs": [],
   "source": [
    "##\n",
    "\n",
    "img = np.ones((400,400,3), dtype = np.uint8) * 255\n",
    "img1 = img.copy()\n",
    "# circle(img, center, radius, color[, thickness[, lineType[, shift]]]) -> img\n",
    "cv2.circle(img,(100,200),100,(0,0,255),3,cv2.LINE_AA) # linetype은 직선에서는 문제가 없지만 곡선에서는 거친 표면이 생기므로 그걸 다듬어 주는 LINE_AA\n",
    "# tickness를 -1로하면 다 채워짐\n",
    "\n",
    "cv2.imshow('image',img)\n",
    "\n",
    "cv2.waitKey()\n",
    "cv2.destroyAllWindows()"
   ]
  },
  {
   "cell_type": "code",
   "execution_count": 109,
   "id": "2a8e979b",
   "metadata": {},
   "outputs": [],
   "source": [
    "img1 = cv2.imread('./fig/puppy.bmp',1)\n",
    "\n",
    "img2 = img1[200:375,300:500]\n",
    "\n",
    "cv2.namedWindow('img1',cv2.WINDOW_AUTOSIZE)\n",
    "cv2.imshow('img1',img1)\n",
    "cv2.imshow('img2',img2)\n",
    "cv2.waitKey()\n",
    "cv2.destroyAllWindows()"
   ]
  },
  {
   "cell_type": "code",
   "execution_count": 119,
   "id": "aef30a22",
   "metadata": {},
   "outputs": [],
   "source": [
    "img1 = cv2.imread('./fig/puppy.bmp',1)\n",
    "\n",
    "img2 = img1[200:400,300:500]\n",
    "img3 = img1[200:400,300:500].copy()\n",
    "\n",
    "cv2.circle(img2,(110,90),50,(0,0,255),-1,cv2.LINE_AA)\n",
    "\n",
    "cv2.namedWindow('img1',cv2.WINDOW_AUTOSIZE)\n",
    "cv2.imshow('img1',img1)\n",
    "cv2.imshow('img2',img2)\n",
    "cv2.imshow('img3',img3)\n",
    "\n",
    "cv2.waitKey()\n",
    "cv2.destroyAllWindows()"
   ]
  },
  {
   "cell_type": "code",
   "execution_count": 124,
   "id": "ab79d14d",
   "metadata": {},
   "outputs": [],
   "source": [
    "## copyTo\n",
    "\n",
    "src = cv2.imread('./fig/airplane.bmp',cv2.IMREAD_COLOR)\n",
    "mask = cv2.imread('./fig/mask_plane.bmp',cv2.IMREAD_GRAYSCALE)\n",
    "dst = cv2.imread('./fig/field.bmp',cv2.IMREAD_COLOR)\n",
    "\n",
    "if src is None or mask is None or dst is None:\n",
    "    print(None)\n",
    "    sys.exit()\n",
    "\n",
    "# copyTo(src, mask[, dst]) -> dst\n",
    "cv2.copyTo(src,mask,dst) # dimesion이 모두 같아야함\n",
    "#dst = cv2.copyTo(src,mask)\n",
    "\n",
    "cv2.namedWindow('src',cv2.WINDOW_AUTOSIZE)\n",
    "cv2.namedWindow('mask',cv2.WINDOW_AUTOSIZE)\n",
    "cv2.namedWindow('dst',cv2.WINDOW_AUTOSIZE)\n",
    "\n",
    "cv2.imshow('src',src)\n",
    "cv2.imshow('mask',mask)\n",
    "cv2.imshow('dst',dst)\n",
    "\n",
    "cv2.waitKey()\n",
    "\n",
    "cv2.destroyAllWindows()"
   ]
  },
  {
   "cell_type": "code",
   "execution_count": 146,
   "id": "24c7846a",
   "metadata": {},
   "outputs": [],
   "source": [
    "##\n",
    "\n",
    "src = cv2.imread('./fig/airplane.bmp',cv2.IMREAD_COLOR)\n",
    "src_gray = cv2.cvtColor(src,cv2.COLOR_BGR2GRAY)\n",
    "\n",
    "# threshold(src, thresh, maxval, type[, dst]) -> retval, dst\n",
    "ret, mask = cv2.threshold(src_gray, 170, 255, cv2.THRESH_BINARY_INV)\n",
    "\n",
    "cv2.namedWindow('mask',cv2.WINDOW_NORMAL)\n",
    "cv2.imshow('src',src)\n",
    "cv2.imshow('src_gray',src_gray)\n",
    "cv2.imshow('mask',mask)\n",
    "\n",
    "\n",
    "\n",
    "cv2.waitKey()\n",
    "cv2.destroyAllWindows()"
   ]
  },
  {
   "cell_type": "code",
   "execution_count": 4,
   "id": "429a90db",
   "metadata": {},
   "outputs": [],
   "source": [
    "import cv2\n",
    "import numpy as np\n",
    "import sys\n",
    "\n",
    "cow = cv2.imread('./fig/cow.png',1)\n",
    "dst = cv2.imread('./fig/green.png',1)\n",
    "\n",
    "dst1 = cv2.resize(dst,(600,600),interpolation = cv2.INTER_AREA)\n",
    "cow_gray = cv2.cvtColor(cow,cv2.COLOR_BGR2GRAY)\n",
    "ret, mask = cv2.threshold(cow_gray,254,255,cv2.THRESH_BINARY_INV)\n",
    "cv2.copyTo(cow,mask,dst1)\n",
    "cv2.imshow('dst',dst1)\n",
    "\n",
    "\n",
    "cv2.waitKey()\n",
    "cv2.destroyAllWindows()"
   ]
  },
  {
   "cell_type": "code",
   "execution_count": 157,
   "id": "037bb43c",
   "metadata": {},
   "outputs": [
    {
     "data": {
      "text/plain": [
       "(600, 600, 3)"
      ]
     },
     "execution_count": 157,
     "metadata": {},
     "output_type": "execute_result"
    }
   ],
   "source": [
    "cow.shape"
   ]
  },
  {
   "cell_type": "code",
   "execution_count": 168,
   "id": "186ec595",
   "metadata": {},
   "outputs": [],
   "source": [
    "dst1 = cv2.resize(dst,(600,600),interpolation = cv2.INTER_AREA)"
   ]
  },
  {
   "cell_type": "code",
   "execution_count": 6,
   "id": "649c7799",
   "metadata": {},
   "outputs": [],
   "source": [
    "img1 = cv2.imread('./fig/cow.png')\n",
    "img2 = cv2.imread('./fig/green.png')\n",
    "img1_gray = cv2.cvtColor(img1,cv2.COLOR_BGR2GRAY)\n",
    "\n",
    "ret, mask = cv2.threshold(img1_gray,240,255,cv2.THRESH_BINARY_INV)\n",
    "\n",
    "h,w = img1.shape[:2]\n",
    "img2 = cv2.resize(img2,(w,h),interpolation = cv2.INTER_AREA)\n",
    "cv2.copyTo(img1,mask,img2)\n",
    "cv2.imshow('green',img2)\n",
    "cv2.imshow('mask',mask)\n",
    "\n",
    "\n",
    "\n",
    "cv2.waitKey()\n",
    "cv2.destroyAllWindows()"
   ]
  },
  {
   "cell_type": "code",
   "execution_count": 1,
   "id": "7c261f6d",
   "metadata": {},
   "outputs": [],
   "source": [
    "import cv2\n",
    "\n",
    "import numpy as np\n",
    "import sys"
   ]
  },
  {
   "cell_type": "code",
   "execution_count": 21,
   "id": "62e90a38",
   "metadata": {},
   "outputs": [
    {
     "name": "stdout",
     "output_type": "stream",
     "text": [
      "(480, 960, 4)\n"
     ]
    }
   ],
   "source": [
    "src = cv2.imread('./fig/puppy.bmp',cv2.IMREAD_COLOR)\n",
    "img_alpha = cv2.imread('./fig/imgbin_sunglasses_1.png',cv2.IMREAD_UNCHANGED)\n",
    "\n",
    "if src is None or img_alpha is None:\n",
    "    print(None)\n",
    "    sys.exit()\n",
    "print(img_alpha.shape)\n",
    "sunglass = img_alpha[:,:,0:3]\n",
    "mask = img_alpha[:,:,3]\n",
    "red = sunglass.copy()\n",
    "red[mask > 0] = (0,0,255)\n",
    "red = cv2.resize(red,(300,160),interpolation = cv2.INTER_AREA)\n",
    "mask = cv2.resize(mask,(300,160),interpolation = cv2.INTER_AREA)\n",
    "src_re = src[115:275,220:520]\n",
    "\n",
    "cv2.copyTo(red,mask,src_re)\n",
    "\n",
    "#cv2.imshow('sunglass',sunglass)\n",
    "cv2.imshow('mask',mask)\n",
    "cv2.imshow('red',red)\n",
    "cv2.imshow('src',src_re)\n",
    "cv2.waitKey()\n",
    "cv2.destroyAllWindows()"
   ]
  },
  {
   "cell_type": "code",
   "execution_count": null,
   "id": "f1681a3a",
   "metadata": {},
   "outputs": [],
   "source": [
    "src = cv2.imread('./fig/puppy.bmp',cv2.IMREAD_COLOR)\n",
    "img_alpha = cv2.imread('./fig/imgbin_sunglasses_1.png',cv2.IMREAD_UNCHANGED)\n",
    "\n",
    "if src is None or img_alpha is None:\n",
    "    print(None)\n",
    "    sys.exit()\n",
    "print(img_alpha.shape)\n",
    "sunglass = img_alpha[:,:,0:3]\n",
    "mask = img_alpha[:,:,3]\n",
    "red = sunglass.copy()\n",
    "red[mask > 0] = (0,0,255)\n",
    "red = cv2.resize(red,(300,160),interpolation = cv2.INTER_AREA)\n",
    "mask = cv2.resize(mask,(300,160),interpolation = cv2.INTER_AREA)\n",
    "src_re = src[115:275,220:520]\n",
    "\n",
    "cv2.copyTo(red,mask,src_re)\n",
    "\n",
    "src[115:275,220:520] = src_re\n",
    "\n",
    "#cv2.imshow('sunglass',sunglass)\n",
    "cv2.imshow('mask',mask)\n",
    "cv2.imshow('red',red)\n",
    "cv2.imshow('src',src)\n",
    "cv2.waitKey()\n",
    "cv2.destroyAllWindows()"
   ]
  },
  {
   "cell_type": "code",
   "execution_count": 24,
   "id": "03668982",
   "metadata": {},
   "outputs": [],
   "source": [
    "src = cv2.imread('./fig/puppy.bmp',cv2.IMREAD_COLOR)\n",
    "img_alpha = cv2.imread('./fig/imgbin_sunglasses_1.png',cv2.IMREAD_UNCHANGED)\n",
    "\n",
    "img_alpha = cv2.resize(img_alpha,(300,150))\n",
    "\n",
    "if src is None or img_alpha is None:\n",
    "    print(None)\n",
    "    sys.exit()\n",
    "\n",
    "sunglass = img_alpha[:,:,0:3]\n",
    "mask = img_alpha[:,:,3]\n",
    "\n",
    "h, w = mask.shape[:2]\n",
    "crop = src[120:120+h,220:220+w]\n",
    "\n",
    "crop[mask>0] = (0,0,255)\n",
    "\n",
    "#cv2.copyTo(sunglass,mask,crop)\n",
    "\n",
    "cv2.imshow('sunglass',sunglass)\n",
    "cv2.imshow('mask',mask)\n",
    "cv2.imshow('red',src)\n",
    "cv2.imshow('src',crop)\n",
    "\n",
    "cv2.waitKey()\n",
    "cv2.destroyAllWindows()"
   ]
  },
  {
   "cell_type": "code",
   "execution_count": 47,
   "id": "f47b2456",
   "metadata": {},
   "outputs": [],
   "source": [
    "img = np.full((600,1200,3),255,np.uint8)\n",
    "\n",
    "# cv2.line(img, pt1, pt2, color, thickness = None, lineType = None, shift = None) -> img\n",
    "# flags\n",
    "    # img:그림을 그릴 영상\n",
    "    # pt1, pt2: 직선의 시작점, 끝점 (영상좌표)\n",
    "    # color: 직선의 칼라 (B,G,R)의 튜플\n",
    "    # thinkness: 선두께, 기본은= 1\n",
    "    # lineType: cv2.LINE_4, cv2.LINE_8, cv2.LINE_AA\n",
    "    \n",
    "cv2.line(img,(100, 50),(300,50),(0,0,255),10,cv2.LINE_8)\n",
    "cv2.line(img,(300, 50),(200,250),(0,0,255),10,cv2.LINE_8)\n",
    "cv2.arrowedLine(img,(400, 50),(400,250),(0,0,255),10,cv2.LINE_8)\n",
    "\n",
    "# cv2.rectangle(img, pt1, pt2, color, thickness = None, lineType = None) -> img\n",
    "   # pt1 :좌측 상단,  pt2: 우측하단\n",
    "# cv2.rectangle(img, rect, color, thickness = None, lineType = None) -> img\n",
    "    # rect: 사각형의 위치 정보 (x, y, w, h)\n",
    "\n",
    "cv2.rectangle(img,(100,300), (400,400),(255,0,0),-1)\n",
    "cv2.rectangle(img,(100,300,300,100),(0,0,255),10)\n",
    "\n",
    "# cv2.circle(img, center, radius, color, thickness = None, lineType = None) -> img\n",
    "    # center: 원의 중심좌표 (x, y)\n",
    "    # radius : 원의 반지름\n",
    "\n",
    "cv2.circle(img,(600, 300),100,(255,0,255),10,cv2.LINE_AA)\n",
    "\n",
    "# cv2.ellipse(img, center, axes, angle, startAngle, endAngle, color[, thickness[, lineType[, shift]]]) -> img\n",
    "    # center: 원의 중심좌표 (x, y)\n",
    "    # axis: 축의 반지름(x, y)\n",
    "    # angle: 타원의 기울기 (예, 10, 오른쪽으로 10도 기울어짐)\n",
    "    # startAngle: 타원을 그리는 시작 각도 (3시 방향이 0도)\n",
    "    # endAngle: 타원을 그리는 종료 각도\n",
    "\n",
    "cv2.ellipse(img,(600,300),(50,100),10,0,360,(0,255,0),10)\n",
    "\n",
    "text = 'Opencv version' + cv2.__version__\n",
    "# putText(img, text, org, fontFace, fontScale, color[, thickness[, lineType[, bottomLeftOrigin]]]) -> img\n",
    "cv2.putText(img,text,(800,100),cv2.FONT_HERSHEY_SIMPLEX,\n",
    "           0.8, (0,0,255), 1, cv2.LINE_AA)\n",
    "\n",
    "\n",
    "cv2.imshow('canvas',img)\n",
    "\n",
    "cv2.waitKey()\n",
    "cv2.destroyAllWindows()"
   ]
  },
  {
   "cell_type": "code",
   "execution_count": 67,
   "id": "ffba9583",
   "metadata": {},
   "outputs": [],
   "source": [
    "img = np.full((800,1200,3),255,np.uint8)\n",
    "\n",
    "cv2.circle(img,(300,300),150,(0,0,255),10,cv2.LINE_AA)\n",
    "cv2.line(img,(500,150),(500,450),(0,0,255),10,cv2.LINE_8)\n",
    "cv2.line(img,(150,500),(150,650),(0,0,255),10,cv2.LINE_8)\n",
    "cv2.line(img,(150,650),(500,650),(0,0,255),10,cv2.LINE_8)\n",
    "\n",
    "cv2.line(img,(750,150),(600,450),(0,0,255),10,cv2.LINE_AA)\n",
    "cv2.line(img,(750,150),(900,450),(0,0,255),10,cv2.LINE_AA)\n",
    "cv2.line(img,(1000,150),(1000,450),(0,0,255),10,cv2.LINE_8)\n",
    "cv2.line(img,(1000,300),(1100,300),(0,0,255),10,cv2.LINE_8)\n",
    "cv2.rectangle(img,(600,500),(1000,650),(0,0,255),10)\n",
    "\n",
    "\n",
    "cv2.imshow('image',img)\n",
    "\n",
    "cv2.waitKey()\n",
    "cv2.destroyAllWindows()"
   ]
  },
  {
   "cell_type": "code",
   "execution_count": 30,
   "id": "b44654eb",
   "metadata": {},
   "outputs": [],
   "source": [
    "#cap = cv2.VideoCapture('C:/Users/gi930/Downloads/raining.mp4')\n",
    "cap = cv2.VideoCapture(0)\n",
    "\n",
    "if not cap.isOpened():\n",
    "    print('Videocap open Failed')\n",
    "    sys.exit()\n",
    "\n",
    "\n",
    "w = int(cap.get(cv2.CAP_PROP_FRAME_WIDTH))\n",
    "h = int(cap.get(cv2.CAP_PROP_FRAME_HEIGHT))\n",
    "fps = int(cap.get(cv2.CAP_PROP_FPS)*0.7)\n",
    "fourcc = cv2.VideoWriter_fourcc(*'DIVX') # DIVX MPEG-4\n",
    "# print(w,h,fps,sep = '/')\n",
    "\n",
    "out = cv2.VideoWriter('output_class.avi', fourcc, fps,(w,h))\n",
    "\n",
    "outE = cv2.VideoWriter('edgeImage.avi',fourcc,fps,(w,h))\n",
    "\n",
    "while True:\n",
    "    ret, frame = cap.read()\n",
    "    \n",
    "    if not ret:\n",
    "        print('video read failed')\n",
    "        break\n",
    "    ## 동영상 편집부분\n",
    "    ###################################################################\n",
    "    edge = cv2.Canny(frame,30,150) # 30초 안에 안끝나면 렉이 걸린다\n",
    "    #edge = 255 - edge\n",
    "    #edge = ~edge\n",
    "#    edge1 = edge.copy()\n",
    "    \n",
    "#    edge[edge1 == 0] = 255\n",
    "#    edge[edge1 > 0] = 0\n",
    "    edge_color = cv2.cvtColor(edge, cv2.COLOR_GRAY2BGR)\n",
    "    ###################################################################\n",
    "    \n",
    "    cv2.imshow('img',frame)\n",
    "    cv2.imshow('edge',edge_color)\n",
    "    \n",
    "    out.write(frame)\n",
    "    outE.write(edge_color)\n",
    "    if cv2.waitKey(20) == ord('q'):\n",
    "        break\n",
    "\n",
    "\n",
    "cap.release()\n",
    "out.release()\n",
    "outE.release()\n",
    "cv2.destroyAllWindows()"
   ]
  },
  {
   "cell_type": "code",
   "execution_count": 26,
   "id": "0471d0bf",
   "metadata": {},
   "outputs": [
    {
     "name": "stdout",
     "output_type": "stream",
     "text": [
      "1 2\n"
     ]
    }
   ],
   "source": [
    "a,b = 1, 2\n",
    "print(a,b)"
   ]
  },
  {
   "cell_type": "code",
   "execution_count": null,
   "id": "94d1d957",
   "metadata": {},
   "outputs": [],
   "source": []
  }
 ],
 "metadata": {
  "kernelspec": {
   "display_name": "Python 3 (ipykernel)",
   "language": "python",
   "name": "python3"
  },
  "language_info": {
   "codemirror_mode": {
    "name": "ipython",
    "version": 3
   },
   "file_extension": ".py",
   "mimetype": "text/x-python",
   "name": "python",
   "nbconvert_exporter": "python",
   "pygments_lexer": "ipython3",
   "version": "3.9.7"
  }
 },
 "nbformat": 4,
 "nbformat_minor": 5
}
