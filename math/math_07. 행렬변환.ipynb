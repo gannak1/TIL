{
 "cells": [
  {
   "cell_type": "markdown",
   "id": "9d053bb5",
   "metadata": {},
   "source": [
    "1. 역함수와 역변환\n",
    " - 역행렬"
   ]
  },
  {
   "cell_type": "code",
   "execution_count": 3,
   "id": "846d4da1",
   "metadata": {},
   "outputs": [
    {
     "name": "stdout",
     "output_type": "stream",
     "text": [
      "[[1 0 0 0]\n",
      " [2 1 0 0]\n",
      " [3 0 1 0]\n",
      " [4 0 0 1]] \n",
      "\n",
      "[[ 1.  0.  0.  0.]\n",
      " [-2.  1.  0.  0.]\n",
      " [-3.  0.  1.  0.]\n",
      " [-4. -0. -0.  1.]]\n"
     ]
    }
   ],
   "source": [
    "import numpy as np\n",
    "\n",
    "A = np.matrix([[1,0,0,0],[2,1,0,0],[3,0,1,0],[4,0,0,1]])\n",
    "\n",
    "print(A,'\\n')\n",
    "print(np.linalg.inv(A))"
   ]
  },
  {
   "cell_type": "code",
   "execution_count": 6,
   "id": "b4849ca1",
   "metadata": {},
   "outputs": [
    {
     "name": "stdout",
     "output_type": "stream",
     "text": [
      "[[ 0  1  2  3  4]\n",
      " [ 5  6  7  8  9]\n",
      " [10 11 12 13 14]]\n"
     ]
    }
   ],
   "source": [
    "# 전치행렬(Transpose)\n",
    "\n",
    "a = np.arange(15).reshape(3,5)\n",
    "print(a)"
   ]
  },
  {
   "cell_type": "code",
   "execution_count": 7,
   "id": "210a18b7",
   "metadata": {},
   "outputs": [
    {
     "data": {
      "text/plain": [
       "array([[ 0,  5, 10],\n",
       "       [ 1,  6, 11],\n",
       "       [ 2,  7, 12],\n",
       "       [ 3,  8, 13],\n",
       "       [ 4,  9, 14]])"
      ]
     },
     "execution_count": 7,
     "metadata": {},
     "output_type": "execute_result"
    }
   ],
   "source": [
    "np.transpose(a)"
   ]
  },
  {
   "cell_type": "code",
   "execution_count": 8,
   "id": "58f31ada",
   "metadata": {},
   "outputs": [
    {
     "data": {
      "text/plain": [
       "(array([5.44948974, 0.55051026]),\n",
       " array([[ 0.91209559,  0.21927526],\n",
       "        [-0.40997761,  0.97566304]]))"
      ]
     },
     "execution_count": 8,
     "metadata": {},
     "output_type": "execute_result"
    }
   ],
   "source": [
    "# 고유값, 고유벡터\n",
    "\n",
    "a = np.array([[5,-1],[-2,1]])\n",
    "np.linalg.eig(a)"
   ]
  },
  {
   "cell_type": "code",
   "execution_count": 9,
   "id": "5d5b4b44",
   "metadata": {},
   "outputs": [
    {
     "name": "stdout",
     "output_type": "stream",
     "text": [
      "[5.44948974 0.55051026]\n",
      "\n",
      "[[ 0.91209559  0.21927526]\n",
      " [-0.40997761  0.97566304]]\n"
     ]
    }
   ],
   "source": [
    "# w : 고유값, v : 고유벡터\n",
    "w,v = np.linalg.eig(a)\n",
    "print(w) # 고유값\n",
    "print()\n",
    "print(v) # 고유벡터(단위벡터로 정규화함)"
   ]
  },
  {
   "cell_type": "code",
   "execution_count": 10,
   "id": "74565b10",
   "metadata": {},
   "outputs": [
    {
     "data": {
      "text/plain": [
       "(array([-2.,  5.]),\n",
       " array([[-0.70710678, -0.6       ],\n",
       "        [ 0.70710678, -0.8       ]]))"
      ]
     },
     "execution_count": 10,
     "metadata": {},
     "output_type": "execute_result"
    }
   ],
   "source": [
    "b = np.array([[1,3],[4,2]])\n",
    "\n",
    "np.linalg.eig(b)"
   ]
  },
  {
   "cell_type": "code",
   "execution_count": 11,
   "id": "cd70c16f",
   "metadata": {},
   "outputs": [
    {
     "name": "stdout",
     "output_type": "stream",
     "text": [
      "[-2.  5.] \n",
      "\n",
      "[[-0.70710678 -0.6       ]\n",
      " [ 0.70710678 -0.8       ]]\n"
     ]
    }
   ],
   "source": [
    "w,v = np.linalg.eig(b)\n",
    "\n",
    "print(w,'\\n')\n",
    "print(v)"
   ]
  },
  {
   "cell_type": "code",
   "execution_count": null,
   "id": "dcb74cc0",
   "metadata": {},
   "outputs": [],
   "source": []
  }
 ],
 "metadata": {
  "kernelspec": {
   "display_name": "Python 3 (ipykernel)",
   "language": "python",
   "name": "python3"
  },
  "language_info": {
   "codemirror_mode": {
    "name": "ipython",
    "version": 3
   },
   "file_extension": ".py",
   "mimetype": "text/x-python",
   "name": "python",
   "nbconvert_exporter": "python",
   "pygments_lexer": "ipython3",
   "version": "3.9.7"
  }
 },
 "nbformat": 4,
 "nbformat_minor": 5
}
