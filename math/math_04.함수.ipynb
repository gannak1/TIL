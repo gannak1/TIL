{
 "cells": [
  {
   "cell_type": "code",
   "execution_count": 1,
   "id": "8bbf3d15",
   "metadata": {},
   "outputs": [],
   "source": [
    "from sympy import Limit, S, Symbol"
   ]
  },
  {
   "cell_type": "code",
   "execution_count": 5,
   "id": "40b45823",
   "metadata": {},
   "outputs": [
    {
     "data": {
      "text/latex": [
       "$\\displaystyle 0$"
      ],
      "text/plain": [
       "0"
      ]
     },
     "execution_count": 5,
     "metadata": {},
     "output_type": "execute_result"
    }
   ],
   "source": [
    "# x 변수 생성, x가 0에 수렴\n",
    "# 1/x 에 대한 극한 값\n",
    "\n",
    "x = Symbol('x')\n",
    "Limit(1/x, x, S.Infinity).doit()"
   ]
  },
  {
   "cell_type": "code",
   "execution_count": 7,
   "id": "3e854671",
   "metadata": {},
   "outputs": [
    {
     "data": {
      "text/latex": [
       "$\\displaystyle \\infty$"
      ],
      "text/plain": [
       "oo"
      ]
     },
     "execution_count": 7,
     "metadata": {},
     "output_type": "execute_result"
    }
   ],
   "source": [
    "# 우극한 값 구하기\n",
    "Limit(1/x, x, 0).doit()"
   ]
  },
  {
   "cell_type": "code",
   "execution_count": 9,
   "id": "8533e88c",
   "metadata": {},
   "outputs": [
    {
     "data": {
      "text/latex": [
       "$\\displaystyle -\\infty$"
      ],
      "text/plain": [
       "-oo"
      ]
     },
     "execution_count": 9,
     "metadata": {},
     "output_type": "execute_result"
    }
   ],
   "source": [
    "# 좌극한 값 구하기\n",
    "Limit(1/x, x, 0, dir='-').doit()"
   ]
  },
  {
   "cell_type": "code",
   "execution_count": null,
   "id": "9c5149f5",
   "metadata": {},
   "outputs": [],
   "source": []
  }
 ],
 "metadata": {
  "kernelspec": {
   "display_name": "Python 3 (ipykernel)",
   "language": "python",
   "name": "python3"
  },
  "language_info": {
   "codemirror_mode": {
    "name": "ipython",
    "version": 3
   },
   "file_extension": ".py",
   "mimetype": "text/x-python",
   "name": "python",
   "nbconvert_exporter": "python",
   "pygments_lexer": "ipython3",
   "version": "3.9.7"
  }
 },
 "nbformat": 4,
 "nbformat_minor": 5
}
