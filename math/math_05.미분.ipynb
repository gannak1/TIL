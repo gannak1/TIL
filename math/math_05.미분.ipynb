{
 "cells": [
  {
   "cell_type": "code",
   "execution_count": 1,
   "id": "b36c5e24",
   "metadata": {},
   "outputs": [],
   "source": [
    "from sympy import symbols"
   ]
  },
  {
   "cell_type": "code",
   "execution_count": 33,
   "id": "47a872f6",
   "metadata": {},
   "outputs": [],
   "source": [
    "def average_max_min(a,b):\n",
    "    m = max(a,b)\n",
    "    n = min(a,b)\n",
    "    x = symbols('x')\n",
    "    \n",
    "    fx = 2*x**2+4*x+7# 2x^2+4x+7 함수 정의\n",
    "    fb=fx.subs(x,m) # 함수 m에 대입\n",
    "    fa=fx.subs(x,n)    # 함수 n에 대입\n",
    "    \n",
    "    result = (fb - fa) / (m-n)\n",
    "    return result"
   ]
  },
  {
   "cell_type": "code",
   "execution_count": 34,
   "id": "18aa4132",
   "metadata": {},
   "outputs": [],
   "source": [
    "# 평균 변화율 함수\n",
    "\n",
    "def average(a,b):\n",
    "    x = symbols('x')\n",
    "    \n",
    "    fx = 2*x**2+4*x+7# 2x^2+4x+7 함수 정의\n",
    "    fb=fx.subs(x,b) # 함수 m에 대입\n",
    "    fa=fx.subs(x,a)    # 함수 n에 대입\n",
    "    \n",
    "    result = (fb - fa) / (b-a)\n",
    "    return result"
   ]
  },
  {
   "cell_type": "code",
   "execution_count": 35,
   "id": "98d18c9b",
   "metadata": {},
   "outputs": [
    {
     "name": "stdout",
     "output_type": "stream",
     "text": [
      "8\n"
     ]
    }
   ],
   "source": [
    "print(average(2,0))"
   ]
  },
  {
   "cell_type": "code",
   "execution_count": 32,
   "id": "a85075e9",
   "metadata": {},
   "outputs": [
    {
     "name": "stdout",
     "output_type": "stream",
     "text": [
      "104\n"
     ]
    }
   ],
   "source": [
    "print(average(20,30))"
   ]
  },
  {
   "cell_type": "markdown",
   "id": "3ef37788",
   "metadata": {},
   "source": [
    "#### 순간변화율"
   ]
  },
  {
   "cell_type": "code",
   "execution_count": 10,
   "id": "7c7971cd",
   "metadata": {},
   "outputs": [],
   "source": [
    "from sympy import Derivative, symbols"
   ]
  },
  {
   "cell_type": "code",
   "execution_count": 11,
   "id": "bf08b5bb",
   "metadata": {},
   "outputs": [],
   "source": [
    "# 평균변화율을 구할 수 있는 함수를 정의\n",
    "\n",
    "x = symbols('x')\n",
    "fx = 2*x**2+4*x+7"
   ]
  },
  {
   "cell_type": "code",
   "execution_count": 12,
   "id": "6f6fce03",
   "metadata": {},
   "outputs": [
    {
     "data": {
      "text/latex": [
       "$\\displaystyle 4 x + 4$"
      ],
      "text/plain": [
       "4*x + 4"
      ]
     },
     "execution_count": 12,
     "metadata": {},
     "output_type": "execute_result"
    }
   ],
   "source": [
    "Derivative(fx,x).doit()"
   ]
  },
  {
   "cell_type": "code",
   "execution_count": 13,
   "id": "0612fb4e",
   "metadata": {},
   "outputs": [],
   "source": [
    "f_prime = Derivative(fx,x).doit()"
   ]
  },
  {
   "cell_type": "code",
   "execution_count": 14,
   "id": "b318b37d",
   "metadata": {},
   "outputs": [
    {
     "data": {
      "text/latex": [
       "$\\displaystyle 16$"
      ],
      "text/plain": [
       "16"
      ]
     },
     "execution_count": 14,
     "metadata": {},
     "output_type": "execute_result"
    }
   ],
   "source": [
    "f_prime.subs({x:3}) # 미분계수 f_prime 3"
   ]
  },
  {
   "cell_type": "markdown",
   "id": "6d3450b5",
   "metadata": {},
   "source": [
    "#### 다항함수의 미분법"
   ]
  },
  {
   "cell_type": "code",
   "execution_count": 15,
   "id": "a480bf3e",
   "metadata": {},
   "outputs": [],
   "source": [
    "import sympy as sym"
   ]
  },
  {
   "cell_type": "code",
   "execution_count": 16,
   "id": "cbc41f08",
   "metadata": {},
   "outputs": [
    {
     "name": "stdout",
     "output_type": "stream",
     "text": [
      "6*x**2 + 6*x + 1\n"
     ]
    }
   ],
   "source": [
    "x = sym.Symbol('x')\n",
    "a = sym.diff((2*x**3+3*x**2+x+1),x)\n",
    "print(a)"
   ]
  },
  {
   "cell_type": "code",
   "execution_count": 17,
   "id": "28f19c5d",
   "metadata": {},
   "outputs": [],
   "source": [
    "sym.diff"
   ]
  },
  {
   "cell_type": "code",
   "execution_count": null,
   "id": "049dba8d",
   "metadata": {},
   "outputs": [],
   "source": []
  }
 ],
 "metadata": {
  "kernelspec": {
   "display_name": "Python 3 (ipykernel)",
   "language": "python",
   "name": "python3"
  },
  "language_info": {
   "codemirror_mode": {
    "name": "ipython",
    "version": 3
   },
   "file_extension": ".py",
   "mimetype": "text/x-python",
   "name": "python",
   "nbconvert_exporter": "python",
   "pygments_lexer": "ipython3",
   "version": "3.9.7"
  }
 },
 "nbformat": 4,
 "nbformat_minor": 5
}
