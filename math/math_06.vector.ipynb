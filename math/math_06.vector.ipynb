{
 "cells": [
  {
   "cell_type": "code",
   "execution_count": 3,
   "id": "3e1b7a18",
   "metadata": {},
   "outputs": [
    {
     "name": "stdout",
     "output_type": "stream",
     "text": [
      "[1 2 3]\n"
     ]
    }
   ],
   "source": [
    "import numpy as np\n",
    "\n",
    "x = np.array([1,2,3])\n",
    "print(x)"
   ]
  },
  {
   "cell_type": "code",
   "execution_count": 4,
   "id": "d0cac37b",
   "metadata": {},
   "outputs": [
    {
     "data": {
      "text/plain": [
       "array([[1, 2, 3]])"
      ]
     },
     "execution_count": 4,
     "metadata": {},
     "output_type": "execute_result"
    }
   ],
   "source": [
    "# 크기가 (1,3)인 2차원\n",
    "np.array([[1,2,3]])"
   ]
  },
  {
   "cell_type": "code",
   "execution_count": 6,
   "id": "dfa203f5",
   "metadata": {},
   "outputs": [
    {
     "data": {
      "text/plain": [
       "array([[1],\n",
       "       [2],\n",
       "       [3]])"
      ]
     },
     "execution_count": 6,
     "metadata": {},
     "output_type": "execute_result"
    }
   ],
   "source": [
    "# 크기가 (1,3)인 2차원\n",
    "np.array([[1],[2],[3]])"
   ]
  },
  {
   "cell_type": "code",
   "execution_count": 11,
   "id": "2e480720",
   "metadata": {},
   "outputs": [],
   "source": [
    "from scipy import linalg # linear algebra 코드 (선형 방정식)\n",
    "s = np.array([2,3,1])"
   ]
  },
  {
   "cell_type": "code",
   "execution_count": 12,
   "id": "86f7f10e",
   "metadata": {},
   "outputs": [
    {
     "data": {
      "text/plain": [
       "array([0.53452248, 0.80178373, 0.26726124])"
      ]
     },
     "execution_count": 12,
     "metadata": {},
     "output_type": "execute_result"
    }
   ],
   "source": [
    "# 단위 벡터\n",
    "\n",
    "s / linalg.norm(s)"
   ]
  },
  {
   "cell_type": "code",
   "execution_count": 13,
   "id": "1831cdfb",
   "metadata": {},
   "outputs": [
    {
     "data": {
      "text/plain": [
       "array([ 0.31622777, -0.9486833 ])"
      ]
     },
     "execution_count": 13,
     "metadata": {},
     "output_type": "execute_result"
    }
   ],
   "source": [
    "x = np.array([1,-3])\n",
    "x / linalg.norm(x)"
   ]
  },
  {
   "cell_type": "code",
   "execution_count": 14,
   "id": "34ac9b05",
   "metadata": {},
   "outputs": [
    {
     "data": {
      "text/plain": [
       "array([ 0.31622777, -0.9486833 ])"
      ]
     },
     "execution_count": 14,
     "metadata": {},
     "output_type": "execute_result"
    }
   ],
   "source": [
    "# Norm 2\n",
    "x / (x**2).sum()**0.5"
   ]
  },
  {
   "cell_type": "code",
   "execution_count": null,
   "id": "eadd2dff",
   "metadata": {},
   "outputs": [],
   "source": [
    "# 영벡터 (zeros())"
   ]
  },
  {
   "cell_type": "code",
   "execution_count": 15,
   "id": "7e9950f9",
   "metadata": {},
   "outputs": [
    {
     "data": {
      "text/plain": [
       "array([0., 0., 0., 0., 0.])"
      ]
     },
     "execution_count": 15,
     "metadata": {},
     "output_type": "execute_result"
    }
   ],
   "source": [
    "np.zeros(5) # 실수로 반환"
   ]
  },
  {
   "cell_type": "code",
   "execution_count": 16,
   "id": "e93f76b5",
   "metadata": {},
   "outputs": [
    {
     "data": {
      "text/plain": [
       "(5,)"
      ]
     },
     "execution_count": 16,
     "metadata": {},
     "output_type": "execute_result"
    }
   ],
   "source": [
    "np.zeros(5).shape"
   ]
  },
  {
   "cell_type": "code",
   "execution_count": 17,
   "id": "1682a329",
   "metadata": {},
   "outputs": [
    {
     "data": {
      "text/plain": [
       "array([[0., 0.],\n",
       "       [0., 0.]])"
      ]
     },
     "execution_count": 17,
     "metadata": {},
     "output_type": "execute_result"
    }
   ],
   "source": [
    "s = (2,2)\n",
    "np.zeros(s)"
   ]
  },
  {
   "cell_type": "code",
   "execution_count": 20,
   "id": "54e98274",
   "metadata": {},
   "outputs": [
    {
     "data": {
      "text/plain": [
       "2"
      ]
     },
     "execution_count": 20,
     "metadata": {},
     "output_type": "execute_result"
    }
   ],
   "source": [
    "# 선형 독립, 선형 중첩\n",
    "# Rank\n",
    "\n",
    "# matrix_rank()\n",
    "\n",
    "x=np.array([[2,7],[5,1]])\n",
    "np.linalg.matrix_rank(x)"
   ]
  },
  {
   "cell_type": "code",
   "execution_count": 22,
   "id": "a2e009a2",
   "metadata": {},
   "outputs": [
    {
     "data": {
      "text/plain": [
       "1"
      ]
     },
     "execution_count": 22,
     "metadata": {},
     "output_type": "execute_result"
    }
   ],
   "source": [
    "x_2=np.array([[2,4],[3,6]])\n",
    "np.linalg.matrix_rank(x_2)"
   ]
  },
  {
   "cell_type": "code",
   "execution_count": 23,
   "id": "6d1e602d",
   "metadata": {},
   "outputs": [
    {
     "data": {
      "text/plain": [
       "2"
      ]
     },
     "execution_count": 23,
     "metadata": {},
     "output_type": "execute_result"
    }
   ],
   "source": [
    "x3 = np.array([[1,2],[3,5]])\n",
    "np.linalg.matrix_rank(x3)"
   ]
  },
  {
   "cell_type": "code",
   "execution_count": 26,
   "id": "18b4675d",
   "metadata": {
    "scrolled": true
   },
   "outputs": [
    {
     "name": "stdout",
     "output_type": "stream",
     "text": [
      "[5, 4]\n"
     ]
    }
   ],
   "source": [
    "# 벡터의 내적과 외적\n",
    "\n",
    "x = [2,3]\n",
    "y = [3,1]\n",
    "\n",
    "# 벡터의 덧셈,뺼셈(zip 함수 활용)\n",
    "\n",
    "z = [i + j for i,j in zip(x,y)] # 각각의 값을 더해서 반환\n",
    "print(z)"
   ]
  },
  {
   "cell_type": "code",
   "execution_count": 33,
   "id": "112e4361",
   "metadata": {
    "scrolled": true
   },
   "outputs": [
    {
     "name": "stdout",
     "output_type": "stream",
     "text": [
      "[-1, 2]\n"
     ]
    }
   ],
   "source": [
    "z_2 = [i - j for i,j in zip(x,y)]\n",
    "print(z_2)"
   ]
  },
  {
   "cell_type": "code",
   "execution_count": 34,
   "id": "3652cf86",
   "metadata": {},
   "outputs": [
    {
     "name": "stdout",
     "output_type": "stream",
     "text": [
      "[24, 32]\n"
     ]
    }
   ],
   "source": [
    "# 벡터의 곱셈(inner product, outer product)\n",
    "\n",
    "x = [3,4]\n",
    "c = 8\n",
    "\n",
    "z =[c * i for i in x]\n",
    "print(z)"
   ]
  },
  {
   "cell_type": "code",
   "execution_count": 36,
   "id": "b9bfeea2",
   "metadata": {},
   "outputs": [
    {
     "data": {
      "text/plain": [
       "72"
      ]
     },
     "execution_count": 36,
     "metadata": {},
     "output_type": "execute_result"
    }
   ],
   "source": [
    "# 내적 (inner product)\n",
    "u = np.array([6,6])\n",
    "v = np.array([12,0])\n",
    "np.dot(u,v) # 스칼라로 나옴"
   ]
  },
  {
   "cell_type": "code",
   "execution_count": 27,
   "id": "f3a895ca",
   "metadata": {},
   "outputs": [
    {
     "data": {
      "text/plain": [
       "[(1, 4), (2, 5), (3, 6)]"
      ]
     },
     "execution_count": 27,
     "metadata": {},
     "output_type": "execute_result"
    }
   ],
   "source": [
    "# zip 함수\n",
    "\n",
    "list(zip([1,2,3],[4,5,6]))"
   ]
  },
  {
   "cell_type": "code",
   "execution_count": 28,
   "id": "4fffd867",
   "metadata": {},
   "outputs": [
    {
     "data": {
      "text/plain": [
       "[(1, 4, 7), (2, 5, 8), (3, 6, 9)]"
      ]
     },
     "execution_count": 28,
     "metadata": {},
     "output_type": "execute_result"
    }
   ],
   "source": [
    "list(zip([1,2,3],[4,5,6],[7,8,9]))"
   ]
  },
  {
   "cell_type": "code",
   "execution_count": 7,
   "id": "52c91f4f",
   "metadata": {},
   "outputs": [],
   "source": [
    "# 벡터의 내적 원리\n",
    "\n",
    "import numpy as np\n",
    "\n",
    "A = np.arange(1*2*3).reshape((1,2,3))\n",
    "B1 = np.arange(1*2*3).reshape((1,2,3))\n",
    "B2 = np.arange(1*2*3).reshape((1,3,2))\n",
    "B3 = np.arange(1*2*3).reshape((2,1,3))\n",
    "B4 = np.arange(1*2*3).reshape((2,3,1))\n",
    "B5 = np.arange(1*2*3).reshape((3,1,2))\n",
    "B6 = np.arange(1*2*3).reshape((3,2,1))"
   ]
  },
  {
   "cell_type": "code",
   "execution_count": 8,
   "id": "55f8d8f9",
   "metadata": {},
   "outputs": [
    {
     "ename": "AttributeError",
     "evalue": "module 'numpy' has no attribute 'dpt'",
     "output_type": "error",
     "traceback": [
      "\u001b[1;31m---------------------------------------------------------------------------\u001b[0m",
      "\u001b[1;31mAttributeError\u001b[0m                            Traceback (most recent call last)",
      "\u001b[1;32m~\\AppData\\Local\\Temp/ipykernel_17164/3679747840.py\u001b[0m in \u001b[0;36m<module>\u001b[1;34m\u001b[0m\n\u001b[1;32m----> 1\u001b[1;33m \u001b[0mnp\u001b[0m\u001b[1;33m.\u001b[0m\u001b[0mdpt\u001b[0m\u001b[1;33m(\u001b[0m\u001b[0mA\u001b[0m\u001b[1;33m,\u001b[0m\u001b[0mB1\u001b[0m\u001b[1;33m)\u001b[0m\u001b[1;33m\u001b[0m\u001b[1;33m\u001b[0m\u001b[0m\n\u001b[0m",
      "\u001b[1;32mC:\\ProgramData\\Anaconda3\\lib\\site-packages\\numpy\\__init__.py\u001b[0m in \u001b[0;36m__getattr__\u001b[1;34m(attr)\u001b[0m\n\u001b[0;32m    301\u001b[0m                 \u001b[1;32mreturn\u001b[0m \u001b[0mTester\u001b[0m\u001b[1;33m\u001b[0m\u001b[1;33m\u001b[0m\u001b[0m\n\u001b[0;32m    302\u001b[0m \u001b[1;33m\u001b[0m\u001b[0m\n\u001b[1;32m--> 303\u001b[1;33m             raise AttributeError(\"module {!r} has no attribute \"\n\u001b[0m\u001b[0;32m    304\u001b[0m                                  \"{!r}\".format(__name__, attr))\n\u001b[0;32m    305\u001b[0m \u001b[1;33m\u001b[0m\u001b[0m\n",
      "\u001b[1;31mAttributeError\u001b[0m: module 'numpy' has no attribute 'dpt'"
     ]
    }
   ],
   "source": [
    "#np.dot(A,B1) # value error 발생"
   ]
  },
  {
   "cell_type": "code",
   "execution_count": 12,
   "id": "3d3ccab6",
   "metadata": {},
   "outputs": [
    {
     "data": {
      "text/plain": [
       "array([[[[10, 13]],\n",
       "\n",
       "        [[28, 40]]]])"
      ]
     },
     "execution_count": 12,
     "metadata": {},
     "output_type": "execute_result"
    }
   ],
   "source": [
    "np.dot(A,B2) # 유효"
   ]
  },
  {
   "cell_type": "code",
   "execution_count": 13,
   "id": "be0c29e9",
   "metadata": {},
   "outputs": [
    {
     "ename": "ValueError",
     "evalue": "shapes (1,2,3) and (2,1,3) not aligned: 3 (dim 2) != 1 (dim 1)",
     "output_type": "error",
     "traceback": [
      "\u001b[1;31m---------------------------------------------------------------------------\u001b[0m",
      "\u001b[1;31mValueError\u001b[0m                                Traceback (most recent call last)",
      "\u001b[1;32m~\\AppData\\Local\\Temp/ipykernel_17164/4080142133.py\u001b[0m in \u001b[0;36m<module>\u001b[1;34m\u001b[0m\n\u001b[1;32m----> 1\u001b[1;33m \u001b[0mnp\u001b[0m\u001b[1;33m.\u001b[0m\u001b[0mdot\u001b[0m\u001b[1;33m(\u001b[0m\u001b[0mA\u001b[0m\u001b[1;33m,\u001b[0m\u001b[0mB3\u001b[0m\u001b[1;33m)\u001b[0m \u001b[1;31m# value error 발생\u001b[0m\u001b[1;33m\u001b[0m\u001b[1;33m\u001b[0m\u001b[0m\n\u001b[0m",
      "\u001b[1;32m<__array_function__ internals>\u001b[0m in \u001b[0;36mdot\u001b[1;34m(*args, **kwargs)\u001b[0m\n",
      "\u001b[1;31mValueError\u001b[0m: shapes (1,2,3) and (2,1,3) not aligned: 3 (dim 2) != 1 (dim 1)"
     ]
    }
   ],
   "source": [
    "#np.dot(A,B3) # value error 발생"
   ]
  },
  {
   "cell_type": "code",
   "execution_count": 14,
   "id": "11dc3014",
   "metadata": {},
   "outputs": [
    {
     "data": {
      "text/plain": [
       "array([[[[ 5],\n",
       "         [14]],\n",
       "\n",
       "        [[14],\n",
       "         [50]]]])"
      ]
     },
     "execution_count": 14,
     "metadata": {},
     "output_type": "execute_result"
    }
   ],
   "source": [
    "np.dot(A,B4) # 유효"
   ]
  },
  {
   "cell_type": "code",
   "execution_count": 15,
   "id": "dc20d33d",
   "metadata": {},
   "outputs": [
    {
     "ename": "ValueError",
     "evalue": "shapes (1,2,3) and (3,1,2) not aligned: 3 (dim 2) != 1 (dim 1)",
     "output_type": "error",
     "traceback": [
      "\u001b[1;31m---------------------------------------------------------------------------\u001b[0m",
      "\u001b[1;31mValueError\u001b[0m                                Traceback (most recent call last)",
      "\u001b[1;32m~\\AppData\\Local\\Temp/ipykernel_17164/1665170059.py\u001b[0m in \u001b[0;36m<module>\u001b[1;34m\u001b[0m\n\u001b[1;32m----> 1\u001b[1;33m \u001b[0mnp\u001b[0m\u001b[1;33m.\u001b[0m\u001b[0mdot\u001b[0m\u001b[1;33m(\u001b[0m\u001b[0mA\u001b[0m\u001b[1;33m,\u001b[0m\u001b[0mB5\u001b[0m\u001b[1;33m)\u001b[0m \u001b[1;31m# value error 발생\u001b[0m\u001b[1;33m\u001b[0m\u001b[1;33m\u001b[0m\u001b[0m\n\u001b[0m",
      "\u001b[1;32m<__array_function__ internals>\u001b[0m in \u001b[0;36mdot\u001b[1;34m(*args, **kwargs)\u001b[0m\n",
      "\u001b[1;31mValueError\u001b[0m: shapes (1,2,3) and (3,1,2) not aligned: 3 (dim 2) != 1 (dim 1)"
     ]
    }
   ],
   "source": [
    "#np.dot(A,B5) # value error 발생"
   ]
  },
  {
   "cell_type": "code",
   "execution_count": 16,
   "id": "7c260170",
   "metadata": {},
   "outputs": [
    {
     "ename": "ValueError",
     "evalue": "shapes (1,2,3) and (3,2,1) not aligned: 3 (dim 2) != 2 (dim 1)",
     "output_type": "error",
     "traceback": [
      "\u001b[1;31m---------------------------------------------------------------------------\u001b[0m",
      "\u001b[1;31mValueError\u001b[0m                                Traceback (most recent call last)",
      "\u001b[1;32m~\\AppData\\Local\\Temp/ipykernel_17164/1608734152.py\u001b[0m in \u001b[0;36m<module>\u001b[1;34m\u001b[0m\n\u001b[1;32m----> 1\u001b[1;33m \u001b[0mnp\u001b[0m\u001b[1;33m.\u001b[0m\u001b[0mdot\u001b[0m\u001b[1;33m(\u001b[0m\u001b[0mA\u001b[0m\u001b[1;33m,\u001b[0m\u001b[0mB6\u001b[0m\u001b[1;33m)\u001b[0m \u001b[1;31m# value error 발생\u001b[0m\u001b[1;33m\u001b[0m\u001b[1;33m\u001b[0m\u001b[0m\n\u001b[0m",
      "\u001b[1;32m<__array_function__ internals>\u001b[0m in \u001b[0;36mdot\u001b[1;34m(*args, **kwargs)\u001b[0m\n",
      "\u001b[1;31mValueError\u001b[0m: shapes (1,2,3) and (3,2,1) not aligned: 3 (dim 2) != 2 (dim 1)"
     ]
    }
   ],
   "source": [
    "#np.dot(A,B6) # value error 발생"
   ]
  },
  {
   "cell_type": "code",
   "execution_count": 19,
   "id": "a304bf76",
   "metadata": {},
   "outputs": [
    {
     "name": "stdout",
     "output_type": "stream",
     "text": [
      "-75\n"
     ]
    }
   ],
   "source": [
    "import numpy as np\n",
    "\n",
    "u = np.array([3,-6])\n",
    "v = np.array([-7,9])\n",
    "uv = np.dot(u,v)\n",
    "print(uv)"
   ]
  },
  {
   "cell_type": "code",
   "execution_count": 24,
   "id": "1ede2f8d",
   "metadata": {},
   "outputs": [],
   "source": [
    "#  외적(cross() 함수 적용)\n",
    "\n",
    "a = (1,3,5)\n",
    "b = (2,4,6)\n",
    "\n",
    "def cross(a,b):\n",
    "    c = [a[1]*b[2]-a[2]*b[1],\n",
    "         a[2]*b[0]-a[0]*b[2],\n",
    "         a[0]*b[1]-a[1]*b[0]]\n",
    "    return c"
   ]
  },
  {
   "cell_type": "code",
   "execution_count": 25,
   "id": "b520edd2",
   "metadata": {},
   "outputs": [
    {
     "data": {
      "text/plain": [
       "[-2, 4, -2]"
      ]
     },
     "execution_count": 25,
     "metadata": {},
     "output_type": "execute_result"
    }
   ],
   "source": [
    "cross(a,b)"
   ]
  },
  {
   "cell_type": "code",
   "execution_count": 28,
   "id": "362c0732",
   "metadata": {},
   "outputs": [
    {
     "name": "stdout",
     "output_type": "stream",
     "text": [
      "[-2  4 -2]\n"
     ]
    }
   ],
   "source": [
    "# numpy 이용 외적 구하기\n",
    "import numpy as np\n",
    "\n",
    "print(np.cross(a,b))"
   ]
  },
  {
   "cell_type": "code",
   "execution_count": 29,
   "id": "b4c1e854",
   "metadata": {},
   "outputs": [
    {
     "name": "stdout",
     "output_type": "stream",
     "text": [
      "[1 2]\n"
     ]
    }
   ],
   "source": [
    "# 직교 벡터\n",
    "import numpy as np\n",
    "\n",
    "# 크기가 (1,2)인 2차원 배열\n",
    "\n",
    "a = np.array([1,2])\n",
    "print(a)\n"
   ]
  },
  {
   "cell_type": "code",
   "execution_count": 30,
   "id": "31f3265a",
   "metadata": {},
   "outputs": [
    {
     "data": {
      "text/plain": [
       "2.23606797749979"
      ]
     },
     "execution_count": 30,
     "metadata": {},
     "output_type": "execute_result"
    }
   ],
   "source": [
    "np.linalg.norm(a) # a의 길이를 단위벡터로"
   ]
  },
  {
   "cell_type": "code",
   "execution_count": 31,
   "id": "2f4b4183",
   "metadata": {},
   "outputs": [
    {
     "data": {
      "text/plain": [
       "3.0"
      ]
     },
     "execution_count": 31,
     "metadata": {},
     "output_type": "execute_result"
    }
   ],
   "source": [
    "# L1 norm\n",
    "\n",
    "np.linalg.norm(a,ord=1) # |1| + |2|"
   ]
  },
  {
   "cell_type": "code",
   "execution_count": 32,
   "id": "93e42534",
   "metadata": {},
   "outputs": [
    {
     "data": {
      "text/plain": [
       "2.23606797749979"
      ]
     },
     "execution_count": 32,
     "metadata": {},
     "output_type": "execute_result"
    }
   ],
   "source": [
    "# L2 norm\n",
    "\n",
    "np.linalg.norm(a,ord=2) # |1| + |2| -> default"
   ]
  },
  {
   "cell_type": "code",
   "execution_count": 36,
   "id": "f2d0fa05",
   "metadata": {},
   "outputs": [
    {
     "data": {
      "text/plain": [
       "5.196152422706632"
      ]
     },
     "execution_count": 36,
     "metadata": {},
     "output_type": "execute_result"
    }
   ],
   "source": [
    "# 유클리디언 거리 구하기 #stats 통계모델\n",
    "\n",
    "from scipy.spatial import distance\n",
    "\n",
    "p1 = (1,2,3)\n",
    "p2 = (4,5,6)\n",
    "\n",
    "# p1, p2 사이 유클리디언 거리\n",
    "\n",
    "distance.euclidean(p1,p2)"
   ]
  },
  {
   "cell_type": "code",
   "execution_count": 37,
   "id": "88b7032b",
   "metadata": {},
   "outputs": [],
   "source": [
    "# 맨해튼  거리\n",
    "\n",
    "from math import *\n",
    "\n",
    "p1 = (1,2,3)\n",
    "p2 = (4,5,6)\n",
    "\n",
    "# p1, p2 사이 맨해튼 거리\n",
    "\n",
    "def manhathan_dis(x,y):\n",
    "    return sum(abs(a-b) for a,b in zip(x,y))"
   ]
  },
  {
   "cell_type": "code",
   "execution_count": 39,
   "id": "0310f5b4",
   "metadata": {},
   "outputs": [
    {
     "data": {
      "text/plain": [
       "9"
      ]
     },
     "execution_count": 39,
     "metadata": {},
     "output_type": "execute_result"
    }
   ],
   "source": [
    "manhathan_dis(p1,p2)"
   ]
  },
  {
   "cell_type": "code",
   "execution_count": 46,
   "id": "db35c8eb",
   "metadata": {},
   "outputs": [],
   "source": [
    "# 코사인 유사도 - 문서 유사도\n",
    "\n",
    "from numpy import dot\n",
    "from numpy.linalg import norm\n",
    "import numpy as np\n",
    "\n",
    "def cos_sim(A,B):\n",
    "    return dot(A,B)/(norm(A) * norm(B))"
   ]
  },
  {
   "cell_type": "code",
   "execution_count": 43,
   "id": "959ed50e",
   "metadata": {},
   "outputs": [],
   "source": [
    "doc1 = np.array([1,1,1,1,0])\n",
    "doc2 = np.array([1,0,1,0,1])\n",
    "doc3 = np.array([2,1,1,1,1])"
   ]
  },
  {
   "cell_type": "code",
   "execution_count": 62,
   "id": "b8b2406b",
   "metadata": {},
   "outputs": [
    {
     "name": "stdout",
     "output_type": "stream",
     "text": [
      "1.0\n",
      "0.5773502691896258\n",
      "0.8838834764831843\n",
      "0.5773502691896258\n",
      "1.0000000000000002\n",
      "0.8164965809277259\n",
      "0.8838834764831843\n",
      "0.8164965809277259\n",
      "0.9999999999999998\n"
     ]
    }
   ],
   "source": [
    "# 코사인 함수에 따라 문서 간 유사도 출력하기\n",
    "a = [doc1,doc2,doc3]\n",
    "n = 0\n",
    "m = 0\n",
    "for i in a:\n",
    "    for j in a:\n",
    "        print(cos_sim(i,j))"
   ]
  },
  {
   "cell_type": "code",
   "execution_count": null,
   "id": "15a7681f",
   "metadata": {},
   "outputs": [],
   "source": []
  }
 ],
 "metadata": {
  "kernelspec": {
   "display_name": "Python 3 (ipykernel)",
   "language": "python",
   "name": "python3"
  },
  "language_info": {
   "codemirror_mode": {
    "name": "ipython",
    "version": 3
   },
   "file_extension": ".py",
   "mimetype": "text/x-python",
   "name": "python",
   "nbconvert_exporter": "python",
   "pygments_lexer": "ipython3",
   "version": "3.9.7"
  }
 },
 "nbformat": 4,
 "nbformat_minor": 5
}
